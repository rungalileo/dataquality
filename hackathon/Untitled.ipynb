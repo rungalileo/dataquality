{
 "cells": [
  {
   "cell_type": "code",
   "execution_count": 1,
   "id": "6bafa0b2-c3d4-4b9b-bb06-716fe907e353",
   "metadata": {},
   "outputs": [],
   "source": [
    "import os\n",
    "os.environ['GALILEO_CONSOLE_URL']=\"http://localhost:8088\""
   ]
  },
  {
   "cell_type": "code",
   "execution_count": 2,
   "id": "aa26fc1e-4e46-47ca-a34d-0209c8196871",
   "metadata": {},
   "outputs": [],
   "source": [
    "import dataquality"
   ]
  },
  {
   "cell_type": "code",
   "execution_count": 3,
   "id": "f5de2b17-2505-4226-9d18-390659660b4b",
   "metadata": {},
   "outputs": [],
   "source": [
    "import requests\n",
    "\n",
    "pwd = \"MyPassword!123\"\n",
    "\n",
    "data={\n",
    "  \"email\": \"me@rungalileo.io\",\n",
    "  \"first_name\": \"Me\",\n",
    "  \"last_name\": \"Me\",\n",
    "  \"username\": \"Galileo\",\n",
    "  \"auth_method\": \"email\",\n",
    "  \"password\": pwd\n",
    "}\n",
    "\n",
    "# This will silently fail with a requests status code of 400 if admin is already set\n",
    "r = requests.post(f'{dataquality.config.api_url}/users/admin', json=data)\n",
    "\n",
    "import os\n",
    "os.environ[\"GALILEO_USERNAME\"]=\"me@rungalileo.io\"\n",
    "os.environ[\"GALILEO_PASSWORD\"]=pwd"
   ]
  },
  {
   "cell_type": "code",
   "execution_count": 4,
   "id": "3a445fcc-24f7-4bf7-ad12-417755407a7c",
   "metadata": {},
   "outputs": [],
   "source": [
    "details = {\n",
    "    \"epochs\": 10,\n",
    "    \"learning_rate\": 0.001,\n",
    "    \"optim\": \"adam\",\n",
    "    \"ben\": \"isagenius\"\n",
    "}"
   ]
  },
  {
   "cell_type": "code",
   "execution_count": 5,
   "id": "7f06f226-250f-4517-9d0f-f2437a811ddd",
   "metadata": {},
   "outputs": [
    {
     "name": "stdout",
     "output_type": "stream",
     "text": [
      "💭 Project gonzaga was not found.\n",
      "✨ Initializing public project gonzaga\n",
      "🏃‍♂️ Starting run duke\n",
      "🛰 Created project, gonzaga, and new run, duke.\n"
     ]
    }
   ],
   "source": [
    "dataquality.init(\n",
    "    task_type=\"text_classification\",\n",
    "    project_name=\"gonzaga\",\n",
    "    run_name=\"duke\",\n",
    "    model_params=details\n",
    ")"
   ]
  },
  {
   "cell_type": "code",
   "execution_count": 8,
   "id": "1f9f1397-1c98-4a74-820b-5143ce913597",
   "metadata": {},
   "outputs": [],
   "source": [
    "dataquality.log_model_metrics(\n",
    "    metrics={\"loss\": 1.3, \"acc\": 0.83},\n",
    "    split=\"test\"\n",
    ")"
   ]
  },
  {
   "cell_type": "code",
   "execution_count": 9,
   "id": "cea0fd84-1f6d-46c5-a820-4902daf128ca",
   "metadata": {},
   "outputs": [],
   "source": [
    "dataquality.log_model_metrics(\n",
    "    metrics={\"loss\": 1.25, \"acc\": 0.85},\n",
    "    split=\"test\"\n",
    ")"
   ]
  },
  {
   "cell_type": "code",
   "execution_count": 10,
   "id": "4f04b9d4-6166-40f2-a548-8a4a00201bb1",
   "metadata": {},
   "outputs": [],
   "source": [
    "dataquality.log_model_metrics(\n",
    "    metrics={\"loss\": 1.13, \"acc\": 0.87},\n",
    "    split=\"test\"\n",
    ")"
   ]
  },
  {
   "cell_type": "code",
   "execution_count": null,
   "id": "7dc03baf-e589-4f87-b0f7-08ae8c17a073",
   "metadata": {},
   "outputs": [],
   "source": []
  },
  {
   "cell_type": "code",
   "execution_count": null,
   "id": "a87f4f5b-3018-46ac-ba18-aa92946a981f",
   "metadata": {},
   "outputs": [],
   "source": []
  }
 ],
 "metadata": {
  "kernelspec": {
   "display_name": "Python 3 (ipykernel)",
   "language": "python",
   "name": "python3"
  },
  "language_info": {
   "codemirror_mode": {
    "name": "ipython",
    "version": 3
   },
   "file_extension": ".py",
   "mimetype": "text/x-python",
   "name": "python",
   "nbconvert_exporter": "python",
   "pygments_lexer": "ipython3",
   "version": "3.9.6"
  }
 },
 "nbformat": 4,
 "nbformat_minor": 5
}
