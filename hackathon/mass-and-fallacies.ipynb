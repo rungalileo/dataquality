{
 "cells": [
  {
   "cell_type": "code",
   "execution_count": 6,
   "id": "6bafa0b2-c3d4-4b9b-bb06-716fe907e353",
   "metadata": {},
   "outputs": [],
   "source": [
    "import os\n",
    "os.environ['GALILEO_CONSOLE_URL']=\"http://localhost:8088\""
   ]
  },
  {
   "cell_type": "code",
   "execution_count": 2,
   "id": "aa26fc1e-4e46-47ca-a34d-0209c8196871",
   "metadata": {},
   "outputs": [],
   "source": [
    "import dataquality"
   ]
  },
  {
   "cell_type": "code",
   "execution_count": 3,
   "id": "f5de2b17-2505-4226-9d18-390659660b4b",
   "metadata": {},
   "outputs": [],
   "source": [
    "import requests\n",
    "\n",
    "pwd = \"MyPassword!123\"\n",
    "\n",
    "data={\n",
    "  \"email\": \"me@rungalileo.io\",\n",
    "  \"first_name\": \"Me\",\n",
    "  \"last_name\": \"Me\",\n",
    "  \"username\": \"Galileo\",\n",
    "  \"auth_method\": \"email\",\n",
    "  \"password\": pwd\n",
    "}\n",
    "\n",
    "# This will silently fail with a requests status code of 400 if admin is already set\n",
    "r = requests.post(f'{dataquality.config.api_url}/users/admin', json=data)\n",
    "\n",
    "import os\n",
    "os.environ[\"GALILEO_USERNAME\"]=\"me@rungalileo.io\"\n",
    "os.environ[\"GALILEO_PASSWORD\"]=pwd"
   ]
  },
  {
   "cell_type": "code",
   "execution_count": 4,
   "id": "63cc08c2-2934-4f95-8638-4fd71c3e3a43",
   "metadata": {},
   "outputs": [],
   "source": [
    "import json\n",
    "\n",
    "def open_json(path):\n",
    "    f = open(path)\n",
    "    return json.load(f)\n",
    "\n",
    "train_data = open_json(\"hackathon_fake_train_metrics.json\")\n",
    "val_data = open_json(\"hackathon_fake_val_metrics.json\")"
   ]
  },
  {
   "cell_type": "markdown",
   "id": "f5589352-1f7f-4605-ba78-3870efdb744b",
   "metadata": {},
   "source": [
    "## New\n",
    "\n",
    "Pass in model parameters during run initialization"
   ]
  },
  {
   "cell_type": "code",
   "execution_count": 5,
   "id": "7f06f226-250f-4517-9d0f-f2437a811ddd",
   "metadata": {
    "tags": []
   },
   "outputs": [
    {
     "name": "stdout",
     "output_type": "stream",
     "text": [
      "📡 Retrieving run from existing project, live-demo\n",
      "🏃‍♂️ Starting run live-mandf\n",
      "🛰 Connected to project, live-demo and created new run, live-mandf.\n"
     ]
    }
   ],
   "source": [
    "## NEW\n",
    "details = {\n",
    "    \"Epochs\": 10,\n",
    "    \"Batch Size\": 50,\n",
    "    \"Optim\": \"Adam\",\n",
    "    \"Model Architecture\": \"Generative Adverserial Imitation Transformer\",\n",
    "}\n",
    "\n",
    "dataquality.init(\n",
    "    task_type=\"text_classification\",\n",
    "    project_name=\"live-demo\",\n",
    "    run_name=\"live-mandf\",\n",
    "    model_params=details\n",
    ")"
   ]
  },
  {
   "cell_type": "markdown",
   "id": "a17c1a6f-36a3-442e-8532-a707955c9ca0",
   "metadata": {},
   "source": [
    "## New\n",
    "\n",
    "```python\n",
    "metrics = {\n",
    "    \"loss\": 3.14,\n",
    "    \"acc\": 0.95\n",
    "}\n",
    "dataquality.log_model_metrics(metrics=metrics, split=\"training\")\n",
    "````"
   ]
  },
  {
   "cell_type": "code",
   "execution_count": 8,
   "id": "1f9f1397-1c98-4a74-820b-5143ce913597",
   "metadata": {},
   "outputs": [],
   "source": [
    "from tqdm.notebook import tqdm\n",
    "import time\n",
    "\n",
    "def fake_forward_and_backprop(secs=2):\n",
    "    time.sleep(secs)\n",
    "\n",
    "def fake_training(\n",
    "    num_epochs, train_batches, fake_train_data, fake_val_data, fake_sleep_time=2\n",
    "):\n",
    "    # Suggestion on how to log the steps as a fraction of each \n",
    "    # epoch rather than as individual steps\n",
    "    step = 0\n",
    "    for epoch in tqdm(range(num_epochs), desc=\"Epochs\"):\n",
    "        for batch in tqdm(range(train_batches), desc=\"Training Batches\"):\n",
    "            # Fake rest period\n",
    "            fake_forward_and_backprop(fake_sleep_time)\n",
    "            \n",
    "            train_metrics = {}\n",
    "            for key in fake_train_data.keys():\n",
    "                train_metrics[key] = fake_train_data[key][step]\n",
    "            \n",
    "            # Log model metrics\n",
    "            dataquality.log_model_metrics(split=\"training\", metrics=train_metrics)\n",
    "            step += 1\n",
    "            \n",
    "            \n",
    "        # Assume we just log val metrics at the epoch level\n",
    "        # Fake rest period\n",
    "        fake_forward_and_backprop(fake_sleep_time)\n",
    "        \n",
    "        val_metrics = {}\n",
    "        for key in fake_val_data.keys():\n",
    "            val_metrics[key] = fake_val_data[key][epoch]\n",
    "\n",
    "        dataquality.log_model_metrics(split=\"validation\", metrics=val_metrics)\n",
    "\n",
    "    dataquality.log_model_metrics(split=\"training\", metrics={\"finished\": 0})\n",
    "    dataquality.log_model_metrics(split=\"validation\", metrics={\"finished\": 0})"
   ]
  },
  {
   "cell_type": "code",
   "execution_count": null,
   "id": "f81ab87b-acab-4b46-a428-8ac3cca5385b",
   "metadata": {
    "tags": []
   },
   "outputs": [
    {
     "data": {
      "application/vnd.jupyter.widget-view+json": {
       "model_id": "7c91e2c59a7f46a491d0c964f3b7277e",
       "version_major": 2,
       "version_minor": 0
      },
      "text/plain": [
       "Epochs:   0%|          | 0/10 [00:00<?, ?it/s]"
      ]
     },
     "metadata": {},
     "output_type": "display_data"
    },
    {
     "data": {
      "application/vnd.jupyter.widget-view+json": {
       "model_id": "9dd9d976e7064eec932f4f6137417fc9",
       "version_major": 2,
       "version_minor": 0
      },
      "text/plain": [
       "Training Batches:   0%|          | 0/50 [00:00<?, ?it/s]"
      ]
     },
     "metadata": {},
     "output_type": "display_data"
    },
    {
     "data": {
      "application/vnd.jupyter.widget-view+json": {
       "model_id": "8fcfa60e987d44cc8190c94bae68843e",
       "version_major": 2,
       "version_minor": 0
      },
      "text/plain": [
       "Training Batches:   0%|          | 0/50 [00:00<?, ?it/s]"
      ]
     },
     "metadata": {},
     "output_type": "display_data"
    },
    {
     "data": {
      "application/vnd.jupyter.widget-view+json": {
       "model_id": "478c37173fca4ed6a8d1e5a56f6bda61",
       "version_major": 2,
       "version_minor": 0
      },
      "text/plain": [
       "Training Batches:   0%|          | 0/50 [00:00<?, ?it/s]"
      ]
     },
     "metadata": {},
     "output_type": "display_data"
    },
    {
     "data": {
      "application/vnd.jupyter.widget-view+json": {
       "model_id": "32cc408f767248e7824ae75fb3e1005b",
       "version_major": 2,
       "version_minor": 0
      },
      "text/plain": [
       "Training Batches:   0%|          | 0/50 [00:00<?, ?it/s]"
      ]
     },
     "metadata": {},
     "output_type": "display_data"
    },
    {
     "data": {
      "application/vnd.jupyter.widget-view+json": {
       "model_id": "920ffdd9621f4211a73449549679a75a",
       "version_major": 2,
       "version_minor": 0
      },
      "text/plain": [
       "Training Batches:   0%|          | 0/50 [00:00<?, ?it/s]"
      ]
     },
     "metadata": {},
     "output_type": "display_data"
    },
    {
     "data": {
      "application/vnd.jupyter.widget-view+json": {
       "model_id": "ffe2dc5fc17f462d9bde81f83af11912",
       "version_major": 2,
       "version_minor": 0
      },
      "text/plain": [
       "Training Batches:   0%|          | 0/50 [00:00<?, ?it/s]"
      ]
     },
     "metadata": {},
     "output_type": "display_data"
    },
    {
     "data": {
      "application/vnd.jupyter.widget-view+json": {
       "model_id": "bc62f8d740d842ad943281002e843dc6",
       "version_major": 2,
       "version_minor": 0
      },
      "text/plain": [
       "Training Batches:   0%|          | 0/50 [00:00<?, ?it/s]"
      ]
     },
     "metadata": {},
     "output_type": "display_data"
    },
    {
     "data": {
      "application/vnd.jupyter.widget-view+json": {
       "model_id": "505564ab79944ea4b1c186d6a94896a9",
       "version_major": 2,
       "version_minor": 0
      },
      "text/plain": [
       "Training Batches:   0%|          | 0/50 [00:00<?, ?it/s]"
      ]
     },
     "metadata": {},
     "output_type": "display_data"
    }
   ],
   "source": [
    "fake_training(10, 50, train_data, val_data, 0.03)"
   ]
  },
  {
   "cell_type": "code",
   "execution_count": null,
   "id": "956a69ba-9bd6-455c-87f0-020046479bd7",
   "metadata": {},
   "outputs": [],
   "source": []
  },
  {
   "cell_type": "code",
   "execution_count": null,
   "id": "b076c1cd-ba19-4d88-914b-b4a15592706f",
   "metadata": {},
   "outputs": [],
   "source": []
  },
  {
   "cell_type": "code",
   "execution_count": null,
   "id": "483cc9ae-f846-4426-8eea-f4e87b2f0e2c",
   "metadata": {},
   "outputs": [],
   "source": []
  },
  {
   "cell_type": "code",
   "execution_count": null,
   "id": "cea0fd84-1f6d-46c5-a820-4902daf128ca",
   "metadata": {},
   "outputs": [],
   "source": []
  },
  {
   "cell_type": "code",
   "execution_count": null,
   "id": "4f04b9d4-6166-40f2-a548-8a4a00201bb1",
   "metadata": {},
   "outputs": [],
   "source": []
  },
  {
   "cell_type": "code",
   "execution_count": null,
   "id": "7dc03baf-e589-4f87-b0f7-08ae8c17a073",
   "metadata": {},
   "outputs": [],
   "source": []
  },
  {
   "cell_type": "code",
   "execution_count": null,
   "id": "a87f4f5b-3018-46ac-ba18-aa92946a981f",
   "metadata": {},
   "outputs": [],
   "source": []
  }
 ],
 "metadata": {
  "kernelspec": {
   "display_name": "Python 3 (ipykernel)",
   "language": "python",
   "name": "python3"
  },
  "language_info": {
   "codemirror_mode": {
    "name": "ipython",
    "version": 3
   },
   "file_extension": ".py",
   "mimetype": "text/x-python",
   "name": "python",
   "nbconvert_exporter": "python",
   "pygments_lexer": "ipython3",
   "version": "3.9.6"
  }
 },
 "nbformat": 4,
 "nbformat_minor": 5
}
