{
 "cells": [
  {
   "cell_type": "code",
   "execution_count": 1,
   "id": "6bafa0b2-c3d4-4b9b-bb06-716fe907e353",
   "metadata": {},
   "outputs": [],
   "source": [
    "import os\n",
    "os.environ['GALILEO_CONSOLE_URL']=\"http://localhost:8088\""
   ]
  },
  {
   "cell_type": "code",
   "execution_count": 2,
   "id": "aa26fc1e-4e46-47ca-a34d-0209c8196871",
   "metadata": {},
   "outputs": [],
   "source": [
    "import dataquality"
   ]
  },
  {
   "cell_type": "code",
   "execution_count": 3,
   "id": "f5de2b17-2505-4226-9d18-390659660b4b",
   "metadata": {},
   "outputs": [],
   "source": [
    "import requests\n",
    "\n",
    "pwd = \"MyPassword!123\"\n",
    "\n",
    "data={\n",
    "  \"email\": \"me@rungalileo.io\",\n",
    "  \"first_name\": \"Me\",\n",
    "  \"last_name\": \"Me\",\n",
    "  \"username\": \"Galileo\",\n",
    "  \"auth_method\": \"email\",\n",
    "  \"password\": pwd\n",
    "}\n",
    "\n",
    "# This will silently fail with a requests status code of 400 if admin is already set\n",
    "r = requests.post(f'{dataquality.config.api_url}/users/admin', json=data)\n",
    "\n",
    "import os\n",
    "os.environ[\"GALILEO_USERNAME\"]=\"me@rungalileo.io\"\n",
    "os.environ[\"GALILEO_PASSWORD\"]=pwd"
   ]
  },
  {
   "cell_type": "code",
   "execution_count": 4,
   "id": "3a445fcc-24f7-4bf7-ad12-417755407a7c",
   "metadata": {},
   "outputs": [],
   "source": [
    "details = {\n",
    "    \"epochs\": 10,\n",
    "    \"learning_rate\": 0.001,\n",
    "    \"optim\": \"adam\",\n",
    "    \"ben\": \"isagenius\"\n",
    "}"
   ]
  },
  {
   "cell_type": "code",
   "execution_count": 5,
   "id": "7f06f226-250f-4517-9d0f-f2437a811ddd",
   "metadata": {},
   "outputs": [
    {
     "name": "stdout",
     "output_type": "stream",
     "text": [
      "📡 Retrieving run from existing project, gonzaga\n",
      "🛰 Connected to project, gonzaga, and run, duke.\n"
     ]
    },
    {
     "name": "stderr",
     "output_type": "stream",
     "text": [
      "/Users/elliottchartock/Code/dataquality/.venv/lib/python3.9/site-packages/dataquality/core/init.py:152: UserWarning: Run: gonzaga/duke already exists! The existing run will get overwritten on call to finish()!\n",
      "  warnings.warn(\n"
     ]
    }
   ],
   "source": [
    "dataquality.init(\n",
    "    task_type=\"text_classification\",\n",
    "    project_name=\"gonzaga\",\n",
    "    run_name=\"duke\",\n",
    "    model_params=details\n",
    ")"
   ]
  },
  {
   "cell_type": "code",
   "execution_count": 23,
   "id": "1f9f1397-1c98-4a74-820b-5143ce913597",
   "metadata": {},
   "outputs": [],
   "source": [
    "from tqdm.notebook import tqdm\n",
    "import time\n",
    "\n",
    "def fake_forward_and_backprop(secs=2):\n",
    "    time.sleep(secs)\n",
    "\n",
    "def fake_training(\n",
    "    num_epochs, train_batches, fake_train_data, fake_val_data, fake_sleep_time=2\n",
    "):\n",
    "    # Suggestion on how to log the steps as a fraction of each \n",
    "    # epoch rather than as individual steps\n",
    "    step = 0\n",
    "    for epoch in tqdm(range(num_epochs), desc=\"Epochs\"):\n",
    "        for batch in tqdm(range(train_batches), desc=\"Training Batches\"):\n",
    "            start = time.time()\n",
    "            # Fake rest period\n",
    "            fake_forward_and_backprop(fake_sleep_time)\n",
    "            \n",
    "            train_metrics = {}\n",
    "            for key in fake_train_data.keys():\n",
    "                train_metrics[key] = fake_train_data[key][step]\n",
    "            \n",
    "            # Log model metrics\n",
    "            dataquality.log_model_metrics(split=\"training\", metrics=train_metrics)\n",
    "            step += 1\n",
    "            total = time.time() - start\n",
    "            print(f\"Batch took {total} seconds\")\n",
    "        \n",
    "        \n",
    "            \n",
    "            \n",
    "        # Assume we just log val metrics at the epoch level\n",
    "        # Fake rest period\n",
    "        fake_forward_and_backprop(fake_sleep_time)\n",
    "        \n",
    "        val_metrics = {}\n",
    "        for key in fake_val_data.keys():\n",
    "            val_metrics[key] = fake_val_data[key][epoch]\n",
    "        dataquality.log_model_metrics(split=\"validation\", metrics=val_metrics)"
   ]
  },
  {
   "cell_type": "code",
   "execution_count": 11,
   "id": "f14925e8-c037-480a-93ec-7603170bf942",
   "metadata": {},
   "outputs": [],
   "source": [
    "import json\n",
    "\n",
    "def open_json(path):\n",
    "    f = open(path)\n",
    "    return json.load(f)\n",
    "\n",
    "train_data = open_json(\"hackathon_fake_train_metrics.json\")\n",
    "val_data = open_json(\"hackathon_fake_val_metrics.json\")"
   ]
  },
  {
   "cell_type": "code",
   "execution_count": 24,
   "id": "f81ab87b-acab-4b46-a428-8ac3cca5385b",
   "metadata": {},
   "outputs": [
    {
     "data": {
      "application/vnd.jupyter.widget-view+json": {
       "model_id": "ebcefdf95d6a4c64b116ddb41e0c0314",
       "version_major": 2,
       "version_minor": 0
      },
      "text/plain": [
       "Epochs:   0%|          | 0/10 [00:00<?, ?it/s]"
      ]
     },
     "metadata": {},
     "output_type": "display_data"
    },
    {
     "data": {
      "application/vnd.jupyter.widget-view+json": {
       "model_id": "cc4aad2cea454a6980b0efa8c0b538f5",
       "version_major": 2,
       "version_minor": 0
      },
      "text/plain": [
       "Training Batches:   0%|          | 0/50 [00:00<?, ?it/s]"
      ]
     },
     "metadata": {},
     "output_type": "display_data"
    },
    {
     "name": "stdout",
     "output_type": "stream",
     "text": [
      "Batch took 0.1844160556793213 seconds\n",
      "Batch took 0.23196983337402344 seconds\n",
      "Batch took 0.22350001335144043 seconds\n",
      "Batch took 0.22079992294311523 seconds\n",
      "Batch took 0.23977398872375488 seconds\n",
      "Batch took 0.2522561550140381 seconds\n",
      "Batch took 0.26067590713500977 seconds\n",
      "Batch took 0.2473909854888916 seconds\n",
      "Batch took 0.2548520565032959 seconds\n",
      "Batch took 0.25960803031921387 seconds\n",
      "Batch took 0.2576460838317871 seconds\n",
      "Batch took 0.2649209499359131 seconds\n",
      "Batch took 0.25057411193847656 seconds\n",
      "Batch took 0.24573397636413574 seconds\n",
      "Batch took 0.258897066116333 seconds\n",
      "Batch took 0.4634101390838623 seconds\n",
      "Batch took 0.25643277168273926 seconds\n",
      "Batch took 0.27550721168518066 seconds\n",
      "Batch took 0.2916090488433838 seconds\n",
      "Batch took 0.29268693923950195 seconds\n"
     ]
    },
    {
     "ename": "KeyboardInterrupt",
     "evalue": "",
     "output_type": "error",
     "traceback": [
      "\u001b[0;31m---------------------------------------------------------------------------\u001b[0m",
      "\u001b[0;31mKeyboardInterrupt\u001b[0m                         Traceback (most recent call last)",
      "Input \u001b[0;32mIn [24]\u001b[0m, in \u001b[0;36m<module>\u001b[0;34m\u001b[0m\n\u001b[0;32m----> 1\u001b[0m \u001b[43mfake_training\u001b[49m\u001b[43m(\u001b[49m\u001b[38;5;241;43m10\u001b[39;49m\u001b[43m,\u001b[49m\u001b[43m \u001b[49m\u001b[38;5;241;43m50\u001b[39;49m\u001b[43m,\u001b[49m\u001b[43m \u001b[49m\u001b[43mtrain_data\u001b[49m\u001b[43m,\u001b[49m\u001b[43m \u001b[49m\u001b[43mval_data\u001b[49m\u001b[43m,\u001b[49m\u001b[43m \u001b[49m\u001b[38;5;241;43m0.05\u001b[39;49m\u001b[43m)\u001b[49m\n",
      "Input \u001b[0;32mIn [23]\u001b[0m, in \u001b[0;36mfake_training\u001b[0;34m(num_epochs, train_batches, fake_train_data, fake_val_data, fake_sleep_time)\u001b[0m\n\u001b[1;32m     15\u001b[0m start \u001b[38;5;241m=\u001b[39m time\u001b[38;5;241m.\u001b[39mtime()\n\u001b[1;32m     16\u001b[0m \u001b[38;5;66;03m# Fake rest period\u001b[39;00m\n\u001b[0;32m---> 17\u001b[0m \u001b[43mfake_forward_and_backprop\u001b[49m\u001b[43m(\u001b[49m\u001b[43mfake_sleep_time\u001b[49m\u001b[43m)\u001b[49m\n\u001b[1;32m     19\u001b[0m train_metrics \u001b[38;5;241m=\u001b[39m {}\n\u001b[1;32m     20\u001b[0m \u001b[38;5;28;01mfor\u001b[39;00m key \u001b[38;5;129;01min\u001b[39;00m fake_train_data\u001b[38;5;241m.\u001b[39mkeys():\n",
      "Input \u001b[0;32mIn [23]\u001b[0m, in \u001b[0;36mfake_forward_and_backprop\u001b[0;34m(secs)\u001b[0m\n\u001b[1;32m      4\u001b[0m \u001b[38;5;28;01mdef\u001b[39;00m \u001b[38;5;21mfake_forward_and_backprop\u001b[39m(secs\u001b[38;5;241m=\u001b[39m\u001b[38;5;241m2\u001b[39m):\n\u001b[0;32m----> 5\u001b[0m     \u001b[43mtime\u001b[49m\u001b[38;5;241;43m.\u001b[39;49m\u001b[43msleep\u001b[49m\u001b[43m(\u001b[49m\u001b[43msecs\u001b[49m\u001b[43m)\u001b[49m\n",
      "\u001b[0;31mKeyboardInterrupt\u001b[0m: "
     ]
    }
   ],
   "source": [
    "fake_training(10, 50, train_data, val_data, 0.05)"
   ]
  },
  {
   "cell_type": "code",
   "execution_count": null,
   "id": "956a69ba-9bd6-455c-87f0-020046479bd7",
   "metadata": {},
   "outputs": [],
   "source": []
  },
  {
   "cell_type": "code",
   "execution_count": null,
   "id": "b076c1cd-ba19-4d88-914b-b4a15592706f",
   "metadata": {},
   "outputs": [],
   "source": []
  },
  {
   "cell_type": "code",
   "execution_count": null,
   "id": "483cc9ae-f846-4426-8eea-f4e87b2f0e2c",
   "metadata": {},
   "outputs": [],
   "source": []
  },
  {
   "cell_type": "code",
   "execution_count": 11,
   "id": "cea0fd84-1f6d-46c5-a820-4902daf128ca",
   "metadata": {},
   "outputs": [],
   "source": [
    "import numpy as np\n",
    "loss1 = np.linspace(10, 5, 50)\n",
    "loss2 = np.linspace(5, 2, 50)\n",
    "loss3 = np.linspace(2, 1, 50)\n",
    "losses = np.concatenate([loss1, loss2, loss3])\n",
    "\n",
    "acc1 = np.linspace(0.16, .6, 50)\n",
    "acc2 = np.linspace(.6, .8, 50)\n",
    "acc3 = np.linspace(.8, .9, 50)\n",
    "accs = np.concatenate([acc1, acc2, acc3])"
   ]
  },
  {
   "cell_type": "code",
   "execution_count": 15,
   "id": "4f04b9d4-6166-40f2-a548-8a4a00201bb1",
   "metadata": {},
   "outputs": [
    {
     "name": "stdout",
     "output_type": "stream",
     "text": [
      "278.42024326324463\n"
     ]
    }
   ],
   "source": [
    "import time\n",
    "\n",
    "start = time.time()\n",
    "for l, a in zip(losses, accs):\n",
    "    dataquality.log_model_metrics(\n",
    "        metrics={\"loss\": l, \"acc\": a},\n",
    "        split=\"training\"\n",
    "    )\n",
    "    time.sleep(1.5)\n",
    "\n",
    "print(time.time() - start)"
   ]
  },
  {
   "cell_type": "code",
   "execution_count": null,
   "id": "7dc03baf-e589-4f87-b0f7-08ae8c17a073",
   "metadata": {},
   "outputs": [],
   "source": []
  },
  {
   "cell_type": "code",
   "execution_count": null,
   "id": "a87f4f5b-3018-46ac-ba18-aa92946a981f",
   "metadata": {},
   "outputs": [],
   "source": []
  }
 ],
 "metadata": {
  "kernelspec": {
   "display_name": "Python 3 (ipykernel)",
   "language": "python",
   "name": "python3"
  },
  "language_info": {
   "codemirror_mode": {
    "name": "ipython",
    "version": 3
   },
   "file_extension": ".py",
   "mimetype": "text/x-python",
   "name": "python",
   "nbconvert_exporter": "python",
   "pygments_lexer": "ipython3",
   "version": "3.9.6"
  }
 },
 "nbformat": 4,
 "nbformat_minor": 5
}
