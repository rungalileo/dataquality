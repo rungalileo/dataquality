{
 "cells": [
  {
   "cell_type": "markdown",
   "id": "9acac185",
   "metadata": {},
   "source": [
    "# Seq2Seq DQ Test Notebook\n",
    "\n",
    "In this notebook we test the dq client for Seq2Seq using simulated / fake data. The main intention is to battle test the different components of the client without training an actual model - i.e. optimizing for speed!\n",
    "\n",
    "Things that we want to test:\n",
    "1. Setting the tokenizer\n",
    "2. Logging data (input + target outputs)\n",
    "3. Logging model outputs 1+ epoch\n",
    "4. Fake model generations - interestingly the best way to do this may be with a small validation dataset + a real LLM model. This depends a bit on design decisions around logging for generation.\n",
    "\n",
    "NOTE: For a first pass we work with just a training dataset\n",
    "\n",
    "Let's get testing"
   ]
  },
  {
   "cell_type": "code",
   "execution_count": 1,
   "id": "f6053a81",
   "metadata": {},
   "outputs": [],
   "source": [
    "# from transformers import T5Tokenizer, T5ForConditionalGeneration\n",
    "from datasets import load_dataset, Dataset\n",
    "import numpy as np\n",
    "# import torch\n",
    "\n",
    "%load_ext autoreload\n",
    "%autoreload 2"
   ]
  },
  {
   "cell_type": "markdown",
   "id": "9074b1ff",
   "metadata": {},
   "source": [
    "## Pull data from hf hub\n",
    "\n",
    "Since part of the dq processing involves tokenizing and aligning text / token indices, we work with a small real-world dataset - rather than dummy data.\n",
    "\n",
    "The Billsum dataset contains three columns:\n",
    "\n",
    "<p style=\"text-align: center;\">|| text || summary || title ||</p>\n",
    "\n",
    "We look at just **summary** and **title** and map them as follows:\n",
    "<p style=\"text-align: center;\">(summary, title) --> (input context,  target output)</p>\n",
    "\n",
    "We also use a small subset of the first 100(0?) data rows!"
   ]
  },
  {
   "cell_type": "code",
   "execution_count": 2,
   "id": "435be3d5",
   "metadata": {},
   "outputs": [
    {
     "name": "stderr",
     "output_type": "stream",
     "text": [
      "Found cached dataset billsum (/Users/jonathangomesselman/.cache/huggingface/datasets/billsum/default/3.0.0/75cf1719d38d6553aa0e0714c393c74579b083ae6e164b2543684e3e92e0c4cc)\n"
     ]
    },
    {
     "data": {
      "application/vnd.jupyter.widget-view+json": {
       "model_id": "20fedcf1e2e042388be0c8c52e873d0d",
       "version_major": 2,
       "version_minor": 0
      },
      "text/plain": [
       "  0%|          | 0/3 [00:00<?, ?it/s]"
      ]
     },
     "metadata": {},
     "output_type": "display_data"
    },
    {
     "name": "stderr",
     "output_type": "stream",
     "text": [
      "Loading cached processed dataset at /Users/jonathangomesselman/.cache/huggingface/datasets/billsum/default/3.0.0/75cf1719d38d6553aa0e0714c393c74579b083ae6e164b2543684e3e92e0c4cc/cache-8163760ca7c203c4.arrow\n",
      "Loading cached processed dataset at /Users/jonathangomesselman/.cache/huggingface/datasets/billsum/default/3.0.0/75cf1719d38d6553aa0e0714c393c74579b083ae6e164b2543684e3e92e0c4cc/cache-6f832c3394bf0964.arrow\n",
      "Loading cached processed dataset at /Users/jonathangomesselman/.cache/huggingface/datasets/billsum/default/3.0.0/75cf1719d38d6553aa0e0714c393c74579b083ae6e164b2543684e3e92e0c4cc/cache-fa696985d54ba920.arrow\n"
     ]
    },
    {
     "data": {
      "text/plain": [
       "Dataset({\n",
       "    features: ['summary', 'title', 'id'],\n",
       "    num_rows: 10\n",
       "})"
      ]
     },
     "execution_count": 2,
     "metadata": {},
     "output_type": "execute_result"
    }
   ],
   "source": [
    "dataset_size = 100\n",
    "\n",
    "ds = load_dataset(\"billsum\")\n",
    "ds = ds.remove_columns('text')\n",
    "# Add ids\n",
    "ds = ds.map(lambda _, idx: {\"id\": idx}, with_indices=True)\n",
    "ds_train = Dataset.from_dict(ds['train'][:10])\n",
    "ds_val = Dataset.from_dict(ds['test'][:10])\n",
    "ds_train"
   ]
  },
  {
   "cell_type": "code",
   "execution_count": 3,
   "id": "211edbc4",
   "metadata": {},
   "outputs": [
    {
     "data": {
      "text/plain": [
       "{'summary': \"Shields a business entity from civil liability relating to any injury or death occurring at a facility of that entity in connection with a use of such facility by a nonprofit organization if: (1) the use occurs outside the scope of business of the business entity; (2) such injury or death occurs during a period that such facility is used by such organization; and (3) the business entity authorized the use of such facility by the organization. \\nMakes this Act inapplicable to an injury or death that results from an act or omission of a business entity that constitutes gross negligence or intentional misconduct, including misconduct that: (1) constitutes a hate crime or a crime of violence or act of international terrorism for which the defendant has been convicted in any court; or (2) involves a sexual offense for which the defendant has been convicted in any court or misconduct for which the defendant has been found to have violated a Federal or State civil rights law. \\nPreempts State laws to the extent that such laws are inconsistent with this Act, except State law that provides additional protection from liability.  Specifies that this Act shall not be construed to supersede any Federal or State health or safety law. \\nMakes this Act inapplicable to any civil action in a State court against a business entity in which all parties are citizens of the State if such State, citing this Act's authority and containing no other provision, enacts a statute declaring the State's election that this Act shall not apply to such action in the State.\",\n",
       " 'title': 'A bill to limit the civil liability of business entities providing use of facilities to nonprofit organizations.',\n",
       " 'id': 0}"
      ]
     },
     "execution_count": 3,
     "metadata": {},
     "output_type": "execute_result"
    }
   ],
   "source": [
    "ds_train[0]"
   ]
  },
  {
   "cell_type": "markdown",
   "id": "19ad8b2f",
   "metadata": {},
   "source": [
    "## Logging Data\n",
    "\n",
    "1. Before logging input data log the tokenizer (making sure we use the fast tokenizer)\n",
    "2. Log the input and target output data"
   ]
  },
  {
   "cell_type": "code",
   "execution_count": 4,
   "id": "98c78977",
   "metadata": {},
   "outputs": [
    {
     "data": {
      "application/vnd.jupyter.widget-view+json": {
       "model_id": "",
       "version_major": 2,
       "version_minor": 0
      },
      "text/plain": [
       "Map:   0%|          | 0/10 [00:00<?, ? examples/s]"
      ]
     },
     "metadata": {},
     "output_type": "display_data"
    },
    {
     "data": {
      "application/vnd.jupyter.widget-view+json": {
       "model_id": "",
       "version_major": 2,
       "version_minor": 0
      },
      "text/plain": [
       "Map:   0%|          | 0/10 [00:00<?, ? examples/s]"
      ]
     },
     "metadata": {},
     "output_type": "display_data"
    }
   ],
   "source": [
    "from transformers import AutoTokenizer, T5ForConditionalGeneration, GenerationConfig\n",
    "\n",
    "model = T5ForConditionalGeneration.from_pretrained(\"t5-small\")\n",
    "tokenizer = AutoTokenizer.from_pretrained(\"t5-small\", use_fast=True)\n",
    "\n",
    "# Tokenize things\n",
    "def tokenize_outputs(row):\n",
    "    label_ids = tokenizer(row['title'])['input_ids']\n",
    "    return {'labels': label_ids}\n",
    "\n",
    "ds_train = ds_train.map(tokenize_outputs)\n",
    "ds_val = ds_val.map(tokenize_outputs)"
   ]
  },
  {
   "cell_type": "code",
   "execution_count": 5,
   "id": "855297a3",
   "metadata": {},
   "outputs": [
    {
     "data": {
      "text/plain": [
       "{'summary': \"Shields a business entity from civil liability relating to any injury or death occurring at a facility of that entity in connection with a use of such facility by a nonprofit organization if: (1) the use occurs outside the scope of business of the business entity; (2) such injury or death occurs during a period that such facility is used by such organization; and (3) the business entity authorized the use of such facility by the organization. \\nMakes this Act inapplicable to an injury or death that results from an act or omission of a business entity that constitutes gross negligence or intentional misconduct, including misconduct that: (1) constitutes a hate crime or a crime of violence or act of international terrorism for which the defendant has been convicted in any court; or (2) involves a sexual offense for which the defendant has been convicted in any court or misconduct for which the defendant has been found to have violated a Federal or State civil rights law. \\nPreempts State laws to the extent that such laws are inconsistent with this Act, except State law that provides additional protection from liability.  Specifies that this Act shall not be construed to supersede any Federal or State health or safety law. \\nMakes this Act inapplicable to any civil action in a State court against a business entity in which all parties are citizens of the State if such State, citing this Act's authority and containing no other provision, enacts a statute declaring the State's election that this Act shall not apply to such action in the State.\",\n",
       " 'title': 'A bill to limit the civil liability of business entities providing use of facilities to nonprofit organizations.',\n",
       " 'id': 0,\n",
       " 'labels': [71,\n",
       "  2876,\n",
       "  12,\n",
       "  2006,\n",
       "  8,\n",
       "  3095,\n",
       "  6283,\n",
       "  13,\n",
       "  268,\n",
       "  12311,\n",
       "  1260,\n",
       "  169,\n",
       "  13,\n",
       "  2465,\n",
       "  12,\n",
       "  11069,\n",
       "  2371,\n",
       "  5,\n",
       "  1]}"
      ]
     },
     "execution_count": 5,
     "metadata": {},
     "output_type": "execute_result"
    }
   ],
   "source": [
    "ds_train[0]"
   ]
  },
  {
   "cell_type": "code",
   "execution_count": 10,
   "id": "0642c70e",
   "metadata": {},
   "outputs": [
    {
     "name": "stderr",
     "output_type": "stream",
     "text": [
      "/Users/jonathangomesselman/Galileo/codebase/dataquality/.venv/lib/python3.9/site-packages/dataquality/core/__init__.py:27: GalileoWarning: configure is deprecated, use dq.set_console_url and dq.login\n",
      "  warnings.warn(\n"
     ]
    },
    {
     "name": "stdout",
     "output_type": "stream",
     "text": [
      "📡 https://console.dev.rungalileo.io\n",
      "🔭 Logging you into Galileo\n",
      "\n",
      "🚀 You're logged in to Galileo as galileo@rungalileo.io!\n",
      "✨ Initializing new public project 'senior_cyan_owl_1ccfe'\n",
      "🏃‍♂️ Creating new run '2023-09-08_1'\n",
      "🛰 Connected to new project 'senior_cyan_owl_1ccfe', and new run '2023-09-08_1'.\n"
     ]
    }
   ],
   "source": [
    "import os\n",
    "import dataquality as dq\n",
    "from dataquality.integrations.seq2seq.hf import watch\n",
    "\n",
    "# os.environ['GALILEO_CONSOLE_URL']=\"http://localhost:8088\"\n",
    "# os.environ[\"GALILEO_USERNAME\"]=\"user@example.com\"\n",
    "# os.environ[\"GALILEO_PASSWORD\"]=\"Th3secret_\"\n",
    "os.environ[\"GALILEO_USERNAME\"]=\"galileo@rungalileo.io\"\n",
    "os.environ[\"GALILEO_PASSWORD\"]=\"A11a1una!\"\n",
    "dq.set_console_url(\"https://console.dev.rungalileo.io\")\n",
    "\n",
    "dq.configure()\n",
    "dq.init(\"seq2seq\")\n",
    "dq.set_tokenizer(tokenizer)\n",
    "generation_config = GenerationConfig(\n",
    "    max_new_tokens=10,\n",
    ")\n",
    "watch(\n",
    "    model,\n",
    "    generation_config,\n",
    "    generate_training_data=True\n",
    ")"
   ]
  },
  {
   "cell_type": "code",
   "execution_count": 11,
   "id": "ea763af0",
   "metadata": {},
   "outputs": [
    {
     "data": {
      "application/vnd.jupyter.widget-view+json": {
       "model_id": "",
       "version_major": 2,
       "version_minor": 0
      },
      "text/plain": [
       "Aligning characters with tokens:   0%|          | 0/10 [00:00<?, ?it/s]"
      ]
     },
     "metadata": {},
     "output_type": "display_data"
    },
    {
     "name": "stdout",
     "output_type": "stream",
     "text": [
      "Logging 10 samples [########################################] 100.00% elapsed time  :     0.00s =  0.0m =  0.0h\n",
      " "
     ]
    }
   ],
   "source": [
    "def log_dataset(ds, input_col=\"summary\", target_col=\"title\"):\n",
    "    dq.log_dataset(\n",
    "        ds,\n",
    "        text=input_col,\n",
    "        label=target_col,\n",
    "        split=\"training\"\n",
    "    )\n",
    "\n",
    "# Log just for training\n",
    "log_dataset(ds_train)"
   ]
  },
  {
   "cell_type": "markdown",
   "id": "94d9fc3a",
   "metadata": {},
   "source": [
    "## Logging Model Outputs\n",
    "Log 1 epoch of fake model output data: includes just logits!"
   ]
  },
  {
   "cell_type": "code",
   "execution_count": 12,
   "id": "523f57e2",
   "metadata": {},
   "outputs": [
    {
     "name": "stdout",
     "output_type": "stream",
     "text": [
      "len ids 10\n",
      "max seq len 37\n"
     ]
    }
   ],
   "source": [
    "num_logits = len(tokenizer)\n",
    "\n",
    "\n",
    "def log_epoch(ds):\n",
    "    ids = ds['id']\n",
    "    max_seq_length = np.max([len(ids) for ids in ds['labels']])\n",
    "    print(\"len ids\", len(ids))\n",
    "    print(\"max seq len\", max_seq_length)\n",
    "    # Shape - [bs, max_seq_len, num_logits]\n",
    "    fake_logits = np.random.randn(len(ids), max_seq_length, num_logits)\n",
    "    dq.log_model_outputs(\n",
    "        logits = fake_logits,\n",
    "        ids = ids\n",
    "    )\n",
    "\n",
    "dq.set_epoch(0)\n",
    "dq.set_split(\"train\")\n",
    "log_epoch(ds_train)"
   ]
  },
  {
   "cell_type": "code",
   "execution_count": 25,
   "id": "a8e363f0",
   "metadata": {},
   "outputs": [
    {
     "name": "stdout",
     "output_type": "stream",
     "text": [
      "☁️ Uploading Data\n",
      "CuML libraries not found, running standard process. For faster Galileo processing, consider installing\n",
      "`pip install 'dataquality[cuda]' --extra-index-url=https://pypi.nvidia.com/`\n"
     ]
    },
    {
     "data": {
      "application/vnd.jupyter.widget-view+json": {
       "model_id": "aea8a1f9d0464db69dcf0770e4175a96",
       "version_major": 2,
       "version_minor": 0
      },
      "text/plain": [
       "training:   0%|          | 0/1 [00:00<?, ?it/s]"
      ]
     },
     "metadata": {},
     "output_type": "display_data"
    },
    {
     "data": {
      "application/vnd.jupyter.widget-view+json": {
       "model_id": "",
       "version_major": 2,
       "version_minor": 0
      },
      "text/plain": [
       "Aligning characters with tokens:   0%|          | 0/1 [00:00<?, ?it/s]"
      ]
     },
     "metadata": {},
     "output_type": "display_data"
    },
    {
     "data": {
      "application/vnd.jupyter.widget-view+json": {
       "model_id": "",
       "version_major": 2,
       "version_minor": 0
      },
      "text/plain": [
       "Aligning characters with tokens:   0%|          | 0/1 [00:00<?, ?it/s]"
      ]
     },
     "metadata": {},
     "output_type": "display_data"
    },
    {
     "data": {
      "application/vnd.jupyter.widget-view+json": {
       "model_id": "",
       "version_major": 2,
       "version_minor": 0
      },
      "text/plain": [
       "Aligning characters with tokens:   0%|          | 0/1 [00:00<?, ?it/s]"
      ]
     },
     "metadata": {},
     "output_type": "display_data"
    },
    {
     "data": {
      "application/vnd.jupyter.widget-view+json": {
       "model_id": "",
       "version_major": 2,
       "version_minor": 0
      },
      "text/plain": [
       "Aligning characters with tokens:   0%|          | 0/1 [00:00<?, ?it/s]"
      ]
     },
     "metadata": {},
     "output_type": "display_data"
    },
    {
     "data": {
      "application/vnd.jupyter.widget-view+json": {
       "model_id": "",
       "version_major": 2,
       "version_minor": 0
      },
      "text/plain": [
       "Aligning characters with tokens:   0%|          | 0/1 [00:00<?, ?it/s]"
      ]
     },
     "metadata": {},
     "output_type": "display_data"
    },
    {
     "data": {
      "application/vnd.jupyter.widget-view+json": {
       "model_id": "",
       "version_major": 2,
       "version_minor": 0
      },
      "text/plain": [
       "Aligning characters with tokens:   0%|          | 0/1 [00:00<?, ?it/s]"
      ]
     },
     "metadata": {},
     "output_type": "display_data"
    },
    {
     "data": {
      "application/vnd.jupyter.widget-view+json": {
       "model_id": "",
       "version_major": 2,
       "version_minor": 0
      },
      "text/plain": [
       "Aligning characters with tokens:   0%|          | 0/1 [00:00<?, ?it/s]"
      ]
     },
     "metadata": {},
     "output_type": "display_data"
    },
    {
     "data": {
      "application/vnd.jupyter.widget-view+json": {
       "model_id": "",
       "version_major": 2,
       "version_minor": 0
      },
      "text/plain": [
       "Aligning characters with tokens:   0%|          | 0/1 [00:00<?, ?it/s]"
      ]
     },
     "metadata": {},
     "output_type": "display_data"
    },
    {
     "data": {
      "application/vnd.jupyter.widget-view+json": {
       "model_id": "",
       "version_major": 2,
       "version_minor": 0
      },
      "text/plain": [
       "Aligning characters with tokens:   0%|          | 0/1 [00:00<?, ?it/s]"
      ]
     },
     "metadata": {},
     "output_type": "display_data"
    },
    {
     "data": {
      "application/vnd.jupyter.widget-view+json": {
       "model_id": "",
       "version_major": 2,
       "version_minor": 0
      },
      "text/plain": [
       "Aligning characters with tokens:   0%|          | 0/1 [00:00<?, ?it/s]"
      ]
     },
     "metadata": {},
     "output_type": "display_data"
    },
    {
     "data": {
      "application/vnd.jupyter.widget-view+json": {
       "model_id": "",
       "version_major": 2,
       "version_minor": 0
      },
      "text/plain": [
       "Aligning characters with tokens:   0%|          | 0/1 [00:00<?, ?it/s]"
      ]
     },
     "metadata": {},
     "output_type": "display_data"
    },
    {
     "data": {
      "application/vnd.jupyter.widget-view+json": {
       "model_id": "",
       "version_major": 2,
       "version_minor": 0
      },
      "text/plain": [
       "Aligning characters with tokens:   0%|          | 0/1 [00:00<?, ?it/s]"
      ]
     },
     "metadata": {},
     "output_type": "display_data"
    },
    {
     "data": {
      "application/vnd.jupyter.widget-view+json": {
       "model_id": "",
       "version_major": 2,
       "version_minor": 0
      },
      "text/plain": [
       "Aligning characters with tokens:   0%|          | 0/1 [00:00<?, ?it/s]"
      ]
     },
     "metadata": {},
     "output_type": "display_data"
    },
    {
     "data": {
      "application/vnd.jupyter.widget-view+json": {
       "model_id": "",
       "version_major": 2,
       "version_minor": 0
      },
      "text/plain": [
       "Aligning characters with tokens:   0%|          | 0/1 [00:00<?, ?it/s]"
      ]
     },
     "metadata": {},
     "output_type": "display_data"
    },
    {
     "data": {
      "application/vnd.jupyter.widget-view+json": {
       "model_id": "",
       "version_major": 2,
       "version_minor": 0
      },
      "text/plain": [
       "Aligning characters with tokens:   0%|          | 0/1 [00:00<?, ?it/s]"
      ]
     },
     "metadata": {},
     "output_type": "display_data"
    },
    {
     "data": {
      "application/vnd.jupyter.widget-view+json": {
       "model_id": "",
       "version_major": 2,
       "version_minor": 0
      },
      "text/plain": [
       "Aligning characters with tokens:   0%|          | 0/1 [00:00<?, ?it/s]"
      ]
     },
     "metadata": {},
     "output_type": "display_data"
    },
    {
     "data": {
      "application/vnd.jupyter.widget-view+json": {
       "model_id": "",
       "version_major": 2,
       "version_minor": 0
      },
      "text/plain": [
       "Aligning characters with tokens:   0%|          | 0/1 [00:00<?, ?it/s]"
      ]
     },
     "metadata": {},
     "output_type": "display_data"
    },
    {
     "data": {
      "application/vnd.jupyter.widget-view+json": {
       "model_id": "",
       "version_major": 2,
       "version_minor": 0
      },
      "text/plain": [
       "training (epoch=0):   0%|          | 0/3 [00:00<?, ?it/s]"
      ]
     },
     "metadata": {},
     "output_type": "display_data"
    },
    {
     "data": {
      "application/vnd.jupyter.widget-view+json": {
       "model_id": "",
       "version_major": 2,
       "version_minor": 0
      },
      "text/plain": [
       "Uploading data to Galileo:   0%|          | 0.00/10.6k [00:00<?, ?B/s]"
      ]
     },
     "metadata": {},
     "output_type": "display_data"
    },
    {
     "data": {
      "application/vnd.jupyter.widget-view+json": {
       "model_id": "",
       "version_major": 2,
       "version_minor": 0
      },
      "text/plain": [
       "Uploading data to Galileo:   0%|          | 0.00/10.6k [00:00<?, ?B/s]"
      ]
     },
     "metadata": {},
     "output_type": "display_data"
    },
    {
     "data": {
      "application/vnd.jupyter.widget-view+json": {
       "model_id": "",
       "version_major": 2,
       "version_minor": 0
      },
      "text/plain": [
       "Aligning characters with tokens:   0%|          | 0/1 [00:00<?, ?it/s]"
      ]
     },
     "metadata": {},
     "output_type": "display_data"
    },
    {
     "data": {
      "application/vnd.jupyter.widget-view+json": {
       "model_id": "",
       "version_major": 2,
       "version_minor": 0
      },
      "text/plain": [
       "Aligning characters with tokens:   0%|          | 0/1 [00:00<?, ?it/s]"
      ]
     },
     "metadata": {},
     "output_type": "display_data"
    },
    {
     "data": {
      "application/vnd.jupyter.widget-view+json": {
       "model_id": "",
       "version_major": 2,
       "version_minor": 0
      },
      "text/plain": [
       "Aligning characters with tokens:   0%|          | 0/1 [00:00<?, ?it/s]"
      ]
     },
     "metadata": {},
     "output_type": "display_data"
    },
    {
     "data": {
      "application/vnd.jupyter.widget-view+json": {
       "model_id": "",
       "version_major": 2,
       "version_minor": 0
      },
      "text/plain": [
       "Aligning characters with tokens:   0%|          | 0/1 [00:00<?, ?it/s]"
      ]
     },
     "metadata": {},
     "output_type": "display_data"
    },
    {
     "data": {
      "application/vnd.jupyter.widget-view+json": {
       "model_id": "",
       "version_major": 2,
       "version_minor": 0
      },
      "text/plain": [
       "Aligning characters with tokens:   0%|          | 0/1 [00:00<?, ?it/s]"
      ]
     },
     "metadata": {},
     "output_type": "display_data"
    },
    {
     "data": {
      "application/vnd.jupyter.widget-view+json": {
       "model_id": "",
       "version_major": 2,
       "version_minor": 0
      },
      "text/plain": [
       "Aligning characters with tokens:   0%|          | 0/1 [00:00<?, ?it/s]"
      ]
     },
     "metadata": {},
     "output_type": "display_data"
    },
    {
     "data": {
      "application/vnd.jupyter.widget-view+json": {
       "model_id": "",
       "version_major": 2,
       "version_minor": 0
      },
      "text/plain": [
       "Aligning characters with tokens:   0%|          | 0/1 [00:00<?, ?it/s]"
      ]
     },
     "metadata": {},
     "output_type": "display_data"
    },
    {
     "data": {
      "application/vnd.jupyter.widget-view+json": {
       "model_id": "",
       "version_major": 2,
       "version_minor": 0
      },
      "text/plain": [
       "Aligning characters with tokens:   0%|          | 0/1 [00:00<?, ?it/s]"
      ]
     },
     "metadata": {},
     "output_type": "display_data"
    },
    {
     "data": {
      "application/vnd.jupyter.widget-view+json": {
       "model_id": "",
       "version_major": 2,
       "version_minor": 0
      },
      "text/plain": [
       "Aligning characters with tokens:   0%|          | 0/1 [00:00<?, ?it/s]"
      ]
     },
     "metadata": {},
     "output_type": "display_data"
    },
    {
     "data": {
      "application/vnd.jupyter.widget-view+json": {
       "model_id": "",
       "version_major": 2,
       "version_minor": 0
      },
      "text/plain": [
       "Aligning characters with tokens:   0%|          | 0/1 [00:00<?, ?it/s]"
      ]
     },
     "metadata": {},
     "output_type": "display_data"
    },
    {
     "data": {
      "application/vnd.jupyter.widget-view+json": {
       "model_id": "",
       "version_major": 2,
       "version_minor": 0
      },
      "text/plain": [
       "Aligning characters with tokens:   0%|          | 0/1 [00:00<?, ?it/s]"
      ]
     },
     "metadata": {},
     "output_type": "display_data"
    },
    {
     "data": {
      "application/vnd.jupyter.widget-view+json": {
       "model_id": "",
       "version_major": 2,
       "version_minor": 0
      },
      "text/plain": [
       "Aligning characters with tokens:   0%|          | 0/1 [00:00<?, ?it/s]"
      ]
     },
     "metadata": {},
     "output_type": "display_data"
    },
    {
     "data": {
      "application/vnd.jupyter.widget-view+json": {
       "model_id": "",
       "version_major": 2,
       "version_minor": 0
      },
      "text/plain": [
       "Aligning characters with tokens:   0%|          | 0/1 [00:00<?, ?it/s]"
      ]
     },
     "metadata": {},
     "output_type": "display_data"
    },
    {
     "data": {
      "application/vnd.jupyter.widget-view+json": {
       "model_id": "",
       "version_major": 2,
       "version_minor": 0
      },
      "text/plain": [
       "Aligning characters with tokens:   0%|          | 0/1 [00:00<?, ?it/s]"
      ]
     },
     "metadata": {},
     "output_type": "display_data"
    },
    {
     "data": {
      "application/vnd.jupyter.widget-view+json": {
       "model_id": "",
       "version_major": 2,
       "version_minor": 0
      },
      "text/plain": [
       "Aligning characters with tokens:   0%|          | 0/1 [00:00<?, ?it/s]"
      ]
     },
     "metadata": {},
     "output_type": "display_data"
    },
    {
     "data": {
      "application/vnd.jupyter.widget-view+json": {
       "model_id": "",
       "version_major": 2,
       "version_minor": 0
      },
      "text/plain": [
       "Aligning characters with tokens:   0%|          | 0/1 [00:00<?, ?it/s]"
      ]
     },
     "metadata": {},
     "output_type": "display_data"
    },
    {
     "data": {
      "application/vnd.jupyter.widget-view+json": {
       "model_id": "",
       "version_major": 2,
       "version_minor": 0
      },
      "text/plain": [
       "Aligning characters with tokens:   0%|          | 0/1 [00:00<?, ?it/s]"
      ]
     },
     "metadata": {},
     "output_type": "display_data"
    },
    {
     "data": {
      "application/vnd.jupyter.widget-view+json": {
       "model_id": "",
       "version_major": 2,
       "version_minor": 0
      },
      "text/plain": [
       "Aligning characters with tokens:   0%|          | 0/1 [00:00<?, ?it/s]"
      ]
     },
     "metadata": {},
     "output_type": "display_data"
    },
    {
     "data": {
      "application/vnd.jupyter.widget-view+json": {
       "model_id": "",
       "version_major": 2,
       "version_minor": 0
      },
      "text/plain": [
       "Aligning characters with tokens:   0%|          | 0/1 [00:00<?, ?it/s]"
      ]
     },
     "metadata": {},
     "output_type": "display_data"
    },
    {
     "data": {
      "application/vnd.jupyter.widget-view+json": {
       "model_id": "",
       "version_major": 2,
       "version_minor": 0
      },
      "text/plain": [
       "Aligning characters with tokens:   0%|          | 0/1 [00:00<?, ?it/s]"
      ]
     },
     "metadata": {},
     "output_type": "display_data"
    },
    {
     "data": {
      "application/vnd.jupyter.widget-view+json": {
       "model_id": "",
       "version_major": 2,
       "version_minor": 0
      },
      "text/plain": [
       "Aligning characters with tokens:   0%|          | 0/1 [00:00<?, ?it/s]"
      ]
     },
     "metadata": {},
     "output_type": "display_data"
    },
    {
     "data": {
      "application/vnd.jupyter.widget-view+json": {
       "model_id": "",
       "version_major": 2,
       "version_minor": 0
      },
      "text/plain": [
       "Aligning characters with tokens:   0%|          | 0/1 [00:00<?, ?it/s]"
      ]
     },
     "metadata": {},
     "output_type": "display_data"
    },
    {
     "data": {
      "application/vnd.jupyter.widget-view+json": {
       "model_id": "",
       "version_major": 2,
       "version_minor": 0
      },
      "text/plain": [
       "Aligning characters with tokens:   0%|          | 0/1 [00:00<?, ?it/s]"
      ]
     },
     "metadata": {},
     "output_type": "display_data"
    },
    {
     "data": {
      "application/vnd.jupyter.widget-view+json": {
       "model_id": "",
       "version_major": 2,
       "version_minor": 0
      },
      "text/plain": [
       "Aligning characters with tokens:   0%|          | 0/1 [00:00<?, ?it/s]"
      ]
     },
     "metadata": {},
     "output_type": "display_data"
    },
    {
     "data": {
      "application/vnd.jupyter.widget-view+json": {
       "model_id": "",
       "version_major": 2,
       "version_minor": 0
      },
      "text/plain": [
       "Aligning characters with tokens:   0%|          | 0/1 [00:00<?, ?it/s]"
      ]
     },
     "metadata": {},
     "output_type": "display_data"
    },
    {
     "data": {
      "application/vnd.jupyter.widget-view+json": {
       "model_id": "",
       "version_major": 2,
       "version_minor": 0
      },
      "text/plain": [
       "Uploading data to Galileo:   0%|          | 0.00/53.3k [00:00<?, ?B/s]"
      ]
     },
     "metadata": {},
     "output_type": "display_data"
    },
    {
     "name": "stdout",
     "output_type": "stream",
     "text": [
      "Job default successfully submitted. Results will be available soon at https://console.dev.rungalileo.io/insights?projectId=1d427e72-0356-4248-92ed-2311237f3a8e&runId=3ed32b19-b527-46b9-bbb2-afa2651027b3&taskType=8&split=training\n",
      "Waiting for job (you can safely close this window)...\n",
      "Done! Job finished with status completed\n",
      "🧹 Cleaning up\n",
      "🧹 Cleaning up\n"
     ]
    },
    {
     "data": {
      "text/plain": [
       "'https://console.dev.rungalileo.io/insights?projectId=1d427e72-0356-4248-92ed-2311237f3a8e&runId=3ed32b19-b527-46b9-bbb2-afa2651027b3&taskType=8&split=training'"
      ]
     },
     "execution_count": 25,
     "metadata": {},
     "output_type": "execute_result"
    }
   ],
   "source": [
    "dq.finish()"
   ]
  },
  {
   "cell_type": "code",
   "execution_count": 291,
   "id": "07fc59da",
   "metadata": {},
   "outputs": [
    {
     "data": {
      "text/plain": [
       "array([[-1.25708672],\n",
       "       [ 0.22480901],\n",
       "       [-0.2215257 ],\n",
       "       [ 0.78745835],\n",
       "       [ 1.60571899],\n",
       "       [ 0.37932376],\n",
       "       [ 0.66318895],\n",
       "       [ 0.56096409],\n",
       "       [ 0.92251265],\n",
       "       [-0.90271011]])"
      ]
     },
     "execution_count": 291,
     "metadata": {},
     "output_type": "execute_result"
    }
   ],
   "source": [
    "arr = np.random.randn(10, 5)\n",
    "samples = np.ones(10, dtype=int)\n",
    "np.take_along_axis(arr, samples.reshape(-1, 1), axis=-1)"
   ]
  },
  {
   "cell_type": "code",
   "execution_count": 144,
   "id": "ab1e3fa3",
   "metadata": {},
   "outputs": [],
   "source": [
    "import vaex\n",
    "\n",
    "df = vaex.open(\"/Users/jonathangomesselman/Downloads/data (2).arrow\")"
   ]
  },
  {
   "cell_type": "code",
   "execution_count": 225,
   "id": "d3abc920",
   "metadata": {},
   "outputs": [],
   "source": [
    "import random\n",
    "\n",
    "top_logprobs = [np.random.randn(5) for _ in range(50)]\n",
    "top_label_ids = [i for i in range(50)]\n",
    "logprobs = [np.random.rand(1)[0] for _ in range(50)]\n",
    "top_token_label_ids = [[i, i+1, i+2, i+3, i+4] for i in range(50)]\n",
    "for i in range(50):\n",
    "    np.random.shuffle(top_token_label_ids[i])"
   ]
  },
  {
   "cell_type": "code",
   "execution_count": 229,
   "id": "d9ac7ca8",
   "metadata": {},
   "outputs": [
    {
     "data": {
      "text/plain": [
       "[1, 2, 4, 3, 0]"
      ]
     },
     "execution_count": 229,
     "metadata": {},
     "output_type": "execute_result"
    }
   ],
   "source": [
    "top_token_label_ids[0]"
   ]
  },
  {
   "cell_type": "code",
   "execution_count": 230,
   "id": "2f6a8645",
   "metadata": {},
   "outputs": [
    {
     "data": {
      "text/plain": [
       "0"
      ]
     },
     "execution_count": 230,
     "metadata": {},
     "output_type": "execute_result"
    }
   ],
   "source": [
    "top_label_ids[0]"
   ]
  },
  {
   "cell_type": "code",
   "execution_count": 232,
   "id": "aabc6709",
   "metadata": {},
   "outputs": [
    {
     "name": "stderr",
     "output_type": "stream",
     "text": [
      "/var/folders/v2/1y40rbz50s3803k_sbf48c5h0000gn/T/ipykernel_24787/61437616.py:1: DeprecationWarning: elementwise comparison failed; this will raise an error in the future.\n",
      "  np.where(np.array(top_token_label_ids) == np.array(top_label_ids))\n"
     ]
    },
    {
     "data": {
      "text/plain": [
       "(array([], dtype=int64),)"
      ]
     },
     "execution_count": 232,
     "metadata": {},
     "output_type": "execute_result"
    }
   ],
   "source": [
    "np.where(np.array(top_token_label_ids) == np.array(top_label_ids))"
   ]
  },
  {
   "cell_type": "code",
   "execution_count": null,
   "id": "8283c428",
   "metadata": {},
   "outputs": [],
   "source": [
    "# mask\n",
    "[\n",
    "    [F, T, F, F, F],\n",
    "    [T, F, F, ...]\n",
    "]\n",
    "top_logprobs[mask] = -inf\n",
    "max_non_label = max(top_logprobs)\n",
    "margin = logprobs - max_non_label"
   ]
  },
  {
   "cell_type": "code",
   "execution_count": 145,
   "id": "a49e4499",
   "metadata": {},
   "outputs": [
    {
     "data": {
      "text/html": [
       "<table>\n",
       "<thead>\n",
       "<tr><th>#                            </th><th>token_deps                                         </th><th style=\"text-align: right;\">  data_error_potential</th><th style=\"text-align: right;\">  perplexity</th><th>token_logprobs                                     </th><th>top_logprobs                                       </th><th>input                                              </th><th>target                                             </th><th>split   </th><th>token_label_positions                              </th><th>token_label_offsets                                </th><th>generated_output                                   </th><th>generated_token_label_positions                    </th><th>generated_token_label_offsets                      </th><th>generated_token_logprobs                           </th><th>generated_top_logprobs                             </th><th style=\"text-align: right;\">  id</th><th style=\"text-align: right;\">    bleu</th><th style=\"text-align: right;\">   rouge</th></tr>\n",
       "</thead>\n",
       "<tbody>\n",
       "<tr><td><i style='opacity: 0.6'>0</i></td><td>&#x27;[0.5005900859832764, 0.5010707378387451, 0.5003...</td><td style=\"text-align: right;\">              0.500567</td><td style=\"text-align: right;\">     57352.1</td><td>&#x27;[-9.821720123291016, -12.884685516357422, -11.4...</td><td>&quot;[[(&#x27;Explo&#x27;, -6.697160720825195), (&#x27;Brent&#x27;, -7.1...</td><td>&#x27;Shields a business entity from civil liability ...</td><td>&#x27;A bill to limit the civil liability of business...</td><td>training</td><td>&#x27;[[0], [], [1], [], [2], [], [3], [], [4], [], [...</td><td>&#x27;[[0, 1], [1, 2], [2, 6], [6, 7], [7, 9], [9, 10...</td><td>&#x27;&lt;extra_id_0&gt; if such State laws are inconsisten...</td><td>&#x27;[[0], [], [1, 2], [2], [], [3], [], [4], [], [5...</td><td>&#x27;[[0, 12], [12, 13], [13, 14], [14, 15], [15, 16...</td><td>&#x27;[-3.5762778338721546e-07, -2.454937219619751, -...</td><td>&quot;[[(&#x27;&#x27;, -16.516389846801758), (&#x27;&lt;extra_id_3&gt;&#x27;, -...</td><td style=\"text-align: right;\">   0</td><td style=\"text-align: right;\"> 0      </td><td style=\"text-align: right;\">0       </td></tr>\n",
       "<tr><td><i style='opacity: 0.6'>1</i></td><td>&#x27;[0.5005096197128296, 0.5005630850791931, 0.5005...</td><td style=\"text-align: right;\">              0.500563</td><td style=\"text-align: right;\">     50127.5</td><td>&#x27;[-10.991921424865723, -11.315881729125977, -10....</td><td>&quot;[[(&#x27;pirate&#x27;, -7.196037292480469), (&#x27;museum&#x27;, -7...</td><td>&#x27;Human Rights Information Act - Requires certain...</td><td>Human Rights Information Act                       </td><td>training</td><td>[[0], [], [1], [], [2], [], [3]]                   </td><td>&#x27;[[0, 5], [5, 6], [6, 12], [12, 13], [13, 24], [...</td><td>&lt;extra_id_0&gt; to review, declassify, and publicly   </td><td>&#x27;[[0], [], [1], [], [2], [3], [], [4], [5], [6],...</td><td>&#x27;[[0, 12], [12, 13], [13, 15], [15, 16], [16, 22...</td><td>&#x27;[-1.6689285757820471e-06, -1.7782273292541504, ...</td><td>&quot;[[(&#x27;&#x27;, -15.420294761657715), (&#x27;&lt;extra_id_3&gt;&#x27;, -...</td><td style=\"text-align: right;\">   1</td><td style=\"text-align: right;\"> 0      </td><td style=\"text-align: right;\">0       </td></tr>\n",
       "<tr><td><i style='opacity: 0.6'>2</i></td><td>&#x27;[0.5006729364395142, 0.5008552074432373, 0.5009...</td><td style=\"text-align: right;\">              0.500627</td><td style=\"text-align: right;\">     73623.3</td><td>&#x27;[-11.187646865844727, -9.137674331665039, -11.8...</td><td>&quot;[[(&#x27;segments&#x27;, -6.600510120391846), (&#x27;seamlessl...</td><td>&#x27;Jackie Robinson Commemorative Coin Act - Direct...</td><td>Jackie Robinson Commemorative Coin Act             </td><td>training</td><td>&#x27;[[0], [], [1], [], [2], [3], [4], [], [5], [], ...</td><td>&#x27;[[0, 6], [6, 7], [7, 15], [15, 16], [16, 21], [...</td><td>Jackie Robinson Commemorative Coin Act - Direct    </td><td>&#x27;[[0], [], [1], [], [2], [3], [4], [], [5], [], ...</td><td>&#x27;[[0, 6], [6, 7], [7, 15], [15, 16], [16, 21], [...</td><td>&#x27;[-0.4167225956916809, -0.0022107940167188644, -...</td><td>&quot;[[(&#x27;Jackie&#x27;, -0.4167225956916809), (&#x27;&lt;extra_id_...</td><td style=\"text-align: right;\">   2</td><td style=\"text-align: right;\">61.4788 </td><td style=\"text-align: right;\">0.909091</td></tr>\n",
       "<tr><td><i style='opacity: 0.6'>3</i></td><td>&#x27;[0.5006540417671204, 0.5014073848724365, 0.5003...</td><td style=\"text-align: right;\">              0.500672</td><td style=\"text-align: right;\">     81645.9</td><td>&#x27;[-12.535238265991211, -11.838638305664062, -10....</td><td>&quot;[[(&#x27;pouvoir&#x27;, -6.636413097381592), (&#x27;hari&#x27;, -6....</td><td>&#x27;Amends the Internal Revenue Code to provide (te...</td><td>&#x27;To amend the Internal Revenue Code to provide t...</td><td>training</td><td>&#x27;[[0], [], [1], [], [2], [], [3], [], [4], [], [...</td><td>&#x27;[[0, 2], [2, 3], [3, 8], [8, 9], [9, 12], [12, ...</td><td>&lt;extra_id_0&gt; stock.                                </td><td>[[0], [], [1], [2]]                                </td><td>[[0, 12], [12, 13], [13, 18], [18, 19]]            </td><td>&#x27;[-0.632779061794281, -2.335423469543457, -2.436...</td><td>&quot;[[(&#x27;Mod&#x27;, -3.213479995727539), (&#x27;Der&#x27;, -3.14257...</td><td style=\"text-align: right;\">   3</td><td style=\"text-align: right;\"> 1.25675</td><td style=\"text-align: right;\">0       </td></tr>\n",
       "<tr><td><i style='opacity: 0.6'>4</i></td><td>&#x27;[0.500501811504364, 0.500938892364502, 0.500492...</td><td style=\"text-align: right;\">              0.500577</td><td style=\"text-align: right;\">     32879  </td><td>&#x27;[-9.629667282104492, -10.671297073364258, -11.0...</td><td>&quot;[[(&#x27;arg&#x27;, -7.079741477966309), (&#x27;zumindest&#x27;, -6...</td><td>&#x27;Native American Energy Act - (Sec. 3) Amends th...</td><td>Native American Energy Act                         </td><td>training</td><td>[[0], [], [1], [], [2], [], [3]]                   </td><td>&#x27;[[0, 6], [6, 7], [7, 15], [15, 16], [16, 22], [...</td><td>&#x27;&lt;extra_id_0&gt; to be approved if the Secretary do...</td><td>&#x27;[[0], [], [1], [], [2], [], [3], [], [4, 5], [5...</td><td>&#x27;[[0, 12], [12, 13], [13, 15], [15, 16], [16, 18...</td><td>&#x27;[-2.8132995794294402e-05, -2.1928133964538574, ...</td><td>&quot;[[(&#x27;&#x27;, -12.974101066589355), (&#x27;(&#x27;, -11.31648349...</td><td style=\"text-align: right;\">   4</td><td style=\"text-align: right;\"> 0      </td><td style=\"text-align: right;\">0       </td></tr>\n",
       "<tr><td><i style='opacity: 0.6'>5</i></td><td>&#x27;[0.500636100769043, 0.5006024241447449, 0.50052...</td><td style=\"text-align: right;\">              0.500606</td><td style=\"text-align: right;\">     54585.6</td><td>&#x27;[-12.30510139465332, -12.59483814239502, -10.84...</td><td>&quot;[[(&#x27;Visiting&#x27;, -7.1746649742126465), (&#x27;ultimate...</td><td>&#x27;Holocaust Victims Insurance Relief Act of 2001 ...</td><td>&#x27;To provide for the establishment of the Holocau...</td><td>training</td><td>&#x27;[[0], [], [1], [], [2], [], [3], [], [4], [], [...</td><td>&#x27;[[0, 2], [2, 3], [3, 10], [10, 11], [11, 14], [...</td><td>&#x27;&lt;extra_id_0&gt; or&lt;extra_id_1&gt; a policyholder domi...</td><td>&#x27;[[0], [], [1], [2], [], [3, 4], [], [5], [6], [...</td><td>&#x27;[[0, 12], [12, 13], [13, 15], [15, 27], [27, 28...</td><td>&#x27;[-1.7165990357170813e-05, -2.3321456909179688, ...</td><td>&quot;[[(&#x27;&lt;extra_id_0&gt;&#x27;, -1.7165990357170813e-05), (&#x27;...</td><td style=\"text-align: right;\">   5</td><td style=\"text-align: right;\"> 0      </td><td style=\"text-align: right;\">0       </td></tr>\n",
       "<tr><td><i style='opacity: 0.6'>6</i></td><td>&#x27;[0.5006597638130188, 0.5003625154495239, 0.5004...</td><td style=\"text-align: right;\">              0.500632</td><td style=\"text-align: right;\">     58794.1</td><td>&#x27;[-9.034614562988281, -9.330867767333984, -10.11...</td><td>&quot;[[(&#x27;solid&#x27;, -6.543978691101074), (&#x27;nici&#x27;, -7.18...</td><td>&#x27;Amends the Elementary and Secondary Education A...</td><td>&#x27;To amend the Elementary and Secondary Education...</td><td>training</td><td>&#x27;[[0], [], [1], [], [2], [], [3], [], [4], [], [...</td><td>&#x27;[[0, 2], [2, 3], [3, 8], [8, 9], [9, 12], [12, ...</td><td>&#x27;&lt;extra_id_0&gt;,&lt;extra_id_1&gt; of 1965 to establish ...</td><td>&#x27;[[0], [1, 2], [3], [], [4], [], [5], [], [6], [...</td><td>&#x27;[[0, 12], [12, 13], [13, 25], [25, 26], [26, 28...</td><td>&#x27;[-1.060956947185332e-05, -1.9707493782043457, -...</td><td>&quot;[[(&#x27;Am&#x27;, -13.150713920593262), (&#x27;&lt;extra_id_0&gt;&#x27;,...</td><td style=\"text-align: right;\">   6</td><td style=\"text-align: right;\"> 3.64009</td><td style=\"text-align: right;\">0.130435</td></tr>\n",
       "<tr><td><i style='opacity: 0.6'>7</i></td><td>&#x27;[0.5005189776420593, 0.5008106827735901, 0.5004...</td><td style=\"text-align: right;\">              0.500517</td><td style=\"text-align: right;\">     69722.6</td><td>&#x27;[-9.317082405090332, -12.136747360229492, -11.5...</td><td>&quot;[[(&#x27;Highway&#x27;, -7.318516731262207), (&#x27;reason&#x27;, -...</td><td>&#x27;Gallatin Land Consolidation Act of 1998 - Provi...</td><td>Gallatin Land Consolidation Act of 1998            </td><td>training</td><td>&#x27;[[0], [1], [], [2], [], [3], [4], [5], [], [6],...</td><td>&#x27;[[0, 3], [3, 8], [8, 9], [9, 13], [13, 14], [14...</td><td>&lt;extra_id_0&gt; (GALlatin Land Consolidation Act      </td><td>&#x27;[[0], [], [1], [2], [3], [4], [], [5], [], [6],...</td><td>&#x27;[[0, 12], [12, 13], [13, 14], [14, 15], [15, 17...</td><td>&#x27;[-2.7418100216891617e-06, -1.2507578134536743, ...</td><td>&quot;[[(&#x27;&lt;extra_id_0&gt;&#x27;, -2.7418100216891617e-06), (&#x27;...</td><td style=\"text-align: right;\">   7</td><td style=\"text-align: right;\">12.606  </td><td style=\"text-align: right;\">0.615385</td></tr>\n",
       "<tr><td><i style='opacity: 0.6'>8</i></td><td>&#x27;[0.5004742741584778, 0.5004647374153137, 0.5004...</td><td style=\"text-align: right;\">              0.500543</td><td style=\"text-align: right;\">     62778.4</td><td>&#x27;[-10.367053985595703, -12.382671356201172, -10....</td><td>&quot;[[(&#x27;fighting&#x27;, -6.927959442138672), (&#x27;theater&#x27;,...</td><td>&#x27;Marine Debris Act Reauthorization Amendments of...</td><td>&#x27;To reauthorize and amend the Marine Debris Rese...</td><td>training</td><td>&#x27;[[0], [], [1, 2], [2], [3], [4], [], [5], [], [...</td><td>&#x27;[[0, 2], [2, 3], [3, 4], [4, 5], [5, 11], [11, ...</td><td>&lt;extra_id_0&gt; the Marine Debris Act Reauthorization </td><td>&#x27;[[0], [], [1], [], [2], [], [3], [4], [5], [], ...</td><td>&#x27;[[0, 12], [12, 13], [13, 16], [16, 17], [17, 23...</td><td>&#x27;[-2.264974000354414e-06, -2.5343732833862305, -...</td><td>&quot;[[(&#x27;&lt;extra_id_19&gt;&#x27;, -16.30010986328125), (&#x27;&lt;ext...</td><td style=\"text-align: right;\">   8</td><td style=\"text-align: right;\">10.5496 </td><td style=\"text-align: right;\">0.5     </td></tr>\n",
       "<tr><td><i style='opacity: 0.6'>9</i></td><td>&#x27;[0.50039142370224, 0.5006950497627258, 0.500831...</td><td style=\"text-align: right;\">              0.500599</td><td style=\"text-align: right;\">     49746.6</td><td>&#x27;[-11.250298500061035, -11.582002639770508, -11....</td><td>&quot;[[(&#x27;Evil&#x27;, -7.1361470222473145), (&#x27;Encyclopedia...</td><td>&#x27;Indian Needs Assessment and Program Evaluation ...</td><td>&#x27;A bill to provide for periodic Indian needs ass...</td><td>training</td><td>&#x27;[[0], [], [1], [], [2], [], [3], [], [4], [], [...</td><td>&#x27;[[0, 1], [1, 2], [2, 6], [6, 7], [7, 9], [9, 10...</td><td>&lt;extra_id_0&gt; of 2001 - Directs the Secretary of    </td><td>&#x27;[[0], [], [1], [], [2], [], [3, 4], [], [5], [6...</td><td>&#x27;[[0, 12], [12, 13], [13, 15], [15, 16], [16, 20...</td><td>&#x27;[-1.6689285757820471e-06, -1.7190946340560913, ...</td><td>&quot;[[(&#x27;&#x27;, -15.471539497375488), (&#x27;&lt;extra_id_0&gt;&#x27;, -...</td><td style=\"text-align: right;\">   9</td><td style=\"text-align: right;\"> 0      </td><td style=\"text-align: right;\">0       </td></tr>\n",
       "</tbody>\n",
       "</table>"
      ],
      "text/plain": [
       "  #  token_deps                                             data_error_potential    perplexity  token_logprobs                                       top_logprobs                                         input                                                target                                               split     token_label_positions                                token_label_offsets                                  generated_output                                     generated_token_label_positions                      generated_token_label_offsets                        generated_token_logprobs                             generated_top_logprobs                                 id      bleu     rouge\n",
       "  0  '[0.5005900859832764, 0.5010707378387451, 0.5003...                0.500567       57352.1  '[-9.821720123291016, -12.884685516357422, -11.4...  \"[[('Explo', -6.697160720825195), ('Brent', -7.1...  'Shields a business entity from civil liability ...  'A bill to limit the civil liability of business...  training  '[[0], [], [1], [], [2], [], [3], [], [4], [], [...  '[[0, 1], [1, 2], [2, 6], [6, 7], [7, 9], [9, 10...  '<extra_id_0> if such State laws are inconsisten...  '[[0], [], [1, 2], [2], [], [3], [], [4], [], [5...  '[[0, 12], [12, 13], [13, 14], [14, 15], [15, 16...  '[-3.5762778338721546e-07, -2.454937219619751, -...  \"[[('', -16.516389846801758), ('<extra_id_3>', -...     0   0        0\n",
       "  1  '[0.5005096197128296, 0.5005630850791931, 0.5005...                0.500563       50127.5  '[-10.991921424865723, -11.315881729125977, -10....  \"[[('pirate', -7.196037292480469), ('museum', -7...  'Human Rights Information Act - Requires certain...  Human Rights Information Act                         training  [[0], [], [1], [], [2], [], [3]]                     '[[0, 5], [5, 6], [6, 12], [12, 13], [13, 24], [...  <extra_id_0> to review, declassify, and publicly     '[[0], [], [1], [], [2], [3], [], [4], [5], [6],...  '[[0, 12], [12, 13], [13, 15], [15, 16], [16, 22...  '[-1.6689285757820471e-06, -1.7782273292541504, ...  \"[[('', -15.420294761657715), ('<extra_id_3>', -...     1   0        0\n",
       "  2  '[0.5006729364395142, 0.5008552074432373, 0.5009...                0.500627       73623.3  '[-11.187646865844727, -9.137674331665039, -11.8...  \"[[('segments', -6.600510120391846), ('seamlessl...  'Jackie Robinson Commemorative Coin Act - Direct...  Jackie Robinson Commemorative Coin Act               training  '[[0], [], [1], [], [2], [3], [4], [], [5], [], ...  '[[0, 6], [6, 7], [7, 15], [15, 16], [16, 21], [...  Jackie Robinson Commemorative Coin Act - Direct      '[[0], [], [1], [], [2], [3], [4], [], [5], [], ...  '[[0, 6], [6, 7], [7, 15], [15, 16], [16, 21], [...  '[-0.4167225956916809, -0.0022107940167188644, -...  \"[[('Jackie', -0.4167225956916809), ('<extra_id_...     2  61.4788   0.909091\n",
       "  3  '[0.5006540417671204, 0.5014073848724365, 0.5003...                0.500672       81645.9  '[-12.535238265991211, -11.838638305664062, -10....  \"[[('pouvoir', -6.636413097381592), ('hari', -6....  'Amends the Internal Revenue Code to provide (te...  'To amend the Internal Revenue Code to provide t...  training  '[[0], [], [1], [], [2], [], [3], [], [4], [], [...  '[[0, 2], [2, 3], [3, 8], [8, 9], [9, 12], [12, ...  <extra_id_0> stock.                                  [[0], [], [1], [2]]                                  [[0, 12], [12, 13], [13, 18], [18, 19]]              '[-0.632779061794281, -2.335423469543457, -2.436...  \"[[('Mod', -3.213479995727539), ('Der', -3.14257...     3   1.25675  0\n",
       "  4  '[0.500501811504364, 0.500938892364502, 0.500492...                0.500577       32879    '[-9.629667282104492, -10.671297073364258, -11.0...  \"[[('arg', -7.079741477966309), ('zumindest', -6...  'Native American Energy Act - (Sec. 3) Amends th...  Native American Energy Act                           training  [[0], [], [1], [], [2], [], [3]]                     '[[0, 6], [6, 7], [7, 15], [15, 16], [16, 22], [...  '<extra_id_0> to be approved if the Secretary do...  '[[0], [], [1], [], [2], [], [3], [], [4, 5], [5...  '[[0, 12], [12, 13], [13, 15], [15, 16], [16, 18...  '[-2.8132995794294402e-05, -2.1928133964538574, ...  \"[[('', -12.974101066589355), ('(', -11.31648349...     4   0        0\n",
       "  5  '[0.500636100769043, 0.5006024241447449, 0.50052...                0.500606       54585.6  '[-12.30510139465332, -12.59483814239502, -10.84...  \"[[('Visiting', -7.1746649742126465), ('ultimate...  'Holocaust Victims Insurance Relief Act of 2001 ...  'To provide for the establishment of the Holocau...  training  '[[0], [], [1], [], [2], [], [3], [], [4], [], [...  '[[0, 2], [2, 3], [3, 10], [10, 11], [11, 14], [...  '<extra_id_0> or<extra_id_1> a policyholder domi...  '[[0], [], [1], [2], [], [3, 4], [], [5], [6], [...  '[[0, 12], [12, 13], [13, 15], [15, 27], [27, 28...  '[-1.7165990357170813e-05, -2.3321456909179688, ...  \"[[('<extra_id_0>', -1.7165990357170813e-05), ('...     5   0        0\n",
       "  6  '[0.5006597638130188, 0.5003625154495239, 0.5004...                0.500632       58794.1  '[-9.034614562988281, -9.330867767333984, -10.11...  \"[[('solid', -6.543978691101074), ('nici', -7.18...  'Amends the Elementary and Secondary Education A...  'To amend the Elementary and Secondary Education...  training  '[[0], [], [1], [], [2], [], [3], [], [4], [], [...  '[[0, 2], [2, 3], [3, 8], [8, 9], [9, 12], [12, ...  '<extra_id_0>,<extra_id_1> of 1965 to establish ...  '[[0], [1, 2], [3], [], [4], [], [5], [], [6], [...  '[[0, 12], [12, 13], [13, 25], [25, 26], [26, 28...  '[-1.060956947185332e-05, -1.9707493782043457, -...  \"[[('Am', -13.150713920593262), ('<extra_id_0>',...     6   3.64009  0.130435\n",
       "  7  '[0.5005189776420593, 0.5008106827735901, 0.5004...                0.500517       69722.6  '[-9.317082405090332, -12.136747360229492, -11.5...  \"[[('Highway', -7.318516731262207), ('reason', -...  'Gallatin Land Consolidation Act of 1998 - Provi...  Gallatin Land Consolidation Act of 1998              training  '[[0], [1], [], [2], [], [3], [4], [5], [], [6],...  '[[0, 3], [3, 8], [8, 9], [9, 13], [13, 14], [14...  <extra_id_0> (GALlatin Land Consolidation Act        '[[0], [], [1], [2], [3], [4], [], [5], [], [6],...  '[[0, 12], [12, 13], [13, 14], [14, 15], [15, 17...  '[-2.7418100216891617e-06, -1.2507578134536743, ...  \"[[('<extra_id_0>', -2.7418100216891617e-06), ('...     7  12.606    0.615385\n",
       "  8  '[0.5004742741584778, 0.5004647374153137, 0.5004...                0.500543       62778.4  '[-10.367053985595703, -12.382671356201172, -10....  \"[[('fighting', -6.927959442138672), ('theater',...  'Marine Debris Act Reauthorization Amendments of...  'To reauthorize and amend the Marine Debris Rese...  training  '[[0], [], [1, 2], [2], [3], [4], [], [5], [], [...  '[[0, 2], [2, 3], [3, 4], [4, 5], [5, 11], [11, ...  <extra_id_0> the Marine Debris Act Reauthorization   '[[0], [], [1], [], [2], [], [3], [4], [5], [], ...  '[[0, 12], [12, 13], [13, 16], [16, 17], [17, 23...  '[-2.264974000354414e-06, -2.5343732833862305, -...  \"[[('<extra_id_19>', -16.30010986328125), ('<ext...     8  10.5496   0.5\n",
       "  9  '[0.50039142370224, 0.5006950497627258, 0.500831...                0.500599       49746.6  '[-11.250298500061035, -11.582002639770508, -11....  \"[[('Evil', -7.1361470222473145), ('Encyclopedia...  'Indian Needs Assessment and Program Evaluation ...  'A bill to provide for periodic Indian needs ass...  training  '[[0], [], [1], [], [2], [], [3], [], [4], [], [...  '[[0, 1], [1, 2], [2, 6], [6, 7], [7, 9], [9, 10...  <extra_id_0> of 2001 - Directs the Secretary of      '[[0], [], [1], [], [2], [], [3, 4], [], [5], [6...  '[[0, 12], [12, 13], [13, 15], [15, 16], [16, 20...  '[-1.6689285757820471e-06, -1.7190946340560913, ...  \"[[('', -15.471539497375488), ('<extra_id_0>', -...     9   0        0"
      ]
     },
     "execution_count": 145,
     "metadata": {},
     "output_type": "execute_result"
    }
   ],
   "source": [
    "token_label_ids = [1, 10, 21, ...]\n",
    "top_token_label_ids = [[2, 1, 3, 4, 5], [10, 50, ...], ...]\n",
    "\n",
    "top_logprobs = [[0.5, 0.7, 0.8], ...]\n",
    "\n",
    "\n",
    "top_logprobs: List[List[Tuple]]\n",
    "[[(\"a\", 1, \"b\", 2, ...)]]\n",
    "    \n",
    "label_idx_in_top: List[int]\n",
    "[1, ...]"
   ]
  },
  {
   "cell_type": "code",
   "execution_count": 16,
   "id": "a70be89a",
   "metadata": {},
   "outputs": [],
   "source": [
    "import pyarrow as pa"
   ]
  },
  {
   "cell_type": "code",
   "execution_count": 17,
   "id": "f2cf8ac0",
   "metadata": {},
   "outputs": [],
   "source": [
    "tokens = [1, 2, 3]\n",
    "str_tokens = [\"a\", \"hi\", \"b\"]\n",
    "complex_pa_array = [\n",
    "    [\n",
    "        [(\"A\", 1), (\"B\", 2)], [(\"C\", 1), (\"B\", 2)]\n",
    "    ],\n",
    "    [\n",
    "        [(\"A\", 1), (\"B\", 2)], [(\"C\", 1), (\"B\", 2)], [(\"D\", 1), (\"B\", 2)]\n",
    "    ],\n",
    "    [\n",
    "        [(\"A\", 1), (\"B\", 2)], [(\"C\", 1), (\"B\", 2)]\n",
    "    ],  \n",
    "]\n",
    "\n",
    "TOP_LOGPROBS_SCHEMA = pa.list_(pa.map_(pa.string(), pa.float32()))\n",
    "complex_pa_array = pa.array(complex_pa_array, type=TOP_LOGPROBS_SCHEMA)\n",
    "\n",
    "    \n",
    "\n",
    "arr = pa.StructArray.from_arrays(\n",
    "            [tokens, str_tokens, complex_pa_array],\n",
    "            [\"tokens\", \"str_vals\", \"complex\"],\n",
    "        )"
   ]
  },
  {
   "cell_type": "code",
   "execution_count": 18,
   "id": "0238455b",
   "metadata": {},
   "outputs": [
    {
     "data": {
      "text/plain": [
       "<pyarrow.StructScalar: [('tokens', 1), ('str_vals', 'a'), ('complex', [[('A', 1.0), ('B', 2.0)], [('C', 1.0), ('B', 2.0)]])]>"
      ]
     },
     "execution_count": 18,
     "metadata": {},
     "output_type": "execute_result"
    }
   ],
   "source": [
    "arr[0]"
   ]
  },
  {
   "cell_type": "code",
   "execution_count": 19,
   "id": "1da20952",
   "metadata": {},
   "outputs": [],
   "source": [
    "import vaex\n",
    "\n",
    "df = vaex.from_dict(\n",
    "    {\"test\": [1, 2, 3]}\n",
    ")"
   ]
  },
  {
   "cell_type": "code",
   "execution_count": 20,
   "id": "e4965bac",
   "metadata": {},
   "outputs": [],
   "source": [
    "df['combined'] = arr"
   ]
  },
  {
   "cell_type": "code",
   "execution_count": 21,
   "id": "815b302a",
   "metadata": {},
   "outputs": [
    {
     "data": {
      "text/html": [
       "<table>\n",
       "<thead>\n",
       "<tr><th>#                            </th><th style=\"text-align: right;\">  test</th><th>combined                                           </th></tr>\n",
       "</thead>\n",
       "<tbody>\n",
       "<tr><td><i style='opacity: 0.6'>0</i></td><td style=\"text-align: right;\">     1</td><td>&quot;{&#x27;tokens&#x27;: 1, &#x27;str_vals&#x27;: &#x27;a&#x27;, &#x27;complex&#x27;: [[(&#x27;A...</td></tr>\n",
       "<tr><td><i style='opacity: 0.6'>1</i></td><td style=\"text-align: right;\">     2</td><td>&quot;{&#x27;tokens&#x27;: 2, &#x27;str_vals&#x27;: &#x27;hi&#x27;, &#x27;complex&#x27;: [[(&#x27;...</td></tr>\n",
       "<tr><td><i style='opacity: 0.6'>2</i></td><td style=\"text-align: right;\">     3</td><td>&quot;{&#x27;tokens&#x27;: 3, &#x27;str_vals&#x27;: &#x27;b&#x27;, &#x27;complex&#x27;: [[(&#x27;A...</td></tr>\n",
       "</tbody>\n",
       "</table>"
      ],
      "text/plain": [
       "  #    test  combined\n",
       "  0       1  \"{'tokens': 1, 'str_vals': 'a', 'complex': [[('A...\n",
       "  1       2  \"{'tokens': 2, 'str_vals': 'hi', 'complex': [[('...\n",
       "  2       3  \"{'tokens': 3, 'str_vals': 'b', 'complex': [[('A..."
      ]
     },
     "execution_count": 21,
     "metadata": {},
     "output_type": "execute_result"
    }
   ],
   "source": [
    "df"
   ]
  },
  {
   "cell_type": "code",
   "execution_count": 22,
   "id": "331db7c7",
   "metadata": {},
   "outputs": [
    {
     "data": {
      "text/html": [
       "<table>\n",
       "<thead>\n",
       "<tr><th>#                            </th><th style=\"text-align: right;\">  test</th></tr>\n",
       "</thead>\n",
       "<tbody>\n",
       "<tr><td><i style='opacity: 0.6'>0</i></td><td style=\"text-align: right;\">     1</td></tr>\n",
       "<tr><td><i style='opacity: 0.6'>1</i></td><td style=\"text-align: right;\">     2</td></tr>\n",
       "<tr><td><i style='opacity: 0.6'>2</i></td><td style=\"text-align: right;\">     3</td></tr>\n",
       "</tbody>\n",
       "</table>"
      ],
      "text/plain": [
       "  #    test\n",
       "  0       1\n",
       "  1       2\n",
       "  2       3"
      ]
     },
     "execution_count": 22,
     "metadata": {},
     "output_type": "execute_result"
    }
   ],
   "source": [
    "df.drop('combined')"
   ]
  },
  {
   "cell_type": "code",
   "execution_count": 204,
   "id": "9ec380cf",
   "metadata": {},
   "outputs": [],
   "source": [
    "df2 = df.struct.flatten('combined')"
   ]
  },
  {
   "cell_type": "code",
   "execution_count": 205,
   "id": "53e59ba6",
   "metadata": {},
   "outputs": [
    {
     "data": {
      "text/html": [
       "<table>\n",
       "<thead>\n",
       "<tr><th>#                            </th><th style=\"text-align: right;\">  test</th><th style=\"text-align: right;\">  combined_tokens</th><th>combined_str_vals  </th><th>combined_complex                                   </th></tr>\n",
       "</thead>\n",
       "<tbody>\n",
       "<tr><td><i style='opacity: 0.6'>0</i></td><td style=\"text-align: right;\">     1</td><td style=\"text-align: right;\">                1</td><td>a                  </td><td>&quot;[[(&#x27;A&#x27;, 1.0), (&#x27;B&#x27;, 2.0)], [(&#x27;C&#x27;, 1.0), (&#x27;B&#x27;, 2...</td></tr>\n",
       "<tr><td><i style='opacity: 0.6'>1</i></td><td style=\"text-align: right;\">     2</td><td style=\"text-align: right;\">                2</td><td>hi                 </td><td>&quot;[[(&#x27;A&#x27;, 1.0), (&#x27;B&#x27;, 2.0)], [(&#x27;C&#x27;, 1.0), (&#x27;B&#x27;, 2...</td></tr>\n",
       "<tr><td><i style='opacity: 0.6'>2</i></td><td style=\"text-align: right;\">     3</td><td style=\"text-align: right;\">                3</td><td>b                  </td><td>&quot;[[(&#x27;A&#x27;, 1.0), (&#x27;B&#x27;, 2.0)], [(&#x27;C&#x27;, 1.0), (&#x27;B&#x27;, 2...</td></tr>\n",
       "</tbody>\n",
       "</table>"
      ],
      "text/plain": [
       "  #    test    combined_tokens  combined_str_vals    combined_complex\n",
       "  0       1                  1  a                    \"[[('A', 1.0), ('B', 2.0)], [('C', 1.0), ('B', 2...\n",
       "  1       2                  2  hi                   \"[[('A', 1.0), ('B', 2.0)], [('C', 1.0), ('B', 2...\n",
       "  2       3                  3  b                    \"[[('A', 1.0), ('B', 2.0)], [('C', 1.0), ('B', 2..."
      ]
     },
     "execution_count": 205,
     "metadata": {},
     "output_type": "execute_result"
    }
   ],
   "source": [
    "df2"
   ]
  },
  {
   "cell_type": "code",
   "execution_count": 271,
   "id": "17ef4d52",
   "metadata": {},
   "outputs": [],
   "source": [
    "df_test = vaex.from_dict(\n",
    "    {\"test\": [1]*10_000}\n",
    ")"
   ]
  },
  {
   "cell_type": "code",
   "execution_count": 272,
   "id": "d8f28346",
   "metadata": {},
   "outputs": [],
   "source": [
    "def _helper(input_vals):\n",
    "    return input_vals + 1\n",
    "\n",
    "@vaex.register_function()\n",
    "def text(input_vals):\n",
    "    return _helper(input_vals)\n",
    "    "
   ]
  },
  {
   "cell_type": "code",
   "execution_count": null,
   "id": "5475d344",
   "metadata": {},
   "outputs": [],
   "source": [
    "@vaex.register_function()\n",
    "def compute_dep(\n",
    "    top_k: pa.array, labels: pa.array\n",
    "):\n",
    "    deps = np.zeros(10)\n",
    "    \n",
    "    return pa.array(deps)"
   ]
  },
  {
   "cell_type": "code",
   "execution_count": 273,
   "id": "61541aaa",
   "metadata": {},
   "outputs": [],
   "source": [
    "df_test['new'] = df.func.text(df['top_k'], df['labels'])"
   ]
  },
  {
   "cell_type": "code",
   "execution_count": 274,
   "id": "345461ff",
   "metadata": {},
   "outputs": [
    {
     "data": {
      "text/html": [
       "<table>\n",
       "<thead>\n",
       "<tr><th>#                                </th><th>test  </th><th>new  </th></tr>\n",
       "</thead>\n",
       "<tbody>\n",
       "<tr><td><i style='opacity: 0.6'>0</i>    </td><td>1     </td><td>2    </td></tr>\n",
       "<tr><td><i style='opacity: 0.6'>1</i>    </td><td>1     </td><td>2    </td></tr>\n",
       "<tr><td><i style='opacity: 0.6'>2</i>    </td><td>1     </td><td>2    </td></tr>\n",
       "<tr><td><i style='opacity: 0.6'>3</i>    </td><td>1     </td><td>2    </td></tr>\n",
       "<tr><td><i style='opacity: 0.6'>4</i>    </td><td>1     </td><td>2    </td></tr>\n",
       "<tr><td>...                              </td><td>...   </td><td>...  </td></tr>\n",
       "<tr><td><i style='opacity: 0.6'>9,995</i></td><td>1     </td><td>2    </td></tr>\n",
       "<tr><td><i style='opacity: 0.6'>9,996</i></td><td>1     </td><td>2    </td></tr>\n",
       "<tr><td><i style='opacity: 0.6'>9,997</i></td><td>1     </td><td>2    </td></tr>\n",
       "<tr><td><i style='opacity: 0.6'>9,998</i></td><td>1     </td><td>2    </td></tr>\n",
       "<tr><td><i style='opacity: 0.6'>9,999</i></td><td>1     </td><td>2    </td></tr>\n",
       "</tbody>\n",
       "</table>"
      ],
      "text/plain": [
       "#      test    new\n",
       "0      1       2\n",
       "1      1       2\n",
       "2      1       2\n",
       "3      1       2\n",
       "4      1       2\n",
       "...    ...     ...\n",
       "9,995  1       2\n",
       "9,996  1       2\n",
       "9,997  1       2\n",
       "9,998  1       2\n",
       "9,999  1       2"
      ]
     },
     "execution_count": 274,
     "metadata": {},
     "output_type": "execute_result"
    }
   ],
   "source": [
    "df_test"
   ]
  },
  {
   "cell_type": "code",
   "execution_count": null,
   "id": "3a99fd1a",
   "metadata": {},
   "outputs": [],
   "source": []
  }
 ],
 "metadata": {
  "kernelspec": {
   "display_name": "dq_local",
   "language": "python",
   "name": "dq_local"
  },
  "language_info": {
   "codemirror_mode": {
    "name": "ipython",
    "version": 3
   },
   "file_extension": ".py",
   "mimetype": "text/x-python",
   "name": "python",
   "nbconvert_exporter": "python",
   "pygments_lexer": "ipython3",
   "version": "3.9.6"
  }
 },
 "nbformat": 4,
 "nbformat_minor": 5
}
