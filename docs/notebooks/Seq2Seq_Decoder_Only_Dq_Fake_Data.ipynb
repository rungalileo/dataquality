{
 "cells": [
  {
   "cell_type": "markdown",
   "id": "a46f6171",
   "metadata": {},
   "source": [
    "# Seq2Seq Decoder-Only DQ Test Notebook\n",
    "\n",
    "In this notebook we test the dq client for **DecoderOnly** models using simulated / fake data. The main intention is to battle test the different components of the client without training an actual model - i.e. optimizing for speed!\n",
    "\n",
    "Things that we test:\n",
    "1. Using the watch function - to set the tokenizer + response_template + generation_config \n",
    "2. Logging data (input + target output + formatted prompt) - ensuring\n",
    "   that we properly handle identifying the `response_template` / the \n",
    "   response tokens\n",
    "3. Logging model outputs 1+ epoch - ensuring we strip just the logits\n",
    "   for the response tokens\n",
    "4. Fake model generations - interestingly the best way to do this may be with a small validation dataset + a real LLM model. This depends a bit on design decisions around logging for generation.\n",
    "\n",
    "NOTE: For a first pass we work with just a training dataset\n",
    "\n",
    "Let's get testing"
   ]
  },
  {
   "cell_type": "code",
   "execution_count": null,
   "id": "c545a7de",
   "metadata": {},
   "outputs": [],
   "source": [
    "from datasets import load_dataset, Dataset\n",
    "import numpy as np\n",
    "\n",
    "%load_ext autoreload\n",
    "%autoreload 2"
   ]
  },
  {
   "cell_type": "markdown",
   "id": "bbbf1c7a",
   "metadata": {},
   "source": [
    "## Pull data from hf hub\n",
    "\n",
    "Since part of the dq processing involves tokenizing and aligning text / token indices, we work with a small real-world dataset - rather than dummy data.\n",
    "\n",
    "The Billsum dataset contains three columns:\n",
    "\n",
    "<p style=\"text-align: center;\">|| text || summary || title ||</p>\n",
    "\n",
    "We look at just **summary** and **title** and map them as follows:\n",
    "<p style=\"text-align: center;\">(summary, title) --> (input context,  target output)</p>\n",
    "\n",
    "For **DecoderOnly** models we need to specify a formatting function. We use a simple formatting function to create the `formatted_prompt`:\n",
    "```\n",
    "formatted_prompt = f\"\"\"Input: {summary}\\n\\nResponse: {title}\"\"\"\n",
    "```\n",
    "\n",
    "We also use a small subset of the first 100 data rows!"
   ]
  },
  {
   "cell_type": "code",
   "execution_count": null,
   "id": "d334e12b",
   "metadata": {},
   "outputs": [],
   "source": [
    "response_template = \"###Response:\"\n",
    "def create_formatted_prompt(row, idx):\n",
    "    formatted_prompt = f\"\"\"###Input: {row['summary']}\\n\\n###Response: {row['title']}\"\"\"\n",
    "    return {\"formatted_prompt\": formatted_prompt, \"id\": idx}"
   ]
  },
  {
   "cell_type": "code",
   "execution_count": null,
   "id": "85202b52",
   "metadata": {},
   "outputs": [],
   "source": [
    "dataset_size = 10\n",
    "\n",
    "ds = load_dataset(\"billsum\")\n",
    "ds = ds.remove_columns('text')\n",
    "# Add ids\n",
    "ds = ds.map(create_formatted_prompt, with_indices=True)\n",
    "ds_train = Dataset.from_dict(ds['train'][:dataset_size])\n",
    "ds_val = Dataset.from_dict(ds['test'][:dataset_size])\n",
    "ds_train"
   ]
  },
  {
   "cell_type": "markdown",
   "id": "a9609354",
   "metadata": {},
   "source": [
    "## Tokenizing the Data\n",
    "\n",
    "Tokenize the data for use later when faking our logging - i.e. to make sure we log the correct number of logits"
   ]
  },
  {
   "cell_type": "code",
   "execution_count": null,
   "id": "172acda8",
   "metadata": {},
   "outputs": [],
   "source": [
    "from transformers import AutoTokenizer, GenerationConfig, AutoModelForCausalLM, PreTrainedTokenizerFast\n",
    "\n",
    "tokenizer = AutoTokenizer.from_pretrained(\"facebook/opt-125m\", use_fast=True)\n",
    "model = AutoModelForCausalLM.from_pretrained(\"facebook/opt-125m\")"
   ]
  },
  {
   "cell_type": "code",
   "execution_count": null,
   "id": "247eefb0",
   "metadata": {},
   "outputs": [],
   "source": [
    "# Tokenize things\n",
    "def tokenize_formatted_prompts(row):\n",
    "    return tokenizer(row['formatted_prompt'])\n",
    "\n",
    "ds_train = ds_train.map(tokenize_formatted_prompts)\n",
    "ds_val = ds_val.map(tokenize_formatted_prompts)"
   ]
  },
  {
   "cell_type": "code",
   "execution_count": null,
   "id": "0e9bdfa0",
   "metadata": {},
   "outputs": [],
   "source": [
    "ds_train[0]"
   ]
  },
  {
   "cell_type": "code",
   "execution_count": null,
   "id": "def75c6f",
   "metadata": {},
   "outputs": [],
   "source": [
    "import os\n",
    "os.environ['GALILEO_CONSOLE_URL']=\"\"\n",
    "os.environ[\"GALILEO_USERNAME\"]=\"\"\n",
    "os.environ[\"GALILEO_PASSWORD\"]=\"\"\n",
    "\n",
    "\n",
    "import dataquality as dq\n",
    "from dataquality.integrations.seq2seq.core import watch\n",
    "dq.configure()"
   ]
  },
  {
   "cell_type": "code",
   "execution_count": null,
   "id": "f6c52f78",
   "metadata": {},
   "outputs": [],
   "source": [
    "dq.init(\"seq2seq\", project_name=\"Seq2Seq_DecoderOnly_Generation\")\n",
    "\n",
    "temperature = 0.\n",
    "generation_config = GenerationConfig(\n",
    "    max_new_tokens=15,\n",
    "    # Whether we use multinomial sampling\n",
    "    do_sample=temperature >= 1e-5,\n",
    "    temperature=temperature,\n",
    ")\n",
    "\n",
    "response_template = \"###Response:\"\n",
    "response_template = tokenizer(response_template, add_special_tokens=False)[\"input_ids\"]\n",
    "\n",
    "watch(\n",
    "    tokenizer,\n",
    "    \"decoder_only\",\n",
    "    model,\n",
    "    generation_config,\n",
    "    generation_splits=[],\n",
    "    max_input_tokens=1024,\n",
    "    response_template=response_template\n",
    ")"
   ]
  },
  {
   "cell_type": "code",
   "execution_count": null,
   "id": "c9a822fe",
   "metadata": {},
   "outputs": [],
   "source": [
    "def log_dataset(ds, input_col=\"summary\", target_col=\"title\", formatted_prompt=\"formatted_prompt\"):\n",
    "    dq.log_dataset(\n",
    "        ds,\n",
    "        text=input_col,\n",
    "        label=target_col,\n",
    "        formatted_prompt=formatted_prompt,\n",
    "        split=\"training\"\n",
    "    )\n",
    "\n",
    "# Log just for training\n",
    "log_dataset(ds_train)"
   ]
  },
  {
   "cell_type": "markdown",
   "id": "13632aba",
   "metadata": {},
   "source": [
    "## Logging Model Outputs\n",
    "Log 1 epoch of fake model output data: includes just logits!"
   ]
  },
  {
   "cell_type": "code",
   "execution_count": null,
   "id": "e84c12b0",
   "metadata": {},
   "outputs": [],
   "source": [
    "from time import time\n",
    "\n",
    "num_logits = len(tokenizer)\n",
    "batch_size = 10\n",
    "\n",
    "def log_epoch(ds):\n",
    "    #ids = ds['id']\n",
    "    max_seq_length = np.max([len(ids) for ids in ds['input_ids']])\n",
    "    print(\"max seq len\", max_seq_length)\n",
    "    for i in range(0, len(ds), batch_size):\n",
    "        print (f\"Processing batch {i // batch_size}\")\n",
    "        #batch_ids = ids[i: i + batch_size]\n",
    "        batch = ds[i: i + batch_size]\n",
    "        batch_ids = batch['id']\n",
    "        model_inputs = {\n",
    "            'input_ids': batch['input_ids'],\n",
    "            'attention_mask': batch['attention_mask'],\n",
    "        }\n",
    "        model_inputs = tokenizer.pad(model_inputs, padding=True, return_tensors='pt')\n",
    "        model_inputs['labels'] = model_inputs['input_ids'].clone()\n",
    "        print (\"Model is working...\")\n",
    "        model_outputs = model(**model_inputs)\n",
    "        print (\"DONE!\")\n",
    "        print()\n",
    "        \n",
    "        dq.log_model_outputs(\n",
    "            logits = model_outputs.logits,\n",
    "            ids = batch_ids\n",
    "        )\n",
    "\n",
    "dq.set_epoch(0)\n",
    "dq.set_split(\"train\")\n",
    "log_epoch(ds_train)"
   ]
  },
  {
   "cell_type": "code",
   "execution_count": null,
   "id": "516a19f3",
   "metadata": {},
   "outputs": [],
   "source": [
    "dq.finish(data_embs_col=\"title\")"
   ]
  }
 ],
 "metadata": {
  "kernelspec": {
   "display_name": "mlcore",
   "language": "python",
   "name": "mlcore"
  },
  "language_info": {
   "codemirror_mode": {
    "name": "ipython",
    "version": 3
   },
   "file_extension": ".py",
   "mimetype": "text/x-python",
   "name": "python",
   "nbconvert_exporter": "python",
   "pygments_lexer": "ipython3",
   "version": "3.9.16"
  }
 },
 "nbformat": 4,
 "nbformat_minor": 5
}
