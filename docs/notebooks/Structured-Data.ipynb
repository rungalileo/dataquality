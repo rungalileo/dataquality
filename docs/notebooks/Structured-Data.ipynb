{
 "cells": [
  {
   "cell_type": "markdown",
   "id": "be0bbd5a-4b10-428c-8c38-fc3dd62b121e",
   "metadata": {},
   "source": [
    "# Simple structured data demo"
   ]
  },
  {
   "cell_type": "markdown",
   "id": "202ed4da-04be-49c3-8447-7d9e51132911",
   "metadata": {},
   "source": [
    "This is a very basic demo of how to log structured datasets for classification tasks with XGBoost."
   ]
  },
  {
   "cell_type": "code",
   "execution_count": 1,
   "id": "ba6c8e04-590b-45ac-b537-e0fc3345287f",
   "metadata": {},
   "outputs": [
    {
     "name": "stderr",
     "output_type": "stream",
     "text": [
      "/Users/elliottchartock/Code/dataquality/.venv/lib/python3.9/site-packages/dataquality/__init__.py:75: GalileoWarning: configure is deprecated, use dq.set_console_url and dq.login\n",
      "  warnings.warn(\n"
     ]
    },
    {
     "name": "stdout",
     "output_type": "stream",
     "text": [
      "📡 https://console.dev.rungalileo.io\n",
      "🔭 Logging you into Galileo\n",
      "\n",
      "🚀 You're logged in to Galileo as galileo@rungalileo.io!\n",
      "✨ Initializing existing public project 'structured-elliott'\n",
      "🏃‍♂️ Fetching existing run 'iris-uris-weallris'\n",
      "🛰 Connected to existing project 'structured-elliott', and existing run 'iris-uris-weallris'.\n"
     ]
    },
    {
     "name": "stderr",
     "output_type": "stream",
     "text": [
      "/Users/elliottchartock/Code/dataquality/.venv/lib/python3.9/site-packages/dataquality/core/init.py:140: UserWarning: Run: structured-elliott/iris-uris-weallris already exists! The existing run will get overwritten on call to finish()!\n",
      "  warnings.warn(\n"
     ]
    }
   ],
   "source": [
    "import os\n",
    "\n",
    "# os.environ['GALILEO_CONSOLE_URL']=\"http://localhost:8088\"\n",
    "# os.environ[\"GALILEO_USERNAME\"]=\"user@example.com\"\n",
    "# os.environ[\"GALILEO_PASSWORD\"]=\"Th3secret_\"\n",
    "\n",
    "os.environ['GALILEO_CONSOLE_URL']=\"https://console.dev.rungalileo.io\"\n",
    "os.environ[\"GALILEO_USERNAME\"]=\"galileo@rungalileo.io\"\n",
    "os.environ[\"GALILEO_PASSWORD\"]=\"A11a1una!\"\n",
    "\n",
    "import dataquality as dq\n",
    "dq.configure()\n",
    "\n",
    "# run_name = \"fine-wine\"\n",
    "run_name = \"iris-uris-weallris\"\n",
    "\n",
    "dq.init(\"structured_classification\", \"structured-elliott\", run_name)"
   ]
  },
  {
   "cell_type": "markdown",
   "id": "8aa050df-3637-4f83-ae84-df13a3c428ec",
   "metadata": {},
   "source": [
    "## 1. Load data"
   ]
  },
  {
   "cell_type": "code",
   "execution_count": 2,
   "id": "a74dbfd7-1a62-40c6-ab26-3f51b7142953",
   "metadata": {},
   "outputs": [],
   "source": [
    "import numpy as np\n",
    "import pandas as pd\n",
    "import xgboost as xgb\n",
    "\n",
    "from sklearn.datasets import load_iris, load_wine\n",
    "\n",
    "if run_name == \"fine-wine\":\n",
    "    X, y = load_wine(as_frame=True, return_X_y=True)\n",
    "else:\n",
    "    X, y = load_iris(as_frame=True, return_X_y=True)\n",
    "\n",
    "# When exporting to hdf5 you can't have col names containing forward slash\n",
    "X.rename(lambda x: x.replace(\"/\", \"-\"), axis=\"columns\", inplace=True)\n",
    "X.rename(lambda x: x.replace(\"(\", \"\"), axis=\"columns\", inplace=True)\n",
    "X.rename(lambda x: x.replace(\")\", \"\"), axis=\"columns\", inplace=True)\n",
    "\n",
    "\n",
    "def understand_dataset(dataset) -> None:\n",
    "    for elem in dir(dataset):\n",
    "        print(elem, type(getattr(dataset, elem)))\n",
    "\n",
    "    print(dataset.shape, y.shape)"
   ]
  },
  {
   "cell_type": "markdown",
   "id": "f7a897e1-554e-4a5c-81d8-082267d3730f",
   "metadata": {},
   "source": [
    "## 2. Create and fit model on training data"
   ]
  },
  {
   "cell_type": "code",
   "execution_count": 3,
   "id": "13c661e8-14f9-4d9f-bdb8-a4033f72faf6",
   "metadata": {},
   "outputs": [
    {
     "data": {
      "text/plain": [
       "XGBClassifier(base_score=None, booster=None, callbacks=None,\n",
       "              colsample_bylevel=None, colsample_bynode=None,\n",
       "              colsample_bytree=None, early_stopping_rounds=None,\n",
       "              enable_categorical=False, eval_metric=None, feature_types=None,\n",
       "              gamma=None, gpu_id=None, grow_policy=None, importance_type=None,\n",
       "              interaction_constraints=None, learning_rate=None, max_bin=None,\n",
       "              max_cat_threshold=None, max_cat_to_onehot=None,\n",
       "              max_delta_step=None, max_depth=None, max_leaves=None,\n",
       "              min_child_weight=None, missing=nan, monotone_constraints=None,\n",
       "              n_estimators=100, n_jobs=None, num_parallel_tree=None,\n",
       "              objective='multi:softprob', predictor=None, ...)"
      ]
     },
     "execution_count": 3,
     "metadata": {},
     "output_type": "execute_result"
    }
   ],
   "source": [
    "xgb_model = xgb.XGBClassifier(objective=\"multi:softprob\", random_state=42)\n",
    "xgb_model.fit(X, y)"
   ]
  },
  {
   "cell_type": "markdown",
   "id": "fb4df263-3953-417c-9eba-4011691f601c",
   "metadata": {},
   "source": [
    "## 3. Set labels for run"
   ]
  },
  {
   "cell_type": "code",
   "execution_count": 4,
   "id": "d0509913-18d2-48dd-ac0e-239c79d457d4",
   "metadata": {},
   "outputs": [],
   "source": [
    "target_names = load_wine().target_names\n",
    "dq.set_labels_for_run(target_names)"
   ]
  },
  {
   "cell_type": "markdown",
   "id": "b5f2634c-d32b-46ce-9d73-acc6b123578c",
   "metadata": {},
   "source": [
    "## 4. Log data!"
   ]
  },
  {
   "cell_type": "code",
   "execution_count": 5,
   "id": "3faa2b4d-fc29-45f7-9207-f92b3fd4aaa9",
   "metadata": {},
   "outputs": [],
   "source": [
    "dq.log_xgboost(\n",
    "    model=xgb_model,\n",
    "    X=X,\n",
    "    y=y,\n",
    "    split=\"training\"\n",
    ")"
   ]
  },
  {
   "cell_type": "code",
   "execution_count": 6,
   "id": "3b5782ec-2693-4810-8c10-1370b0ab614f",
   "metadata": {},
   "outputs": [],
   "source": [
    "dq.log_xgboost(\n",
    "    model=xgb_model,\n",
    "    X=X,\n",
    "    y=y,\n",
    "    split=\"test\"\n",
    ")"
   ]
  },
  {
   "cell_type": "markdown",
   "id": "2c80d1c1-a987-423d-bf93-b298de5c83e9",
   "metadata": {},
   "source": [
    "## 5. Call finish to start processing"
   ]
  },
  {
   "cell_type": "code",
   "execution_count": 7,
   "id": "5d07b384-fda4-4ca6-b5fe-0bd6319ddbe8",
   "metadata": {},
   "outputs": [
    {
     "name": "stdout",
     "output_type": "stream",
     "text": [
      "☁️ Uploading Data\n"
     ]
    },
    {
     "data": {
      "application/json": {
       "ascii": false,
       "bar_format": null,
       "colour": null,
       "elapsed": 0.026401042938232422,
       "initial": 0,
       "n": 0,
       "ncols": null,
       "nrows": 21,
       "postfix": null,
       "prefix": "Uploading data to Galileo",
       "rate": null,
       "total": 18120,
       "unit": "B",
       "unit_divisor": 1024,
       "unit_scale": true
      },
      "application/vnd.jupyter.widget-view+json": {
       "model_id": "",
       "version_major": 2,
       "version_minor": 0
      },
      "text/plain": [
       "Uploading data to Galileo:   0%|          | 0.00/17.7k [00:00<?, ?B/s]"
      ]
     },
     "metadata": {},
     "output_type": "display_data"
    },
    {
     "data": {
      "application/json": {
       "ascii": false,
       "bar_format": null,
       "colour": null,
       "elapsed": 0.01973891258239746,
       "initial": 0,
       "n": 0,
       "ncols": null,
       "nrows": 21,
       "postfix": null,
       "prefix": "Uploading data to Galileo",
       "rate": null,
       "total": 30760,
       "unit": "B",
       "unit_divisor": 1024,
       "unit_scale": true
      },
      "application/vnd.jupyter.widget-view+json": {
       "model_id": "",
       "version_major": 2,
       "version_minor": 0
      },
      "text/plain": [
       "Uploading data to Galileo:   0%|          | 0.00/30.0k [00:00<?, ?B/s]"
      ]
     },
     "metadata": {},
     "output_type": "display_data"
    },
    {
     "data": {
      "application/json": {
       "ascii": false,
       "bar_format": null,
       "colour": null,
       "elapsed": 0.019629716873168945,
       "initial": 0,
       "n": 0,
       "ncols": null,
       "nrows": 21,
       "postfix": null,
       "prefix": "Uploading data to Galileo",
       "rate": null,
       "total": 18120,
       "unit": "B",
       "unit_divisor": 1024,
       "unit_scale": true
      },
      "application/vnd.jupyter.widget-view+json": {
       "model_id": "",
       "version_major": 2,
       "version_minor": 0
      },
      "text/plain": [
       "Uploading data to Galileo:   0%|          | 0.00/17.7k [00:00<?, ?B/s]"
      ]
     },
     "metadata": {},
     "output_type": "display_data"
    },
    {
     "data": {
      "application/json": {
       "ascii": false,
       "bar_format": null,
       "colour": null,
       "elapsed": 0.02074909210205078,
       "initial": 0,
       "n": 0,
       "ncols": null,
       "nrows": 21,
       "postfix": null,
       "prefix": "Uploading data to Galileo",
       "rate": null,
       "total": 31112,
       "unit": "B",
       "unit_divisor": 1024,
       "unit_scale": true
      },
      "application/vnd.jupyter.widget-view+json": {
       "model_id": "",
       "version_major": 2,
       "version_minor": 0
      },
      "text/plain": [
       "Uploading data to Galileo:   0%|          | 0.00/30.4k [00:00<?, ?B/s]"
      ]
     },
     "metadata": {},
     "output_type": "display_data"
    },
    {
     "name": "stdout",
     "output_type": "stream",
     "text": [
      "Job default successfully submitted. Results will be available soon at https://console.dev.rungalileo.io/insights?projectId=ee785245-7d39-47f8-9f31-4cbf5023fb1a&runId=56175074-567e-47db-b578-3f59e0b72e90&split=training&metric=f1&depHigh=1&depLow=0&taskType=4\n",
      "Waiting for job...\n",
      "\tSaving processed test data\n",
      "Done! Job finished with status completed\n",
      "Click here to see your run! https://console.dev.rungalileo.io/insights?projectId=ee785245-7d39-47f8-9f31-4cbf5023fb1a&runId=56175074-567e-47db-b578-3f59e0b72e90&split=training&metric=f1&depHigh=1&depLow=0&taskType=4\n",
      "🧹 Cleaning up\n",
      "🧹 Cleaning up\n"
     ]
    },
    {
     "data": {
      "text/plain": [
       "'https://console.dev.rungalileo.io/insights?projectId=ee785245-7d39-47f8-9f31-4cbf5023fb1a&runId=56175074-567e-47db-b578-3f59e0b72e90&split=training&metric=f1&depHigh=1&depLow=0&taskType=4'"
      ]
     },
     "execution_count": 7,
     "metadata": {},
     "output_type": "execute_result"
    }
   ],
   "source": [
    "dq.finish()"
   ]
  },
  {
   "cell_type": "code",
   "execution_count": null,
   "id": "a614db0a-150c-46e8-8737-7f0d1de56d22",
   "metadata": {},
   "outputs": [],
   "source": []
  },
  {
   "cell_type": "markdown",
   "id": "ffc4f481-042c-4324-9c47-092d6befc07d",
   "metadata": {},
   "source": [
    "## Feature Pair Accuracy Matrix"
   ]
  },
  {
   "cell_type": "code",
   "execution_count": null,
   "id": "e616e610-7377-45aa-a2a4-3e2c49418e68",
   "metadata": {},
   "outputs": [],
   "source": [
    "# TODO"
   ]
  },
  {
   "cell_type": "markdown",
   "id": "53d044a2-5ea2-429b-85c9-e19431008a7d",
   "metadata": {},
   "source": [
    "## Feature Importance"
   ]
  },
  {
   "cell_type": "code",
   "execution_count": null,
   "id": "c159f87b-a2e8-4a91-9fc6-2a0f5032bd61",
   "metadata": {},
   "outputs": [],
   "source": [
    "xgb_model.feature_importances_"
   ]
  },
  {
   "cell_type": "markdown",
   "id": "9e7cba5f-fc64-42be-885b-d90450c6c801",
   "metadata": {},
   "source": [
    "## Feature Correlation Matrix"
   ]
  },
  {
   "cell_type": "code",
   "execution_count": null,
   "id": "f8fdd3e3-fff2-4182-8439-99ffcdb9e1ad",
   "metadata": {},
   "outputs": [],
   "source": [
    "import vaex\n",
    "\n",
    "df = vaex.from_pandas(X)\n",
    "df.correlation(x=df.get_column_names())"
   ]
  },
  {
   "cell_type": "code",
   "execution_count": null,
   "id": "4b91f4f0-0959-47a0-b525-d3eae788b301",
   "metadata": {},
   "outputs": [],
   "source": []
  }
 ],
 "metadata": {
  "kernelspec": {
   "display_name": "Python 3 (ipykernel)",
   "language": "python",
   "name": "python3"
  },
  "language_info": {
   "codemirror_mode": {
    "name": "ipython",
    "version": 3
   },
   "file_extension": ".py",
   "mimetype": "text/x-python",
   "name": "python",
   "nbconvert_exporter": "python",
   "pygments_lexer": "ipython3",
   "version": "3.9.6"
  }
 },
 "nbformat": 4,
 "nbformat_minor": 5
}
