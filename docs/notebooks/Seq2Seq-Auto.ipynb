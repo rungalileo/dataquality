{
 "cells": [
  {
   "cell_type": "code",
   "execution_count": null,
   "metadata": {},
   "outputs": [],
   "source": [
    "from dataquality.integrations.seq2seq.auto import auto\n",
    "from dataquality.integrations.seq2seq.schema import Seq2SeqDatasetConfig, Seq2SeqGenerationConfig"
   ]
  },
  {
   "cell_type": "code",
   "execution_count": null,
   "metadata": {},
   "outputs": [],
   "source": [
    "import os\n",
    "\n",
    "# os.environ['GALILEO_CONSOLE_URL']=\"http://localhost:8088\"\n",
    "# os.environ[\"GALILEO_USERNAME\"]=\"user@example.com\"\n",
    "# os.environ[\"GALILEO_PASSWORD\"]=\"Th3secret_\"\n",
    "\n",
    "import dataquality as dq\n",
    "dq.configure()"
   ]
  },
  {
   "cell_type": "code",
   "execution_count": null,
   "metadata": {},
   "outputs": [],
   "source": [
    "hf_dataset_config = Seq2SeqDatasetConfig(\n",
    "    hf_data=\"tatsu-lab/alpaca\"\n",
    ")\n",
    "\n",
    "auto(run_name=\"alpaca\", dataset_config=hf_dataset_config)"
   ]
  },
  {
   "cell_type": "code",
   "execution_count": null,
   "metadata": {},
   "outputs": [],
   "source": [
    "# dataset_config = Seq2SeqDatasetConfig(\n",
    "#     train_path=\"./prompt_completion.jsonl\",\n",
    "#     input_col=\"prompt\",\n",
    "#     target_col=\"completion\",\n",
    "# )\n",
    "# gen_config = Seq2SeqGenerationConfig(\n",
    "#     generation_splits=[\"training\", \"validation\", \"test\"]\n",
    "# )\n",
    "\n",
    "# auto(run_name=\"with_gen\", dataset_config=dataset_config, generation_config=gen_config)"
   ]
  },
  {
   "cell_type": "code",
   "execution_count": null,
   "metadata": {},
   "outputs": [],
   "source": []
  }
 ],
 "metadata": {
  "kernelspec": {
   "display_name": ".venv",
   "language": "python",
   "name": "python3"
  },
  "language_info": {
   "codemirror_mode": {
    "name": "ipython",
    "version": 3
   },
   "file_extension": ".py",
   "mimetype": "text/x-python",
   "name": "python",
   "nbconvert_exporter": "python",
   "pygments_lexer": "ipython3",
   "version": "3.9.6"
  },
  "orig_nbformat": 4
 },
 "nbformat": 4,
 "nbformat_minor": 2
}
