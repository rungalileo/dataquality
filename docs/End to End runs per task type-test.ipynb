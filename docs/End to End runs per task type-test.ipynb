{
 "cells": [
  {
   "cell_type": "markdown",
   "id": "579f0cbf",
   "metadata": {},
   "source": [
    "## End to end examples logging data to Galileo for Text Classification, MLTC, and NER"
   ]
  },
  {
   "cell_type": "markdown",
   "id": "27921069",
   "metadata": {},
   "source": [
    "### For understanding the client and how to get started, see the [Dataquality Demo](./Dataquality-Client-Demo.ipynb)\n",
    "### Check out the full documentation [here](https://rungalileo.gitbook.io/galileo/getting-started)\n",
    "### To see real end-to-end notebooks training real ML models, see [here](https://drive.google.com/drive/folders/17-cHuRzXIpWaD8rYwy69RMQr__HiAiDk?usp=sharing)"
   ]
  },
  {
   "cell_type": "code",
   "execution_count": 2,
   "id": "df9b0c5a",
   "metadata": {},
   "outputs": [],
   "source": [
    "## Local\n",
    "\n",
    "import os\n",
    "\n",
    "os.environ['GALILEO_CONSOLE_URL']=\"http://localhost:8088\"\n",
    "os.environ[\"GALILEO_USERNAME\"]=\"user@example.com\"\n",
    "os.environ[\"GALILEO_PASSWORD\"]=\"Th3secret_\""
   ]
  },
  {
   "cell_type": "code",
   "execution_count": 3,
   "id": "cfe0711c",
   "metadata": {
    "scrolled": true
   },
   "outputs": [
    {
     "name": "stdout",
     "output_type": "stream",
     "text": [
      "📡 http://localhost:8088\n",
      "🔭 Logging you into Galileo\n",
      "\n",
      "🚀 You're logged in to Galileo as user@example.com!\n",
      "CPU times: user 10.3 ms, sys: 5.28 ms, total: 15.6 ms\n",
      "Wall time: 311 ms\n"
     ]
    }
   ],
   "source": [
    "%%time\n",
    "import dataquality as dq\n",
    "dq.configure()"
   ]
  },
  {
   "cell_type": "code",
   "execution_count": 3,
   "id": "9bb4b87d-e97a-4325-aa1e-43390e98614a",
   "metadata": {},
   "outputs": [
    {
     "name": "stdout",
     "output_type": "stream",
     "text": [
      "📡 Retrieving run from existing project, Important Project\n",
      "🛰 Connected to project, Important Project, and run, My Report Run.\n"
     ]
    },
    {
     "name": "stderr",
     "output_type": "stream",
     "text": [
      "/Users/elliottchartock/Code/dataquality/.venv/lib/python3.9/site-packages/dataquality/core/init.py:177: UserWarning: Run: Important Project/My Report Run already exists! The existing run will get overwritten on call to finish()!\n",
      "  warnings.warn(\n"
     ]
    }
   ],
   "source": [
    "from dataquality import Condition, AggregateFunction, Operator\n",
    "\n",
    "dq.init(\"text_classification\", \"Important Project\", \"My Report Run\")\n",
    "\n",
    "conf_cond = Condition(\n",
    "    agg=AggregateFunction.avg,\n",
    "    metric=\"confidence\",\n",
    "    operator=Operator.lt,\n",
    "    threshold=0.99,\n",
    ")\n",
    "dep_cond = Condition(\n",
    "    agg=AggregateFunction.min,\n",
    "    metric=\"data_error_potential\",\n",
    "    operator=Operator.gt,\n",
    "    threshold=0.65,\n",
    ")\n",
    "dq.register_run_report(conditions=[conf_cond, dep_cond], emails=[\"echartock3@gmail.com\", \"elliott@rungalileo.io\"])"
   ]
  },
  {
   "cell_type": "markdown",
   "id": "098fd219",
   "metadata": {},
   "source": [
    "## Text Classification"
   ]
  },
  {
   "cell_type": "code",
   "execution_count": 3,
   "id": "13574b3e",
   "metadata": {
    "collapsed": true
   },
   "outputs": [
    {
     "name": "stdout",
     "output_type": "stream",
     "text": [
      "💭 Project foo was not found.\n",
      "✨ Initializing public project foo\n",
      "🏃‍♂️ Starting run bar\n",
      "🛰 Created project, foo, and new run, bar.\n",
      "Logging input data\n",
      "Logging 200 samples [########################################] 100.00% elapsed time  :     0.00s =  0.0m =  0.0h\n",
      "Logging 200 samples [########################################] 100.00% elapsed time  :     0.00s =  0.0m =  0.0h\n",
      " Done\n",
      "Input logging took 0.23761200904846191 seconds\n",
      "\n",
      "\n",
      "Logging model outputs\n",
      "Epoch 0\n",
      "----------------------------------------------------------------------------------------------------\n",
      "Training\n"
     ]
    },
    {
     "data": {
      "application/json": {
       "ascii": false,
       "bar_format": null,
       "colour": null,
       "elapsed": 0.036412954330444336,
       "initial": 0,
       "n": 0,
       "ncols": null,
       "nrows": 82,
       "postfix": null,
       "prefix": "",
       "rate": null,
       "total": 13,
       "unit": "it",
       "unit_divisor": 1000,
       "unit_scale": false
      },
      "application/vnd.jupyter.widget-view+json": {
       "model_id": "6a661b4607fe455580b065c759ea7758",
       "version_major": 2,
       "version_minor": 0
      },
      "text/plain": [
       "  0%|          | 0/13 [00:00<?, ?it/s]"
      ]
     },
     "metadata": {},
     "output_type": "display_data"
    },
    {
     "name": "stdout",
     "output_type": "stream",
     "text": [
      "Test\n"
     ]
    },
    {
     "name": "stderr",
     "output_type": "stream",
     "text": [
      "/Users/benepstein/Documents/GitHub/dataquality/.venv/lib/python3.9/site-packages/dataquality/loggers/model_logger/text_classification.py:132: UserWarning: Usage of probs is deprecated, use logits instead\n",
      "  warnings.warn(\"Usage of probs is deprecated, use logits instead\")\n"
     ]
    },
    {
     "data": {
      "application/json": {
       "ascii": false,
       "bar_format": null,
       "colour": null,
       "elapsed": 0.019034147262573242,
       "initial": 0,
       "n": 0,
       "ncols": null,
       "nrows": 82,
       "postfix": null,
       "prefix": "",
       "rate": null,
       "total": 13,
       "unit": "it",
       "unit_divisor": 1000,
       "unit_scale": false
      },
      "application/vnd.jupyter.widget-view+json": {
       "model_id": "7d759833ceb2492c86f100e39cc09c02",
       "version_major": 2,
       "version_minor": 0
      },
      "text/plain": [
       "  0%|          | 0/13 [00:00<?, ?it/s]"
      ]
     },
     "metadata": {},
     "output_type": "display_data"
    },
    {
     "name": "stdout",
     "output_type": "stream",
     "text": [
      "----------------------------------------------------------------------------------------------------\n",
      "\n",
      "Done\n",
      "Logging output took 0.2591838836669922 seconds\n",
      "☁️ Uploading Data\n"
     ]
    },
    {
     "data": {
      "application/json": {
       "ascii": false,
       "bar_format": null,
       "colour": null,
       "elapsed": 0.018324851989746094,
       "initial": 0,
       "n": 0,
       "ncols": null,
       "nrows": 82,
       "postfix": null,
       "prefix": "training",
       "rate": null,
       "total": 1,
       "unit": "it",
       "unit_divisor": 1000,
       "unit_scale": false
      },
      "application/vnd.jupyter.widget-view+json": {
       "model_id": "5cf0728e239243c1931aec16a26b6791",
       "version_major": 2,
       "version_minor": 0
      },
      "text/plain": [
       "training:   0%|          | 0/1 [00:00<?, ?it/s]"
      ]
     },
     "metadata": {},
     "output_type": "display_data"
    },
    {
     "name": "stdout",
     "output_type": "stream",
     "text": [
      "Getting data embeddings for training\n"
     ]
    },
    {
     "data": {
      "application/json": {
       "ascii": false,
       "bar_format": null,
       "colour": null,
       "elapsed": 0.030224084854125977,
       "initial": 0,
       "n": 0,
       "ncols": null,
       "nrows": 82,
       "postfix": null,
       "prefix": "Uploading data to Galileo",
       "rate": null,
       "total": 627224,
       "unit": "B",
       "unit_divisor": 1024,
       "unit_scale": true
      },
      "application/vnd.jupyter.widget-view+json": {
       "model_id": "",
       "version_major": 2,
       "version_minor": 0
      },
      "text/plain": [
       "Uploading data to Galileo:   0%|          | 0.00/613k [00:00<?, ?B/s]"
      ]
     },
     "metadata": {},
     "output_type": "display_data"
    },
    {
     "data": {
      "application/json": {
       "ascii": false,
       "bar_format": null,
       "colour": null,
       "elapsed": 0.021743059158325195,
       "initial": 0,
       "n": 0,
       "ncols": null,
       "nrows": 82,
       "postfix": null,
       "prefix": "Processing data for upload",
       "rate": null,
       "total": 13,
       "unit": "it",
       "unit_divisor": 1000,
       "unit_scale": false
      },
      "application/vnd.jupyter.widget-view+json": {
       "model_id": "",
       "version_major": 2,
       "version_minor": 0
      },
      "text/plain": [
       "Processing data for upload:   0%|          | 0/13 [00:00<?, ?it/s]"
      ]
     },
     "metadata": {},
     "output_type": "display_data"
    },
    {
     "data": {
      "application/json": {
       "ascii": false,
       "bar_format": null,
       "colour": null,
       "elapsed": 0.017553091049194336,
       "initial": 0,
       "n": 0,
       "ncols": null,
       "nrows": 82,
       "postfix": null,
       "prefix": "training (epoch=0)",
       "rate": null,
       "total": 3,
       "unit": "it",
       "unit_divisor": 1000,
       "unit_scale": false
      },
      "application/vnd.jupyter.widget-view+json": {
       "model_id": "",
       "version_major": 2,
       "version_minor": 0
      },
      "text/plain": [
       "training (epoch=0):   0%|          | 0/3 [00:00<?, ?it/s]"
      ]
     },
     "metadata": {},
     "output_type": "display_data"
    },
    {
     "data": {
      "application/json": {
       "ascii": false,
       "bar_format": null,
       "colour": null,
       "elapsed": 0.01760411262512207,
       "initial": 0,
       "n": 0,
       "ncols": null,
       "nrows": 82,
       "postfix": null,
       "prefix": "Uploading data to Galileo",
       "rate": null,
       "total": 1241624,
       "unit": "B",
       "unit_divisor": 1024,
       "unit_scale": true
      },
      "application/vnd.jupyter.widget-view+json": {
       "model_id": "",
       "version_major": 2,
       "version_minor": 0
      },
      "text/plain": [
       "Uploading data to Galileo:   0%|          | 0.00/1.18M [00:00<?, ?B/s]"
      ]
     },
     "metadata": {},
     "output_type": "display_data"
    },
    {
     "data": {
      "application/json": {
       "ascii": false,
       "bar_format": null,
       "colour": null,
       "elapsed": 0.017089128494262695,
       "initial": 0,
       "n": 0,
       "ncols": null,
       "nrows": 82,
       "postfix": null,
       "prefix": "Uploading data to Galileo",
       "rate": null,
       "total": 50815,
       "unit": "B",
       "unit_divisor": 1024,
       "unit_scale": true
      },
      "application/vnd.jupyter.widget-view+json": {
       "model_id": "",
       "version_major": 2,
       "version_minor": 0
      },
      "text/plain": [
       "Uploading data to Galileo:   0%|          | 0.00/49.6k [00:00<?, ?B/s]"
      ]
     },
     "metadata": {},
     "output_type": "display_data"
    },
    {
     "data": {
      "application/json": {
       "ascii": false,
       "bar_format": null,
       "colour": null,
       "elapsed": 0.017657756805419922,
       "initial": 0,
       "n": 0,
       "ncols": null,
       "nrows": 82,
       "postfix": null,
       "prefix": "Uploading data to Galileo",
       "rate": null,
       "total": 293206,
       "unit": "B",
       "unit_divisor": 1024,
       "unit_scale": true
      },
      "application/vnd.jupyter.widget-view+json": {
       "model_id": "",
       "version_major": 2,
       "version_minor": 0
      },
      "text/plain": [
       "Uploading data to Galileo:   0%|          | 0.00/286k [00:00<?, ?B/s]"
      ]
     },
     "metadata": {},
     "output_type": "display_data"
    },
    {
     "data": {
      "application/json": {
       "ascii": false,
       "bar_format": null,
       "colour": null,
       "elapsed": 0.019768953323364258,
       "initial": 0,
       "n": 0,
       "ncols": null,
       "nrows": 82,
       "postfix": null,
       "prefix": "test",
       "rate": null,
       "total": 1,
       "unit": "it",
       "unit_divisor": 1000,
       "unit_scale": false
      },
      "application/vnd.jupyter.widget-view+json": {
       "model_id": "23d2e16efe2c4508b187a7d8941b6012",
       "version_major": 2,
       "version_minor": 0
      },
      "text/plain": [
       "test:   0%|          | 0/1 [00:00<?, ?it/s]"
      ]
     },
     "metadata": {},
     "output_type": "display_data"
    },
    {
     "name": "stdout",
     "output_type": "stream",
     "text": [
      "Getting data embeddings for test\n"
     ]
    },
    {
     "data": {
      "application/json": {
       "ascii": false,
       "bar_format": null,
       "colour": null,
       "elapsed": 0.026948928833007812,
       "initial": 0,
       "n": 0,
       "ncols": null,
       "nrows": 82,
       "postfix": null,
       "prefix": "Uploading data to Galileo",
       "rate": null,
       "total": 627224,
       "unit": "B",
       "unit_divisor": 1024,
       "unit_scale": true
      },
      "application/vnd.jupyter.widget-view+json": {
       "model_id": "",
       "version_major": 2,
       "version_minor": 0
      },
      "text/plain": [
       "Uploading data to Galileo:   0%|          | 0.00/613k [00:00<?, ?B/s]"
      ]
     },
     "metadata": {},
     "output_type": "display_data"
    },
    {
     "data": {
      "application/json": {
       "ascii": false,
       "bar_format": null,
       "colour": null,
       "elapsed": 0.020322084426879883,
       "initial": 0,
       "n": 0,
       "ncols": null,
       "nrows": 82,
       "postfix": null,
       "prefix": "Processing data for upload",
       "rate": null,
       "total": 13,
       "unit": "it",
       "unit_divisor": 1000,
       "unit_scale": false
      },
      "application/vnd.jupyter.widget-view+json": {
       "model_id": "",
       "version_major": 2,
       "version_minor": 0
      },
      "text/plain": [
       "Processing data for upload:   0%|          | 0/13 [00:00<?, ?it/s]"
      ]
     },
     "metadata": {},
     "output_type": "display_data"
    },
    {
     "data": {
      "application/json": {
       "ascii": false,
       "bar_format": null,
       "colour": null,
       "elapsed": 0.017521142959594727,
       "initial": 0,
       "n": 0,
       "ncols": null,
       "nrows": 82,
       "postfix": null,
       "prefix": "test (epoch=0)",
       "rate": null,
       "total": 3,
       "unit": "it",
       "unit_divisor": 1000,
       "unit_scale": false
      },
      "application/vnd.jupyter.widget-view+json": {
       "model_id": "",
       "version_major": 2,
       "version_minor": 0
      },
      "text/plain": [
       "test (epoch=0):   0%|          | 0/3 [00:00<?, ?it/s]"
      ]
     },
     "metadata": {},
     "output_type": "display_data"
    },
    {
     "data": {
      "application/json": {
       "ascii": false,
       "bar_format": null,
       "colour": null,
       "elapsed": 0.01671910285949707,
       "initial": 0,
       "n": 0,
       "ncols": null,
       "nrows": 82,
       "postfix": null,
       "prefix": "Uploading data to Galileo",
       "rate": null,
       "total": 1241624,
       "unit": "B",
       "unit_divisor": 1024,
       "unit_scale": true
      },
      "application/vnd.jupyter.widget-view+json": {
       "model_id": "",
       "version_major": 2,
       "version_minor": 0
      },
      "text/plain": [
       "Uploading data to Galileo:   0%|          | 0.00/1.18M [00:00<?, ?B/s]"
      ]
     },
     "metadata": {},
     "output_type": "display_data"
    },
    {
     "data": {
      "application/json": {
       "ascii": false,
       "bar_format": null,
       "colour": null,
       "elapsed": 0.017261981964111328,
       "initial": 0,
       "n": 0,
       "ncols": null,
       "nrows": 82,
       "postfix": null,
       "prefix": "Uploading data to Galileo",
       "rate": null,
       "total": 50815,
       "unit": "B",
       "unit_divisor": 1024,
       "unit_scale": true
      },
      "application/vnd.jupyter.widget-view+json": {
       "model_id": "",
       "version_major": 2,
       "version_minor": 0
      },
      "text/plain": [
       "Uploading data to Galileo:   0%|          | 0.00/49.6k [00:00<?, ?B/s]"
      ]
     },
     "metadata": {},
     "output_type": "display_data"
    },
    {
     "data": {
      "application/json": {
       "ascii": false,
       "bar_format": null,
       "colour": null,
       "elapsed": 0.016855239868164062,
       "initial": 0,
       "n": 0,
       "ncols": null,
       "nrows": 82,
       "postfix": null,
       "prefix": "Uploading data to Galileo",
       "rate": null,
       "total": 292410,
       "unit": "B",
       "unit_divisor": 1024,
       "unit_scale": true
      },
      "application/vnd.jupyter.widget-view+json": {
       "model_id": "",
       "version_major": 2,
       "version_minor": 0
      },
      "text/plain": [
       "Uploading data to Galileo:   0%|          | 0.00/286k [00:00<?, ?B/s]"
      ]
     },
     "metadata": {},
     "output_type": "display_data"
    },
    {
     "name": "stdout",
     "output_type": "stream",
     "text": [
      "Job default successfully submitted. Results will be available soon at http://127.0.0.1:3000/insights?projectId=59c3f732-15cd-4d45-8f31-8171d02ec0d2&runId=9734bcec-31f0-424b-bc1a-805ce53fe77c&split=training&metric=f1&depHigh=1&depLow=0&taskType=0\n",
      "Waiting for job...\n",
      "Done! Job finished with status completed\n",
      "🧹 Cleaning up\n"
     ]
    },
    {
     "data": {
      "text/plain": [
       "{'project_id': '59c3f732-15cd-4d45-8f31-8171d02ec0d2',\n",
       " 'run_id': '9734bcec-31f0-424b-bc1a-805ce53fe77c',\n",
       " 'job_name': 'default',\n",
       " 'labels': ['rec.autos',\n",
       "  'comp.sys.mac.hardware',\n",
       "  'comp.graphics',\n",
       "  'sci.space',\n",
       "  'talk.politics.guns',\n",
       "  'sci.med',\n",
       "  'comp.sys.ibm.pc.hardware',\n",
       "  'comp.os.ms-windows.misc',\n",
       "  'rec.motorcycles',\n",
       "  'talk.religion.misc',\n",
       "  'misc.forsale',\n",
       "  'alt.atheism',\n",
       "  'sci.electronics',\n",
       "  'comp.windows.x',\n",
       "  'rec.sport.hockey',\n",
       "  'rec.sport.baseball',\n",
       "  'soc.religion.christian',\n",
       "  'talk.politics.mideast',\n",
       "  'talk.politics.misc',\n",
       "  'sci.crypt'],\n",
       " 'task_type': 0,\n",
       " 'tasks': None,\n",
       " 'non_inference_logged': False,\n",
       " 'migration_name': None,\n",
       " 'xray': True,\n",
       " 'process_existing_inference_runs': False,\n",
       " 'message': 'Processing job!',\n",
       " 'link': 'http://127.0.0.1:3000/insights?projectId=59c3f732-15cd-4d45-8f31-8171d02ec0d2&runId=9734bcec-31f0-424b-bc1a-805ce53fe77c&split=training&metric=f1&depHigh=1&depLow=0&taskType=0'}"
      ]
     },
     "execution_count": 3,
     "metadata": {},
     "output_type": "execute_result"
    }
   ],
   "source": [
    "from tqdm.notebook import tqdm\n",
    "import time\n",
    "import numpy as np\n",
    "from uuid import uuid4\n",
    "import pandas as pd\n",
    "from sklearn.datasets import fetch_20newsgroups\n",
    "\n",
    "\n",
    "BATCH_SIZE=16\n",
    "EMB_DIM=768\n",
    "NUM_EPOCHS=1\n",
    "\n",
    "dq.init(\"text_classification\", \"foo\",\"bar\")\n",
    "\n",
    "newsgroups = fetch_20newsgroups(subset=\"train\", remove=('headers', 'footers', 'quotes'))\n",
    "dataset = pd.DataFrame()\n",
    "dataset[\"text\"] = newsgroups.data\n",
    "label_ind = newsgroups.target_names\n",
    "dataset[\"label\"] = [label_ind[i] for i in newsgroups.target]\n",
    "dataset[\"id\"] = list(range(len(dataset)))\n",
    "\n",
    "dataset = dataset[:200]\n",
    "\n",
    "\n",
    "def generate_random_embeddings(batch_size: int, emb_dims: int) -> np.ndarray:\n",
    "    return np.random.rand(batch_size, emb_dims)\n",
    "\n",
    "\n",
    "def generate_random_probabilities(batch_size: int, num_classes: int) -> np.ndarray:\n",
    "    probs = np.random.rand(batch_size, num_classes)\n",
    "    return probs / probs.sum(axis=-1).reshape(-1, 1)  # Normalize to sum to 1\n",
    "\n",
    "\n",
    "t_start = time.time()\n",
    "dq.set_labels_for_run(dataset[\"label\"].unique())\n",
    "\n",
    "print(\"Logging input data\")\n",
    "for split in [\"training\", \"test\"]:\n",
    "    dq.log_dataset(dataset, split=split)\n",
    "    \n",
    "print(\"Done\")\n",
    "print(f\"Input logging took {time.time() - t_start} seconds\\n\\n\")\n",
    "\n",
    "\n",
    "print(\"Logging model outputs\")\n",
    "t_start = time.time()\n",
    "num_classes = dataset[\"label\"].nunique()\n",
    "# Simulates model training loop\n",
    "for epoch_idx in range(NUM_EPOCHS):\n",
    "    print(f\"Epoch {epoch_idx}\")\n",
    "    print('-'*100)\n",
    "    for split in [\"training\", \"test\"]:\n",
    "        print(split.capitalize())\n",
    "        dq.set_split(split)\n",
    "        for i in tqdm(range(0, len(dataset), BATCH_SIZE)):\n",
    "            batch = dataset[i : i + BATCH_SIZE]\n",
    "            embeddings = generate_random_embeddings(len(batch), EMB_DIM)\n",
    "            probs = generate_random_probabilities(len(batch), num_classes)\n",
    "            dq.log_model_outputs(\n",
    "                embs=embeddings,\n",
    "                probs=probs,\n",
    "                epoch=epoch_idx,\n",
    "                ids=batch[\"id\"],\n",
    "            )\n",
    "    print('-'*100,end=\"\\n\\n\")\n",
    "            \n",
    "print(\"Done\")\n",
    "\n",
    "time_spent = time.time() - t_start\n",
    "print(f\"Logging output took {time_spent} seconds\")\n",
    "dq.finish(data_embs=True)"
   ]
  },
  {
   "cell_type": "code",
   "execution_count": 17,
   "id": "ce9bd357",
   "metadata": {
    "scrolled": true
   },
   "outputs": [
    {
     "data": {
      "text/html": [
       "<table>\n",
       "<thead>\n",
       "<tr><th>#                              </th><th>id  </th><th>data_emb                                           </th></tr>\n",
       "</thead>\n",
       "<tbody>\n",
       "<tr><td><i style='opacity: 0.6'>0</i>  </td><td>0   </td><td>&#x27;array([-3.12296189e-02,  3.87282576e-03,  1.073...</td></tr>\n",
       "<tr><td><i style='opacity: 0.6'>1</i>  </td><td>1   </td><td>&#x27;array([ 1.31226787e-02,  2.68374998e-02,  1.898...</td></tr>\n",
       "<tr><td><i style='opacity: 0.6'>2</i>  </td><td>2   </td><td>&#x27;array([ 3.13321277e-02,  3.75694223e-02, -2.715...</td></tr>\n",
       "<tr><td><i style='opacity: 0.6'>3</i>  </td><td>3   </td><td>&#x27;array([-1.62603483e-02,  2.05614753e-02,  2.298...</td></tr>\n",
       "<tr><td><i style='opacity: 0.6'>4</i>  </td><td>4   </td><td>&#x27;array([-1.49948930e-03,  9.73128434e-03,  2.439...</td></tr>\n",
       "<tr><td>...                            </td><td>... </td><td>...                                                </td></tr>\n",
       "<tr><td><i style='opacity: 0.6'>195</i></td><td>195 </td><td>&#x27;array([-4.94875461e-02,  2.15062592e-02,  2.261...</td></tr>\n",
       "<tr><td><i style='opacity: 0.6'>196</i></td><td>196 </td><td>&#x27;array([-1.70215108e-02, -8.53871256e-02, -1.704...</td></tr>\n",
       "<tr><td><i style='opacity: 0.6'>197</i></td><td>197 </td><td>&#x27;array([-1.07716899e-02,  9.03651938e-02, -8.732...</td></tr>\n",
       "<tr><td><i style='opacity: 0.6'>198</i></td><td>198 </td><td>&#x27;array([-8.67577456e-03,  4.50826325e-02,  6.657...</td></tr>\n",
       "<tr><td><i style='opacity: 0.6'>199</i></td><td>199 </td><td>&#x27;array([-1.15243690e-02,  2.50972435e-03,  2.609...</td></tr>\n",
       "</tbody>\n",
       "</table>"
      ],
      "text/plain": [
       "#    id    data_emb\n",
       "0    0     'array([-3.12296189e-02,  3.87282576e-03,  1.073...\n",
       "1    1     'array([ 1.31226787e-02,  2.68374998e-02,  1.898...\n",
       "2    2     'array([ 3.13321277e-02,  3.75694223e-02, -2.715...\n",
       "3    3     'array([-1.62603483e-02,  2.05614753e-02,  2.298...\n",
       "4    4     'array([-1.49948930e-03,  9.73128434e-03,  2.439...\n",
       "...  ...   ...\n",
       "195  195   'array([-4.94875461e-02,  2.15062592e-02,  2.261...\n",
       "196  196   'array([-1.70215108e-02, -8.53871256e-02, -1.704...\n",
       "197  197   'array([-1.07716899e-02,  9.03651938e-02, -8.732...\n",
       "198  198   'array([-8.67577456e-03,  4.50826325e-02,  6.657...\n",
       "199  199   'array([-1.15243690e-02,  2.50972435e-03,  2.609..."
      ]
     },
     "execution_count": 17,
     "metadata": {},
     "output_type": "execute_result"
    }
   ],
   "source": [
    "dq.metrics.get_data_embeddings(\"automatic_amethyst_impala\", \"striking_aquamarine_armadillo\", \"train\")"
   ]
  },
  {
   "cell_type": "code",
   "execution_count": 39,
   "id": "6a552c0e",
   "metadata": {
    "collapsed": true
   },
   "outputs": [
    {
     "data": {
      "text/html": [
       "<table>\n",
       "<thead>\n",
       "<tr><th>#                              </th><th>epoch  </th><th>pred                 </th><th>text                                                      </th><th>split   </th><th>data_schema_version  </th><th>id  </th><th>galileo_text_length  </th><th>galileo_language_id  </th><th>galileo_pii  </th><th>confidence         </th><th>data_error_potential  </th><th>label                </th><th>likely_mislabeled  </th><th>cbo_cluster  </th><th>data_x            </th><th>data_y            </th><th>x                </th><th>y                 </th><th>pred_idx  </th><th>emb                                                </th><th>data_emb                                           </th></tr>\n",
       "</thead>\n",
       "<tbody>\n",
       "<tr><td><i style='opacity: 0.6'>0</i>  </td><td>0      </td><td>comp.sys.mac.hardware</td><td>&#x27;I was wondering if anyone out there could enlig...       </td><td>training</td><td>1                    </td><td>0   </td><td>475                  </td><td>en                   </td><td>None         </td><td>0.09836423642484288</td><td>0.5338762023612155    </td><td>rec.autos            </td><td>True               </td><td>-1           </td><td>11.376409530639648</td><td>4.246286392211914 </td><td>5.65283203125    </td><td>5.5749897956848145</td><td>1         </td><td>&#x27;array([0.29837902, 0.92121278, 0.92973643, 0.28...</td><td>&#x27;array([-3.12296189e-02,  3.87282576e-03,  1.073...</td></tr>\n",
       "<tr><td><i style='opacity: 0.6'>1</i>  </td><td>0      </td><td>rec.sport.hockey     </td><td>&#x27;A fair number of brave souls who upgraded their...       </td><td>training</td><td>1                    </td><td>1   </td><td>530                  </td><td>en                   </td><td>None         </td><td>0.08033560776517272</td><td>0.5020206264381786    </td><td>comp.sys.mac.hardware</td><td>False              </td><td>-1           </td><td>9.92272663116455  </td><td>6.8370280265808105</td><td>10.7771635055542 </td><td>2.547896385192871 </td><td>14        </td><td>&#x27;array([0.38165844, 0.03603427, 0.02338958, 0.47...</td><td>&#x27;array([ 1.31226787e-02,  2.68374998e-02,  1.898...</td></tr>\n",
       "<tr><td><i style='opacity: 0.6'>2</i>  </td><td>0      </td><td>sci.electronics      </td><td>&#x27;well folks, my mac plus finally gave up the gho...       </td><td>training</td><td>1                    </td><td>2   </td><td>1659                 </td><td>en                   </td><td>email        </td><td>0.08354285554819539</td><td>0.5233631578957361    </td><td>comp.sys.mac.hardware</td><td>True               </td><td>-1           </td><td>11.355062484741211</td><td>4.144324779510498 </td><td>7.036731243133545</td><td>6.68037223815918  </td><td>12        </td><td>&#x27;array([0.59774918, 0.68268885, 0.10923718, 0.82...</td><td>&#x27;array([ 3.13321277e-02,  3.75694223e-02, -2.715...</td></tr>\n",
       "<tr><td><i style='opacity: 0.6'>3</i>  </td><td>0      </td><td>sci.crypt            </td><td>&quot;\\nDo you have Weitek&#x27;s address/phone number?  I&#x27;...      </td><td>training</td><td>1                    </td><td>3   </td><td>95                   </td><td>en                   </td><td>None         </td><td>0.10009139798351302</td><td>0.5003215371552514    </td><td>comp.graphics        </td><td>False              </td><td>-1           </td><td>11.398351669311523</td><td>4.21092414855957  </td><td>7.649347305297852</td><td>7.090616703033447 </td><td>19        </td><td>&#x27;array([3.97452249e-01, 4.40846703e-01, 5.954833...</td><td>&#x27;array([-1.62603483e-02,  2.05614753e-02,  2.298...</td></tr>\n",
       "<tr><td><i style='opacity: 0.6'>4</i>  </td><td>0      </td><td>rec.sport.hockey     </td><td>&#x27;From article &lt;C5owCB.n3p@world.std.com&gt;, by tom...       </td><td>training</td><td>1                    </td><td>4   </td><td>448                  </td><td>en                   </td><td>email        </td><td>0.08497681769539624</td><td>0.5016142055310292    </td><td>sci.space            </td><td>False              </td><td>-1           </td><td>9.694826126098633 </td><td>1.8458075523376465</td><td>5.622284412384033</td><td>3.9054837226867676</td><td>14        </td><td>&#x27;array([5.82038555e-01, 2.08934225e-01, 4.488748...</td><td>&#x27;array([-1.49948930e-03,  9.73128434e-03,  2.439...</td></tr>\n",
       "<tr><td>...                            </td><td>...    </td><td>...                  </td><td>...                                                       </td><td>...     </td><td>...                  </td><td>... </td><td>...                  </td><td>...                  </td><td>...          </td><td>...                </td><td>...                   </td><td>...                  </td><td>...                </td><td>...          </td><td>...               </td><td>...               </td><td>...              </td><td>...               </td><td>...       </td><td>...                                                </td><td>...                                                </td></tr>\n",
       "<tr><td><i style='opacity: 0.6'>195</i></td><td>0      </td><td>talk.religion.misc   </td><td>&#x27;Hi ... Recently I found XV for MS-DOS in a subd...       </td><td>training</td><td>1                    </td><td>195 </td><td>927                  </td><td>en                   </td><td>email        </td><td>0.09561871203092301</td><td>0.5071909220607094    </td><td>comp.graphics        </td><td>False              </td><td>-1           </td><td>5.677307605743408 </td><td>3.221129894256592 </td><td>9.530557632446289</td><td>1.93036687374115  </td><td>9         </td><td>&#x27;array([6.83725933e-01, 9.07856418e-01, 8.802090...</td><td>&#x27;array([-4.94875461e-02,  2.15062592e-02,  2.261...</td></tr>\n",
       "<tr><td><i style='opacity: 0.6'>196</i></td><td>0      </td><td>comp.sys.mac.hardware</td><td>&#x27;\\nAs a general rule, no relay will cleanly switc...      </td><td>training</td><td>1                    </td><td>196 </td><td>1726                 </td><td>en                   </td><td>phone        </td><td>0.1221157191642118 </td><td>0.5442886540665051    </td><td>sci.electronics      </td><td>True               </td><td>-1           </td><td>10.978202819824219</td><td>2.6762144565582275</td><td>10.83487319946289</td><td>6.180272579193115 </td><td>1         </td><td>&#x27;array([6.23284972e-01, 4.31596115e-01, 3.121943...</td><td>&#x27;array([-1.70215108e-02, -8.53871256e-02, -1.704...</td></tr>\n",
       "<tr><td><i style='opacity: 0.6'>197</i></td><td>0      </td><td>sci.electronics      </td><td>&#x27;  ...\\n\\nI think this is a big leap sex-&gt;depressi...     </td><td>training</td><td>1                    </td><td>197 </td><td>659                  </td><td>en                   </td><td>None         </td><td>0.13224859900285157</td><td>0.5653523086457009    </td><td>alt.atheism          </td><td>True               </td><td>-1           </td><td>8.261764526367188 </td><td>1.5314429998397827</td><td>5.971230506896973</td><td>6.017798900604248 </td><td>12        </td><td>&#x27;array([2.48097100e-01, 4.47150206e-02, 9.063618...</td><td>&#x27;array([-1.07716899e-02,  9.03651938e-02, -8.732...</td></tr>\n",
       "<tr><td><i style='opacity: 0.6'>198</i></td><td>0      </td><td>alt.atheism          </td><td>&quot;\\n\\n\\n\\n\\nI don&#x27;t sign any blank checks.\\n\\nWhen Doug ...</td><td>training</td><td>1                    </td><td>198 </td><td>380                  </td><td>en                   </td><td>None         </td><td>0.10058767737327697</td><td>0.5424329941556727    </td><td>talk.politics.guns   </td><td>True               </td><td>-1           </td><td>9.371979713439941 </td><td>7.027573108673096 </td><td>8.880782127380371</td><td>7.061689853668213 </td><td>11        </td><td>&#x27;array([1.88811188e-01, 7.81076818e-01, 5.208729...</td><td>&#x27;array([-8.67577456e-03,  4.50826325e-02,  6.657...</td></tr>\n",
       "<tr><td><i style='opacity: 0.6'>199</i></td><td>0      </td><td>talk.religion.misc   </td><td>&#x27;I have an eprom blower made by Logical Devices ...       </td><td>training</td><td>1                    </td><td>199 </td><td>172                  </td><td>en                   </td><td>None         </td><td>0.11024696266300757</td><td>0.5540039774927552    </td><td>sci.electronics      </td><td>True               </td><td>-1           </td><td>11.282326698303223</td><td>3.6589529514312744</td><td>5.833858013153076</td><td>4.828298091888428 </td><td>9         </td><td>&#x27;array([6.42381552e-01, 6.34506738e-01, 3.792087...</td><td>&#x27;array([-1.15243690e-02,  2.50972435e-03,  2.609...</td></tr>\n",
       "</tbody>\n",
       "</table>"
      ],
      "text/plain": [
       "#    epoch    pred                   text                                                        split     data_schema_version    id    galileo_text_length    galileo_language_id    galileo_pii    confidence           data_error_potential    label                  likely_mislabeled    cbo_cluster    data_x              data_y              x                  y                   pred_idx    emb                                                  data_emb\n",
       "0    0        comp.sys.mac.hardware  'I was wondering if anyone out there could enlig...         training  1                      0     475                    en                     None           0.09836423642484288  0.5338762023612155      rec.autos              True                 -1             11.376409530639648  4.246286392211914   5.65283203125      5.5749897956848145  1           'array([0.29837902, 0.92121278, 0.92973643, 0.28...  'array([-3.12296189e-02,  3.87282576e-03,  1.073...\n",
       "1    0        rec.sport.hockey       'A fair number of brave souls who upgraded their...         training  1                      1     530                    en                     None           0.08033560776517272  0.5020206264381786      comp.sys.mac.hardware  False                -1             9.92272663116455    6.8370280265808105  10.7771635055542   2.547896385192871   14          'array([0.38165844, 0.03603427, 0.02338958, 0.47...  'array([ 1.31226787e-02,  2.68374998e-02,  1.898...\n",
       "2    0        sci.electronics        'well folks, my mac plus finally gave up the gho...         training  1                      2     1659                   en                     email          0.08354285554819539  0.5233631578957361      comp.sys.mac.hardware  True                 -1             11.355062484741211  4.144324779510498   7.036731243133545  6.68037223815918    12          'array([0.59774918, 0.68268885, 0.10923718, 0.82...  'array([ 3.13321277e-02,  3.75694223e-02, -2.715...\n",
       "3    0        sci.crypt              \"\\nDo you have Weitek's address/phone number?  I'...        training  1                      3     95                     en                     None           0.10009139798351302  0.5003215371552514      comp.graphics          False                -1             11.398351669311523  4.21092414855957    7.649347305297852  7.090616703033447   19          'array([3.97452249e-01, 4.40846703e-01, 5.954833...  'array([-1.62603483e-02,  2.05614753e-02,  2.298...\n",
       "4    0        rec.sport.hockey       'From article <C5owCB.n3p@world.std.com>, by tom...         training  1                      4     448                    en                     email          0.08497681769539624  0.5016142055310292      sci.space              False                -1             9.694826126098633   1.8458075523376465  5.622284412384033  3.9054837226867676  14          'array([5.82038555e-01, 2.08934225e-01, 4.488748...  'array([-1.49948930e-03,  9.73128434e-03,  2.439...\n",
       "...  ...      ...                    ...                                                         ...       ...                    ...   ...                    ...                    ...            ...                  ...                     ...                    ...                  ...            ...                 ...                 ...                ...                 ...         ...                                                  ...\n",
       "195  0        talk.religion.misc     'Hi ... Recently I found XV for MS-DOS in a subd...         training  1                      195   927                    en                     email          0.09561871203092301  0.5071909220607094      comp.graphics          False                -1             5.677307605743408   3.221129894256592   9.530557632446289  1.93036687374115    9           'array([6.83725933e-01, 9.07856418e-01, 8.802090...  'array([-4.94875461e-02,  2.15062592e-02,  2.261...\n",
       "196  0        comp.sys.mac.hardware  '\\nAs a general rule, no relay will cleanly switc...        training  1                      196   1726                   en                     phone          0.1221157191642118   0.5442886540665051      sci.electronics        True                 -1             10.978202819824219  2.6762144565582275  10.83487319946289  6.180272579193115   1           'array([6.23284972e-01, 4.31596115e-01, 3.121943...  'array([-1.70215108e-02, -8.53871256e-02, -1.704...\n",
       "197  0        sci.electronics        '  ...\\n\\nI think this is a big leap sex->depressi...       training  1                      197   659                    en                     None           0.13224859900285157  0.5653523086457009      alt.atheism            True                 -1             8.261764526367188   1.5314429998397827  5.971230506896973  6.017798900604248   12          'array([2.48097100e-01, 4.47150206e-02, 9.063618...  'array([-1.07716899e-02,  9.03651938e-02, -8.732...\n",
       "198  0        alt.atheism            \"\\n\\n\\n\\n\\nI don't sign any blank checks.\\n\\nWhen Doug ...  training  1                      198   380                    en                     None           0.10058767737327697  0.5424329941556727      talk.politics.guns     True                 -1             9.371979713439941   7.027573108673096   8.880782127380371  7.061689853668213   11          'array([1.88811188e-01, 7.81076818e-01, 5.208729...  'array([-8.67577456e-03,  4.50826325e-02,  6.657...\n",
       "199  0        talk.religion.misc     'I have an eprom blower made by Logical Devices ...         training  1                      199   172                    en                     None           0.11024696266300757  0.5540039774927552      sci.electronics        True                 -1             11.282326698303223  3.6589529514312744  5.833858013153076  4.828298091888428   9           'array([6.42381552e-01, 6.34506738e-01, 3.792087...  'array([-1.15243690e-02,  2.50972435e-03,  2.609..."
      ]
     },
     "execution_count": 39,
     "metadata": {},
     "output_type": "execute_result"
    }
   ],
   "source": [
    "dq.metrics.get_dataframe(\n",
    "    \"automatic_amethyst_impala\", \"striking_aquamarine_armadillo\", \"train\", include_embs=True, include_data_embs=True\n",
    ")"
   ]
  },
  {
   "cell_type": "code",
   "execution_count": 18,
   "id": "edd0d437",
   "metadata": {
    "collapsed": true
   },
   "outputs": [
    {
     "name": "stderr",
     "output_type": "stream",
     "text": [
      "No sentence-transformers model found with name /Users/benepstein/.cache/torch/sentence_transformers/distilbert-base-uncased. Creating a new one with MEAN pooling.\n",
      "Some weights of the model checkpoint at /Users/benepstein/.cache/torch/sentence_transformers/distilbert-base-uncased were not used when initializing DistilBertModel: ['vocab_transform.bias', 'vocab_transform.weight', 'vocab_layer_norm.bias', 'vocab_layer_norm.weight', 'vocab_projector.weight', 'vocab_projector.bias']\n",
      "- This IS expected if you are initializing DistilBertModel from the checkpoint of a model trained on another task or with another architecture (e.g. initializing a BertForSequenceClassification model from a BertForPreTraining model).\n",
      "- This IS NOT expected if you are initializing DistilBertModel from the checkpoint of a model that you expect to be exactly identical (initializing a BertForSequenceClassification model from a BertForSequenceClassification model).\n"
     ]
    },
    {
     "data": {
      "text/plain": [
       "array([[ 5.67681640e-02, -9.06216875e-02, -2.78602570e-01,\n",
       "        -9.06290337e-02, -7.34410807e-02, -1.70276463e-01,\n",
       "         4.53511685e-01, -2.41690978e-01, -1.65875703e-02,\n",
       "        -9.15749073e-02, -1.47593975e-01, -4.29968312e-02,\n",
       "        -1.12826794e-01,  1.16887763e-01, -2.06177652e-01,\n",
       "        -9.26956162e-02,  4.54158708e-02, -2.31197104e-02,\n",
       "         1.44801602e-01, -6.28933543e-03,  4.81691927e-01,\n",
       "         1.10726506e-02,  5.85196912e-02,  1.45137534e-01,\n",
       "         1.45566568e-01,  5.66426963e-02, -2.00803354e-01,\n",
       "         2.16374829e-01, -2.80160725e-01,  2.14290842e-02,\n",
       "         6.51769191e-02, -1.65645778e-01, -1.98399633e-01,\n",
       "         1.28243044e-01, -2.78879851e-02, -1.83226213e-01,\n",
       "         1.39946863e-02, -2.60219634e-01, -2.71594673e-02,\n",
       "        -8.38839263e-03,  1.46430552e-01, -6.63785934e-02,\n",
       "        -3.20758641e-01, -3.61926854e-02,  1.20771997e-01,\n",
       "        -5.45867756e-02, -4.38974559e-01, -2.53210038e-01,\n",
       "        -3.28152597e-01,  1.50458515e-01, -2.98882395e-01,\n",
       "         2.85629660e-01, -1.39588743e-01,  2.05291688e-01,\n",
       "         1.79642782e-01,  1.78619232e-02,  3.20574343e-02,\n",
       "        -4.48645502e-02, -3.32777798e-02, -1.28761709e-01,\n",
       "         1.11427218e-01,  2.04965457e-01,  1.06516495e-01,\n",
       "        -1.64648652e-01,  1.55886889e-01,  9.93902832e-02,\n",
       "         1.08430393e-01,  3.54409337e-01, -5.31744421e-01,\n",
       "         2.58193791e-01, -1.36742234e-01, -3.69619310e-01,\n",
       "         2.00112790e-01,  5.54691814e-02,  4.77395177e-01,\n",
       "        -1.40962064e-01,  5.35359979e-02,  1.17844418e-01,\n",
       "        -1.05203912e-02,  6.58492744e-03,  8.44822600e-02,\n",
       "         3.28915566e-01, -3.13049927e-02,  8.86799991e-02,\n",
       "        -1.34058952e-01,  1.68216079e-02, -1.46811858e-01,\n",
       "        -1.26337498e-01, -3.34014356e-01,  2.67999113e-01,\n",
       "         1.15069561e-02,  5.08943349e-02, -2.51849383e-01,\n",
       "         1.69424772e-01,  2.03513399e-01, -1.08569168e-01,\n",
       "        -2.31559575e-01,  6.51664734e-02,  1.45142853e-01,\n",
       "         6.03794120e-03, -1.25875741e-01, -1.01537026e-01,\n",
       "         2.67119825e-01,  3.18928063e-01, -1.78177923e-01,\n",
       "        -6.84497356e-02,  2.33648002e-01, -9.01848450e-02,\n",
       "        -3.25744897e-02, -6.45894527e-01,  2.11500183e-01,\n",
       "         1.64066344e-01,  8.37308317e-02, -1.43219128e-01,\n",
       "        -1.81755632e-01,  2.29510427e-01,  5.03761098e-02,\n",
       "         1.25608712e-01, -1.71989277e-01,  3.72395247e-01,\n",
       "        -5.09980857e-01, -6.15302324e-02,  2.33721107e-01,\n",
       "         4.84791964e-01, -1.93028212e-01,  5.76094911e-02,\n",
       "         1.67887304e-02, -2.50922441e-02,  1.72514260e-01,\n",
       "        -1.49607450e-01, -1.73416495e-01,  2.46127576e-01,\n",
       "         1.84949324e-01,  2.15585440e-01, -5.38083240e-02,\n",
       "         2.12784380e-01,  6.89287037e-02,  1.07334554e-03,\n",
       "        -1.85097918e-01, -9.53040123e-02,  6.67850971e-02,\n",
       "         5.25195718e-01, -4.29577291e-01, -4.18874979e-01,\n",
       "         2.50097513e-01,  1.62884265e-01,  1.06239215e-01,\n",
       "         2.02929154e-01,  2.26055250e-01, -8.10053200e-02,\n",
       "         1.76105827e-01,  1.46246523e-01, -1.42017692e-01,\n",
       "        -2.38268614e-01, -2.61502236e-01, -6.51666149e-02,\n",
       "         5.96887320e-02,  2.40326911e-01,  3.38494778e-03,\n",
       "         3.48263383e-01,  4.96483088e-01,  1.93830341e-01,\n",
       "         4.74843383e-02,  3.90190244e-01, -1.47474095e-01,\n",
       "         3.86863023e-01, -2.04801679e-01,  7.90429413e-02,\n",
       "         1.10350549e-01,  7.89625198e-02, -5.63153386e-01,\n",
       "        -3.52590531e-01,  3.11075389e-01, -7.24612176e-02,\n",
       "        -1.83822095e-01,  1.46876812e-01,  7.35411718e-02,\n",
       "         1.07183829e-01,  1.16812289e-01, -2.82059819e-01,\n",
       "        -2.53543401e+00, -1.13263771e-01,  5.60245886e-02,\n",
       "        -3.61043848e-02,  7.21187815e-02, -1.89890146e-01,\n",
       "         1.67170644e-01, -1.42704129e-01,  1.67055540e-02,\n",
       "        -1.46383226e-01,  1.38473324e-03, -9.70160514e-02,\n",
       "        -3.82617190e-02, -7.40814805e-02,  2.29436487e-01,\n",
       "        -3.19756307e-02, -1.27872333e-01, -1.02488607e-01,\n",
       "        -8.82303640e-02,  3.71172912e-02, -1.86867118e-02,\n",
       "         5.65457717e-03,  1.58870250e-01,  2.12997541e-01,\n",
       "        -3.45971704e-01,  9.36400652e-01, -1.85244262e-01,\n",
       "         4.35591489e-03, -1.59678049e-02,  1.73898280e-01,\n",
       "        -6.81954741e-01,  3.42992991e-01,  3.33751477e-02,\n",
       "        -2.66600490e-01,  2.40346119e-01, -1.29715815e-01,\n",
       "         1.71575829e-01, -3.92215133e-01, -2.17715919e-01,\n",
       "        -1.97240233e-01, -1.56649694e-01, -1.18910477e-01,\n",
       "        -4.29280140e-02,  2.53677577e-01, -3.86838049e-01,\n",
       "        -1.19073898e-01,  2.40112782e-01,  3.75564575e-01,\n",
       "         5.75741172e-01, -3.21856886e-01,  1.07335232e-01,\n",
       "        -5.63738346e-02,  3.38096797e-01, -3.11937071e-02,\n",
       "        -1.83620423e-01,  1.24797001e-01, -2.32101411e-01,\n",
       "         6.54715300e-02, -2.30523288e-01, -1.03068441e-01,\n",
       "        -1.11943021e-01,  4.29074317e-02,  1.60677925e-01,\n",
       "         4.65553552e-02, -5.59584424e-02, -5.40595651e-02,\n",
       "         1.45357519e-01,  2.88499475e-01,  1.14284322e-01,\n",
       "        -1.72006279e-01, -2.29477525e-01, -4.80333269e-01,\n",
       "         9.90566611e-02, -4.19859558e-01,  2.67530441e-01,\n",
       "        -1.04842633e-02, -2.11360514e-01,  1.50222965e-02,\n",
       "         1.43385023e-01, -1.26138777e-01, -1.47900581e-02,\n",
       "         1.37153924e-01,  2.41203755e-01,  7.83253014e-02,\n",
       "        -3.19902182e-01,  2.33304083e-01,  1.27145424e-01,\n",
       "         9.79667529e-05,  1.45524323e-01,  3.13155383e-01,\n",
       "        -7.38447756e-02, -2.32040957e-01, -9.00942683e-02,\n",
       "        -1.18938005e+00, -1.15565307e-01, -4.72411513e-01,\n",
       "         6.52574003e-01, -6.99743629e-04,  8.33684951e-02,\n",
       "        -1.37084395e-01, -6.31001517e-02,  3.26872692e-02,\n",
       "        -5.06838784e-04,  4.20597017e-01,  2.87142247e-01,\n",
       "        -2.98978984e-01, -2.08537132e-02, -2.38588989e-01,\n",
       "         2.27768332e-01, -8.88373852e-02, -4.10340309e-01,\n",
       "        -1.42690763e-02, -4.94552813e-02,  2.29252875e-03,\n",
       "         3.57966095e-01,  8.56049508e-02,  1.44369245e-01,\n",
       "         5.37509918e-02, -4.13373113e-04, -1.41323552e-01,\n",
       "        -1.33179054e-01, -1.41439423e-01, -3.57038826e-01,\n",
       "         3.71928215e-02, -2.87658632e-01,  2.65636951e-01,\n",
       "         1.56023905e-01, -8.80074948e-02, -2.46868157e+00,\n",
       "        -2.44501382e-01, -3.60716105e-01, -3.69723231e-01,\n",
       "         7.13116229e-02, -1.19656079e-01,  1.88310981e-01,\n",
       "        -1.38602436e-01, -2.42548183e-01, -2.05269843e-01,\n",
       "         1.48507943e-02, -2.12948710e-01,  4.23568308e-01,\n",
       "         2.19388664e-01,  3.17664772e-01, -4.88806292e-02,\n",
       "        -1.18251264e-01, -1.96899176e-01, -2.41284773e-01,\n",
       "         3.01286221e-01, -6.73832670e-02,  1.05395980e-01,\n",
       "         2.60125458e-01, -4.64240879e-01,  8.89120847e-02,\n",
       "         5.41006327e-02, -3.41507465e-01,  2.91202456e-01,\n",
       "        -3.81540418e-01, -2.51120716e-01,  1.03854410e-01,\n",
       "        -3.18228006e-01, -3.21924686e-04, -2.28396133e-01,\n",
       "        -6.33885860e-02,  9.01405066e-02, -9.97644663e-02,\n",
       "         7.98263401e-02,  4.55051541e-01,  7.18423724e-02,\n",
       "         1.24797411e-02, -7.76071101e-03,  1.88249305e-01,\n",
       "         8.83843899e-02,  6.82435483e-02, -1.71569511e-02,\n",
       "        -7.90484250e-02, -5.68116665e-01,  1.70076415e-01,\n",
       "         2.86656141e-01, -3.58913690e-02,  1.15762670e-02,\n",
       "         3.20106745e-01,  4.43290621e-02,  1.05328836e-01,\n",
       "        -1.06699653e-01,  3.24883461e-02,  1.45459607e-01,\n",
       "        -1.63627416e-01, -1.27718359e-01,  2.05954045e-01,\n",
       "        -3.56146485e-01,  2.50339210e-02, -7.04017729e-02,\n",
       "        -1.82011887e-01, -2.07885280e-02, -1.51707530e-02,\n",
       "         7.52587989e-02,  9.35595483e-02,  3.09689492e-02,\n",
       "        -3.48119577e-03,  1.21168643e-02, -4.65877280e-02,\n",
       "        -7.91362464e-01, -6.02287769e-01,  9.20254886e-02,\n",
       "        -2.44915649e-01, -1.61437780e-01,  3.02501351e-01,\n",
       "         1.15840137e-03,  1.22739226e-02, -1.14116408e-01,\n",
       "        -7.51032680e-03,  2.24533170e-01,  1.98716864e-01,\n",
       "         1.67163610e-01, -1.06427483e-01, -1.73676252e-01,\n",
       "        -3.24780703e-01, -1.22447312e-01, -3.59144807e-03,\n",
       "         2.52349168e-01,  1.98368371e-01,  4.14518490e-02,\n",
       "        -6.83553517e-03,  3.59609276e-02,  1.44411266e-01,\n",
       "        -6.00234687e-01,  2.29945242e-01, -1.58131033e-01,\n",
       "        -2.35363156e-01, -4.08590585e-01,  4.97105181e-01,\n",
       "        -1.17949307e-01, -9.47579518e-02,  6.75238743e-02,\n",
       "        -6.65158391e-01,  2.75623411e-01, -2.68851221e-01,\n",
       "        -1.05158113e-01,  4.23570126e-01, -1.30112782e-01,\n",
       "         2.56422997e-01,  5.38737439e-02,  2.71383494e-01,\n",
       "        -1.28463775e-01, -3.69129121e-01,  6.07510328e-01,\n",
       "        -6.37860298e-02,  2.50463247e-01,  1.13539279e-01,\n",
       "         2.94080406e-01, -6.41777217e-02, -7.47229159e-03,\n",
       "        -5.91857195e-01,  9.90424380e-02,  3.36314999e-02,\n",
       "        -3.21061224e-01, -1.78534508e-01, -2.41685808e-02,\n",
       "        -1.60415694e-01,  1.39422715e-01, -1.09081224e-01,\n",
       "        -6.26400709e-01,  2.75815129e-02, -5.06600738e-02,\n",
       "         1.80518031e-01,  3.61364067e-01,  4.11480367e-01,\n",
       "         2.09032804e-01,  4.07931209e-01, -9.16549265e-02,\n",
       "        -3.65467727e-01, -2.37444788e-02,  1.86207578e-01,\n",
       "         4.53972876e-01,  8.68584216e-02, -3.84626165e-02,\n",
       "         1.46447256e-01,  2.21761435e-01,  2.04168975e-01,\n",
       "         3.65215018e-02,  1.55100226e-01, -3.39807600e-01,\n",
       "        -8.67244229e-02, -1.26063004e-01,  2.34554812e-01,\n",
       "        -8.59399140e-02, -1.41674668e-01,  1.52421415e-01,\n",
       "        -9.26960632e-02,  1.06575906e-01, -2.22699493e-01,\n",
       "        -2.19432831e-01, -1.74684107e-01,  7.89386034e-02,\n",
       "         9.94834602e-02,  3.43163311e-02, -3.24813306e-01,\n",
       "         9.37722772e-02,  1.63928360e-01, -2.14543492e-01,\n",
       "         1.77608609e-01, -1.39450401e-01, -1.30772553e-02,\n",
       "         3.17585990e-02,  5.11926599e-03, -2.85952985e-01,\n",
       "         1.04713798e-01,  5.33203304e-01,  1.05765380e-01,\n",
       "        -3.00503582e-01,  5.25225848e-02,  2.55765110e-01,\n",
       "         2.95837373e-01,  1.96899876e-01, -1.51946470e-01,\n",
       "        -1.41068161e-01,  2.89272666e-01, -2.35069245e-02,\n",
       "         1.76642224e-01, -3.54478985e-01, -1.14614807e-01,\n",
       "        -1.03457607e-01, -3.51689339e-01,  5.65709323e-02,\n",
       "         2.68336296e-01,  1.02600157e-02,  2.45565847e-01,\n",
       "         2.48814344e-01,  4.00481403e-01,  2.72066802e-01,\n",
       "        -1.03896767e-01,  1.58216543e-02,  1.22316092e-01,\n",
       "        -2.67484151e-02,  2.30381891e-01, -7.71801919e-02,\n",
       "        -2.32059076e-01,  4.89131659e-02, -2.48895101e-02,\n",
       "        -5.32638252e-01, -2.65307724e-01, -1.91011876e-01,\n",
       "        -6.87081814e-02, -2.38669246e-01,  1.58261806e-02,\n",
       "         2.55433410e-01,  8.90845209e-02, -2.35044539e-01,\n",
       "        -2.68943459e-01, -3.31847608e-01,  1.18167862e-01,\n",
       "        -2.22731084e-01,  7.80880749e-02,  2.57081091e-02,\n",
       "        -2.64566720e-01, -3.03148091e-01, -4.21437919e-01,\n",
       "         7.61517659e-02,  1.29628420e-01,  2.32087210e-01,\n",
       "         1.15874559e-01,  7.97556564e-02,  4.27769572e-01,\n",
       "        -1.43188387e-01, -4.47598457e-01,  2.35507246e-02,\n",
       "         9.86456126e-02,  1.93544164e-01,  5.27566671e-02,\n",
       "        -2.01334432e-01, -1.02576613e-01, -1.81757465e-01,\n",
       "         2.59335995e-01,  7.18858540e-02,  2.80170143e-01,\n",
       "         4.31260169e-01,  1.04148805e-01,  1.37518182e-01,\n",
       "        -2.73532122e-01,  5.44461161e-02, -2.86391377e-02,\n",
       "        -1.56887978e-01,  1.20792463e-01, -4.42908466e-01,\n",
       "        -3.17791849e-02, -1.60011381e-01,  1.35141924e-01,\n",
       "         2.28559256e-01, -1.79977175e-02,  1.43266127e-01,\n",
       "         2.48492539e-01, -4.42979485e-02,  2.36764461e-01,\n",
       "         9.91683230e-02, -3.57573330e-02,  1.06697701e-01,\n",
       "         1.72095731e-01,  2.50832975e-01, -1.31465718e-01,\n",
       "        -2.96484977e-02, -1.61384091e-01,  2.35079169e-01,\n",
       "        -4.29374814e-01, -1.49230063e-02,  3.00602764e-01,\n",
       "        -2.26032019e-01, -9.70958918e-02,  2.86197588e-02,\n",
       "         7.29426503e-01,  5.12878478e-01,  2.07965598e-02,\n",
       "        -2.71436125e-01,  4.92897570e-01, -1.84788685e-02,\n",
       "        -2.84838080e-01,  1.60656720e-01, -3.01225275e-01,\n",
       "        -1.16225213e-01,  3.44251156e-01,  2.83851624e-01,\n",
       "        -2.17378825e-01,  2.73180097e-01, -8.86723399e-02,\n",
       "         2.68918037e-01, -2.65841670e-02,  2.25319862e-01,\n",
       "        -2.85305321e-01, -1.97624080e-02, -2.83878237e-01,\n",
       "         3.25478017e-01, -7.99541175e-03, -2.18083099e-01,\n",
       "        -2.74813145e-01, -1.68764405e-02,  8.79333541e-02,\n",
       "        -1.16916753e-01,  5.18418439e-02,  4.62233461e-02,\n",
       "        -5.74548542e-03,  6.65046200e-02,  3.01701069e-01,\n",
       "         1.89984202e-01, -3.29716146e-01, -1.36905015e-01,\n",
       "         3.40207964e-02, -4.19733346e-01, -3.40524614e-01,\n",
       "         1.99112222e-01,  2.41026253e-01,  1.50598362e-01,\n",
       "         3.50160956e-01,  2.49176100e-03,  3.41952205e-01,\n",
       "         2.11562514e-01, -3.95085931e-01, -3.54969203e-02,\n",
       "        -1.86225921e-01,  1.52146310e-01,  3.11841547e-01,\n",
       "         8.00537169e-02,  6.52767494e-02,  3.86166513e-01,\n",
       "         7.56836683e-02, -2.05095708e-01,  8.10307488e-02,\n",
       "        -4.67604026e-02,  1.52452756e-02, -1.18008882e-01,\n",
       "         1.76357731e-01,  1.34209394e-01, -5.62575459e-03,\n",
       "         3.37787792e-02,  2.98723459e-01, -1.53461725e-01,\n",
       "        -7.62180611e-02,  1.78522542e-02,  2.35882252e-01,\n",
       "         3.54075491e-01,  2.42709577e-01,  2.77799487e-01,\n",
       "         8.31156895e-02, -7.03959391e-02, -1.42887294e-01,\n",
       "        -8.34875703e-02,  2.83418655e-01,  2.91828215e-01,\n",
       "        -2.25778773e-01, -1.03291023e+00,  4.66599576e-02,\n",
       "        -9.03316140e-02,  4.86989319e-02, -3.10788810e-01,\n",
       "         7.52705932e-02,  1.39931142e-01,  2.32832804e-02,\n",
       "         1.06212869e-02, -2.42649809e-01, -1.33261114e-01,\n",
       "         2.36186743e-01, -7.62760937e-02, -2.97374517e-01,\n",
       "         8.46850872e-02,  4.63038757e-02,  1.76880449e-01,\n",
       "        -2.49041542e-01,  8.97036493e-03, -9.74382684e-02,\n",
       "        -9.05626342e-02,  1.76227719e-01, -1.32804275e-01,\n",
       "        -2.16546625e-01, -4.98125732e-01,  4.95591536e-02,\n",
       "        -4.50050294e-01, -1.34985715e-01, -4.70184684e-02,\n",
       "         1.42544687e-01, -1.49308264e-01,  1.80275127e-01,\n",
       "        -2.06334710e-01, -2.84481104e-02, -2.41669685e-01,\n",
       "         1.22314423e-01, -2.13010814e-02,  2.38665283e-01,\n",
       "         1.85509562e-01,  2.54641205e-01, -1.32098019e-01,\n",
       "         4.89790976e-01,  1.11841708e-02, -1.75513715e-01,\n",
       "         2.06597969e-02,  6.87025934e-02,  2.37207040e-01,\n",
       "         1.87867031e-01, -1.37666613e-02, -4.40004408e-01,\n",
       "        -3.09966862e-01,  9.43707079e-02,  1.11039191e-01,\n",
       "        -1.07645130e+00,  2.70667076e-01,  1.90350771e-01,\n",
       "         2.16854941e-02, -1.45583265e-02,  4.81895581e-02,\n",
       "         3.02925445e-02, -3.50740135e-01,  1.10568672e-01,\n",
       "        -1.57573566e-01,  2.73080826e-01,  2.47923523e-01,\n",
       "        -2.07537770e-01, -5.38312256e-01, -9.25316066e-02,\n",
       "         1.68911964e-01,  6.64577335e-02, -3.21291089e-02,\n",
       "         2.15967357e-01,  4.89530489e-02,  1.77330568e-01,\n",
       "        -1.18463166e-01,  2.70731509e-01, -1.81656212e-01,\n",
       "         3.41899991e-02, -8.56653750e-02, -1.13473073e-01,\n",
       "        -3.84562373e-01, -1.63946107e-01,  2.70752251e-01,\n",
       "         3.09915751e-01,  1.33512482e-01, -2.54495096e+00,\n",
       "        -1.45941615e-01, -7.68242925e-02, -2.05533206e-01,\n",
       "         1.19013563e-01, -3.14304382e-01,  3.12290311e-01,\n",
       "        -2.66569890e-02,  7.47901946e-02, -2.38740832e-01,\n",
       "         1.08767763e-01, -2.17718214e-01,  2.91703045e-01,\n",
       "         1.20467454e-01, -2.93488801e-03, -3.77098657e-02]], dtype=float32)"
      ]
     },
     "execution_count": 18,
     "metadata": {},
     "output_type": "execute_result"
    }
   ],
   "source": [
    "from sentence_transformers import SentenceTransformer\n",
    "import transformers\n",
    "\n",
    "transformers.logging.disable_progress_bar()\n",
    "# data_model = SentenceTransformer(\"all-mpnet-base-v2\")\n",
    "data_model = SentenceTransformer(\"distilbert-base-uncased\")\n",
    "\n",
    "\n",
    "data_model.encode([\"sentence 1\"])"
   ]
  },
  {
   "cell_type": "code",
   "execution_count": 94,
   "id": "ba177a4b",
   "metadata": {},
   "outputs": [
    {
     "name": "stderr",
     "output_type": "stream",
     "text": [
      "Some weights of the model checkpoint at hf-internal-testing/tiny-random-distilbert were not used when initializing DistilBertForSequenceClassification: ['vocab_transform.bias', 'vocab_transform.weight', 'qa_outputs.bias', 'vocab_layer_norm.bias', 'vocab_layer_norm.weight', 'vocab_projector.weight', 'vocab_projector.bias', 'qa_outputs.weight']\n",
      "- This IS expected if you are initializing DistilBertForSequenceClassification from the checkpoint of a model trained on another task or with another architecture (e.g. initializing a BertForSequenceClassification model from a BertForPreTraining model).\n",
      "- This IS NOT expected if you are initializing DistilBertForSequenceClassification from the checkpoint of a model that you expect to be exactly identical (initializing a BertForSequenceClassification model from a BertForSequenceClassification model).\n"
     ]
    }
   ],
   "source": [
    "from transformers import AutoTokenizer, AutoModelForSequenceClassification\n",
    "from sentence_transformers import SentenceTransformer\n",
    "\n",
    "LOCAL_TOKENIZER_PATH = \"tmp/testing-random-distilbert-tokenizer\"\n",
    "LOCAL_MODEL_PATH = \"tmp/testing-random-distilbert-sq\"\n",
    "\n",
    "tokenizer = AutoTokenizer.from_pretrained(\n",
    "        \"hf-internal-testing/tiny-random-distilbert\"\n",
    "    )\n",
    "tokenizer.save_pretrained(LOCAL_MODEL_PATH)\n",
    "\n",
    "model = AutoModelForSequenceClassification.from_pretrained(\n",
    "    \"hf-internal-testing/tiny-random-distilbert\"\n",
    ")\n",
    "model.save_pretrained(LOCAL_MODEL_PATH)"
   ]
  },
  {
   "cell_type": "code",
   "execution_count": 93,
   "id": "2a3f5668",
   "metadata": {},
   "outputs": [],
   "source": [
    "model.save_pretrained?"
   ]
  },
  {
   "cell_type": "code",
   "execution_count": 78,
   "id": "2f35db63",
   "metadata": {},
   "outputs": [
    {
     "data": {
      "text/plain": [
       "['T_destination',\n",
       " '__annotations__',\n",
       " '__call__',\n",
       " '__class__',\n",
       " '__delattr__',\n",
       " '__dict__',\n",
       " '__dir__',\n",
       " '__doc__',\n",
       " '__eq__',\n",
       " '__format__',\n",
       " '__ge__',\n",
       " '__getattr__',\n",
       " '__getattribute__',\n",
       " '__gt__',\n",
       " '__hash__',\n",
       " '__init__',\n",
       " '__init_subclass__',\n",
       " '__le__',\n",
       " '__lt__',\n",
       " '__module__',\n",
       " '__ne__',\n",
       " '__new__',\n",
       " '__reduce__',\n",
       " '__reduce_ex__',\n",
       " '__repr__',\n",
       " '__setattr__',\n",
       " '__setstate__',\n",
       " '__sizeof__',\n",
       " '__str__',\n",
       " '__subclasshook__',\n",
       " '__weakref__',\n",
       " '_apply',\n",
       " '_auto_class',\n",
       " '_backward_compatibility_gradient_checkpointing',\n",
       " '_backward_hooks',\n",
       " '_buffers',\n",
       " '_call_impl',\n",
       " '_can_retrieve_inputs_from_name',\n",
       " '_convert_head_mask_to_5d',\n",
       " '_create_repo',\n",
       " '_expand_inputs_for_generation',\n",
       " '_forward_hooks',\n",
       " '_forward_pre_hooks',\n",
       " '_from_config',\n",
       " '_get_backward_hooks',\n",
       " '_get_decoder_start_token_id',\n",
       " '_get_files_timestamps',\n",
       " '_get_logits_processor',\n",
       " '_get_logits_warper',\n",
       " '_get_name',\n",
       " '_get_resized_embeddings',\n",
       " '_get_resized_lm_head',\n",
       " '_get_stopping_criteria',\n",
       " '_hook_rss_memory_post_forward',\n",
       " '_hook_rss_memory_pre_forward',\n",
       " '_init_weights',\n",
       " '_is_full_backward_hook',\n",
       " '_keys_to_ignore_on_load_missing',\n",
       " '_keys_to_ignore_on_load_unexpected',\n",
       " '_keys_to_ignore_on_save',\n",
       " '_load_from_state_dict',\n",
       " '_load_pretrained_model',\n",
       " '_load_pretrained_model_low_mem',\n",
       " '_load_state_dict_post_hooks',\n",
       " '_load_state_dict_pre_hooks',\n",
       " '_maybe_warn_non_full_backward_hook',\n",
       " '_merge_criteria_processor_list',\n",
       " '_modules',\n",
       " '_named_members',\n",
       " '_no_split_modules',\n",
       " '_non_persistent_buffers_set',\n",
       " '_parameters',\n",
       " '_prepare_attention_mask_for_generation',\n",
       " '_prepare_decoder_input_ids_for_generation',\n",
       " '_prepare_encoder_decoder_kwargs_for_generation',\n",
       " '_prepare_input_ids_for_generation',\n",
       " '_prepare_model_inputs',\n",
       " '_register_load_state_dict_pre_hook',\n",
       " '_register_state_dict_hook',\n",
       " '_reorder_cache',\n",
       " '_replicate_for_data_parallel',\n",
       " '_resize_token_embeddings',\n",
       " '_save_to_state_dict',\n",
       " '_set_default_torch_dtype',\n",
       " '_slow_forward',\n",
       " '_state_dict_hooks',\n",
       " '_tie_encoder_decoder_weights',\n",
       " '_tie_or_clone_weights',\n",
       " '_update_model_kwargs_for_generation',\n",
       " '_upload_modified_files',\n",
       " '_validate_model_class',\n",
       " '_validate_model_kwargs',\n",
       " '_version',\n",
       " 'add_memory_hooks',\n",
       " 'add_module',\n",
       " 'adjust_logits_during_generation',\n",
       " 'apply',\n",
       " 'base_model',\n",
       " 'base_model_prefix',\n",
       " 'beam_sample',\n",
       " 'beam_search',\n",
       " 'bfloat16',\n",
       " 'buffers',\n",
       " 'children',\n",
       " 'classifier',\n",
       " 'compute_transition_beam_scores',\n",
       " 'config',\n",
       " 'config_class',\n",
       " 'constrained_beam_search',\n",
       " 'contrastive_search',\n",
       " 'cpu',\n",
       " 'create_extended_attention_mask_for_decoder',\n",
       " 'cuda',\n",
       " 'device',\n",
       " 'distilbert',\n",
       " 'double',\n",
       " 'dropout',\n",
       " 'dtype',\n",
       " 'dummy_inputs',\n",
       " 'dump_patches',\n",
       " 'estimate_tokens',\n",
       " 'eval',\n",
       " 'extra_repr',\n",
       " 'float',\n",
       " 'floating_point_ops',\n",
       " 'forward',\n",
       " 'framework',\n",
       " 'from_pretrained',\n",
       " 'generate',\n",
       " 'get_buffer',\n",
       " 'get_extended_attention_mask',\n",
       " 'get_extra_state',\n",
       " 'get_head_mask',\n",
       " 'get_input_embeddings',\n",
       " 'get_memory_footprint',\n",
       " 'get_output_embeddings',\n",
       " 'get_parameter',\n",
       " 'get_position_embeddings',\n",
       " 'get_submodule',\n",
       " 'gradient_checkpointing_disable',\n",
       " 'gradient_checkpointing_enable',\n",
       " 'greedy_search',\n",
       " 'group_beam_search',\n",
       " 'half',\n",
       " 'init_weights',\n",
       " 'invert_attention_mask',\n",
       " 'ipu',\n",
       " 'is_gradient_checkpointing',\n",
       " 'is_parallelizable',\n",
       " 'load_state_dict',\n",
       " 'load_tf_weights',\n",
       " 'main_input_name',\n",
       " 'modules',\n",
       " 'name_or_path',\n",
       " 'named_buffers',\n",
       " 'named_children',\n",
       " 'named_modules',\n",
       " 'named_parameters',\n",
       " 'num_labels',\n",
       " 'num_parameters',\n",
       " 'parameters',\n",
       " 'post_init',\n",
       " 'pre_classifier',\n",
       " 'prune_heads',\n",
       " 'push_to_hub',\n",
       " 'register_backward_hook',\n",
       " 'register_buffer',\n",
       " 'register_for_auto_class',\n",
       " 'register_forward_hook',\n",
       " 'register_forward_pre_hook',\n",
       " 'register_full_backward_hook',\n",
       " 'register_load_state_dict_post_hook',\n",
       " 'register_module',\n",
       " 'register_parameter',\n",
       " 'requires_grad_',\n",
       " 'reset_memory_hooks_state',\n",
       " 'resize_position_embeddings',\n",
       " 'resize_token_embeddings',\n",
       " 'retrieve_modules_from_names',\n",
       " 'sample',\n",
       " 'save_pretrained',\n",
       " 'set_extra_state',\n",
       " 'set_input_embeddings',\n",
       " 'share_memory',\n",
       " 'state_dict',\n",
       " 'supports_gradient_checkpointing',\n",
       " 'tie_weights',\n",
       " 'to',\n",
       " 'to_empty',\n",
       " 'train',\n",
       " 'training',\n",
       " 'type',\n",
       " 'warnings_issued',\n",
       " 'xpu',\n",
       " 'zero_grad']"
      ]
     },
     "execution_count": 78,
     "metadata": {},
     "output_type": "execute_result"
    }
   ],
   "source": [
    "dir(model)"
   ]
  },
  {
   "cell_type": "code",
   "execution_count": 95,
   "id": "20cd8786",
   "metadata": {},
   "outputs": [
    {
     "name": "stdout",
     "output_type": "stream",
     "text": [
      "huggingface/tokenizers: The current process just got forked, after parallelism has already been used. Disabling parallelism to avoid deadlocks...\n",
      "To disable this warning, you can either:\n",
      "\t- Avoid using `tokenizers` before the fork if possible\n",
      "\t- Explicitly set the environment variable TOKENIZERS_PARALLELISM=(true | false)\n",
      "total 856\r\n",
      "  0 drwxr-xr-x  8 benepstein  staff   256B Nov 17 13:48 \u001b[1m\u001b[36m.\u001b[m\u001b[m\r\n",
      "  0 drwxr-xr-x  4 benepstein  staff   128B Nov 17 10:06 \u001b[1m\u001b[36m..\u001b[m\u001b[m\r\n",
      "  8 -rw-r--r--  1 benepstein  staff   580B Nov 17 13:48 config.json\r\n",
      "768 -rw-r--r--  1 benepstein  staff   369K Nov 17 13:48 pytorch_model.bin\r\n",
      "  8 -rw-r--r--  1 benepstein  staff   125B Nov 17 13:48 special_tokens_map.json\r\n",
      " 48 -rw-r--r--  1 benepstein  staff    23K Nov 17 13:48 tokenizer.json\r\n",
      "  8 -rw-r--r--  1 benepstein  staff   379B Nov 17 13:48 tokenizer_config.json\r\n",
      " 16 -rw-r--r--  1 benepstein  staff   4.6K Nov 17 13:48 vocab.txt\r\n"
     ]
    }
   ],
   "source": [
    "!ls -lsah {LOCAL_MODEL_PATH}"
   ]
  },
  {
   "cell_type": "code",
   "execution_count": 88,
   "id": "117fb88b",
   "metadata": {},
   "outputs": [
    {
     "name": "stdout",
     "output_type": "stream",
     "text": [
      "huggingface/tokenizers: The current process just got forked, after parallelism has already been used. Disabling parallelism to avoid deadlocks...\n",
      "To disable this warning, you can either:\n",
      "\t- Avoid using `tokenizers` before the fork if possible\n",
      "\t- Explicitly set the environment variable TOKENIZERS_PARALLELISM=(true | false)\n",
      "huggingface/tokenizers: The current process just got forked, after parallelism has already been used. Disabling parallelism to avoid deadlocks...\n",
      "To disable this warning, you can either:\n",
      "\t- Avoid using `tokenizers` before the fork if possible\n",
      "\t- Explicitly set the environment variable TOKENIZERS_PARALLELISM=(true | false)\n",
      "total 832\n",
      "  0 drwxr-xr-x  8 benepstein  staff   256B Nov 17 13:47 \u001b[1m\u001b[36m.\u001b[m\u001b[m\n",
      "  0 drwxr-xr-x  4 benepstein  staff   128B Nov 17 10:06 \u001b[1m\u001b[36m..\u001b[m\u001b[m\n",
      "  8 -rw-r--r--  1 benepstein  staff   580B Nov 17 13:47 config.json\n",
      "744 -rw-r--r--  1 benepstein  staff   369K Nov 17 13:47 pytorch_model.bin\n",
      "  8 -rw-r--r--  1 benepstein  staff   125B Nov 17 10:07 special_tokens_map.json\n",
      " 48 -rw-r--r--  1 benepstein  staff    23K Nov 17 10:07 tokenizer.json\n",
      "  8 -rw-r--r--  1 benepstein  staff   379B Nov 17 10:07 tokenizer_config.json\n",
      " 16 -rw-r--r--  1 benepstein  staff   4.6K Nov 17 10:07 vocab.txt\n"
     ]
    }
   ],
   "source": [
    "!cp {LOCAL_MODEL_PATH}/* {LOCAL_TOKENIZER_PATH}\n",
    "!ls -lash {LOCAL_TOKENIZER_PATH}"
   ]
  },
  {
   "cell_type": "code",
   "execution_count": 84,
   "id": "a28590a4",
   "metadata": {},
   "outputs": [],
   "source": [
    "SentenceTransformer?"
   ]
  },
  {
   "cell_type": "code",
   "execution_count": 96,
   "id": "f427f125",
   "metadata": {
    "scrolled": true
   },
   "outputs": [
    {
     "name": "stderr",
     "output_type": "stream",
     "text": [
      "No sentence-transformers model found with name tmp/testing-random-distilbert-sq. Creating a new one with MEAN pooling.\n",
      "Some weights of the model checkpoint at tmp/testing-random-distilbert-sq were not used when initializing DistilBertModel: ['classifier.bias', 'classifier.weight', 'pre_classifier.weight', 'pre_classifier.bias']\n",
      "- This IS expected if you are initializing DistilBertModel from the checkpoint of a model trained on another task or with another architecture (e.g. initializing a BertForSequenceClassification model from a BertForPreTraining model).\n",
      "- This IS NOT expected if you are initializing DistilBertModel from the checkpoint of a model that you expect to be exactly identical (initializing a BertForSequenceClassification model from a BertForSequenceClassification model).\n"
     ]
    }
   ],
   "source": [
    "data_model = SentenceTransformer(LOCAL_MODEL_PATH)"
   ]
  },
  {
   "cell_type": "code",
   "execution_count": 90,
   "id": "e8158ebd",
   "metadata": {},
   "outputs": [
    {
     "data": {
      "text/plain": [
       "array([ 1.31875408e+00, -1.36274144e-01, -4.55679804e-01,  3.05176288e-01,\n",
       "        4.53322917e-01,  2.71099836e-01,  3.02597076e-01,  3.70480180e-01,\n",
       "       -5.49280405e-01, -2.95543194e-01,  1.08455203e-01, -1.40951172e-01,\n",
       "       -2.37448409e-01, -2.34409809e-01, -1.31957665e-01, -3.15684766e-01,\n",
       "        2.78756022e-04,  1.02355920e-01, -5.70327580e-01,  2.87402362e-01,\n",
       "       -1.25006303e-01,  8.92032325e-01, -4.03520346e-01,  2.39682391e-01,\n",
       "       -1.28863156e-01,  1.04067922e-02,  1.15602612e-02,  1.05618455e-01,\n",
       "       -1.26513556e-01,  2.16349378e-01, -1.14398706e+00, -1.24702230e-04],\n",
       "      dtype=float32)"
      ]
     },
     "execution_count": 90,
     "metadata": {},
     "output_type": "execute_result"
    }
   ],
   "source": [
    "data_model.encode(\"test\")"
   ]
  },
  {
   "cell_type": "code",
   "execution_count": 36,
   "id": "578ad827-21fb-499e-8926-e6c3e4ba7f73",
   "metadata": {
    "scrolled": true
   },
   "outputs": [
    {
     "data": {
      "text/plain": [
       "{'input_ids': tensor([ 101, 2023, 2003, 1037, 2146, 6251, 2055, 2129, 6285, 2003, 2428, 3492,\n",
       "         1998, 4206, 1998, 2038, 2307, 2159,  102]),\n",
       " 'attention_mask': tensor([1, 1, 1, 1, 1, 1, 1, 1, 1, 1, 1, 1, 1, 1, 1, 1, 1, 1, 1]),\n",
       " 'token_embeddings': tensor([[-0.0989, -0.1244, -0.0870,  ...,  0.1521,  0.4170,  0.0777],\n",
       "         [-0.1934, -0.1937, -0.3912,  ...,  0.1710,  0.5467,  0.0530],\n",
       "         [-0.1983, -0.0436, -0.0218,  ...,  0.3699,  0.0821,  0.4078],\n",
       "         ...,\n",
       "         [ 0.1655,  0.3409,  0.2666,  ..., -0.1975,  0.1927, -0.1595],\n",
       "         [-0.0490,  0.0316, -0.0028,  ...,  0.0534,  0.2502, -0.5220],\n",
       "         [ 0.7531, -0.0019, -0.3970,  ...,  0.1781, -0.3043, -0.6650]]),\n",
       " 'sentence_embedding': tensor([ 1.1392e-02,  5.2962e-03,  2.4081e-02,  5.5669e-02,  2.9600e-01,\n",
       "         -2.5092e-01,  3.5211e-04,  1.0010e+00, -3.2073e-01, -2.2458e-01,\n",
       "          1.2752e-01, -5.7345e-01, -3.2998e-02,  4.6655e-01, -2.2689e-01,\n",
       "          2.9207e-01,  2.8244e-01,  2.1811e-01, -8.0712e-02,  3.0576e-01,\n",
       "          2.7469e-01,  5.3710e-02,  1.9045e-01,  3.6077e-01,  4.5815e-01,\n",
       "          8.2167e-02,  1.4547e-01,  2.5421e-01, -1.1535e-01,  2.6799e-02,\n",
       "          2.3248e-01, -7.7745e-02, -1.8132e-01, -2.4103e-01, -6.5632e-02,\n",
       "         -3.5214e-01, -1.6535e-01,  1.3723e-02, -2.2975e-01,  1.5200e-01,\n",
       "         -4.9539e-01, -1.8832e-01,  8.3789e-02, -5.9530e-02, -2.5808e-01,\n",
       "         -4.4183e-01,  2.4390e-01, -1.2906e-01,  9.5001e-02, -1.1353e-01,\n",
       "         -1.6921e-01,  5.3950e-02, -2.4512e-01,  2.9358e-02,  1.9541e-01,\n",
       "          4.2529e-01, -2.9699e-01, -5.1303e-01, -3.5026e-01, -2.1796e-01,\n",
       "          1.3224e-01, -2.0634e-01, -1.8047e-01, -5.0598e-01,  9.7234e-02,\n",
       "         -1.9788e-02, -1.0854e-01, -7.8112e-02, -4.4564e-01,  8.0830e-02,\n",
       "         -8.9116e-03, -2.1776e-01,  2.0513e-01,  5.0424e-02, -9.4022e-03,\n",
       "          3.8012e-01, -1.9113e-02,  1.9720e-01,  8.9961e-02,  7.2577e-02,\n",
       "         -2.0502e-01,  4.6547e-01, -1.6648e-01,  4.6486e-01, -9.6593e-02,\n",
       "          1.0830e-01, -1.0673e-02,  1.3329e-01, -5.0995e-01,  4.8968e-01,\n",
       "          4.5829e-03, -1.0829e-01, -1.6079e-02,  1.8655e-01,  2.9842e-01,\n",
       "         -4.1971e-01,  2.7326e-01, -2.1992e-01, -1.9172e-01,  3.9743e-01,\n",
       "          2.6366e-01, -6.3996e-01,  1.7971e-01,  6.5486e-03, -1.2325e-01,\n",
       "          6.0355e-02,  2.2873e-01,  2.8494e-01,  1.8410e-02,  1.6279e-01,\n",
       "         -1.1511e-01, -2.9115e-01,  4.2223e-02, -2.2351e-01, -4.4505e-01,\n",
       "          4.4137e-01,  1.0072e-01,  5.9464e-02,  1.4795e-01,  3.6761e-01,\n",
       "         -3.0530e-01, -1.3515e-02,  3.5576e-02,  4.8078e-01, -9.3495e-02,\n",
       "          4.4208e-02, -4.7698e-01,  3.3521e-01,  2.6743e-01, -3.5285e-01,\n",
       "          2.9134e-01,  9.9610e-02,  4.2098e-01, -2.5347e-01, -2.8290e-01,\n",
       "         -8.4248e-02, -3.4389e-02, -4.5771e-01, -5.0597e-01,  2.1287e-02,\n",
       "          1.0286e-01,  5.5314e-02,  3.7423e-02,  4.9777e-02, -1.6836e-01,\n",
       "         -1.5166e-01, -8.8541e-02, -3.8723e-01, -7.8507e-02,  1.7081e-01,\n",
       "          2.8988e-03,  1.6263e-01,  2.2655e-02, -2.2579e-01,  5.7417e-02,\n",
       "          1.0681e-01, -5.1893e-01, -6.3542e-02,  3.3226e-01,  2.1563e-01,\n",
       "          4.1458e-01, -4.6844e-02, -8.4006e-02,  3.3045e-01,  2.6748e-02,\n",
       "          2.7111e-01, -2.0712e-02,  1.5155e-01, -4.8559e-01,  5.7139e-02,\n",
       "         -2.9123e-02,  1.4782e-01,  6.2717e-01, -2.8398e-01,  5.3627e-04,\n",
       "         -1.8843e-01,  2.8242e-01,  2.1926e-01,  2.1996e-01, -9.9596e-02,\n",
       "         -7.6918e-01,  3.3845e-01,  3.2229e-01, -6.2660e-02,  3.4074e-01,\n",
       "         -3.8047e-02,  7.5865e-02, -3.4114e-02, -1.1448e-01, -8.7040e-02,\n",
       "         -8.2155e-02,  5.2064e-02, -1.9569e-01, -1.2828e-01,  1.9376e-01,\n",
       "         -4.2706e-01, -1.4742e-01, -2.9002e-01, -2.5733e-01,  1.7860e-01,\n",
       "         -1.3671e-01, -7.7727e-02,  2.2263e-01,  9.1730e-02, -2.1855e-01,\n",
       "          1.8513e-02,  1.6959e-01,  1.7729e-02,  7.2667e-02,  3.8054e-01,\n",
       "         -1.6910e-01,  5.1365e-01,  9.4094e-02,  7.6894e-02,  6.1594e-03,\n",
       "          1.4054e-01,  1.6373e-01, -4.7644e-02,  1.7202e-01, -3.3443e-02,\n",
       "          1.8334e-01, -8.4444e-02, -5.2179e-01,  3.9457e-01, -7.8837e-02,\n",
       "          5.0402e-01,  3.8183e-01, -2.8390e-01, -7.0735e-02,  8.6541e-03,\n",
       "         -3.5242e-02, -1.5207e-01,  2.1521e-01, -9.0631e-02,  1.5917e-02,\n",
       "         -1.0705e-01,  6.2114e-03,  3.3445e-02,  1.3081e-01, -3.6984e-01,\n",
       "         -1.3194e-01,  2.4035e-01,  2.3988e-01, -1.5959e-02,  1.9512e-01,\n",
       "         -8.5066e-02, -4.1775e-02, -5.5355e-02, -4.8116e-01, -1.8347e-01,\n",
       "         -3.7739e-01, -4.3332e-01,  2.7188e-01, -3.5597e-01, -3.8012e-03,\n",
       "         -2.0162e-01, -1.5509e-01,  3.1918e-03, -5.1865e-02,  1.7640e-01,\n",
       "         -3.2334e-02, -6.3497e-02, -1.0131e-01, -2.4323e-02, -6.2256e-01,\n",
       "         -9.2724e-02, -1.1376e-01,  1.2915e-01,  3.3695e-01,  4.6887e-01,\n",
       "          9.7209e-02,  1.3455e-01,  6.5994e-02,  2.9609e-01,  9.5565e-02,\n",
       "         -5.3219e-01,  2.6727e-01,  2.0129e-02,  3.2007e-03, -7.2247e-02,\n",
       "          1.7581e-01,  8.8353e-01, -3.1399e-01,  2.6659e-01,  7.4127e-02,\n",
       "         -2.8947e-01,  1.9891e-01,  1.9203e-01, -2.0137e-01, -2.0416e-01,\n",
       "         -1.1030e-01,  1.0189e-02, -4.0250e-01, -2.8762e-01,  5.4071e-01,\n",
       "          1.7903e-01,  5.1137e-01,  8.8119e-02,  1.4180e-01, -1.2137e-01,\n",
       "          8.5005e-02,  6.5159e-02,  6.7675e-02, -1.5437e-02, -2.4719e-02,\n",
       "          3.7398e-01, -1.6207e-01, -2.0109e-01, -4.0210e+00,  8.5324e-02,\n",
       "         -6.7554e-02, -2.2634e-01,  2.8908e-01, -5.2328e-02, -1.2590e-01,\n",
       "         -3.6344e-01, -4.8890e-01, -2.0820e-01, -3.7995e-01,  5.4459e-02,\n",
       "          2.2773e-01,  2.4013e-01,  3.7076e-01, -1.8112e-01, -1.3197e-01,\n",
       "         -2.5714e-01, -1.3390e-01,  6.6179e-01,  1.4823e-01, -4.8201e-01,\n",
       "         -1.6425e-01,  4.4141e-02,  5.0490e-01,  3.3622e-01, -2.5714e-01,\n",
       "         -1.2338e-01, -2.7133e-01, -1.7350e-01, -1.5187e-01, -1.9840e-03,\n",
       "          7.7395e-02, -4.9854e-02,  8.0597e-02, -2.0408e-01,  1.4627e-02,\n",
       "         -3.1368e-01,  1.3440e-01, -1.2658e-02, -5.7729e-02, -5.1915e-01,\n",
       "         -3.1310e-02,  4.9496e-02,  7.8208e-01, -3.6150e-01, -2.1779e-02,\n",
       "         -5.0088e-01,  3.1648e-02,  4.0803e-01,  1.8139e-01, -8.9297e-02,\n",
       "         -5.2002e-02, -9.9042e-02, -1.0845e-02, -1.5071e-01,  5.9253e-01,\n",
       "          5.8553e-01, -2.5331e-01, -6.5531e-01,  3.3281e-02,  1.6624e-04,\n",
       "         -4.3912e-01, -7.5575e-02,  9.0251e-02, -3.0859e-01,  3.6712e-02,\n",
       "         -1.1124e-01,  1.5113e-01,  1.2283e-01,  1.0626e-01,  6.5695e-02,\n",
       "         -1.0398e-01, -9.0645e-01,  1.5322e-01, -2.3665e-01,  1.0480e-02,\n",
       "         -1.4299e-01,  2.3204e-01, -2.8410e-01, -2.8635e-01, -4.3033e-01,\n",
       "         -1.2408e-01, -6.3580e-02,  5.7015e-02, -4.2851e-01, -1.8384e-01,\n",
       "         -2.0830e-01, -2.0893e-01, -1.6356e-01,  3.6640e-01,  1.0315e-01,\n",
       "         -1.6040e-01,  2.1269e-01,  7.8722e-02, -8.7550e-03,  9.9306e-02,\n",
       "         -1.6216e-01,  3.7976e-01, -2.0468e-01,  1.3676e-01,  1.6505e-01,\n",
       "          5.2914e-01,  4.1347e-02,  3.1958e-01,  1.3053e-01, -2.6001e-01,\n",
       "          1.2922e-01, -1.9518e-01,  1.4334e-01,  3.7588e-01, -6.7754e-01,\n",
       "          1.9218e-01, -2.9058e-01, -2.4571e-02, -9.7788e-02,  2.0909e-01,\n",
       "          6.6174e-01, -1.2733e-01,  2.0203e-01, -1.0214e-01,  7.3493e-01,\n",
       "         -3.8523e-01, -4.6633e-01, -5.5963e-01,  1.5041e-02, -2.0156e-01,\n",
       "         -7.1447e-02, -1.5583e-01, -6.1813e-02, -1.3312e-01, -2.9933e-01,\n",
       "          8.6354e-04,  1.1378e-01,  2.0772e-01,  1.1310e-01, -7.4858e-02,\n",
       "         -6.4020e-01,  2.5069e-01, -2.2282e-02,  2.8440e-01,  2.2639e-01,\n",
       "         -7.2871e-02,  1.9651e-01,  1.6443e-01,  2.8564e-01, -3.1031e-02,\n",
       "          1.7672e-01, -3.7901e-01,  1.1620e-01, -1.5313e-01, -2.2919e-01,\n",
       "         -5.8084e-02, -3.4367e-01,  7.0092e-02, -1.3493e-01,  9.0669e-02,\n",
       "          1.3985e-01, -4.1359e-01, -2.4130e-01, -4.3633e-02, -5.4039e-02,\n",
       "          1.5262e-01,  4.3628e-01,  6.0823e-02,  1.5543e-01, -2.3101e-01,\n",
       "          2.0765e-01,  2.9416e-02,  6.8938e-01, -2.2358e-01, -1.0177e-02,\n",
       "         -2.1833e-01, -1.5682e-01, -2.2408e-01,  2.5613e-01,  5.1766e-02,\n",
       "         -8.5808e-02, -2.1211e-01,  2.0686e-01, -1.7152e-01, -6.0646e-02,\n",
       "          1.4722e-01, -3.4693e-02,  8.6367e-02,  2.9937e-01,  1.4560e-01,\n",
       "          1.2359e-01, -8.0142e-02,  2.0293e-01, -2.5380e-01,  3.6987e-01,\n",
       "         -2.4286e-01,  1.9524e-01, -3.1588e-01, -1.7654e-01,  2.0917e-01,\n",
       "         -5.0745e-01,  3.0036e-01, -1.3353e-01,  6.2064e-02, -1.7466e-01,\n",
       "         -1.5484e-01,  6.3518e-02, -1.2090e-01, -7.2787e-02,  3.4406e-01,\n",
       "          2.5792e-01,  1.1277e-01,  2.5613e-01, -1.8724e-01, -3.9471e-01,\n",
       "         -6.0714e-02, -3.0741e-01, -1.7451e-01, -3.1767e-02,  6.5218e-02,\n",
       "         -1.9948e-01, -2.2295e-01,  5.3080e-05, -1.1229e-01, -1.6738e-01,\n",
       "         -3.0757e-02,  1.4273e-01, -4.4629e-01, -2.9204e-01,  5.4968e-02,\n",
       "          8.5205e-02, -7.8034e-02, -3.1669e-01,  1.4151e-01, -2.0722e-01,\n",
       "          2.0326e-01,  1.1828e-02, -3.1264e-01,  1.5891e-01, -4.0115e-01,\n",
       "         -3.4042e-01,  3.9219e-01,  2.6768e-03,  1.0325e-01, -1.7280e-01,\n",
       "         -8.0645e-02, -1.9038e-02,  2.0837e-01,  2.5300e-01, -6.5345e-03,\n",
       "          2.8269e-01, -1.9753e-01, -6.6869e-02, -2.6267e-01, -4.1013e-02,\n",
       "         -1.4476e-01, -8.2906e-03,  2.1116e-01, -4.4558e-01, -4.3240e-01,\n",
       "          2.0925e-01, -8.1070e-02, -2.1068e-01,  1.4389e-02,  3.5882e-02,\n",
       "         -1.3693e-01,  2.1779e-02,  4.0682e-01, -6.1284e-02, -3.8736e-02,\n",
       "          5.4192e-01,  1.3365e-01, -1.4269e-01, -1.6969e-01, -1.4849e-01,\n",
       "          1.9586e-01, -6.6570e-02, -2.3770e-01,  9.9152e-02, -2.9221e-01,\n",
       "         -3.8447e-01,  8.1693e-02, -1.6909e-01, -2.1772e-01,  5.0069e-01,\n",
       "         -4.7514e-02, -8.1939e-02,  2.0082e-01, -1.3630e-01, -1.3252e-01,\n",
       "          4.6974e-01, -1.0709e-03,  5.4430e-02,  2.7995e-02,  3.8877e-01,\n",
       "         -1.9558e-01, -1.2269e-01,  1.2485e-01, -2.5642e-01,  4.5524e-01,\n",
       "          1.0359e-01,  3.8421e-01, -1.2510e-01,  4.1274e-02,  1.9068e-01,\n",
       "          7.7873e-02,  2.5812e-01, -1.3599e-01,  1.4347e-01,  4.8629e-01,\n",
       "         -1.0391e-01,  2.7729e-01,  6.2744e-01, -2.4775e-01, -2.3509e-01,\n",
       "          3.1880e-01,  5.3285e-01, -3.1502e-01, -5.0480e-01,  1.4084e-01,\n",
       "         -2.7850e-01,  1.6420e-01,  1.4042e-01,  1.7955e-01, -2.8913e-01,\n",
       "          2.5880e-01, -1.4523e-01, -1.7570e-01,  7.3327e-01, -3.2169e-01,\n",
       "         -1.3923e-01, -1.1386e-01,  3.5750e-01, -5.6117e-02,  4.2171e-01,\n",
       "         -2.5535e-01,  4.2149e-01, -6.7256e-02, -3.9427e-01,  1.4525e-01,\n",
       "          1.9030e-01,  2.9285e-01, -1.3378e-01, -5.9044e-02, -1.5429e-01,\n",
       "          3.5822e-02,  7.3128e-01,  2.5435e-01,  5.2847e-02, -2.1914e-02,\n",
       "         -6.0610e-02,  4.5792e-01,  2.3036e-01, -6.7099e-02,  5.2746e-01,\n",
       "          4.4636e-01, -2.3118e-01,  2.6614e-01,  1.8959e-02,  4.7192e-02,\n",
       "          2.3927e-01, -1.8042e-01,  4.2831e-01,  2.3145e-01, -1.4109e-01,\n",
       "          2.5409e-01, -3.8707e-01,  7.8856e-02,  2.3676e-01,  1.3623e-01,\n",
       "         -4.0162e-01, -5.7877e-01, -7.2583e-02, -1.4716e-01,  1.7763e-01,\n",
       "         -5.7216e-02, -3.4490e-01, -4.5434e-01,  3.9197e-01, -3.8628e-01,\n",
       "         -3.5367e-01, -1.2507e-01,  1.3358e-01,  2.7171e-01,  1.0438e-02,\n",
       "         -6.1337e-01, -2.0194e-01, -4.0407e-01, -2.1477e-01, -1.2558e-03,\n",
       "         -7.8969e-02, -8.4106e-02, -2.1752e-01,  2.2467e-01,  4.4723e-02,\n",
       "          3.5867e-01, -2.3570e-01,  1.1436e-01, -5.9364e-01,  1.8532e-01,\n",
       "          5.3397e-01,  3.9998e-01, -4.3296e-02,  2.4215e-01, -1.7944e-01,\n",
       "         -5.4258e-02,  7.3780e-02, -1.7807e-02, -9.2648e-02,  8.2534e-02,\n",
       "          1.5911e-01, -2.7780e-01, -2.8005e-01,  8.2518e-02,  6.3396e-01,\n",
       "         -6.8192e-01,  2.4689e-02, -5.8509e-02,  3.2303e-02, -2.1574e-02,\n",
       "         -9.1721e-02, -1.9877e-01,  3.9146e-02, -1.1446e-01, -1.0762e-01,\n",
       "         -1.1257e-01,  4.5552e-01,  1.6310e-02, -3.3742e-01,  1.5295e-02,\n",
       "          3.4362e-01, -3.4764e-01, -2.5112e-01,  5.1104e-02,  1.5952e-01,\n",
       "          1.4294e-01,  2.6565e-01, -5.8818e-02, -4.3034e-01,  1.1260e-02,\n",
       "          1.2374e-01, -4.3925e-01, -2.0646e-01, -1.3380e-01,  4.0371e-02,\n",
       "         -2.0577e-02, -2.3684e-01,  5.9119e-02,  8.0159e-02, -1.4503e-01,\n",
       "         -1.3458e-01,  3.4376e-01, -3.0944e-01, -1.0240e-01, -4.5577e-01,\n",
       "          2.8453e-02, -2.6825e-01, -1.5072e-01,  1.0946e-01,  1.1948e-01,\n",
       "          4.0993e-02,  2.8012e-01, -1.5612e-01])}"
      ]
     },
     "execution_count": 36,
     "metadata": {},
     "output_type": "execute_result"
    }
   ],
   "source": [
    "token_embs = data_model.encode(\n",
    "    [\n",
    "        \"this is a long sentence about how jon is really pretty and tall and has great eyes\",\n",
    "        \"this is a long sentence about how jon is \"\n",
    "    ],\n",
    "    output_value=None, \n",
    "    convert_to_numpy=True\n",
    ")\n",
    "token_embs[0]"
   ]
  },
  {
   "cell_type": "code",
   "execution_count": 38,
   "id": "4f3e67f7",
   "metadata": {},
   "outputs": [
    {
     "data": {
      "text/plain": [
       "SentenceTransformer(\n",
       "  (0): Transformer({'max_seq_length': 256, 'do_lower_case': False}) with Transformer model: BertModel \n",
       "  (1): Pooling({'word_embedding_dimension': 384, 'pooling_mode_cls_token': False, 'pooling_mode_mean_tokens': True, 'pooling_mode_max_tokens': False, 'pooling_mode_mean_sqrt_len_tokens': False})\n",
       "  (2): Normalize()\n",
       ")"
      ]
     },
     "execution_count": 38,
     "metadata": {},
     "output_type": "execute_result"
    }
   ],
   "source": [
    "SentenceTransformer(\"all-MiniLM-L6-v2\")"
   ]
  },
  {
   "cell_type": "code",
   "execution_count": 32,
   "id": "a5bef815",
   "metadata": {},
   "outputs": [
    {
     "data": {
      "text/plain": [
       "[101,\n",
       " 2023,\n",
       " 2003,\n",
       " 1037,\n",
       " 2146,\n",
       " 6251,\n",
       " 2055,\n",
       " 2129,\n",
       " 6285,\n",
       " 2003,\n",
       " 2428,\n",
       " 3492,\n",
       " 1998,\n",
       " 4206,\n",
       " 1998,\n",
       " 2038,\n",
       " 2307,\n",
       " 2159,\n",
       " 102]"
      ]
     },
     "execution_count": 32,
     "metadata": {},
     "output_type": "execute_result"
    }
   ],
   "source": [
    "from transformers import AutoTokenizer\n",
    "tok = AutoTokenizer.from_pretrained(\"distilbert-base-uncased\")\n",
    "\n",
    "toks = tok.encode(\"this is a long sentence about how jon is really pretty and tall and has great eyes\")\n",
    "toks"
   ]
  },
  {
   "cell_type": "code",
   "execution_count": null,
   "id": "e3232fab",
   "metadata": {},
   "outputs": [],
   "source": []
  },
  {
   "cell_type": "code",
   "execution_count": 24,
   "id": "a54d0df8",
   "metadata": {},
   "outputs": [
    {
     "data": {
      "text/plain": [
       "['CRITICAL',\n",
       " 'DEBUG',\n",
       " 'ERROR',\n",
       " 'EmptyTqdm',\n",
       " 'FATAL',\n",
       " 'INFO',\n",
       " 'NOTSET',\n",
       " 'Optional',\n",
       " 'WARN',\n",
       " 'WARNING',\n",
       " '__annotations__',\n",
       " '__builtins__',\n",
       " '__cached__',\n",
       " '__doc__',\n",
       " '__file__',\n",
       " '__loader__',\n",
       " '__name__',\n",
       " '__package__',\n",
       " '__spec__',\n",
       " '_configure_library_root_logger',\n",
       " '_default_handler',\n",
       " '_default_log_level',\n",
       " '_get_default_logging_level',\n",
       " '_get_library_name',\n",
       " '_get_library_root_logger',\n",
       " '_lock',\n",
       " '_reset_library_root_logger',\n",
       " '_tqdm_active',\n",
       " '_tqdm_cls',\n",
       " 'add_handler',\n",
       " 'disable_default_handler',\n",
       " 'disable_progress_bar',\n",
       " 'disable_propagation',\n",
       " 'enable_default_handler',\n",
       " 'enable_explicit_format',\n",
       " 'enable_progress_bar',\n",
       " 'enable_propagation',\n",
       " 'get_log_levels_dict',\n",
       " 'get_logger',\n",
       " 'get_verbosity',\n",
       " 'hf_hub_utils',\n",
       " 'is_progress_bar_enabled',\n",
       " 'log_levels',\n",
       " 'logging',\n",
       " 'os',\n",
       " 'remove_handler',\n",
       " 'reset_format',\n",
       " 'set_verbosity',\n",
       " 'set_verbosity_debug',\n",
       " 'set_verbosity_error',\n",
       " 'set_verbosity_info',\n",
       " 'set_verbosity_warning',\n",
       " 'sys',\n",
       " 'threading',\n",
       " 'tqdm',\n",
       " 'tqdm_lib',\n",
       " 'warning_advice']"
      ]
     },
     "execution_count": 24,
     "metadata": {},
     "output_type": "execute_result"
    }
   ],
   "source": [
    "import transformers\n",
    "\n",
    "dir(transformers.logging)"
   ]
  },
  {
   "cell_type": "markdown",
   "id": "d4684dd5",
   "metadata": {},
   "source": [
    "## Multi Label"
   ]
  },
  {
   "cell_type": "code",
   "execution_count": null,
   "id": "06f17ab5",
   "metadata": {
    "scrolled": true
   },
   "outputs": [],
   "source": [
    "from typing import *\n",
    "from random import choice\n",
    "import numpy as np\n",
    "\n",
    "\n",
    "dq.init(\"text_multi_label\", \"test-mltc-run\")\n",
    "dq.set_labels_for_run([[\"not \"+_label, _label] for _label in ['toxic', 'severe_toxic', 'obscene', 'threat', 'insult','identity_hate']]) \n",
    "dq.set_tasks_for_run(['task_0', 'task_1', 'task_2', 'task_3', 'task_4', 'task_5'])\n",
    "\n",
    "n = 5000\n",
    "\n",
    "texts: List[str] = [f\"text sample {i}\" for i in range(n)]\n",
    "\n",
    "labels: List[str] = [\n",
    "    [choice(i) for i in dq.get_data_logger().logger_config.labels]\n",
    "    for _ in range(n)\n",
    "]\n",
    "\n",
    "ids = list(range(n))\n",
    "\n",
    "\n",
    "dq.log_data_samples(texts=texts, task_labels=labels, ids=ids, split=\"training\")\n",
    "dq.log_data_samples(texts=texts, task_labels=labels, ids=ids, split=\"test\")\n",
    "dq.log_data_samples(texts=texts, task_labels=labels, ids=ids, split=\"validation\")\n",
    "\n",
    "for split in [\"training\", \"test\", \"validation\"]:\n",
    "    for epoch in range(5):\n",
    "        emb=np.random.rand(n, 768)\n",
    "        logits=[[np.random.rand(2)] * 6] * n\n",
    "        ids=list(range(n))\n",
    "        \n",
    "        for i in range(0, n, 32):\n",
    "            dq.log_model_outputs(\n",
    "                embs=emb[i:i+5],\n",
    "                logits=logits[i:i+5],\n",
    "                ids=ids[i:i+5],\n",
    "                split=split,\n",
    "                epoch=epoch\n",
    "            )\n",
    "\n",
    "dq.finish()\n",
    "df_train, df_test, df_val = see_results()\n"
   ]
  },
  {
   "cell_type": "markdown",
   "id": "fe82cc51",
   "metadata": {},
   "source": [
    "## NER"
   ]
  },
  {
   "cell_type": "code",
   "execution_count": null,
   "id": "eb6ba254",
   "metadata": {},
   "outputs": [],
   "source": [
    "from dataquality.schemas.task_type import TaskType\n",
    "from dataquality import config \n",
    "from uuid import uuid4\n",
    "import numpy as np\n",
    "from time import sleep\n",
    "from tqdm.notebook import tqdm\n",
    "\n",
    "\n",
    "dq.init(\"text_ner\", \"test-ner-run\")\n",
    "\n",
    "\n",
    "def log_inputs():\n",
    "    text_inputs = ['what movies star bruce willis', 'show me films with drew barrymore from the 1980s', 'what movies starred both al pacino and robert deniro', 'find me all of the movies that starred harold ramis and bill murray', 'find me a movie with a quote about baseball in it']\n",
    "    tokens = [[(0, 4), (5, 11), (12, 16), (17, 22), (17, 22), (23, 29), (23, 29)], [(0, 4), (5, 7), (8, 13), (14, 18), (19, 23), (24, 33), (24, 33), (24, 33), (34, 38), (39, 42), (43, 48)], [(0, 4), (5, 11), (12, 19), (20, 24), (25, 27), (28, 34), (28, 34), (28, 34), (35, 38), (39, 45), (39, 45), (46, 52), (46, 52)], [(0, 4), (5, 7), (8, 11), (12, 14), (15, 18), (19, 25), (26, 30), (31, 38), (39, 45), (39, 45), (39, 45), (46, 51), (46, 51), (52, 55), (56, 60), (61, 67), (61, 67), (61, 67)], [(0, 4), (5, 7), (8, 9), (10, 15), (16, 20), (21, 22), (23, 28), (29, 34), (35, 43), (44, 46), (47, 49)]]\n",
    "    gold_spans = [[{'start': 17, 'end': 29, 'label': 'ACTOR'}], [{'start': 19, 'end': 33, 'label': 'ACTOR'}, {'start': 43, 'end': 48, 'label': 'YEAR'}], [{'start': 25, 'end': 34, 'label': 'ACTOR'}, {'start': 39, 'end': 52, 'label': 'ACTOR'}], [{'start': 39, 'end': 51, 'label': 'ACTOR'}, {'start': 56, 'end': 67, 'label': 'ACTOR'}], []]\n",
    "    ids = [0, 1, 2, 3, 4]\n",
    "\n",
    "    labels = ['[PAD]', '[CLS]', '[SEP]', 'O', 'B-ACTOR', 'I-ACTOR', 'B-YEAR', 'B-TITLE', 'B-GENRE', 'I-GENRE', 'B-DIRECTOR', 'I-DIRECTOR', 'B-SONG', 'I-SONG', 'B-PLOT', 'I-PLOT', 'B-REVIEW', 'B-CHARACTER', 'I-CHARACTER', 'B-RATING', 'B-RATINGS_AVERAGE', 'I-RATINGS_AVERAGE', 'I-TITLE', 'I-RATING', 'B-TRAILER', 'I-TRAILER', 'I-REVIEW', 'I-YEAR']\n",
    "    dq.set_labels_for_run(labels)\n",
    "    dq.set_tagging_schema(\"BIO\")\n",
    "    dq.log_data_samples(texts=text_inputs, text_token_indices=tokens, ids=ids, gold_spans=gold_spans, split=\"training\")\n",
    "    dq.log_data_samples(texts=text_inputs, text_token_indices=tokens, ids=ids, gold_spans=gold_spans, split=\"validation\")\n",
    "    dq.log_data_samples(texts=text_inputs, text_token_indices=tokens, ids=ids, gold_spans=gold_spans, split=\"test\")\n",
    "\n",
    "def log_outputs():\n",
    "    num_classes = 28\n",
    "    embs = [np.random.rand(119, 768) for _ in range(5)]\n",
    "    logits= [np.random.rand(119, 28) for _ in range(5)]                                      \n",
    "    ids= list(range(5))\n",
    "    for epoch in tqdm(range(6)):\n",
    "        for split in [\"training\", \"test\", \"validation\"]:\n",
    "            dq.log_model_outputs(\n",
    "                embs=embs, logits=logits, ids=ids, split=split, epoch=epoch\n",
    "            )\n",
    "    \n",
    "def finish():\n",
    "    dq.finish()\n",
    "    \n",
    "    \n",
    "def runit():\n",
    "    log_inputs()\n",
    "    log_outputs()\n",
    "    finish()\n",
    "    \n",
    "runit()\n",
    "df_train, df_test, df_val = see_results()"
   ]
  }
 ],
 "metadata": {
  "kernelspec": {
   "display_name": "Python 3 (ipykernel)",
   "language": "python",
   "name": "python3"
  },
  "language_info": {
   "codemirror_mode": {
    "name": "ipython",
    "version": 3
   },
   "file_extension": ".py",
   "mimetype": "text/x-python",
   "name": "python",
   "nbconvert_exporter": "python",
   "pygments_lexer": "ipython3",
   "version": "3.9.6"
  }
 },
 "nbformat": 4,
 "nbformat_minor": 5
}
