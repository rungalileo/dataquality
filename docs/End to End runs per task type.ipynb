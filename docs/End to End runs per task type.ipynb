{
 "cells": [
  {
   "cell_type": "markdown",
   "id": "579f0cbf",
   "metadata": {},
   "source": [
    "## End to end examples logging data to Galileo for Text Classification, MLTC, and NER"
   ]
  },
  {
   "cell_type": "markdown",
   "id": "27921069",
   "metadata": {},
   "source": [
    "### For understanding the client and how to get started, see the [Dataquality Demo](./Dataquality-Client-Demo.ipynb)\n",
    "### Check out the full documentation [here](https://rungalileo.gitbook.io/galileo/getting-started)\n",
    "### To see real end-to-end notebooks training real ML models, see [here](https://drive.google.com/drive/folders/17-cHuRzXIpWaD8rYwy69RMQr__HiAiDk?usp=sharing)"
   ]
  },
  {
   "cell_type": "code",
   "execution_count": 1,
   "id": "df9b0c5a",
   "metadata": {},
   "outputs": [],
   "source": [
    "## Local\n",
    "\n",
    "import os\n",
    "\n",
    "os.environ['GALILEO_CONSOLE_URL']=\"http://localhost:8088\"\n",
    "os.environ[\"GALILEO_USERNAME\"]=\"user@example.com\"\n",
    "os.environ[\"GALILEO_PASSWORD\"]=\"Th3secret_\""
   ]
  },
  {
   "cell_type": "code",
   "execution_count": 2,
   "id": "cfe0711c",
   "metadata": {
    "scrolled": true
   },
   "outputs": [
    {
     "name": "stdout",
     "output_type": "stream",
     "text": [
      "📡 http://localhost:8088\n",
      "🔭 Logging you into Galileo\n",
      "\n",
      "🚀 You're logged in to Galileo as user@example.com!\n"
     ]
    }
   ],
   "source": [
    "import dataquality as dq\n",
    "dq.configure()"
   ]
  },
  {
   "cell_type": "code",
   "execution_count": 3,
   "id": "9bb4b87d-e97a-4325-aa1e-43390e98614a",
   "metadata": {},
   "outputs": [
    {
     "name": "stdout",
     "output_type": "stream",
     "text": [
      "📡 Retrieving run from existing project, Important Project\n",
      "🛰 Connected to project, Important Project, and run, My Report Run.\n"
     ]
    },
    {
     "name": "stderr",
     "output_type": "stream",
     "text": [
      "/Users/elliottchartock/Code/dataquality/.venv/lib/python3.9/site-packages/dataquality/core/init.py:177: UserWarning: Run: Important Project/My Report Run already exists! The existing run will get overwritten on call to finish()!\n",
      "  warnings.warn(\n"
     ]
    }
   ],
   "source": [
    "from dataquality import Condition, AggregateFunction, Operator\n",
    "\n",
    "dq.init(\"text_classification\", \"Important Project\", \"My Report Run\")\n",
    "\n",
    "conf_cond = Condition(\n",
    "    agg=AggregateFunction.avg,\n",
    "    metric=\"confidence\",\n",
    "    operator=Operator.lt,\n",
    "    threshold=0.99,\n",
    ")\n",
    "dep_cond = Condition(\n",
    "    agg=AggregateFunction.min,\n",
    "    metric=\"data_error_potential\",\n",
    "    operator=Operator.gt,\n",
    "    threshold=0.65,\n",
    ")\n",
    "dq.register_run_report(conditions=[conf_cond, dep_cond], emails=[\"echartock3@gmail.com\", \"elliott@rungalileo.io\"])"
   ]
  },
  {
   "cell_type": "markdown",
   "id": "098fd219",
   "metadata": {},
   "source": [
    "## Text Classification"
   ]
  },
  {
   "cell_type": "code",
   "execution_count": 4,
   "id": "13574b3e",
   "metadata": {
    "scrolled": true
   },
   "outputs": [
    {
     "name": "stdout",
     "output_type": "stream",
     "text": [
      "Logging input data\n",
      "Logging 200 samples [########################################] 100.00% elapsed time  :     0.00s =  0.0m =  0.0h\n",
      "Logging 200 samples [########################################] 100.00% elapsed time  :     0.00s =  0.0m =  0.0h\n",
      " Done\n",
      "Input logging took 0.3646738529205322 seconds\n",
      "\n",
      "\n",
      "Logging model outputs\n",
      "Epoch 0\n",
      "----------------------------------------------------------------------------------------------------\n",
      "Training\n"
     ]
    },
    {
     "data": {
      "application/json": {
       "ascii": false,
       "bar_format": null,
       "colour": null,
       "elapsed": 0.05193018913269043,
       "initial": 0,
       "n": 0,
       "ncols": null,
       "nrows": 27,
       "postfix": null,
       "prefix": "",
       "rate": null,
       "total": 13,
       "unit": "it",
       "unit_divisor": 1000,
       "unit_scale": false
      },
      "application/vnd.jupyter.widget-view+json": {
       "model_id": "f8692e86bfd74400a37b83f467c729d0",
       "version_major": 2,
       "version_minor": 0
      },
      "text/plain": [
       "  0%|          | 0/13 [00:00<?, ?it/s]"
      ]
     },
     "metadata": {},
     "output_type": "display_data"
    },
    {
     "name": "stdout",
     "output_type": "stream",
     "text": [
      "Test\n"
     ]
    },
    {
     "name": "stderr",
     "output_type": "stream",
     "text": [
      "/Users/elliottchartock/Code/dataquality/.venv/lib/python3.9/site-packages/dataquality/loggers/model_logger/text_classification.py:132: UserWarning: Usage of probs is deprecated, use logits instead\n",
      "  warnings.warn(\"Usage of probs is deprecated, use logits instead\")\n"
     ]
    },
    {
     "data": {
      "application/json": {
       "ascii": false,
       "bar_format": null,
       "colour": null,
       "elapsed": 0.020305156707763672,
       "initial": 0,
       "n": 0,
       "ncols": null,
       "nrows": 27,
       "postfix": null,
       "prefix": "",
       "rate": null,
       "total": 13,
       "unit": "it",
       "unit_divisor": 1000,
       "unit_scale": false
      },
      "application/vnd.jupyter.widget-view+json": {
       "model_id": "1d4a9749c6c74d74b85a9ddc3f520b12",
       "version_major": 2,
       "version_minor": 0
      },
      "text/plain": [
       "  0%|          | 0/13 [00:00<?, ?it/s]"
      ]
     },
     "metadata": {},
     "output_type": "display_data"
    },
    {
     "name": "stdout",
     "output_type": "stream",
     "text": [
      "----------------------------------------------------------------------------------------------------\n",
      "\n",
      "Done\n",
      "Logging output took 0.4015378952026367 seconds\n"
     ]
    }
   ],
   "source": [
    "from tqdm.notebook import tqdm\n",
    "import time\n",
    "import numpy as np\n",
    "from uuid import uuid4\n",
    "import pandas as pd\n",
    "from sklearn.datasets import fetch_20newsgroups\n",
    "\n",
    "\n",
    "BATCH_SIZE=16\n",
    "EMB_DIM=768\n",
    "NUM_EPOCHS=1\n",
    "\n",
    "\n",
    "newsgroups = fetch_20newsgroups(subset=\"train\", remove=('headers', 'footers', 'quotes'))\n",
    "dataset = pd.DataFrame()\n",
    "dataset[\"text\"] = newsgroups.data\n",
    "label_ind = newsgroups.target_names\n",
    "dataset[\"label\"] = [label_ind[i] for i in newsgroups.target]\n",
    "dataset[\"id\"] = list(range(len(dataset)))\n",
    "\n",
    "dataset = dataset[:200]\n",
    "\n",
    "\n",
    "def generate_random_embeddings(batch_size: int, emb_dims: int) -> np.ndarray:\n",
    "    return np.random.rand(batch_size, emb_dims)\n",
    "\n",
    "\n",
    "def generate_random_probabilities(batch_size: int, num_classes: int) -> np.ndarray:\n",
    "    probs = np.random.rand(batch_size, num_classes)\n",
    "    return probs / probs.sum(axis=-1).reshape(-1, 1)  # Normalize to sum to 1\n",
    "\n",
    "\n",
    "t_start = time.time()\n",
    "dq.set_labels_for_run(dataset[\"label\"].unique())\n",
    "\n",
    "print(\"Logging input data\")\n",
    "for split in [\"training\", \"test\"]:\n",
    "    dq.log_dataset(dataset, split=split)\n",
    "    \n",
    "print(\"Done\")\n",
    "print(f\"Input logging took {time.time() - t_start} seconds\\n\\n\")\n",
    "\n",
    "\n",
    "print(\"Logging model outputs\")\n",
    "t_start = time.time()\n",
    "num_classes = dataset[\"label\"].nunique()\n",
    "# Simulates model training loop\n",
    "for epoch_idx in range(NUM_EPOCHS):\n",
    "    print(f\"Epoch {epoch_idx}\")\n",
    "    print('-'*100)\n",
    "    for split in [\"training\", \"test\"]:\n",
    "        print(split.capitalize())\n",
    "        dq.set_split(split)\n",
    "        for i in tqdm(range(0, len(dataset), BATCH_SIZE)):\n",
    "            batch = dataset[i : i + BATCH_SIZE]\n",
    "            embeddings = generate_random_embeddings(len(batch), EMB_DIM)\n",
    "            probs = generate_random_probabilities(len(batch), num_classes)\n",
    "            dq.log_model_outputs(\n",
    "                embs=embeddings,\n",
    "                probs=probs,\n",
    "                epoch=epoch_idx,\n",
    "                ids=batch[\"id\"],\n",
    "            )\n",
    "    print('-'*100,end=\"\\n\\n\")\n",
    "            \n",
    "print(\"Done\")\n",
    "\n",
    "time_spent = time.time() - t_start\n",
    "print(f\"Logging output took {time_spent} seconds\")"
   ]
  },
  {
   "cell_type": "code",
   "execution_count": 5,
   "id": "578ad827-21fb-499e-8926-e6c3e4ba7f73",
   "metadata": {},
   "outputs": [
    {
     "name": "stdout",
     "output_type": "stream",
     "text": [
      "☁️ Uploading Data\n"
     ]
    },
    {
     "data": {
      "application/json": {
       "ascii": false,
       "bar_format": null,
       "colour": null,
       "elapsed": 0.02138805389404297,
       "initial": 0,
       "n": 0,
       "ncols": null,
       "nrows": 27,
       "postfix": null,
       "prefix": "training",
       "rate": null,
       "total": 1,
       "unit": "it",
       "unit_divisor": 1000,
       "unit_scale": false
      },
      "application/vnd.jupyter.widget-view+json": {
       "model_id": "8a3a4e776c3c4374801fb6e9b8186ea3",
       "version_major": 2,
       "version_minor": 0
      },
      "text/plain": [
       "training:   0%|          | 0/1 [00:00<?, ?it/s]"
      ]
     },
     "metadata": {},
     "output_type": "display_data"
    },
    {
     "data": {
      "application/json": {
       "ascii": false,
       "bar_format": null,
       "colour": null,
       "elapsed": 0.022814035415649414,
       "initial": 0,
       "n": 0,
       "ncols": null,
       "nrows": 27,
       "postfix": null,
       "prefix": "Processing data for upload",
       "rate": null,
       "total": 13,
       "unit": "it",
       "unit_divisor": 1000,
       "unit_scale": false
      },
      "application/vnd.jupyter.widget-view+json": {
       "model_id": "",
       "version_major": 2,
       "version_minor": 0
      },
      "text/plain": [
       "Processing data for upload:   0%|          | 0/13 [00:00<?, ?it/s]"
      ]
     },
     "metadata": {},
     "output_type": "display_data"
    },
    {
     "data": {
      "application/json": {
       "ascii": false,
       "bar_format": null,
       "colour": null,
       "elapsed": 0.017802953720092773,
       "initial": 0,
       "n": 0,
       "ncols": null,
       "nrows": 27,
       "postfix": null,
       "prefix": "training (epoch=0)",
       "rate": null,
       "total": 3,
       "unit": "it",
       "unit_divisor": 1000,
       "unit_scale": false
      },
      "application/vnd.jupyter.widget-view+json": {
       "model_id": "",
       "version_major": 2,
       "version_minor": 0
      },
      "text/plain": [
       "training (epoch=0):   0%|          | 0/3 [00:00<?, ?it/s]"
      ]
     },
     "metadata": {},
     "output_type": "display_data"
    },
    {
     "data": {
      "application/json": {
       "ascii": false,
       "bar_format": null,
       "colour": null,
       "elapsed": 0.019076824188232422,
       "initial": 0,
       "n": 0,
       "ncols": null,
       "nrows": 27,
       "postfix": null,
       "prefix": "Uploading data to Galileo",
       "rate": null,
       "total": 1241624,
       "unit": "B",
       "unit_divisor": 1024,
       "unit_scale": true
      },
      "application/vnd.jupyter.widget-view+json": {
       "model_id": "",
       "version_major": 2,
       "version_minor": 0
      },
      "text/plain": [
       "Uploading data to Galileo:   0%|          | 0.00/1.18M [00:00<?, ?B/s]"
      ]
     },
     "metadata": {},
     "output_type": "display_data"
    },
    {
     "data": {
      "application/json": {
       "ascii": false,
       "bar_format": null,
       "colour": null,
       "elapsed": 0.01719498634338379,
       "initial": 0,
       "n": 0,
       "ncols": null,
       "nrows": 27,
       "postfix": null,
       "prefix": "Uploading data to Galileo",
       "rate": null,
       "total": 50815,
       "unit": "B",
       "unit_divisor": 1024,
       "unit_scale": true
      },
      "application/vnd.jupyter.widget-view+json": {
       "model_id": "",
       "version_major": 2,
       "version_minor": 0
      },
      "text/plain": [
       "Uploading data to Galileo:   0%|          | 0.00/49.6k [00:00<?, ?B/s]"
      ]
     },
     "metadata": {},
     "output_type": "display_data"
    },
    {
     "data": {
      "application/json": {
       "ascii": false,
       "bar_format": null,
       "colour": null,
       "elapsed": 0.01704096794128418,
       "initial": 0,
       "n": 0,
       "ncols": null,
       "nrows": 27,
       "postfix": null,
       "prefix": "Uploading data to Galileo",
       "rate": null,
       "total": 293206,
       "unit": "B",
       "unit_divisor": 1024,
       "unit_scale": true
      },
      "application/vnd.jupyter.widget-view+json": {
       "model_id": "",
       "version_major": 2,
       "version_minor": 0
      },
      "text/plain": [
       "Uploading data to Galileo:   0%|          | 0.00/286k [00:00<?, ?B/s]"
      ]
     },
     "metadata": {},
     "output_type": "display_data"
    },
    {
     "data": {
      "application/json": {
       "ascii": false,
       "bar_format": null,
       "colour": null,
       "elapsed": 0.019495248794555664,
       "initial": 0,
       "n": 0,
       "ncols": null,
       "nrows": 27,
       "postfix": null,
       "prefix": "test",
       "rate": null,
       "total": 1,
       "unit": "it",
       "unit_divisor": 1000,
       "unit_scale": false
      },
      "application/vnd.jupyter.widget-view+json": {
       "model_id": "a36564c0c600498495a5413aeea943b1",
       "version_major": 2,
       "version_minor": 0
      },
      "text/plain": [
       "test:   0%|          | 0/1 [00:00<?, ?it/s]"
      ]
     },
     "metadata": {},
     "output_type": "display_data"
    },
    {
     "data": {
      "application/json": {
       "ascii": false,
       "bar_format": null,
       "colour": null,
       "elapsed": 0.017088890075683594,
       "initial": 0,
       "n": 0,
       "ncols": null,
       "nrows": 27,
       "postfix": null,
       "prefix": "Processing data for upload",
       "rate": null,
       "total": 13,
       "unit": "it",
       "unit_divisor": 1000,
       "unit_scale": false
      },
      "application/vnd.jupyter.widget-view+json": {
       "model_id": "",
       "version_major": 2,
       "version_minor": 0
      },
      "text/plain": [
       "Processing data for upload:   0%|          | 0/13 [00:00<?, ?it/s]"
      ]
     },
     "metadata": {},
     "output_type": "display_data"
    },
    {
     "data": {
      "application/json": {
       "ascii": false,
       "bar_format": null,
       "colour": null,
       "elapsed": 0.017225027084350586,
       "initial": 0,
       "n": 0,
       "ncols": null,
       "nrows": 27,
       "postfix": null,
       "prefix": "test (epoch=0)",
       "rate": null,
       "total": 3,
       "unit": "it",
       "unit_divisor": 1000,
       "unit_scale": false
      },
      "application/vnd.jupyter.widget-view+json": {
       "model_id": "",
       "version_major": 2,
       "version_minor": 0
      },
      "text/plain": [
       "test (epoch=0):   0%|          | 0/3 [00:00<?, ?it/s]"
      ]
     },
     "metadata": {},
     "output_type": "display_data"
    },
    {
     "data": {
      "application/json": {
       "ascii": false,
       "bar_format": null,
       "colour": null,
       "elapsed": 0.01702284812927246,
       "initial": 0,
       "n": 0,
       "ncols": null,
       "nrows": 27,
       "postfix": null,
       "prefix": "Uploading data to Galileo",
       "rate": null,
       "total": 1241624,
       "unit": "B",
       "unit_divisor": 1024,
       "unit_scale": true
      },
      "application/vnd.jupyter.widget-view+json": {
       "model_id": "",
       "version_major": 2,
       "version_minor": 0
      },
      "text/plain": [
       "Uploading data to Galileo:   0%|          | 0.00/1.18M [00:00<?, ?B/s]"
      ]
     },
     "metadata": {},
     "output_type": "display_data"
    },
    {
     "data": {
      "application/json": {
       "ascii": false,
       "bar_format": null,
       "colour": null,
       "elapsed": 0.017377138137817383,
       "initial": 0,
       "n": 0,
       "ncols": null,
       "nrows": 27,
       "postfix": null,
       "prefix": "Uploading data to Galileo",
       "rate": null,
       "total": 50815,
       "unit": "B",
       "unit_divisor": 1024,
       "unit_scale": true
      },
      "application/vnd.jupyter.widget-view+json": {
       "model_id": "",
       "version_major": 2,
       "version_minor": 0
      },
      "text/plain": [
       "Uploading data to Galileo:   0%|          | 0.00/49.6k [00:00<?, ?B/s]"
      ]
     },
     "metadata": {},
     "output_type": "display_data"
    },
    {
     "data": {
      "application/json": {
       "ascii": false,
       "bar_format": null,
       "colour": null,
       "elapsed": 0.020769834518432617,
       "initial": 0,
       "n": 0,
       "ncols": null,
       "nrows": 27,
       "postfix": null,
       "prefix": "Uploading data to Galileo",
       "rate": null,
       "total": 292410,
       "unit": "B",
       "unit_divisor": 1024,
       "unit_scale": true
      },
      "application/vnd.jupyter.widget-view+json": {
       "model_id": "",
       "version_major": 2,
       "version_minor": 0
      },
      "text/plain": [
       "Uploading data to Galileo:   0%|          | 0.00/286k [00:00<?, ?B/s]"
      ]
     },
     "metadata": {},
     "output_type": "display_data"
    },
    {
     "name": "stdout",
     "output_type": "stream",
     "text": [
      "Job default successfully submitted. Results will be available soon at http://127.0.0.1:3000/insights?projectId=017f82c1-0531-45d6-a569-2d4458a9b23f&runId=de94967e-f86f-40e3-aef6-85dd9d6bac67&split=training&metric=f1&depHigh=1&depLow=0&taskType=0\n",
      "Waiting for run to process before building run report... Don't close laptop or terminate shell.\n",
      "Waiting for job...\n",
      "Done! Job finished with status completed\n",
      "🧹 Cleaning up\n"
     ]
    },
    {
     "data": {
      "text/plain": [
       "{'project_id': '017f82c1-0531-45d6-a569-2d4458a9b23f',\n",
       " 'run_id': 'de94967e-f86f-40e3-aef6-85dd9d6bac67',\n",
       " 'job_name': 'default',\n",
       " 'labels': ['rec.autos',\n",
       "  'comp.sys.mac.hardware',\n",
       "  'comp.graphics',\n",
       "  'sci.space',\n",
       "  'talk.politics.guns',\n",
       "  'sci.med',\n",
       "  'comp.sys.ibm.pc.hardware',\n",
       "  'comp.os.ms-windows.misc',\n",
       "  'rec.motorcycles',\n",
       "  'talk.religion.misc',\n",
       "  'misc.forsale',\n",
       "  'alt.atheism',\n",
       "  'sci.electronics',\n",
       "  'comp.windows.x',\n",
       "  'rec.sport.hockey',\n",
       "  'rec.sport.baseball',\n",
       "  'soc.religion.christian',\n",
       "  'talk.politics.mideast',\n",
       "  'talk.politics.misc',\n",
       "  'sci.crypt'],\n",
       " 'task_type': 0,\n",
       " 'tasks': None,\n",
       " 'non_inference_logged': False,\n",
       " 'migration_name': None,\n",
       " 'xray': True,\n",
       " 'process_existing_inference_runs': False,\n",
       " 'message': 'Processing job!',\n",
       " 'link': 'http://127.0.0.1:3000/insights?projectId=017f82c1-0531-45d6-a569-2d4458a9b23f&runId=de94967e-f86f-40e3-aef6-85dd9d6bac67&split=training&metric=f1&depHigh=1&depLow=0&taskType=0'}"
      ]
     },
     "execution_count": 5,
     "metadata": {},
     "output_type": "execute_result"
    }
   ],
   "source": [
    "dq.finish()"
   ]
  },
  {
   "cell_type": "markdown",
   "id": "d4684dd5",
   "metadata": {},
   "source": [
    "## Multi Label"
   ]
  },
  {
   "cell_type": "code",
   "execution_count": null,
   "id": "06f17ab5",
   "metadata": {
    "scrolled": true
   },
   "outputs": [],
   "source": [
    "from typing import *\n",
    "from random import choice\n",
    "import numpy as np\n",
    "\n",
    "\n",
    "dq.init(\"text_multi_label\", \"test-mltc-run\")\n",
    "dq.set_labels_for_run([[\"not \"+_label, _label] for _label in ['toxic', 'severe_toxic', 'obscene', 'threat', 'insult','identity_hate']]) \n",
    "dq.set_tasks_for_run(['task_0', 'task_1', 'task_2', 'task_3', 'task_4', 'task_5'])\n",
    "\n",
    "n = 5000\n",
    "\n",
    "texts: List[str] = [f\"text sample {i}\" for i in range(n)]\n",
    "\n",
    "labels: List[str] = [\n",
    "    [choice(i) for i in dq.get_data_logger().logger_config.labels]\n",
    "    for _ in range(n)\n",
    "]\n",
    "\n",
    "ids = list(range(n))\n",
    "\n",
    "\n",
    "dq.log_data_samples(texts=texts, task_labels=labels, ids=ids, split=\"training\")\n",
    "dq.log_data_samples(texts=texts, task_labels=labels, ids=ids, split=\"test\")\n",
    "dq.log_data_samples(texts=texts, task_labels=labels, ids=ids, split=\"validation\")\n",
    "\n",
    "for split in [\"training\", \"test\", \"validation\"]:\n",
    "    for epoch in range(5):\n",
    "        emb=np.random.rand(n, 768)\n",
    "        logits=[[np.random.rand(2)] * 6] * n\n",
    "        ids=list(range(n))\n",
    "        \n",
    "        for i in range(0, n, 32):\n",
    "            dq.log_model_outputs(\n",
    "                embs=emb[i:i+5],\n",
    "                logits=logits[i:i+5],\n",
    "                ids=ids[i:i+5],\n",
    "                split=split,\n",
    "                epoch=epoch\n",
    "            )\n",
    "\n",
    "dq.finish()\n",
    "df_train, df_test, df_val = see_results()\n"
   ]
  },
  {
   "cell_type": "markdown",
   "id": "fe82cc51",
   "metadata": {},
   "source": [
    "## NER"
   ]
  },
  {
   "cell_type": "code",
   "execution_count": null,
   "id": "eb6ba254",
   "metadata": {},
   "outputs": [],
   "source": [
    "from dataquality.schemas.task_type import TaskType\n",
    "from dataquality import config \n",
    "from uuid import uuid4\n",
    "import numpy as np\n",
    "from time import sleep\n",
    "from tqdm.notebook import tqdm\n",
    "\n",
    "\n",
    "dq.init(\"text_ner\", \"test-ner-run\")\n",
    "\n",
    "\n",
    "def log_inputs():\n",
    "    text_inputs = ['what movies star bruce willis', 'show me films with drew barrymore from the 1980s', 'what movies starred both al pacino and robert deniro', 'find me all of the movies that starred harold ramis and bill murray', 'find me a movie with a quote about baseball in it']\n",
    "    tokens = [[(0, 4), (5, 11), (12, 16), (17, 22), (17, 22), (23, 29), (23, 29)], [(0, 4), (5, 7), (8, 13), (14, 18), (19, 23), (24, 33), (24, 33), (24, 33), (34, 38), (39, 42), (43, 48)], [(0, 4), (5, 11), (12, 19), (20, 24), (25, 27), (28, 34), (28, 34), (28, 34), (35, 38), (39, 45), (39, 45), (46, 52), (46, 52)], [(0, 4), (5, 7), (8, 11), (12, 14), (15, 18), (19, 25), (26, 30), (31, 38), (39, 45), (39, 45), (39, 45), (46, 51), (46, 51), (52, 55), (56, 60), (61, 67), (61, 67), (61, 67)], [(0, 4), (5, 7), (8, 9), (10, 15), (16, 20), (21, 22), (23, 28), (29, 34), (35, 43), (44, 46), (47, 49)]]\n",
    "    gold_spans = [[{'start': 17, 'end': 29, 'label': 'ACTOR'}], [{'start': 19, 'end': 33, 'label': 'ACTOR'}, {'start': 43, 'end': 48, 'label': 'YEAR'}], [{'start': 25, 'end': 34, 'label': 'ACTOR'}, {'start': 39, 'end': 52, 'label': 'ACTOR'}], [{'start': 39, 'end': 51, 'label': 'ACTOR'}, {'start': 56, 'end': 67, 'label': 'ACTOR'}], []]\n",
    "    ids = [0, 1, 2, 3, 4]\n",
    "\n",
    "    labels = ['[PAD]', '[CLS]', '[SEP]', 'O', 'B-ACTOR', 'I-ACTOR', 'B-YEAR', 'B-TITLE', 'B-GENRE', 'I-GENRE', 'B-DIRECTOR', 'I-DIRECTOR', 'B-SONG', 'I-SONG', 'B-PLOT', 'I-PLOT', 'B-REVIEW', 'B-CHARACTER', 'I-CHARACTER', 'B-RATING', 'B-RATINGS_AVERAGE', 'I-RATINGS_AVERAGE', 'I-TITLE', 'I-RATING', 'B-TRAILER', 'I-TRAILER', 'I-REVIEW', 'I-YEAR']\n",
    "    dq.set_labels_for_run(labels)\n",
    "    dq.set_tagging_schema(\"BIO\")\n",
    "    dq.log_data_samples(texts=text_inputs, text_token_indices=tokens, ids=ids, gold_spans=gold_spans, split=\"training\")\n",
    "    dq.log_data_samples(texts=text_inputs, text_token_indices=tokens, ids=ids, gold_spans=gold_spans, split=\"validation\")\n",
    "    dq.log_data_samples(texts=text_inputs, text_token_indices=tokens, ids=ids, gold_spans=gold_spans, split=\"test\")\n",
    "\n",
    "def log_outputs():\n",
    "    num_classes = 28\n",
    "    embs = [np.random.rand(119, 768) for _ in range(5)]\n",
    "    logits= [np.random.rand(119, 28) for _ in range(5)]                                      \n",
    "    ids= list(range(5))\n",
    "    for epoch in tqdm(range(6)):\n",
    "        for split in [\"training\", \"test\", \"validation\"]:\n",
    "            dq.log_model_outputs(\n",
    "                embs=embs, logits=logits, ids=ids, split=split, epoch=epoch\n",
    "            )\n",
    "    \n",
    "def finish():\n",
    "    dq.finish()\n",
    "    \n",
    "    \n",
    "def runit():\n",
    "    log_inputs()\n",
    "    log_outputs()\n",
    "    finish()\n",
    "    \n",
    "runit()\n",
    "df_train, df_test, df_val = see_results()"
   ]
  }
 ],
 "metadata": {
  "kernelspec": {
   "display_name": "Python 3 (ipykernel)",
   "language": "python",
   "name": "python3"
  },
  "language_info": {
   "codemirror_mode": {
    "name": "ipython",
    "version": 3
   },
   "file_extension": ".py",
   "mimetype": "text/x-python",
   "name": "python",
   "nbconvert_exporter": "python",
   "pygments_lexer": "ipython3",
   "version": "3.9.6"
  }
 },
 "nbformat": 4,
 "nbformat_minor": 5
}
