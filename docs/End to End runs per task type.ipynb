{
 "cells": [
  {
   "cell_type": "markdown",
   "id": "579f0cbf",
   "metadata": {},
   "source": [
    "## End to end examples logging data to Galileo for Text Classification, MLTC, and NER"
   ]
  },
  {
   "cell_type": "markdown",
   "id": "27921069",
   "metadata": {},
   "source": [
    "### For understanding the client and how to get started, see the [Dataquality Demo](./Dataquality-Client-Demo.ipynb)\n",
    "### Check out the full documentation [here](https://rungalileo.gitbook.io/galileo/getting-started)\n",
    "### To see real end-to-end notebooks training real ML models, see [here](https://drive.google.com/drive/folders/17-cHuRzXIpWaD8rYwy69RMQr__HiAiDk?usp=sharing)"
   ]
  },
  {
   "cell_type": "code",
   "execution_count": null,
   "id": "df9b0c5a",
   "metadata": {},
   "outputs": [],
   "source": [
    "## Local\n",
    "\n",
    "import os\n",
    "\n",
    "os.environ['GALILEO_CONSOLE_URL']=\"http://localhost:8088\"\n",
    "os.environ[\"GALILEO_USERNAME\"]=\"user@example.com\"\n",
    "os.environ[\"GALILEO_PASSWORD\"]=\"Th3secret_\""
   ]
  },
  {
   "cell_type": "code",
   "execution_count": 3,
   "id": "cfe0711c",
   "metadata": {
    "scrolled": true
   },
   "outputs": [
    {
     "name": "stdout",
     "output_type": "stream",
     "text": [
      "📡 http://console.dev.rungalileo.io\n",
      "🔭 Logging you into Galileo\n",
      "\n",
      "👀 Found auth method email set via env, skipping prompt.\n",
      "🚀 You're logged in to Galileo as galileo@rungalileo.io!\n"
     ]
    }
   ],
   "source": [
    "import dataquality as dq\n",
    "# dq.configure()\n",
    "dq.login()"
   ]
  },
  {
   "cell_type": "markdown",
   "id": "9b357b36",
   "metadata": {},
   "source": [
    "***Helper function***"
   ]
  },
  {
   "cell_type": "code",
   "execution_count": 4,
   "id": "4092c580",
   "metadata": {},
   "outputs": [],
   "source": [
    "from dataquality import config\n",
    "import pandas as pd\n",
    "from dataquality.clients.api import ApiClient\n",
    "from time import sleep\n",
    "\n",
    "\n",
    "api_client = ApiClient()\n",
    "\n",
    "\n",
    "def see_results(wait=True, body={}):\n",
    "    if wait:\n",
    "        print(\"Waiting for data to be processed\")\n",
    "        if \"localhost\" in config.api_url:\n",
    "            for i in tqdm(range(50)):\n",
    "                sleep(1)\n",
    "        else:\n",
    "            api_client.wait_for_run()\n",
    "\n",
    "    task_type = dq.config.task_type\n",
    "    proj = api_client.get_project(config.current_project_id)[\"name\"]\n",
    "    run = api_client.get_project_run(config.current_project_id, config.current_run_id)[\"name\"]\n",
    "    api_client.export_run(proj, run, \"training\", f\"{task_type}_training.csv\")\n",
    "    api_client.export_run(proj, run, \"test\", f\"{task_type}_test.csv\")\n",
    "    api_client.export_run(proj, run, \"validation\", f\"{task_type}_validation.csv\")\n",
    "    print(f\"Exported to {task_type}_training.csv, {task_type}_test.csv, and {task_type}_validation.csv\")\n",
    "    df_train = pd.read_csv(f\"{task_type}_training.csv\")\n",
    "    df_test = pd.read_csv(f\"{task_type}_test.csv\")\n",
    "    df_val = pd.read_csv(f\"{task_type}_validation.csv\")\n",
    "    print(\"Training\")\n",
    "    display(df_train)\n",
    "    print(\"\\nTest\")\n",
    "    display(df_test)\n",
    "    print(\"\\nValidation\")\n",
    "    display(df_val)\n",
    "    return df_train, df_test, df_val"
   ]
  },
  {
   "cell_type": "markdown",
   "id": "098fd219",
   "metadata": {},
   "source": [
    "## Text Classification"
   ]
  },
  {
   "cell_type": "code",
   "execution_count": 5,
   "id": "13574b3e",
   "metadata": {
    "scrolled": true
   },
   "outputs": [
    {
     "name": "stdout",
     "output_type": "stream",
     "text": [
      "📡 Retrieved project, test-tc-run, and starting a new run\n",
      "🏃‍♂️ Starting run competitive_turquoise_shrimp\n",
      "🛰 Connected to project, test-tc-run, and created run, competitive_turquoise_shrimp.\n",
      "Logging input data\n",
      "Exporting input data [########################################] 100.00% elapsed time  :     0.03s =  0.0m =  0.0h\n",
      "Appending input data [########################################] 100.00% elapsed time  :     0.04s =  0.0m =  0.0h\n",
      "Appending input data [########################################] 100.00% elapsed time  :     0.04s =  0.0m =  0.0h\n",
      " Done\n",
      "Input logging took 12.208525896072388 seconds\n",
      "\n",
      "\n",
      "Logging model outputs\n",
      "Epoch 0\n",
      "----------------------------------------------------------------------------------------------------\n",
      "Train\n"
     ]
    },
    {
     "data": {
      "application/vnd.jupyter.widget-view+json": {
       "model_id": "7fcb23759a0d473094995aa63079023c",
       "version_major": 2,
       "version_minor": 0
      },
      "text/plain": [
       "  0%|          | 0/1415 [00:00<?, ?it/s]"
      ]
     },
     "metadata": {},
     "output_type": "display_data"
    },
    {
     "name": "stderr",
     "output_type": "stream",
     "text": [
      "/Users/benepstein/Documents/GitHub/dataquality/.venv/lib/python3.9/site-packages/dataquality/loggers/model_logger/text_classification.py:117: UserWarning: Usage of probs is deprecated, use logits instead\n",
      "  warnings.warn(\"Usage of probs is deprecated, use logits instead\")\n"
     ]
    },
    {
     "name": "stdout",
     "output_type": "stream",
     "text": [
      "----------------------------------------------------------------------------------------------------\n",
      "\n",
      "Done\n",
      "Logging output took 7.984760046005249 seconds\n",
      "☁️ Uploading Data\n"
     ]
    },
    {
     "data": {
      "application/vnd.jupyter.widget-view+json": {
       "model_id": "5c7a2f23a7544574abe7183e8f4ce560",
       "version_major": 2,
       "version_minor": 0
      },
      "text/plain": [
       "training:   0%|          | 0/1 [00:00<?, ?it/s]"
      ]
     },
     "metadata": {},
     "output_type": "display_data"
    },
    {
     "data": {
      "application/vnd.jupyter.widget-view+json": {
       "model_id": "",
       "version_major": 2,
       "version_minor": 0
      },
      "text/plain": [
       "Combining batches for upload:   0%|          | 0/1415 [00:00<?, ?it/s]"
      ]
     },
     "metadata": {},
     "output_type": "display_data"
    },
    {
     "data": {
      "application/vnd.jupyter.widget-view+json": {
       "model_id": "",
       "version_major": 2,
       "version_minor": 0
      },
      "text/plain": [
       "training (epoch=0):   0%|          | 0/3 [00:00<?, ?it/s]"
      ]
     },
     "metadata": {},
     "output_type": "display_data"
    },
    {
     "name": "stdout",
     "output_type": "stream",
     "text": [
      "🧹 Cleaning up\n",
      "Job default successfully submitted. Results will be available soon at https://console.dev.rungalileo.io/insights?projectId=4a8a50d8-9a50-48c0-9c5b-d3f015b775d3&runId=044b3228-9416-4d07-af9a-d8213c8728b4&split=training&taskType=0&depHigh=1&depLow=0\n",
      "Waiting for data to be processed\n",
      "Waiting for job...\n",
      "Done! Job finished with status finished\n",
      "Your export has been written to text_classification_training.csv\n",
      "Your export has been written to text_classification_test.csv\n",
      "Your export has been written to text_classification_validation.csv\n",
      "Exported to text_classification_training.csv, text_classification_test.csv, and text_classification_validation.csv\n",
      "Training\n"
     ]
    },
    {
     "data": {
      "text/html": [
       "<div>\n",
       "<style scoped>\n",
       "    .dataframe tbody tr th:only-of-type {\n",
       "        vertical-align: middle;\n",
       "    }\n",
       "\n",
       "    .dataframe tbody tr th {\n",
       "        vertical-align: top;\n",
       "    }\n",
       "\n",
       "    .dataframe thead th {\n",
       "        text-align: right;\n",
       "    }\n",
       "</style>\n",
       "<table border=\"1\" class=\"dataframe\">\n",
       "  <thead>\n",
       "    <tr style=\"text-align: right;\">\n",
       "      <th></th>\n",
       "      <th>epoch</th>\n",
       "      <th>pred</th>\n",
       "      <th>text</th>\n",
       "      <th>split</th>\n",
       "      <th>data_schema_version</th>\n",
       "      <th>galileo_text_length</th>\n",
       "      <th>galileo_language_id</th>\n",
       "      <th>galileo_pii</th>\n",
       "      <th>confidence</th>\n",
       "      <th>data_error_potential</th>\n",
       "      <th>gold</th>\n",
       "      <th>id</th>\n",
       "    </tr>\n",
       "  </thead>\n",
       "  <tbody>\n",
       "    <tr>\n",
       "      <th>0</th>\n",
       "      <td>0</td>\n",
       "      <td>sci.crypt</td>\n",
       "      <td>I was wondering if anyone out there could enli...</td>\n",
       "      <td>training</td>\n",
       "      <td>1</td>\n",
       "      <td>475</td>\n",
       "      <td>en</td>\n",
       "      <td>None</td>\n",
       "      <td>0.117047</td>\n",
       "      <td>0.554383</td>\n",
       "      <td>rec.autos</td>\n",
       "      <td>0</td>\n",
       "    </tr>\n",
       "    <tr>\n",
       "      <th>1</th>\n",
       "      <td>0</td>\n",
       "      <td>comp.windows.x</td>\n",
       "      <td>A fair number of brave souls who upgraded thei...</td>\n",
       "      <td>training</td>\n",
       "      <td>1</td>\n",
       "      <td>530</td>\n",
       "      <td>en</td>\n",
       "      <td>None</td>\n",
       "      <td>0.084308</td>\n",
       "      <td>0.511718</td>\n",
       "      <td>comp.sys.mac.hardware</td>\n",
       "      <td>1</td>\n",
       "    </tr>\n",
       "    <tr>\n",
       "      <th>2</th>\n",
       "      <td>0</td>\n",
       "      <td>comp.sys.mac.hardware</td>\n",
       "      <td>well folks, my mac plus finally gave up the gh...</td>\n",
       "      <td>training</td>\n",
       "      <td>1</td>\n",
       "      <td>1659</td>\n",
       "      <td>en</td>\n",
       "      <td>email</td>\n",
       "      <td>0.093667</td>\n",
       "      <td>0.499922</td>\n",
       "      <td>comp.sys.mac.hardware</td>\n",
       "      <td>2</td>\n",
       "    </tr>\n",
       "    <tr>\n",
       "      <th>3</th>\n",
       "      <td>0</td>\n",
       "      <td>comp.os.ms-windows.misc</td>\n",
       "      <td>\\nDo you have Weitek's address/phone number?  ...</td>\n",
       "      <td>training</td>\n",
       "      <td>1</td>\n",
       "      <td>95</td>\n",
       "      <td>en</td>\n",
       "      <td>None</td>\n",
       "      <td>0.087112</td>\n",
       "      <td>0.542990</td>\n",
       "      <td>comp.graphics</td>\n",
       "      <td>3</td>\n",
       "    </tr>\n",
       "    <tr>\n",
       "      <th>4</th>\n",
       "      <td>0</td>\n",
       "      <td>soc.religion.christian</td>\n",
       "      <td>From article &lt;C5owCB.n3p@world.std.com&gt;, by to...</td>\n",
       "      <td>training</td>\n",
       "      <td>1</td>\n",
       "      <td>448</td>\n",
       "      <td>en</td>\n",
       "      <td>email</td>\n",
       "      <td>0.097053</td>\n",
       "      <td>0.503830</td>\n",
       "      <td>sci.space</td>\n",
       "      <td>4</td>\n",
       "    </tr>\n",
       "    <tr>\n",
       "      <th>...</th>\n",
       "      <td>...</td>\n",
       "      <td>...</td>\n",
       "      <td>...</td>\n",
       "      <td>...</td>\n",
       "      <td>...</td>\n",
       "      <td>...</td>\n",
       "      <td>...</td>\n",
       "      <td>...</td>\n",
       "      <td>...</td>\n",
       "      <td>...</td>\n",
       "      <td>...</td>\n",
       "      <td>...</td>\n",
       "    </tr>\n",
       "    <tr>\n",
       "      <th>11309</th>\n",
       "      <td>0</td>\n",
       "      <td>sci.electronics</td>\n",
       "      <td>DN&gt; From: nyeda@cnsvax.uwec.edu (David Nye)\\nD...</td>\n",
       "      <td>training</td>\n",
       "      <td>1</td>\n",
       "      <td>1782</td>\n",
       "      <td>en</td>\n",
       "      <td>email</td>\n",
       "      <td>0.101604</td>\n",
       "      <td>0.532813</td>\n",
       "      <td>sci.med</td>\n",
       "      <td>11309</td>\n",
       "    </tr>\n",
       "    <tr>\n",
       "      <th>11310</th>\n",
       "      <td>0</td>\n",
       "      <td>comp.sys.mac.hardware</td>\n",
       "      <td>I have a (very old) Mac 512k and a Mac Plus, b...</td>\n",
       "      <td>training</td>\n",
       "      <td>1</td>\n",
       "      <td>674</td>\n",
       "      <td>en</td>\n",
       "      <td>email</td>\n",
       "      <td>0.094729</td>\n",
       "      <td>0.499111</td>\n",
       "      <td>comp.sys.mac.hardware</td>\n",
       "      <td>11310</td>\n",
       "    </tr>\n",
       "    <tr>\n",
       "      <th>11311</th>\n",
       "      <td>0</td>\n",
       "      <td>comp.sys.mac.hardware</td>\n",
       "      <td>I just installed a DX2-66 CPU in a clone mothe...</td>\n",
       "      <td>training</td>\n",
       "      <td>1</td>\n",
       "      <td>581</td>\n",
       "      <td>en</td>\n",
       "      <td>None</td>\n",
       "      <td>0.094065</td>\n",
       "      <td>0.536087</td>\n",
       "      <td>comp.sys.ibm.pc.hardware</td>\n",
       "      <td>11311</td>\n",
       "    </tr>\n",
       "    <tr>\n",
       "      <th>11312</th>\n",
       "      <td>0</td>\n",
       "      <td>talk.politics.mideast</td>\n",
       "      <td>\\nWouldn't this require a hyper-sphere.  In 3-...</td>\n",
       "      <td>training</td>\n",
       "      <td>1</td>\n",
       "      <td>311</td>\n",
       "      <td>en</td>\n",
       "      <td>None</td>\n",
       "      <td>0.092663</td>\n",
       "      <td>0.526501</td>\n",
       "      <td>comp.graphics</td>\n",
       "      <td>11312</td>\n",
       "    </tr>\n",
       "    <tr>\n",
       "      <th>11313</th>\n",
       "      <td>0</td>\n",
       "      <td>rec.sport.hockey</td>\n",
       "      <td>Stolen from Pasadena between 4:30 and 6:30 pm ...</td>\n",
       "      <td>training</td>\n",
       "      <td>1</td>\n",
       "      <td>321</td>\n",
       "      <td>en</td>\n",
       "      <td>None</td>\n",
       "      <td>0.078698</td>\n",
       "      <td>0.518436</td>\n",
       "      <td>rec.motorcycles</td>\n",
       "      <td>11313</td>\n",
       "    </tr>\n",
       "  </tbody>\n",
       "</table>\n",
       "<p>11314 rows × 12 columns</p>\n",
       "</div>"
      ],
      "text/plain": [
       "       epoch                     pred  \\\n",
       "0          0                sci.crypt   \n",
       "1          0           comp.windows.x   \n",
       "2          0    comp.sys.mac.hardware   \n",
       "3          0  comp.os.ms-windows.misc   \n",
       "4          0   soc.religion.christian   \n",
       "...      ...                      ...   \n",
       "11309      0          sci.electronics   \n",
       "11310      0    comp.sys.mac.hardware   \n",
       "11311      0    comp.sys.mac.hardware   \n",
       "11312      0    talk.politics.mideast   \n",
       "11313      0         rec.sport.hockey   \n",
       "\n",
       "                                                    text     split  \\\n",
       "0      I was wondering if anyone out there could enli...  training   \n",
       "1      A fair number of brave souls who upgraded thei...  training   \n",
       "2      well folks, my mac plus finally gave up the gh...  training   \n",
       "3      \\nDo you have Weitek's address/phone number?  ...  training   \n",
       "4      From article <C5owCB.n3p@world.std.com>, by to...  training   \n",
       "...                                                  ...       ...   \n",
       "11309  DN> From: nyeda@cnsvax.uwec.edu (David Nye)\\nD...  training   \n",
       "11310  I have a (very old) Mac 512k and a Mac Plus, b...  training   \n",
       "11311  I just installed a DX2-66 CPU in a clone mothe...  training   \n",
       "11312  \\nWouldn't this require a hyper-sphere.  In 3-...  training   \n",
       "11313  Stolen from Pasadena between 4:30 and 6:30 pm ...  training   \n",
       "\n",
       "       data_schema_version  galileo_text_length galileo_language_id  \\\n",
       "0                        1                  475                  en   \n",
       "1                        1                  530                  en   \n",
       "2                        1                 1659                  en   \n",
       "3                        1                   95                  en   \n",
       "4                        1                  448                  en   \n",
       "...                    ...                  ...                 ...   \n",
       "11309                    1                 1782                  en   \n",
       "11310                    1                  674                  en   \n",
       "11311                    1                  581                  en   \n",
       "11312                    1                  311                  en   \n",
       "11313                    1                  321                  en   \n",
       "\n",
       "      galileo_pii  confidence  data_error_potential                      gold  \\\n",
       "0            None    0.117047              0.554383                 rec.autos   \n",
       "1            None    0.084308              0.511718     comp.sys.mac.hardware   \n",
       "2           email    0.093667              0.499922     comp.sys.mac.hardware   \n",
       "3            None    0.087112              0.542990             comp.graphics   \n",
       "4           email    0.097053              0.503830                 sci.space   \n",
       "...           ...         ...                   ...                       ...   \n",
       "11309       email    0.101604              0.532813                   sci.med   \n",
       "11310       email    0.094729              0.499111     comp.sys.mac.hardware   \n",
       "11311        None    0.094065              0.536087  comp.sys.ibm.pc.hardware   \n",
       "11312        None    0.092663              0.526501             comp.graphics   \n",
       "11313        None    0.078698              0.518436           rec.motorcycles   \n",
       "\n",
       "          id  \n",
       "0          0  \n",
       "1          1  \n",
       "2          2  \n",
       "3          3  \n",
       "4          4  \n",
       "...      ...  \n",
       "11309  11309  \n",
       "11310  11310  \n",
       "11311  11311  \n",
       "11312  11312  \n",
       "11313  11313  \n",
       "\n",
       "[11314 rows x 12 columns]"
      ]
     },
     "metadata": {},
     "output_type": "display_data"
    },
    {
     "name": "stdout",
     "output_type": "stream",
     "text": [
      "\n",
      "Test\n"
     ]
    },
    {
     "data": {
      "text/html": [
       "<div>\n",
       "<style scoped>\n",
       "    .dataframe tbody tr th:only-of-type {\n",
       "        vertical-align: middle;\n",
       "    }\n",
       "\n",
       "    .dataframe tbody tr th {\n",
       "        vertical-align: top;\n",
       "    }\n",
       "\n",
       "    .dataframe thead th {\n",
       "        text-align: right;\n",
       "    }\n",
       "</style>\n",
       "<table border=\"1\" class=\"dataframe\">\n",
       "  <thead>\n",
       "    <tr style=\"text-align: right;\">\n",
       "      <th></th>\n",
       "      <th>{\"detail\":\"No data in minio for object 4a8a50d8-9a50-48c0-9c5b-d3f015b775d3/044b3228-9416-4d07-af9a-d8213c8728b4/test/data/data.hdf5\"}</th>\n",
       "    </tr>\n",
       "  </thead>\n",
       "  <tbody>\n",
       "  </tbody>\n",
       "</table>\n",
       "</div>"
      ],
      "text/plain": [
       "Empty DataFrame\n",
       "Columns: [{\"detail\":\"No data in minio for object 4a8a50d8-9a50-48c0-9c5b-d3f015b775d3/044b3228-9416-4d07-af9a-d8213c8728b4/test/data/data.hdf5\"}]\n",
       "Index: []"
      ]
     },
     "metadata": {},
     "output_type": "display_data"
    },
    {
     "name": "stdout",
     "output_type": "stream",
     "text": [
      "\n",
      "Validation\n"
     ]
    },
    {
     "data": {
      "text/html": [
       "<div>\n",
       "<style scoped>\n",
       "    .dataframe tbody tr th:only-of-type {\n",
       "        vertical-align: middle;\n",
       "    }\n",
       "\n",
       "    .dataframe tbody tr th {\n",
       "        vertical-align: top;\n",
       "    }\n",
       "\n",
       "    .dataframe thead th {\n",
       "        text-align: right;\n",
       "    }\n",
       "</style>\n",
       "<table border=\"1\" class=\"dataframe\">\n",
       "  <thead>\n",
       "    <tr style=\"text-align: right;\">\n",
       "      <th></th>\n",
       "      <th>{\"detail\":\"No data in minio for object 4a8a50d8-9a50-48c0-9c5b-d3f015b775d3/044b3228-9416-4d07-af9a-d8213c8728b4/validation/data/data.hdf5\"}</th>\n",
       "    </tr>\n",
       "  </thead>\n",
       "  <tbody>\n",
       "  </tbody>\n",
       "</table>\n",
       "</div>"
      ],
      "text/plain": [
       "Empty DataFrame\n",
       "Columns: [{\"detail\":\"No data in minio for object 4a8a50d8-9a50-48c0-9c5b-d3f015b775d3/044b3228-9416-4d07-af9a-d8213c8728b4/validation/data/data.hdf5\"}]\n",
       "Index: []"
      ]
     },
     "metadata": {},
     "output_type": "display_data"
    }
   ],
   "source": [
    "from tqdm.notebook import tqdm\n",
    "import time\n",
    "import numpy as np\n",
    "from uuid import uuid4\n",
    "import pandas as pd\n",
    "from sklearn.datasets import fetch_20newsgroups\n",
    "\n",
    "\n",
    "dq.init(\"text_classification\", \"test-tc-run\")\n",
    "\n",
    "\n",
    "BATCH_SIZE=8\n",
    "EMB_DIM=768\n",
    "NUM_EPOCHS=1\n",
    "\n",
    "\n",
    "newsgroups = fetch_20newsgroups(subset=\"train\", remove=('headers', 'footers', 'quotes'))\n",
    "dataset = pd.DataFrame()\n",
    "dataset[\"text\"] = newsgroups.data\n",
    "label_ind = newsgroups.target_names\n",
    "dataset[\"label\"] = [label_ind[i] for i in newsgroups.target]\n",
    "dataset[\"id\"] = list(range(len(dataset)))\n",
    "\n",
    "\n",
    "def generate_random_embeddings(batch_size: int, emb_dims: int) -> np.ndarray:\n",
    "    return np.random.rand(batch_size, emb_dims)\n",
    "\n",
    "\n",
    "def generate_random_probabilities(batch_size: int, num_classes: int) -> np.ndarray:\n",
    "    probs = np.random.rand(batch_size, num_classes)\n",
    "    return probs / probs.sum(axis=-1).reshape(-1, 1)  # Normalize to sum to 1\n",
    "\n",
    "\n",
    "t_start = time.time()\n",
    "dq.set_labels_for_run(dataset[\"label\"].unique())\n",
    "\n",
    "print(\"Logging input data\")\n",
    "for split in [\"train\", \"test\", \"validation\"]:\n",
    "    dq.log_dataset(dataset, split=split)\n",
    "    \n",
    "print(\"Done\")\n",
    "print(f\"Input logging took {time.time() - t_start} seconds\\n\\n\")\n",
    "\n",
    "\n",
    "print(\"Logging model outputs\")\n",
    "t_start = time.time()\n",
    "num_classes = dataset[\"label\"].nunique()\n",
    "# Simulates model training loop\n",
    "for epoch_idx in range(NUM_EPOCHS):\n",
    "    print(f\"Epoch {epoch_idx}\")\n",
    "    print('-'*100)\n",
    "    for split in [\"train\"]:#, \"test\", \"validation\"]:\n",
    "        print(split.capitalize())\n",
    "        dq.set_split(split)\n",
    "        for i in tqdm(range(0, len(dataset), BATCH_SIZE)):\n",
    "            batch = dataset[i : i + BATCH_SIZE]\n",
    "            embeddings = generate_random_embeddings(len(batch), EMB_DIM)\n",
    "            probs = generate_random_probabilities(len(batch), num_classes)\n",
    "            dq.log_model_outputs(\n",
    "                embs=embeddings,\n",
    "                probs=probs,\n",
    "                epoch=epoch_idx,\n",
    "                ids=batch[\"id\"],\n",
    "            )\n",
    "    print('-'*100,end=\"\\n\\n\")\n",
    "            \n",
    "print(\"Done\")\n",
    "\n",
    "time_spent = time.time() - t_start\n",
    "print(f\"Logging output took {time_spent} seconds\")\n",
    "\n",
    "dq.finish()\n",
    "df_train, df_test, df_val = see_results()"
   ]
  },
  {
   "cell_type": "markdown",
   "id": "d4684dd5",
   "metadata": {},
   "source": [
    "## Multi Label"
   ]
  },
  {
   "cell_type": "code",
   "execution_count": 6,
   "id": "06f17ab5",
   "metadata": {
    "scrolled": true
   },
   "outputs": [
    {
     "name": "stdout",
     "output_type": "stream",
     "text": [
      "💭 Project test-mltc-run was not found.\n",
      "✨ Initializing public project test-mltc-run\n",
      "🏃‍♂️ Starting run selective_coral_cougar\n",
      "Exporting input data [########################################] 100.00% elapsed time  :     0.01s =  0.0m =  0.0h\n",
      "Appending input data [########################################] 100.00% elapsed time  :     0.01s =  0.0m =  0.0h\n",
      "Appending input data [########################################] 100.00% elapsed time  :     0.01s =  0.0m =  0.0h\n",
      " ☁️ Uploading Data\n"
     ]
    },
    {
     "data": {
      "application/vnd.jupyter.widget-view+json": {
       "model_id": "98d3916b5a0b49ea80ccce4b1dd12669",
       "version_major": 2,
       "version_minor": 0
      },
      "text/plain": [
       "training:   0%|          | 0/5 [00:00<?, ?it/s]"
      ]
     },
     "metadata": {},
     "output_type": "display_data"
    },
    {
     "data": {
      "application/vnd.jupyter.widget-view+json": {
       "model_id": "",
       "version_major": 2,
       "version_minor": 0
      },
      "text/plain": [
       "Combining batches for upload:   0%|          | 0/157 [00:00<?, ?it/s]"
      ]
     },
     "metadata": {},
     "output_type": "display_data"
    },
    {
     "data": {
      "application/vnd.jupyter.widget-view+json": {
       "model_id": "",
       "version_major": 2,
       "version_minor": 0
      },
      "text/plain": [
       "training (epoch=0):   0%|          | 0/3 [00:00<?, ?it/s]"
      ]
     },
     "metadata": {},
     "output_type": "display_data"
    },
    {
     "data": {
      "application/vnd.jupyter.widget-view+json": {
       "model_id": "",
       "version_major": 2,
       "version_minor": 0
      },
      "text/plain": [
       "Combining batches for upload:   0%|          | 0/157 [00:00<?, ?it/s]"
      ]
     },
     "metadata": {},
     "output_type": "display_data"
    },
    {
     "data": {
      "application/vnd.jupyter.widget-view+json": {
       "model_id": "",
       "version_major": 2,
       "version_minor": 0
      },
      "text/plain": [
       "training (epoch=1):   0%|          | 0/3 [00:00<?, ?it/s]"
      ]
     },
     "metadata": {},
     "output_type": "display_data"
    },
    {
     "data": {
      "application/vnd.jupyter.widget-view+json": {
       "model_id": "",
       "version_major": 2,
       "version_minor": 0
      },
      "text/plain": [
       "Combining batches for upload:   0%|          | 0/157 [00:00<?, ?it/s]"
      ]
     },
     "metadata": {},
     "output_type": "display_data"
    },
    {
     "data": {
      "application/vnd.jupyter.widget-view+json": {
       "model_id": "",
       "version_major": 2,
       "version_minor": 0
      },
      "text/plain": [
       "training (epoch=2):   0%|          | 0/3 [00:00<?, ?it/s]"
      ]
     },
     "metadata": {},
     "output_type": "display_data"
    },
    {
     "data": {
      "application/vnd.jupyter.widget-view+json": {
       "model_id": "",
       "version_major": 2,
       "version_minor": 0
      },
      "text/plain": [
       "Combining batches for upload:   0%|          | 0/157 [00:00<?, ?it/s]"
      ]
     },
     "metadata": {},
     "output_type": "display_data"
    },
    {
     "data": {
      "application/vnd.jupyter.widget-view+json": {
       "model_id": "",
       "version_major": 2,
       "version_minor": 0
      },
      "text/plain": [
       "training (epoch=3):   0%|          | 0/3 [00:00<?, ?it/s]"
      ]
     },
     "metadata": {},
     "output_type": "display_data"
    },
    {
     "data": {
      "application/vnd.jupyter.widget-view+json": {
       "model_id": "",
       "version_major": 2,
       "version_minor": 0
      },
      "text/plain": [
       "Combining batches for upload:   0%|          | 0/157 [00:00<?, ?it/s]"
      ]
     },
     "metadata": {},
     "output_type": "display_data"
    },
    {
     "data": {
      "application/vnd.jupyter.widget-view+json": {
       "model_id": "",
       "version_major": 2,
       "version_minor": 0
      },
      "text/plain": [
       "training (epoch=4):   0%|          | 0/3 [00:00<?, ?it/s]"
      ]
     },
     "metadata": {},
     "output_type": "display_data"
    },
    {
     "data": {
      "application/vnd.jupyter.widget-view+json": {
       "model_id": "77efbec581fb45e0b6240d3663f2facb",
       "version_major": 2,
       "version_minor": 0
      },
      "text/plain": [
       "validation:   0%|          | 0/5 [00:00<?, ?it/s]"
      ]
     },
     "metadata": {},
     "output_type": "display_data"
    },
    {
     "data": {
      "application/vnd.jupyter.widget-view+json": {
       "model_id": "",
       "version_major": 2,
       "version_minor": 0
      },
      "text/plain": [
       "Combining batches for upload:   0%|          | 0/157 [00:00<?, ?it/s]"
      ]
     },
     "metadata": {},
     "output_type": "display_data"
    },
    {
     "data": {
      "application/vnd.jupyter.widget-view+json": {
       "model_id": "",
       "version_major": 2,
       "version_minor": 0
      },
      "text/plain": [
       "validation (epoch=0):   0%|          | 0/3 [00:00<?, ?it/s]"
      ]
     },
     "metadata": {},
     "output_type": "display_data"
    },
    {
     "data": {
      "application/vnd.jupyter.widget-view+json": {
       "model_id": "",
       "version_major": 2,
       "version_minor": 0
      },
      "text/plain": [
       "Combining batches for upload:   0%|          | 0/157 [00:00<?, ?it/s]"
      ]
     },
     "metadata": {},
     "output_type": "display_data"
    },
    {
     "data": {
      "application/vnd.jupyter.widget-view+json": {
       "model_id": "",
       "version_major": 2,
       "version_minor": 0
      },
      "text/plain": [
       "validation (epoch=1):   0%|          | 0/3 [00:00<?, ?it/s]"
      ]
     },
     "metadata": {},
     "output_type": "display_data"
    },
    {
     "data": {
      "application/vnd.jupyter.widget-view+json": {
       "model_id": "",
       "version_major": 2,
       "version_minor": 0
      },
      "text/plain": [
       "Combining batches for upload:   0%|          | 0/157 [00:00<?, ?it/s]"
      ]
     },
     "metadata": {},
     "output_type": "display_data"
    },
    {
     "data": {
      "application/vnd.jupyter.widget-view+json": {
       "model_id": "",
       "version_major": 2,
       "version_minor": 0
      },
      "text/plain": [
       "validation (epoch=2):   0%|          | 0/3 [00:00<?, ?it/s]"
      ]
     },
     "metadata": {},
     "output_type": "display_data"
    },
    {
     "data": {
      "application/vnd.jupyter.widget-view+json": {
       "model_id": "",
       "version_major": 2,
       "version_minor": 0
      },
      "text/plain": [
       "Combining batches for upload:   0%|          | 0/157 [00:00<?, ?it/s]"
      ]
     },
     "metadata": {},
     "output_type": "display_data"
    },
    {
     "data": {
      "application/vnd.jupyter.widget-view+json": {
       "model_id": "",
       "version_major": 2,
       "version_minor": 0
      },
      "text/plain": [
       "validation (epoch=3):   0%|          | 0/3 [00:00<?, ?it/s]"
      ]
     },
     "metadata": {},
     "output_type": "display_data"
    },
    {
     "data": {
      "application/vnd.jupyter.widget-view+json": {
       "model_id": "",
       "version_major": 2,
       "version_minor": 0
      },
      "text/plain": [
       "Combining batches for upload:   0%|          | 0/157 [00:00<?, ?it/s]"
      ]
     },
     "metadata": {},
     "output_type": "display_data"
    },
    {
     "data": {
      "application/vnd.jupyter.widget-view+json": {
       "model_id": "",
       "version_major": 2,
       "version_minor": 0
      },
      "text/plain": [
       "validation (epoch=4):   0%|          | 0/3 [00:00<?, ?it/s]"
      ]
     },
     "metadata": {},
     "output_type": "display_data"
    },
    {
     "data": {
      "application/vnd.jupyter.widget-view+json": {
       "model_id": "ea740aab719a42fb882a5acbc044a3a2",
       "version_major": 2,
       "version_minor": 0
      },
      "text/plain": [
       "test:   0%|          | 0/5 [00:00<?, ?it/s]"
      ]
     },
     "metadata": {},
     "output_type": "display_data"
    },
    {
     "data": {
      "application/vnd.jupyter.widget-view+json": {
       "model_id": "",
       "version_major": 2,
       "version_minor": 0
      },
      "text/plain": [
       "Combining batches for upload:   0%|          | 0/157 [00:00<?, ?it/s]"
      ]
     },
     "metadata": {},
     "output_type": "display_data"
    },
    {
     "data": {
      "application/vnd.jupyter.widget-view+json": {
       "model_id": "",
       "version_major": 2,
       "version_minor": 0
      },
      "text/plain": [
       "test (epoch=0):   0%|          | 0/3 [00:00<?, ?it/s]"
      ]
     },
     "metadata": {},
     "output_type": "display_data"
    },
    {
     "data": {
      "application/vnd.jupyter.widget-view+json": {
       "model_id": "",
       "version_major": 2,
       "version_minor": 0
      },
      "text/plain": [
       "Combining batches for upload:   0%|          | 0/157 [00:00<?, ?it/s]"
      ]
     },
     "metadata": {},
     "output_type": "display_data"
    },
    {
     "data": {
      "application/vnd.jupyter.widget-view+json": {
       "model_id": "",
       "version_major": 2,
       "version_minor": 0
      },
      "text/plain": [
       "test (epoch=1):   0%|          | 0/3 [00:00<?, ?it/s]"
      ]
     },
     "metadata": {},
     "output_type": "display_data"
    },
    {
     "data": {
      "application/vnd.jupyter.widget-view+json": {
       "model_id": "",
       "version_major": 2,
       "version_minor": 0
      },
      "text/plain": [
       "Combining batches for upload:   0%|          | 0/157 [00:00<?, ?it/s]"
      ]
     },
     "metadata": {},
     "output_type": "display_data"
    },
    {
     "data": {
      "application/vnd.jupyter.widget-view+json": {
       "model_id": "",
       "version_major": 2,
       "version_minor": 0
      },
      "text/plain": [
       "test (epoch=2):   0%|          | 0/3 [00:00<?, ?it/s]"
      ]
     },
     "metadata": {},
     "output_type": "display_data"
    },
    {
     "data": {
      "application/vnd.jupyter.widget-view+json": {
       "model_id": "",
       "version_major": 2,
       "version_minor": 0
      },
      "text/plain": [
       "Combining batches for upload:   0%|          | 0/157 [00:00<?, ?it/s]"
      ]
     },
     "metadata": {},
     "output_type": "display_data"
    },
    {
     "data": {
      "application/vnd.jupyter.widget-view+json": {
       "model_id": "",
       "version_major": 2,
       "version_minor": 0
      },
      "text/plain": [
       "test (epoch=3):   0%|          | 0/3 [00:00<?, ?it/s]"
      ]
     },
     "metadata": {},
     "output_type": "display_data"
    },
    {
     "data": {
      "application/vnd.jupyter.widget-view+json": {
       "model_id": "",
       "version_major": 2,
       "version_minor": 0
      },
      "text/plain": [
       "Combining batches for upload:   0%|          | 0/157 [00:00<?, ?it/s]"
      ]
     },
     "metadata": {},
     "output_type": "display_data"
    },
    {
     "data": {
      "application/vnd.jupyter.widget-view+json": {
       "model_id": "",
       "version_major": 2,
       "version_minor": 0
      },
      "text/plain": [
       "test (epoch=4):   0%|          | 0/3 [00:00<?, ?it/s]"
      ]
     },
     "metadata": {},
     "output_type": "display_data"
    },
    {
     "name": "stdout",
     "output_type": "stream",
     "text": [
      "🧹 Cleaning up\n",
      "Job default successfully submitted. Results will be available soon at https://console.dev.rungalileo.io/insights?projectId=d172b38a-3170-4bfa-a88d-0f0cdeb613ef&runId=c45aa28d-0f8c-4628-ba46-1064529e9b0f&split=training&taskType=1&depHigh=1&depLow=0\n",
      "Waiting for data to be processed\n",
      "Waiting for job...\n",
      "Done! Job finished with status finished\n",
      "Your export has been written to text_multi_label_training.csv\n",
      "Your export has been written to text_multi_label_test.csv\n",
      "Your export has been written to text_multi_label_validation.csv\n",
      "Exported to text_multi_label_training.csv, text_multi_label_test.csv, and text_multi_label_validation.csv\n",
      "Training\n"
     ]
    },
    {
     "data": {
      "text/html": [
       "<div>\n",
       "<style scoped>\n",
       "    .dataframe tbody tr th:only-of-type {\n",
       "        vertical-align: middle;\n",
       "    }\n",
       "\n",
       "    .dataframe tbody tr th {\n",
       "        vertical-align: top;\n",
       "    }\n",
       "\n",
       "    .dataframe thead th {\n",
       "        text-align: right;\n",
       "    }\n",
       "</style>\n",
       "<table border=\"1\" class=\"dataframe\">\n",
       "  <thead>\n",
       "    <tr style=\"text-align: right;\">\n",
       "      <th></th>\n",
       "      <th>epoch</th>\n",
       "      <th>pred_task_0</th>\n",
       "      <th>pred_task_1</th>\n",
       "      <th>pred_task_2</th>\n",
       "      <th>pred_task_3</th>\n",
       "      <th>pred_task_4</th>\n",
       "      <th>pred_task_5</th>\n",
       "      <th>text</th>\n",
       "      <th>split</th>\n",
       "      <th>data_schema_version</th>\n",
       "      <th>...</th>\n",
       "      <th>gold_task_3</th>\n",
       "      <th>data_error_potential_task_4</th>\n",
       "      <th>gold_task_4</th>\n",
       "      <th>data_error_potential_task_5</th>\n",
       "      <th>gold_task_5</th>\n",
       "      <th>id</th>\n",
       "      <th>pred</th>\n",
       "      <th>gold</th>\n",
       "      <th>data_error_potential</th>\n",
       "      <th>confidence</th>\n",
       "    </tr>\n",
       "  </thead>\n",
       "  <tbody>\n",
       "    <tr>\n",
       "      <th>0</th>\n",
       "      <td>4</td>\n",
       "      <td>toxic</td>\n",
       "      <td>severe_toxic</td>\n",
       "      <td>obscene</td>\n",
       "      <td>threat</td>\n",
       "      <td>insult</td>\n",
       "      <td>identity_hate</td>\n",
       "      <td>text sample 0</td>\n",
       "      <td>training</td>\n",
       "      <td>1</td>\n",
       "      <td>...</td>\n",
       "      <td>threat</td>\n",
       "      <td>0.49348</td>\n",
       "      <td>not insult</td>\n",
       "      <td>0.49348</td>\n",
       "      <td>not identity_hate</td>\n",
       "      <td>0</td>\n",
       "      <td>1</td>\n",
       "      <td>1</td>\n",
       "      <td>0.50652</td>\n",
       "      <td>0.537259</td>\n",
       "    </tr>\n",
       "    <tr>\n",
       "      <th>1</th>\n",
       "      <td>4</td>\n",
       "      <td>toxic</td>\n",
       "      <td>severe_toxic</td>\n",
       "      <td>obscene</td>\n",
       "      <td>threat</td>\n",
       "      <td>insult</td>\n",
       "      <td>identity_hate</td>\n",
       "      <td>text sample 1</td>\n",
       "      <td>training</td>\n",
       "      <td>1</td>\n",
       "      <td>...</td>\n",
       "      <td>threat</td>\n",
       "      <td>0.50652</td>\n",
       "      <td>insult</td>\n",
       "      <td>0.50652</td>\n",
       "      <td>identity_hate</td>\n",
       "      <td>1</td>\n",
       "      <td>1</td>\n",
       "      <td>0</td>\n",
       "      <td>0.49348</td>\n",
       "      <td>0.537259</td>\n",
       "    </tr>\n",
       "    <tr>\n",
       "      <th>2</th>\n",
       "      <td>4</td>\n",
       "      <td>toxic</td>\n",
       "      <td>severe_toxic</td>\n",
       "      <td>obscene</td>\n",
       "      <td>threat</td>\n",
       "      <td>insult</td>\n",
       "      <td>identity_hate</td>\n",
       "      <td>text sample 2</td>\n",
       "      <td>training</td>\n",
       "      <td>1</td>\n",
       "      <td>...</td>\n",
       "      <td>threat</td>\n",
       "      <td>0.49348</td>\n",
       "      <td>not insult</td>\n",
       "      <td>0.49348</td>\n",
       "      <td>not identity_hate</td>\n",
       "      <td>2</td>\n",
       "      <td>1</td>\n",
       "      <td>0</td>\n",
       "      <td>0.49348</td>\n",
       "      <td>0.537259</td>\n",
       "    </tr>\n",
       "    <tr>\n",
       "      <th>3</th>\n",
       "      <td>4</td>\n",
       "      <td>toxic</td>\n",
       "      <td>severe_toxic</td>\n",
       "      <td>obscene</td>\n",
       "      <td>threat</td>\n",
       "      <td>insult</td>\n",
       "      <td>identity_hate</td>\n",
       "      <td>text sample 3</td>\n",
       "      <td>training</td>\n",
       "      <td>1</td>\n",
       "      <td>...</td>\n",
       "      <td>not threat</td>\n",
       "      <td>0.50652</td>\n",
       "      <td>insult</td>\n",
       "      <td>0.50652</td>\n",
       "      <td>identity_hate</td>\n",
       "      <td>3</td>\n",
       "      <td>1</td>\n",
       "      <td>0</td>\n",
       "      <td>0.49348</td>\n",
       "      <td>0.537259</td>\n",
       "    </tr>\n",
       "    <tr>\n",
       "      <th>4</th>\n",
       "      <td>4</td>\n",
       "      <td>toxic</td>\n",
       "      <td>severe_toxic</td>\n",
       "      <td>obscene</td>\n",
       "      <td>threat</td>\n",
       "      <td>insult</td>\n",
       "      <td>identity_hate</td>\n",
       "      <td>text sample 4</td>\n",
       "      <td>training</td>\n",
       "      <td>1</td>\n",
       "      <td>...</td>\n",
       "      <td>threat</td>\n",
       "      <td>0.49348</td>\n",
       "      <td>not insult</td>\n",
       "      <td>0.49348</td>\n",
       "      <td>not identity_hate</td>\n",
       "      <td>4</td>\n",
       "      <td>1</td>\n",
       "      <td>0</td>\n",
       "      <td>0.49348</td>\n",
       "      <td>0.537259</td>\n",
       "    </tr>\n",
       "    <tr>\n",
       "      <th>...</th>\n",
       "      <td>...</td>\n",
       "      <td>...</td>\n",
       "      <td>...</td>\n",
       "      <td>...</td>\n",
       "      <td>...</td>\n",
       "      <td>...</td>\n",
       "      <td>...</td>\n",
       "      <td>...</td>\n",
       "      <td>...</td>\n",
       "      <td>...</td>\n",
       "      <td>...</td>\n",
       "      <td>...</td>\n",
       "      <td>...</td>\n",
       "      <td>...</td>\n",
       "      <td>...</td>\n",
       "      <td>...</td>\n",
       "      <td>...</td>\n",
       "      <td>...</td>\n",
       "      <td>...</td>\n",
       "      <td>...</td>\n",
       "      <td>...</td>\n",
       "    </tr>\n",
       "    <tr>\n",
       "      <th>780</th>\n",
       "      <td>4</td>\n",
       "      <td>toxic</td>\n",
       "      <td>severe_toxic</td>\n",
       "      <td>obscene</td>\n",
       "      <td>threat</td>\n",
       "      <td>insult</td>\n",
       "      <td>identity_hate</td>\n",
       "      <td>text sample 4992</td>\n",
       "      <td>training</td>\n",
       "      <td>1</td>\n",
       "      <td>...</td>\n",
       "      <td>threat</td>\n",
       "      <td>0.50652</td>\n",
       "      <td>insult</td>\n",
       "      <td>0.49348</td>\n",
       "      <td>not identity_hate</td>\n",
       "      <td>4992</td>\n",
       "      <td>1</td>\n",
       "      <td>1</td>\n",
       "      <td>0.50652</td>\n",
       "      <td>0.537259</td>\n",
       "    </tr>\n",
       "    <tr>\n",
       "      <th>781</th>\n",
       "      <td>4</td>\n",
       "      <td>toxic</td>\n",
       "      <td>severe_toxic</td>\n",
       "      <td>obscene</td>\n",
       "      <td>threat</td>\n",
       "      <td>insult</td>\n",
       "      <td>identity_hate</td>\n",
       "      <td>text sample 4993</td>\n",
       "      <td>training</td>\n",
       "      <td>1</td>\n",
       "      <td>...</td>\n",
       "      <td>threat</td>\n",
       "      <td>0.50652</td>\n",
       "      <td>insult</td>\n",
       "      <td>0.49348</td>\n",
       "      <td>not identity_hate</td>\n",
       "      <td>4993</td>\n",
       "      <td>1</td>\n",
       "      <td>1</td>\n",
       "      <td>0.50652</td>\n",
       "      <td>0.537259</td>\n",
       "    </tr>\n",
       "    <tr>\n",
       "      <th>782</th>\n",
       "      <td>4</td>\n",
       "      <td>toxic</td>\n",
       "      <td>severe_toxic</td>\n",
       "      <td>obscene</td>\n",
       "      <td>threat</td>\n",
       "      <td>insult</td>\n",
       "      <td>identity_hate</td>\n",
       "      <td>text sample 4994</td>\n",
       "      <td>training</td>\n",
       "      <td>1</td>\n",
       "      <td>...</td>\n",
       "      <td>threat</td>\n",
       "      <td>0.50652</td>\n",
       "      <td>insult</td>\n",
       "      <td>0.50652</td>\n",
       "      <td>identity_hate</td>\n",
       "      <td>4994</td>\n",
       "      <td>1</td>\n",
       "      <td>1</td>\n",
       "      <td>0.50652</td>\n",
       "      <td>0.537259</td>\n",
       "    </tr>\n",
       "    <tr>\n",
       "      <th>783</th>\n",
       "      <td>4</td>\n",
       "      <td>toxic</td>\n",
       "      <td>severe_toxic</td>\n",
       "      <td>obscene</td>\n",
       "      <td>threat</td>\n",
       "      <td>insult</td>\n",
       "      <td>identity_hate</td>\n",
       "      <td>text sample 4995</td>\n",
       "      <td>training</td>\n",
       "      <td>1</td>\n",
       "      <td>...</td>\n",
       "      <td>threat</td>\n",
       "      <td>0.50652</td>\n",
       "      <td>insult</td>\n",
       "      <td>0.50652</td>\n",
       "      <td>identity_hate</td>\n",
       "      <td>4995</td>\n",
       "      <td>1</td>\n",
       "      <td>0</td>\n",
       "      <td>0.49348</td>\n",
       "      <td>0.537259</td>\n",
       "    </tr>\n",
       "    <tr>\n",
       "      <th>784</th>\n",
       "      <td>4</td>\n",
       "      <td>toxic</td>\n",
       "      <td>severe_toxic</td>\n",
       "      <td>obscene</td>\n",
       "      <td>threat</td>\n",
       "      <td>insult</td>\n",
       "      <td>identity_hate</td>\n",
       "      <td>text sample 4996</td>\n",
       "      <td>training</td>\n",
       "      <td>1</td>\n",
       "      <td>...</td>\n",
       "      <td>not threat</td>\n",
       "      <td>0.50652</td>\n",
       "      <td>insult</td>\n",
       "      <td>0.49348</td>\n",
       "      <td>not identity_hate</td>\n",
       "      <td>4996</td>\n",
       "      <td>1</td>\n",
       "      <td>1</td>\n",
       "      <td>0.50652</td>\n",
       "      <td>0.537259</td>\n",
       "    </tr>\n",
       "  </tbody>\n",
       "</table>\n",
       "<p>785 rows × 36 columns</p>\n",
       "</div>"
      ],
      "text/plain": [
       "     epoch pred_task_0   pred_task_1 pred_task_2 pred_task_3 pred_task_4  \\\n",
       "0        4       toxic  severe_toxic     obscene      threat      insult   \n",
       "1        4       toxic  severe_toxic     obscene      threat      insult   \n",
       "2        4       toxic  severe_toxic     obscene      threat      insult   \n",
       "3        4       toxic  severe_toxic     obscene      threat      insult   \n",
       "4        4       toxic  severe_toxic     obscene      threat      insult   \n",
       "..     ...         ...           ...         ...         ...         ...   \n",
       "780      4       toxic  severe_toxic     obscene      threat      insult   \n",
       "781      4       toxic  severe_toxic     obscene      threat      insult   \n",
       "782      4       toxic  severe_toxic     obscene      threat      insult   \n",
       "783      4       toxic  severe_toxic     obscene      threat      insult   \n",
       "784      4       toxic  severe_toxic     obscene      threat      insult   \n",
       "\n",
       "       pred_task_5              text     split  data_schema_version  ...  \\\n",
       "0    identity_hate     text sample 0  training                    1  ...   \n",
       "1    identity_hate     text sample 1  training                    1  ...   \n",
       "2    identity_hate     text sample 2  training                    1  ...   \n",
       "3    identity_hate     text sample 3  training                    1  ...   \n",
       "4    identity_hate     text sample 4  training                    1  ...   \n",
       "..             ...               ...       ...                  ...  ...   \n",
       "780  identity_hate  text sample 4992  training                    1  ...   \n",
       "781  identity_hate  text sample 4993  training                    1  ...   \n",
       "782  identity_hate  text sample 4994  training                    1  ...   \n",
       "783  identity_hate  text sample 4995  training                    1  ...   \n",
       "784  identity_hate  text sample 4996  training                    1  ...   \n",
       "\n",
       "     gold_task_3 data_error_potential_task_4 gold_task_4  \\\n",
       "0         threat                     0.49348  not insult   \n",
       "1         threat                     0.50652      insult   \n",
       "2         threat                     0.49348  not insult   \n",
       "3     not threat                     0.50652      insult   \n",
       "4         threat                     0.49348  not insult   \n",
       "..           ...                         ...         ...   \n",
       "780       threat                     0.50652      insult   \n",
       "781       threat                     0.50652      insult   \n",
       "782       threat                     0.50652      insult   \n",
       "783       threat                     0.50652      insult   \n",
       "784   not threat                     0.50652      insult   \n",
       "\n",
       "     data_error_potential_task_5        gold_task_5    id  pred  gold  \\\n",
       "0                        0.49348  not identity_hate     0     1     1   \n",
       "1                        0.50652      identity_hate     1     1     0   \n",
       "2                        0.49348  not identity_hate     2     1     0   \n",
       "3                        0.50652      identity_hate     3     1     0   \n",
       "4                        0.49348  not identity_hate     4     1     0   \n",
       "..                           ...                ...   ...   ...   ...   \n",
       "780                      0.49348  not identity_hate  4992     1     1   \n",
       "781                      0.49348  not identity_hate  4993     1     1   \n",
       "782                      0.50652      identity_hate  4994     1     1   \n",
       "783                      0.50652      identity_hate  4995     1     0   \n",
       "784                      0.49348  not identity_hate  4996     1     1   \n",
       "\n",
       "     data_error_potential  confidence  \n",
       "0                 0.50652    0.537259  \n",
       "1                 0.49348    0.537259  \n",
       "2                 0.49348    0.537259  \n",
       "3                 0.49348    0.537259  \n",
       "4                 0.49348    0.537259  \n",
       "..                    ...         ...  \n",
       "780               0.50652    0.537259  \n",
       "781               0.50652    0.537259  \n",
       "782               0.50652    0.537259  \n",
       "783               0.49348    0.537259  \n",
       "784               0.50652    0.537259  \n",
       "\n",
       "[785 rows x 36 columns]"
      ]
     },
     "metadata": {},
     "output_type": "display_data"
    },
    {
     "name": "stdout",
     "output_type": "stream",
     "text": [
      "\n",
      "Test\n"
     ]
    },
    {
     "data": {
      "text/html": [
       "<div>\n",
       "<style scoped>\n",
       "    .dataframe tbody tr th:only-of-type {\n",
       "        vertical-align: middle;\n",
       "    }\n",
       "\n",
       "    .dataframe tbody tr th {\n",
       "        vertical-align: top;\n",
       "    }\n",
       "\n",
       "    .dataframe thead th {\n",
       "        text-align: right;\n",
       "    }\n",
       "</style>\n",
       "<table border=\"1\" class=\"dataframe\">\n",
       "  <thead>\n",
       "    <tr style=\"text-align: right;\">\n",
       "      <th></th>\n",
       "      <th>epoch</th>\n",
       "      <th>pred_task_0</th>\n",
       "      <th>pred_task_1</th>\n",
       "      <th>pred_task_2</th>\n",
       "      <th>pred_task_3</th>\n",
       "      <th>pred_task_4</th>\n",
       "      <th>pred_task_5</th>\n",
       "      <th>text</th>\n",
       "      <th>split</th>\n",
       "      <th>data_schema_version</th>\n",
       "      <th>...</th>\n",
       "      <th>gold_task_3</th>\n",
       "      <th>data_error_potential_task_4</th>\n",
       "      <th>gold_task_4</th>\n",
       "      <th>data_error_potential_task_5</th>\n",
       "      <th>gold_task_5</th>\n",
       "      <th>id</th>\n",
       "      <th>pred</th>\n",
       "      <th>gold</th>\n",
       "      <th>data_error_potential</th>\n",
       "      <th>confidence</th>\n",
       "    </tr>\n",
       "  </thead>\n",
       "  <tbody>\n",
       "    <tr>\n",
       "      <th>0</th>\n",
       "      <td>4</td>\n",
       "      <td>not toxic</td>\n",
       "      <td>not severe_toxic</td>\n",
       "      <td>not obscene</td>\n",
       "      <td>not threat</td>\n",
       "      <td>not insult</td>\n",
       "      <td>not identity_hate</td>\n",
       "      <td>text sample 0</td>\n",
       "      <td>test</td>\n",
       "      <td>1</td>\n",
       "      <td>...</td>\n",
       "      <td>threat</td>\n",
       "      <td>0.464641</td>\n",
       "      <td>not insult</td>\n",
       "      <td>0.464641</td>\n",
       "      <td>not identity_hate</td>\n",
       "      <td>0</td>\n",
       "      <td>0</td>\n",
       "      <td>1</td>\n",
       "      <td>0.535359</td>\n",
       "      <td>0.5446</td>\n",
       "    </tr>\n",
       "    <tr>\n",
       "      <th>1</th>\n",
       "      <td>4</td>\n",
       "      <td>not toxic</td>\n",
       "      <td>not severe_toxic</td>\n",
       "      <td>not obscene</td>\n",
       "      <td>not threat</td>\n",
       "      <td>not insult</td>\n",
       "      <td>not identity_hate</td>\n",
       "      <td>text sample 1</td>\n",
       "      <td>test</td>\n",
       "      <td>1</td>\n",
       "      <td>...</td>\n",
       "      <td>threat</td>\n",
       "      <td>0.535359</td>\n",
       "      <td>insult</td>\n",
       "      <td>0.535359</td>\n",
       "      <td>identity_hate</td>\n",
       "      <td>1</td>\n",
       "      <td>0</td>\n",
       "      <td>0</td>\n",
       "      <td>0.464641</td>\n",
       "      <td>0.5446</td>\n",
       "    </tr>\n",
       "    <tr>\n",
       "      <th>2</th>\n",
       "      <td>4</td>\n",
       "      <td>not toxic</td>\n",
       "      <td>not severe_toxic</td>\n",
       "      <td>not obscene</td>\n",
       "      <td>not threat</td>\n",
       "      <td>not insult</td>\n",
       "      <td>not identity_hate</td>\n",
       "      <td>text sample 2</td>\n",
       "      <td>test</td>\n",
       "      <td>1</td>\n",
       "      <td>...</td>\n",
       "      <td>threat</td>\n",
       "      <td>0.464641</td>\n",
       "      <td>not insult</td>\n",
       "      <td>0.464641</td>\n",
       "      <td>not identity_hate</td>\n",
       "      <td>2</td>\n",
       "      <td>0</td>\n",
       "      <td>0</td>\n",
       "      <td>0.464641</td>\n",
       "      <td>0.5446</td>\n",
       "    </tr>\n",
       "    <tr>\n",
       "      <th>3</th>\n",
       "      <td>4</td>\n",
       "      <td>not toxic</td>\n",
       "      <td>not severe_toxic</td>\n",
       "      <td>not obscene</td>\n",
       "      <td>not threat</td>\n",
       "      <td>not insult</td>\n",
       "      <td>not identity_hate</td>\n",
       "      <td>text sample 3</td>\n",
       "      <td>test</td>\n",
       "      <td>1</td>\n",
       "      <td>...</td>\n",
       "      <td>not threat</td>\n",
       "      <td>0.535359</td>\n",
       "      <td>insult</td>\n",
       "      <td>0.535359</td>\n",
       "      <td>identity_hate</td>\n",
       "      <td>3</td>\n",
       "      <td>0</td>\n",
       "      <td>0</td>\n",
       "      <td>0.464641</td>\n",
       "      <td>0.5446</td>\n",
       "    </tr>\n",
       "    <tr>\n",
       "      <th>4</th>\n",
       "      <td>4</td>\n",
       "      <td>not toxic</td>\n",
       "      <td>not severe_toxic</td>\n",
       "      <td>not obscene</td>\n",
       "      <td>not threat</td>\n",
       "      <td>not insult</td>\n",
       "      <td>not identity_hate</td>\n",
       "      <td>text sample 4</td>\n",
       "      <td>test</td>\n",
       "      <td>1</td>\n",
       "      <td>...</td>\n",
       "      <td>threat</td>\n",
       "      <td>0.464641</td>\n",
       "      <td>not insult</td>\n",
       "      <td>0.464641</td>\n",
       "      <td>not identity_hate</td>\n",
       "      <td>4</td>\n",
       "      <td>0</td>\n",
       "      <td>0</td>\n",
       "      <td>0.464641</td>\n",
       "      <td>0.5446</td>\n",
       "    </tr>\n",
       "    <tr>\n",
       "      <th>...</th>\n",
       "      <td>...</td>\n",
       "      <td>...</td>\n",
       "      <td>...</td>\n",
       "      <td>...</td>\n",
       "      <td>...</td>\n",
       "      <td>...</td>\n",
       "      <td>...</td>\n",
       "      <td>...</td>\n",
       "      <td>...</td>\n",
       "      <td>...</td>\n",
       "      <td>...</td>\n",
       "      <td>...</td>\n",
       "      <td>...</td>\n",
       "      <td>...</td>\n",
       "      <td>...</td>\n",
       "      <td>...</td>\n",
       "      <td>...</td>\n",
       "      <td>...</td>\n",
       "      <td>...</td>\n",
       "      <td>...</td>\n",
       "      <td>...</td>\n",
       "    </tr>\n",
       "    <tr>\n",
       "      <th>780</th>\n",
       "      <td>4</td>\n",
       "      <td>not toxic</td>\n",
       "      <td>not severe_toxic</td>\n",
       "      <td>not obscene</td>\n",
       "      <td>not threat</td>\n",
       "      <td>not insult</td>\n",
       "      <td>not identity_hate</td>\n",
       "      <td>text sample 4992</td>\n",
       "      <td>test</td>\n",
       "      <td>1</td>\n",
       "      <td>...</td>\n",
       "      <td>threat</td>\n",
       "      <td>0.535359</td>\n",
       "      <td>insult</td>\n",
       "      <td>0.464641</td>\n",
       "      <td>not identity_hate</td>\n",
       "      <td>4992</td>\n",
       "      <td>0</td>\n",
       "      <td>1</td>\n",
       "      <td>0.535359</td>\n",
       "      <td>0.5446</td>\n",
       "    </tr>\n",
       "    <tr>\n",
       "      <th>781</th>\n",
       "      <td>4</td>\n",
       "      <td>not toxic</td>\n",
       "      <td>not severe_toxic</td>\n",
       "      <td>not obscene</td>\n",
       "      <td>not threat</td>\n",
       "      <td>not insult</td>\n",
       "      <td>not identity_hate</td>\n",
       "      <td>text sample 4993</td>\n",
       "      <td>test</td>\n",
       "      <td>1</td>\n",
       "      <td>...</td>\n",
       "      <td>threat</td>\n",
       "      <td>0.535359</td>\n",
       "      <td>insult</td>\n",
       "      <td>0.464641</td>\n",
       "      <td>not identity_hate</td>\n",
       "      <td>4993</td>\n",
       "      <td>0</td>\n",
       "      <td>1</td>\n",
       "      <td>0.535359</td>\n",
       "      <td>0.5446</td>\n",
       "    </tr>\n",
       "    <tr>\n",
       "      <th>782</th>\n",
       "      <td>4</td>\n",
       "      <td>not toxic</td>\n",
       "      <td>not severe_toxic</td>\n",
       "      <td>not obscene</td>\n",
       "      <td>not threat</td>\n",
       "      <td>not insult</td>\n",
       "      <td>not identity_hate</td>\n",
       "      <td>text sample 4994</td>\n",
       "      <td>test</td>\n",
       "      <td>1</td>\n",
       "      <td>...</td>\n",
       "      <td>threat</td>\n",
       "      <td>0.535359</td>\n",
       "      <td>insult</td>\n",
       "      <td>0.535359</td>\n",
       "      <td>identity_hate</td>\n",
       "      <td>4994</td>\n",
       "      <td>0</td>\n",
       "      <td>1</td>\n",
       "      <td>0.535359</td>\n",
       "      <td>0.5446</td>\n",
       "    </tr>\n",
       "    <tr>\n",
       "      <th>783</th>\n",
       "      <td>4</td>\n",
       "      <td>not toxic</td>\n",
       "      <td>not severe_toxic</td>\n",
       "      <td>not obscene</td>\n",
       "      <td>not threat</td>\n",
       "      <td>not insult</td>\n",
       "      <td>not identity_hate</td>\n",
       "      <td>text sample 4995</td>\n",
       "      <td>test</td>\n",
       "      <td>1</td>\n",
       "      <td>...</td>\n",
       "      <td>threat</td>\n",
       "      <td>0.535359</td>\n",
       "      <td>insult</td>\n",
       "      <td>0.535359</td>\n",
       "      <td>identity_hate</td>\n",
       "      <td>4995</td>\n",
       "      <td>0</td>\n",
       "      <td>0</td>\n",
       "      <td>0.464641</td>\n",
       "      <td>0.5446</td>\n",
       "    </tr>\n",
       "    <tr>\n",
       "      <th>784</th>\n",
       "      <td>4</td>\n",
       "      <td>not toxic</td>\n",
       "      <td>not severe_toxic</td>\n",
       "      <td>not obscene</td>\n",
       "      <td>not threat</td>\n",
       "      <td>not insult</td>\n",
       "      <td>not identity_hate</td>\n",
       "      <td>text sample 4996</td>\n",
       "      <td>test</td>\n",
       "      <td>1</td>\n",
       "      <td>...</td>\n",
       "      <td>not threat</td>\n",
       "      <td>0.535359</td>\n",
       "      <td>insult</td>\n",
       "      <td>0.464641</td>\n",
       "      <td>not identity_hate</td>\n",
       "      <td>4996</td>\n",
       "      <td>0</td>\n",
       "      <td>1</td>\n",
       "      <td>0.535359</td>\n",
       "      <td>0.5446</td>\n",
       "    </tr>\n",
       "  </tbody>\n",
       "</table>\n",
       "<p>785 rows × 36 columns</p>\n",
       "</div>"
      ],
      "text/plain": [
       "     epoch pred_task_0       pred_task_1  pred_task_2 pred_task_3 pred_task_4  \\\n",
       "0        4   not toxic  not severe_toxic  not obscene  not threat  not insult   \n",
       "1        4   not toxic  not severe_toxic  not obscene  not threat  not insult   \n",
       "2        4   not toxic  not severe_toxic  not obscene  not threat  not insult   \n",
       "3        4   not toxic  not severe_toxic  not obscene  not threat  not insult   \n",
       "4        4   not toxic  not severe_toxic  not obscene  not threat  not insult   \n",
       "..     ...         ...               ...          ...         ...         ...   \n",
       "780      4   not toxic  not severe_toxic  not obscene  not threat  not insult   \n",
       "781      4   not toxic  not severe_toxic  not obscene  not threat  not insult   \n",
       "782      4   not toxic  not severe_toxic  not obscene  not threat  not insult   \n",
       "783      4   not toxic  not severe_toxic  not obscene  not threat  not insult   \n",
       "784      4   not toxic  not severe_toxic  not obscene  not threat  not insult   \n",
       "\n",
       "           pred_task_5              text split  data_schema_version  ...  \\\n",
       "0    not identity_hate     text sample 0  test                    1  ...   \n",
       "1    not identity_hate     text sample 1  test                    1  ...   \n",
       "2    not identity_hate     text sample 2  test                    1  ...   \n",
       "3    not identity_hate     text sample 3  test                    1  ...   \n",
       "4    not identity_hate     text sample 4  test                    1  ...   \n",
       "..                 ...               ...   ...                  ...  ...   \n",
       "780  not identity_hate  text sample 4992  test                    1  ...   \n",
       "781  not identity_hate  text sample 4993  test                    1  ...   \n",
       "782  not identity_hate  text sample 4994  test                    1  ...   \n",
       "783  not identity_hate  text sample 4995  test                    1  ...   \n",
       "784  not identity_hate  text sample 4996  test                    1  ...   \n",
       "\n",
       "     gold_task_3 data_error_potential_task_4 gold_task_4  \\\n",
       "0         threat                    0.464641  not insult   \n",
       "1         threat                    0.535359      insult   \n",
       "2         threat                    0.464641  not insult   \n",
       "3     not threat                    0.535359      insult   \n",
       "4         threat                    0.464641  not insult   \n",
       "..           ...                         ...         ...   \n",
       "780       threat                    0.535359      insult   \n",
       "781       threat                    0.535359      insult   \n",
       "782       threat                    0.535359      insult   \n",
       "783       threat                    0.535359      insult   \n",
       "784   not threat                    0.535359      insult   \n",
       "\n",
       "     data_error_potential_task_5        gold_task_5    id  pred  gold  \\\n",
       "0                       0.464641  not identity_hate     0     0     1   \n",
       "1                       0.535359      identity_hate     1     0     0   \n",
       "2                       0.464641  not identity_hate     2     0     0   \n",
       "3                       0.535359      identity_hate     3     0     0   \n",
       "4                       0.464641  not identity_hate     4     0     0   \n",
       "..                           ...                ...   ...   ...   ...   \n",
       "780                     0.464641  not identity_hate  4992     0     1   \n",
       "781                     0.464641  not identity_hate  4993     0     1   \n",
       "782                     0.535359      identity_hate  4994     0     1   \n",
       "783                     0.535359      identity_hate  4995     0     0   \n",
       "784                     0.464641  not identity_hate  4996     0     1   \n",
       "\n",
       "     data_error_potential  confidence  \n",
       "0                0.535359      0.5446  \n",
       "1                0.464641      0.5446  \n",
       "2                0.464641      0.5446  \n",
       "3                0.464641      0.5446  \n",
       "4                0.464641      0.5446  \n",
       "..                    ...         ...  \n",
       "780              0.535359      0.5446  \n",
       "781              0.535359      0.5446  \n",
       "782              0.535359      0.5446  \n",
       "783              0.464641      0.5446  \n",
       "784              0.535359      0.5446  \n",
       "\n",
       "[785 rows x 36 columns]"
      ]
     },
     "metadata": {},
     "output_type": "display_data"
    },
    {
     "name": "stdout",
     "output_type": "stream",
     "text": [
      "\n",
      "Validation\n"
     ]
    },
    {
     "data": {
      "text/html": [
       "<div>\n",
       "<style scoped>\n",
       "    .dataframe tbody tr th:only-of-type {\n",
       "        vertical-align: middle;\n",
       "    }\n",
       "\n",
       "    .dataframe tbody tr th {\n",
       "        vertical-align: top;\n",
       "    }\n",
       "\n",
       "    .dataframe thead th {\n",
       "        text-align: right;\n",
       "    }\n",
       "</style>\n",
       "<table border=\"1\" class=\"dataframe\">\n",
       "  <thead>\n",
       "    <tr style=\"text-align: right;\">\n",
       "      <th></th>\n",
       "      <th>epoch</th>\n",
       "      <th>pred_task_0</th>\n",
       "      <th>pred_task_1</th>\n",
       "      <th>pred_task_2</th>\n",
       "      <th>pred_task_3</th>\n",
       "      <th>pred_task_4</th>\n",
       "      <th>pred_task_5</th>\n",
       "      <th>text</th>\n",
       "      <th>split</th>\n",
       "      <th>data_schema_version</th>\n",
       "      <th>...</th>\n",
       "      <th>gold_task_3</th>\n",
       "      <th>data_error_potential_task_4</th>\n",
       "      <th>gold_task_4</th>\n",
       "      <th>data_error_potential_task_5</th>\n",
       "      <th>gold_task_5</th>\n",
       "      <th>id</th>\n",
       "      <th>pred</th>\n",
       "      <th>gold</th>\n",
       "      <th>data_error_potential</th>\n",
       "      <th>confidence</th>\n",
       "    </tr>\n",
       "  </thead>\n",
       "  <tbody>\n",
       "    <tr>\n",
       "      <th>0</th>\n",
       "      <td>4</td>\n",
       "      <td>toxic</td>\n",
       "      <td>severe_toxic</td>\n",
       "      <td>obscene</td>\n",
       "      <td>threat</td>\n",
       "      <td>insult</td>\n",
       "      <td>identity_hate</td>\n",
       "      <td>text sample 0</td>\n",
       "      <td>validation</td>\n",
       "      <td>1</td>\n",
       "      <td>...</td>\n",
       "      <td>threat</td>\n",
       "      <td>0.591826</td>\n",
       "      <td>not insult</td>\n",
       "      <td>0.591826</td>\n",
       "      <td>not identity_hate</td>\n",
       "      <td>0</td>\n",
       "      <td>1</td>\n",
       "      <td>1</td>\n",
       "      <td>0.408174</td>\n",
       "      <td>0.67595</td>\n",
       "    </tr>\n",
       "    <tr>\n",
       "      <th>1</th>\n",
       "      <td>4</td>\n",
       "      <td>toxic</td>\n",
       "      <td>severe_toxic</td>\n",
       "      <td>obscene</td>\n",
       "      <td>threat</td>\n",
       "      <td>insult</td>\n",
       "      <td>identity_hate</td>\n",
       "      <td>text sample 1</td>\n",
       "      <td>validation</td>\n",
       "      <td>1</td>\n",
       "      <td>...</td>\n",
       "      <td>threat</td>\n",
       "      <td>0.408174</td>\n",
       "      <td>insult</td>\n",
       "      <td>0.408174</td>\n",
       "      <td>identity_hate</td>\n",
       "      <td>1</td>\n",
       "      <td>1</td>\n",
       "      <td>0</td>\n",
       "      <td>0.591826</td>\n",
       "      <td>0.67595</td>\n",
       "    </tr>\n",
       "    <tr>\n",
       "      <th>2</th>\n",
       "      <td>4</td>\n",
       "      <td>toxic</td>\n",
       "      <td>severe_toxic</td>\n",
       "      <td>obscene</td>\n",
       "      <td>threat</td>\n",
       "      <td>insult</td>\n",
       "      <td>identity_hate</td>\n",
       "      <td>text sample 2</td>\n",
       "      <td>validation</td>\n",
       "      <td>1</td>\n",
       "      <td>...</td>\n",
       "      <td>threat</td>\n",
       "      <td>0.591826</td>\n",
       "      <td>not insult</td>\n",
       "      <td>0.591826</td>\n",
       "      <td>not identity_hate</td>\n",
       "      <td>2</td>\n",
       "      <td>1</td>\n",
       "      <td>0</td>\n",
       "      <td>0.591826</td>\n",
       "      <td>0.67595</td>\n",
       "    </tr>\n",
       "    <tr>\n",
       "      <th>3</th>\n",
       "      <td>4</td>\n",
       "      <td>toxic</td>\n",
       "      <td>severe_toxic</td>\n",
       "      <td>obscene</td>\n",
       "      <td>threat</td>\n",
       "      <td>insult</td>\n",
       "      <td>identity_hate</td>\n",
       "      <td>text sample 3</td>\n",
       "      <td>validation</td>\n",
       "      <td>1</td>\n",
       "      <td>...</td>\n",
       "      <td>not threat</td>\n",
       "      <td>0.408174</td>\n",
       "      <td>insult</td>\n",
       "      <td>0.408174</td>\n",
       "      <td>identity_hate</td>\n",
       "      <td>3</td>\n",
       "      <td>1</td>\n",
       "      <td>0</td>\n",
       "      <td>0.591826</td>\n",
       "      <td>0.67595</td>\n",
       "    </tr>\n",
       "    <tr>\n",
       "      <th>4</th>\n",
       "      <td>4</td>\n",
       "      <td>toxic</td>\n",
       "      <td>severe_toxic</td>\n",
       "      <td>obscene</td>\n",
       "      <td>threat</td>\n",
       "      <td>insult</td>\n",
       "      <td>identity_hate</td>\n",
       "      <td>text sample 4</td>\n",
       "      <td>validation</td>\n",
       "      <td>1</td>\n",
       "      <td>...</td>\n",
       "      <td>threat</td>\n",
       "      <td>0.591826</td>\n",
       "      <td>not insult</td>\n",
       "      <td>0.591826</td>\n",
       "      <td>not identity_hate</td>\n",
       "      <td>4</td>\n",
       "      <td>1</td>\n",
       "      <td>0</td>\n",
       "      <td>0.591826</td>\n",
       "      <td>0.67595</td>\n",
       "    </tr>\n",
       "    <tr>\n",
       "      <th>...</th>\n",
       "      <td>...</td>\n",
       "      <td>...</td>\n",
       "      <td>...</td>\n",
       "      <td>...</td>\n",
       "      <td>...</td>\n",
       "      <td>...</td>\n",
       "      <td>...</td>\n",
       "      <td>...</td>\n",
       "      <td>...</td>\n",
       "      <td>...</td>\n",
       "      <td>...</td>\n",
       "      <td>...</td>\n",
       "      <td>...</td>\n",
       "      <td>...</td>\n",
       "      <td>...</td>\n",
       "      <td>...</td>\n",
       "      <td>...</td>\n",
       "      <td>...</td>\n",
       "      <td>...</td>\n",
       "      <td>...</td>\n",
       "      <td>...</td>\n",
       "    </tr>\n",
       "    <tr>\n",
       "      <th>780</th>\n",
       "      <td>4</td>\n",
       "      <td>toxic</td>\n",
       "      <td>severe_toxic</td>\n",
       "      <td>obscene</td>\n",
       "      <td>threat</td>\n",
       "      <td>insult</td>\n",
       "      <td>identity_hate</td>\n",
       "      <td>text sample 4992</td>\n",
       "      <td>validation</td>\n",
       "      <td>1</td>\n",
       "      <td>...</td>\n",
       "      <td>threat</td>\n",
       "      <td>0.408174</td>\n",
       "      <td>insult</td>\n",
       "      <td>0.591826</td>\n",
       "      <td>not identity_hate</td>\n",
       "      <td>4992</td>\n",
       "      <td>1</td>\n",
       "      <td>1</td>\n",
       "      <td>0.408174</td>\n",
       "      <td>0.67595</td>\n",
       "    </tr>\n",
       "    <tr>\n",
       "      <th>781</th>\n",
       "      <td>4</td>\n",
       "      <td>toxic</td>\n",
       "      <td>severe_toxic</td>\n",
       "      <td>obscene</td>\n",
       "      <td>threat</td>\n",
       "      <td>insult</td>\n",
       "      <td>identity_hate</td>\n",
       "      <td>text sample 4993</td>\n",
       "      <td>validation</td>\n",
       "      <td>1</td>\n",
       "      <td>...</td>\n",
       "      <td>threat</td>\n",
       "      <td>0.408174</td>\n",
       "      <td>insult</td>\n",
       "      <td>0.591826</td>\n",
       "      <td>not identity_hate</td>\n",
       "      <td>4993</td>\n",
       "      <td>1</td>\n",
       "      <td>1</td>\n",
       "      <td>0.408174</td>\n",
       "      <td>0.67595</td>\n",
       "    </tr>\n",
       "    <tr>\n",
       "      <th>782</th>\n",
       "      <td>4</td>\n",
       "      <td>toxic</td>\n",
       "      <td>severe_toxic</td>\n",
       "      <td>obscene</td>\n",
       "      <td>threat</td>\n",
       "      <td>insult</td>\n",
       "      <td>identity_hate</td>\n",
       "      <td>text sample 4994</td>\n",
       "      <td>validation</td>\n",
       "      <td>1</td>\n",
       "      <td>...</td>\n",
       "      <td>threat</td>\n",
       "      <td>0.408174</td>\n",
       "      <td>insult</td>\n",
       "      <td>0.408174</td>\n",
       "      <td>identity_hate</td>\n",
       "      <td>4994</td>\n",
       "      <td>1</td>\n",
       "      <td>1</td>\n",
       "      <td>0.408174</td>\n",
       "      <td>0.67595</td>\n",
       "    </tr>\n",
       "    <tr>\n",
       "      <th>783</th>\n",
       "      <td>4</td>\n",
       "      <td>toxic</td>\n",
       "      <td>severe_toxic</td>\n",
       "      <td>obscene</td>\n",
       "      <td>threat</td>\n",
       "      <td>insult</td>\n",
       "      <td>identity_hate</td>\n",
       "      <td>text sample 4995</td>\n",
       "      <td>validation</td>\n",
       "      <td>1</td>\n",
       "      <td>...</td>\n",
       "      <td>threat</td>\n",
       "      <td>0.408174</td>\n",
       "      <td>insult</td>\n",
       "      <td>0.408174</td>\n",
       "      <td>identity_hate</td>\n",
       "      <td>4995</td>\n",
       "      <td>1</td>\n",
       "      <td>0</td>\n",
       "      <td>0.591826</td>\n",
       "      <td>0.67595</td>\n",
       "    </tr>\n",
       "    <tr>\n",
       "      <th>784</th>\n",
       "      <td>4</td>\n",
       "      <td>toxic</td>\n",
       "      <td>severe_toxic</td>\n",
       "      <td>obscene</td>\n",
       "      <td>threat</td>\n",
       "      <td>insult</td>\n",
       "      <td>identity_hate</td>\n",
       "      <td>text sample 4996</td>\n",
       "      <td>validation</td>\n",
       "      <td>1</td>\n",
       "      <td>...</td>\n",
       "      <td>not threat</td>\n",
       "      <td>0.408174</td>\n",
       "      <td>insult</td>\n",
       "      <td>0.591826</td>\n",
       "      <td>not identity_hate</td>\n",
       "      <td>4996</td>\n",
       "      <td>1</td>\n",
       "      <td>1</td>\n",
       "      <td>0.408174</td>\n",
       "      <td>0.67595</td>\n",
       "    </tr>\n",
       "  </tbody>\n",
       "</table>\n",
       "<p>785 rows × 36 columns</p>\n",
       "</div>"
      ],
      "text/plain": [
       "     epoch pred_task_0   pred_task_1 pred_task_2 pred_task_3 pred_task_4  \\\n",
       "0        4       toxic  severe_toxic     obscene      threat      insult   \n",
       "1        4       toxic  severe_toxic     obscene      threat      insult   \n",
       "2        4       toxic  severe_toxic     obscene      threat      insult   \n",
       "3        4       toxic  severe_toxic     obscene      threat      insult   \n",
       "4        4       toxic  severe_toxic     obscene      threat      insult   \n",
       "..     ...         ...           ...         ...         ...         ...   \n",
       "780      4       toxic  severe_toxic     obscene      threat      insult   \n",
       "781      4       toxic  severe_toxic     obscene      threat      insult   \n",
       "782      4       toxic  severe_toxic     obscene      threat      insult   \n",
       "783      4       toxic  severe_toxic     obscene      threat      insult   \n",
       "784      4       toxic  severe_toxic     obscene      threat      insult   \n",
       "\n",
       "       pred_task_5              text       split  data_schema_version  ...  \\\n",
       "0    identity_hate     text sample 0  validation                    1  ...   \n",
       "1    identity_hate     text sample 1  validation                    1  ...   \n",
       "2    identity_hate     text sample 2  validation                    1  ...   \n",
       "3    identity_hate     text sample 3  validation                    1  ...   \n",
       "4    identity_hate     text sample 4  validation                    1  ...   \n",
       "..             ...               ...         ...                  ...  ...   \n",
       "780  identity_hate  text sample 4992  validation                    1  ...   \n",
       "781  identity_hate  text sample 4993  validation                    1  ...   \n",
       "782  identity_hate  text sample 4994  validation                    1  ...   \n",
       "783  identity_hate  text sample 4995  validation                    1  ...   \n",
       "784  identity_hate  text sample 4996  validation                    1  ...   \n",
       "\n",
       "     gold_task_3 data_error_potential_task_4 gold_task_4  \\\n",
       "0         threat                    0.591826  not insult   \n",
       "1         threat                    0.408174      insult   \n",
       "2         threat                    0.591826  not insult   \n",
       "3     not threat                    0.408174      insult   \n",
       "4         threat                    0.591826  not insult   \n",
       "..           ...                         ...         ...   \n",
       "780       threat                    0.408174      insult   \n",
       "781       threat                    0.408174      insult   \n",
       "782       threat                    0.408174      insult   \n",
       "783       threat                    0.408174      insult   \n",
       "784   not threat                    0.408174      insult   \n",
       "\n",
       "     data_error_potential_task_5        gold_task_5    id  pred  gold  \\\n",
       "0                       0.591826  not identity_hate     0     1     1   \n",
       "1                       0.408174      identity_hate     1     1     0   \n",
       "2                       0.591826  not identity_hate     2     1     0   \n",
       "3                       0.408174      identity_hate     3     1     0   \n",
       "4                       0.591826  not identity_hate     4     1     0   \n",
       "..                           ...                ...   ...   ...   ...   \n",
       "780                     0.591826  not identity_hate  4992     1     1   \n",
       "781                     0.591826  not identity_hate  4993     1     1   \n",
       "782                     0.408174      identity_hate  4994     1     1   \n",
       "783                     0.408174      identity_hate  4995     1     0   \n",
       "784                     0.591826  not identity_hate  4996     1     1   \n",
       "\n",
       "     data_error_potential  confidence  \n",
       "0                0.408174     0.67595  \n",
       "1                0.591826     0.67595  \n",
       "2                0.591826     0.67595  \n",
       "3                0.591826     0.67595  \n",
       "4                0.591826     0.67595  \n",
       "..                    ...         ...  \n",
       "780              0.408174     0.67595  \n",
       "781              0.408174     0.67595  \n",
       "782              0.408174     0.67595  \n",
       "783              0.591826     0.67595  \n",
       "784              0.408174     0.67595  \n",
       "\n",
       "[785 rows x 36 columns]"
      ]
     },
     "metadata": {},
     "output_type": "display_data"
    }
   ],
   "source": [
    "from typing import *\n",
    "from random import choice\n",
    "import numpy as np\n",
    "\n",
    "\n",
    "dq.init(\"text_multi_label\", \"test-mltc-run\")\n",
    "dq.set_labels_for_run([[\"not \"+_label, _label] for _label in ['toxic', 'severe_toxic', 'obscene', 'threat', 'insult','identity_hate']]) \n",
    "dq.set_tasks_for_run(['task_0', 'task_1', 'task_2', 'task_3', 'task_4', 'task_5'])\n",
    "\n",
    "n = 5000\n",
    "\n",
    "texts: List[str] = [f\"text sample {i}\" for i in range(n)]\n",
    "\n",
    "labels: List[str] = [\n",
    "    [choice(i) for i in dq.get_data_logger().logger_config.labels]\n",
    "    for _ in range(n)\n",
    "]\n",
    "\n",
    "ids = list(range(n))\n",
    "\n",
    "\n",
    "dq.log_data_samples(texts=texts, task_labels=labels, ids=ids, split=\"training\")\n",
    "dq.log_data_samples(texts=texts, task_labels=labels, ids=ids, split=\"test\")\n",
    "dq.log_data_samples(texts=texts, task_labels=labels, ids=ids, split=\"validation\")\n",
    "\n",
    "for split in [\"train\", \"test\", \"validation\"]:\n",
    "    for epoch in range(5):\n",
    "        emb=np.random.rand(n, 768)\n",
    "        logits=[[np.random.rand(2)] * 6] * n\n",
    "        ids=list(range(n))\n",
    "        \n",
    "        for i in range(0, n, 32):\n",
    "            dq.log_model_outputs(\n",
    "                embs=emb[i:i+5],\n",
    "                logits=logits[i:i+5],\n",
    "                ids=ids[i:i+5],\n",
    "                split=split,\n",
    "                epoch=epoch\n",
    "            )\n",
    "\n",
    "dq.finish()\n",
    "df_train, df_test, df_val = see_results()\n"
   ]
  },
  {
   "cell_type": "markdown",
   "id": "fe82cc51",
   "metadata": {},
   "source": [
    "## NER"
   ]
  },
  {
   "cell_type": "code",
   "execution_count": 7,
   "id": "eb6ba254",
   "metadata": {},
   "outputs": [
    {
     "name": "stdout",
     "output_type": "stream",
     "text": [
      "📡 Retrieved project, test-ner-run, and starting a new run\n",
      "🏃‍♂️ Starting run combative_red_moth\n",
      "🛰 Connected to project, test-ner-run, and created run, combative_red_moth.\n",
      "Exporting input data [########################################] 100.00% elapsed time  :     0.00s =  0.0m =  0.0h\n",
      "Appending input data [########################################] 100.00% elapsed time  :     0.00s =  0.0m =  0.0h\n",
      "Appending input data [########################################] 100.00% elapsed time  :     0.00s =  0.0m =  0.0h\n",
      " "
     ]
    },
    {
     "data": {
      "application/vnd.jupyter.widget-view+json": {
       "model_id": "e5d2100c798d44f0b17f6d6444dd24c3",
       "version_major": 2,
       "version_minor": 0
      },
      "text/plain": [
       "  0%|          | 0/6 [00:00<?, ?it/s]"
      ]
     },
     "metadata": {},
     "output_type": "display_data"
    },
    {
     "name": "stdout",
     "output_type": "stream",
     "text": [
      "☁️ Uploading Data\n"
     ]
    },
    {
     "data": {
      "application/vnd.jupyter.widget-view+json": {
       "model_id": "6689ea25e54f4d8bad82a5a4a1ec0306",
       "version_major": 2,
       "version_minor": 0
      },
      "text/plain": [
       "training:   0%|          | 0/6 [00:00<?, ?it/s]"
      ]
     },
     "metadata": {},
     "output_type": "display_data"
    },
    {
     "data": {
      "application/vnd.jupyter.widget-view+json": {
       "model_id": "",
       "version_major": 2,
       "version_minor": 0
      },
      "text/plain": [
       "Combining batches for upload:   0%|          | 0/1 [00:00<?, ?it/s]"
      ]
     },
     "metadata": {},
     "output_type": "display_data"
    },
    {
     "data": {
      "application/vnd.jupyter.widget-view+json": {
       "model_id": "",
       "version_major": 2,
       "version_minor": 0
      },
      "text/plain": [
       "training (epoch=):   0%|          | 0/3 [00:00<?, ?it/s]"
      ]
     },
     "metadata": {},
     "output_type": "display_data"
    },
    {
     "data": {
      "application/vnd.jupyter.widget-view+json": {
       "model_id": "",
       "version_major": 2,
       "version_minor": 0
      },
      "text/plain": [
       "Combining batches for upload:   0%|          | 0/1 [00:00<?, ?it/s]"
      ]
     },
     "metadata": {},
     "output_type": "display_data"
    },
    {
     "data": {
      "application/vnd.jupyter.widget-view+json": {
       "model_id": "",
       "version_major": 2,
       "version_minor": 0
      },
      "text/plain": [
       "training (epoch=):   0%|          | 0/3 [00:00<?, ?it/s]"
      ]
     },
     "metadata": {},
     "output_type": "display_data"
    },
    {
     "data": {
      "application/vnd.jupyter.widget-view+json": {
       "model_id": "",
       "version_major": 2,
       "version_minor": 0
      },
      "text/plain": [
       "Combining batches for upload:   0%|          | 0/1 [00:00<?, ?it/s]"
      ]
     },
     "metadata": {},
     "output_type": "display_data"
    },
    {
     "data": {
      "application/vnd.jupyter.widget-view+json": {
       "model_id": "",
       "version_major": 2,
       "version_minor": 0
      },
      "text/plain": [
       "training (epoch=):   0%|          | 0/3 [00:00<?, ?it/s]"
      ]
     },
     "metadata": {},
     "output_type": "display_data"
    },
    {
     "data": {
      "application/vnd.jupyter.widget-view+json": {
       "model_id": "",
       "version_major": 2,
       "version_minor": 0
      },
      "text/plain": [
       "Combining batches for upload:   0%|          | 0/1 [00:00<?, ?it/s]"
      ]
     },
     "metadata": {},
     "output_type": "display_data"
    },
    {
     "data": {
      "application/vnd.jupyter.widget-view+json": {
       "model_id": "",
       "version_major": 2,
       "version_minor": 0
      },
      "text/plain": [
       "training (epoch=):   0%|          | 0/3 [00:00<?, ?it/s]"
      ]
     },
     "metadata": {},
     "output_type": "display_data"
    },
    {
     "data": {
      "application/vnd.jupyter.widget-view+json": {
       "model_id": "",
       "version_major": 2,
       "version_minor": 0
      },
      "text/plain": [
       "Combining batches for upload:   0%|          | 0/1 [00:00<?, ?it/s]"
      ]
     },
     "metadata": {},
     "output_type": "display_data"
    },
    {
     "data": {
      "application/vnd.jupyter.widget-view+json": {
       "model_id": "",
       "version_major": 2,
       "version_minor": 0
      },
      "text/plain": [
       "training (epoch=):   0%|          | 0/3 [00:00<?, ?it/s]"
      ]
     },
     "metadata": {},
     "output_type": "display_data"
    },
    {
     "data": {
      "application/vnd.jupyter.widget-view+json": {
       "model_id": "",
       "version_major": 2,
       "version_minor": 0
      },
      "text/plain": [
       "Combining batches for upload:   0%|          | 0/1 [00:00<?, ?it/s]"
      ]
     },
     "metadata": {},
     "output_type": "display_data"
    },
    {
     "data": {
      "application/vnd.jupyter.widget-view+json": {
       "model_id": "",
       "version_major": 2,
       "version_minor": 0
      },
      "text/plain": [
       "training (epoch=):   0%|          | 0/3 [00:00<?, ?it/s]"
      ]
     },
     "metadata": {},
     "output_type": "display_data"
    },
    {
     "data": {
      "application/vnd.jupyter.widget-view+json": {
       "model_id": "714532aa3cb1467b97902b18a4b35d8b",
       "version_major": 2,
       "version_minor": 0
      },
      "text/plain": [
       "validation:   0%|          | 0/6 [00:00<?, ?it/s]"
      ]
     },
     "metadata": {},
     "output_type": "display_data"
    },
    {
     "data": {
      "application/vnd.jupyter.widget-view+json": {
       "model_id": "",
       "version_major": 2,
       "version_minor": 0
      },
      "text/plain": [
       "Combining batches for upload:   0%|          | 0/1 [00:00<?, ?it/s]"
      ]
     },
     "metadata": {},
     "output_type": "display_data"
    },
    {
     "data": {
      "application/vnd.jupyter.widget-view+json": {
       "model_id": "",
       "version_major": 2,
       "version_minor": 0
      },
      "text/plain": [
       "validation (epoch=):   0%|          | 0/3 [00:00<?, ?it/s]"
      ]
     },
     "metadata": {},
     "output_type": "display_data"
    },
    {
     "data": {
      "application/vnd.jupyter.widget-view+json": {
       "model_id": "",
       "version_major": 2,
       "version_minor": 0
      },
      "text/plain": [
       "Combining batches for upload:   0%|          | 0/1 [00:00<?, ?it/s]"
      ]
     },
     "metadata": {},
     "output_type": "display_data"
    },
    {
     "data": {
      "application/vnd.jupyter.widget-view+json": {
       "model_id": "",
       "version_major": 2,
       "version_minor": 0
      },
      "text/plain": [
       "validation (epoch=):   0%|          | 0/3 [00:00<?, ?it/s]"
      ]
     },
     "metadata": {},
     "output_type": "display_data"
    },
    {
     "data": {
      "application/vnd.jupyter.widget-view+json": {
       "model_id": "",
       "version_major": 2,
       "version_minor": 0
      },
      "text/plain": [
       "Combining batches for upload:   0%|          | 0/1 [00:00<?, ?it/s]"
      ]
     },
     "metadata": {},
     "output_type": "display_data"
    },
    {
     "data": {
      "application/vnd.jupyter.widget-view+json": {
       "model_id": "",
       "version_major": 2,
       "version_minor": 0
      },
      "text/plain": [
       "validation (epoch=):   0%|          | 0/3 [00:00<?, ?it/s]"
      ]
     },
     "metadata": {},
     "output_type": "display_data"
    },
    {
     "data": {
      "application/vnd.jupyter.widget-view+json": {
       "model_id": "",
       "version_major": 2,
       "version_minor": 0
      },
      "text/plain": [
       "Combining batches for upload:   0%|          | 0/1 [00:00<?, ?it/s]"
      ]
     },
     "metadata": {},
     "output_type": "display_data"
    },
    {
     "data": {
      "application/vnd.jupyter.widget-view+json": {
       "model_id": "",
       "version_major": 2,
       "version_minor": 0
      },
      "text/plain": [
       "validation (epoch=):   0%|          | 0/3 [00:00<?, ?it/s]"
      ]
     },
     "metadata": {},
     "output_type": "display_data"
    },
    {
     "data": {
      "application/vnd.jupyter.widget-view+json": {
       "model_id": "",
       "version_major": 2,
       "version_minor": 0
      },
      "text/plain": [
       "Combining batches for upload:   0%|          | 0/1 [00:00<?, ?it/s]"
      ]
     },
     "metadata": {},
     "output_type": "display_data"
    },
    {
     "data": {
      "application/vnd.jupyter.widget-view+json": {
       "model_id": "",
       "version_major": 2,
       "version_minor": 0
      },
      "text/plain": [
       "validation (epoch=):   0%|          | 0/3 [00:00<?, ?it/s]"
      ]
     },
     "metadata": {},
     "output_type": "display_data"
    },
    {
     "data": {
      "application/vnd.jupyter.widget-view+json": {
       "model_id": "",
       "version_major": 2,
       "version_minor": 0
      },
      "text/plain": [
       "Combining batches for upload:   0%|          | 0/1 [00:00<?, ?it/s]"
      ]
     },
     "metadata": {},
     "output_type": "display_data"
    },
    {
     "data": {
      "application/vnd.jupyter.widget-view+json": {
       "model_id": "",
       "version_major": 2,
       "version_minor": 0
      },
      "text/plain": [
       "validation (epoch=):   0%|          | 0/3 [00:00<?, ?it/s]"
      ]
     },
     "metadata": {},
     "output_type": "display_data"
    },
    {
     "data": {
      "application/vnd.jupyter.widget-view+json": {
       "model_id": "67a08946640f406d884b629ae439cd58",
       "version_major": 2,
       "version_minor": 0
      },
      "text/plain": [
       "test:   0%|          | 0/6 [00:00<?, ?it/s]"
      ]
     },
     "metadata": {},
     "output_type": "display_data"
    },
    {
     "data": {
      "application/vnd.jupyter.widget-view+json": {
       "model_id": "",
       "version_major": 2,
       "version_minor": 0
      },
      "text/plain": [
       "Combining batches for upload:   0%|          | 0/1 [00:00<?, ?it/s]"
      ]
     },
     "metadata": {},
     "output_type": "display_data"
    },
    {
     "data": {
      "application/vnd.jupyter.widget-view+json": {
       "model_id": "",
       "version_major": 2,
       "version_minor": 0
      },
      "text/plain": [
       "test (epoch=):   0%|          | 0/3 [00:00<?, ?it/s]"
      ]
     },
     "metadata": {},
     "output_type": "display_data"
    },
    {
     "data": {
      "application/vnd.jupyter.widget-view+json": {
       "model_id": "",
       "version_major": 2,
       "version_minor": 0
      },
      "text/plain": [
       "Combining batches for upload:   0%|          | 0/1 [00:00<?, ?it/s]"
      ]
     },
     "metadata": {},
     "output_type": "display_data"
    },
    {
     "data": {
      "application/vnd.jupyter.widget-view+json": {
       "model_id": "",
       "version_major": 2,
       "version_minor": 0
      },
      "text/plain": [
       "test (epoch=):   0%|          | 0/3 [00:00<?, ?it/s]"
      ]
     },
     "metadata": {},
     "output_type": "display_data"
    },
    {
     "data": {
      "application/vnd.jupyter.widget-view+json": {
       "model_id": "",
       "version_major": 2,
       "version_minor": 0
      },
      "text/plain": [
       "Combining batches for upload:   0%|          | 0/1 [00:00<?, ?it/s]"
      ]
     },
     "metadata": {},
     "output_type": "display_data"
    },
    {
     "data": {
      "application/vnd.jupyter.widget-view+json": {
       "model_id": "",
       "version_major": 2,
       "version_minor": 0
      },
      "text/plain": [
       "test (epoch=):   0%|          | 0/3 [00:00<?, ?it/s]"
      ]
     },
     "metadata": {},
     "output_type": "display_data"
    },
    {
     "data": {
      "application/vnd.jupyter.widget-view+json": {
       "model_id": "",
       "version_major": 2,
       "version_minor": 0
      },
      "text/plain": [
       "Combining batches for upload:   0%|          | 0/1 [00:00<?, ?it/s]"
      ]
     },
     "metadata": {},
     "output_type": "display_data"
    },
    {
     "data": {
      "application/vnd.jupyter.widget-view+json": {
       "model_id": "",
       "version_major": 2,
       "version_minor": 0
      },
      "text/plain": [
       "test (epoch=):   0%|          | 0/3 [00:00<?, ?it/s]"
      ]
     },
     "metadata": {},
     "output_type": "display_data"
    },
    {
     "data": {
      "application/vnd.jupyter.widget-view+json": {
       "model_id": "",
       "version_major": 2,
       "version_minor": 0
      },
      "text/plain": [
       "Combining batches for upload:   0%|          | 0/1 [00:00<?, ?it/s]"
      ]
     },
     "metadata": {},
     "output_type": "display_data"
    },
    {
     "data": {
      "application/vnd.jupyter.widget-view+json": {
       "model_id": "",
       "version_major": 2,
       "version_minor": 0
      },
      "text/plain": [
       "test (epoch=):   0%|          | 0/3 [00:00<?, ?it/s]"
      ]
     },
     "metadata": {},
     "output_type": "display_data"
    },
    {
     "data": {
      "application/vnd.jupyter.widget-view+json": {
       "model_id": "",
       "version_major": 2,
       "version_minor": 0
      },
      "text/plain": [
       "Combining batches for upload:   0%|          | 0/1 [00:00<?, ?it/s]"
      ]
     },
     "metadata": {},
     "output_type": "display_data"
    },
    {
     "data": {
      "application/vnd.jupyter.widget-view+json": {
       "model_id": "",
       "version_major": 2,
       "version_minor": 0
      },
      "text/plain": [
       "test (epoch=):   0%|          | 0/3 [00:00<?, ?it/s]"
      ]
     },
     "metadata": {},
     "output_type": "display_data"
    },
    {
     "name": "stdout",
     "output_type": "stream",
     "text": [
      "🧹 Cleaning up\n",
      "Job default successfully submitted. Results will be available soon at https://console.dev.rungalileo.io/insights?projectId=9683fbaa-5f4b-471d-9c68-40095c543d5c&runId=049ce9b8-4267-4239-931c-8b9d35e50e3d&split=training&taskType=2&depHigh=1&depLow=0\n",
      "Waiting for data to be processed\n",
      "Waiting for job...\n",
      "Done! Job finished with status finished\n",
      "Your export has been written to text_ner_training.csv\n",
      "Your export has been written to text_ner_test.csv\n",
      "Your export has been written to text_ner_validation.csv\n",
      "Exported to text_ner_training.csv, text_ner_test.csv, and text_ner_validation.csv\n",
      "Training\n"
     ]
    },
    {
     "data": {
      "text/html": [
       "<div>\n",
       "<style scoped>\n",
       "    .dataframe tbody tr th:only-of-type {\n",
       "        vertical-align: middle;\n",
       "    }\n",
       "\n",
       "    .dataframe tbody tr th {\n",
       "        vertical-align: top;\n",
       "    }\n",
       "\n",
       "    .dataframe thead th {\n",
       "        text-align: right;\n",
       "    }\n",
       "</style>\n",
       "<table border=\"1\" class=\"dataframe\">\n",
       "  <thead>\n",
       "    <tr style=\"text-align: right;\">\n",
       "      <th></th>\n",
       "      <th>sample_id</th>\n",
       "      <th>text</th>\n",
       "      <th>id</th>\n",
       "      <th>missed_label</th>\n",
       "      <th>span_shift</th>\n",
       "      <th>wrong_tag</th>\n",
       "      <th>ghost_span</th>\n",
       "      <th>total_errors</th>\n",
       "      <th>galileo_text_length</th>\n",
       "      <th>galileo_language_id</th>\n",
       "      <th>galileo_pii</th>\n",
       "      <th>spans</th>\n",
       "    </tr>\n",
       "  </thead>\n",
       "  <tbody>\n",
       "    <tr>\n",
       "      <th>0</th>\n",
       "      <td>0</td>\n",
       "      <td>what movies star bruce willis</td>\n",
       "      <td>0</td>\n",
       "      <td>0</td>\n",
       "      <td>1</td>\n",
       "      <td>0</td>\n",
       "      <td>1</td>\n",
       "      <td>2</td>\n",
       "      <td>29</td>\n",
       "      <td>en</td>\n",
       "      <td>None</td>\n",
       "      <td>[{\"start\":17,\"end\":29,\"data_error_potential\":0...</td>\n",
       "    </tr>\n",
       "    <tr>\n",
       "      <th>1</th>\n",
       "      <td>1</td>\n",
       "      <td>show me films with drew barrymore from the 1980s</td>\n",
       "      <td>1</td>\n",
       "      <td>0</td>\n",
       "      <td>2</td>\n",
       "      <td>0</td>\n",
       "      <td>5</td>\n",
       "      <td>7</td>\n",
       "      <td>48</td>\n",
       "      <td>en</td>\n",
       "      <td>None</td>\n",
       "      <td>[{\"start\":19,\"end\":33,\"data_error_potential\":0...</td>\n",
       "    </tr>\n",
       "    <tr>\n",
       "      <th>2</th>\n",
       "      <td>2</td>\n",
       "      <td>what movies starred both al pacino and robert ...</td>\n",
       "      <td>2</td>\n",
       "      <td>0</td>\n",
       "      <td>2</td>\n",
       "      <td>0</td>\n",
       "      <td>3</td>\n",
       "      <td>5</td>\n",
       "      <td>52</td>\n",
       "      <td>en</td>\n",
       "      <td>None</td>\n",
       "      <td>[{\"start\":25,\"end\":34,\"data_error_potential\":0...</td>\n",
       "    </tr>\n",
       "    <tr>\n",
       "      <th>3</th>\n",
       "      <td>3</td>\n",
       "      <td>find me all of the movies that starred harold ...</td>\n",
       "      <td>3</td>\n",
       "      <td>0</td>\n",
       "      <td>2</td>\n",
       "      <td>0</td>\n",
       "      <td>3</td>\n",
       "      <td>5</td>\n",
       "      <td>67</td>\n",
       "      <td>en</td>\n",
       "      <td>None</td>\n",
       "      <td>[{\"start\":39,\"end\":51,\"data_error_potential\":0...</td>\n",
       "    </tr>\n",
       "    <tr>\n",
       "      <th>4</th>\n",
       "      <td>4</td>\n",
       "      <td>find me a movie with a quote about baseball in it</td>\n",
       "      <td>4</td>\n",
       "      <td>0</td>\n",
       "      <td>0</td>\n",
       "      <td>0</td>\n",
       "      <td>5</td>\n",
       "      <td>5</td>\n",
       "      <td>49</td>\n",
       "      <td>en</td>\n",
       "      <td>None</td>\n",
       "      <td>[{\"start\":5,\"end\":7,\"data_error_potential\":0.5...</td>\n",
       "    </tr>\n",
       "  </tbody>\n",
       "</table>\n",
       "</div>"
      ],
      "text/plain": [
       "   sample_id                                               text  id  \\\n",
       "0          0                      what movies star bruce willis   0   \n",
       "1          1   show me films with drew barrymore from the 1980s   1   \n",
       "2          2  what movies starred both al pacino and robert ...   2   \n",
       "3          3  find me all of the movies that starred harold ...   3   \n",
       "4          4  find me a movie with a quote about baseball in it   4   \n",
       "\n",
       "   missed_label  span_shift  wrong_tag  ghost_span  total_errors  \\\n",
       "0             0           1          0           1             2   \n",
       "1             0           2          0           5             7   \n",
       "2             0           2          0           3             5   \n",
       "3             0           2          0           3             5   \n",
       "4             0           0          0           5             5   \n",
       "\n",
       "   galileo_text_length galileo_language_id galileo_pii  \\\n",
       "0                   29                  en        None   \n",
       "1                   48                  en        None   \n",
       "2                   52                  en        None   \n",
       "3                   67                  en        None   \n",
       "4                   49                  en        None   \n",
       "\n",
       "                                               spans  \n",
       "0  [{\"start\":17,\"end\":29,\"data_error_potential\":0...  \n",
       "1  [{\"start\":19,\"end\":33,\"data_error_potential\":0...  \n",
       "2  [{\"start\":25,\"end\":34,\"data_error_potential\":0...  \n",
       "3  [{\"start\":39,\"end\":51,\"data_error_potential\":0...  \n",
       "4  [{\"start\":5,\"end\":7,\"data_error_potential\":0.5...  "
      ]
     },
     "metadata": {},
     "output_type": "display_data"
    },
    {
     "name": "stdout",
     "output_type": "stream",
     "text": [
      "\n",
      "Test\n"
     ]
    },
    {
     "data": {
      "text/html": [
       "<div>\n",
       "<style scoped>\n",
       "    .dataframe tbody tr th:only-of-type {\n",
       "        vertical-align: middle;\n",
       "    }\n",
       "\n",
       "    .dataframe tbody tr th {\n",
       "        vertical-align: top;\n",
       "    }\n",
       "\n",
       "    .dataframe thead th {\n",
       "        text-align: right;\n",
       "    }\n",
       "</style>\n",
       "<table border=\"1\" class=\"dataframe\">\n",
       "  <thead>\n",
       "    <tr style=\"text-align: right;\">\n",
       "      <th></th>\n",
       "      <th>sample_id</th>\n",
       "      <th>text</th>\n",
       "      <th>id</th>\n",
       "      <th>missed_label</th>\n",
       "      <th>span_shift</th>\n",
       "      <th>wrong_tag</th>\n",
       "      <th>ghost_span</th>\n",
       "      <th>total_errors</th>\n",
       "      <th>galileo_text_length</th>\n",
       "      <th>galileo_language_id</th>\n",
       "      <th>galileo_pii</th>\n",
       "      <th>spans</th>\n",
       "    </tr>\n",
       "  </thead>\n",
       "  <tbody>\n",
       "    <tr>\n",
       "      <th>0</th>\n",
       "      <td>0</td>\n",
       "      <td>what movies star bruce willis</td>\n",
       "      <td>0</td>\n",
       "      <td>0</td>\n",
       "      <td>1</td>\n",
       "      <td>0</td>\n",
       "      <td>1</td>\n",
       "      <td>2</td>\n",
       "      <td>29</td>\n",
       "      <td>en</td>\n",
       "      <td>None</td>\n",
       "      <td>[{\"start\":17,\"end\":29,\"data_error_potential\":0...</td>\n",
       "    </tr>\n",
       "    <tr>\n",
       "      <th>1</th>\n",
       "      <td>1</td>\n",
       "      <td>show me films with drew barrymore from the 1980s</td>\n",
       "      <td>1</td>\n",
       "      <td>0</td>\n",
       "      <td>2</td>\n",
       "      <td>0</td>\n",
       "      <td>5</td>\n",
       "      <td>7</td>\n",
       "      <td>48</td>\n",
       "      <td>en</td>\n",
       "      <td>None</td>\n",
       "      <td>[{\"start\":19,\"end\":33,\"data_error_potential\":0...</td>\n",
       "    </tr>\n",
       "    <tr>\n",
       "      <th>2</th>\n",
       "      <td>2</td>\n",
       "      <td>what movies starred both al pacino and robert ...</td>\n",
       "      <td>2</td>\n",
       "      <td>0</td>\n",
       "      <td>2</td>\n",
       "      <td>0</td>\n",
       "      <td>3</td>\n",
       "      <td>5</td>\n",
       "      <td>52</td>\n",
       "      <td>en</td>\n",
       "      <td>None</td>\n",
       "      <td>[{\"start\":25,\"end\":34,\"data_error_potential\":0...</td>\n",
       "    </tr>\n",
       "    <tr>\n",
       "      <th>3</th>\n",
       "      <td>3</td>\n",
       "      <td>find me all of the movies that starred harold ...</td>\n",
       "      <td>3</td>\n",
       "      <td>0</td>\n",
       "      <td>2</td>\n",
       "      <td>0</td>\n",
       "      <td>3</td>\n",
       "      <td>5</td>\n",
       "      <td>67</td>\n",
       "      <td>en</td>\n",
       "      <td>None</td>\n",
       "      <td>[{\"start\":39,\"end\":51,\"data_error_potential\":0...</td>\n",
       "    </tr>\n",
       "    <tr>\n",
       "      <th>4</th>\n",
       "      <td>4</td>\n",
       "      <td>find me a movie with a quote about baseball in it</td>\n",
       "      <td>4</td>\n",
       "      <td>0</td>\n",
       "      <td>0</td>\n",
       "      <td>0</td>\n",
       "      <td>5</td>\n",
       "      <td>5</td>\n",
       "      <td>49</td>\n",
       "      <td>en</td>\n",
       "      <td>None</td>\n",
       "      <td>[{\"start\":5,\"end\":7,\"data_error_potential\":0.5...</td>\n",
       "    </tr>\n",
       "  </tbody>\n",
       "</table>\n",
       "</div>"
      ],
      "text/plain": [
       "   sample_id                                               text  id  \\\n",
       "0          0                      what movies star bruce willis   0   \n",
       "1          1   show me films with drew barrymore from the 1980s   1   \n",
       "2          2  what movies starred both al pacino and robert ...   2   \n",
       "3          3  find me all of the movies that starred harold ...   3   \n",
       "4          4  find me a movie with a quote about baseball in it   4   \n",
       "\n",
       "   missed_label  span_shift  wrong_tag  ghost_span  total_errors  \\\n",
       "0             0           1          0           1             2   \n",
       "1             0           2          0           5             7   \n",
       "2             0           2          0           3             5   \n",
       "3             0           2          0           3             5   \n",
       "4             0           0          0           5             5   \n",
       "\n",
       "   galileo_text_length galileo_language_id galileo_pii  \\\n",
       "0                   29                  en        None   \n",
       "1                   48                  en        None   \n",
       "2                   52                  en        None   \n",
       "3                   67                  en        None   \n",
       "4                   49                  en        None   \n",
       "\n",
       "                                               spans  \n",
       "0  [{\"start\":17,\"end\":29,\"data_error_potential\":0...  \n",
       "1  [{\"start\":19,\"end\":33,\"data_error_potential\":0...  \n",
       "2  [{\"start\":25,\"end\":34,\"data_error_potential\":0...  \n",
       "3  [{\"start\":39,\"end\":51,\"data_error_potential\":0...  \n",
       "4  [{\"start\":5,\"end\":7,\"data_error_potential\":0.5...  "
      ]
     },
     "metadata": {},
     "output_type": "display_data"
    },
    {
     "name": "stdout",
     "output_type": "stream",
     "text": [
      "\n",
      "Validation\n"
     ]
    },
    {
     "data": {
      "text/html": [
       "<div>\n",
       "<style scoped>\n",
       "    .dataframe tbody tr th:only-of-type {\n",
       "        vertical-align: middle;\n",
       "    }\n",
       "\n",
       "    .dataframe tbody tr th {\n",
       "        vertical-align: top;\n",
       "    }\n",
       "\n",
       "    .dataframe thead th {\n",
       "        text-align: right;\n",
       "    }\n",
       "</style>\n",
       "<table border=\"1\" class=\"dataframe\">\n",
       "  <thead>\n",
       "    <tr style=\"text-align: right;\">\n",
       "      <th></th>\n",
       "      <th>sample_id</th>\n",
       "      <th>text</th>\n",
       "      <th>id</th>\n",
       "      <th>missed_label</th>\n",
       "      <th>span_shift</th>\n",
       "      <th>wrong_tag</th>\n",
       "      <th>ghost_span</th>\n",
       "      <th>total_errors</th>\n",
       "      <th>galileo_text_length</th>\n",
       "      <th>galileo_language_id</th>\n",
       "      <th>galileo_pii</th>\n",
       "      <th>spans</th>\n",
       "    </tr>\n",
       "  </thead>\n",
       "  <tbody>\n",
       "    <tr>\n",
       "      <th>0</th>\n",
       "      <td>0</td>\n",
       "      <td>what movies star bruce willis</td>\n",
       "      <td>0</td>\n",
       "      <td>0</td>\n",
       "      <td>1</td>\n",
       "      <td>0</td>\n",
       "      <td>1</td>\n",
       "      <td>2</td>\n",
       "      <td>29</td>\n",
       "      <td>en</td>\n",
       "      <td>None</td>\n",
       "      <td>[{\"start\":17,\"end\":29,\"data_error_potential\":0...</td>\n",
       "    </tr>\n",
       "    <tr>\n",
       "      <th>1</th>\n",
       "      <td>1</td>\n",
       "      <td>show me films with drew barrymore from the 1980s</td>\n",
       "      <td>1</td>\n",
       "      <td>0</td>\n",
       "      <td>2</td>\n",
       "      <td>0</td>\n",
       "      <td>5</td>\n",
       "      <td>7</td>\n",
       "      <td>48</td>\n",
       "      <td>en</td>\n",
       "      <td>None</td>\n",
       "      <td>[{\"start\":19,\"end\":33,\"data_error_potential\":0...</td>\n",
       "    </tr>\n",
       "    <tr>\n",
       "      <th>2</th>\n",
       "      <td>2</td>\n",
       "      <td>what movies starred both al pacino and robert ...</td>\n",
       "      <td>2</td>\n",
       "      <td>0</td>\n",
       "      <td>2</td>\n",
       "      <td>0</td>\n",
       "      <td>3</td>\n",
       "      <td>5</td>\n",
       "      <td>52</td>\n",
       "      <td>en</td>\n",
       "      <td>None</td>\n",
       "      <td>[{\"start\":25,\"end\":34,\"data_error_potential\":0...</td>\n",
       "    </tr>\n",
       "    <tr>\n",
       "      <th>3</th>\n",
       "      <td>3</td>\n",
       "      <td>find me all of the movies that starred harold ...</td>\n",
       "      <td>3</td>\n",
       "      <td>0</td>\n",
       "      <td>2</td>\n",
       "      <td>0</td>\n",
       "      <td>3</td>\n",
       "      <td>5</td>\n",
       "      <td>67</td>\n",
       "      <td>en</td>\n",
       "      <td>None</td>\n",
       "      <td>[{\"start\":39,\"end\":51,\"data_error_potential\":0...</td>\n",
       "    </tr>\n",
       "    <tr>\n",
       "      <th>4</th>\n",
       "      <td>4</td>\n",
       "      <td>find me a movie with a quote about baseball in it</td>\n",
       "      <td>4</td>\n",
       "      <td>0</td>\n",
       "      <td>0</td>\n",
       "      <td>0</td>\n",
       "      <td>5</td>\n",
       "      <td>5</td>\n",
       "      <td>49</td>\n",
       "      <td>en</td>\n",
       "      <td>None</td>\n",
       "      <td>[{\"start\":5,\"end\":7,\"data_error_potential\":0.5...</td>\n",
       "    </tr>\n",
       "  </tbody>\n",
       "</table>\n",
       "</div>"
      ],
      "text/plain": [
       "   sample_id                                               text  id  \\\n",
       "0          0                      what movies star bruce willis   0   \n",
       "1          1   show me films with drew barrymore from the 1980s   1   \n",
       "2          2  what movies starred both al pacino and robert ...   2   \n",
       "3          3  find me all of the movies that starred harold ...   3   \n",
       "4          4  find me a movie with a quote about baseball in it   4   \n",
       "\n",
       "   missed_label  span_shift  wrong_tag  ghost_span  total_errors  \\\n",
       "0             0           1          0           1             2   \n",
       "1             0           2          0           5             7   \n",
       "2             0           2          0           3             5   \n",
       "3             0           2          0           3             5   \n",
       "4             0           0          0           5             5   \n",
       "\n",
       "   galileo_text_length galileo_language_id galileo_pii  \\\n",
       "0                   29                  en        None   \n",
       "1                   48                  en        None   \n",
       "2                   52                  en        None   \n",
       "3                   67                  en        None   \n",
       "4                   49                  en        None   \n",
       "\n",
       "                                               spans  \n",
       "0  [{\"start\":17,\"end\":29,\"data_error_potential\":0...  \n",
       "1  [{\"start\":19,\"end\":33,\"data_error_potential\":0...  \n",
       "2  [{\"start\":25,\"end\":34,\"data_error_potential\":0...  \n",
       "3  [{\"start\":39,\"end\":51,\"data_error_potential\":0...  \n",
       "4  [{\"start\":5,\"end\":7,\"data_error_potential\":0.5...  "
      ]
     },
     "metadata": {},
     "output_type": "display_data"
    }
   ],
   "source": [
    "from dataquality.schemas.task_type import TaskType\n",
    "from dataquality import config \n",
    "from uuid import uuid4\n",
    "import numpy as np\n",
    "from time import sleep\n",
    "from tqdm.notebook import tqdm\n",
    "\n",
    "\n",
    "dq.init(\"text_ner\", \"test-ner-run\")\n",
    "\n",
    "\n",
    "def log_inputs():\n",
    "    text_inputs = ['what movies star bruce willis', 'show me films with drew barrymore from the 1980s', 'what movies starred both al pacino and robert deniro', 'find me all of the movies that starred harold ramis and bill murray', 'find me a movie with a quote about baseball in it']\n",
    "    tokens = [[(0, 4), (5, 11), (12, 16), (17, 22), (17, 22), (23, 29), (23, 29)], [(0, 4), (5, 7), (8, 13), (14, 18), (19, 23), (24, 33), (24, 33), (24, 33), (34, 38), (39, 42), (43, 48)], [(0, 4), (5, 11), (12, 19), (20, 24), (25, 27), (28, 34), (28, 34), (28, 34), (35, 38), (39, 45), (39, 45), (46, 52), (46, 52)], [(0, 4), (5, 7), (8, 11), (12, 14), (15, 18), (19, 25), (26, 30), (31, 38), (39, 45), (39, 45), (39, 45), (46, 51), (46, 51), (52, 55), (56, 60), (61, 67), (61, 67), (61, 67)], [(0, 4), (5, 7), (8, 9), (10, 15), (16, 20), (21, 22), (23, 28), (29, 34), (35, 43), (44, 46), (47, 49)]]\n",
    "    gold_spans = [[{'start': 17, 'end': 29, 'label': 'ACTOR'}], [{'start': 19, 'end': 33, 'label': 'ACTOR'}, {'start': 43, 'end': 48, 'label': 'YEAR'}], [{'start': 25, 'end': 34, 'label': 'ACTOR'}, {'start': 39, 'end': 52, 'label': 'ACTOR'}], [{'start': 39, 'end': 51, 'label': 'ACTOR'}, {'start': 56, 'end': 67, 'label': 'ACTOR'}], []]\n",
    "    ids = [0, 1, 2, 3, 4]\n",
    "\n",
    "    labels = ['[PAD]', '[CLS]', '[SEP]', 'O', 'B-ACTOR', 'I-ACTOR', 'B-YEAR', 'B-TITLE', 'B-GENRE', 'I-GENRE', 'B-DIRECTOR', 'I-DIRECTOR', 'B-SONG', 'I-SONG', 'B-PLOT', 'I-PLOT', 'B-REVIEW', 'B-CHARACTER', 'I-CHARACTER', 'B-RATING', 'B-RATINGS_AVERAGE', 'I-RATINGS_AVERAGE', 'I-TITLE', 'I-RATING', 'B-TRAILER', 'I-TRAILER', 'I-REVIEW', 'I-YEAR']\n",
    "    dq.set_labels_for_run(labels)\n",
    "    dq.set_tagging_schema(\"BIO\")\n",
    "    dq.log_data_samples(texts=text_inputs, text_token_indices=tokens, ids=ids, gold_spans=gold_spans, split=\"training\")\n",
    "    dq.log_data_samples(texts=text_inputs, text_token_indices=tokens, ids=ids, gold_spans=gold_spans, split=\"validation\")\n",
    "    dq.log_data_samples(texts=text_inputs, text_token_indices=tokens, ids=ids, gold_spans=gold_spans, split=\"test\")\n",
    "\n",
    "def log_outputs():\n",
    "    num_classes = 28\n",
    "    embs = [np.random.rand(119, 768) for _ in range(5)]\n",
    "    logits= [np.random.rand(119, 28) for _ in range(5)]                                      \n",
    "    ids= list(range(5))\n",
    "    for epoch in tqdm(range(6)):\n",
    "        for split in [\"training\", \"test\", \"validation\"]:\n",
    "            dq.log_model_outputs(\n",
    "                embs=embs, logits=logits, ids=ids, split=split, epoch=epoch\n",
    "            )\n",
    "    \n",
    "def finish():\n",
    "    dq.finish()\n",
    "    \n",
    "    \n",
    "def runit():\n",
    "    log_inputs()\n",
    "    log_outputs()\n",
    "    finish()\n",
    "    \n",
    "runit()\n",
    "df_train, df_test, df_val = see_results()"
   ]
  },
  {
   "cell_type": "code",
   "execution_count": null,
   "id": "e488fe50",
   "metadata": {},
   "outputs": [],
   "source": []
  }
 ],
 "metadata": {
  "kernelspec": {
   "display_name": "Python 3 (ipykernel)",
   "language": "python",
   "name": "python3"
  },
  "language_info": {
   "codemirror_mode": {
    "name": "ipython",
    "version": 3
   },
   "file_extension": ".py",
   "mimetype": "text/x-python",
   "name": "python",
   "nbconvert_exporter": "python",
   "pygments_lexer": "ipython3",
   "version": "3.9.6"
  }
 },
 "nbformat": 4,
 "nbformat_minor": 5
}
