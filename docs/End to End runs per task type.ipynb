{
 "cells": [
  {
   "cell_type": "markdown",
   "id": "579f0cbf",
   "metadata": {},
   "source": [
    "## End to end examples logging data to Galileo for Text Classification, MLTC, and NER"
   ]
  },
  {
   "cell_type": "markdown",
   "id": "27921069",
   "metadata": {},
   "source": [
    "### For understanding the client and how to get started, see the [Dataquality Demo](./Dataquality-Client-Demo.ipynb)\n",
    "### Check out the full documentation [here](https://rungalileo.gitbook.io/galileo/getting-started)\n",
    "### To see real end-to-end notebooks training real ML models, see [here](https://drive.google.com/drive/folders/17-cHuRzXIpWaD8rYwy69RMQr__HiAiDk?usp=sharing)"
   ]
  },
  {
   "cell_type": "code",
   "execution_count": 1,
   "id": "df9b0c5a",
   "metadata": {},
   "outputs": [],
   "source": [
    "## Local\n",
    "\n",
    "import os\n",
    "\n",
    "os.environ['GALILEO_CONSOLE_URL']=\"http://localhost:8088\"\n",
    "os.environ[\"GALILEO_USERNAME\"]=\"user@example.com\"\n",
    "os.environ[\"GALILEO_PASSWORD\"]=\"Th3secret_\""
   ]
  },
  {
   "cell_type": "code",
   "execution_count": 2,
   "id": "cfe0711c",
   "metadata": {
    "scrolled": true
   },
   "outputs": [
    {
     "name": "stdout",
     "output_type": "stream",
     "text": [
      "📡 http://localhost:8088\n",
      "🔭 Logging you into Galileo\n",
      "\n",
      "👀 Found auth method email set via env, skipping prompt.\n",
      "🚀 You're logged in to Galileo as user@example.com!\n"
     ]
    }
   ],
   "source": [
    "import dataquality as dq\n",
    "dq.configure()"
   ]
  },
  {
   "cell_type": "markdown",
   "id": "9b357b36",
   "metadata": {},
   "source": [
    "***Helper function***"
   ]
  },
  {
   "cell_type": "code",
   "execution_count": 3,
   "id": "4092c580",
   "metadata": {},
   "outputs": [],
   "source": [
    "from dataquality import config\n",
    "import pandas as pd\n",
    "from dataquality.clients.api import ApiClient\n",
    "from time import sleep\n",
    "\n",
    "\n",
    "api_client = ApiClient()\n",
    "\n",
    "\n",
    "def see_results(wait=True, body={}):\n",
    "    if wait:\n",
    "        print(\"Waiting for data to be processed\")\n",
    "        api_client.wait_for_run()\n",
    "\n",
    "    task_type = dq.config.task_type\n",
    "    proj = api_client.get_project(config.current_project_id)[\"name\"]\n",
    "    run = api_client.get_project_run(config.current_project_id, config.current_run_id)[\"name\"]\n",
    "    api_client.export_run(proj, run, \"training\", f\"{task_type}_training.csv\")\n",
    "    api_client.export_run(proj, run, \"test\", f\"{task_type}_test.csv\")\n",
    "    api_client.export_run(proj, run, \"validation\", f\"{task_type}_validation.csv\")\n",
    "    print(f\"Exported to {task_type}_training.csv, {task_type}_test.csv, and {task_type}_validation.csv\")\n",
    "    df_train = pd.read_csv(f\"{task_type}_training.csv\")\n",
    "    df_test = pd.read_csv(f\"{task_type}_test.csv\")\n",
    "    df_val = pd.read_csv(f\"{task_type}_validation.csv\")\n",
    "    print(\"Training\")\n",
    "    display(df_train)\n",
    "    print(\"\\nTest\")\n",
    "    display(df_test)\n",
    "    print(\"\\nValidation\")\n",
    "    display(df_val)\n",
    "    return df_train, df_test, df_val"
   ]
  },
  {
   "cell_type": "markdown",
   "id": "fe82cc51",
   "metadata": {},
   "source": [
    "## NER"
   ]
  },
  {
   "cell_type": "code",
   "execution_count": 4,
   "id": "eb6ba254",
   "metadata": {},
   "outputs": [
    {
     "name": "stdout",
     "output_type": "stream",
     "text": [
      "📡 Retrieving run from existing project, test-ner-proj\n",
      "🛰 Connected to project, test-ner-proj, and run, test-ner-run.\n"
     ]
    },
    {
     "name": "stderr",
     "output_type": "stream",
     "text": [
      "/Users/elliottchartock/Code/dataquality/.venv/lib/python3.9/site-packages/dataquality/core/init.py:164: UserWarning: Run: test-ner-proj/test-ner-run already exists! The existing run will get overwritten on call to finish()!\n",
      "  warnings.warn(\n"
     ]
    }
   ],
   "source": [
    "from dataquality.schemas.task_type import TaskType\n",
    "from dataquality import config \n",
    "from uuid import uuid4\n",
    "import numpy as np\n",
    "from time import sleep\n",
    "from tqdm.notebook import tqdm\n",
    "\n",
    "\n",
    "dq.init(\"text_ner\", \"test-ner-proj\", \"test-ner-run\")\n",
    "\n",
    "\n",
    "def log_inputs():\n",
    "    text_inputs = ['what movies star bruce willis', 'show me films with drew barrymore from the 1980s', 'what movies starred both al pacino and robert deniro', 'find me all of the movies that starred harold ramis and bill murray', 'find me a movie with a quote about baseball in it']\n",
    "    tokens = [[(0, 4), (5, 11), (12, 16), (17, 22), (17, 22), (23, 29), (23, 29)], [(0, 4), (5, 7), (8, 13), (14, 18), (19, 23), (24, 33), (24, 33), (24, 33), (34, 38), (39, 42), (43, 48)], [(0, 4), (5, 11), (12, 19), (20, 24), (25, 27), (28, 34), (28, 34), (28, 34), (35, 38), (39, 45), (39, 45), (46, 52), (46, 52)], [(0, 4), (5, 7), (8, 11), (12, 14), (15, 18), (19, 25), (26, 30), (31, 38), (39, 45), (39, 45), (39, 45), (46, 51), (46, 51), (52, 55), (56, 60), (61, 67), (61, 67), (61, 67)], [(0, 4), (5, 7), (8, 9), (10, 15), (16, 20), (21, 22), (23, 28), (29, 34), (35, 43), (44, 46), (47, 49)]]\n",
    "    gold_spans = [[{'start': 17, 'end': 29, 'label': 'ACTOR'}], [{'start': 19, 'end': 33, 'label': 'ACTOR'}, {'start': 43, 'end': 48, 'label': 'YEAR'}], [{'start': 25, 'end': 34, 'label': 'ACTOR'}, {'start': 39, 'end': 52, 'label': 'ACTOR'}], [{'start': 39, 'end': 51, 'label': 'ACTOR'}, {'start': 56, 'end': 67, 'label': 'ACTOR'}], []]\n",
    "    ids = [0, 1, 2, 3, 4]\n",
    "\n",
    "    labels = ['[PAD]', '[CLS]', '[SEP]', 'O', 'B-ACTOR', 'I-ACTOR', 'B-YEAR', 'B-TITLE', 'B-GENRE', 'I-GENRE', 'B-DIRECTOR', 'I-DIRECTOR', 'B-SONG', 'I-SONG', 'B-PLOT', 'I-PLOT', 'B-REVIEW', 'B-CHARACTER', 'I-CHARACTER', 'B-RATING', 'B-RATINGS_AVERAGE', 'I-RATINGS_AVERAGE', 'I-TITLE', 'I-RATING', 'B-TRAILER', 'I-TRAILER', 'I-REVIEW', 'I-YEAR']\n",
    "    dq.set_labels_for_run(labels)\n",
    "    dq.set_tagging_schema(\"BIO\")\n",
    "    # dq.log_data_samples(texts=text_inputs, text_token_indices=tokens, ids=ids, gold_spans=gold_spans, split=\"training\")\n",
    "    # dq.log_data_samples(texts=text_inputs, text_token_indices=tokens, ids=ids, gold_spans=gold_spans, split=\"validation\")\n",
    "    dq.log_data_samples(texts=text_inputs, text_token_indices=tokens, ids=ids, split=\"inference\", inference_name=\"hi\")\n",
    "\n",
    "def log_outputs():\n",
    "    num_classes = 28\n",
    "    embs = [np.random.rand(119, 768) for _ in range(5)]\n",
    "    logits= [np.random.rand(119, 28) for _ in range(5)]                                      \n",
    "    ids= list(range(5))\n",
    "    for split in [\"inference\"]:\n",
    "        dq.log_model_outputs(\n",
    "            embs=embs, logits=logits, ids=ids, split=split, inference_name=\"hi\"\n",
    "        )\n",
    "    \n",
    "def finish():\n",
    "    dq.finish()\n",
    "    \n",
    "    \n",
    "def runit():\n",
    "    log_inputs()\n",
    "    log_outputs()\n",
    "    finish()\n",
    "    \n",
    "# runit()\n",
    "# df_train, df_test, df_val = see_results()"
   ]
  },
  {
   "cell_type": "code",
   "execution_count": 5,
   "id": "2d5fbcbd-dad1-48da-ab86-cb9151825c57",
   "metadata": {},
   "outputs": [
    {
     "name": "stdout",
     "output_type": "stream",
     "text": [
      "Logging 5 samples [########################################] 100.00% elapsed time  :     0.00s =  0.0m =  0.0h\n",
      " "
     ]
    }
   ],
   "source": [
    "log_inputs()"
   ]
  },
  {
   "cell_type": "code",
   "execution_count": 6,
   "id": "67e6e2a1-09b4-4b6e-ba04-f32a4a16054c",
   "metadata": {},
   "outputs": [],
   "source": [
    "log_outputs()"
   ]
  },
  {
   "cell_type": "code",
   "execution_count": 7,
   "id": "261c2088-e695-4642-aacb-09b34a6bb56e",
   "metadata": {},
   "outputs": [
    {
     "name": "stdout",
     "output_type": "stream",
     "text": [
      "☁️ Uploading Data\n"
     ]
    },
    {
     "data": {
      "application/json": {
       "ascii": false,
       "bar_format": null,
       "colour": null,
       "elapsed": 0.030601978302001953,
       "initial": 0,
       "n": 0,
       "ncols": null,
       "nrows": 24,
       "postfix": null,
       "prefix": "inference",
       "rate": null,
       "total": 1,
       "unit": "it",
       "unit_divisor": 1000,
       "unit_scale": false
      },
      "application/vnd.jupyter.widget-view+json": {
       "model_id": "2968cb9eface4b52912febc851c69e99",
       "version_major": 2,
       "version_minor": 0
      },
      "text/plain": [
       "inference:   0%|          | 0/1 [00:00<?, ?it/s]"
      ]
     },
     "metadata": {},
     "output_type": "display_data"
    },
    {
     "data": {
      "application/json": {
       "ascii": false,
       "bar_format": null,
       "colour": null,
       "elapsed": 0.017416000366210938,
       "initial": 0,
       "n": 0,
       "ncols": null,
       "nrows": 24,
       "postfix": null,
       "prefix": "Processing data for upload",
       "rate": null,
       "total": 1,
       "unit": "it",
       "unit_divisor": 1000,
       "unit_scale": false
      },
      "application/vnd.jupyter.widget-view+json": {
       "model_id": "dd93d3c358ec4deca8bbc243f088d74b",
       "version_major": 2,
       "version_minor": 0
      },
      "text/plain": [
       "Processing data for upload:   0%|          | 0/1 [00:00<?, ?it/s]"
      ]
     },
     "metadata": {},
     "output_type": "display_data"
    },
    {
     "name": "stdout",
     "output_type": "stream",
     "text": [
      "> \u001b[0;32m/Users/elliottchartock/Code/dataquality/.venv/lib/python3.9/site-packages/dataquality/loggers/data_logger/text_ner.py\u001b[0m(676)\u001b[0;36msplit_dataframe\u001b[0;34m()\u001b[0m\n",
      "\u001b[0;32m    674 \u001b[0;31m\u001b[0;34m\u001b[0m\u001b[0m\n",
      "\u001b[0m\u001b[0;32m    675 \u001b[0;31m        \u001b[0;32mimport\u001b[0m \u001b[0mpdb\u001b[0m\u001b[0;34m;\u001b[0m \u001b[0mpdb\u001b[0m\u001b[0;34m.\u001b[0m\u001b[0mset_trace\u001b[0m\u001b[0;34m(\u001b[0m\u001b[0;34m)\u001b[0m\u001b[0;34m\u001b[0m\u001b[0;34m\u001b[0m\u001b[0m\n",
      "\u001b[0m\u001b[0;32m--> 676 \u001b[0;31m        \u001b[0mprob\u001b[0m \u001b[0;34m=\u001b[0m \u001b[0mdf_copy\u001b[0m\u001b[0;34m[\u001b[0m\u001b[0mprob_cols\u001b[0m\u001b[0;34m]\u001b[0m\u001b[0;34m\u001b[0m\u001b[0;34m\u001b[0m\u001b[0m\n",
      "\u001b[0m\u001b[0;32m    677 \u001b[0;31m        emb_cols = (\n",
      "\u001b[0m\u001b[0;32m    678 \u001b[0;31m            \u001b[0;34m[\u001b[0m\u001b[0mNERCols\u001b[0m\u001b[0;34m.\u001b[0m\u001b[0mid\u001b[0m\u001b[0;34m.\u001b[0m\u001b[0mvalue\u001b[0m\u001b[0;34m]\u001b[0m \u001b[0;32mif\u001b[0m \u001b[0mprob_only\u001b[0m \u001b[0;32melse\u001b[0m \u001b[0;34m[\u001b[0m\u001b[0mNERCols\u001b[0m\u001b[0;34m.\u001b[0m\u001b[0mid\u001b[0m\u001b[0;34m.\u001b[0m\u001b[0mvalue\u001b[0m\u001b[0;34m,\u001b[0m \u001b[0mNERCols\u001b[0m\u001b[0;34m.\u001b[0m\u001b[0memb\u001b[0m\u001b[0;34m.\u001b[0m\u001b[0mvalue\u001b[0m\u001b[0;34m]\u001b[0m\u001b[0;34m\u001b[0m\u001b[0;34m\u001b[0m\u001b[0m\n",
      "\u001b[0m\n"
     ]
    },
    {
     "name": "stdin",
     "output_type": "stream",
     "text": [
      "ipdb>  n\n"
     ]
    },
    {
     "name": "stdout",
     "output_type": "stream",
     "text": [
      "> \u001b[0;32m/Users/elliottchartock/Code/dataquality/.venv/lib/python3.9/site-packages/dataquality/loggers/data_logger/text_ner.py\u001b[0m(678)\u001b[0;36msplit_dataframe\u001b[0;34m()\u001b[0m\n",
      "\u001b[0;32m    676 \u001b[0;31m        \u001b[0mprob\u001b[0m \u001b[0;34m=\u001b[0m \u001b[0mdf_copy\u001b[0m\u001b[0;34m[\u001b[0m\u001b[0mprob_cols\u001b[0m\u001b[0;34m]\u001b[0m\u001b[0;34m\u001b[0m\u001b[0;34m\u001b[0m\u001b[0m\n",
      "\u001b[0m\u001b[0;32m    677 \u001b[0;31m        emb_cols = (\n",
      "\u001b[0m\u001b[0;32m--> 678 \u001b[0;31m            \u001b[0;34m[\u001b[0m\u001b[0mNERCols\u001b[0m\u001b[0;34m.\u001b[0m\u001b[0mid\u001b[0m\u001b[0;34m.\u001b[0m\u001b[0mvalue\u001b[0m\u001b[0;34m]\u001b[0m \u001b[0;32mif\u001b[0m \u001b[0mprob_only\u001b[0m \u001b[0;32melse\u001b[0m \u001b[0;34m[\u001b[0m\u001b[0mNERCols\u001b[0m\u001b[0;34m.\u001b[0m\u001b[0mid\u001b[0m\u001b[0;34m.\u001b[0m\u001b[0mvalue\u001b[0m\u001b[0;34m,\u001b[0m \u001b[0mNERCols\u001b[0m\u001b[0;34m.\u001b[0m\u001b[0memb\u001b[0m\u001b[0;34m.\u001b[0m\u001b[0mvalue\u001b[0m\u001b[0;34m]\u001b[0m\u001b[0;34m\u001b[0m\u001b[0;34m\u001b[0m\u001b[0m\n",
      "\u001b[0m\u001b[0;32m    679 \u001b[0;31m        )\n",
      "\u001b[0m\u001b[0;32m    680 \u001b[0;31m        \u001b[0memb\u001b[0m \u001b[0;34m=\u001b[0m \u001b[0mdf_copy\u001b[0m\u001b[0;34m[\u001b[0m\u001b[0memb_cols\u001b[0m\u001b[0;34m]\u001b[0m\u001b[0;34m\u001b[0m\u001b[0;34m\u001b[0m\u001b[0m\n",
      "\u001b[0m\n"
     ]
    },
    {
     "name": "stdin",
     "output_type": "stream",
     "text": [
      "ipdb>  n\n"
     ]
    },
    {
     "name": "stdout",
     "output_type": "stream",
     "text": [
      "> \u001b[0;32m/Users/elliottchartock/Code/dataquality/.venv/lib/python3.9/site-packages/dataquality/loggers/data_logger/text_ner.py\u001b[0m(677)\u001b[0;36msplit_dataframe\u001b[0;34m()\u001b[0m\n",
      "\u001b[0;32m    675 \u001b[0;31m        \u001b[0;32mimport\u001b[0m \u001b[0mpdb\u001b[0m\u001b[0;34m;\u001b[0m \u001b[0mpdb\u001b[0m\u001b[0;34m.\u001b[0m\u001b[0mset_trace\u001b[0m\u001b[0;34m(\u001b[0m\u001b[0;34m)\u001b[0m\u001b[0;34m\u001b[0m\u001b[0;34m\u001b[0m\u001b[0m\n",
      "\u001b[0m\u001b[0;32m    676 \u001b[0;31m        \u001b[0mprob\u001b[0m \u001b[0;34m=\u001b[0m \u001b[0mdf_copy\u001b[0m\u001b[0;34m[\u001b[0m\u001b[0mprob_cols\u001b[0m\u001b[0;34m]\u001b[0m\u001b[0;34m\u001b[0m\u001b[0;34m\u001b[0m\u001b[0m\n",
      "\u001b[0m\u001b[0;32m--> 677 \u001b[0;31m        emb_cols = (\n",
      "\u001b[0m\u001b[0;32m    678 \u001b[0;31m            \u001b[0;34m[\u001b[0m\u001b[0mNERCols\u001b[0m\u001b[0;34m.\u001b[0m\u001b[0mid\u001b[0m\u001b[0;34m.\u001b[0m\u001b[0mvalue\u001b[0m\u001b[0;34m]\u001b[0m \u001b[0;32mif\u001b[0m \u001b[0mprob_only\u001b[0m \u001b[0;32melse\u001b[0m \u001b[0;34m[\u001b[0m\u001b[0mNERCols\u001b[0m\u001b[0;34m.\u001b[0m\u001b[0mid\u001b[0m\u001b[0;34m.\u001b[0m\u001b[0mvalue\u001b[0m\u001b[0;34m,\u001b[0m \u001b[0mNERCols\u001b[0m\u001b[0;34m.\u001b[0m\u001b[0memb\u001b[0m\u001b[0;34m.\u001b[0m\u001b[0mvalue\u001b[0m\u001b[0;34m]\u001b[0m\u001b[0;34m\u001b[0m\u001b[0;34m\u001b[0m\u001b[0m\n",
      "\u001b[0m\u001b[0;32m    679 \u001b[0;31m        )\n",
      "\u001b[0m\n"
     ]
    },
    {
     "name": "stdin",
     "output_type": "stream",
     "text": [
      "ipdb>  n\n"
     ]
    },
    {
     "name": "stdout",
     "output_type": "stream",
     "text": [
      "> \u001b[0;32m/Users/elliottchartock/Code/dataquality/.venv/lib/python3.9/site-packages/dataquality/loggers/data_logger/text_ner.py\u001b[0m(680)\u001b[0;36msplit_dataframe\u001b[0;34m()\u001b[0m\n",
      "\u001b[0;32m    678 \u001b[0;31m            \u001b[0;34m[\u001b[0m\u001b[0mNERCols\u001b[0m\u001b[0;34m.\u001b[0m\u001b[0mid\u001b[0m\u001b[0;34m.\u001b[0m\u001b[0mvalue\u001b[0m\u001b[0;34m]\u001b[0m \u001b[0;32mif\u001b[0m \u001b[0mprob_only\u001b[0m \u001b[0;32melse\u001b[0m \u001b[0;34m[\u001b[0m\u001b[0mNERCols\u001b[0m\u001b[0;34m.\u001b[0m\u001b[0mid\u001b[0m\u001b[0;34m.\u001b[0m\u001b[0mvalue\u001b[0m\u001b[0;34m,\u001b[0m \u001b[0mNERCols\u001b[0m\u001b[0;34m.\u001b[0m\u001b[0memb\u001b[0m\u001b[0;34m.\u001b[0m\u001b[0mvalue\u001b[0m\u001b[0;34m]\u001b[0m\u001b[0;34m\u001b[0m\u001b[0;34m\u001b[0m\u001b[0m\n",
      "\u001b[0m\u001b[0;32m    679 \u001b[0;31m        )\n",
      "\u001b[0m\u001b[0;32m--> 680 \u001b[0;31m        \u001b[0memb\u001b[0m \u001b[0;34m=\u001b[0m \u001b[0mdf_copy\u001b[0m\u001b[0;34m[\u001b[0m\u001b[0memb_cols\u001b[0m\u001b[0;34m]\u001b[0m\u001b[0;34m\u001b[0m\u001b[0;34m\u001b[0m\u001b[0m\n",
      "\u001b[0m\u001b[0;32m    681 \u001b[0;31m        \u001b[0;32mreturn\u001b[0m \u001b[0mprob\u001b[0m\u001b[0;34m,\u001b[0m \u001b[0memb\u001b[0m\u001b[0;34m,\u001b[0m \u001b[0mdf_copy\u001b[0m\u001b[0;34m\u001b[0m\u001b[0;34m\u001b[0m\u001b[0m\n",
      "\u001b[0m\u001b[0;32m    682 \u001b[0;31m\u001b[0;34m\u001b[0m\u001b[0m\n",
      "\u001b[0m\n"
     ]
    },
    {
     "name": "stdin",
     "output_type": "stream",
     "text": [
      "ipdb>  n\n"
     ]
    },
    {
     "name": "stdout",
     "output_type": "stream",
     "text": [
      "> \u001b[0;32m/Users/elliottchartock/Code/dataquality/.venv/lib/python3.9/site-packages/dataquality/loggers/data_logger/text_ner.py\u001b[0m(681)\u001b[0;36msplit_dataframe\u001b[0;34m()\u001b[0m\n",
      "\u001b[0;32m    679 \u001b[0;31m        )\n",
      "\u001b[0m\u001b[0;32m    680 \u001b[0;31m        \u001b[0memb\u001b[0m \u001b[0;34m=\u001b[0m \u001b[0mdf_copy\u001b[0m\u001b[0;34m[\u001b[0m\u001b[0memb_cols\u001b[0m\u001b[0;34m]\u001b[0m\u001b[0;34m\u001b[0m\u001b[0;34m\u001b[0m\u001b[0m\n",
      "\u001b[0m\u001b[0;32m--> 681 \u001b[0;31m        \u001b[0;32mreturn\u001b[0m \u001b[0mprob\u001b[0m\u001b[0;34m,\u001b[0m \u001b[0memb\u001b[0m\u001b[0;34m,\u001b[0m \u001b[0mdf_copy\u001b[0m\u001b[0;34m\u001b[0m\u001b[0;34m\u001b[0m\u001b[0m\n",
      "\u001b[0m\u001b[0;32m    682 \u001b[0;31m\u001b[0;34m\u001b[0m\u001b[0m\n",
      "\u001b[0m\u001b[0;32m    683 \u001b[0;31m    \u001b[0;34m@\u001b[0m\u001b[0mclassmethod\u001b[0m\u001b[0;34m\u001b[0m\u001b[0;34m\u001b[0m\u001b[0m\n",
      "\u001b[0m\n"
     ]
    },
    {
     "name": "stdin",
     "output_type": "stream",
     "text": [
      "ipdb>  emb\n"
     ]
    },
    {
     "name": "stdout",
     "output_type": "stream",
     "text": [
      "#    id    emb\n",
      "0    0     'array([4.12751441e-02, 2.26012504e-01, 4.893858...\n",
      "1    1     'array([0.28743579, 0.08962294, 0.61891793, 0.06...\n",
      "2    2     'array([7.85238202e-01, 5.57790582e-01, 3.697707...\n",
      "3    3     'array([1.27612893e-01, 6.59336072e-01, 1.998711...\n",
      "4    4     'array([4.95929053e-01, 3.90360786e-01, 6.374875...\n",
      "...  ...   ...\n",
      "15   15    'array([3.83869839e-01, 9.37352625e-01, 4.037045...\n",
      "16   16    'array([0.46408676, 0.85385739, 0.47763837, 0.01...\n",
      "17   17    'array([5.63899767e-01, 8.14417589e-01, 9.385170...\n",
      "18   18    'array([0.71919333, 0.46569847, 0.24211421, 0.29...\n",
      "19   19    'array([0.100714  , 0.52286334, 0.59620149, 0.70...\n"
     ]
    },
    {
     "name": "stdin",
     "output_type": "stream",
     "text": [
      "ipdb>  prob\n"
     ]
    },
    {
     "name": "stdout",
     "output_type": "stream",
     "text": [
      "#    id    sample_id    split      is_pred    span_start    span_end    pred             inference_name\n",
      "0    0     0            inference  True       4             5           YEAR             hi\n",
      "1    1     1            inference  True       1             2           YEAR             hi\n",
      "2    2     1            inference  True       5             6           REVIEW           hi\n",
      "3    3     2            inference  True       1             2           RATINGS_AVERAGE  hi\n",
      "4    4     2            inference  True       2             3           REVIEW           hi\n",
      "...  ...   ...          ...        ...        ...           ...         ...              ...\n",
      "15   15    3            inference  True       14            15          REVIEW           hi\n",
      "16   16    3            inference  True       16            17          GENRE            hi\n",
      "17   17    4            inference  True       4             5           DIRECTOR         hi\n",
      "18   18    4            inference  True       5             6           CHARACTER        hi\n",
      "19   19    4            inference  True       10            11          RATING           hi\n"
     ]
    },
    {
     "name": "stdin",
     "output_type": "stream",
     "text": [
      "ipdb>  df_copy\n"
     ]
    },
    {
     "name": "stdout",
     "output_type": "stream",
     "text": [
      "#    data_schema_version    emb                                                  epoch    inference_name    is_pred    pred             sample_id    span_end    span_start    split      id\n",
      "0    1                      'array([4.12751441e-02, 2.26012504e-01, 4.893858...  nan      hi                True       YEAR             0            5           4             inference  0\n",
      "1    1                      'array([0.28743579, 0.08962294, 0.61891793, 0.06...  nan      hi                True       YEAR             1            2           1             inference  1\n",
      "2    1                      'array([7.85238202e-01, 5.57790582e-01, 3.697707...  nan      hi                True       REVIEW           1            6           5             inference  2\n",
      "3    1                      'array([1.27612893e-01, 6.59336072e-01, 1.998711...  nan      hi                True       RATINGS_AVERAGE  2            2           1             inference  3\n",
      "4    1                      'array([4.95929053e-01, 3.90360786e-01, 6.374875...  nan      hi                True       REVIEW           2            3           2             inference  4\n",
      "...  ...                    ...                                                  ...      ...               ...        ...              ...          ...         ...           ...        ...\n",
      "15   1                      'array([3.83869839e-01, 9.37352625e-01, 4.037045...  nan      hi                True       REVIEW           3            15          14            inference  15\n",
      "16   1                      'array([0.46408676, 0.85385739, 0.47763837, 0.01...  nan      hi                True       GENRE            3            17          16            inference  16\n",
      "17   1                      'array([5.63899767e-01, 8.14417589e-01, 9.385170...  nan      hi                True       DIRECTOR         4            5           4             inference  17\n",
      "18   1                      'array([0.71919333, 0.46569847, 0.24211421, 0.29...  nan      hi                True       CHARACTER        4            6           5             inference  18\n",
      "19   1                      'array([0.100714  , 0.52286334, 0.59620149, 0.70...  nan      hi                True       RATING           4            11          10            inference  19\n"
     ]
    },
    {
     "name": "stdin",
     "output_type": "stream",
     "text": [
      "ipdb>  c\n"
     ]
    },
    {
     "name": "stdout",
     "output_type": "stream",
     "text": [
      "> \u001b[0;32m/Users/elliottchartock/Code/dataquality/.venv/lib/python3.9/site-packages/dataquality/loggers/data_logger/base_data_logger.py\u001b[0m(221)\u001b[0;36mupload_split\u001b[0;34m()\u001b[0m\n",
      "\u001b[0;32m    219 \u001b[0;31m            )\n",
      "\u001b[0m\u001b[0;32m    220 \u001b[0;31m            \u001b[0;32mimport\u001b[0m \u001b[0mpdb\u001b[0m\u001b[0;34m;\u001b[0m \u001b[0mpdb\u001b[0m\u001b[0;34m.\u001b[0m\u001b[0mset_trace\u001b[0m\u001b[0;34m(\u001b[0m\u001b[0;34m)\u001b[0m\u001b[0;34m\u001b[0m\u001b[0;34m\u001b[0m\u001b[0m\n",
      "\u001b[0m\u001b[0;32m--> 221 \u001b[0;31m            \u001b[0mcls\u001b[0m\u001b[0;34m.\u001b[0m\u001b[0mupload_in_out_frames\u001b[0m\u001b[0;34m(\u001b[0m\u001b[0mobject_store\u001b[0m\u001b[0;34m,\u001b[0m \u001b[0min_out_frames\u001b[0m\u001b[0;34m,\u001b[0m \u001b[0msplit\u001b[0m\u001b[0;34m,\u001b[0m \u001b[0mepoch_or_inf\u001b[0m\u001b[0;34m)\u001b[0m\u001b[0;34m\u001b[0m\u001b[0;34m\u001b[0m\u001b[0m\n",
      "\u001b[0m\u001b[0;32m    222 \u001b[0;31m\u001b[0;34m\u001b[0m\u001b[0m\n",
      "\u001b[0m\u001b[0;32m    223 \u001b[0;31m    \u001b[0;34m@\u001b[0m\u001b[0mclassmethod\u001b[0m\u001b[0;34m\u001b[0m\u001b[0;34m\u001b[0m\u001b[0m\n",
      "\u001b[0m\n"
     ]
    },
    {
     "name": "stdin",
     "output_type": "stream",
     "text": [
      "ipdb>  c\n"
     ]
    },
    {
     "data": {
      "application/json": {
       "ascii": false,
       "bar_format": null,
       "colour": null,
       "elapsed": 0.019169092178344727,
       "initial": 0,
       "n": 0,
       "ncols": null,
       "nrows": 24,
       "postfix": null,
       "prefix": "inference (inf_name=hi)",
       "rate": null,
       "total": 3,
       "unit": "it",
       "unit_divisor": 1000,
       "unit_scale": false
      },
      "application/vnd.jupyter.widget-view+json": {
       "model_id": "6f21e21a237d4e209e1a6ebd1b2f7840",
       "version_major": 2,
       "version_minor": 0
      },
      "text/plain": [
       "inference (inf_name=hi):   0%|          | 0/3 [00:00<?, ?it/s]"
      ]
     },
     "metadata": {},
     "output_type": "display_data"
    },
    {
     "data": {
      "application/json": {
       "ascii": false,
       "bar_format": null,
       "colour": null,
       "elapsed": 0.01904010772705078,
       "initial": 0,
       "n": 0,
       "ncols": null,
       "nrows": 24,
       "postfix": null,
       "prefix": "Uploading data to Galileo",
       "rate": null,
       "total": 135704,
       "unit": "B",
       "unit_divisor": 1024,
       "unit_scale": true
      },
      "application/vnd.jupyter.widget-view+json": {
       "model_id": "f6f6a38077844e5485978f73f0b65ba3",
       "version_major": 2,
       "version_minor": 0
      },
      "text/plain": [
       "Uploading data to Galileo:   0%|          | 0.00/133k [00:00<?, ?B/s]"
      ]
     },
     "metadata": {},
     "output_type": "display_data"
    },
    {
     "data": {
      "application/json": {
       "ascii": false,
       "bar_format": null,
       "colour": null,
       "elapsed": 0.017786264419555664,
       "initial": 0,
       "n": 0,
       "ncols": null,
       "nrows": 24,
       "postfix": null,
       "prefix": "Uploading data to Galileo",
       "rate": null,
       "total": 20880,
       "unit": "B",
       "unit_divisor": 1024,
       "unit_scale": true
      },
      "application/vnd.jupyter.widget-view+json": {
       "model_id": "e5e83082c9714a4fa86be1a3d6bc2704",
       "version_major": 2,
       "version_minor": 0
      },
      "text/plain": [
       "Uploading data to Galileo:   0%|          | 0.00/20.4k [00:00<?, ?B/s]"
      ]
     },
     "metadata": {},
     "output_type": "display_data"
    },
    {
     "data": {
      "application/json": {
       "ascii": false,
       "bar_format": null,
       "colour": null,
       "elapsed": 0.01722097396850586,
       "initial": 0,
       "n": 0,
       "ncols": null,
       "nrows": 24,
       "postfix": null,
       "prefix": "Uploading data to Galileo",
       "rate": null,
       "total": 1352,
       "unit": "B",
       "unit_divisor": 1024,
       "unit_scale": true
      },
      "application/vnd.jupyter.widget-view+json": {
       "model_id": "1c01a4d6bad340a289e33794f81bcac9",
       "version_major": 2,
       "version_minor": 0
      },
      "text/plain": [
       "Uploading data to Galileo:   0%|          | 0.00/1.32k [00:00<?, ?B/s]"
      ]
     },
     "metadata": {},
     "output_type": "display_data"
    },
    {
     "name": "stdout",
     "output_type": "stream",
     "text": [
      "> \u001b[0;32m/Users/elliottchartock/Code/dataquality/.venv/lib/python3.9/site-packages/dataquality/core/finish.py\u001b[0m(61)\u001b[0;36mfinish\u001b[0;34m()\u001b[0m\n",
      "\u001b[0;32m     59 \u001b[0;31m        )\n",
      "\u001b[0m\u001b[0;32m     60 \u001b[0;31m    \u001b[0;32mimport\u001b[0m \u001b[0mpdb\u001b[0m\u001b[0;34m;\u001b[0m \u001b[0mpdb\u001b[0m\u001b[0;34m.\u001b[0m\u001b[0mset_trace\u001b[0m\u001b[0;34m(\u001b[0m\u001b[0;34m)\u001b[0m\u001b[0;34m\u001b[0m\u001b[0;34m\u001b[0m\u001b[0m\n",
      "\u001b[0m\u001b[0;32m---> 61 \u001b[0;31m    res = api_client.make_request(\n",
      "\u001b[0m\u001b[0;32m     62 \u001b[0;31m        \u001b[0mRequestType\u001b[0m\u001b[0;34m.\u001b[0m\u001b[0mPOST\u001b[0m\u001b[0;34m,\u001b[0m \u001b[0murl\u001b[0m\u001b[0;34m=\u001b[0m\u001b[0;34mf\"{config.api_url}/{Route.jobs}\"\u001b[0m\u001b[0;34m,\u001b[0m \u001b[0mbody\u001b[0m\u001b[0;34m=\u001b[0m\u001b[0mbody\u001b[0m\u001b[0;34m\u001b[0m\u001b[0;34m\u001b[0m\u001b[0m\n",
      "\u001b[0m\u001b[0;32m     63 \u001b[0;31m    )\n",
      "\u001b[0m\n"
     ]
    },
    {
     "name": "stdin",
     "output_type": "stream",
     "text": [
      "ipdb>  c\n"
     ]
    },
    {
     "name": "stdout",
     "output_type": "stream",
     "text": [
      "Job inference successfully submitted. Results will be available soon at http://127.0.0.1:3000/insights?projectId=86426353-ba08-4b02-995a-7c62c77f1de9&runId=7d079a21-c1a9-45aa-b9c8-99ec384726a7&split=training&depHigh=1&depLow=0&taskType=2\n",
      "Waiting for job...\n"
     ]
    },
    {
     "ename": "GalileoException",
     "evalue": "It seems your run failed with status failed, error \"Failed background job: Inference is not yet support for NER\\n\\nTraceback (most recent call last):\\n  File \\\"/Users/elliottchartock/Code/runners/.venv/lib/python3.9/site-packages/runners/servicers/vaex_runner_servicer.py\\\", line 145, in _run\\n    job_fn()\\n  File \\\"/Users/elliottchartock/Code/runners/.venv/lib/python3.9/site-packages/ddtrace/tracer.py\\\", line 920, in func_wrapper\\n    return f(*args, **kwargs)\\n  File \\\"/Users/elliottchartock/Code/runners/.venv/lib/python3.9/site-packages/rungalileo/services/vaex/base_vaex.py\\\", line 1368, in run\\n    self.inference(job_request=job_request, df_dir=tempdir)\\n  File \\\"/Users/elliottchartock/Code/runners/.venv/lib/python3.9/site-packages/rungalileo/services/vaex/text_ner.py\\\", line 856, in inference\\n    raise NotImplementedError(\\\"Inference is not yet support for NER\\\")\\nNotImplementedError: Inference is not yet support for NER\\n\"",
     "output_type": "error",
     "traceback": [
      "\u001b[0;31m---------------------------------------------------------------------------\u001b[0m",
      "\u001b[0;31mGalileoException\u001b[0m                          Traceback (most recent call last)",
      "Cell \u001b[0;32mIn [7], line 1\u001b[0m\n\u001b[0;32m----> 1\u001b[0m finish()\n",
      "Cell \u001b[0;32mIn [4], line 36\u001b[0m, in \u001b[0;36mfinish\u001b[0;34m()\u001b[0m\n\u001b[1;32m     35\u001b[0m \u001b[38;5;28;01mdef\u001b[39;00m \u001b[38;5;21mfinish\u001b[39m():\n\u001b[0;32m---> 36\u001b[0m     \u001b[43mdq\u001b[49m\u001b[38;5;241;43m.\u001b[39;49m\u001b[43mfinish\u001b[49m\u001b[43m(\u001b[49m\u001b[43m)\u001b[49m\n",
      "File \u001b[0;32m~/Code/dataquality/.venv/lib/python3.9/site-packages/dataquality/utils/helpers.py:24\u001b[0m, in \u001b[0;36mcheck_noop.<locals>.decorator\u001b[0;34m(*args, **kwargs)\u001b[0m\n\u001b[1;32m     22\u001b[0m \u001b[38;5;28;01mif\u001b[39;00m galileo_disabled():\n\u001b[1;32m     23\u001b[0m     \u001b[38;5;28;01mreturn\u001b[39;00m \u001b[38;5;28;01mNone\u001b[39;00m\n\u001b[0;32m---> 24\u001b[0m \u001b[38;5;28;01mreturn\u001b[39;00m \u001b[43mfunc\u001b[49m\u001b[43m(\u001b[49m\u001b[38;5;241;43m*\u001b[39;49m\u001b[43margs\u001b[49m\u001b[43m,\u001b[49m\u001b[43m \u001b[49m\u001b[38;5;241;43m*\u001b[39;49m\u001b[38;5;241;43m*\u001b[39;49m\u001b[43mkwargs\u001b[49m\u001b[43m)\u001b[49m\n",
      "File \u001b[0;32m~/Code/dataquality/.venv/lib/python3.9/site-packages/dataquality/core/finish.py:61\u001b[0m, in \u001b[0;36mfinish\u001b[0;34m(last_epoch, wait)\u001b[0m\n\u001b[1;32m     56\u001b[0m     body\u001b[38;5;241m.\u001b[39mupdate(\n\u001b[1;32m     57\u001b[0m         job_name\u001b[38;5;241m=\u001b[39mJobName\u001b[38;5;241m.\u001b[39minference,\n\u001b[1;32m     58\u001b[0m         non_inference_logged\u001b[38;5;241m=\u001b[39mdata_logger\u001b[38;5;241m.\u001b[39mnon_inference_logged(),\n\u001b[1;32m     59\u001b[0m     )\n\u001b[1;32m     60\u001b[0m \u001b[38;5;28;01mimport\u001b[39;00m \u001b[38;5;21;01mpdb\u001b[39;00m; pdb\u001b[38;5;241m.\u001b[39mset_trace()\n\u001b[0;32m---> 61\u001b[0m res \u001b[38;5;241m=\u001b[39m api_client\u001b[38;5;241m.\u001b[39mmake_request(\n\u001b[1;32m     62\u001b[0m     RequestType\u001b[38;5;241m.\u001b[39mPOST, url\u001b[38;5;241m=\u001b[39m\u001b[38;5;124mf\u001b[39m\u001b[38;5;124m\"\u001b[39m\u001b[38;5;132;01m{\u001b[39;00mconfig\u001b[38;5;241m.\u001b[39mapi_url\u001b[38;5;132;01m}\u001b[39;00m\u001b[38;5;124m/\u001b[39m\u001b[38;5;132;01m{\u001b[39;00mRoute\u001b[38;5;241m.\u001b[39mjobs\u001b[38;5;132;01m}\u001b[39;00m\u001b[38;5;124m\"\u001b[39m, body\u001b[38;5;241m=\u001b[39mbody\n\u001b[1;32m     63\u001b[0m )\n\u001b[1;32m     64\u001b[0m \u001b[38;5;28mprint\u001b[39m(\n\u001b[1;32m     65\u001b[0m     \u001b[38;5;124mf\u001b[39m\u001b[38;5;124m\"\u001b[39m\u001b[38;5;124mJob \u001b[39m\u001b[38;5;132;01m{\u001b[39;00mres[\u001b[38;5;124m'\u001b[39m\u001b[38;5;124mjob_name\u001b[39m\u001b[38;5;124m'\u001b[39m]\u001b[38;5;132;01m}\u001b[39;00m\u001b[38;5;124m successfully submitted. Results will be available \u001b[39m\u001b[38;5;124m\"\u001b[39m\n\u001b[1;32m     66\u001b[0m     \u001b[38;5;124mf\u001b[39m\u001b[38;5;124m\"\u001b[39m\u001b[38;5;124msoon at \u001b[39m\u001b[38;5;132;01m{\u001b[39;00mres[\u001b[38;5;124m'\u001b[39m\u001b[38;5;124mlink\u001b[39m\u001b[38;5;124m'\u001b[39m]\u001b[38;5;132;01m}\u001b[39;00m\u001b[38;5;124m\"\u001b[39m\n\u001b[1;32m     67\u001b[0m )\n\u001b[1;32m     68\u001b[0m \u001b[38;5;28;01mif\u001b[39;00m wait:\n",
      "File \u001b[0;32m~/Code/dataquality/.venv/lib/python3.9/site-packages/dataquality/utils/helpers.py:24\u001b[0m, in \u001b[0;36mcheck_noop.<locals>.decorator\u001b[0;34m(*args, **kwargs)\u001b[0m\n\u001b[1;32m     22\u001b[0m \u001b[38;5;28;01mif\u001b[39;00m galileo_disabled():\n\u001b[1;32m     23\u001b[0m     \u001b[38;5;28;01mreturn\u001b[39;00m \u001b[38;5;28;01mNone\u001b[39;00m\n\u001b[0;32m---> 24\u001b[0m \u001b[38;5;28;01mreturn\u001b[39;00m \u001b[43mfunc\u001b[49m\u001b[43m(\u001b[49m\u001b[38;5;241;43m*\u001b[39;49m\u001b[43margs\u001b[49m\u001b[43m,\u001b[49m\u001b[43m \u001b[49m\u001b[38;5;241;43m*\u001b[39;49m\u001b[38;5;241;43m*\u001b[39;49m\u001b[43mkwargs\u001b[49m\u001b[43m)\u001b[49m\n",
      "File \u001b[0;32m~/Code/dataquality/.venv/lib/python3.9/site-packages/dataquality/core/finish.py:88\u001b[0m, in \u001b[0;36mwait_for_run\u001b[0;34m(project_name, run_name)\u001b[0m\n\u001b[1;32m     75\u001b[0m \u001b[38;5;129m@check_noop\u001b[39m\n\u001b[1;32m     76\u001b[0m \u001b[38;5;28;01mdef\u001b[39;00m \u001b[38;5;21mwait_for_run\u001b[39m(\n\u001b[1;32m     77\u001b[0m     project_name: Optional[\u001b[38;5;28mstr\u001b[39m] \u001b[38;5;241m=\u001b[39m \u001b[38;5;28;01mNone\u001b[39;00m, run_name: Optional[\u001b[38;5;28mstr\u001b[39m] \u001b[38;5;241m=\u001b[39m \u001b[38;5;28;01mNone\u001b[39;00m\n\u001b[1;32m     78\u001b[0m ) \u001b[38;5;241m-\u001b[39m\u001b[38;5;241m>\u001b[39m \u001b[38;5;28;01mNone\u001b[39;00m:\n\u001b[1;32m     79\u001b[0m     \u001b[38;5;124;03m\"\"\"\u001b[39;00m\n\u001b[1;32m     80\u001b[0m \u001b[38;5;124;03m    Waits until a specific project run transitions from started to finished.\u001b[39;00m\n\u001b[1;32m     81\u001b[0m \u001b[38;5;124;03m    Defaults to the current run if project_name and run_name are empty.\u001b[39;00m\n\u001b[0;32m   (...)\u001b[0m\n\u001b[1;32m     86\u001b[0m \u001b[38;5;124;03m    :return: None. Function returns after the run transitions to `finished`\u001b[39;00m\n\u001b[1;32m     87\u001b[0m \u001b[38;5;124;03m    \"\"\"\u001b[39;00m\n\u001b[0;32m---> 88\u001b[0m     \u001b[38;5;28;01mreturn\u001b[39;00m \u001b[43mapi_client\u001b[49m\u001b[38;5;241;43m.\u001b[39;49m\u001b[43mwait_for_run\u001b[49m\u001b[43m(\u001b[49m\u001b[43mproject_name\u001b[49m\u001b[38;5;241;43m=\u001b[39;49m\u001b[43mproject_name\u001b[49m\u001b[43m,\u001b[49m\u001b[43m \u001b[49m\u001b[43mrun_name\u001b[49m\u001b[38;5;241;43m=\u001b[39;49m\u001b[43mrun_name\u001b[49m\u001b[43m)\u001b[49m\n",
      "File \u001b[0;32m~/Code/dataquality/.venv/lib/python3.9/site-packages/dataquality/clients/api.py:538\u001b[0m, in \u001b[0;36mApiClient.wait_for_run\u001b[0;34m(self, project_name, run_name)\u001b[0m\n\u001b[1;32m    536\u001b[0m     \u001b[38;5;28;01mreturn\u001b[39;00m\n\u001b[1;32m    537\u001b[0m \u001b[38;5;28;01melif\u001b[39;00m job\u001b[38;5;241m.\u001b[39mget(\u001b[38;5;124m\"\u001b[39m\u001b[38;5;124mstatus\u001b[39m\u001b[38;5;124m\"\u001b[39m) \u001b[38;5;241m==\u001b[39m \u001b[38;5;124m\"\u001b[39m\u001b[38;5;124mfailed\u001b[39m\u001b[38;5;124m\"\u001b[39m:\n\u001b[0;32m--> 538\u001b[0m     \u001b[38;5;28;01mraise\u001b[39;00m GalileoException(\n\u001b[1;32m    539\u001b[0m         \u001b[38;5;124mf\u001b[39m\u001b[38;5;124m\"\u001b[39m\u001b[38;5;124mIt seems your run failed with status \u001b[39m\u001b[38;5;124m\"\u001b[39m\n\u001b[1;32m    540\u001b[0m         \u001b[38;5;124mf\u001b[39m\u001b[38;5;124m\"\u001b[39m\u001b[38;5;132;01m{\u001b[39;00mjob\u001b[38;5;241m.\u001b[39mget(\u001b[38;5;124m'\u001b[39m\u001b[38;5;124mstatus\u001b[39m\u001b[38;5;124m'\u001b[39m)\u001b[38;5;132;01m}\u001b[39;00m\u001b[38;5;124m, error \u001b[39m\u001b[38;5;132;01m{\u001b[39;00mjob\u001b[38;5;241m.\u001b[39mget(\u001b[38;5;124m'\u001b[39m\u001b[38;5;124merror_message\u001b[39m\u001b[38;5;124m'\u001b[39m)\u001b[38;5;132;01m}\u001b[39;00m\u001b[38;5;124m\"\u001b[39m\n\u001b[1;32m    541\u001b[0m     )\n\u001b[1;32m    542\u001b[0m \u001b[38;5;28;01melif\u001b[39;00m \u001b[38;5;129;01mnot\u001b[39;00m job \u001b[38;5;129;01mor\u001b[39;00m job\u001b[38;5;241m.\u001b[39mget(\u001b[38;5;124m\"\u001b[39m\u001b[38;5;124mstatus\u001b[39m\u001b[38;5;124m\"\u001b[39m) \u001b[38;5;129;01min\u001b[39;00m [\u001b[38;5;124m\"\u001b[39m\u001b[38;5;124munstarted\u001b[39m\u001b[38;5;124m\"\u001b[39m, \u001b[38;5;124m\"\u001b[39m\u001b[38;5;124min_progress\u001b[39m\u001b[38;5;124m\"\u001b[39m]:\n\u001b[1;32m    543\u001b[0m     sleep(\u001b[38;5;241m2\u001b[39m)\n",
      "\u001b[0;31mGalileoException\u001b[0m: It seems your run failed with status failed, error \"Failed background job: Inference is not yet support for NER\\n\\nTraceback (most recent call last):\\n  File \\\"/Users/elliottchartock/Code/runners/.venv/lib/python3.9/site-packages/runners/servicers/vaex_runner_servicer.py\\\", line 145, in _run\\n    job_fn()\\n  File \\\"/Users/elliottchartock/Code/runners/.venv/lib/python3.9/site-packages/ddtrace/tracer.py\\\", line 920, in func_wrapper\\n    return f(*args, **kwargs)\\n  File \\\"/Users/elliottchartock/Code/runners/.venv/lib/python3.9/site-packages/rungalileo/services/vaex/base_vaex.py\\\", line 1368, in run\\n    self.inference(job_request=job_request, df_dir=tempdir)\\n  File \\\"/Users/elliottchartock/Code/runners/.venv/lib/python3.9/site-packages/rungalileo/services/vaex/text_ner.py\\\", line 856, in inference\\n    raise NotImplementedError(\\\"Inference is not yet support for NER\\\")\\nNotImplementedError: Inference is not yet support for NER\\n\""
     ]
    }
   ],
   "source": [
    "finish()"
   ]
  },
  {
   "cell_type": "code",
   "execution_count": null,
   "id": "55e86497-b265-4d94-aa16-219a6b6b67eb",
   "metadata": {},
   "outputs": [],
   "source": []
  }
 ],
 "metadata": {
  "kernelspec": {
   "display_name": "Python 3 (ipykernel)",
   "language": "python",
   "name": "python3"
  },
  "language_info": {
   "codemirror_mode": {
    "name": "ipython",
    "version": 3
   },
   "file_extension": ".py",
   "mimetype": "text/x-python",
   "name": "python",
   "nbconvert_exporter": "python",
   "pygments_lexer": "ipython3",
   "version": "3.9.6"
  }
 },
 "nbformat": 4,
 "nbformat_minor": 5
}
