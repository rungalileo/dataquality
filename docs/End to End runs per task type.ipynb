{
 "cells": [
  {
   "cell_type": "markdown",
   "id": "579f0cbf",
   "metadata": {},
   "source": [
    "## End to end examples logging data to Galileo for Text Classification, MLTC, and NER"
   ]
  },
  {
   "cell_type": "markdown",
   "id": "27921069",
   "metadata": {},
   "source": [
    "### For understanding the client and how to get started, see the [Dataquality Demo](./Dataquality-Client-Demo.ipynb)\n",
    "### Check out the full documentation [here](https://rungalileo.gitbook.io/galileo/getting-started)\n",
    "### To see real end-to-end notebooks training real ML models, see [here](https://drive.google.com/drive/folders/17-cHuRzXIpWaD8rYwy69RMQr__HiAiDk?usp=sharing)"
   ]
  },
  {
   "cell_type": "code",
   "execution_count": 6,
   "id": "df9b0c5a",
   "metadata": {},
   "outputs": [],
   "source": [
    "## Local\n",
    "\n",
    "import os\n",
    "\n",
    "os.environ['GALILEO_CONSOLE_URL']=\"http://localhost:8088\"\n",
    "os.environ[\"GALILEO_USERNAME\"]=\"user@example.com\"\n",
    "os.environ[\"GALILEO_PASSWORD\"]=\"Th3secret_\""
   ]
  },
  {
   "cell_type": "code",
   "execution_count": 7,
   "id": "cfe0711c",
   "metadata": {
    "scrolled": true
   },
   "outputs": [
    {
     "name": "stdout",
     "output_type": "stream",
     "text": [
      "📡 http://localhost:8088\n",
      "🔭 Logging you into Galileo\n",
      "\n",
      "👀 Found auth method email set via env, skipping prompt.\n",
      "🚀 You're logged in to Galileo as user@example.com!\n"
     ]
    }
   ],
   "source": [
    "import dataquality as dq\n",
    "dq.configure()"
   ]
  },
  {
   "cell_type": "markdown",
   "id": "9b357b36",
   "metadata": {},
   "source": [
    "***Helper function***"
   ]
  },
  {
   "cell_type": "code",
   "execution_count": 2,
   "id": "4092c580",
   "metadata": {},
   "outputs": [],
   "source": [
    "from dataquality import config\n",
    "import pandas as pd\n",
    "from dataquality.clients.api import ApiClient\n",
    "from time import sleep\n",
    "\n",
    "\n",
    "api_client = ApiClient()\n",
    "\n",
    "\n",
    "def see_results(wait=True, body={}):\n",
    "    if wait:\n",
    "        print(\"Waiting for data to be processed\")\n",
    "        if \"localhost\" in config.api_url:\n",
    "            for i in tqdm(range(50)):\n",
    "                sleep(1)\n",
    "        else:\n",
    "            api_client.wait_for_run()\n",
    "\n",
    "    task_type = dq.config.task_type\n",
    "    proj = api_client.get_project(config.current_project_id)[\"name\"]\n",
    "    run = api_client.get_project_run(config.current_project_id, config.current_run_id)[\"name\"]\n",
    "    api_client.export_run(proj, run, \"training\", f\"{task_type}_training.csv\")\n",
    "    api_client.export_run(proj, run, \"test\", f\"{task_type}_test.csv\")\n",
    "    api_client.export_run(proj, run, \"validation\", f\"{task_type}_validation.csv\")\n",
    "    print(f\"Exported to {task_type}_training.csv, {task_type}_test.csv, and {task_type}_validation.csv\")\n",
    "    df_train = pd.read_csv(f\"{task_type}_training.csv\")\n",
    "    df_test = pd.read_csv(f\"{task_type}_test.csv\")\n",
    "    df_val = pd.read_csv(f\"{task_type}_validation.csv\")\n",
    "    print(\"Training\")\n",
    "    display(df_train)\n",
    "    print(\"\\nTest\")\n",
    "    display(df_test)\n",
    "    print(\"\\nValidation\")\n",
    "    display(df_val)\n",
    "    return df_train, df_test, df_val"
   ]
  },
  {
   "cell_type": "code",
   "execution_count": 8,
   "id": "597c2bff",
   "metadata": {},
   "outputs": [],
   "source": [
    "dq.finish?"
   ]
  },
  {
   "cell_type": "markdown",
   "id": "098fd219",
   "metadata": {},
   "source": [
    "## Text Classification"
   ]
  },
  {
   "cell_type": "code",
   "execution_count": 19,
   "id": "13574b3e",
   "metadata": {
    "scrolled": true
   },
   "outputs": [
    {
     "name": "stdout",
     "output_type": "stream",
     "text": [
      "📡 Retrieving run from existing project, CBO-testing\n",
      "🛰 Connected to project, CBO-testing, and run, TC.\n"
     ]
    },
    {
     "name": "stderr",
     "output_type": "stream",
     "text": [
      "/Users/benepstein/Documents/GitHub/dataquality/.venv/lib/python3.9/site-packages/dataquality/core/init.py:164: UserWarning: Run: CBO-testing/TC already exists! The existing run will get overwritten on call to finish()!\n",
      "  warnings.warn(\n"
     ]
    },
    {
     "name": "stdout",
     "output_type": "stream",
     "text": [
      "Logging input data\n",
      "Exporting input data [########################################] 100.00% elapsed time  :     0.01s =  0.0m =  0.0h\n",
      "Appending input data [########################################] 100.00% elapsed time  :     0.02s =  0.0m =  0.0h\n",
      "Appending input data [########################################] 100.00% elapsed time  :     0.03s =  0.0m =  0.0h\n",
      " Done\n",
      "Input logging took 10.947309017181396 seconds\n",
      "\n",
      "\n",
      "Logging model outputs\n",
      "Epoch 0\n",
      "----------------------------------------------------------------------------------------------------\n",
      "Train\n"
     ]
    },
    {
     "data": {
      "application/vnd.jupyter.widget-view+json": {
       "model_id": "0f7baed4215f4d15ac7433f2c5a74471",
       "version_major": 2,
       "version_minor": 0
      },
      "text/plain": [
       "  0%|          | 0/354 [00:00<?, ?it/s]"
      ]
     },
     "metadata": {},
     "output_type": "display_data"
    },
    {
     "name": "stderr",
     "output_type": "stream",
     "text": [
      "/Users/benepstein/Documents/GitHub/dataquality/.venv/lib/python3.9/site-packages/dataquality/loggers/model_logger/text_classification.py:133: UserWarning: Usage of probs is deprecated, use logits instead\n",
      "  warnings.warn(\"Usage of probs is deprecated, use logits instead\")\n"
     ]
    },
    {
     "name": "stdout",
     "output_type": "stream",
     "text": [
      "Test\n"
     ]
    },
    {
     "data": {
      "application/vnd.jupyter.widget-view+json": {
       "model_id": "270c238cf4c84bf59afe5fbaf9d0cb0a",
       "version_major": 2,
       "version_minor": 0
      },
      "text/plain": [
       "  0%|          | 0/354 [00:00<?, ?it/s]"
      ]
     },
     "metadata": {},
     "output_type": "display_data"
    },
    {
     "name": "stdout",
     "output_type": "stream",
     "text": [
      "Validation\n"
     ]
    },
    {
     "data": {
      "application/vnd.jupyter.widget-view+json": {
       "model_id": "2b5e28d8d7d04ee8bf7ed08c9710e9dd",
       "version_major": 2,
       "version_minor": 0
      },
      "text/plain": [
       "  0%|          | 0/354 [00:00<?, ?it/s]"
      ]
     },
     "metadata": {},
     "output_type": "display_data"
    },
    {
     "name": "stdout",
     "output_type": "stream",
     "text": [
      "----------------------------------------------------------------------------------------------------\n",
      "\n",
      "Done\n",
      "Logging output took 9.517239093780518 seconds\n",
      "☁️ Uploading Data\n"
     ]
    },
    {
     "data": {
      "application/vnd.jupyter.widget-view+json": {
       "model_id": "78fcf22d4741499984e3dcab0da829ac",
       "version_major": 2,
       "version_minor": 0
      },
      "text/plain": [
       "training:   0%|          | 0/1 [00:00<?, ?it/s]"
      ]
     },
     "metadata": {},
     "output_type": "display_data"
    },
    {
     "data": {
      "application/vnd.jupyter.widget-view+json": {
       "model_id": "",
       "version_major": 2,
       "version_minor": 0
      },
      "text/plain": [
       "Combining batches for upload:   0%|          | 0/354 [00:00<?, ?it/s]"
      ]
     },
     "metadata": {},
     "output_type": "display_data"
    },
    {
     "data": {
      "application/vnd.jupyter.widget-view+json": {
       "model_id": "",
       "version_major": 2,
       "version_minor": 0
      },
      "text/plain": [
       "training (epoch=0):   0%|          | 0/3 [00:00<?, ?it/s]"
      ]
     },
     "metadata": {},
     "output_type": "display_data"
    },
    {
     "data": {
      "application/vnd.jupyter.widget-view+json": {
       "model_id": "e759ca649f8443159c315b42c667447a",
       "version_major": 2,
       "version_minor": 0
      },
      "text/plain": [
       "validation:   0%|          | 0/1 [00:00<?, ?it/s]"
      ]
     },
     "metadata": {},
     "output_type": "display_data"
    },
    {
     "data": {
      "application/vnd.jupyter.widget-view+json": {
       "model_id": "",
       "version_major": 2,
       "version_minor": 0
      },
      "text/plain": [
       "Combining batches for upload:   0%|          | 0/354 [00:00<?, ?it/s]"
      ]
     },
     "metadata": {},
     "output_type": "display_data"
    },
    {
     "data": {
      "application/vnd.jupyter.widget-view+json": {
       "model_id": "",
       "version_major": 2,
       "version_minor": 0
      },
      "text/plain": [
       "validation (epoch=0):   0%|          | 0/3 [00:00<?, ?it/s]"
      ]
     },
     "metadata": {},
     "output_type": "display_data"
    },
    {
     "data": {
      "application/vnd.jupyter.widget-view+json": {
       "model_id": "2adcf6dac5024b3f8e5b40396a0b54ca",
       "version_major": 2,
       "version_minor": 0
      },
      "text/plain": [
       "test:   0%|          | 0/1 [00:00<?, ?it/s]"
      ]
     },
     "metadata": {},
     "output_type": "display_data"
    },
    {
     "data": {
      "application/vnd.jupyter.widget-view+json": {
       "model_id": "",
       "version_major": 2,
       "version_minor": 0
      },
      "text/plain": [
       "Combining batches for upload:   0%|          | 0/354 [00:00<?, ?it/s]"
      ]
     },
     "metadata": {},
     "output_type": "display_data"
    },
    {
     "data": {
      "application/vnd.jupyter.widget-view+json": {
       "model_id": "",
       "version_major": 2,
       "version_minor": 0
      },
      "text/plain": [
       "test (epoch=0):   0%|          | 0/3 [00:00<?, ?it/s]"
      ]
     },
     "metadata": {},
     "output_type": "display_data"
    },
    {
     "name": "stdout",
     "output_type": "stream",
     "text": [
      "🧹 Cleaning up\n",
      "Job default successfully submitted. Results will be available soon at http://127.0.0.1:3000/insights?projectId=2d31c035-6c46-49e2-8515-4c5d0c5713e1&runId=c2b437b0-1ef7-4271-80bd-cd44df9980e5&split=training&depHigh=1&depLow=0&taskType=0\n",
      "Waiting for job...\n",
      "Done! Job finished with status completed\n",
      "Finish took 2.566 minutes\n"
     ]
    }
   ],
   "source": [
    "from tqdm.notebook import tqdm\n",
    "import time\n",
    "import numpy as np\n",
    "from uuid import uuid4\n",
    "import pandas as pd\n",
    "from sklearn.datasets import fetch_20newsgroups\n",
    "\n",
    "\n",
    "dq.init(\"text_classification\", \"CBO-testing\", \"TC\")\n",
    "\n",
    "\n",
    "BATCH_SIZE=32\n",
    "EMB_DIM=768\n",
    "NUM_EPOCHS=1\n",
    "\n",
    "\n",
    "newsgroups = fetch_20newsgroups(subset=\"train\", remove=('headers', 'footers', 'quotes'))\n",
    "dataset = pd.DataFrame()\n",
    "dataset[\"text\"] = newsgroups.data\n",
    "label_ind = newsgroups.target_names\n",
    "dataset[\"label\"] = [label_ind[i] for i in newsgroups.target]\n",
    "dataset[\"id\"] = list(range(len(dataset)))\n",
    "\n",
    "\n",
    "def generate_random_embeddings(batch_size: int, emb_dims: int) -> np.ndarray:\n",
    "    return np.random.rand(batch_size, emb_dims)\n",
    "\n",
    "\n",
    "def generate_random_probabilities(batch_size: int, num_classes: int) -> np.ndarray:\n",
    "    probs = np.random.rand(batch_size, num_classes)\n",
    "    return probs / probs.sum(axis=-1).reshape(-1, 1)  # Normalize to sum to 1\n",
    "\n",
    "\n",
    "t_start = time.time()\n",
    "dq.set_labels_for_run(dataset[\"label\"].unique())\n",
    "\n",
    "print(\"Logging input data\")\n",
    "for split in [\"train\", \"test\", \"validation\"]:\n",
    "    dq.log_dataset(dataset, split=split)\n",
    "    \n",
    "print(\"Done\")\n",
    "print(f\"Input logging took {time.time() - t_start} seconds\\n\\n\")\n",
    "\n",
    "\n",
    "print(\"Logging model outputs\")\n",
    "t_start = time.time()\n",
    "num_classes = dataset[\"label\"].nunique()\n",
    "# Simulates model training loop\n",
    "for epoch_idx in range(NUM_EPOCHS):\n",
    "    print(f\"Epoch {epoch_idx}\")\n",
    "    print('-'*100)\n",
    "    for split in [\"train\", \"test\", \"validation\"]:\n",
    "        print(split.capitalize())\n",
    "        dq.set_split(split)\n",
    "        for i in tqdm(range(0, len(dataset), BATCH_SIZE)):\n",
    "            batch = dataset[i : i + BATCH_SIZE]\n",
    "            embeddings = generate_random_embeddings(len(batch), EMB_DIM)\n",
    "            probs = generate_random_probabilities(len(batch), num_classes)\n",
    "            dq.log_model_outputs(\n",
    "                embs=embeddings,\n",
    "                probs=probs,\n",
    "                epoch=epoch_idx,\n",
    "                ids=batch[\"id\"],\n",
    "            )\n",
    "    print('-'*100,end=\"\\n\\n\")\n",
    "            \n",
    "print(\"Done\")\n",
    "\n",
    "time_spent = time.time() - t_start\n",
    "print(f\"Logging output took {time_spent} seconds\")\n",
    "\n",
    "dq.finish(wait=False)\n",
    "t = time.time()\n",
    "dq.wait_for_run()\n",
    "t1 = time.time()\n",
    "print(\"Finish took\", round((t1-t) / 60, 3), \"minutes\")\n",
    "# df_train, df_test, df_val = see_results()"
   ]
  },
  {
   "cell_type": "code",
   "execution_count": null,
   "id": "fc372672",
   "metadata": {},
   "outputs": [],
   "source": [
    "# original chunk size + current default - 5.032 min\n",
    "# default (from vaex) chunk size + current default - 4.532 min\n",
    "# original chunk size + new default (export then xray) - 3.279 min\n",
    "# default (from vaex) chunk size + new default (export then xray) - 3.762 min\n",
    "# last test (get_dataframe(...)) - 2.566 min"
   ]
  },
  {
   "cell_type": "markdown",
   "id": "d4684dd5",
   "metadata": {},
   "source": [
    "## Multi Label"
   ]
  },
  {
   "cell_type": "code",
   "execution_count": 21,
   "id": "06f17ab5",
   "metadata": {
    "scrolled": true
   },
   "outputs": [
    {
     "name": "stdout",
     "output_type": "stream",
     "text": [
      "💭 Project test-mltc-run was not found.\n",
      "✨ Initializing public project test-mltc-run\n",
      "🏃‍♂️ Starting run loose_fuchsia_parrot\n",
      "Exporting input data [########################################] 100.00% elapsed time  :     0.00s =  0.0m =  0.0h\n",
      "Appending input data [########################################] 100.00% elapsed time  :     0.01s =  0.0m =  0.0h\n",
      "Appending input data [########################################] 100.00% elapsed time  :     0.01s =  0.0m =  0.0h\n",
      " ☁️ Uploading Data\n"
     ]
    },
    {
     "data": {
      "application/vnd.jupyter.widget-view+json": {
       "model_id": "16fc39efb80a4393aeb4e585a07f3b45",
       "version_major": 2,
       "version_minor": 0
      },
      "text/plain": [
       "training:   0%|          | 0/5 [00:00<?, ?it/s]"
      ]
     },
     "metadata": {},
     "output_type": "display_data"
    },
    {
     "data": {
      "application/vnd.jupyter.widget-view+json": {
       "model_id": "",
       "version_major": 2,
       "version_minor": 0
      },
      "text/plain": [
       "Combining batches for upload:   0%|          | 0/157 [00:00<?, ?it/s]"
      ]
     },
     "metadata": {},
     "output_type": "display_data"
    },
    {
     "data": {
      "application/vnd.jupyter.widget-view+json": {
       "model_id": "",
       "version_major": 2,
       "version_minor": 0
      },
      "text/plain": [
       "training (epoch=0):   0%|          | 0/3 [00:00<?, ?it/s]"
      ]
     },
     "metadata": {},
     "output_type": "display_data"
    },
    {
     "data": {
      "application/vnd.jupyter.widget-view+json": {
       "model_id": "",
       "version_major": 2,
       "version_minor": 0
      },
      "text/plain": [
       "Combining batches for upload:   0%|          | 0/157 [00:00<?, ?it/s]"
      ]
     },
     "metadata": {},
     "output_type": "display_data"
    },
    {
     "data": {
      "application/vnd.jupyter.widget-view+json": {
       "model_id": "",
       "version_major": 2,
       "version_minor": 0
      },
      "text/plain": [
       "training (epoch=1):   0%|          | 0/3 [00:00<?, ?it/s]"
      ]
     },
     "metadata": {},
     "output_type": "display_data"
    },
    {
     "data": {
      "application/vnd.jupyter.widget-view+json": {
       "model_id": "",
       "version_major": 2,
       "version_minor": 0
      },
      "text/plain": [
       "Combining batches for upload:   0%|          | 0/157 [00:00<?, ?it/s]"
      ]
     },
     "metadata": {},
     "output_type": "display_data"
    },
    {
     "data": {
      "application/vnd.jupyter.widget-view+json": {
       "model_id": "",
       "version_major": 2,
       "version_minor": 0
      },
      "text/plain": [
       "training (epoch=2):   0%|          | 0/3 [00:00<?, ?it/s]"
      ]
     },
     "metadata": {},
     "output_type": "display_data"
    },
    {
     "data": {
      "application/vnd.jupyter.widget-view+json": {
       "model_id": "",
       "version_major": 2,
       "version_minor": 0
      },
      "text/plain": [
       "Combining batches for upload:   0%|          | 0/157 [00:00<?, ?it/s]"
      ]
     },
     "metadata": {},
     "output_type": "display_data"
    },
    {
     "data": {
      "application/vnd.jupyter.widget-view+json": {
       "model_id": "",
       "version_major": 2,
       "version_minor": 0
      },
      "text/plain": [
       "training (epoch=3):   0%|          | 0/3 [00:00<?, ?it/s]"
      ]
     },
     "metadata": {},
     "output_type": "display_data"
    },
    {
     "data": {
      "application/vnd.jupyter.widget-view+json": {
       "model_id": "",
       "version_major": 2,
       "version_minor": 0
      },
      "text/plain": [
       "Combining batches for upload:   0%|          | 0/157 [00:00<?, ?it/s]"
      ]
     },
     "metadata": {},
     "output_type": "display_data"
    },
    {
     "data": {
      "application/vnd.jupyter.widget-view+json": {
       "model_id": "",
       "version_major": 2,
       "version_minor": 0
      },
      "text/plain": [
       "training (epoch=4):   0%|          | 0/3 [00:00<?, ?it/s]"
      ]
     },
     "metadata": {},
     "output_type": "display_data"
    },
    {
     "data": {
      "application/vnd.jupyter.widget-view+json": {
       "model_id": "ea486007794f4b0fab3976b192b070f1",
       "version_major": 2,
       "version_minor": 0
      },
      "text/plain": [
       "validation:   0%|          | 0/5 [00:00<?, ?it/s]"
      ]
     },
     "metadata": {},
     "output_type": "display_data"
    },
    {
     "data": {
      "application/vnd.jupyter.widget-view+json": {
       "model_id": "",
       "version_major": 2,
       "version_minor": 0
      },
      "text/plain": [
       "Combining batches for upload:   0%|          | 0/157 [00:00<?, ?it/s]"
      ]
     },
     "metadata": {},
     "output_type": "display_data"
    },
    {
     "data": {
      "application/vnd.jupyter.widget-view+json": {
       "model_id": "",
       "version_major": 2,
       "version_minor": 0
      },
      "text/plain": [
       "validation (epoch=0):   0%|          | 0/3 [00:00<?, ?it/s]"
      ]
     },
     "metadata": {},
     "output_type": "display_data"
    },
    {
     "data": {
      "application/vnd.jupyter.widget-view+json": {
       "model_id": "",
       "version_major": 2,
       "version_minor": 0
      },
      "text/plain": [
       "Combining batches for upload:   0%|          | 0/157 [00:00<?, ?it/s]"
      ]
     },
     "metadata": {},
     "output_type": "display_data"
    },
    {
     "data": {
      "application/vnd.jupyter.widget-view+json": {
       "model_id": "",
       "version_major": 2,
       "version_minor": 0
      },
      "text/plain": [
       "validation (epoch=1):   0%|          | 0/3 [00:00<?, ?it/s]"
      ]
     },
     "metadata": {},
     "output_type": "display_data"
    },
    {
     "data": {
      "application/vnd.jupyter.widget-view+json": {
       "model_id": "",
       "version_major": 2,
       "version_minor": 0
      },
      "text/plain": [
       "Combining batches for upload:   0%|          | 0/157 [00:00<?, ?it/s]"
      ]
     },
     "metadata": {},
     "output_type": "display_data"
    },
    {
     "data": {
      "application/vnd.jupyter.widget-view+json": {
       "model_id": "",
       "version_major": 2,
       "version_minor": 0
      },
      "text/plain": [
       "validation (epoch=2):   0%|          | 0/3 [00:00<?, ?it/s]"
      ]
     },
     "metadata": {},
     "output_type": "display_data"
    },
    {
     "data": {
      "application/vnd.jupyter.widget-view+json": {
       "model_id": "",
       "version_major": 2,
       "version_minor": 0
      },
      "text/plain": [
       "Combining batches for upload:   0%|          | 0/157 [00:00<?, ?it/s]"
      ]
     },
     "metadata": {},
     "output_type": "display_data"
    },
    {
     "data": {
      "application/vnd.jupyter.widget-view+json": {
       "model_id": "",
       "version_major": 2,
       "version_minor": 0
      },
      "text/plain": [
       "validation (epoch=3):   0%|          | 0/3 [00:00<?, ?it/s]"
      ]
     },
     "metadata": {},
     "output_type": "display_data"
    },
    {
     "data": {
      "application/vnd.jupyter.widget-view+json": {
       "model_id": "",
       "version_major": 2,
       "version_minor": 0
      },
      "text/plain": [
       "Combining batches for upload:   0%|          | 0/157 [00:00<?, ?it/s]"
      ]
     },
     "metadata": {},
     "output_type": "display_data"
    },
    {
     "data": {
      "application/vnd.jupyter.widget-view+json": {
       "model_id": "",
       "version_major": 2,
       "version_minor": 0
      },
      "text/plain": [
       "validation (epoch=4):   0%|          | 0/3 [00:00<?, ?it/s]"
      ]
     },
     "metadata": {},
     "output_type": "display_data"
    },
    {
     "data": {
      "application/vnd.jupyter.widget-view+json": {
       "model_id": "475cdaecdc3949cb97f83b0dee0b9288",
       "version_major": 2,
       "version_minor": 0
      },
      "text/plain": [
       "test:   0%|          | 0/5 [00:00<?, ?it/s]"
      ]
     },
     "metadata": {},
     "output_type": "display_data"
    },
    {
     "data": {
      "application/vnd.jupyter.widget-view+json": {
       "model_id": "",
       "version_major": 2,
       "version_minor": 0
      },
      "text/plain": [
       "Combining batches for upload:   0%|          | 0/157 [00:00<?, ?it/s]"
      ]
     },
     "metadata": {},
     "output_type": "display_data"
    },
    {
     "data": {
      "application/vnd.jupyter.widget-view+json": {
       "model_id": "",
       "version_major": 2,
       "version_minor": 0
      },
      "text/plain": [
       "test (epoch=0):   0%|          | 0/3 [00:00<?, ?it/s]"
      ]
     },
     "metadata": {},
     "output_type": "display_data"
    },
    {
     "data": {
      "application/vnd.jupyter.widget-view+json": {
       "model_id": "",
       "version_major": 2,
       "version_minor": 0
      },
      "text/plain": [
       "Combining batches for upload:   0%|          | 0/157 [00:00<?, ?it/s]"
      ]
     },
     "metadata": {},
     "output_type": "display_data"
    },
    {
     "data": {
      "application/vnd.jupyter.widget-view+json": {
       "model_id": "",
       "version_major": 2,
       "version_minor": 0
      },
      "text/plain": [
       "test (epoch=1):   0%|          | 0/3 [00:00<?, ?it/s]"
      ]
     },
     "metadata": {},
     "output_type": "display_data"
    },
    {
     "data": {
      "application/vnd.jupyter.widget-view+json": {
       "model_id": "",
       "version_major": 2,
       "version_minor": 0
      },
      "text/plain": [
       "Combining batches for upload:   0%|          | 0/157 [00:00<?, ?it/s]"
      ]
     },
     "metadata": {},
     "output_type": "display_data"
    },
    {
     "data": {
      "application/vnd.jupyter.widget-view+json": {
       "model_id": "",
       "version_major": 2,
       "version_minor": 0
      },
      "text/plain": [
       "test (epoch=2):   0%|          | 0/3 [00:00<?, ?it/s]"
      ]
     },
     "metadata": {},
     "output_type": "display_data"
    },
    {
     "data": {
      "application/vnd.jupyter.widget-view+json": {
       "model_id": "",
       "version_major": 2,
       "version_minor": 0
      },
      "text/plain": [
       "Combining batches for upload:   0%|          | 0/157 [00:00<?, ?it/s]"
      ]
     },
     "metadata": {},
     "output_type": "display_data"
    },
    {
     "data": {
      "application/vnd.jupyter.widget-view+json": {
       "model_id": "",
       "version_major": 2,
       "version_minor": 0
      },
      "text/plain": [
       "test (epoch=3):   0%|          | 0/3 [00:00<?, ?it/s]"
      ]
     },
     "metadata": {},
     "output_type": "display_data"
    },
    {
     "data": {
      "application/vnd.jupyter.widget-view+json": {
       "model_id": "",
       "version_major": 2,
       "version_minor": 0
      },
      "text/plain": [
       "Combining batches for upload:   0%|          | 0/157 [00:00<?, ?it/s]"
      ]
     },
     "metadata": {},
     "output_type": "display_data"
    },
    {
     "data": {
      "application/vnd.jupyter.widget-view+json": {
       "model_id": "",
       "version_major": 2,
       "version_minor": 0
      },
      "text/plain": [
       "test (epoch=4):   0%|          | 0/3 [00:00<?, ?it/s]"
      ]
     },
     "metadata": {},
     "output_type": "display_data"
    },
    {
     "name": "stdout",
     "output_type": "stream",
     "text": [
      "🧹 Cleaning up\n",
      "Job default successfully submitted. Results will be available soon at http://127.0.0.1:3000/insights?projectId=dc4e5868-daac-43a9-89fa-ff813826a76f&runId=f55948b5-be5b-4dd4-85e5-e0a13ad8b00b&split=training&depHigh=1&depLow=0&taskType=1\n",
      "Waiting for job...\n",
      "Done! Job finished with status completed\n"
     ]
    },
    {
     "data": {
      "text/plain": [
       "{'project_id': 'dc4e5868-daac-43a9-89fa-ff813826a76f',\n",
       " 'run_id': 'f55948b5-be5b-4dd4-85e5-e0a13ad8b00b',\n",
       " 'job_name': 'default',\n",
       " 'labels': [['not toxic', 'toxic'],\n",
       "  ['not severe_toxic', 'severe_toxic'],\n",
       "  ['not obscene', 'obscene'],\n",
       "  ['not threat', 'threat'],\n",
       "  ['not insult', 'insult'],\n",
       "  ['not identity_hate', 'identity_hate']],\n",
       " 'task_type': 1,\n",
       " 'tasks': ['task_0', 'task_1', 'task_2', 'task_3', 'task_4', 'task_5'],\n",
       " 'non_inference_logged': False,\n",
       " 'migration_name': None,\n",
       " 'xray': True,\n",
       " 'process_existing_inference_runs': False,\n",
       " 'message': 'Processing job!',\n",
       " 'link': 'http://127.0.0.1:3000/insights?projectId=dc4e5868-daac-43a9-89fa-ff813826a76f&runId=f55948b5-be5b-4dd4-85e5-e0a13ad8b00b&split=training&depHigh=1&depLow=0&taskType=1'}"
      ]
     },
     "execution_count": 21,
     "metadata": {},
     "output_type": "execute_result"
    }
   ],
   "source": [
    "from typing import *\n",
    "from random import choice\n",
    "import numpy as np\n",
    "\n",
    "\n",
    "dq.init(\"text_multi_label\", \"test-mltc-run\")\n",
    "dq.set_labels_for_run([[\"not \"+_label, _label] for _label in ['toxic', 'severe_toxic', 'obscene', 'threat', 'insult','identity_hate']]) \n",
    "dq.set_tasks_for_run(['task_0', 'task_1', 'task_2', 'task_3', 'task_4', 'task_5'])\n",
    "\n",
    "n = 5000\n",
    "\n",
    "texts: List[str] = [f\"text sample {i}\" for i in range(n)]\n",
    "\n",
    "labels: List[str] = [\n",
    "    [choice(i) for i in dq.get_data_logger().logger_config.labels]\n",
    "    for _ in range(n)\n",
    "]\n",
    "\n",
    "ids = list(range(n))\n",
    "\n",
    "\n",
    "dq.log_data_samples(texts=texts, task_labels=labels, ids=ids, split=\"training\")\n",
    "dq.log_data_samples(texts=texts, task_labels=labels, ids=ids, split=\"test\")\n",
    "dq.log_data_samples(texts=texts, task_labels=labels, ids=ids, split=\"validation\")\n",
    "\n",
    "for split in [\"train\", \"test\", \"validation\"]:\n",
    "    for epoch in range(5):\n",
    "        emb=np.random.rand(n, 768)\n",
    "        logits=[[np.random.rand(2)] * 6] * n\n",
    "        ids=list(range(n))\n",
    "        \n",
    "        for i in range(0, n, 32):\n",
    "            dq.log_model_outputs(\n",
    "                embs=emb[i:i+5],\n",
    "                logits=logits[i:i+5],\n",
    "                ids=ids[i:i+5],\n",
    "                split=split,\n",
    "                epoch=epoch\n",
    "            )\n",
    "\n",
    "dq.finish()\n",
    "# df_train, df_test, df_val = see_results()\n"
   ]
  },
  {
   "cell_type": "code",
   "execution_count": 24,
   "id": "2e338800",
   "metadata": {},
   "outputs": [
    {
     "name": "stdout",
     "output_type": "stream",
     "text": [
      "Exported to text_multi_label_training.csv, text_multi_label_test.csv, and text_multi_label_validation.csv\n",
      "Training\n"
     ]
    },
    {
     "data": {
      "text/html": [
       "<div>\n",
       "<style scoped>\n",
       "    .dataframe tbody tr th:only-of-type {\n",
       "        vertical-align: middle;\n",
       "    }\n",
       "\n",
       "    .dataframe tbody tr th {\n",
       "        vertical-align: top;\n",
       "    }\n",
       "\n",
       "    .dataframe thead th {\n",
       "        text-align: right;\n",
       "    }\n",
       "</style>\n",
       "<table border=\"1\" class=\"dataframe\">\n",
       "  <thead>\n",
       "    <tr style=\"text-align: right;\">\n",
       "      <th></th>\n",
       "      <th>epoch</th>\n",
       "      <th>pred_task_0</th>\n",
       "      <th>pred_task_1</th>\n",
       "      <th>pred_task_2</th>\n",
       "      <th>pred_task_3</th>\n",
       "      <th>pred_task_4</th>\n",
       "      <th>pred_task_5</th>\n",
       "      <th>text</th>\n",
       "      <th>split</th>\n",
       "      <th>data_schema_version</th>\n",
       "      <th>...</th>\n",
       "      <th>likely_mislabeled_3</th>\n",
       "      <th>likely_mislabeled_4</th>\n",
       "      <th>likely_mislabeled_5</th>\n",
       "      <th>x</th>\n",
       "      <th>y</th>\n",
       "      <th>pred</th>\n",
       "      <th>gold</th>\n",
       "      <th>data_error_potential</th>\n",
       "      <th>confidence</th>\n",
       "      <th>likely_mislabeled</th>\n",
       "    </tr>\n",
       "  </thead>\n",
       "  <tbody>\n",
       "    <tr>\n",
       "      <th>0</th>\n",
       "      <td>4</td>\n",
       "      <td>toxic</td>\n",
       "      <td>severe_toxic</td>\n",
       "      <td>obscene</td>\n",
       "      <td>threat</td>\n",
       "      <td>insult</td>\n",
       "      <td>identity_hate</td>\n",
       "      <td>text sample 0</td>\n",
       "      <td>training</td>\n",
       "      <td>1</td>\n",
       "      <td>...</td>\n",
       "      <td>False</td>\n",
       "      <td>True</td>\n",
       "      <td>True</td>\n",
       "      <td>9.072045</td>\n",
       "      <td>9.058199</td>\n",
       "      <td>1</td>\n",
       "      <td>0</td>\n",
       "      <td>0.546335</td>\n",
       "      <td>0.569694</td>\n",
       "      <td>True</td>\n",
       "    </tr>\n",
       "    <tr>\n",
       "      <th>1</th>\n",
       "      <td>4</td>\n",
       "      <td>toxic</td>\n",
       "      <td>severe_toxic</td>\n",
       "      <td>obscene</td>\n",
       "      <td>threat</td>\n",
       "      <td>insult</td>\n",
       "      <td>identity_hate</td>\n",
       "      <td>text sample 1</td>\n",
       "      <td>training</td>\n",
       "      <td>1</td>\n",
       "      <td>...</td>\n",
       "      <td>False</td>\n",
       "      <td>True</td>\n",
       "      <td>False</td>\n",
       "      <td>8.276835</td>\n",
       "      <td>9.542554</td>\n",
       "      <td>1</td>\n",
       "      <td>0</td>\n",
       "      <td>0.546335</td>\n",
       "      <td>0.569694</td>\n",
       "      <td>True</td>\n",
       "    </tr>\n",
       "    <tr>\n",
       "      <th>2</th>\n",
       "      <td>4</td>\n",
       "      <td>toxic</td>\n",
       "      <td>severe_toxic</td>\n",
       "      <td>obscene</td>\n",
       "      <td>threat</td>\n",
       "      <td>insult</td>\n",
       "      <td>identity_hate</td>\n",
       "      <td>text sample 2</td>\n",
       "      <td>training</td>\n",
       "      <td>1</td>\n",
       "      <td>...</td>\n",
       "      <td>True</td>\n",
       "      <td>True</td>\n",
       "      <td>True</td>\n",
       "      <td>8.531170</td>\n",
       "      <td>7.458549</td>\n",
       "      <td>1</td>\n",
       "      <td>0</td>\n",
       "      <td>0.546335</td>\n",
       "      <td>0.569694</td>\n",
       "      <td>True</td>\n",
       "    </tr>\n",
       "    <tr>\n",
       "      <th>3</th>\n",
       "      <td>4</td>\n",
       "      <td>toxic</td>\n",
       "      <td>severe_toxic</td>\n",
       "      <td>obscene</td>\n",
       "      <td>threat</td>\n",
       "      <td>insult</td>\n",
       "      <td>identity_hate</td>\n",
       "      <td>text sample 3</td>\n",
       "      <td>training</td>\n",
       "      <td>1</td>\n",
       "      <td>...</td>\n",
       "      <td>True</td>\n",
       "      <td>False</td>\n",
       "      <td>True</td>\n",
       "      <td>7.104985</td>\n",
       "      <td>11.084365</td>\n",
       "      <td>1</td>\n",
       "      <td>0</td>\n",
       "      <td>0.546335</td>\n",
       "      <td>0.569694</td>\n",
       "      <td>True</td>\n",
       "    </tr>\n",
       "    <tr>\n",
       "      <th>4</th>\n",
       "      <td>4</td>\n",
       "      <td>toxic</td>\n",
       "      <td>severe_toxic</td>\n",
       "      <td>obscene</td>\n",
       "      <td>threat</td>\n",
       "      <td>insult</td>\n",
       "      <td>identity_hate</td>\n",
       "      <td>text sample 4</td>\n",
       "      <td>training</td>\n",
       "      <td>1</td>\n",
       "      <td>...</td>\n",
       "      <td>False</td>\n",
       "      <td>True</td>\n",
       "      <td>True</td>\n",
       "      <td>8.001328</td>\n",
       "      <td>10.265515</td>\n",
       "      <td>1</td>\n",
       "      <td>1</td>\n",
       "      <td>0.453665</td>\n",
       "      <td>0.569694</td>\n",
       "      <td>False</td>\n",
       "    </tr>\n",
       "    <tr>\n",
       "      <th>...</th>\n",
       "      <td>...</td>\n",
       "      <td>...</td>\n",
       "      <td>...</td>\n",
       "      <td>...</td>\n",
       "      <td>...</td>\n",
       "      <td>...</td>\n",
       "      <td>...</td>\n",
       "      <td>...</td>\n",
       "      <td>...</td>\n",
       "      <td>...</td>\n",
       "      <td>...</td>\n",
       "      <td>...</td>\n",
       "      <td>...</td>\n",
       "      <td>...</td>\n",
       "      <td>...</td>\n",
       "      <td>...</td>\n",
       "      <td>...</td>\n",
       "      <td>...</td>\n",
       "      <td>...</td>\n",
       "      <td>...</td>\n",
       "      <td>...</td>\n",
       "    </tr>\n",
       "    <tr>\n",
       "      <th>780</th>\n",
       "      <td>4</td>\n",
       "      <td>toxic</td>\n",
       "      <td>severe_toxic</td>\n",
       "      <td>obscene</td>\n",
       "      <td>threat</td>\n",
       "      <td>insult</td>\n",
       "      <td>identity_hate</td>\n",
       "      <td>text sample 4992</td>\n",
       "      <td>training</td>\n",
       "      <td>1</td>\n",
       "      <td>...</td>\n",
       "      <td>False</td>\n",
       "      <td>True</td>\n",
       "      <td>False</td>\n",
       "      <td>3.017641</td>\n",
       "      <td>8.699756</td>\n",
       "      <td>1</td>\n",
       "      <td>0</td>\n",
       "      <td>0.546335</td>\n",
       "      <td>0.569694</td>\n",
       "      <td>True</td>\n",
       "    </tr>\n",
       "    <tr>\n",
       "      <th>781</th>\n",
       "      <td>4</td>\n",
       "      <td>toxic</td>\n",
       "      <td>severe_toxic</td>\n",
       "      <td>obscene</td>\n",
       "      <td>threat</td>\n",
       "      <td>insult</td>\n",
       "      <td>identity_hate</td>\n",
       "      <td>text sample 4993</td>\n",
       "      <td>training</td>\n",
       "      <td>1</td>\n",
       "      <td>...</td>\n",
       "      <td>True</td>\n",
       "      <td>False</td>\n",
       "      <td>False</td>\n",
       "      <td>2.765950</td>\n",
       "      <td>8.672996</td>\n",
       "      <td>1</td>\n",
       "      <td>0</td>\n",
       "      <td>0.546335</td>\n",
       "      <td>0.569694</td>\n",
       "      <td>True</td>\n",
       "    </tr>\n",
       "    <tr>\n",
       "      <th>782</th>\n",
       "      <td>4</td>\n",
       "      <td>toxic</td>\n",
       "      <td>severe_toxic</td>\n",
       "      <td>obscene</td>\n",
       "      <td>threat</td>\n",
       "      <td>insult</td>\n",
       "      <td>identity_hate</td>\n",
       "      <td>text sample 4994</td>\n",
       "      <td>training</td>\n",
       "      <td>1</td>\n",
       "      <td>...</td>\n",
       "      <td>False</td>\n",
       "      <td>False</td>\n",
       "      <td>False</td>\n",
       "      <td>7.245671</td>\n",
       "      <td>11.039823</td>\n",
       "      <td>1</td>\n",
       "      <td>0</td>\n",
       "      <td>0.546335</td>\n",
       "      <td>0.569694</td>\n",
       "      <td>True</td>\n",
       "    </tr>\n",
       "    <tr>\n",
       "      <th>783</th>\n",
       "      <td>4</td>\n",
       "      <td>toxic</td>\n",
       "      <td>severe_toxic</td>\n",
       "      <td>obscene</td>\n",
       "      <td>threat</td>\n",
       "      <td>insult</td>\n",
       "      <td>identity_hate</td>\n",
       "      <td>text sample 4995</td>\n",
       "      <td>training</td>\n",
       "      <td>1</td>\n",
       "      <td>...</td>\n",
       "      <td>True</td>\n",
       "      <td>False</td>\n",
       "      <td>False</td>\n",
       "      <td>7.348386</td>\n",
       "      <td>10.798277</td>\n",
       "      <td>1</td>\n",
       "      <td>0</td>\n",
       "      <td>0.546335</td>\n",
       "      <td>0.569694</td>\n",
       "      <td>False</td>\n",
       "    </tr>\n",
       "    <tr>\n",
       "      <th>784</th>\n",
       "      <td>4</td>\n",
       "      <td>toxic</td>\n",
       "      <td>severe_toxic</td>\n",
       "      <td>obscene</td>\n",
       "      <td>threat</td>\n",
       "      <td>insult</td>\n",
       "      <td>identity_hate</td>\n",
       "      <td>text sample 4996</td>\n",
       "      <td>training</td>\n",
       "      <td>1</td>\n",
       "      <td>...</td>\n",
       "      <td>False</td>\n",
       "      <td>False</td>\n",
       "      <td>False</td>\n",
       "      <td>8.062548</td>\n",
       "      <td>6.421607</td>\n",
       "      <td>1</td>\n",
       "      <td>1</td>\n",
       "      <td>0.453665</td>\n",
       "      <td>0.569694</td>\n",
       "      <td>False</td>\n",
       "    </tr>\n",
       "  </tbody>\n",
       "</table>\n",
       "<p>785 rows × 45 columns</p>\n",
       "</div>"
      ],
      "text/plain": [
       "     epoch pred_task_0   pred_task_1 pred_task_2 pred_task_3 pred_task_4  \\\n",
       "0        4       toxic  severe_toxic     obscene      threat      insult   \n",
       "1        4       toxic  severe_toxic     obscene      threat      insult   \n",
       "2        4       toxic  severe_toxic     obscene      threat      insult   \n",
       "3        4       toxic  severe_toxic     obscene      threat      insult   \n",
       "4        4       toxic  severe_toxic     obscene      threat      insult   \n",
       "..     ...         ...           ...         ...         ...         ...   \n",
       "780      4       toxic  severe_toxic     obscene      threat      insult   \n",
       "781      4       toxic  severe_toxic     obscene      threat      insult   \n",
       "782      4       toxic  severe_toxic     obscene      threat      insult   \n",
       "783      4       toxic  severe_toxic     obscene      threat      insult   \n",
       "784      4       toxic  severe_toxic     obscene      threat      insult   \n",
       "\n",
       "       pred_task_5              text     split  data_schema_version  ...  \\\n",
       "0    identity_hate     text sample 0  training                    1  ...   \n",
       "1    identity_hate     text sample 1  training                    1  ...   \n",
       "2    identity_hate     text sample 2  training                    1  ...   \n",
       "3    identity_hate     text sample 3  training                    1  ...   \n",
       "4    identity_hate     text sample 4  training                    1  ...   \n",
       "..             ...               ...       ...                  ...  ...   \n",
       "780  identity_hate  text sample 4992  training                    1  ...   \n",
       "781  identity_hate  text sample 4993  training                    1  ...   \n",
       "782  identity_hate  text sample 4994  training                    1  ...   \n",
       "783  identity_hate  text sample 4995  training                    1  ...   \n",
       "784  identity_hate  text sample 4996  training                    1  ...   \n",
       "\n",
       "     likely_mislabeled_3  likely_mislabeled_4 likely_mislabeled_5         x  \\\n",
       "0                  False                 True                True  9.072045   \n",
       "1                  False                 True               False  8.276835   \n",
       "2                   True                 True                True  8.531170   \n",
       "3                   True                False                True  7.104985   \n",
       "4                  False                 True                True  8.001328   \n",
       "..                   ...                  ...                 ...       ...   \n",
       "780                False                 True               False  3.017641   \n",
       "781                 True                False               False  2.765950   \n",
       "782                False                False               False  7.245671   \n",
       "783                 True                False               False  7.348386   \n",
       "784                False                False               False  8.062548   \n",
       "\n",
       "             y  pred  gold  data_error_potential  confidence  \\\n",
       "0     9.058199     1     0              0.546335    0.569694   \n",
       "1     9.542554     1     0              0.546335    0.569694   \n",
       "2     7.458549     1     0              0.546335    0.569694   \n",
       "3    11.084365     1     0              0.546335    0.569694   \n",
       "4    10.265515     1     1              0.453665    0.569694   \n",
       "..         ...   ...   ...                   ...         ...   \n",
       "780   8.699756     1     0              0.546335    0.569694   \n",
       "781   8.672996     1     0              0.546335    0.569694   \n",
       "782  11.039823     1     0              0.546335    0.569694   \n",
       "783  10.798277     1     0              0.546335    0.569694   \n",
       "784   6.421607     1     1              0.453665    0.569694   \n",
       "\n",
       "     likely_mislabeled  \n",
       "0                 True  \n",
       "1                 True  \n",
       "2                 True  \n",
       "3                 True  \n",
       "4                False  \n",
       "..                 ...  \n",
       "780               True  \n",
       "781               True  \n",
       "782               True  \n",
       "783              False  \n",
       "784              False  \n",
       "\n",
       "[785 rows x 45 columns]"
      ]
     },
     "metadata": {},
     "output_type": "display_data"
    },
    {
     "name": "stdout",
     "output_type": "stream",
     "text": [
      "\n",
      "Test\n"
     ]
    },
    {
     "data": {
      "text/html": [
       "<div>\n",
       "<style scoped>\n",
       "    .dataframe tbody tr th:only-of-type {\n",
       "        vertical-align: middle;\n",
       "    }\n",
       "\n",
       "    .dataframe tbody tr th {\n",
       "        vertical-align: top;\n",
       "    }\n",
       "\n",
       "    .dataframe thead th {\n",
       "        text-align: right;\n",
       "    }\n",
       "</style>\n",
       "<table border=\"1\" class=\"dataframe\">\n",
       "  <thead>\n",
       "    <tr style=\"text-align: right;\">\n",
       "      <th></th>\n",
       "      <th>epoch</th>\n",
       "      <th>pred_task_0</th>\n",
       "      <th>pred_task_1</th>\n",
       "      <th>pred_task_2</th>\n",
       "      <th>pred_task_3</th>\n",
       "      <th>pred_task_4</th>\n",
       "      <th>pred_task_5</th>\n",
       "      <th>text</th>\n",
       "      <th>split</th>\n",
       "      <th>data_schema_version</th>\n",
       "      <th>...</th>\n",
       "      <th>likely_mislabeled_3</th>\n",
       "      <th>likely_mislabeled_4</th>\n",
       "      <th>likely_mislabeled_5</th>\n",
       "      <th>x</th>\n",
       "      <th>y</th>\n",
       "      <th>pred</th>\n",
       "      <th>gold</th>\n",
       "      <th>data_error_potential</th>\n",
       "      <th>confidence</th>\n",
       "      <th>likely_mislabeled</th>\n",
       "    </tr>\n",
       "  </thead>\n",
       "  <tbody>\n",
       "    <tr>\n",
       "      <th>0</th>\n",
       "      <td>4</td>\n",
       "      <td>not toxic</td>\n",
       "      <td>not severe_toxic</td>\n",
       "      <td>not obscene</td>\n",
       "      <td>not threat</td>\n",
       "      <td>not insult</td>\n",
       "      <td>not identity_hate</td>\n",
       "      <td>text sample 0</td>\n",
       "      <td>test</td>\n",
       "      <td>1</td>\n",
       "      <td>...</td>\n",
       "      <td>True</td>\n",
       "      <td>False</td>\n",
       "      <td>False</td>\n",
       "      <td>5.973294</td>\n",
       "      <td>4.578478</td>\n",
       "      <td>0</td>\n",
       "      <td>0</td>\n",
       "      <td>0.464583</td>\n",
       "      <td>0.586153</td>\n",
       "      <td>False</td>\n",
       "    </tr>\n",
       "    <tr>\n",
       "      <th>1</th>\n",
       "      <td>4</td>\n",
       "      <td>not toxic</td>\n",
       "      <td>not severe_toxic</td>\n",
       "      <td>not obscene</td>\n",
       "      <td>not threat</td>\n",
       "      <td>not insult</td>\n",
       "      <td>not identity_hate</td>\n",
       "      <td>text sample 1</td>\n",
       "      <td>test</td>\n",
       "      <td>1</td>\n",
       "      <td>...</td>\n",
       "      <td>True</td>\n",
       "      <td>False</td>\n",
       "      <td>True</td>\n",
       "      <td>6.046090</td>\n",
       "      <td>4.740110</td>\n",
       "      <td>0</td>\n",
       "      <td>0</td>\n",
       "      <td>0.464583</td>\n",
       "      <td>0.586153</td>\n",
       "      <td>False</td>\n",
       "    </tr>\n",
       "    <tr>\n",
       "      <th>2</th>\n",
       "      <td>4</td>\n",
       "      <td>not toxic</td>\n",
       "      <td>not severe_toxic</td>\n",
       "      <td>not obscene</td>\n",
       "      <td>not threat</td>\n",
       "      <td>not insult</td>\n",
       "      <td>not identity_hate</td>\n",
       "      <td>text sample 2</td>\n",
       "      <td>test</td>\n",
       "      <td>1</td>\n",
       "      <td>...</td>\n",
       "      <td>False</td>\n",
       "      <td>False</td>\n",
       "      <td>False</td>\n",
       "      <td>3.478628</td>\n",
       "      <td>2.340235</td>\n",
       "      <td>0</td>\n",
       "      <td>0</td>\n",
       "      <td>0.464583</td>\n",
       "      <td>0.586153</td>\n",
       "      <td>False</td>\n",
       "    </tr>\n",
       "    <tr>\n",
       "      <th>3</th>\n",
       "      <td>4</td>\n",
       "      <td>not toxic</td>\n",
       "      <td>not severe_toxic</td>\n",
       "      <td>not obscene</td>\n",
       "      <td>not threat</td>\n",
       "      <td>not insult</td>\n",
       "      <td>not identity_hate</td>\n",
       "      <td>text sample 3</td>\n",
       "      <td>test</td>\n",
       "      <td>1</td>\n",
       "      <td>...</td>\n",
       "      <td>False</td>\n",
       "      <td>True</td>\n",
       "      <td>False</td>\n",
       "      <td>3.796821</td>\n",
       "      <td>3.943028</td>\n",
       "      <td>0</td>\n",
       "      <td>0</td>\n",
       "      <td>0.464583</td>\n",
       "      <td>0.586153</td>\n",
       "      <td>False</td>\n",
       "    </tr>\n",
       "    <tr>\n",
       "      <th>4</th>\n",
       "      <td>4</td>\n",
       "      <td>not toxic</td>\n",
       "      <td>not severe_toxic</td>\n",
       "      <td>not obscene</td>\n",
       "      <td>not threat</td>\n",
       "      <td>not insult</td>\n",
       "      <td>not identity_hate</td>\n",
       "      <td>text sample 4</td>\n",
       "      <td>test</td>\n",
       "      <td>1</td>\n",
       "      <td>...</td>\n",
       "      <td>True</td>\n",
       "      <td>False</td>\n",
       "      <td>False</td>\n",
       "      <td>8.796474</td>\n",
       "      <td>3.168915</td>\n",
       "      <td>0</td>\n",
       "      <td>1</td>\n",
       "      <td>0.535417</td>\n",
       "      <td>0.586153</td>\n",
       "      <td>True</td>\n",
       "    </tr>\n",
       "    <tr>\n",
       "      <th>...</th>\n",
       "      <td>...</td>\n",
       "      <td>...</td>\n",
       "      <td>...</td>\n",
       "      <td>...</td>\n",
       "      <td>...</td>\n",
       "      <td>...</td>\n",
       "      <td>...</td>\n",
       "      <td>...</td>\n",
       "      <td>...</td>\n",
       "      <td>...</td>\n",
       "      <td>...</td>\n",
       "      <td>...</td>\n",
       "      <td>...</td>\n",
       "      <td>...</td>\n",
       "      <td>...</td>\n",
       "      <td>...</td>\n",
       "      <td>...</td>\n",
       "      <td>...</td>\n",
       "      <td>...</td>\n",
       "      <td>...</td>\n",
       "      <td>...</td>\n",
       "    </tr>\n",
       "    <tr>\n",
       "      <th>780</th>\n",
       "      <td>4</td>\n",
       "      <td>not toxic</td>\n",
       "      <td>not severe_toxic</td>\n",
       "      <td>not obscene</td>\n",
       "      <td>not threat</td>\n",
       "      <td>not insult</td>\n",
       "      <td>not identity_hate</td>\n",
       "      <td>text sample 4992</td>\n",
       "      <td>test</td>\n",
       "      <td>1</td>\n",
       "      <td>...</td>\n",
       "      <td>True</td>\n",
       "      <td>False</td>\n",
       "      <td>False</td>\n",
       "      <td>3.531583</td>\n",
       "      <td>0.557858</td>\n",
       "      <td>0</td>\n",
       "      <td>0</td>\n",
       "      <td>0.464583</td>\n",
       "      <td>0.586153</td>\n",
       "      <td>False</td>\n",
       "    </tr>\n",
       "    <tr>\n",
       "      <th>781</th>\n",
       "      <td>4</td>\n",
       "      <td>not toxic</td>\n",
       "      <td>not severe_toxic</td>\n",
       "      <td>not obscene</td>\n",
       "      <td>not threat</td>\n",
       "      <td>not insult</td>\n",
       "      <td>not identity_hate</td>\n",
       "      <td>text sample 4993</td>\n",
       "      <td>test</td>\n",
       "      <td>1</td>\n",
       "      <td>...</td>\n",
       "      <td>False</td>\n",
       "      <td>True</td>\n",
       "      <td>True</td>\n",
       "      <td>9.169562</td>\n",
       "      <td>1.940018</td>\n",
       "      <td>0</td>\n",
       "      <td>0</td>\n",
       "      <td>0.464583</td>\n",
       "      <td>0.586153</td>\n",
       "      <td>False</td>\n",
       "    </tr>\n",
       "    <tr>\n",
       "      <th>782</th>\n",
       "      <td>4</td>\n",
       "      <td>not toxic</td>\n",
       "      <td>not severe_toxic</td>\n",
       "      <td>not obscene</td>\n",
       "      <td>not threat</td>\n",
       "      <td>not insult</td>\n",
       "      <td>not identity_hate</td>\n",
       "      <td>text sample 4994</td>\n",
       "      <td>test</td>\n",
       "      <td>1</td>\n",
       "      <td>...</td>\n",
       "      <td>False</td>\n",
       "      <td>False</td>\n",
       "      <td>True</td>\n",
       "      <td>8.480592</td>\n",
       "      <td>3.483148</td>\n",
       "      <td>0</td>\n",
       "      <td>0</td>\n",
       "      <td>0.464583</td>\n",
       "      <td>0.586153</td>\n",
       "      <td>False</td>\n",
       "    </tr>\n",
       "    <tr>\n",
       "      <th>783</th>\n",
       "      <td>4</td>\n",
       "      <td>not toxic</td>\n",
       "      <td>not severe_toxic</td>\n",
       "      <td>not obscene</td>\n",
       "      <td>not threat</td>\n",
       "      <td>not insult</td>\n",
       "      <td>not identity_hate</td>\n",
       "      <td>text sample 4995</td>\n",
       "      <td>test</td>\n",
       "      <td>1</td>\n",
       "      <td>...</td>\n",
       "      <td>False</td>\n",
       "      <td>True</td>\n",
       "      <td>True</td>\n",
       "      <td>5.343930</td>\n",
       "      <td>-1.017015</td>\n",
       "      <td>0</td>\n",
       "      <td>0</td>\n",
       "      <td>0.464583</td>\n",
       "      <td>0.586153</td>\n",
       "      <td>False</td>\n",
       "    </tr>\n",
       "    <tr>\n",
       "      <th>784</th>\n",
       "      <td>4</td>\n",
       "      <td>not toxic</td>\n",
       "      <td>not severe_toxic</td>\n",
       "      <td>not obscene</td>\n",
       "      <td>not threat</td>\n",
       "      <td>not insult</td>\n",
       "      <td>not identity_hate</td>\n",
       "      <td>text sample 4996</td>\n",
       "      <td>test</td>\n",
       "      <td>1</td>\n",
       "      <td>...</td>\n",
       "      <td>False</td>\n",
       "      <td>False</td>\n",
       "      <td>False</td>\n",
       "      <td>3.495390</td>\n",
       "      <td>2.438054</td>\n",
       "      <td>0</td>\n",
       "      <td>1</td>\n",
       "      <td>0.535417</td>\n",
       "      <td>0.586153</td>\n",
       "      <td>False</td>\n",
       "    </tr>\n",
       "  </tbody>\n",
       "</table>\n",
       "<p>785 rows × 45 columns</p>\n",
       "</div>"
      ],
      "text/plain": [
       "     epoch pred_task_0       pred_task_1  pred_task_2 pred_task_3 pred_task_4  \\\n",
       "0        4   not toxic  not severe_toxic  not obscene  not threat  not insult   \n",
       "1        4   not toxic  not severe_toxic  not obscene  not threat  not insult   \n",
       "2        4   not toxic  not severe_toxic  not obscene  not threat  not insult   \n",
       "3        4   not toxic  not severe_toxic  not obscene  not threat  not insult   \n",
       "4        4   not toxic  not severe_toxic  not obscene  not threat  not insult   \n",
       "..     ...         ...               ...          ...         ...         ...   \n",
       "780      4   not toxic  not severe_toxic  not obscene  not threat  not insult   \n",
       "781      4   not toxic  not severe_toxic  not obscene  not threat  not insult   \n",
       "782      4   not toxic  not severe_toxic  not obscene  not threat  not insult   \n",
       "783      4   not toxic  not severe_toxic  not obscene  not threat  not insult   \n",
       "784      4   not toxic  not severe_toxic  not obscene  not threat  not insult   \n",
       "\n",
       "           pred_task_5              text split  data_schema_version  ...  \\\n",
       "0    not identity_hate     text sample 0  test                    1  ...   \n",
       "1    not identity_hate     text sample 1  test                    1  ...   \n",
       "2    not identity_hate     text sample 2  test                    1  ...   \n",
       "3    not identity_hate     text sample 3  test                    1  ...   \n",
       "4    not identity_hate     text sample 4  test                    1  ...   \n",
       "..                 ...               ...   ...                  ...  ...   \n",
       "780  not identity_hate  text sample 4992  test                    1  ...   \n",
       "781  not identity_hate  text sample 4993  test                    1  ...   \n",
       "782  not identity_hate  text sample 4994  test                    1  ...   \n",
       "783  not identity_hate  text sample 4995  test                    1  ...   \n",
       "784  not identity_hate  text sample 4996  test                    1  ...   \n",
       "\n",
       "     likely_mislabeled_3  likely_mislabeled_4 likely_mislabeled_5         x  \\\n",
       "0                   True                False               False  5.973294   \n",
       "1                   True                False                True  6.046090   \n",
       "2                  False                False               False  3.478628   \n",
       "3                  False                 True               False  3.796821   \n",
       "4                   True                False               False  8.796474   \n",
       "..                   ...                  ...                 ...       ...   \n",
       "780                 True                False               False  3.531583   \n",
       "781                False                 True                True  9.169562   \n",
       "782                False                False                True  8.480592   \n",
       "783                False                 True                True  5.343930   \n",
       "784                False                False               False  3.495390   \n",
       "\n",
       "            y  pred  gold  data_error_potential  confidence  likely_mislabeled  \n",
       "0    4.578478     0     0              0.464583    0.586153              False  \n",
       "1    4.740110     0     0              0.464583    0.586153              False  \n",
       "2    2.340235     0     0              0.464583    0.586153              False  \n",
       "3    3.943028     0     0              0.464583    0.586153              False  \n",
       "4    3.168915     0     1              0.535417    0.586153               True  \n",
       "..        ...   ...   ...                   ...         ...                ...  \n",
       "780  0.557858     0     0              0.464583    0.586153              False  \n",
       "781  1.940018     0     0              0.464583    0.586153              False  \n",
       "782  3.483148     0     0              0.464583    0.586153              False  \n",
       "783 -1.017015     0     0              0.464583    0.586153              False  \n",
       "784  2.438054     0     1              0.535417    0.586153              False  \n",
       "\n",
       "[785 rows x 45 columns]"
      ]
     },
     "metadata": {},
     "output_type": "display_data"
    },
    {
     "name": "stdout",
     "output_type": "stream",
     "text": [
      "\n",
      "Validation\n"
     ]
    },
    {
     "data": {
      "text/html": [
       "<div>\n",
       "<style scoped>\n",
       "    .dataframe tbody tr th:only-of-type {\n",
       "        vertical-align: middle;\n",
       "    }\n",
       "\n",
       "    .dataframe tbody tr th {\n",
       "        vertical-align: top;\n",
       "    }\n",
       "\n",
       "    .dataframe thead th {\n",
       "        text-align: right;\n",
       "    }\n",
       "</style>\n",
       "<table border=\"1\" class=\"dataframe\">\n",
       "  <thead>\n",
       "    <tr style=\"text-align: right;\">\n",
       "      <th></th>\n",
       "      <th>epoch</th>\n",
       "      <th>pred_task_0</th>\n",
       "      <th>pred_task_1</th>\n",
       "      <th>pred_task_2</th>\n",
       "      <th>pred_task_3</th>\n",
       "      <th>pred_task_4</th>\n",
       "      <th>pred_task_5</th>\n",
       "      <th>text</th>\n",
       "      <th>split</th>\n",
       "      <th>data_schema_version</th>\n",
       "      <th>...</th>\n",
       "      <th>likely_mislabeled_3</th>\n",
       "      <th>likely_mislabeled_4</th>\n",
       "      <th>likely_mislabeled_5</th>\n",
       "      <th>x</th>\n",
       "      <th>y</th>\n",
       "      <th>pred</th>\n",
       "      <th>gold</th>\n",
       "      <th>data_error_potential</th>\n",
       "      <th>confidence</th>\n",
       "      <th>likely_mislabeled</th>\n",
       "    </tr>\n",
       "  </thead>\n",
       "  <tbody>\n",
       "    <tr>\n",
       "      <th>0</th>\n",
       "      <td>4</td>\n",
       "      <td>toxic</td>\n",
       "      <td>severe_toxic</td>\n",
       "      <td>obscene</td>\n",
       "      <td>threat</td>\n",
       "      <td>insult</td>\n",
       "      <td>identity_hate</td>\n",
       "      <td>text sample 0</td>\n",
       "      <td>validation</td>\n",
       "      <td>1</td>\n",
       "      <td>...</td>\n",
       "      <td>False</td>\n",
       "      <td>True</td>\n",
       "      <td>True</td>\n",
       "      <td>4.761479</td>\n",
       "      <td>-0.415481</td>\n",
       "      <td>1</td>\n",
       "      <td>0</td>\n",
       "      <td>0.583715</td>\n",
       "      <td>0.686851</td>\n",
       "      <td>True</td>\n",
       "    </tr>\n",
       "    <tr>\n",
       "      <th>1</th>\n",
       "      <td>4</td>\n",
       "      <td>toxic</td>\n",
       "      <td>severe_toxic</td>\n",
       "      <td>obscene</td>\n",
       "      <td>threat</td>\n",
       "      <td>insult</td>\n",
       "      <td>identity_hate</td>\n",
       "      <td>text sample 1</td>\n",
       "      <td>validation</td>\n",
       "      <td>1</td>\n",
       "      <td>...</td>\n",
       "      <td>False</td>\n",
       "      <td>True</td>\n",
       "      <td>False</td>\n",
       "      <td>6.292846</td>\n",
       "      <td>-0.318058</td>\n",
       "      <td>1</td>\n",
       "      <td>0</td>\n",
       "      <td>0.583715</td>\n",
       "      <td>0.686851</td>\n",
       "      <td>True</td>\n",
       "    </tr>\n",
       "    <tr>\n",
       "      <th>2</th>\n",
       "      <td>4</td>\n",
       "      <td>toxic</td>\n",
       "      <td>severe_toxic</td>\n",
       "      <td>obscene</td>\n",
       "      <td>threat</td>\n",
       "      <td>insult</td>\n",
       "      <td>identity_hate</td>\n",
       "      <td>text sample 2</td>\n",
       "      <td>validation</td>\n",
       "      <td>1</td>\n",
       "      <td>...</td>\n",
       "      <td>True</td>\n",
       "      <td>True</td>\n",
       "      <td>True</td>\n",
       "      <td>6.234266</td>\n",
       "      <td>5.554712</td>\n",
       "      <td>1</td>\n",
       "      <td>0</td>\n",
       "      <td>0.583715</td>\n",
       "      <td>0.686851</td>\n",
       "      <td>True</td>\n",
       "    </tr>\n",
       "    <tr>\n",
       "      <th>3</th>\n",
       "      <td>4</td>\n",
       "      <td>toxic</td>\n",
       "      <td>severe_toxic</td>\n",
       "      <td>obscene</td>\n",
       "      <td>threat</td>\n",
       "      <td>insult</td>\n",
       "      <td>identity_hate</td>\n",
       "      <td>text sample 3</td>\n",
       "      <td>validation</td>\n",
       "      <td>1</td>\n",
       "      <td>...</td>\n",
       "      <td>True</td>\n",
       "      <td>False</td>\n",
       "      <td>True</td>\n",
       "      <td>5.533935</td>\n",
       "      <td>5.467899</td>\n",
       "      <td>1</td>\n",
       "      <td>0</td>\n",
       "      <td>0.583715</td>\n",
       "      <td>0.686851</td>\n",
       "      <td>True</td>\n",
       "    </tr>\n",
       "    <tr>\n",
       "      <th>4</th>\n",
       "      <td>4</td>\n",
       "      <td>toxic</td>\n",
       "      <td>severe_toxic</td>\n",
       "      <td>obscene</td>\n",
       "      <td>threat</td>\n",
       "      <td>insult</td>\n",
       "      <td>identity_hate</td>\n",
       "      <td>text sample 4</td>\n",
       "      <td>validation</td>\n",
       "      <td>1</td>\n",
       "      <td>...</td>\n",
       "      <td>False</td>\n",
       "      <td>True</td>\n",
       "      <td>True</td>\n",
       "      <td>4.307050</td>\n",
       "      <td>0.537139</td>\n",
       "      <td>1</td>\n",
       "      <td>1</td>\n",
       "      <td>0.416285</td>\n",
       "      <td>0.686851</td>\n",
       "      <td>False</td>\n",
       "    </tr>\n",
       "    <tr>\n",
       "      <th>...</th>\n",
       "      <td>...</td>\n",
       "      <td>...</td>\n",
       "      <td>...</td>\n",
       "      <td>...</td>\n",
       "      <td>...</td>\n",
       "      <td>...</td>\n",
       "      <td>...</td>\n",
       "      <td>...</td>\n",
       "      <td>...</td>\n",
       "      <td>...</td>\n",
       "      <td>...</td>\n",
       "      <td>...</td>\n",
       "      <td>...</td>\n",
       "      <td>...</td>\n",
       "      <td>...</td>\n",
       "      <td>...</td>\n",
       "      <td>...</td>\n",
       "      <td>...</td>\n",
       "      <td>...</td>\n",
       "      <td>...</td>\n",
       "      <td>...</td>\n",
       "    </tr>\n",
       "    <tr>\n",
       "      <th>780</th>\n",
       "      <td>4</td>\n",
       "      <td>toxic</td>\n",
       "      <td>severe_toxic</td>\n",
       "      <td>obscene</td>\n",
       "      <td>threat</td>\n",
       "      <td>insult</td>\n",
       "      <td>identity_hate</td>\n",
       "      <td>text sample 4992</td>\n",
       "      <td>validation</td>\n",
       "      <td>1</td>\n",
       "      <td>...</td>\n",
       "      <td>False</td>\n",
       "      <td>True</td>\n",
       "      <td>False</td>\n",
       "      <td>7.970720</td>\n",
       "      <td>1.048047</td>\n",
       "      <td>1</td>\n",
       "      <td>0</td>\n",
       "      <td>0.583715</td>\n",
       "      <td>0.686851</td>\n",
       "      <td>True</td>\n",
       "    </tr>\n",
       "    <tr>\n",
       "      <th>781</th>\n",
       "      <td>4</td>\n",
       "      <td>toxic</td>\n",
       "      <td>severe_toxic</td>\n",
       "      <td>obscene</td>\n",
       "      <td>threat</td>\n",
       "      <td>insult</td>\n",
       "      <td>identity_hate</td>\n",
       "      <td>text sample 4993</td>\n",
       "      <td>validation</td>\n",
       "      <td>1</td>\n",
       "      <td>...</td>\n",
       "      <td>True</td>\n",
       "      <td>False</td>\n",
       "      <td>False</td>\n",
       "      <td>2.784461</td>\n",
       "      <td>3.391117</td>\n",
       "      <td>1</td>\n",
       "      <td>0</td>\n",
       "      <td>0.583715</td>\n",
       "      <td>0.686851</td>\n",
       "      <td>True</td>\n",
       "    </tr>\n",
       "    <tr>\n",
       "      <th>782</th>\n",
       "      <td>4</td>\n",
       "      <td>toxic</td>\n",
       "      <td>severe_toxic</td>\n",
       "      <td>obscene</td>\n",
       "      <td>threat</td>\n",
       "      <td>insult</td>\n",
       "      <td>identity_hate</td>\n",
       "      <td>text sample 4994</td>\n",
       "      <td>validation</td>\n",
       "      <td>1</td>\n",
       "      <td>...</td>\n",
       "      <td>False</td>\n",
       "      <td>False</td>\n",
       "      <td>False</td>\n",
       "      <td>2.884337</td>\n",
       "      <td>2.255941</td>\n",
       "      <td>1</td>\n",
       "      <td>0</td>\n",
       "      <td>0.583715</td>\n",
       "      <td>0.686851</td>\n",
       "      <td>True</td>\n",
       "    </tr>\n",
       "    <tr>\n",
       "      <th>783</th>\n",
       "      <td>4</td>\n",
       "      <td>toxic</td>\n",
       "      <td>severe_toxic</td>\n",
       "      <td>obscene</td>\n",
       "      <td>threat</td>\n",
       "      <td>insult</td>\n",
       "      <td>identity_hate</td>\n",
       "      <td>text sample 4995</td>\n",
       "      <td>validation</td>\n",
       "      <td>1</td>\n",
       "      <td>...</td>\n",
       "      <td>True</td>\n",
       "      <td>False</td>\n",
       "      <td>False</td>\n",
       "      <td>7.039492</td>\n",
       "      <td>0.170575</td>\n",
       "      <td>1</td>\n",
       "      <td>0</td>\n",
       "      <td>0.583715</td>\n",
       "      <td>0.686851</td>\n",
       "      <td>False</td>\n",
       "    </tr>\n",
       "    <tr>\n",
       "      <th>784</th>\n",
       "      <td>4</td>\n",
       "      <td>toxic</td>\n",
       "      <td>severe_toxic</td>\n",
       "      <td>obscene</td>\n",
       "      <td>threat</td>\n",
       "      <td>insult</td>\n",
       "      <td>identity_hate</td>\n",
       "      <td>text sample 4996</td>\n",
       "      <td>validation</td>\n",
       "      <td>1</td>\n",
       "      <td>...</td>\n",
       "      <td>False</td>\n",
       "      <td>False</td>\n",
       "      <td>False</td>\n",
       "      <td>5.456813</td>\n",
       "      <td>0.695999</td>\n",
       "      <td>1</td>\n",
       "      <td>1</td>\n",
       "      <td>0.416285</td>\n",
       "      <td>0.686851</td>\n",
       "      <td>False</td>\n",
       "    </tr>\n",
       "  </tbody>\n",
       "</table>\n",
       "<p>785 rows × 45 columns</p>\n",
       "</div>"
      ],
      "text/plain": [
       "     epoch pred_task_0   pred_task_1 pred_task_2 pred_task_3 pred_task_4  \\\n",
       "0        4       toxic  severe_toxic     obscene      threat      insult   \n",
       "1        4       toxic  severe_toxic     obscene      threat      insult   \n",
       "2        4       toxic  severe_toxic     obscene      threat      insult   \n",
       "3        4       toxic  severe_toxic     obscene      threat      insult   \n",
       "4        4       toxic  severe_toxic     obscene      threat      insult   \n",
       "..     ...         ...           ...         ...         ...         ...   \n",
       "780      4       toxic  severe_toxic     obscene      threat      insult   \n",
       "781      4       toxic  severe_toxic     obscene      threat      insult   \n",
       "782      4       toxic  severe_toxic     obscene      threat      insult   \n",
       "783      4       toxic  severe_toxic     obscene      threat      insult   \n",
       "784      4       toxic  severe_toxic     obscene      threat      insult   \n",
       "\n",
       "       pred_task_5              text       split  data_schema_version  ...  \\\n",
       "0    identity_hate     text sample 0  validation                    1  ...   \n",
       "1    identity_hate     text sample 1  validation                    1  ...   \n",
       "2    identity_hate     text sample 2  validation                    1  ...   \n",
       "3    identity_hate     text sample 3  validation                    1  ...   \n",
       "4    identity_hate     text sample 4  validation                    1  ...   \n",
       "..             ...               ...         ...                  ...  ...   \n",
       "780  identity_hate  text sample 4992  validation                    1  ...   \n",
       "781  identity_hate  text sample 4993  validation                    1  ...   \n",
       "782  identity_hate  text sample 4994  validation                    1  ...   \n",
       "783  identity_hate  text sample 4995  validation                    1  ...   \n",
       "784  identity_hate  text sample 4996  validation                    1  ...   \n",
       "\n",
       "     likely_mislabeled_3  likely_mislabeled_4 likely_mislabeled_5         x  \\\n",
       "0                  False                 True                True  4.761479   \n",
       "1                  False                 True               False  6.292846   \n",
       "2                   True                 True                True  6.234266   \n",
       "3                   True                False                True  5.533935   \n",
       "4                  False                 True                True  4.307050   \n",
       "..                   ...                  ...                 ...       ...   \n",
       "780                False                 True               False  7.970720   \n",
       "781                 True                False               False  2.784461   \n",
       "782                False                False               False  2.884337   \n",
       "783                 True                False               False  7.039492   \n",
       "784                False                False               False  5.456813   \n",
       "\n",
       "            y  pred  gold  data_error_potential  confidence  likely_mislabeled  \n",
       "0   -0.415481     1     0              0.583715    0.686851               True  \n",
       "1   -0.318058     1     0              0.583715    0.686851               True  \n",
       "2    5.554712     1     0              0.583715    0.686851               True  \n",
       "3    5.467899     1     0              0.583715    0.686851               True  \n",
       "4    0.537139     1     1              0.416285    0.686851              False  \n",
       "..        ...   ...   ...                   ...         ...                ...  \n",
       "780  1.048047     1     0              0.583715    0.686851               True  \n",
       "781  3.391117     1     0              0.583715    0.686851               True  \n",
       "782  2.255941     1     0              0.583715    0.686851               True  \n",
       "783  0.170575     1     0              0.583715    0.686851              False  \n",
       "784  0.695999     1     1              0.416285    0.686851              False  \n",
       "\n",
       "[785 rows x 45 columns]"
      ]
     },
     "metadata": {},
     "output_type": "display_data"
    },
    {
     "data": {
      "text/plain": [
       "(     epoch pred_task_0   pred_task_1 pred_task_2 pred_task_3 pred_task_4  \\\n",
       " 0        4       toxic  severe_toxic     obscene      threat      insult   \n",
       " 1        4       toxic  severe_toxic     obscene      threat      insult   \n",
       " 2        4       toxic  severe_toxic     obscene      threat      insult   \n",
       " 3        4       toxic  severe_toxic     obscene      threat      insult   \n",
       " 4        4       toxic  severe_toxic     obscene      threat      insult   \n",
       " ..     ...         ...           ...         ...         ...         ...   \n",
       " 780      4       toxic  severe_toxic     obscene      threat      insult   \n",
       " 781      4       toxic  severe_toxic     obscene      threat      insult   \n",
       " 782      4       toxic  severe_toxic     obscene      threat      insult   \n",
       " 783      4       toxic  severe_toxic     obscene      threat      insult   \n",
       " 784      4       toxic  severe_toxic     obscene      threat      insult   \n",
       " \n",
       "        pred_task_5              text     split  data_schema_version  ...  \\\n",
       " 0    identity_hate     text sample 0  training                    1  ...   \n",
       " 1    identity_hate     text sample 1  training                    1  ...   \n",
       " 2    identity_hate     text sample 2  training                    1  ...   \n",
       " 3    identity_hate     text sample 3  training                    1  ...   \n",
       " 4    identity_hate     text sample 4  training                    1  ...   \n",
       " ..             ...               ...       ...                  ...  ...   \n",
       " 780  identity_hate  text sample 4992  training                    1  ...   \n",
       " 781  identity_hate  text sample 4993  training                    1  ...   \n",
       " 782  identity_hate  text sample 4994  training                    1  ...   \n",
       " 783  identity_hate  text sample 4995  training                    1  ...   \n",
       " 784  identity_hate  text sample 4996  training                    1  ...   \n",
       " \n",
       "      likely_mislabeled_3  likely_mislabeled_4 likely_mislabeled_5         x  \\\n",
       " 0                  False                 True                True  9.072045   \n",
       " 1                  False                 True               False  8.276835   \n",
       " 2                   True                 True                True  8.531170   \n",
       " 3                   True                False                True  7.104985   \n",
       " 4                  False                 True                True  8.001328   \n",
       " ..                   ...                  ...                 ...       ...   \n",
       " 780                False                 True               False  3.017641   \n",
       " 781                 True                False               False  2.765950   \n",
       " 782                False                False               False  7.245671   \n",
       " 783                 True                False               False  7.348386   \n",
       " 784                False                False               False  8.062548   \n",
       " \n",
       "              y  pred  gold  data_error_potential  confidence  \\\n",
       " 0     9.058199     1     0              0.546335    0.569694   \n",
       " 1     9.542554     1     0              0.546335    0.569694   \n",
       " 2     7.458549     1     0              0.546335    0.569694   \n",
       " 3    11.084365     1     0              0.546335    0.569694   \n",
       " 4    10.265515     1     1              0.453665    0.569694   \n",
       " ..         ...   ...   ...                   ...         ...   \n",
       " 780   8.699756     1     0              0.546335    0.569694   \n",
       " 781   8.672996     1     0              0.546335    0.569694   \n",
       " 782  11.039823     1     0              0.546335    0.569694   \n",
       " 783  10.798277     1     0              0.546335    0.569694   \n",
       " 784   6.421607     1     1              0.453665    0.569694   \n",
       " \n",
       "      likely_mislabeled  \n",
       " 0                 True  \n",
       " 1                 True  \n",
       " 2                 True  \n",
       " 3                 True  \n",
       " 4                False  \n",
       " ..                 ...  \n",
       " 780               True  \n",
       " 781               True  \n",
       " 782               True  \n",
       " 783              False  \n",
       " 784              False  \n",
       " \n",
       " [785 rows x 45 columns],\n",
       "      epoch pred_task_0       pred_task_1  pred_task_2 pred_task_3 pred_task_4  \\\n",
       " 0        4   not toxic  not severe_toxic  not obscene  not threat  not insult   \n",
       " 1        4   not toxic  not severe_toxic  not obscene  not threat  not insult   \n",
       " 2        4   not toxic  not severe_toxic  not obscene  not threat  not insult   \n",
       " 3        4   not toxic  not severe_toxic  not obscene  not threat  not insult   \n",
       " 4        4   not toxic  not severe_toxic  not obscene  not threat  not insult   \n",
       " ..     ...         ...               ...          ...         ...         ...   \n",
       " 780      4   not toxic  not severe_toxic  not obscene  not threat  not insult   \n",
       " 781      4   not toxic  not severe_toxic  not obscene  not threat  not insult   \n",
       " 782      4   not toxic  not severe_toxic  not obscene  not threat  not insult   \n",
       " 783      4   not toxic  not severe_toxic  not obscene  not threat  not insult   \n",
       " 784      4   not toxic  not severe_toxic  not obscene  not threat  not insult   \n",
       " \n",
       "            pred_task_5              text split  data_schema_version  ...  \\\n",
       " 0    not identity_hate     text sample 0  test                    1  ...   \n",
       " 1    not identity_hate     text sample 1  test                    1  ...   \n",
       " 2    not identity_hate     text sample 2  test                    1  ...   \n",
       " 3    not identity_hate     text sample 3  test                    1  ...   \n",
       " 4    not identity_hate     text sample 4  test                    1  ...   \n",
       " ..                 ...               ...   ...                  ...  ...   \n",
       " 780  not identity_hate  text sample 4992  test                    1  ...   \n",
       " 781  not identity_hate  text sample 4993  test                    1  ...   \n",
       " 782  not identity_hate  text sample 4994  test                    1  ...   \n",
       " 783  not identity_hate  text sample 4995  test                    1  ...   \n",
       " 784  not identity_hate  text sample 4996  test                    1  ...   \n",
       " \n",
       "      likely_mislabeled_3  likely_mislabeled_4 likely_mislabeled_5         x  \\\n",
       " 0                   True                False               False  5.973294   \n",
       " 1                   True                False                True  6.046090   \n",
       " 2                  False                False               False  3.478628   \n",
       " 3                  False                 True               False  3.796821   \n",
       " 4                   True                False               False  8.796474   \n",
       " ..                   ...                  ...                 ...       ...   \n",
       " 780                 True                False               False  3.531583   \n",
       " 781                False                 True                True  9.169562   \n",
       " 782                False                False                True  8.480592   \n",
       " 783                False                 True                True  5.343930   \n",
       " 784                False                False               False  3.495390   \n",
       " \n",
       "             y  pred  gold  data_error_potential  confidence  likely_mislabeled  \n",
       " 0    4.578478     0     0              0.464583    0.586153              False  \n",
       " 1    4.740110     0     0              0.464583    0.586153              False  \n",
       " 2    2.340235     0     0              0.464583    0.586153              False  \n",
       " 3    3.943028     0     0              0.464583    0.586153              False  \n",
       " 4    3.168915     0     1              0.535417    0.586153               True  \n",
       " ..        ...   ...   ...                   ...         ...                ...  \n",
       " 780  0.557858     0     0              0.464583    0.586153              False  \n",
       " 781  1.940018     0     0              0.464583    0.586153              False  \n",
       " 782  3.483148     0     0              0.464583    0.586153              False  \n",
       " 783 -1.017015     0     0              0.464583    0.586153              False  \n",
       " 784  2.438054     0     1              0.535417    0.586153              False  \n",
       " \n",
       " [785 rows x 45 columns],\n",
       "      epoch pred_task_0   pred_task_1 pred_task_2 pred_task_3 pred_task_4  \\\n",
       " 0        4       toxic  severe_toxic     obscene      threat      insult   \n",
       " 1        4       toxic  severe_toxic     obscene      threat      insult   \n",
       " 2        4       toxic  severe_toxic     obscene      threat      insult   \n",
       " 3        4       toxic  severe_toxic     obscene      threat      insult   \n",
       " 4        4       toxic  severe_toxic     obscene      threat      insult   \n",
       " ..     ...         ...           ...         ...         ...         ...   \n",
       " 780      4       toxic  severe_toxic     obscene      threat      insult   \n",
       " 781      4       toxic  severe_toxic     obscene      threat      insult   \n",
       " 782      4       toxic  severe_toxic     obscene      threat      insult   \n",
       " 783      4       toxic  severe_toxic     obscene      threat      insult   \n",
       " 784      4       toxic  severe_toxic     obscene      threat      insult   \n",
       " \n",
       "        pred_task_5              text       split  data_schema_version  ...  \\\n",
       " 0    identity_hate     text sample 0  validation                    1  ...   \n",
       " 1    identity_hate     text sample 1  validation                    1  ...   \n",
       " 2    identity_hate     text sample 2  validation                    1  ...   \n",
       " 3    identity_hate     text sample 3  validation                    1  ...   \n",
       " 4    identity_hate     text sample 4  validation                    1  ...   \n",
       " ..             ...               ...         ...                  ...  ...   \n",
       " 780  identity_hate  text sample 4992  validation                    1  ...   \n",
       " 781  identity_hate  text sample 4993  validation                    1  ...   \n",
       " 782  identity_hate  text sample 4994  validation                    1  ...   \n",
       " 783  identity_hate  text sample 4995  validation                    1  ...   \n",
       " 784  identity_hate  text sample 4996  validation                    1  ...   \n",
       " \n",
       "      likely_mislabeled_3  likely_mislabeled_4 likely_mislabeled_5         x  \\\n",
       " 0                  False                 True                True  4.761479   \n",
       " 1                  False                 True               False  6.292846   \n",
       " 2                   True                 True                True  6.234266   \n",
       " 3                   True                False                True  5.533935   \n",
       " 4                  False                 True                True  4.307050   \n",
       " ..                   ...                  ...                 ...       ...   \n",
       " 780                False                 True               False  7.970720   \n",
       " 781                 True                False               False  2.784461   \n",
       " 782                False                False               False  2.884337   \n",
       " 783                 True                False               False  7.039492   \n",
       " 784                False                False               False  5.456813   \n",
       " \n",
       "             y  pred  gold  data_error_potential  confidence  likely_mislabeled  \n",
       " 0   -0.415481     1     0              0.583715    0.686851               True  \n",
       " 1   -0.318058     1     0              0.583715    0.686851               True  \n",
       " 2    5.554712     1     0              0.583715    0.686851               True  \n",
       " 3    5.467899     1     0              0.583715    0.686851               True  \n",
       " 4    0.537139     1     1              0.416285    0.686851              False  \n",
       " ..        ...   ...   ...                   ...         ...                ...  \n",
       " 780  1.048047     1     0              0.583715    0.686851               True  \n",
       " 781  3.391117     1     0              0.583715    0.686851               True  \n",
       " 782  2.255941     1     0              0.583715    0.686851               True  \n",
       " 783  0.170575     1     0              0.583715    0.686851              False  \n",
       " 784  0.695999     1     1              0.416285    0.686851              False  \n",
       " \n",
       " [785 rows x 45 columns])"
      ]
     },
     "execution_count": 24,
     "metadata": {},
     "output_type": "execute_result"
    }
   ],
   "source": [
    "see_results(wait=False)\n"
   ]
  },
  {
   "cell_type": "markdown",
   "id": "fe82cc51",
   "metadata": {},
   "source": [
    "## NER"
   ]
  },
  {
   "cell_type": "code",
   "execution_count": 20,
   "id": "eb6ba254",
   "metadata": {},
   "outputs": [
    {
     "name": "stdout",
     "output_type": "stream",
     "text": [
      "💭 Project test-ner-run was not found.\n",
      "✨ Initializing public project test-ner-run\n",
      "🏃‍♂️ Starting run eventual_purple_felidae\n",
      "Exporting input data [########################################] 100.00% elapsed time  :     0.00s =  0.0m =  0.0h\n",
      "Appending input data [########################################] 100.00% elapsed time  :     0.00s =  0.0m =  0.0h\n",
      "Appending input data [########################################] 100.00% elapsed time  :     0.00s =  0.0m =  0.0h\n",
      " "
     ]
    },
    {
     "data": {
      "application/vnd.jupyter.widget-view+json": {
       "model_id": "d0f0a115f8c746c9a818adc34e82199d",
       "version_major": 2,
       "version_minor": 0
      },
      "text/plain": [
       "  0%|          | 0/6 [00:00<?, ?it/s]"
      ]
     },
     "metadata": {},
     "output_type": "display_data"
    },
    {
     "name": "stdout",
     "output_type": "stream",
     "text": [
      "☁️ Uploading Data\n"
     ]
    },
    {
     "data": {
      "application/vnd.jupyter.widget-view+json": {
       "model_id": "ccd19c5e041d445f96e387bde0f1dcf7",
       "version_major": 2,
       "version_minor": 0
      },
      "text/plain": [
       "training:   0%|          | 0/6 [00:00<?, ?it/s]"
      ]
     },
     "metadata": {},
     "output_type": "display_data"
    },
    {
     "data": {
      "application/vnd.jupyter.widget-view+json": {
       "model_id": "",
       "version_major": 2,
       "version_minor": 0
      },
      "text/plain": [
       "Combining batches for upload:   0%|          | 0/1 [00:00<?, ?it/s]"
      ]
     },
     "metadata": {},
     "output_type": "display_data"
    },
    {
     "data": {
      "application/vnd.jupyter.widget-view+json": {
       "model_id": "",
       "version_major": 2,
       "version_minor": 0
      },
      "text/plain": [
       "training (epoch=):   0%|          | 0/3 [00:00<?, ?it/s]"
      ]
     },
     "metadata": {},
     "output_type": "display_data"
    },
    {
     "data": {
      "application/vnd.jupyter.widget-view+json": {
       "model_id": "",
       "version_major": 2,
       "version_minor": 0
      },
      "text/plain": [
       "Combining batches for upload:   0%|          | 0/1 [00:00<?, ?it/s]"
      ]
     },
     "metadata": {},
     "output_type": "display_data"
    },
    {
     "data": {
      "application/vnd.jupyter.widget-view+json": {
       "model_id": "",
       "version_major": 2,
       "version_minor": 0
      },
      "text/plain": [
       "training (epoch=):   0%|          | 0/3 [00:00<?, ?it/s]"
      ]
     },
     "metadata": {},
     "output_type": "display_data"
    },
    {
     "data": {
      "application/vnd.jupyter.widget-view+json": {
       "model_id": "",
       "version_major": 2,
       "version_minor": 0
      },
      "text/plain": [
       "Combining batches for upload:   0%|          | 0/1 [00:00<?, ?it/s]"
      ]
     },
     "metadata": {},
     "output_type": "display_data"
    },
    {
     "data": {
      "application/vnd.jupyter.widget-view+json": {
       "model_id": "",
       "version_major": 2,
       "version_minor": 0
      },
      "text/plain": [
       "training (epoch=):   0%|          | 0/3 [00:00<?, ?it/s]"
      ]
     },
     "metadata": {},
     "output_type": "display_data"
    },
    {
     "data": {
      "application/vnd.jupyter.widget-view+json": {
       "model_id": "",
       "version_major": 2,
       "version_minor": 0
      },
      "text/plain": [
       "Combining batches for upload:   0%|          | 0/1 [00:00<?, ?it/s]"
      ]
     },
     "metadata": {},
     "output_type": "display_data"
    },
    {
     "data": {
      "application/vnd.jupyter.widget-view+json": {
       "model_id": "",
       "version_major": 2,
       "version_minor": 0
      },
      "text/plain": [
       "training (epoch=):   0%|          | 0/3 [00:00<?, ?it/s]"
      ]
     },
     "metadata": {},
     "output_type": "display_data"
    },
    {
     "data": {
      "application/vnd.jupyter.widget-view+json": {
       "model_id": "",
       "version_major": 2,
       "version_minor": 0
      },
      "text/plain": [
       "Combining batches for upload:   0%|          | 0/1 [00:00<?, ?it/s]"
      ]
     },
     "metadata": {},
     "output_type": "display_data"
    },
    {
     "data": {
      "application/vnd.jupyter.widget-view+json": {
       "model_id": "",
       "version_major": 2,
       "version_minor": 0
      },
      "text/plain": [
       "training (epoch=):   0%|          | 0/3 [00:00<?, ?it/s]"
      ]
     },
     "metadata": {},
     "output_type": "display_data"
    },
    {
     "data": {
      "application/vnd.jupyter.widget-view+json": {
       "model_id": "",
       "version_major": 2,
       "version_minor": 0
      },
      "text/plain": [
       "Combining batches for upload:   0%|          | 0/1 [00:00<?, ?it/s]"
      ]
     },
     "metadata": {},
     "output_type": "display_data"
    },
    {
     "data": {
      "application/vnd.jupyter.widget-view+json": {
       "model_id": "",
       "version_major": 2,
       "version_minor": 0
      },
      "text/plain": [
       "training (epoch=):   0%|          | 0/3 [00:00<?, ?it/s]"
      ]
     },
     "metadata": {},
     "output_type": "display_data"
    },
    {
     "data": {
      "application/vnd.jupyter.widget-view+json": {
       "model_id": "0e59fac9ad63403499723be773418d16",
       "version_major": 2,
       "version_minor": 0
      },
      "text/plain": [
       "validation:   0%|          | 0/6 [00:00<?, ?it/s]"
      ]
     },
     "metadata": {},
     "output_type": "display_data"
    },
    {
     "data": {
      "application/vnd.jupyter.widget-view+json": {
       "model_id": "",
       "version_major": 2,
       "version_minor": 0
      },
      "text/plain": [
       "Combining batches for upload:   0%|          | 0/1 [00:00<?, ?it/s]"
      ]
     },
     "metadata": {},
     "output_type": "display_data"
    },
    {
     "data": {
      "application/vnd.jupyter.widget-view+json": {
       "model_id": "",
       "version_major": 2,
       "version_minor": 0
      },
      "text/plain": [
       "validation (epoch=):   0%|          | 0/3 [00:00<?, ?it/s]"
      ]
     },
     "metadata": {},
     "output_type": "display_data"
    },
    {
     "data": {
      "application/vnd.jupyter.widget-view+json": {
       "model_id": "",
       "version_major": 2,
       "version_minor": 0
      },
      "text/plain": [
       "Combining batches for upload:   0%|          | 0/1 [00:00<?, ?it/s]"
      ]
     },
     "metadata": {},
     "output_type": "display_data"
    },
    {
     "data": {
      "application/vnd.jupyter.widget-view+json": {
       "model_id": "",
       "version_major": 2,
       "version_minor": 0
      },
      "text/plain": [
       "validation (epoch=):   0%|          | 0/3 [00:00<?, ?it/s]"
      ]
     },
     "metadata": {},
     "output_type": "display_data"
    },
    {
     "data": {
      "application/vnd.jupyter.widget-view+json": {
       "model_id": "",
       "version_major": 2,
       "version_minor": 0
      },
      "text/plain": [
       "Combining batches for upload:   0%|          | 0/1 [00:00<?, ?it/s]"
      ]
     },
     "metadata": {},
     "output_type": "display_data"
    },
    {
     "data": {
      "application/vnd.jupyter.widget-view+json": {
       "model_id": "",
       "version_major": 2,
       "version_minor": 0
      },
      "text/plain": [
       "validation (epoch=):   0%|          | 0/3 [00:00<?, ?it/s]"
      ]
     },
     "metadata": {},
     "output_type": "display_data"
    },
    {
     "data": {
      "application/vnd.jupyter.widget-view+json": {
       "model_id": "",
       "version_major": 2,
       "version_minor": 0
      },
      "text/plain": [
       "Combining batches for upload:   0%|          | 0/1 [00:00<?, ?it/s]"
      ]
     },
     "metadata": {},
     "output_type": "display_data"
    },
    {
     "data": {
      "application/vnd.jupyter.widget-view+json": {
       "model_id": "",
       "version_major": 2,
       "version_minor": 0
      },
      "text/plain": [
       "validation (epoch=):   0%|          | 0/3 [00:00<?, ?it/s]"
      ]
     },
     "metadata": {},
     "output_type": "display_data"
    },
    {
     "data": {
      "application/vnd.jupyter.widget-view+json": {
       "model_id": "",
       "version_major": 2,
       "version_minor": 0
      },
      "text/plain": [
       "Combining batches for upload:   0%|          | 0/1 [00:00<?, ?it/s]"
      ]
     },
     "metadata": {},
     "output_type": "display_data"
    },
    {
     "data": {
      "application/vnd.jupyter.widget-view+json": {
       "model_id": "",
       "version_major": 2,
       "version_minor": 0
      },
      "text/plain": [
       "validation (epoch=):   0%|          | 0/3 [00:00<?, ?it/s]"
      ]
     },
     "metadata": {},
     "output_type": "display_data"
    },
    {
     "data": {
      "application/vnd.jupyter.widget-view+json": {
       "model_id": "",
       "version_major": 2,
       "version_minor": 0
      },
      "text/plain": [
       "Combining batches for upload:   0%|          | 0/1 [00:00<?, ?it/s]"
      ]
     },
     "metadata": {},
     "output_type": "display_data"
    },
    {
     "data": {
      "application/vnd.jupyter.widget-view+json": {
       "model_id": "",
       "version_major": 2,
       "version_minor": 0
      },
      "text/plain": [
       "validation (epoch=):   0%|          | 0/3 [00:00<?, ?it/s]"
      ]
     },
     "metadata": {},
     "output_type": "display_data"
    },
    {
     "data": {
      "application/vnd.jupyter.widget-view+json": {
       "model_id": "5bbd77fe8a4d4d77a7374ed4a2151393",
       "version_major": 2,
       "version_minor": 0
      },
      "text/plain": [
       "test:   0%|          | 0/6 [00:00<?, ?it/s]"
      ]
     },
     "metadata": {},
     "output_type": "display_data"
    },
    {
     "data": {
      "application/vnd.jupyter.widget-view+json": {
       "model_id": "",
       "version_major": 2,
       "version_minor": 0
      },
      "text/plain": [
       "Combining batches for upload:   0%|          | 0/1 [00:00<?, ?it/s]"
      ]
     },
     "metadata": {},
     "output_type": "display_data"
    },
    {
     "data": {
      "application/vnd.jupyter.widget-view+json": {
       "model_id": "",
       "version_major": 2,
       "version_minor": 0
      },
      "text/plain": [
       "test (epoch=):   0%|          | 0/3 [00:00<?, ?it/s]"
      ]
     },
     "metadata": {},
     "output_type": "display_data"
    },
    {
     "data": {
      "application/vnd.jupyter.widget-view+json": {
       "model_id": "",
       "version_major": 2,
       "version_minor": 0
      },
      "text/plain": [
       "Combining batches for upload:   0%|          | 0/1 [00:00<?, ?it/s]"
      ]
     },
     "metadata": {},
     "output_type": "display_data"
    },
    {
     "data": {
      "application/vnd.jupyter.widget-view+json": {
       "model_id": "",
       "version_major": 2,
       "version_minor": 0
      },
      "text/plain": [
       "test (epoch=):   0%|          | 0/3 [00:00<?, ?it/s]"
      ]
     },
     "metadata": {},
     "output_type": "display_data"
    },
    {
     "data": {
      "application/vnd.jupyter.widget-view+json": {
       "model_id": "",
       "version_major": 2,
       "version_minor": 0
      },
      "text/plain": [
       "Combining batches for upload:   0%|          | 0/1 [00:00<?, ?it/s]"
      ]
     },
     "metadata": {},
     "output_type": "display_data"
    },
    {
     "data": {
      "application/vnd.jupyter.widget-view+json": {
       "model_id": "",
       "version_major": 2,
       "version_minor": 0
      },
      "text/plain": [
       "test (epoch=):   0%|          | 0/3 [00:00<?, ?it/s]"
      ]
     },
     "metadata": {},
     "output_type": "display_data"
    },
    {
     "data": {
      "application/vnd.jupyter.widget-view+json": {
       "model_id": "",
       "version_major": 2,
       "version_minor": 0
      },
      "text/plain": [
       "Combining batches for upload:   0%|          | 0/1 [00:00<?, ?it/s]"
      ]
     },
     "metadata": {},
     "output_type": "display_data"
    },
    {
     "data": {
      "application/vnd.jupyter.widget-view+json": {
       "model_id": "",
       "version_major": 2,
       "version_minor": 0
      },
      "text/plain": [
       "test (epoch=):   0%|          | 0/3 [00:00<?, ?it/s]"
      ]
     },
     "metadata": {},
     "output_type": "display_data"
    },
    {
     "data": {
      "application/vnd.jupyter.widget-view+json": {
       "model_id": "",
       "version_major": 2,
       "version_minor": 0
      },
      "text/plain": [
       "Combining batches for upload:   0%|          | 0/1 [00:00<?, ?it/s]"
      ]
     },
     "metadata": {},
     "output_type": "display_data"
    },
    {
     "data": {
      "application/vnd.jupyter.widget-view+json": {
       "model_id": "",
       "version_major": 2,
       "version_minor": 0
      },
      "text/plain": [
       "test (epoch=):   0%|          | 0/3 [00:00<?, ?it/s]"
      ]
     },
     "metadata": {},
     "output_type": "display_data"
    },
    {
     "data": {
      "application/vnd.jupyter.widget-view+json": {
       "model_id": "",
       "version_major": 2,
       "version_minor": 0
      },
      "text/plain": [
       "Combining batches for upload:   0%|          | 0/1 [00:00<?, ?it/s]"
      ]
     },
     "metadata": {},
     "output_type": "display_data"
    },
    {
     "data": {
      "application/vnd.jupyter.widget-view+json": {
       "model_id": "",
       "version_major": 2,
       "version_minor": 0
      },
      "text/plain": [
       "test (epoch=):   0%|          | 0/3 [00:00<?, ?it/s]"
      ]
     },
     "metadata": {},
     "output_type": "display_data"
    },
    {
     "name": "stdout",
     "output_type": "stream",
     "text": [
      "🧹 Cleaning up\n",
      "Job default successfully submitted. Results will be available soon at http://127.0.0.1:3000/insights?projectId=5d9ac2c9-b968-45ce-8ce7-f2db3d82b803&runId=691a7af3-2f61-413b-8395-487ff3dc2cea&split=training&depHigh=1&depLow=0&taskType=2\n",
      "Waiting for job...\n",
      "Done! Job finished with status completed\n",
      "Waiting for data to be processed\n"
     ]
    },
    {
     "data": {
      "application/vnd.jupyter.widget-view+json": {
       "model_id": "faa3c82f88f9473eb8daec559d13b967",
       "version_major": 2,
       "version_minor": 0
      },
      "text/plain": [
       "  0%|          | 0/50 [00:00<?, ?it/s]"
      ]
     },
     "metadata": {},
     "output_type": "display_data"
    },
    {
     "name": "stdout",
     "output_type": "stream",
     "text": [
      "Exported to text_ner_training.csv, text_ner_test.csv, and text_ner_validation.csv\n",
      "Training\n"
     ]
    },
    {
     "data": {
      "text/html": [
       "<div>\n",
       "<style scoped>\n",
       "    .dataframe tbody tr th:only-of-type {\n",
       "        vertical-align: middle;\n",
       "    }\n",
       "\n",
       "    .dataframe tbody tr th {\n",
       "        vertical-align: top;\n",
       "    }\n",
       "\n",
       "    .dataframe thead th {\n",
       "        text-align: right;\n",
       "    }\n",
       "</style>\n",
       "<table border=\"1\" class=\"dataframe\">\n",
       "  <thead>\n",
       "    <tr style=\"text-align: right;\">\n",
       "      <th></th>\n",
       "      <th>sample_id</th>\n",
       "      <th>spans</th>\n",
       "      <th>id</th>\n",
       "      <th>text</th>\n",
       "      <th>missed_label</th>\n",
       "      <th>span_shift</th>\n",
       "      <th>wrong_tag</th>\n",
       "      <th>ghost_span</th>\n",
       "      <th>total_errors</th>\n",
       "      <th>galileo_text_length</th>\n",
       "      <th>galileo_language_id</th>\n",
       "      <th>galileo_pii</th>\n",
       "    </tr>\n",
       "  </thead>\n",
       "  <tbody>\n",
       "    <tr>\n",
       "      <th>0</th>\n",
       "      <td>0</td>\n",
       "      <td>[{\"start\":17,\"end\":29,\"data_error_potential\":0...</td>\n",
       "      <td>0</td>\n",
       "      <td>what movies star bruce willis</td>\n",
       "      <td>0</td>\n",
       "      <td>1</td>\n",
       "      <td>0</td>\n",
       "      <td>3</td>\n",
       "      <td>4</td>\n",
       "      <td>29</td>\n",
       "      <td>en</td>\n",
       "      <td>None</td>\n",
       "    </tr>\n",
       "    <tr>\n",
       "      <th>1</th>\n",
       "      <td>1</td>\n",
       "      <td>[{\"start\":19,\"end\":33,\"data_error_potential\":0...</td>\n",
       "      <td>1</td>\n",
       "      <td>show me films with drew barrymore from the 1980s</td>\n",
       "      <td>0</td>\n",
       "      <td>2</td>\n",
       "      <td>0</td>\n",
       "      <td>1</td>\n",
       "      <td>3</td>\n",
       "      <td>48</td>\n",
       "      <td>en</td>\n",
       "      <td>None</td>\n",
       "    </tr>\n",
       "    <tr>\n",
       "      <th>2</th>\n",
       "      <td>2</td>\n",
       "      <td>[{\"start\":25,\"end\":34,\"data_error_potential\":0...</td>\n",
       "      <td>2</td>\n",
       "      <td>what movies starred both al pacino and robert ...</td>\n",
       "      <td>0</td>\n",
       "      <td>2</td>\n",
       "      <td>0</td>\n",
       "      <td>2</td>\n",
       "      <td>4</td>\n",
       "      <td>52</td>\n",
       "      <td>en</td>\n",
       "      <td>None</td>\n",
       "    </tr>\n",
       "    <tr>\n",
       "      <th>3</th>\n",
       "      <td>3</td>\n",
       "      <td>[{\"start\":39,\"end\":51,\"data_error_potential\":0...</td>\n",
       "      <td>3</td>\n",
       "      <td>find me all of the movies that starred harold ...</td>\n",
       "      <td>0</td>\n",
       "      <td>2</td>\n",
       "      <td>0</td>\n",
       "      <td>4</td>\n",
       "      <td>6</td>\n",
       "      <td>67</td>\n",
       "      <td>en</td>\n",
       "      <td>None</td>\n",
       "    </tr>\n",
       "  </tbody>\n",
       "</table>\n",
       "</div>"
      ],
      "text/plain": [
       "   sample_id                                              spans  id  \\\n",
       "0          0  [{\"start\":17,\"end\":29,\"data_error_potential\":0...   0   \n",
       "1          1  [{\"start\":19,\"end\":33,\"data_error_potential\":0...   1   \n",
       "2          2  [{\"start\":25,\"end\":34,\"data_error_potential\":0...   2   \n",
       "3          3  [{\"start\":39,\"end\":51,\"data_error_potential\":0...   3   \n",
       "\n",
       "                                                text  missed_label  \\\n",
       "0                      what movies star bruce willis             0   \n",
       "1   show me films with drew barrymore from the 1980s             0   \n",
       "2  what movies starred both al pacino and robert ...             0   \n",
       "3  find me all of the movies that starred harold ...             0   \n",
       "\n",
       "   span_shift  wrong_tag  ghost_span  total_errors  galileo_text_length  \\\n",
       "0           1          0           3             4                   29   \n",
       "1           2          0           1             3                   48   \n",
       "2           2          0           2             4                   52   \n",
       "3           2          0           4             6                   67   \n",
       "\n",
       "  galileo_language_id galileo_pii  \n",
       "0                  en        None  \n",
       "1                  en        None  \n",
       "2                  en        None  \n",
       "3                  en        None  "
      ]
     },
     "metadata": {},
     "output_type": "display_data"
    },
    {
     "name": "stdout",
     "output_type": "stream",
     "text": [
      "\n",
      "Test\n"
     ]
    },
    {
     "data": {
      "text/html": [
       "<div>\n",
       "<style scoped>\n",
       "    .dataframe tbody tr th:only-of-type {\n",
       "        vertical-align: middle;\n",
       "    }\n",
       "\n",
       "    .dataframe tbody tr th {\n",
       "        vertical-align: top;\n",
       "    }\n",
       "\n",
       "    .dataframe thead th {\n",
       "        text-align: right;\n",
       "    }\n",
       "</style>\n",
       "<table border=\"1\" class=\"dataframe\">\n",
       "  <thead>\n",
       "    <tr style=\"text-align: right;\">\n",
       "      <th></th>\n",
       "      <th>sample_id</th>\n",
       "      <th>spans</th>\n",
       "      <th>id</th>\n",
       "      <th>text</th>\n",
       "      <th>missed_label</th>\n",
       "      <th>span_shift</th>\n",
       "      <th>wrong_tag</th>\n",
       "      <th>ghost_span</th>\n",
       "      <th>total_errors</th>\n",
       "      <th>galileo_text_length</th>\n",
       "      <th>galileo_language_id</th>\n",
       "      <th>galileo_pii</th>\n",
       "    </tr>\n",
       "  </thead>\n",
       "  <tbody>\n",
       "    <tr>\n",
       "      <th>0</th>\n",
       "      <td>0</td>\n",
       "      <td>[{\"start\":17,\"end\":29,\"data_error_potential\":0...</td>\n",
       "      <td>0</td>\n",
       "      <td>what movies star bruce willis</td>\n",
       "      <td>0</td>\n",
       "      <td>1</td>\n",
       "      <td>0</td>\n",
       "      <td>3</td>\n",
       "      <td>4</td>\n",
       "      <td>29</td>\n",
       "      <td>en</td>\n",
       "      <td>None</td>\n",
       "    </tr>\n",
       "    <tr>\n",
       "      <th>1</th>\n",
       "      <td>1</td>\n",
       "      <td>[{\"start\":19,\"end\":33,\"data_error_potential\":0...</td>\n",
       "      <td>1</td>\n",
       "      <td>show me films with drew barrymore from the 1980s</td>\n",
       "      <td>0</td>\n",
       "      <td>2</td>\n",
       "      <td>0</td>\n",
       "      <td>1</td>\n",
       "      <td>3</td>\n",
       "      <td>48</td>\n",
       "      <td>en</td>\n",
       "      <td>None</td>\n",
       "    </tr>\n",
       "    <tr>\n",
       "      <th>2</th>\n",
       "      <td>2</td>\n",
       "      <td>[{\"start\":25,\"end\":34,\"data_error_potential\":0...</td>\n",
       "      <td>2</td>\n",
       "      <td>what movies starred both al pacino and robert ...</td>\n",
       "      <td>0</td>\n",
       "      <td>2</td>\n",
       "      <td>0</td>\n",
       "      <td>2</td>\n",
       "      <td>4</td>\n",
       "      <td>52</td>\n",
       "      <td>en</td>\n",
       "      <td>None</td>\n",
       "    </tr>\n",
       "    <tr>\n",
       "      <th>3</th>\n",
       "      <td>3</td>\n",
       "      <td>[{\"start\":39,\"end\":51,\"data_error_potential\":0...</td>\n",
       "      <td>3</td>\n",
       "      <td>find me all of the movies that starred harold ...</td>\n",
       "      <td>0</td>\n",
       "      <td>2</td>\n",
       "      <td>0</td>\n",
       "      <td>4</td>\n",
       "      <td>6</td>\n",
       "      <td>67</td>\n",
       "      <td>en</td>\n",
       "      <td>None</td>\n",
       "    </tr>\n",
       "  </tbody>\n",
       "</table>\n",
       "</div>"
      ],
      "text/plain": [
       "   sample_id                                              spans  id  \\\n",
       "0          0  [{\"start\":17,\"end\":29,\"data_error_potential\":0...   0   \n",
       "1          1  [{\"start\":19,\"end\":33,\"data_error_potential\":0...   1   \n",
       "2          2  [{\"start\":25,\"end\":34,\"data_error_potential\":0...   2   \n",
       "3          3  [{\"start\":39,\"end\":51,\"data_error_potential\":0...   3   \n",
       "\n",
       "                                                text  missed_label  \\\n",
       "0                      what movies star bruce willis             0   \n",
       "1   show me films with drew barrymore from the 1980s             0   \n",
       "2  what movies starred both al pacino and robert ...             0   \n",
       "3  find me all of the movies that starred harold ...             0   \n",
       "\n",
       "   span_shift  wrong_tag  ghost_span  total_errors  galileo_text_length  \\\n",
       "0           1          0           3             4                   29   \n",
       "1           2          0           1             3                   48   \n",
       "2           2          0           2             4                   52   \n",
       "3           2          0           4             6                   67   \n",
       "\n",
       "  galileo_language_id galileo_pii  \n",
       "0                  en        None  \n",
       "1                  en        None  \n",
       "2                  en        None  \n",
       "3                  en        None  "
      ]
     },
     "metadata": {},
     "output_type": "display_data"
    },
    {
     "name": "stdout",
     "output_type": "stream",
     "text": [
      "\n",
      "Validation\n"
     ]
    },
    {
     "data": {
      "text/html": [
       "<div>\n",
       "<style scoped>\n",
       "    .dataframe tbody tr th:only-of-type {\n",
       "        vertical-align: middle;\n",
       "    }\n",
       "\n",
       "    .dataframe tbody tr th {\n",
       "        vertical-align: top;\n",
       "    }\n",
       "\n",
       "    .dataframe thead th {\n",
       "        text-align: right;\n",
       "    }\n",
       "</style>\n",
       "<table border=\"1\" class=\"dataframe\">\n",
       "  <thead>\n",
       "    <tr style=\"text-align: right;\">\n",
       "      <th></th>\n",
       "      <th>sample_id</th>\n",
       "      <th>spans</th>\n",
       "      <th>id</th>\n",
       "      <th>text</th>\n",
       "      <th>missed_label</th>\n",
       "      <th>span_shift</th>\n",
       "      <th>wrong_tag</th>\n",
       "      <th>ghost_span</th>\n",
       "      <th>total_errors</th>\n",
       "      <th>galileo_text_length</th>\n",
       "      <th>galileo_language_id</th>\n",
       "      <th>galileo_pii</th>\n",
       "    </tr>\n",
       "  </thead>\n",
       "  <tbody>\n",
       "    <tr>\n",
       "      <th>0</th>\n",
       "      <td>0</td>\n",
       "      <td>[{\"start\":17,\"end\":29,\"data_error_potential\":0...</td>\n",
       "      <td>0</td>\n",
       "      <td>what movies star bruce willis</td>\n",
       "      <td>0</td>\n",
       "      <td>1</td>\n",
       "      <td>0</td>\n",
       "      <td>3</td>\n",
       "      <td>4</td>\n",
       "      <td>29</td>\n",
       "      <td>en</td>\n",
       "      <td>None</td>\n",
       "    </tr>\n",
       "    <tr>\n",
       "      <th>1</th>\n",
       "      <td>1</td>\n",
       "      <td>[{\"start\":19,\"end\":33,\"data_error_potential\":0...</td>\n",
       "      <td>1</td>\n",
       "      <td>show me films with drew barrymore from the 1980s</td>\n",
       "      <td>0</td>\n",
       "      <td>2</td>\n",
       "      <td>0</td>\n",
       "      <td>1</td>\n",
       "      <td>3</td>\n",
       "      <td>48</td>\n",
       "      <td>en</td>\n",
       "      <td>None</td>\n",
       "    </tr>\n",
       "    <tr>\n",
       "      <th>2</th>\n",
       "      <td>2</td>\n",
       "      <td>[{\"start\":25,\"end\":34,\"data_error_potential\":0...</td>\n",
       "      <td>2</td>\n",
       "      <td>what movies starred both al pacino and robert ...</td>\n",
       "      <td>0</td>\n",
       "      <td>2</td>\n",
       "      <td>0</td>\n",
       "      <td>2</td>\n",
       "      <td>4</td>\n",
       "      <td>52</td>\n",
       "      <td>en</td>\n",
       "      <td>None</td>\n",
       "    </tr>\n",
       "    <tr>\n",
       "      <th>3</th>\n",
       "      <td>3</td>\n",
       "      <td>[{\"start\":39,\"end\":51,\"data_error_potential\":0...</td>\n",
       "      <td>3</td>\n",
       "      <td>find me all of the movies that starred harold ...</td>\n",
       "      <td>0</td>\n",
       "      <td>2</td>\n",
       "      <td>0</td>\n",
       "      <td>4</td>\n",
       "      <td>6</td>\n",
       "      <td>67</td>\n",
       "      <td>en</td>\n",
       "      <td>None</td>\n",
       "    </tr>\n",
       "  </tbody>\n",
       "</table>\n",
       "</div>"
      ],
      "text/plain": [
       "   sample_id                                              spans  id  \\\n",
       "0          0  [{\"start\":17,\"end\":29,\"data_error_potential\":0...   0   \n",
       "1          1  [{\"start\":19,\"end\":33,\"data_error_potential\":0...   1   \n",
       "2          2  [{\"start\":25,\"end\":34,\"data_error_potential\":0...   2   \n",
       "3          3  [{\"start\":39,\"end\":51,\"data_error_potential\":0...   3   \n",
       "\n",
       "                                                text  missed_label  \\\n",
       "0                      what movies star bruce willis             0   \n",
       "1   show me films with drew barrymore from the 1980s             0   \n",
       "2  what movies starred both al pacino and robert ...             0   \n",
       "3  find me all of the movies that starred harold ...             0   \n",
       "\n",
       "   span_shift  wrong_tag  ghost_span  total_errors  galileo_text_length  \\\n",
       "0           1          0           3             4                   29   \n",
       "1           2          0           1             3                   48   \n",
       "2           2          0           2             4                   52   \n",
       "3           2          0           4             6                   67   \n",
       "\n",
       "  galileo_language_id galileo_pii  \n",
       "0                  en        None  \n",
       "1                  en        None  \n",
       "2                  en        None  \n",
       "3                  en        None  "
      ]
     },
     "metadata": {},
     "output_type": "display_data"
    }
   ],
   "source": [
    "from dataquality.schemas.task_type import TaskType\n",
    "from dataquality import config \n",
    "from uuid import uuid4\n",
    "import numpy as np\n",
    "from time import sleep\n",
    "from tqdm.notebook import tqdm\n",
    "\n",
    "\n",
    "dq.init(\"text_ner\", \"test-ner-run\")\n",
    "\n",
    "\n",
    "def log_inputs():\n",
    "    text_inputs = ['what movies star bruce willis', 'show me films with drew barrymore from the 1980s', 'what movies starred both al pacino and robert deniro', 'find me all of the movies that starred harold ramis and bill murray', 'find me a movie with a quote about baseball in it']\n",
    "    tokens = [[(0, 4), (5, 11), (12, 16), (17, 22), (17, 22), (23, 29), (23, 29)], [(0, 4), (5, 7), (8, 13), (14, 18), (19, 23), (24, 33), (24, 33), (24, 33), (34, 38), (39, 42), (43, 48)], [(0, 4), (5, 11), (12, 19), (20, 24), (25, 27), (28, 34), (28, 34), (28, 34), (35, 38), (39, 45), (39, 45), (46, 52), (46, 52)], [(0, 4), (5, 7), (8, 11), (12, 14), (15, 18), (19, 25), (26, 30), (31, 38), (39, 45), (39, 45), (39, 45), (46, 51), (46, 51), (52, 55), (56, 60), (61, 67), (61, 67), (61, 67)], [(0, 4), (5, 7), (8, 9), (10, 15), (16, 20), (21, 22), (23, 28), (29, 34), (35, 43), (44, 46), (47, 49)]]\n",
    "    gold_spans = [[{'start': 17, 'end': 29, 'label': 'ACTOR'}], [{'start': 19, 'end': 33, 'label': 'ACTOR'}, {'start': 43, 'end': 48, 'label': 'YEAR'}], [{'start': 25, 'end': 34, 'label': 'ACTOR'}, {'start': 39, 'end': 52, 'label': 'ACTOR'}], [{'start': 39, 'end': 51, 'label': 'ACTOR'}, {'start': 56, 'end': 67, 'label': 'ACTOR'}], []]\n",
    "    ids = [0, 1, 2, 3, 4]\n",
    "\n",
    "    labels = ['[PAD]', '[CLS]', '[SEP]', 'O', 'B-ACTOR', 'I-ACTOR', 'B-YEAR', 'B-TITLE', 'B-GENRE', 'I-GENRE', 'B-DIRECTOR', 'I-DIRECTOR', 'B-SONG', 'I-SONG', 'B-PLOT', 'I-PLOT', 'B-REVIEW', 'B-CHARACTER', 'I-CHARACTER', 'B-RATING', 'B-RATINGS_AVERAGE', 'I-RATINGS_AVERAGE', 'I-TITLE', 'I-RATING', 'B-TRAILER', 'I-TRAILER', 'I-REVIEW', 'I-YEAR']\n",
    "    dq.set_labels_for_run(labels)\n",
    "    dq.set_tagging_schema(\"BIO\")\n",
    "    dq.log_data_samples(texts=text_inputs, text_token_indices=tokens, ids=ids, gold_spans=gold_spans, split=\"training\")\n",
    "    dq.log_data_samples(texts=text_inputs, text_token_indices=tokens, ids=ids, gold_spans=gold_spans, split=\"validation\")\n",
    "    dq.log_data_samples(texts=text_inputs, text_token_indices=tokens, ids=ids, gold_spans=gold_spans, split=\"test\")\n",
    "\n",
    "def log_outputs():\n",
    "    num_classes = 28\n",
    "    embs = [np.random.rand(119, 768) for _ in range(5)]\n",
    "    logits= [np.random.rand(119, 28) for _ in range(5)]                                      \n",
    "    ids= list(range(5))\n",
    "    for epoch in tqdm(range(6)):\n",
    "        for split in [\"training\", \"test\", \"validation\"]:\n",
    "            dq.log_model_outputs(\n",
    "                embs=embs, logits=logits, ids=ids, split=split, epoch=epoch\n",
    "            )\n",
    "    \n",
    "def finish():\n",
    "    dq.finish()\n",
    "    \n",
    "    \n",
    "def runit():\n",
    "    log_inputs()\n",
    "    log_outputs()\n",
    "    finish()\n",
    "    \n",
    "runit()\n",
    "df_train, df_test, df_val = see_results()"
   ]
  },
  {
   "cell_type": "code",
   "execution_count": null,
   "id": "557794f5",
   "metadata": {},
   "outputs": [],
   "source": []
  }
 ],
 "metadata": {
  "kernelspec": {
   "display_name": "Python 3 (ipykernel)",
   "language": "python",
   "name": "python3"
  },
  "language_info": {
   "codemirror_mode": {
    "name": "ipython",
    "version": 3
   },
   "file_extension": ".py",
   "mimetype": "text/x-python",
   "name": "python",
   "nbconvert_exporter": "python",
   "pygments_lexer": "ipython3",
   "version": "3.9.6"
  }
 },
 "nbformat": 4,
 "nbformat_minor": 5
}
