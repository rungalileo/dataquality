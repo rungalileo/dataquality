{
 "cells": [
  {
   "cell_type": "markdown",
   "id": "be0bbd5a-4b10-428c-8c38-fc3dd62b121e",
   "metadata": {},
   "source": [
    "# Simple structured data demo"
   ]
  },
  {
   "cell_type": "markdown",
   "id": "202ed4da-04be-49c3-8447-7d9e51132911",
   "metadata": {},
   "source": [
    "This is a very basic demo of how to log structured datasets for classification tasks with XGBoost."
   ]
  },
  {
   "cell_type": "code",
   "execution_count": null,
   "id": "ba6c8e04-590b-45ac-b537-e0fc3345287f",
   "metadata": {},
   "outputs": [],
   "source": [
    "import os\n",
    "\n",
    "os.environ['GALILEO_CONSOLE_URL']=\"http://localhost:8088\"\n",
    "os.environ[\"GALILEO_USERNAME\"]=\"user@example.com\"\n",
    "os.environ[\"GALILEO_PASSWORD\"]=\"Th3secret_\"\n",
    "\n",
    "import dataquality as dq\n",
    "dq.configure()\n",
    "\n",
    "dq.init(\"structured_classification\", \"my-proj\", \"my-run\")"
   ]
  },
  {
   "cell_type": "markdown",
   "id": "8aa050df-3637-4f83-ae84-df13a3c428ec",
   "metadata": {},
   "source": [
    "## 1. Load data"
   ]
  },
  {
   "cell_type": "code",
   "execution_count": null,
   "id": "a74dbfd7-1a62-40c6-ab26-3f51b7142953",
   "metadata": {},
   "outputs": [],
   "source": [
    "import numpy as np\n",
    "import pandas as pd\n",
    "import xgboost as xgb\n",
    "\n",
    "from sklearn.datasets import load_wine\n",
    "\n",
    "wine = load_wine()\n",
    "\n",
    "X = wine.data\n",
    "y = wine.target\n",
    "\n",
    "# When exporting to hdf5 you can't have col names containing forward slash\n",
    "feature_names = [ft_name.replace(\"/\", \"|\") for ft_name in wine.feature_names]\n",
    "\n",
    "\n",
    "def understand_dataset(dataset) -> None:\n",
    "    for elem in dir(dataset):\n",
    "        print(elem, type(getattr(dataset, elem)))\n",
    "\n",
    "    print(dataset.shape, y.shape)\n",
    "    \n",
    "#understand_dataset(wine)"
   ]
  },
  {
   "cell_type": "markdown",
   "id": "f7a897e1-554e-4a5c-81d8-082267d3730f",
   "metadata": {},
   "source": [
    "## 2. Create and fit model on training data"
   ]
  },
  {
   "cell_type": "code",
   "execution_count": null,
   "id": "13c661e8-14f9-4d9f-bdb8-a4033f72faf6",
   "metadata": {},
   "outputs": [],
   "source": [
    "xgb_model = xgb.XGBClassifier(objective=\"multi:softprob\", random_state=42)\n",
    "xgb_model.fit(X, y)"
   ]
  },
  {
   "cell_type": "markdown",
   "id": "fb4df263-3953-417c-9eba-4011691f601c",
   "metadata": {},
   "source": [
    "## 3. Set labels for run"
   ]
  },
  {
   "cell_type": "code",
   "execution_count": null,
   "id": "d0509913-18d2-48dd-ac0e-239c79d457d4",
   "metadata": {},
   "outputs": [],
   "source": [
    "target_names = wine.target_names\n",
    "dq.set_labels_for_run(target_names)"
   ]
  },
  {
   "cell_type": "markdown",
   "id": "b5f2634c-d32b-46ce-9d73-acc6b123578c",
   "metadata": {},
   "source": [
    "## 4. Log data!"
   ]
  },
  {
   "cell_type": "code",
   "execution_count": null,
   "id": "3faa2b4d-fc29-45f7-9207-f92b3fd4aaa9",
   "metadata": {},
   "outputs": [],
   "source": [
    "dq.log(\n",
    "    model=fitted_model,\n",
    "    X=X,\n",
    "    y=y,\n",
    "    feature_names=feature_names,\n",
    "    split=\"training\"\n",
    ")"
   ]
  },
  {
   "cell_type": "code",
   "execution_count": null,
   "id": "50a24a2b-0961-4f7c-83b1-73f25e998ca8",
   "metadata": {},
   "outputs": [],
   "source": [
    "dq.log(\n",
    "    model=fitted_model,\n",
    "    X=X,\n",
    "    y=y,\n",
    "    feature_names=feature_names,\n",
    "    split=\"test\"\n",
    ")"
   ]
  },
  {
   "cell_type": "code",
   "execution_count": null,
   "id": "86d01995-ea63-4727-a7ab-74a31bbdb403",
   "metadata": {},
   "outputs": [],
   "source": [
    "dq.log(\n",
    "    model=fitted_model,\n",
    "    X=X,\n",
    "    feature_names=feature_names,\n",
    "    split=\"inference\",\n",
    "    inference_name=\"my-inf-name\"\n",
    ")"
   ]
  },
  {
   "cell_type": "markdown",
   "id": "2c80d1c1-a987-423d-bf93-b298de5c83e9",
   "metadata": {},
   "source": [
    "## 5. Call finish to start processing"
   ]
  },
  {
   "cell_type": "code",
   "execution_count": null,
   "id": "5d07b384-fda4-4ca6-b5fe-0bd6319ddbe8",
   "metadata": {},
   "outputs": [],
   "source": [
    "dq.finish()"
   ]
  },
  {
   "cell_type": "code",
   "execution_count": null,
   "id": "a614db0a-150c-46e8-8737-7f0d1de56d22",
   "metadata": {},
   "outputs": [],
   "source": []
  },
  {
   "cell_type": "code",
   "execution_count": null,
   "id": "f8fdd3e3-fff2-4182-8439-99ffcdb9e1ad",
   "metadata": {},
   "outputs": [],
   "source": []
  }
 ],
 "metadata": {
  "kernelspec": {
   "display_name": "Python 3 (ipykernel)",
   "language": "python",
   "name": "python3"
  },
  "language_info": {
   "codemirror_mode": {
    "name": "ipython",
    "version": 3
   },
   "file_extension": ".py",
   "mimetype": "text/x-python",
   "name": "python",
   "nbconvert_exporter": "python",
   "pygments_lexer": "ipython3",
   "version": "3.9.6"
  }
 },
 "nbformat": 4,
 "nbformat_minor": 5
}
