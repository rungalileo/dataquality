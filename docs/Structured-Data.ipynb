{
 "cells": [
  {
   "cell_type": "code",
   "execution_count": 1,
   "id": "ba6c8e04-590b-45ac-b537-e0fc3345287f",
   "metadata": {},
   "outputs": [],
   "source": [
    "import os\n",
    "\n",
    "os.environ['GALILEO_CONSOLE_URL']=\"http://localhost:8088\"\n",
    "os.environ[\"GALILEO_USERNAME\"]=\"user@example.com\"\n",
    "os.environ[\"GALILEO_PASSWORD\"]=\"Th3secret_\""
   ]
  },
  {
   "cell_type": "code",
   "execution_count": 2,
   "id": "71476aa4-0c92-4cab-8c78-d0c133beb941",
   "metadata": {},
   "outputs": [
    {
     "name": "stderr",
     "output_type": "stream",
     "text": [
      "/Users/elliottchartock/Code/dataquality/.venv/lib/python3.9/site-packages/dataquality/__init__.py:75: GalileoWarning: configure is deprecated, use dq.set_console_url and dq.login\n",
      "  warnings.warn(\n"
     ]
    },
    {
     "name": "stdout",
     "output_type": "stream",
     "text": [
      "📡 http://localhost:8088\n",
      "🔭 Logging you into Galileo\n",
      "\n",
      "🚀 You're logged in to Galileo as user@example.com!\n"
     ]
    }
   ],
   "source": [
    "import dataquality as dq\n",
    "dq.configure()\n"
   ]
  },
  {
   "cell_type": "code",
   "execution_count": 3,
   "id": "e0b06b87-697d-495b-867d-5fb274c51434",
   "metadata": {},
   "outputs": [
    {
     "name": "stdout",
     "output_type": "stream",
     "text": [
      "✨ Initializing new public project 'causal_amaranth_baboon'\n",
      "🏃‍♂️ Creating new run 'little_orange_clam'\n",
      "🛰 Connected to new project 'causal_amaranth_baboon', and new run 'little_orange_clam'.\n"
     ]
    }
   ],
   "source": [
    "dq.init2(\"structured_classification\")"
   ]
  },
  {
   "cell_type": "code",
   "execution_count": 4,
   "id": "4e678fe9-e465-42da-a8b5-a0239aba430e",
   "metadata": {},
   "outputs": [
    {
     "name": "stdout",
     "output_type": "stream",
     "text": [
      "✨ Initializing existing public project 'blushing_amber_wildfowl'\n",
      "🏃‍♂️ Fetching new run 'implicit_copper_emu'\n",
      "🛰 Connected to existing project 'blushing_amber_wildfowl', and new run 'implicit_copper_emu'.\n"
     ]
    }
   ],
   "source": [
    "dq.init2(\"structured_classification\", \"causal_amaranth_baboon\")"
   ]
  },
  {
   "cell_type": "code",
   "execution_count": 5,
   "id": "38627904-6761-4d71-b50e-d0a01e5dfb81",
   "metadata": {},
   "outputs": [
    {
     "name": "stdout",
     "output_type": "stream",
     "text": [
      "✨ Initializing existing public project 'blushing_amber_wildfowl'\n",
      "🏃‍♂️ Fetching new run 'my-new-run'\n",
      "🛰 Connected to existing project 'blushing_amber_wildfowl', and new run 'my-new-run'.\n"
     ]
    }
   ],
   "source": [
    "dq.init2(\"structured_classification\", \"blushing_amber_wildfowl\", \"my-new-run\")"
   ]
  },
  {
   "cell_type": "code",
   "execution_count": null,
   "id": "88a200f1-923b-4ec8-a5e4-518cf73443d9",
   "metadata": {},
   "outputs": [],
   "source": []
  },
  {
   "cell_type": "code",
   "execution_count": null,
   "id": "debb4613-76d1-4137-9997-16a762a4ee4e",
   "metadata": {},
   "outputs": [],
   "source": []
  },
  {
   "cell_type": "code",
   "execution_count": null,
   "id": "e3de9331-591d-4636-8509-406c8ac71264",
   "metadata": {},
   "outputs": [],
   "source": []
  },
  {
   "cell_type": "code",
   "execution_count": 4,
   "id": "85a27b6c-c4a8-4b40-ba9c-bd7608cf81d3",
   "metadata": {},
   "outputs": [
    {
     "name": "stdout",
     "output_type": "stream",
     "text": [
      "hi there my friend\n"
     ]
    }
   ],
   "source": [
    "import numpy as np\n",
    "import pandas as pd\n",
    "\n",
    "data = pd.DataFrame(np.arange(12).reshape((4,3)), columns=['a', 'b', 'c'])\n",
    "label = pd.DataFrame(np.random.randint(2, size=4))\n",
    "\n",
    "dq.log_structured_dataset(data)"
   ]
  },
  {
   "cell_type": "code",
   "execution_count": null,
   "id": "a74dbfd7-1a62-40c6-ab26-3f51b7142953",
   "metadata": {},
   "outputs": [],
   "source": []
  }
 ],
 "metadata": {
  "kernelspec": {
   "display_name": "Python 3 (ipykernel)",
   "language": "python",
   "name": "python3"
  },
  "language_info": {
   "codemirror_mode": {
    "name": "ipython",
    "version": 3
   },
   "file_extension": ".py",
   "mimetype": "text/x-python",
   "name": "python",
   "nbconvert_exporter": "python",
   "pygments_lexer": "ipython3",
   "version": "3.9.6"
  }
 },
 "nbformat": 4,
 "nbformat_minor": 5
}
