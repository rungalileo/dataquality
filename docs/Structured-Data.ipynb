{
 "cells": [
  {
   "cell_type": "markdown",
   "id": "be0bbd5a-4b10-428c-8c38-fc3dd62b121e",
   "metadata": {},
   "source": [
    "# Simple structured data demo"
   ]
  },
  {
   "cell_type": "markdown",
   "id": "202ed4da-04be-49c3-8447-7d9e51132911",
   "metadata": {},
   "source": [
    "This is a very basic demo of how to log structured datasets for classification tasks with XGBoost."
   ]
  },
  {
   "cell_type": "code",
   "execution_count": 1,
   "id": "ba6c8e04-590b-45ac-b537-e0fc3345287f",
   "metadata": {},
   "outputs": [
    {
     "name": "stderr",
     "output_type": "stream",
     "text": [
      "/Users/elliottchartock/Code/dataquality/.venv/lib/python3.9/site-packages/dataquality/__init__.py:75: GalileoWarning: configure is deprecated, use dq.set_console_url and dq.login\n",
      "  warnings.warn(\n"
     ]
    },
    {
     "name": "stdout",
     "output_type": "stream",
     "text": [
      "📡 http://localhost:8088\n",
      "🔭 Logging you into Galileo\n",
      "\n",
      "🚀 You're logged in to Galileo as user@example.com!\n",
      "✨ Initializing existing public project 'structured-elliott'\n",
      "🏃‍♂️ Fetching existing run 'fine-wine'\n",
      "🛰 Connected to existing project 'structured-elliott', and existing run 'fine-wine'.\n"
     ]
    },
    {
     "name": "stderr",
     "output_type": "stream",
     "text": [
      "/Users/elliottchartock/Code/dataquality/.venv/lib/python3.9/site-packages/dataquality/core/init.py:159: UserWarning: Run: structured-elliott/fine-wine already exists! The existing run will get overwritten on call to finish()!\n",
      "  warnings.warn(\n"
     ]
    }
   ],
   "source": [
    "import os\n",
    "\n",
    "os.environ['GALILEO_CONSOLE_URL']=\"http://localhost:8088\"\n",
    "os.environ[\"GALILEO_USERNAME\"]=\"user@example.com\"\n",
    "os.environ[\"GALILEO_PASSWORD\"]=\"Th3secret_\"\n",
    "\n",
    "# os.environ['GALILEO_CONSOLE_URL']=\"https://console.dev.rungalileo.io\"\n",
    "# os.environ[\"GALILEO_USERNAME\"]=\"galileo@rungalileo.io\"\n",
    "# os.environ[\"GALILEO_PASSWORD\"]=\"A11a1una!\"\n",
    "\n",
    "import dataquality as dq\n",
    "dq.configure()\n",
    "\n",
    "dq.init(\"structured_classification\", \"structured-elliott\", \"fine-wine\")"
   ]
  },
  {
   "cell_type": "markdown",
   "id": "8aa050df-3637-4f83-ae84-df13a3c428ec",
   "metadata": {},
   "source": [
    "## 1. Load data"
   ]
  },
  {
   "cell_type": "code",
   "execution_count": 2,
   "id": "a74dbfd7-1a62-40c6-ab26-3f51b7142953",
   "metadata": {},
   "outputs": [],
   "source": [
    "import numpy as np\n",
    "import pandas as pd\n",
    "import xgboost as xgb\n",
    "\n",
    "from sklearn.datasets import load_wine\n",
    "\n",
    "X, y = load_wine(as_frame=True, return_X_y=True)\n",
    "\n",
    "# When exporting to hdf5 you can't have col names containing forward slash\n",
    "X.rename(lambda x: x.replace(\"/\", \"|\"), axis=\"columns\", inplace=True)\n",
    "\n",
    "\n",
    "def understand_dataset(dataset) -> None:\n",
    "    for elem in dir(dataset):\n",
    "        print(elem, type(getattr(dataset, elem)))\n",
    "\n",
    "    print(dataset.shape, y.shape)\n",
    "    \n",
    "#understand_dataset(wine)"
   ]
  },
  {
   "cell_type": "markdown",
   "id": "f7a897e1-554e-4a5c-81d8-082267d3730f",
   "metadata": {},
   "source": [
    "## 2. Create and fit model on training data"
   ]
  },
  {
   "cell_type": "code",
   "execution_count": 3,
   "id": "13c661e8-14f9-4d9f-bdb8-a4033f72faf6",
   "metadata": {},
   "outputs": [
    {
     "data": {
      "text/plain": [
       "XGBClassifier(base_score=None, booster=None, callbacks=None,\n",
       "              colsample_bylevel=None, colsample_bynode=None,\n",
       "              colsample_bytree=None, early_stopping_rounds=None,\n",
       "              enable_categorical=False, eval_metric=None, feature_types=None,\n",
       "              gamma=None, gpu_id=None, grow_policy=None, importance_type=None,\n",
       "              interaction_constraints=None, learning_rate=None, max_bin=None,\n",
       "              max_cat_threshold=None, max_cat_to_onehot=None,\n",
       "              max_delta_step=None, max_depth=None, max_leaves=None,\n",
       "              min_child_weight=None, missing=nan, monotone_constraints=None,\n",
       "              n_estimators=100, n_jobs=None, num_parallel_tree=None,\n",
       "              objective='multi:softprob', predictor=None, ...)"
      ]
     },
     "execution_count": 3,
     "metadata": {},
     "output_type": "execute_result"
    }
   ],
   "source": [
    "xgb_model = xgb.XGBClassifier(objective=\"multi:softprob\", random_state=42)\n",
    "xgb_model.fit(X, y)"
   ]
  },
  {
   "cell_type": "markdown",
   "id": "fb4df263-3953-417c-9eba-4011691f601c",
   "metadata": {},
   "source": [
    "## 3. Set labels for run"
   ]
  },
  {
   "cell_type": "code",
   "execution_count": 4,
   "id": "d0509913-18d2-48dd-ac0e-239c79d457d4",
   "metadata": {},
   "outputs": [],
   "source": [
    "target_names = load_wine().target_names\n",
    "dq.set_labels_for_run(target_names)"
   ]
  },
  {
   "cell_type": "markdown",
   "id": "b5f2634c-d32b-46ce-9d73-acc6b123578c",
   "metadata": {},
   "source": [
    "## 4. Log data!"
   ]
  },
  {
   "cell_type": "code",
   "execution_count": 5,
   "id": "3faa2b4d-fc29-45f7-9207-f92b3fd4aaa9",
   "metadata": {},
   "outputs": [],
   "source": [
    "dq.log_xgboost(\n",
    "    model=xgb_model,\n",
    "    X=X,\n",
    "    y=y,\n",
    "    split=\"training\"\n",
    ")"
   ]
  },
  {
   "cell_type": "code",
   "execution_count": 6,
   "id": "3b5782ec-2693-4810-8c10-1370b0ab614f",
   "metadata": {},
   "outputs": [],
   "source": [
    "dq.log_xgboost(\n",
    "    model=xgb_model,\n",
    "    X=X,\n",
    "    y=y,\n",
    "    split=\"test\"\n",
    ")"
   ]
  },
  {
   "cell_type": "markdown",
   "id": "2c80d1c1-a987-423d-bf93-b298de5c83e9",
   "metadata": {},
   "source": [
    "## 5. Call finish to start processing"
   ]
  },
  {
   "cell_type": "code",
   "execution_count": 7,
   "id": "5d07b384-fda4-4ca6-b5fe-0bd6319ddbe8",
   "metadata": {},
   "outputs": [
    {
     "name": "stdout",
     "output_type": "stream",
     "text": [
      "☁️ Uploading Data\n"
     ]
    },
    {
     "data": {
      "application/json": {
       "ascii": false,
       "bar_format": null,
       "colour": null,
       "elapsed": 0.026423931121826172,
       "initial": 0,
       "n": 0,
       "ncols": null,
       "nrows": 26,
       "postfix": null,
       "prefix": "Uploading data to Galileo",
       "rate": null,
       "total": 26804,
       "unit": "B",
       "unit_divisor": 1024,
       "unit_scale": true
      },
      "application/vnd.jupyter.widget-view+json": {
       "model_id": "",
       "version_major": 2,
       "version_minor": 0
      },
      "text/plain": [
       "Uploading data to Galileo:   0%|          | 0.00/26.2k [00:00<?, ?B/s]"
      ]
     },
     "metadata": {},
     "output_type": "display_data"
    },
    {
     "data": {
      "application/json": {
       "ascii": false,
       "bar_format": null,
       "colour": null,
       "elapsed": 0.021969079971313477,
       "initial": 0,
       "n": 0,
       "ncols": null,
       "nrows": 26,
       "postfix": null,
       "prefix": "Uploading data to Galileo",
       "rate": null,
       "total": 50840,
       "unit": "B",
       "unit_divisor": 1024,
       "unit_scale": true
      },
      "application/vnd.jupyter.widget-view+json": {
       "model_id": "",
       "version_major": 2,
       "version_minor": 0
      },
      "text/plain": [
       "Uploading data to Galileo:   0%|          | 0.00/49.6k [00:00<?, ?B/s]"
      ]
     },
     "metadata": {},
     "output_type": "display_data"
    },
    {
     "data": {
      "application/json": {
       "ascii": false,
       "bar_format": null,
       "colour": null,
       "elapsed": 0.01732778549194336,
       "initial": 0,
       "n": 0,
       "ncols": null,
       "nrows": 26,
       "postfix": null,
       "prefix": "Uploading data to Galileo",
       "rate": null,
       "total": 27516,
       "unit": "B",
       "unit_divisor": 1024,
       "unit_scale": true
      },
      "application/vnd.jupyter.widget-view+json": {
       "model_id": "",
       "version_major": 2,
       "version_minor": 0
      },
      "text/plain": [
       "Uploading data to Galileo:   0%|          | 0.00/26.9k [00:00<?, ?B/s]"
      ]
     },
     "metadata": {},
     "output_type": "display_data"
    },
    {
     "data": {
      "application/json": {
       "ascii": false,
       "bar_format": null,
       "colour": null,
       "elapsed": 0.022541046142578125,
       "initial": 0,
       "n": 0,
       "ncols": null,
       "nrows": 26,
       "postfix": null,
       "prefix": "Uploading data to Galileo",
       "rate": null,
       "total": 50840,
       "unit": "B",
       "unit_divisor": 1024,
       "unit_scale": true
      },
      "application/vnd.jupyter.widget-view+json": {
       "model_id": "",
       "version_major": 2,
       "version_minor": 0
      },
      "text/plain": [
       "Uploading data to Galileo:   0%|          | 0.00/49.6k [00:00<?, ?B/s]"
      ]
     },
     "metadata": {},
     "output_type": "display_data"
    },
    {
     "name": "stdout",
     "output_type": "stream",
     "text": [
      "Job default successfully submitted. Results will be available soon at http://127.0.0.1:3000/insights?projectId=49128c2e-7379-4292-af6c-661b9b515d3f&runId=0db99692-7268-4f48-a10b-f9dcf10a8a15&split=training&metric=f1&depHigh=1&depLow=0&taskType=4\n",
      "Waiting for job...\n",
      "\tDownloading all embedding files for this run\n"
     ]
    },
    {
     "ename": "GalileoException",
     "evalue": "It seems your run failed with error\nFailed background job: No data in minio for object 49128c2e-7379-4292-af6c-661b9b515d3f/0db99692-7268-4f48-a10b-f9dcf10a8a15/training/data/emb/emb.hdf5\n\nTraceback (most recent call last):\n  File \"/Users/elliottchartock/Code/runners/.venv/lib/python3.9/site-packages/rungalileo/objectstore.py\", line 301, in download_object\n    self.minio_client.fget_object(\n  File \"/Users/elliottchartock/Code/runners/.venv/lib/python3.9/site-packages/minio/api.py\", line 1042, in fget_object\n    stat = self.stat_object(\n  File \"/Users/elliottchartock/Code/runners/.venv/lib/python3.9/site-packages/minio/api.py\", line 1868, in stat_object\n    response = self._execute(\n  File \"/Users/elliottchartock/Code/runners/.venv/lib/python3.9/site-packages/minio/api.py\", line 403, in _execute\n    return self._url_open(\n  File \"/Users/elliottchartock/Code/runners/.venv/lib/python3.9/site-packages/minio/api.py\", line 386, in _url_open\n    raise response_error\nminio.error.S3Error: S3 operation failed; code: NoSuchKey, message: Object does not exist, resource: /galileo-project-runs/49128c2e-7379-4292-af6c-661b9b515d3f/0db99692-7268-4f48-a10b-f9dcf10a8a15/training/data/emb/emb.hdf5, request_id: 1741EB874ED8B8B8, host_id: None, bucket_name: galileo-project-runs, object_name: 49128c2e-7379-4292-af6c-661b9b515d3f/0db99692-7268-4f48-a10b-f9dcf10a8a15/training/data/emb/emb.hdf5\n\nDuring handling of the above exception, another exception occurred:\n\nTraceback (most recent call last):\n  File \"/Users/elliottchartock/Code/runners/runners/services/vaex_runner.py\", line 131, in _run\n    self._update_job_status(next_job[\"id\"], JobStatus.completed)\n  File \"/Users/elliottchartock/Code/runners/.venv/lib/python3.9/site-packages/ddtrace/tracer.py\", line 920, in func_wrapper\n    return f(*args, **kwargs)\n  File \"/Users/elliottchartock/Code/runners/.venv/lib/python3.9/site-packages/rungalileo/services/vaex/base_vaex.py\", line 1404, in run\n    self.default(job_request=job_request, df_dir=tempdir)\n  File \"/Users/elliottchartock/Code/runners/.venv/lib/python3.9/site-packages/rungalileo/services/vaex/text_classification.py\", line 184, in default\n    default_data = self._prepare_for_default(job_request, df_dir)\n  File \"/Users/elliottchartock/Code/runners/.venv/lib/python3.9/site-packages/rungalileo/services/vaex/base_vaex.py\", line 1472, in _prepare_for_default\n    emb_dfs = get_emb_dfs_per_split(avl_split_paths, df_dir)\n  File \"/Users/elliottchartock/Code/runners/.venv/lib/python3.9/site-packages/ddtrace/tracer.py\", line 920, in func_wrapper\n    return f(*args, **kwargs)\n  File \"/Users/elliottchartock/Code/runners/.venv/lib/python3.9/site-packages/rungalileo/utils/vaex/embs.py\", line 46, in get_emb_dfs_per_split\n    emb_dfs = {\n  File \"/Users/elliottchartock/Code/runners/.venv/lib/python3.9/site-packages/rungalileo/utils/vaex/embs.py\", line 47, in <dictcomp>\n    split: fetch_vaex_df(bucket, split_paths[split], EMB_OBJECT_PATH, df_dir)\n  File \"/Users/elliottchartock/Code/runners/.venv/lib/python3.9/site-packages/ddtrace/tracer.py\", line 920, in func_wrapper\n    return f(*args, **kwargs)\n  File \"/Users/elliottchartock/Code/runners/.venv/lib/python3.9/site-packages/rungalileo/utils/vaex/df.py\", line 739, in fetch_vaex_df\n    object_store.download_object(bucket, object_path, local_path)\n  File \"/Users/elliottchartock/Code/runners/.venv/lib/python3.9/site-packages/rungalileo/objectstore.py\", line 312, in download_object\n    raise RungalileoException(f\"{message} {object_path}\")\nrungalileo.exceptions.RungalileoException: No data in minio for object 49128c2e-7379-4292-af6c-661b9b515d3f/0db99692-7268-4f48-a10b-f9dcf10a8a15/training/data/emb/emb.hdf5\n",
     "output_type": "error",
     "traceback": [
      "\u001b[0;31m---------------------------------------------------------------------------\u001b[0m",
      "\u001b[0;31mGalileoException\u001b[0m                          Traceback (most recent call last)",
      "Cell \u001b[0;32mIn [7], line 1\u001b[0m\n\u001b[0;32m----> 1\u001b[0m \u001b[43mdq\u001b[49m\u001b[38;5;241;43m.\u001b[39;49m\u001b[43mfinish\u001b[49m\u001b[43m(\u001b[49m\u001b[43m)\u001b[49m\n",
      "File \u001b[0;32m~/Code/dataquality/.venv/lib/python3.9/site-packages/dataquality/utils/helpers.py:25\u001b[0m, in \u001b[0;36mcheck_noop.<locals>.decorator\u001b[0;34m(*args, **kwargs)\u001b[0m\n\u001b[1;32m     23\u001b[0m \u001b[38;5;28;01mif\u001b[39;00m galileo_disabled():\n\u001b[1;32m     24\u001b[0m     \u001b[38;5;28;01mreturn\u001b[39;00m \u001b[38;5;28;01mNone\u001b[39;00m\n\u001b[0;32m---> 25\u001b[0m \u001b[38;5;28;01mreturn\u001b[39;00m \u001b[43mfunc\u001b[49m\u001b[43m(\u001b[49m\u001b[38;5;241;43m*\u001b[39;49m\u001b[43margs\u001b[49m\u001b[43m,\u001b[49m\u001b[43m \u001b[49m\u001b[38;5;241;43m*\u001b[39;49m\u001b[38;5;241;43m*\u001b[39;49m\u001b[43mkwargs\u001b[49m\u001b[43m)\u001b[49m\n",
      "File \u001b[0;32m~/Code/dataquality/.venv/lib/python3.9/site-packages/dataquality/core/finish.py:93\u001b[0m, in \u001b[0;36mfinish\u001b[0;34m(last_epoch, wait, create_data_embs)\u001b[0m\n\u001b[1;32m     85\u001b[0m     build_run_report(\n\u001b[1;32m     86\u001b[0m         data_logger\u001b[38;5;241m.\u001b[39mlogger_config\u001b[38;5;241m.\u001b[39mconditions,\n\u001b[1;32m     87\u001b[0m         data_logger\u001b[38;5;241m.\u001b[39mlogger_config\u001b[38;5;241m.\u001b[39mreport_emails,\n\u001b[0;32m   (...)\u001b[0m\n\u001b[1;32m     90\u001b[0m         link\u001b[38;5;241m=\u001b[39mres[\u001b[38;5;124m\"\u001b[39m\u001b[38;5;124mlink\u001b[39m\u001b[38;5;124m\"\u001b[39m],\n\u001b[1;32m     91\u001b[0m     )\n\u001b[1;32m     92\u001b[0m \u001b[38;5;28;01melif\u001b[39;00m wait:\n\u001b[0;32m---> 93\u001b[0m     \u001b[43mwait_for_run\u001b[49m\u001b[43m(\u001b[49m\u001b[43m)\u001b[49m\n\u001b[1;32m     94\u001b[0m     open_console_url(res[\u001b[38;5;124m\"\u001b[39m\u001b[38;5;124mlink\u001b[39m\u001b[38;5;124m\"\u001b[39m])\n\u001b[1;32m     96\u001b[0m \u001b[38;5;66;03m# Reset the data logger\u001b[39;00m\n",
      "File \u001b[0;32m~/Code/dataquality/.venv/lib/python3.9/site-packages/dataquality/utils/helpers.py:25\u001b[0m, in \u001b[0;36mcheck_noop.<locals>.decorator\u001b[0;34m(*args, **kwargs)\u001b[0m\n\u001b[1;32m     23\u001b[0m \u001b[38;5;28;01mif\u001b[39;00m galileo_disabled():\n\u001b[1;32m     24\u001b[0m     \u001b[38;5;28;01mreturn\u001b[39;00m \u001b[38;5;28;01mNone\u001b[39;00m\n\u001b[0;32m---> 25\u001b[0m \u001b[38;5;28;01mreturn\u001b[39;00m \u001b[43mfunc\u001b[49m\u001b[43m(\u001b[49m\u001b[38;5;241;43m*\u001b[39;49m\u001b[43margs\u001b[49m\u001b[43m,\u001b[49m\u001b[43m \u001b[49m\u001b[38;5;241;43m*\u001b[39;49m\u001b[38;5;241;43m*\u001b[39;49m\u001b[43mkwargs\u001b[49m\u001b[43m)\u001b[49m\n",
      "File \u001b[0;32m~/Code/dataquality/.venv/lib/python3.9/site-packages/dataquality/core/finish.py:118\u001b[0m, in \u001b[0;36mwait_for_run\u001b[0;34m(project_name, run_name)\u001b[0m\n\u001b[1;32m    105\u001b[0m \u001b[38;5;129m@check_noop\u001b[39m\n\u001b[1;32m    106\u001b[0m \u001b[38;5;28;01mdef\u001b[39;00m \u001b[38;5;21mwait_for_run\u001b[39m(\n\u001b[1;32m    107\u001b[0m     project_name: Optional[\u001b[38;5;28mstr\u001b[39m] \u001b[38;5;241m=\u001b[39m \u001b[38;5;28;01mNone\u001b[39;00m, run_name: Optional[\u001b[38;5;28mstr\u001b[39m] \u001b[38;5;241m=\u001b[39m \u001b[38;5;28;01mNone\u001b[39;00m\n\u001b[1;32m    108\u001b[0m ) \u001b[38;5;241m-\u001b[39m\u001b[38;5;241m>\u001b[39m \u001b[38;5;28;01mNone\u001b[39;00m:\n\u001b[1;32m    109\u001b[0m     \u001b[38;5;124;03m\"\"\"\u001b[39;00m\n\u001b[1;32m    110\u001b[0m \u001b[38;5;124;03m    Waits until a specific project run transitions from started to finished.\u001b[39;00m\n\u001b[1;32m    111\u001b[0m \u001b[38;5;124;03m    Defaults to the current run if project_name and run_name are empty.\u001b[39;00m\n\u001b[0;32m   (...)\u001b[0m\n\u001b[1;32m    116\u001b[0m \u001b[38;5;124;03m    :return: None. Function returns after the run transitions to `finished`\u001b[39;00m\n\u001b[1;32m    117\u001b[0m \u001b[38;5;124;03m    \"\"\"\u001b[39;00m\n\u001b[0;32m--> 118\u001b[0m     \u001b[38;5;28;01mreturn\u001b[39;00m \u001b[43mapi_client\u001b[49m\u001b[38;5;241;43m.\u001b[39;49m\u001b[43mwait_for_run\u001b[49m\u001b[43m(\u001b[49m\u001b[43mproject_name\u001b[49m\u001b[38;5;241;43m=\u001b[39;49m\u001b[43mproject_name\u001b[49m\u001b[43m,\u001b[49m\u001b[43m \u001b[49m\u001b[43mrun_name\u001b[49m\u001b[38;5;241;43m=\u001b[39;49m\u001b[43mrun_name\u001b[49m\u001b[43m)\u001b[49m\n",
      "File \u001b[0;32m~/Code/dataquality/.venv/lib/python3.9/site-packages/dataquality/clients/api.py:546\u001b[0m, in \u001b[0;36mApiClient.wait_for_run\u001b[0;34m(self, project_name, run_name)\u001b[0m\n\u001b[1;32m    544\u001b[0m     \u001b[38;5;28;01mexcept\u001b[39;00m JSONDecodeError:\n\u001b[1;32m    545\u001b[0m         err \u001b[38;5;241m=\u001b[39m job\u001b[38;5;241m.\u001b[39mget(\u001b[38;5;124m\"\u001b[39m\u001b[38;5;124merror_message\u001b[39m\u001b[38;5;124m\"\u001b[39m)\n\u001b[0;32m--> 546\u001b[0m     \u001b[38;5;28;01mraise\u001b[39;00m GalileoException(\n\u001b[1;32m    547\u001b[0m         \u001b[38;5;124mf\u001b[39m\u001b[38;5;124m\"\u001b[39m\u001b[38;5;124mIt seems your run failed with error\u001b[39m\u001b[38;5;130;01m\\n\u001b[39;00m\u001b[38;5;132;01m{\u001b[39;00merr\u001b[38;5;132;01m}\u001b[39;00m\u001b[38;5;124m\"\u001b[39m\n\u001b[1;32m    548\u001b[0m     ) \u001b[38;5;28;01mfrom\u001b[39;00m \u001b[38;5;28mNone\u001b[39m\n\u001b[1;32m    549\u001b[0m \u001b[38;5;28;01melif\u001b[39;00m job\u001b[38;5;241m.\u001b[39mget(\u001b[38;5;124m\"\u001b[39m\u001b[38;5;124mstatus\u001b[39m\u001b[38;5;124m\"\u001b[39m) \u001b[38;5;241m==\u001b[39m \u001b[38;5;124m\"\u001b[39m\u001b[38;5;124min_progress\u001b[39m\u001b[38;5;124m\"\u001b[39m \u001b[38;5;129;01mand\u001b[39;00m job\u001b[38;5;241m.\u001b[39mget(\u001b[38;5;124m\"\u001b[39m\u001b[38;5;124mprogress_message\u001b[39m\u001b[38;5;124m\"\u001b[39m):\n\u001b[1;32m    550\u001b[0m     \u001b[38;5;28;01mif\u001b[39;00m last_progress_message \u001b[38;5;241m!=\u001b[39m job[\u001b[38;5;124m\"\u001b[39m\u001b[38;5;124mprogress_message\u001b[39m\u001b[38;5;124m\"\u001b[39m]:\n",
      "\u001b[0;31mGalileoException\u001b[0m: It seems your run failed with error\nFailed background job: No data in minio for object 49128c2e-7379-4292-af6c-661b9b515d3f/0db99692-7268-4f48-a10b-f9dcf10a8a15/training/data/emb/emb.hdf5\n\nTraceback (most recent call last):\n  File \"/Users/elliottchartock/Code/runners/.venv/lib/python3.9/site-packages/rungalileo/objectstore.py\", line 301, in download_object\n    self.minio_client.fget_object(\n  File \"/Users/elliottchartock/Code/runners/.venv/lib/python3.9/site-packages/minio/api.py\", line 1042, in fget_object\n    stat = self.stat_object(\n  File \"/Users/elliottchartock/Code/runners/.venv/lib/python3.9/site-packages/minio/api.py\", line 1868, in stat_object\n    response = self._execute(\n  File \"/Users/elliottchartock/Code/runners/.venv/lib/python3.9/site-packages/minio/api.py\", line 403, in _execute\n    return self._url_open(\n  File \"/Users/elliottchartock/Code/runners/.venv/lib/python3.9/site-packages/minio/api.py\", line 386, in _url_open\n    raise response_error\nminio.error.S3Error: S3 operation failed; code: NoSuchKey, message: Object does not exist, resource: /galileo-project-runs/49128c2e-7379-4292-af6c-661b9b515d3f/0db99692-7268-4f48-a10b-f9dcf10a8a15/training/data/emb/emb.hdf5, request_id: 1741EB874ED8B8B8, host_id: None, bucket_name: galileo-project-runs, object_name: 49128c2e-7379-4292-af6c-661b9b515d3f/0db99692-7268-4f48-a10b-f9dcf10a8a15/training/data/emb/emb.hdf5\n\nDuring handling of the above exception, another exception occurred:\n\nTraceback (most recent call last):\n  File \"/Users/elliottchartock/Code/runners/runners/services/vaex_runner.py\", line 131, in _run\n    self._update_job_status(next_job[\"id\"], JobStatus.completed)\n  File \"/Users/elliottchartock/Code/runners/.venv/lib/python3.9/site-packages/ddtrace/tracer.py\", line 920, in func_wrapper\n    return f(*args, **kwargs)\n  File \"/Users/elliottchartock/Code/runners/.venv/lib/python3.9/site-packages/rungalileo/services/vaex/base_vaex.py\", line 1404, in run\n    self.default(job_request=job_request, df_dir=tempdir)\n  File \"/Users/elliottchartock/Code/runners/.venv/lib/python3.9/site-packages/rungalileo/services/vaex/text_classification.py\", line 184, in default\n    default_data = self._prepare_for_default(job_request, df_dir)\n  File \"/Users/elliottchartock/Code/runners/.venv/lib/python3.9/site-packages/rungalileo/services/vaex/base_vaex.py\", line 1472, in _prepare_for_default\n    emb_dfs = get_emb_dfs_per_split(avl_split_paths, df_dir)\n  File \"/Users/elliottchartock/Code/runners/.venv/lib/python3.9/site-packages/ddtrace/tracer.py\", line 920, in func_wrapper\n    return f(*args, **kwargs)\n  File \"/Users/elliottchartock/Code/runners/.venv/lib/python3.9/site-packages/rungalileo/utils/vaex/embs.py\", line 46, in get_emb_dfs_per_split\n    emb_dfs = {\n  File \"/Users/elliottchartock/Code/runners/.venv/lib/python3.9/site-packages/rungalileo/utils/vaex/embs.py\", line 47, in <dictcomp>\n    split: fetch_vaex_df(bucket, split_paths[split], EMB_OBJECT_PATH, df_dir)\n  File \"/Users/elliottchartock/Code/runners/.venv/lib/python3.9/site-packages/ddtrace/tracer.py\", line 920, in func_wrapper\n    return f(*args, **kwargs)\n  File \"/Users/elliottchartock/Code/runners/.venv/lib/python3.9/site-packages/rungalileo/utils/vaex/df.py\", line 739, in fetch_vaex_df\n    object_store.download_object(bucket, object_path, local_path)\n  File \"/Users/elliottchartock/Code/runners/.venv/lib/python3.9/site-packages/rungalileo/objectstore.py\", line 312, in download_object\n    raise RungalileoException(f\"{message} {object_path}\")\nrungalileo.exceptions.RungalileoException: No data in minio for object 49128c2e-7379-4292-af6c-661b9b515d3f/0db99692-7268-4f48-a10b-f9dcf10a8a15/training/data/emb/emb.hdf5\n"
     ]
    }
   ],
   "source": [
    "dq.finish()"
   ]
  },
  {
   "cell_type": "code",
   "execution_count": null,
   "id": "a614db0a-150c-46e8-8737-7f0d1de56d22",
   "metadata": {},
   "outputs": [],
   "source": []
  },
  {
   "cell_type": "markdown",
   "id": "ffc4f481-042c-4324-9c47-092d6befc07d",
   "metadata": {},
   "source": [
    "## Feature Pair Accuracy Matrix"
   ]
  },
  {
   "cell_type": "code",
   "execution_count": null,
   "id": "e616e610-7377-45aa-a2a4-3e2c49418e68",
   "metadata": {},
   "outputs": [],
   "source": [
    "# TODO"
   ]
  },
  {
   "cell_type": "markdown",
   "id": "53d044a2-5ea2-429b-85c9-e19431008a7d",
   "metadata": {},
   "source": [
    "## Feature Importance"
   ]
  },
  {
   "cell_type": "code",
   "execution_count": null,
   "id": "c159f87b-a2e8-4a91-9fc6-2a0f5032bd61",
   "metadata": {},
   "outputs": [],
   "source": [
    "xgb_model.feature_importances_"
   ]
  },
  {
   "cell_type": "markdown",
   "id": "9e7cba5f-fc64-42be-885b-d90450c6c801",
   "metadata": {},
   "source": [
    "## Feature Correlation Matrix"
   ]
  },
  {
   "cell_type": "code",
   "execution_count": null,
   "id": "f8fdd3e3-fff2-4182-8439-99ffcdb9e1ad",
   "metadata": {},
   "outputs": [],
   "source": [
    "import vaex\n",
    "\n",
    "df = vaex.from_pandas(X)\n",
    "df.correlation(x=df.get_column_names())"
   ]
  },
  {
   "cell_type": "code",
   "execution_count": null,
   "id": "4b91f4f0-0959-47a0-b525-d3eae788b301",
   "metadata": {},
   "outputs": [],
   "source": []
  }
 ],
 "metadata": {
  "kernelspec": {
   "display_name": "Python 3 (ipykernel)",
   "language": "python",
   "name": "python3"
  },
  "language_info": {
   "codemirror_mode": {
    "name": "ipython",
    "version": 3
   },
   "file_extension": ".py",
   "mimetype": "text/x-python",
   "name": "python",
   "nbconvert_exporter": "python",
   "pygments_lexer": "ipython3",
   "version": "3.9.6"
  }
 },
 "nbformat": 4,
 "nbformat_minor": 5
}
