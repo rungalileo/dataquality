{
 "cells": [
  {
   "cell_type": "code",
   "execution_count": 1,
   "id": "ba6c8e04-590b-45ac-b537-e0fc3345287f",
   "metadata": {},
   "outputs": [
    {
     "name": "stderr",
     "output_type": "stream",
     "text": [
      "/Users/elliottchartock/Code/structured-data/.venv/lib/python3.9/site-packages/dataquality/__init__.py:75: GalileoWarning: configure is deprecated, use dq.set_console_url and dq.login\n",
      "  warnings.warn(\n"
     ]
    },
    {
     "name": "stdout",
     "output_type": "stream",
     "text": [
      "📡 http://localhost:8088\n",
      "🔭 Logging you into Galileo\n",
      "\n",
      "🚀 You're logged in to Galileo as user@example.com!\n",
      "✨ Initializing existing public project 'my-proj'\n",
      "🏃‍♂️ Fetching existing run 'my-run'\n",
      "🛰 Connected to existing project 'my-proj', and existing run 'my-run'.\n"
     ]
    },
    {
     "name": "stderr",
     "output_type": "stream",
     "text": [
      "/Users/elliottchartock/Code/structured-data/.venv/lib/python3.9/site-packages/dataquality/core/init.py:159: UserWarning: Run: my-proj/my-run already exists! The existing run will get overwritten on call to finish()!\n",
      "  warnings.warn(\n"
     ]
    }
   ],
   "source": [
    "import os\n",
    "\n",
    "os.environ['GALILEO_CONSOLE_URL']=\"http://localhost:8088\"\n",
    "os.environ[\"GALILEO_USERNAME\"]=\"user@example.com\"\n",
    "os.environ[\"GALILEO_PASSWORD\"]=\"Th3secret_\"\n",
    "\n",
    "import dataquality as dq\n",
    "dq.configure()\n",
    "\n",
    "dq.init(\"structured_classification\", \"my-proj\", \"my-run\")"
   ]
  },
  {
   "cell_type": "code",
   "execution_count": 2,
   "id": "a74dbfd7-1a62-40c6-ab26-3f51b7142953",
   "metadata": {},
   "outputs": [],
   "source": [
    "import numpy as np\n",
    "import pandas as pd\n",
    "import xgboost as xgb\n",
    "\n",
    "from sklearn.datasets import load_wine"
   ]
  },
  {
   "cell_type": "code",
   "execution_count": 3,
   "id": "5fa2698c-b7ca-41bc-806a-1851bc953a12",
   "metadata": {},
   "outputs": [],
   "source": [
    "wine = load_wine()\n",
    "\n",
    "X = wine.data\n",
    "y = wine.target"
   ]
  },
  {
   "cell_type": "code",
   "execution_count": 4,
   "id": "40f30f3b-4574-42b6-81ca-a18bb1f8e1df",
   "metadata": {},
   "outputs": [
    {
     "name": "stdout",
     "output_type": "stream",
     "text": [
      "DESCR <class 'str'>\n",
      "data <class 'numpy.ndarray'>\n",
      "feature_names <class 'list'>\n",
      "frame <class 'NoneType'>\n",
      "target <class 'numpy.ndarray'>\n",
      "target_names <class 'numpy.ndarray'>\n",
      "(178, 13) (178,)\n"
     ]
    }
   ],
   "source": [
    "for elem in dir(wine):\n",
    "    print(elem, type(getattr(wine, elem)))\n",
    "\n",
    "print(X.shape, y.shape)"
   ]
  },
  {
   "cell_type": "code",
   "execution_count": null,
   "id": "15968443-c25b-4fec-af93-88e122703516",
   "metadata": {},
   "outputs": [],
   "source": []
  },
  {
   "cell_type": "code",
   "execution_count": 5,
   "id": "13c661e8-14f9-4d9f-bdb8-a4033f72faf6",
   "metadata": {},
   "outputs": [
    {
     "name": "stdout",
     "output_type": "stream",
     "text": [
      "<class 'xgboost.sklearn.XGBClassifier'>\n",
      "True\n",
      "[0.02249496 0.05327066 0.00634451 0.00283236 0.02685195 0.01328375\n",
      " 0.12725934 0.         0.00072921 0.13319397 0.01308241 0.48508126\n",
      " 0.11557565]\n"
     ]
    }
   ],
   "source": [
    "xgb_model = xgb.XGBClassifier(objective=\"multi:softprob\", random_state=42)\n",
    "fitted_model = xgb_model.fit(X, y)\n",
    "print(type(fitted_model))\n",
    "print(fitted_model == xgb_model)\n",
    "print(fitted_model.feature_importances_)"
   ]
  },
  {
   "cell_type": "code",
   "execution_count": 6,
   "id": "b495cbc5-6d70-43de-b855-7003359545a7",
   "metadata": {},
   "outputs": [],
   "source": [
    "y_pred = xgb_model.predict(X)\n",
    "y_preds = xgb_model.predict_proba(X)"
   ]
  },
  {
   "cell_type": "code",
   "execution_count": 7,
   "id": "d0509913-18d2-48dd-ac0e-239c79d457d4",
   "metadata": {},
   "outputs": [],
   "source": [
    "target_names = wine.target_names\n",
    "feature_names = [ft_name.replace(\"/\", \"|\") for ft_name in wine.feature_names]\n",
    "dq.set_labels_for_run(target_names)"
   ]
  },
  {
   "cell_type": "code",
   "execution_count": 8,
   "id": "3faa2b4d-fc29-45f7-9207-f92b3fd4aaa9",
   "metadata": {},
   "outputs": [
    {
     "name": "stdout",
     "output_type": "stream",
     "text": [
      "passing validation!\n",
      "Logged all data to /Users/elliottchartock/.galileo/logs/e64018f3-40a1-4b16-8a95-ebf1cd55a470/c91183e1-4522-49b1-8cb4-10914335868d/training/input_data.hdf5\n"
     ]
    }
   ],
   "source": [
    "dq.log_structured_samples(\n",
    "    X=X,\n",
    "    y=y,\n",
    "    feature_names=feature_names,\n",
    "    probs=y_preds,\n",
    "    split=\"training\"\n",
    ")"
   ]
  },
  {
   "cell_type": "code",
   "execution_count": null,
   "id": "5d07b384-fda4-4ca6-b5fe-0bd6319ddbe8",
   "metadata": {},
   "outputs": [
    {
     "name": "stdout",
     "output_type": "stream",
     "text": [
      "☁️ Uploading Data\n"
     ]
    },
    {
     "data": {
      "application/json": {
       "ascii": false,
       "bar_format": null,
       "colour": null,
       "elapsed": 0.01653289794921875,
       "initial": 0,
       "n": 0,
       "ncols": null,
       "nrows": 22,
       "postfix": null,
       "prefix": "Uploading splits",
       "rate": null,
       "total": 1,
       "unit": "it",
       "unit_divisor": 1000,
       "unit_scale": false
      },
      "application/vnd.jupyter.widget-view+json": {
       "model_id": "949a3e3f80db474585376b898341c568",
       "version_major": 2,
       "version_minor": 0
      },
      "text/plain": [
       "Uploading splits:   0%|          | 0/1 [00:00<?, ?it/s]"
      ]
     },
     "metadata": {},
     "output_type": "display_data"
    },
    {
     "data": {
      "application/json": {
       "ascii": false,
       "bar_format": null,
       "colour": null,
       "elapsed": 0.0073299407958984375,
       "initial": 0,
       "n": 0,
       "ncols": null,
       "nrows": 22,
       "postfix": null,
       "prefix": "Uploading Data",
       "rate": null,
       "total": 2,
       "unit": "it",
       "unit_divisor": 1000,
       "unit_scale": false
      },
      "application/vnd.jupyter.widget-view+json": {
       "model_id": "1532675f906b46c7816dba8536dc8870",
       "version_major": 2,
       "version_minor": 0
      },
      "text/plain": [
       "Uploading Data:   0%|          | 0/2 [00:00<?, ?it/s]"
      ]
     },
     "metadata": {},
     "output_type": "display_data"
    },
    {
     "name": "stdout",
     "output_type": "stream",
     "text": [
      "To Minio:  /Users/elliottchartock/.galileo/logs/e64018f3-40a1-4b16-8a95-ebf1cd55a470/c91183e1-4522-49b1-8cb4-10914335868d/training/prob/prob.hdf5\n",
      "To Minio:  /Users/elliottchartock/.galileo/logs/e64018f3-40a1-4b16-8a95-ebf1cd55a470/c91183e1-4522-49b1-8cb4-10914335868d/training/data/data.hdf5\n",
      "Job default successfully submitted. Results will be available soon at http://127.0.0.1:3000/insights?projectId=e64018f3-40a1-4b16-8a95-ebf1cd55a470&runId=c91183e1-4522-49b1-8cb4-10914335868d&split=training&metric=f1&depHigh=1&depLow=0&taskType=4\n",
      "Waiting for job...\n"
     ]
    }
   ],
   "source": [
    "dq.finish()"
   ]
  },
  {
   "cell_type": "code",
   "execution_count": null,
   "id": "a614db0a-150c-46e8-8737-7f0d1de56d22",
   "metadata": {},
   "outputs": [],
   "source": []
  },
  {
   "cell_type": "code",
   "execution_count": null,
   "id": "f8fdd3e3-fff2-4182-8439-99ffcdb9e1ad",
   "metadata": {},
   "outputs": [],
   "source": []
  }
 ],
 "metadata": {
  "kernelspec": {
   "display_name": "Python 3 (ipykernel)",
   "language": "python",
   "name": "python3"
  },
  "language_info": {
   "codemirror_mode": {
    "name": "ipython",
    "version": 3
   },
   "file_extension": ".py",
   "mimetype": "text/x-python",
   "name": "python",
   "nbconvert_exporter": "python",
   "pygments_lexer": "ipython3",
   "version": "3.9.0"
  }
 },
 "nbformat": 4,
 "nbformat_minor": 5
}
