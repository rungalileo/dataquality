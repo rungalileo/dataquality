{
 "cells": [
  {
   "cell_type": "code",
   "execution_count": 1,
   "id": "e76deff8-e91c-42ff-a99d-0afbb68e194d",
   "metadata": {},
   "outputs": [
    {
     "name": "stderr",
     "output_type": "stream",
     "text": [
      "/Users/elliottchartock/Code/dataquality/.venv/lib/python3.9/site-packages/dataquality/__init__.py:78: GalileoWarning: configure is deprecated, use dq.set_console_url and dq.login\n",
      "  warnings.warn(\n"
     ]
    },
    {
     "name": "stdout",
     "output_type": "stream",
     "text": [
      "📡 https://console.dev.rungalileo.io\n",
      "🔭 Logging you into Galileo\n",
      "\n",
      "🚀 You're logged in to Galileo as franz@rungalileo.io!\n"
     ]
    }
   ],
   "source": [
    "import os\n",
    "os.environ[\"GALILEO_CONSOLE_URL\"] = \"https://console.dev.rungalileo.io/\"\n",
    "os.environ[\"GALILEO_USERNAME\"] = \"franz@rungalileo.io\"\n",
    "os.environ[\"GALILEO_PASSWORD\"] = \"H0erzuh0erzu!\"\n",
    "os.environ[\"CUDA_VISIBLE_DEVICES\"]=\"\"\n",
    "\n",
    "import dataquality as dq\n",
    "import torch\n",
    "dq.configure()"
   ]
  },
  {
   "cell_type": "code",
   "execution_count": 2,
   "id": "ed20758e-d8a6-4d7a-ba54-3848db53add5",
   "metadata": {},
   "outputs": [],
   "source": [
    "from fastai.vision.all import *\n",
    "path = untar_data(URLs.PETS)/'images'\n",
    "image_files = get_image_files(path)"
   ]
  },
  {
   "cell_type": "code",
   "execution_count": 3,
   "id": "2684ee62-70c0-44df-91d1-c60c904d85f2",
   "metadata": {},
   "outputs": [],
   "source": [
    "torch.device('cpu')\n",
    "image_files_smol = image_files[:120]\n",
    "label_func = lambda x: x[0].isupper()\n",
    "\n",
    "dls = ImageDataLoaders.from_name_func(\n",
    "    path, image_files_smol, valid_pct=0.0,\n",
    "    label_func=label_func, item_tfms=Resize(224),\n",
    "    num_workers=1, device=\"cpu\")\n"
   ]
  },
  {
   "cell_type": "code",
   "execution_count": null,
   "id": "f32e83b9-beee-483e-9a27-88296c524e10",
   "metadata": {},
   "outputs": [],
   "source": []
  },
  {
   "cell_type": "code",
   "execution_count": 4,
   "id": "a74598ee-b2e1-4d1d-8b94-56f58197b9a4",
   "metadata": {},
   "outputs": [
    {
     "name": "stdout",
     "output_type": "stream",
     "text": [
      "✨ Initializing existing public project 'Elliott-cv'\n",
      "🏃‍♂️ Fetching existing run 'vaex-bug-maybe'\n",
      "🛰 Connected to existing project 'Elliott-cv', and existing run 'vaex-bug-maybe'.\n"
     ]
    },
    {
     "name": "stderr",
     "output_type": "stream",
     "text": [
      "/Users/elliottchartock/Code/dataquality/.venv/lib/python3.9/site-packages/dataquality/core/init.py:141: UserWarning: Run: Elliott-cv/vaex-bug-maybe already exists! The existing run will get overwritten on call to finish()!\n",
      "  warnings.warn(\n"
     ]
    }
   ],
   "source": [
    "dq.init(task_type=\"image_classification\", project_name=\"Elliott-cv\", run_name=\"vaex-bug-maybe\")"
   ]
  },
  {
   "cell_type": "code",
   "execution_count": 5,
   "id": "bba54163-dc53-4b5f-9d7b-81781e21be6b",
   "metadata": {},
   "outputs": [],
   "source": [
    "df = pd.DataFrame([{\"label\":int(label),\n",
    "              \"path\": path} for path, (a,label) in  zip(dls.train.items,\n",
    "                                                        dls.train.dataset)])\n",
    "df = df.reset_index().rename(columns={\"index\":\"id\"})\n",
    "# df_test = pd.DataFrame([{\"label\":int(label),\n",
    "#               \"path\": path} for path, (a,label) in  zip(dls.valid.items,\n",
    "#                                                         dls.valid.dataset)])\n",
    "# df_test = df_test.reset_index().rename(columns={\"index\":\"id\"})"
   ]
  },
  {
   "cell_type": "code",
   "execution_count": null,
   "id": "8b5abaa5-89c3-42f9-b61b-99081c62c683",
   "metadata": {},
   "outputs": [],
   "source": []
  },
  {
   "cell_type": "code",
   "execution_count": 6,
   "id": "df23373a-ae83-4a2c-ab97-47f4d0bb96c2",
   "metadata": {},
   "outputs": [],
   "source": [
    "# Note to self, check out dfs here"
   ]
  },
  {
   "cell_type": "code",
   "execution_count": 7,
   "id": "546efa19-3b80-42ab-a315-944cae91c2c3",
   "metadata": {},
   "outputs": [
    {
     "name": "stdout",
     "output_type": "stream",
     "text": [
      "Logging 120 samples [########################################] 100.00% elapsed time  :     0.00s =  0.0m =  0.0h\n",
      " "
     ]
    }
   ],
   "source": [
    "dq.set_labels_for_run([\"nocat\",\"cat\"])\n",
    "dq.log_image_dataset(\n",
    "    df,\n",
    "    imgs_location_colname=\"path\",\n",
    "    split=\"training\"\n",
    ")\n",
    "# dq.log_image_dataset(\n",
    "#     df_test,\n",
    "#     imgs_location_colname=\"path\",\n",
    "#     split=\"validation\"\n",
    "# )"
   ]
  },
  {
   "cell_type": "code",
   "execution_count": 8,
   "id": "d1414d9e-d8c9-4314-8d70-71373ca9688a",
   "metadata": {},
   "outputs": [],
   "source": [
    "from dataquality.integrations.fastai import FastAiDQCallback\n",
    "# dls.to(device=\"cpu\")\n",
    "learn = vision_learner(dls, 'resnet34', metrics=error_rate)\n",
    "# dqc = FastAiDQCallback(labels=[\"nocat\",\"cat\"], log_dataset=False)\n",
    "# learn.add_cb(dqc)\n",
    "# learn.fine_tune(2)"
   ]
  },
  {
   "cell_type": "code",
   "execution_count": 9,
   "id": "3d42b12a-d231-4f82-b5b3-87fac9517873",
   "metadata": {},
   "outputs": [
    {
     "data": {
      "text/plain": [
       "<fastai.learner.Learner at 0x148fe0790>"
      ]
     },
     "execution_count": 9,
     "metadata": {},
     "output_type": "execute_result"
    }
   ],
   "source": [
    "dqc = FastAiDQCallback(labels=[\"nocat\",\"cat\"], log_dataset=False)\n",
    "learn.add_cb(dqc)"
   ]
  },
  {
   "cell_type": "code",
   "execution_count": null,
   "id": "0a370c78-8621-48fb-902b-d414facab93a",
   "metadata": {},
   "outputs": [
    {
     "name": "stdout",
     "output_type": "stream",
     "text": [
      "Event: before_fit, Split: None, Epoch: None\n",
      "Event: before_epoch, Split: None, Epoch: None\n"
     ]
    },
    {
     "data": {
      "text/html": [
       "\n",
       "<style>\n",
       "    /* Turns off some styling */\n",
       "    progress {\n",
       "        /* gets rid of default border in Firefox and Opera. */\n",
       "        border: none;\n",
       "        /* Needs to be in here for Safari polyfill so background images work as expected. */\n",
       "        background-size: auto;\n",
       "    }\n",
       "    progress:not([value]), progress:not([value])::-webkit-progress-bar {\n",
       "        background: repeating-linear-gradient(45deg, #7e7e7e, #7e7e7e 10px, #5c5c5c 10px, #5c5c5c 20px);\n",
       "    }\n",
       "    .progress-bar-interrupted, .progress-bar-interrupted::-webkit-progress-bar {\n",
       "        background: #F44336;\n",
       "    }\n",
       "</style>\n"
      ],
      "text/plain": [
       "<IPython.core.display.HTML object>"
      ]
     },
     "metadata": {},
     "output_type": "display_data"
    },
    {
     "data": {
      "text/html": [
       "<table border=\"1\" class=\"dataframe\">\n",
       "  <thead>\n",
       "    <tr style=\"text-align: left;\">\n",
       "      <th>epoch</th>\n",
       "      <th>train_loss</th>\n",
       "      <th>valid_loss</th>\n",
       "      <th>error_rate</th>\n",
       "      <th>time</th>\n",
       "    </tr>\n",
       "  </thead>\n",
       "  <tbody>\n",
       "    <tr>\n",
       "      <td>0</td>\n",
       "      <td>1.484887</td>\n",
       "      <td>None</td>\n",
       "      <td>None</td>\n",
       "      <td>00:24</td>\n",
       "    </tr>\n",
       "  </tbody>\n",
       "</table>"
      ],
      "text/plain": [
       "<IPython.core.display.HTML object>"
      ]
     },
     "metadata": {},
     "output_type": "display_data"
    },
    {
     "name": "stdout",
     "output_type": "stream",
     "text": [
      "Event: before_train, Split: None, Epoch: 0\n",
      "Event: before_batch, Split: training, Epoch: 0\n",
      "Event: after_pred, Split: training, Epoch: 0\n",
      "> \u001b[0;32m/Users/elliottchartock/Code/dataquality/.venv/lib/python3.9/site-packages/dataquality/integrations/fastai.py\u001b[0m(316)\u001b[0;36mafter_pred\u001b[0;34m()\u001b[0m\n",
      "\u001b[0;32m    314 \u001b[0;31m        \u001b[0;31m# print(\"ids\", ids)\u001b[0m\u001b[0;34m\u001b[0m\u001b[0;34m\u001b[0m\u001b[0;34m\u001b[0m\u001b[0m\n",
      "\u001b[0m\u001b[0;32m    315 \u001b[0;31m        \u001b[0;32mimport\u001b[0m \u001b[0mpdb\u001b[0m\u001b[0;34m;\u001b[0m \u001b[0mpdb\u001b[0m\u001b[0;34m.\u001b[0m\u001b[0mset_trace\u001b[0m\u001b[0;34m(\u001b[0m\u001b[0;34m)\u001b[0m\u001b[0;34m\u001b[0m\u001b[0;34m\u001b[0m\u001b[0m\n",
      "\u001b[0m\u001b[0;32m--> 316 \u001b[0;31m        \u001b[0mdataquality\u001b[0m\u001b[0;34m.\u001b[0m\u001b[0mlog_model_outputs\u001b[0m\u001b[0;34m(\u001b[0m\u001b[0membs\u001b[0m\u001b[0;34m=\u001b[0m\u001b[0membs\u001b[0m\u001b[0;34m,\u001b[0m \u001b[0mlogits\u001b[0m\u001b[0;34m=\u001b[0m\u001b[0mlogits\u001b[0m\u001b[0;34m,\u001b[0m \u001b[0mids\u001b[0m\u001b[0;34m=\u001b[0m\u001b[0mids\u001b[0m\u001b[0;34m)\u001b[0m\u001b[0;34m\u001b[0m\u001b[0;34m\u001b[0m\u001b[0m\n",
      "\u001b[0m\u001b[0;32m    317 \u001b[0;31m\u001b[0;34m\u001b[0m\u001b[0m\n",
      "\u001b[0m\u001b[0;32m    318 \u001b[0;31m    \u001b[0;32mdef\u001b[0m \u001b[0mregister_hooks\u001b[0m\u001b[0;34m(\u001b[0m\u001b[0mself\u001b[0m\u001b[0;34m)\u001b[0m \u001b[0;34m->\u001b[0m \u001b[0mOptional\u001b[0m\u001b[0;34m[\u001b[0m\u001b[0mRemovableHandle\u001b[0m\u001b[0;34m]\u001b[0m\u001b[0;34m:\u001b[0m\u001b[0;34m\u001b[0m\u001b[0;34m\u001b[0m\u001b[0m\n",
      "\u001b[0m\n"
     ]
    },
    {
     "name": "stdin",
     "output_type": "stream",
     "text": [
      "ipdb>  len(ids)\n"
     ]
    },
    {
     "name": "stdout",
     "output_type": "stream",
     "text": [
      "64\n"
     ]
    },
    {
     "name": "stdin",
     "output_type": "stream",
     "text": [
      "ipdb>  c\n"
     ]
    },
    {
     "name": "stdout",
     "output_type": "stream",
     "text": [
      "Event: after_loss, Split: training, Epoch: 0\n",
      "Event: before_backward, Split: training, Epoch: 0\n",
      "Event: after_backward, Split: training, Epoch: 0\n",
      "Event: before_step, Split: training, Epoch: 0\n",
      "Event: after_step, Split: training, Epoch: 0\n",
      "Event: after_batch, Split: training, Epoch: 0\n",
      "Event: after_train, Split: training, Epoch: 0\n",
      "Event: before_validate, Split: training, Epoch: 0\n"
     ]
    },
    {
     "name": "stderr",
     "output_type": "stream",
     "text": [
      "/Users/elliottchartock/Code/dataquality/.venv/lib/python3.9/site-packages/fastprogress/fastprogress.py:73: UserWarning: Your generator is empty.\n",
      "  warn(\"Your generator is empty.\")\n"
     ]
    },
    {
     "name": "stdout",
     "output_type": "stream",
     "text": [
      "Event: after_validate, Split: validation, Epoch: 0\n",
      "Event: after_epoch, Split: training, Epoch: 0\n",
      "Event: after_fit, Split: training, Epoch: 0\n",
      "Event: before_fit, Split: training, Epoch: 0\n",
      "Event: before_epoch, Split: training, Epoch: 0\n"
     ]
    },
    {
     "data": {
      "text/html": [
       "\n",
       "<style>\n",
       "    /* Turns off some styling */\n",
       "    progress {\n",
       "        /* gets rid of default border in Firefox and Opera. */\n",
       "        border: none;\n",
       "        /* Needs to be in here for Safari polyfill so background images work as expected. */\n",
       "        background-size: auto;\n",
       "    }\n",
       "    progress:not([value]), progress:not([value])::-webkit-progress-bar {\n",
       "        background: repeating-linear-gradient(45deg, #7e7e7e, #7e7e7e 10px, #5c5c5c 10px, #5c5c5c 20px);\n",
       "    }\n",
       "    .progress-bar-interrupted, .progress-bar-interrupted::-webkit-progress-bar {\n",
       "        background: #F44336;\n",
       "    }\n",
       "</style>\n"
      ],
      "text/plain": [
       "<IPython.core.display.HTML object>"
      ]
     },
     "metadata": {},
     "output_type": "display_data"
    },
    {
     "data": {
      "text/html": [
       "\n",
       "    <div>\n",
       "      <progress value='1' class='' max='2' style='width:300px; height:20px; vertical-align: middle;'></progress>\n",
       "      50.00% [1/2 01:25&lt;01:25]\n",
       "    </div>\n",
       "    \n",
       "<table border=\"1\" class=\"dataframe\">\n",
       "  <thead>\n",
       "    <tr style=\"text-align: left;\">\n",
       "      <th>epoch</th>\n",
       "      <th>train_loss</th>\n",
       "      <th>valid_loss</th>\n",
       "      <th>error_rate</th>\n",
       "      <th>time</th>\n",
       "    </tr>\n",
       "  </thead>\n",
       "  <tbody>\n",
       "    <tr>\n",
       "      <td>0</td>\n",
       "      <td>1.267783</td>\n",
       "      <td>None</td>\n",
       "      <td>None</td>\n",
       "      <td>01:25</td>\n",
       "    </tr>\n",
       "  </tbody>\n",
       "</table><p>\n",
       "\n",
       "    <div>\n",
       "      <progress value='0' class='' max='0' style='width:300px; height:20px; vertical-align: middle;'></progress>\n",
       "      100% [0/0]\n",
       "    </div>\n",
       "    "
      ],
      "text/plain": [
       "<IPython.core.display.HTML object>"
      ]
     },
     "metadata": {},
     "output_type": "display_data"
    },
    {
     "name": "stdout",
     "output_type": "stream",
     "text": [
      "Event: before_train, Split: training, Epoch: 0\n",
      "Event: before_batch, Split: training, Epoch: 0\n",
      "Event: after_pred, Split: training, Epoch: 0\n",
      "> \u001b[0;32m/Users/elliottchartock/Code/dataquality/.venv/lib/python3.9/site-packages/dataquality/integrations/fastai.py\u001b[0m(316)\u001b[0;36mafter_pred\u001b[0;34m()\u001b[0m\n",
      "\u001b[0;32m    314 \u001b[0;31m        \u001b[0;31m# print(\"ids\", ids)\u001b[0m\u001b[0;34m\u001b[0m\u001b[0;34m\u001b[0m\u001b[0;34m\u001b[0m\u001b[0m\n",
      "\u001b[0m\u001b[0;32m    315 \u001b[0;31m        \u001b[0;32mimport\u001b[0m \u001b[0mpdb\u001b[0m\u001b[0;34m;\u001b[0m \u001b[0mpdb\u001b[0m\u001b[0;34m.\u001b[0m\u001b[0mset_trace\u001b[0m\u001b[0;34m(\u001b[0m\u001b[0;34m)\u001b[0m\u001b[0;34m\u001b[0m\u001b[0;34m\u001b[0m\u001b[0m\n",
      "\u001b[0m\u001b[0;32m--> 316 \u001b[0;31m        \u001b[0mdataquality\u001b[0m\u001b[0;34m.\u001b[0m\u001b[0mlog_model_outputs\u001b[0m\u001b[0;34m(\u001b[0m\u001b[0membs\u001b[0m\u001b[0;34m=\u001b[0m\u001b[0membs\u001b[0m\u001b[0;34m,\u001b[0m \u001b[0mlogits\u001b[0m\u001b[0;34m=\u001b[0m\u001b[0mlogits\u001b[0m\u001b[0;34m,\u001b[0m \u001b[0mids\u001b[0m\u001b[0;34m=\u001b[0m\u001b[0mids\u001b[0m\u001b[0;34m)\u001b[0m\u001b[0;34m\u001b[0m\u001b[0;34m\u001b[0m\u001b[0m\n",
      "\u001b[0m\u001b[0;32m    317 \u001b[0;31m\u001b[0;34m\u001b[0m\u001b[0m\n",
      "\u001b[0m\u001b[0;32m    318 \u001b[0;31m    \u001b[0;32mdef\u001b[0m \u001b[0mregister_hooks\u001b[0m\u001b[0;34m(\u001b[0m\u001b[0mself\u001b[0m\u001b[0;34m)\u001b[0m \u001b[0;34m->\u001b[0m \u001b[0mOptional\u001b[0m\u001b[0;34m[\u001b[0m\u001b[0mRemovableHandle\u001b[0m\u001b[0;34m]\u001b[0m\u001b[0;34m:\u001b[0m\u001b[0;34m\u001b[0m\u001b[0;34m\u001b[0m\u001b[0m\n",
      "\u001b[0m\n"
     ]
    },
    {
     "name": "stdin",
     "output_type": "stream",
     "text": [
      "ipdb>  len(ids)\n"
     ]
    },
    {
     "name": "stdout",
     "output_type": "stream",
     "text": [
      "64\n"
     ]
    },
    {
     "name": "stdin",
     "output_type": "stream",
     "text": [
      "ipdb>  c\n"
     ]
    },
    {
     "name": "stdout",
     "output_type": "stream",
     "text": [
      "Event: after_loss, Split: training, Epoch: 0\n",
      "Event: before_backward, Split: training, Epoch: 0\n",
      "Event: after_backward, Split: training, Epoch: 0\n",
      "Event: before_step, Split: training, Epoch: 0\n",
      "Event: after_step, Split: training, Epoch: 0\n",
      "Event: after_batch, Split: training, Epoch: 0\n",
      "Event: after_train, Split: training, Epoch: 0\n",
      "Event: before_validate, Split: training, Epoch: 0\n",
      "Event: after_validate, Split: validation, Epoch: 0\n",
      "Event: after_epoch, Split: training, Epoch: 0\n",
      "Event: before_epoch, Split: training, Epoch: 0\n",
      "Event: before_train, Split: training, Epoch: 1\n",
      "Event: before_batch, Split: training, Epoch: 1\n",
      "Event: after_pred, Split: training, Epoch: 1\n",
      "> \u001b[0;32m/Users/elliottchartock/Code/dataquality/.venv/lib/python3.9/site-packages/dataquality/integrations/fastai.py\u001b[0m(316)\u001b[0;36mafter_pred\u001b[0;34m()\u001b[0m\n",
      "\u001b[0;32m    314 \u001b[0;31m        \u001b[0;31m# print(\"ids\", ids)\u001b[0m\u001b[0;34m\u001b[0m\u001b[0;34m\u001b[0m\u001b[0;34m\u001b[0m\u001b[0m\n",
      "\u001b[0m\u001b[0;32m    315 \u001b[0;31m        \u001b[0;32mimport\u001b[0m \u001b[0mpdb\u001b[0m\u001b[0;34m;\u001b[0m \u001b[0mpdb\u001b[0m\u001b[0;34m.\u001b[0m\u001b[0mset_trace\u001b[0m\u001b[0;34m(\u001b[0m\u001b[0;34m)\u001b[0m\u001b[0;34m\u001b[0m\u001b[0;34m\u001b[0m\u001b[0m\n",
      "\u001b[0m\u001b[0;32m--> 316 \u001b[0;31m        \u001b[0mdataquality\u001b[0m\u001b[0;34m.\u001b[0m\u001b[0mlog_model_outputs\u001b[0m\u001b[0;34m(\u001b[0m\u001b[0membs\u001b[0m\u001b[0;34m=\u001b[0m\u001b[0membs\u001b[0m\u001b[0;34m,\u001b[0m \u001b[0mlogits\u001b[0m\u001b[0;34m=\u001b[0m\u001b[0mlogits\u001b[0m\u001b[0;34m,\u001b[0m \u001b[0mids\u001b[0m\u001b[0;34m=\u001b[0m\u001b[0mids\u001b[0m\u001b[0;34m)\u001b[0m\u001b[0;34m\u001b[0m\u001b[0;34m\u001b[0m\u001b[0m\n",
      "\u001b[0m\u001b[0;32m    317 \u001b[0;31m\u001b[0;34m\u001b[0m\u001b[0m\n",
      "\u001b[0m\u001b[0;32m    318 \u001b[0;31m    \u001b[0;32mdef\u001b[0m \u001b[0mregister_hooks\u001b[0m\u001b[0;34m(\u001b[0m\u001b[0mself\u001b[0m\u001b[0;34m)\u001b[0m \u001b[0;34m->\u001b[0m \u001b[0mOptional\u001b[0m\u001b[0;34m[\u001b[0m\u001b[0mRemovableHandle\u001b[0m\u001b[0;34m]\u001b[0m\u001b[0;34m:\u001b[0m\u001b[0;34m\u001b[0m\u001b[0;34m\u001b[0m\u001b[0m\n",
      "\u001b[0m\n"
     ]
    },
    {
     "name": "stdin",
     "output_type": "stream",
     "text": [
      "ipdb>  len(ids)\n"
     ]
    },
    {
     "name": "stdout",
     "output_type": "stream",
     "text": [
      "64\n"
     ]
    },
    {
     "name": "stdin",
     "output_type": "stream",
     "text": [
      "ipdb>  c\n"
     ]
    },
    {
     "name": "stdout",
     "output_type": "stream",
     "text": [
      "Event: after_loss, Split: training, Epoch: 1\n",
      "Event: before_backward, Split: training, Epoch: 1\n",
      "Event: after_backward, Split: training, Epoch: 1\n",
      "Event: before_step, Split: training, Epoch: 1\n",
      "Event: after_step, Split: training, Epoch: 1\n",
      "Event: after_batch, Split: training, Epoch: 1\n",
      "Event: after_train, Split: training, Epoch: 1\n",
      "Event: before_validate, Split: training, Epoch: 1\n",
      "Event: after_validate, Split: validation, Epoch: 1\n",
      "Event: after_epoch, Split: training, Epoch: 1\n",
      "Event: after_fit, Split: training, Epoch: 1\n",
      "Finishing dataquality\n",
      "☁️ Uploading Data\n"
     ]
    },
    {
     "data": {
      "application/json": {
       "ascii": false,
       "bar_format": null,
       "colour": null,
       "elapsed": 0.020864009857177734,
       "initial": 0,
       "n": 0,
       "ncols": null,
       "nrows": 26,
       "postfix": null,
       "prefix": "training",
       "rate": null,
       "total": 2,
       "unit": "it",
       "unit_divisor": 1000,
       "unit_scale": false
      },
      "application/vnd.jupyter.widget-view+json": {
       "model_id": "b70f0f2808e94e32a91187307589521c",
       "version_major": 2,
       "version_minor": 0
      },
      "text/plain": [
       "training:   0%|          | 0/2 [00:00<?, ?it/s]"
      ]
     },
     "metadata": {},
     "output_type": "display_data"
    },
    {
     "name": "stdout",
     "output_type": "stream",
     "text": [
      "> \u001b[0;32m/Users/elliottchartock/Code/dataquality/.venv/lib/python3.9/site-packages/dataquality/loggers/data_logger/base_data_logger.py\u001b[0m(354)\u001b[0;36mcreate_in_out_frames\u001b[0;34m()\u001b[0m\n",
      "\u001b[0;32m    352 \u001b[0;31m        \"\"\"\n",
      "\u001b[0m\u001b[0;32m    353 \u001b[0;31m        \u001b[0;32mimport\u001b[0m \u001b[0mpdb\u001b[0m\u001b[0;34m;\u001b[0m \u001b[0mpdb\u001b[0m\u001b[0;34m.\u001b[0m\u001b[0mset_trace\u001b[0m\u001b[0;34m(\u001b[0m\u001b[0;34m)\u001b[0m\u001b[0;34m\u001b[0m\u001b[0;34m\u001b[0m\u001b[0m\n",
      "\u001b[0m\u001b[0;32m--> 354 \u001b[0;31m        \u001b[0mstr_cols\u001b[0m \u001b[0;34m=\u001b[0m \u001b[0mconcat_hdf5_files\u001b[0m\u001b[0;34m(\u001b[0m\u001b[0mdir_name\u001b[0m\u001b[0;34m,\u001b[0m \u001b[0mprob_only\u001b[0m\u001b[0;34m)\u001b[0m\u001b[0;34m\u001b[0m\u001b[0;34m\u001b[0m\u001b[0m\n",
      "\u001b[0m\u001b[0;32m    355 \u001b[0;31m        \u001b[0mout_frame\u001b[0m \u001b[0;34m=\u001b[0m \u001b[0mvaex\u001b[0m\u001b[0;34m.\u001b[0m\u001b[0mopen\u001b[0m\u001b[0;34m(\u001b[0m\u001b[0;34mf\"{dir_name}/{HDF5_STORE}\"\u001b[0m\u001b[0;34m)\u001b[0m  \u001b[0;31m# THE OUT_FRAME IS MISSING 8 ROWS\u001b[0m\u001b[0;34m\u001b[0m\u001b[0;34m\u001b[0m\u001b[0m\n",
      "\u001b[0m\u001b[0;32m    356 \u001b[0;31m        \u001b[0;32mimport\u001b[0m \u001b[0mpdb\u001b[0m\u001b[0;34m;\u001b[0m \u001b[0mpdb\u001b[0m\u001b[0;34m.\u001b[0m\u001b[0mset_trace\u001b[0m\u001b[0;34m(\u001b[0m\u001b[0;34m)\u001b[0m\u001b[0;34m\u001b[0m\u001b[0;34m\u001b[0m\u001b[0m\n",
      "\u001b[0m\n"
     ]
    },
    {
     "name": "stdin",
     "output_type": "stream",
     "text": [
      "ipdb>  n\n"
     ]
    },
    {
     "data": {
      "application/json": {
       "ascii": false,
       "bar_format": null,
       "colour": null,
       "elapsed": 0.7385289669036865,
       "initial": 0,
       "n": 0,
       "ncols": null,
       "nrows": 26,
       "postfix": null,
       "prefix": "Processing data for upload",
       "rate": null,
       "total": 2,
       "unit": "it",
       "unit_divisor": 1000,
       "unit_scale": false
      },
      "application/vnd.jupyter.widget-view+json": {
       "model_id": "",
       "version_major": 2,
       "version_minor": 0
      },
      "text/plain": [
       "Processing data for upload:   0%|          | 0/2 [00:00<?, ?it/s]"
      ]
     },
     "metadata": {},
     "output_type": "display_data"
    },
    {
     "name": "stdout",
     "output_type": "stream",
     "text": [
      "> \u001b[0;32m/Users/elliottchartock/Code/dataquality/.venv/lib/python3.9/site-packages/dataquality/loggers/data_logger/base_data_logger.py\u001b[0m(355)\u001b[0;36mcreate_in_out_frames\u001b[0;34m()\u001b[0m\n",
      "\u001b[0;32m    353 \u001b[0;31m        \u001b[0;32mimport\u001b[0m \u001b[0mpdb\u001b[0m\u001b[0;34m;\u001b[0m \u001b[0mpdb\u001b[0m\u001b[0;34m.\u001b[0m\u001b[0mset_trace\u001b[0m\u001b[0;34m(\u001b[0m\u001b[0;34m)\u001b[0m\u001b[0;34m\u001b[0m\u001b[0;34m\u001b[0m\u001b[0m\n",
      "\u001b[0m\u001b[0;32m    354 \u001b[0;31m        \u001b[0mstr_cols\u001b[0m \u001b[0;34m=\u001b[0m \u001b[0mconcat_hdf5_files\u001b[0m\u001b[0;34m(\u001b[0m\u001b[0mdir_name\u001b[0m\u001b[0;34m,\u001b[0m \u001b[0mprob_only\u001b[0m\u001b[0;34m)\u001b[0m\u001b[0;34m\u001b[0m\u001b[0;34m\u001b[0m\u001b[0m\n",
      "\u001b[0m\u001b[0;32m--> 355 \u001b[0;31m        \u001b[0mout_frame\u001b[0m \u001b[0;34m=\u001b[0m \u001b[0mvaex\u001b[0m\u001b[0;34m.\u001b[0m\u001b[0mopen\u001b[0m\u001b[0;34m(\u001b[0m\u001b[0;34mf\"{dir_name}/{HDF5_STORE}\"\u001b[0m\u001b[0;34m)\u001b[0m  \u001b[0;31m# THE OUT_FRAME IS MISSING 8 ROWS\u001b[0m\u001b[0;34m\u001b[0m\u001b[0;34m\u001b[0m\u001b[0m\n",
      "\u001b[0m\u001b[0;32m    356 \u001b[0;31m        \u001b[0;32mimport\u001b[0m \u001b[0mpdb\u001b[0m\u001b[0;34m;\u001b[0m \u001b[0mpdb\u001b[0m\u001b[0;34m.\u001b[0m\u001b[0mset_trace\u001b[0m\u001b[0;34m(\u001b[0m\u001b[0;34m)\u001b[0m\u001b[0;34m\u001b[0m\u001b[0;34m\u001b[0m\u001b[0m\n",
      "\u001b[0m\u001b[0;32m    357 \u001b[0;31m\u001b[0;34m\u001b[0m\u001b[0m\n",
      "\u001b[0m\n"
     ]
    },
    {
     "name": "stdin",
     "output_type": "stream",
     "text": [
      "ipdb>  n\n"
     ]
    },
    {
     "name": "stdout",
     "output_type": "stream",
     "text": [
      "> \u001b[0;32m/Users/elliottchartock/Code/dataquality/.venv/lib/python3.9/site-packages/dataquality/loggers/data_logger/base_data_logger.py\u001b[0m(356)\u001b[0;36mcreate_in_out_frames\u001b[0;34m()\u001b[0m\n",
      "\u001b[0;32m    354 \u001b[0;31m        \u001b[0mstr_cols\u001b[0m \u001b[0;34m=\u001b[0m \u001b[0mconcat_hdf5_files\u001b[0m\u001b[0;34m(\u001b[0m\u001b[0mdir_name\u001b[0m\u001b[0;34m,\u001b[0m \u001b[0mprob_only\u001b[0m\u001b[0;34m)\u001b[0m\u001b[0;34m\u001b[0m\u001b[0;34m\u001b[0m\u001b[0m\n",
      "\u001b[0m\u001b[0;32m    355 \u001b[0;31m        \u001b[0mout_frame\u001b[0m \u001b[0;34m=\u001b[0m \u001b[0mvaex\u001b[0m\u001b[0;34m.\u001b[0m\u001b[0mopen\u001b[0m\u001b[0;34m(\u001b[0m\u001b[0;34mf\"{dir_name}/{HDF5_STORE}\"\u001b[0m\u001b[0;34m)\u001b[0m  \u001b[0;31m# THE OUT_FRAME IS MISSING 8 ROWS\u001b[0m\u001b[0;34m\u001b[0m\u001b[0;34m\u001b[0m\u001b[0m\n",
      "\u001b[0m\u001b[0;32m--> 356 \u001b[0;31m        \u001b[0;32mimport\u001b[0m \u001b[0mpdb\u001b[0m\u001b[0;34m;\u001b[0m \u001b[0mpdb\u001b[0m\u001b[0;34m.\u001b[0m\u001b[0mset_trace\u001b[0m\u001b[0;34m(\u001b[0m\u001b[0;34m)\u001b[0m\u001b[0;34m\u001b[0m\u001b[0;34m\u001b[0m\u001b[0m\n",
      "\u001b[0m\u001b[0;32m    357 \u001b[0;31m\u001b[0;34m\u001b[0m\u001b[0m\n",
      "\u001b[0m\u001b[0;32m    358 \u001b[0;31m        \u001b[0;32mif\u001b[0m \u001b[0msplit\u001b[0m \u001b[0;34m==\u001b[0m \u001b[0mSplit\u001b[0m\u001b[0;34m.\u001b[0m\u001b[0minference\u001b[0m\u001b[0;34m:\u001b[0m\u001b[0;34m\u001b[0m\u001b[0;34m\u001b[0m\u001b[0m\n",
      "\u001b[0m\n"
     ]
    },
    {
     "name": "stdin",
     "output_type": "stream",
     "text": [
      "ipdb>  len(out_frame)\n"
     ]
    },
    {
     "name": "stdout",
     "output_type": "stream",
     "text": [
      "96\n"
     ]
    },
    {
     "name": "stdin",
     "output_type": "stream",
     "text": [
      "ipdb>  out_frame.ids\n"
     ]
    },
    {
     "name": "stdout",
     "output_type": "stream",
     "text": [
      "*** AttributeError: 'DataFrameLocal' object has no attribute 'ids'\n"
     ]
    },
    {
     "name": "stdin",
     "output_type": "stream",
     "text": [
      "ipdb>  out_frame\n"
     ]
    },
    {
     "name": "stdout",
     "output_type": "stream",
     "text": [
      "#    data_schema_version    emb                                                  epoch    id    pred    prob                                            split\n",
      "0    1                      'array([-1.3231256e+00, -0.0000000e+00,  0.00000...  0        2     0       array([0.65508854, 0.3449115 ], dtype=float32)  b'training'\n",
      "1    1                      'array([ 0.        , -0.        , -1.5296291 ,  ...  0        5     1       array([0.2606166, 0.7393834], dtype=float32)    b'training'\n",
      "2    1                      'array([-0.        , -0.        , -1.5296291 , -...  0        10    1       array([0.36729914, 0.63270086], dtype=float32)  b'training'\n",
      "3    1                      'array([-1.3231256 , -0.        , -1.5296291 ,  ...  0        12    1       array([0.11282522, 0.8871747 ], dtype=float32)  b'training'\n",
      "4    1                      'array([-1.3231256 , -1.2298623 , -1.5296291 , -...  0        14    0       array([0.9660067, 0.0339933], dtype=float32)    b'training'\n",
      "...  ...                    ...                                                  ...      ...   ...     ...                                             ...\n",
      "91   1                      'array([-0.        , -0.27263927, -1.2876673 ,  ...  0        31    0       array([0.59674823, 0.40325174], dtype=float32)  b'training'\n",
      "92   1                      'array([ 0.0000000e+00, -1.2205771e+00,  1.21900...  0        51    1       array([0.00221984, 0.99778014], dtype=float32)  b'training'\n",
      "93   1                      'array([-0.0000000e+00,  0.0000000e+00, -1.28766...  0        91    0       array([0.96073425, 0.03926575], dtype=float32)  b'training'\n",
      "94   1                      'array([-0.03572273,  1.3340992 ,  4.1290193 ,  ...  0        118   0       array([0.55783796, 0.44216207], dtype=float32)  b'training'\n",
      "95   1                      'array([ 0.0000000e+00, -0.0000000e+00, -0.00000...  0        62    1       array([0.08179025, 0.91820973], dtype=float32)  b'training'\n"
     ]
    },
    {
     "name": "stdin",
     "output_type": "stream",
     "text": [
      "ipdb>  sorted(out_frame.id.tolist())\n"
     ]
    },
    {
     "name": "stdout",
     "output_type": "stream",
     "text": [
      "[0, 2, 4, 5, 6, 7, 10, 11, 12, 13, 14, 15, 17, 18, 19, 20, 21, 22, 23, 24, 25, 27, 28, 29, 30, 31, 32, 33, 34, 35, 36, 37, 40, 41, 42, 43, 44, 45, 46, 47, 48, 50, 51, 52, 54, 55, 56, 57, 58, 59, 60, 61, 62, 64, 66, 67, 68, 69, 70, 71, 72, 74, 76, 79, 83, 85, 86, 87, 88, 90, 91, 92, 93, 94, 97, 98, 99, 100, 101, 102, 103, 104, 105, 106, 107, 108, 109, 111, 112, 113, 114, 115, 116, 117, 118, 119]\n"
     ]
    }
   ],
   "source": [
    "learn.fine_tune(2)"
   ]
  },
  {
   "cell_type": "code",
   "execution_count": null,
   "id": "f211dcd0-1879-4183-9f13-9d2b73baf61a",
   "metadata": {},
   "outputs": [],
   "source": []
  }
 ],
 "metadata": {
  "kernelspec": {
   "display_name": "Python 3 (ipykernel)",
   "language": "python",
   "name": "python3"
  },
  "language_info": {
   "codemirror_mode": {
    "name": "ipython",
    "version": 3
   },
   "file_extension": ".py",
   "mimetype": "text/x-python",
   "name": "python",
   "nbconvert_exporter": "python",
   "pygments_lexer": "ipython3",
   "version": "3.9.6"
  }
 },
 "nbformat": 4,
 "nbformat_minor": 5
}
