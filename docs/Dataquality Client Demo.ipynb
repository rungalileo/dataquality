{
 "cells": [
  {
   "cell_type": "markdown",
   "id": "e7081078",
   "metadata": {},
   "source": [
    "# Welcome to the dataquality client demo\n",
    "\n",
    "### This will be a brief introduction to how the client works and a bit under the hood"
   ]
  },
  {
   "cell_type": "markdown",
   "id": "9716a0d8",
   "metadata": {},
   "source": [
    "## Installing\n",
    "\n",
    "You can currently install dataquality from pypi\n",
    "`pip install dataquality`\n",
    "\n",
    "But for development, you may want to install it from github. This will give you the latest changes in master\n",
    "\n",
    "`pip install git+https://www.github.com/rungalileo/dataquality.git`\n",
    "\n",
    "You can also clone the repo and install from a path. This is recommended for development\n",
    "\n",
    "`pip install /path/to/dataquality/directory`\n",
    "\n",
    "**(It's good to restart the kernel after an install)**"
   ]
  },
  {
   "cell_type": "code",
   "execution_count": 1,
   "id": "b94b276a-bcec-448e-8f29-515cd7354cd1",
   "metadata": {},
   "outputs": [
    {
     "name": "stdout",
     "output_type": "stream",
     "text": [
      "/Users/elliottchartock/Code/dataquality/docs\n"
     ]
    }
   ],
   "source": [
    "!pwd"
   ]
  },
  {
   "cell_type": "code",
   "execution_count": 2,
   "id": "a5afe1dd",
   "metadata": {},
   "outputs": [],
   "source": [
    "!pip install -q .."
   ]
  },
  {
   "cell_type": "code",
   "execution_count": null,
   "id": "5b8e7ff1",
   "metadata": {},
   "outputs": [],
   "source": [
    "# If you have cloned the dataquality repo and are running this from the docs folder, you can run this\n",
    "!pip install -q ../dataquality"
   ]
  },
  {
   "cell_type": "code",
   "execution_count": null,
   "id": "92f0b8bb",
   "metadata": {},
   "outputs": [],
   "source": [
    "# Or install latest from main\n",
    "!pip install -qqq git+https://www.github.com/rungalileo/dataquality.git"
   ]
  },
  {
   "cell_type": "markdown",
   "id": "03c50925",
   "metadata": {},
   "source": [
    "## Components\n",
    "\n",
    "The data quality client is currently very simple. It has just a few components:\n",
    "\n",
    "* logging - the inputs and outputs to your model\n",
    "* config - the urls, usernames, and passwords to interact with the server\n",
    "* init - how you start a new project/run\n",
    "* finish - how you end your run"
   ]
  },
  {
   "cell_type": "markdown",
   "id": "234111dd",
   "metadata": {},
   "source": [
    "## Getting started\n",
    "\n",
    "To get started, simply `import dataquality`<br>\n",
    "If your environment variables are set, your import will pass through. If not, you will be prompted for some url and config variables.<br>\n",
    "\n",
    "To bypass the prompt, set the following environment variables\n",
    "* `GALILEO_CONSOLE_URL`\n",
    "\n",
    "If you have your server (api, minio, mysql) running locally for development, the following will work\n",
    "```\n",
    "import os\n",
    "\n",
    "os.environ['GALILEO_CONSOLE_URL']=\"http://localhost\"\n",
    "```\n",
    "\n",
    "If you don't set these environment variables, the client will prompt you for the fields (assuming you're running from the newest code).\n",
    "\n",
    "### How do I get everything running locally??\n",
    "\n",
    "See our [CONTRIBUTING](https://github.com/rungalileo/api/blob/main/CONTRIBUTING.md) doc\n",
    "(When running the API, use the `./scripts/run-gunicorn.sh` - you don't need all of them)"
   ]
  },
  {
   "cell_type": "code",
   "execution_count": 6,
   "id": "9be42940",
   "metadata": {},
   "outputs": [],
   "source": [
    "import os\n",
    "\n",
    "os.environ['GALILEO_CONSOLE_URL']=\"http://localhost:8088\""
   ]
  },
  {
   "cell_type": "code",
   "execution_count": 4,
   "id": "9197b7e9",
   "metadata": {},
   "outputs": [],
   "source": [
    "# For dev cluster, run this cell\n",
    "\n",
    "# import os\n",
    "# os.environ['GALILEO_CONSOLE_URL']=\"https://console.dev.rungalileo.io\""
   ]
  },
  {
   "cell_type": "code",
   "execution_count": 5,
   "id": "df5b2ac2",
   "metadata": {},
   "outputs": [],
   "source": [
    "import dataquality"
   ]
  },
  {
   "cell_type": "markdown",
   "id": "c440db27",
   "metadata": {},
   "source": [
    "## Logging in\n",
    "\n",
    "Once you have dataquality imported, you can log into your server and start logging data<br>\n",
    "\n",
    "To log in, you can call `dataquality.login()` <br>\n",
    "This will prompt you for your auth method, email, and password. You can skip this prompt with the following environment variables:\n",
    "\n",
    "* `GALILEO_USERNAME`\n",
    "* `GALILEO_PASSWORD`\n",
    "\n",
    "### How do I create a user?\n",
    "\n",
    "If you are running everything locally, you can do the following to create the admin user.\n",
    "\n",
    "**Note: If the admin user already exists, you cannot create another one.**\n",
    "\n",
    "```\n",
    "import requests\n",
    "\n",
    "data={\n",
    "  \"email\": \"me@rungalileo.io\",\n",
    "  \"first_name\": \"Me\",\n",
    "  \"last_name\": \"Me\",\n",
    "  \"username\": \"Galileo\",\n",
    "  \"auth_method\": \"email\",\n",
    "  \"password\": \"Th3secret_\"\n",
    "}\n",
    "\n",
    "r = requests.post('http://localhost:8088/users/admin', json=data)\n",
    "r.json()\n",
    "```\n",
    "\n",
    "Then set your env vars\n",
    "```\n",
    "import os\n",
    "\n",
    "os.environ[\"GALILEO_USERNAME\"]=\"{r.json()['email']}\"\n",
    "os.environ[\"GALILEO_PASSWORD\"]=\"{r.json()['password']}\"\n",
    "```\n",
    "\n",
    "If you don't set these environment variables, the client will prompt you for the fields (assuming you're running from the newest code).\n",
    "\n",
    "Now login\n",
    "\n",
    "```\n",
    "dataquality.login()\n",
    "```\n"
   ]
  },
  {
   "cell_type": "code",
   "execution_count": 7,
   "id": "29192d74",
   "metadata": {},
   "outputs": [],
   "source": [
    "import requests\n",
    "\n",
    "pwd = \"MyPassword!123\"\n",
    "\n",
    "data={\n",
    "  \"email\": \"me@rungalileo.io\",\n",
    "  \"first_name\": \"Me\",\n",
    "  \"last_name\": \"Me\",\n",
    "  \"username\": \"Galileo\",\n",
    "  \"auth_method\": \"email\",\n",
    "  \"password\": pwd\n",
    "}\n",
    "\n",
    "r = requests.post(f'{dataquality.config.api_url}/users/admin', json=data)\n",
    "\n",
    "import os\n",
    "\n",
    "os.environ[\"GALILEO_USERNAME\"]=f\"{r.json()['email']}\"\n",
    "os.environ[\"GALILEO_PASSWORD\"]=pwd"
   ]
  },
  {
   "cell_type": "code",
   "execution_count": 8,
   "id": "51b6cf04",
   "metadata": {},
   "outputs": [
    {
     "name": "stdout",
     "output_type": "stream",
     "text": [
      "🔭 Logging you into Galileo\n",
      "\n",
      "👀 Found auth method email set via env, skipping prompt.\n",
      "🚀 You're logged in to Galileo as me@rungalileo.io!\n"
     ]
    }
   ],
   "source": [
    "dataquality.login()"
   ]
  },
  {
   "cell_type": "markdown",
   "id": "c2d3224a",
   "metadata": {},
   "source": [
    "## Start my project/run\n",
    "\n",
    "Now you can start using the tool with `dataquality.init()`<br>\n",
    "\n",
    "You **must** provide a `task_type` when calling `init`\n",
    "* A task type describes the kind of modeling you are doing (text classification, multi-label, NER etc).\n",
    "* Currently the only available task is \"text_classification\"\n",
    "\n",
    "You can optionally provide a project name for this run."
   ]
  },
  {
   "cell_type": "code",
   "execution_count": 9,
   "id": "a084759a",
   "metadata": {},
   "outputs": [
    {
     "data": {
      "text/plain": [
       "\u001b[0;31mSignature:\u001b[0m\n",
       "\u001b[0mdataquality\u001b[0m\u001b[0;34m.\u001b[0m\u001b[0minit\u001b[0m\u001b[0;34m(\u001b[0m\u001b[0;34m\u001b[0m\n",
       "\u001b[0;34m\u001b[0m    \u001b[0mtask_type\u001b[0m\u001b[0;34m:\u001b[0m \u001b[0mstr\u001b[0m\u001b[0;34m,\u001b[0m\u001b[0;34m\u001b[0m\n",
       "\u001b[0;34m\u001b[0m    \u001b[0mproject_name\u001b[0m\u001b[0;34m:\u001b[0m \u001b[0mOptional\u001b[0m\u001b[0;34m[\u001b[0m\u001b[0mstr\u001b[0m\u001b[0;34m]\u001b[0m \u001b[0;34m=\u001b[0m \u001b[0;32mNone\u001b[0m\u001b[0;34m,\u001b[0m\u001b[0;34m\u001b[0m\n",
       "\u001b[0;34m\u001b[0m    \u001b[0mrun_name\u001b[0m\u001b[0;34m:\u001b[0m \u001b[0mOptional\u001b[0m\u001b[0;34m[\u001b[0m\u001b[0mstr\u001b[0m\u001b[0;34m]\u001b[0m \u001b[0;34m=\u001b[0m \u001b[0;32mNone\u001b[0m\u001b[0;34m,\u001b[0m\u001b[0;34m\u001b[0m\n",
       "\u001b[0;34m\u001b[0m    \u001b[0mis_public\u001b[0m\u001b[0;34m:\u001b[0m \u001b[0mbool\u001b[0m \u001b[0;34m=\u001b[0m \u001b[0;32mTrue\u001b[0m\u001b[0;34m,\u001b[0m\u001b[0;34m\u001b[0m\n",
       "\u001b[0;34m\u001b[0m    \u001b[0moverwrite_local\u001b[0m\u001b[0;34m:\u001b[0m \u001b[0mbool\u001b[0m \u001b[0;34m=\u001b[0m \u001b[0;32mTrue\u001b[0m\u001b[0;34m,\u001b[0m\u001b[0;34m\u001b[0m\n",
       "\u001b[0;34m\u001b[0m\u001b[0;34m)\u001b[0m \u001b[0;34m->\u001b[0m \u001b[0;32mNone\u001b[0m\u001b[0;34m\u001b[0m\u001b[0;34m\u001b[0m\u001b[0m\n",
       "\u001b[0;31mDocstring:\u001b[0m\n",
       "Start a run\n",
       "\n",
       "Initialize a new run and new project, initialize a new run in an existing project,\n",
       "or reinitialize an existing run in an existing project.\n",
       "\n",
       "Optionally provide project and run names to create a new project/run or restart\n",
       "existing ones.\n",
       "\n",
       ":param task_type: The task type for modeling. This must be one of the valid\n",
       "`dataquality.schemas.task_type.TaskType` options\n",
       ":param project_name: The project name. If not passed in, a random one will be\n",
       "generated. If provided, and the project does not exist, it will be created. If it\n",
       "does exist, it will be set.\n",
       ":param run_name: The run name. If not passed in, a random one will be\n",
       "generated. If provided, and the project does not exist, it will be created. If it\n",
       "does exist, it will be set.\n",
       ":param is_public: Boolean value that sets the project's visibility. Default True.\n",
       ":param overwrite_local: If True, the current project/run log directory will be\n",
       "cleared during this function. If logging over many sessions with checkpoints, you\n",
       "may want to set this to False. Default True\n",
       "\u001b[0;31mFile:\u001b[0m      ~/Code/dataquality/.venv/lib/python3.9/site-packages/dataquality/core/init.py\n",
       "\u001b[0;31mType:\u001b[0m      function\n"
      ]
     },
     "metadata": {},
     "output_type": "display_data"
    }
   ],
   "source": [
    "dataquality.init?"
   ]
  },
  {
   "cell_type": "code",
   "execution_count": 10,
   "id": "803b260e",
   "metadata": {},
   "outputs": [
    {
     "name": "stdout",
     "output_type": "stream",
     "text": [
      "✨ Initializing public project homeless_bronze_trout\n",
      "🏃‍♂️ Starting run ridiculous_yellow_falcon\n",
      "🛰 Created project, homeless_bronze_trout, and new run, ridiculous_yellow_falcon.\n"
     ]
    }
   ],
   "source": [
    "task = \"text_classification\"\n",
    "# Base case\n",
    "dataquality.init(task)"
   ]
  },
  {
   "cell_type": "code",
   "execution_count": 11,
   "id": "cf4bc01a",
   "metadata": {},
   "outputs": [
    {
     "name": "stdout",
     "output_type": "stream",
     "text": [
      "💭 Project a_new_project was not found.\n",
      "✨ Initializing public project a_new_project\n",
      "🏃‍♂️ Starting run arbitrary_fuchsia_mockingbird\n"
     ]
    }
   ],
   "source": [
    "# New project, unset run (new)\n",
    "dataquality.init(task_type=task, project_name=\"a_new_project\")"
   ]
  },
  {
   "cell_type": "code",
   "execution_count": 12,
   "id": "800a72dc",
   "metadata": {},
   "outputs": [
    {
     "name": "stdout",
     "output_type": "stream",
     "text": [
      "📡 Retrieved project, a_new_project, and starting a new run\n",
      "🏃‍♂️ Starting run regular_cyan_limpet\n",
      "🛰 Connected to project, a_new_project, and created run, regular_cyan_limpet.\n"
     ]
    }
   ],
   "source": [
    "# Existing project, unset run (new)\n",
    "dataquality.init(task_type=task, project_name=\"a_new_project\")"
   ]
  },
  {
   "cell_type": "code",
   "execution_count": 13,
   "id": "bbb2cb2c",
   "metadata": {},
   "outputs": [
    {
     "name": "stdout",
     "output_type": "stream",
     "text": [
      "📡 Retrieving run from existing project, a_new_project\n",
      "🏃‍♂️ Starting run a_new_run\n",
      "🛰 Connected to project, a_new_project and created new run, a_new_run.\n"
     ]
    }
   ],
   "source": [
    "# Existing project, new run\n",
    "dataquality.init(task_type=task, project_name=\"a_new_project\", run_name=\"a_new_run\")"
   ]
  },
  {
   "cell_type": "code",
   "execution_count": 14,
   "id": "857160d2",
   "metadata": {},
   "outputs": [
    {
     "name": "stdout",
     "output_type": "stream",
     "text": [
      "📡 Retrieving run from existing project, a_new_project\n",
      "🛰 Connected to project, a_new_project, and run, a_new_run.\n"
     ]
    },
    {
     "name": "stderr",
     "output_type": "stream",
     "text": [
      "/Users/elliottchartock/Code/dataquality/.venv/lib/python3.9/site-packages/dataquality/core/init.py:144: UserWarning: Run: a_new_project/a_new_run already exists! The existing run will get overwritten on call to finish()!\n",
      "  warnings.warn(\n"
     ]
    }
   ],
   "source": [
    "# Existing project, existing run\n",
    "dataquality.init(task_type=task, project_name=\"a_new_project\", run_name=\"a_new_run\")"
   ]
  },
  {
   "cell_type": "code",
   "execution_count": 15,
   "id": "70efebb6",
   "metadata": {},
   "outputs": [
    {
     "name": "stdout",
     "output_type": "stream",
     "text": [
      "💭 Project a_new_project2 was not found.\n",
      "✨ Initializing public project a_new_project2\n",
      "🏃‍♂️ Starting run a_new_run2\n",
      "🛰 Created project, a_new_project2, and new run, a_new_run2.\n"
     ]
    }
   ],
   "source": [
    "# New project, new run\n",
    "dataquality.init(task_type=task, project_name=\"a_new_project2\", run_name=\"a_new_run2\")"
   ]
  },
  {
   "cell_type": "markdown",
   "id": "8cb849b7",
   "metadata": {},
   "source": [
    "## Log to my project/run\n",
    "\n",
    "Now that you've started your run, all you need to do is log data to it.<br>\n",
    "\n",
    "All you need to do is call the `dataquality.log_data_input` and `dataquality.log_model_outputs` functions.\n",
    "\n",
    "`dataquality.log_data_input` knows which task you are logging for, and accepts the proper arguments.\n",
    "For \"text_classification\" it is expecting\n",
    "* text - list of strings indicating the text input\n",
    "* label - list of strings indicating the labels\n",
    "* split - string indicating the data split (training, validation, test)\n",
    "* id (optional) - list of ints indicating the id of each row. If not provided, IDs will be added automatically\n",
    "  * NOTE: This ID must match the output ID in log_model_outputs in order to join them for analysis\n",
    "\n",
    "`dataquality.log_model_outputs` also knows which task you are logging for.\n",
    "For \"text_classification\" it is expecting\n",
    "* emb - list of lists of embedding values for a given text input\n",
    "* probs - list of list of probabilities of the confidence per class\n",
    "* split - string indicating the data split (training, validation, test)\n",
    "* epoch - int indicating the training/test/validation epoch for the input\n",
    "* ids - list of ints indicating the matching id to the input row\n",
    "  * NOTE: This ID must match the output ID in log_model_outputs in order to join them for analysis\n"
   ]
  },
  {
   "cell_type": "markdown",
   "id": "d086f3dd",
   "metadata": {},
   "source": [
    "### log some data\n",
    "\n",
    "We use the `log_input_data` and `log_model_outputs` to log our metadata"
   ]
  },
  {
   "cell_type": "code",
   "execution_count": 35,
   "id": "1db00ed5",
   "metadata": {},
   "outputs": [
    {
     "name": "stdout",
     "output_type": "stream",
     "text": [
      "✨ Initializing public project associated_peach_sailfish\n",
      "🏃‍♂️ Starting run naval_turquoise_felidae\n",
      "🛰 Created project, associated_peach_sailfish, and new run, naval_turquoise_felidae.\n"
     ]
    }
   ],
   "source": [
    "dataquality.init(task)"
   ]
  },
  {
   "cell_type": "code",
   "execution_count": 36,
   "id": "b2af2357",
   "metadata": {},
   "outputs": [
    {
     "name": "stdout",
     "output_type": "stream",
     "text": [
      "Exporting input data [########################################] 100.00% elapsed time  :     0.00s =  0.0m =  0.0h\n",
      "Appending input data [########################################] 100.00% elapsed time  :     0.01s =  0.0m =  0.0h\n",
      " "
     ]
    }
   ],
   "source": [
    "from sklearn.datasets import fetch_20newsgroups\n",
    "import pandas as pd\n",
    "\n",
    "newsgroups = fetch_20newsgroups(subset=\"train\", remove=('headers', 'footers', 'quotes'))\n",
    "\n",
    "dataset = pd.DataFrame()\n",
    "dataset[\"text\"] = newsgroups.data\n",
    "label_ind = newsgroups.target_names\n",
    "dataset[\"label\"] = [label_ind[i] for i in newsgroups.target]\n",
    "dataset = dataset[:100]\n",
    "\n",
    "dataquality.log_input_data(text=dataset['text'], labels=dataset['label'], split=\"train\")\n",
    "dataquality.log_input_data(text=dataset['text'], labels=dataset['label'], split=\"test\")"
   ]
  },
  {
   "cell_type": "markdown",
   "id": "6194d70e",
   "metadata": {},
   "source": [
    "## We validate data before logging\n",
    "\n",
    "#### See what happens with an invalid model config"
   ]
  },
  {
   "cell_type": "code",
   "execution_count": 18,
   "id": "ecc3949c",
   "metadata": {
    "scrolled": true
   },
   "outputs": [
    {
     "ename": "AssertionError",
     "evalue": "labels and text must be the same length, but got(labels, text) (3,100)",
     "output_type": "error",
     "traceback": [
      "\u001b[0;31m---------------------------------------------------------------------------\u001b[0m",
      "\u001b[0;31mAssertionError\u001b[0m                            Traceback (most recent call last)",
      "Input \u001b[0;32mIn [18]\u001b[0m, in \u001b[0;36m<module>\u001b[0;34m\u001b[0m\n\u001b[1;32m      1\u001b[0m \u001b[38;5;66;03m# Labels and text inputs dont match in shape\u001b[39;00m\n\u001b[0;32m----> 2\u001b[0m \u001b[43mdataquality\u001b[49m\u001b[38;5;241;43m.\u001b[39;49m\u001b[43mlog_input_data\u001b[49m\u001b[43m(\u001b[49m\u001b[43mtext\u001b[49m\u001b[38;5;241;43m=\u001b[39;49m\u001b[43mdataset\u001b[49m\u001b[43m[\u001b[49m\u001b[38;5;124;43m'\u001b[39;49m\u001b[38;5;124;43mtext\u001b[39;49m\u001b[38;5;124;43m'\u001b[39;49m\u001b[43m]\u001b[49m\u001b[43m,\u001b[49m\u001b[43m \u001b[49m\u001b[43mlabels\u001b[49m\u001b[38;5;241;43m=\u001b[39;49m\u001b[43mdataset\u001b[49m\u001b[43m[\u001b[49m\u001b[38;5;124;43m'\u001b[39;49m\u001b[38;5;124;43mlabel\u001b[39;49m\u001b[38;5;124;43m'\u001b[39;49m\u001b[43m]\u001b[49m\u001b[43m[\u001b[49m\u001b[43m:\u001b[49m\u001b[38;5;241;43m3\u001b[39;49m\u001b[43m]\u001b[49m\u001b[43m,\u001b[49m\u001b[43m \u001b[49m\u001b[43msplit\u001b[49m\u001b[38;5;241;43m=\u001b[39;49m\u001b[38;5;124;43m\"\u001b[39;49m\u001b[38;5;124;43mtrain\u001b[39;49m\u001b[38;5;124;43m\"\u001b[39;49m\u001b[43m)\u001b[49m\n",
      "File \u001b[0;32m~/Code/dataquality/.venv/lib/python3.9/site-packages/dataquality/core/log.py:23\u001b[0m, in \u001b[0;36mlog_input_data\u001b[0;34m(**kwargs)\u001b[0m\n\u001b[1;32m     19\u001b[0m \u001b[38;5;28;01massert\u001b[39;00m \u001b[38;5;28mall\u001b[39m(\n\u001b[1;32m     20\u001b[0m     [config\u001b[38;5;241m.\u001b[39mtask_type, config\u001b[38;5;241m.\u001b[39mcurrent_project_id, config\u001b[38;5;241m.\u001b[39mcurrent_run_id]\n\u001b[1;32m     21\u001b[0m ), \u001b[38;5;124m\"\u001b[39m\u001b[38;5;124mYou must call dataquality.init before logging data\u001b[39m\u001b[38;5;124m\"\u001b[39m\n\u001b[1;32m     22\u001b[0m data_logger \u001b[38;5;241m=\u001b[39m get_data_logger()(\u001b[38;5;241m*\u001b[39m\u001b[38;5;241m*\u001b[39mkwargs)\n\u001b[0;32m---> 23\u001b[0m \u001b[43mdata_logger\u001b[49m\u001b[38;5;241;43m.\u001b[39;49m\u001b[43mlog\u001b[49m\u001b[43m(\u001b[49m\u001b[43m)\u001b[49m\n",
      "File \u001b[0;32m~/Code/dataquality/.venv/lib/python3.9/site-packages/dataquality/loggers/data_logger/base_data_logger.py:48\u001b[0m, in \u001b[0;36mBaseGalileoDataLogger.log\u001b[0;34m(self)\u001b[0m\n\u001b[1;32m     47\u001b[0m \u001b[38;5;28;01mdef\u001b[39;00m \u001b[38;5;21mlog\u001b[39m(\u001b[38;5;28mself\u001b[39m) \u001b[38;5;241m-\u001b[39m\u001b[38;5;241m>\u001b[39m \u001b[38;5;28;01mNone\u001b[39;00m:\n\u001b[0;32m---> 48\u001b[0m     \u001b[38;5;28;43mself\u001b[39;49m\u001b[38;5;241;43m.\u001b[39;49m\u001b[43mvalidate\u001b[49m\u001b[43m(\u001b[49m\u001b[43m)\u001b[49m\n\u001b[1;32m     49\u001b[0m     write_input_dir \u001b[38;5;241m=\u001b[39m (\n\u001b[1;32m     50\u001b[0m         \u001b[38;5;124mf\u001b[39m\u001b[38;5;124m\"\u001b[39m\u001b[38;5;132;01m{\u001b[39;00mBaseGalileoLogger\u001b[38;5;241m.\u001b[39mLOG_FILE_DIR\u001b[38;5;132;01m}\u001b[39;00m\u001b[38;5;124m/\u001b[39m\u001b[38;5;132;01m{\u001b[39;00mconfig\u001b[38;5;241m.\u001b[39mcurrent_project_id\u001b[38;5;132;01m}\u001b[39;00m\u001b[38;5;124m/\u001b[39m\u001b[38;5;124m\"\u001b[39m\n\u001b[1;32m     51\u001b[0m         \u001b[38;5;124mf\u001b[39m\u001b[38;5;124m\"\u001b[39m\u001b[38;5;132;01m{\u001b[39;00mconfig\u001b[38;5;241m.\u001b[39mcurrent_run_id\u001b[38;5;132;01m}\u001b[39;00m\u001b[38;5;124m\"\u001b[39m\n\u001b[1;32m     52\u001b[0m     )\n\u001b[1;32m     53\u001b[0m     \u001b[38;5;28;01mif\u001b[39;00m \u001b[38;5;129;01mnot\u001b[39;00m os\u001b[38;5;241m.\u001b[39mpath\u001b[38;5;241m.\u001b[39mexists(write_input_dir):\n",
      "File \u001b[0;32m~/Code/dataquality/.venv/lib/python3.9/site-packages/dataquality/loggers/data_logger/text_classification.py:104\u001b[0m, in \u001b[0;36mTextClassificationDataLogger.validate\u001b[0;34m(self)\u001b[0m\n\u001b[1;32m     98\u001b[0m \u001b[38;5;28;01melse\u001b[39;00m:\n\u001b[1;32m     99\u001b[0m     \u001b[38;5;28;01massert\u001b[39;00m label_len \u001b[38;5;129;01mand\u001b[39;00m text_len, (\n\u001b[1;32m    100\u001b[0m         \u001b[38;5;124mf\u001b[39m\u001b[38;5;124m\"\u001b[39m\u001b[38;5;124mBoth text and labels for your logger must be set, but got\u001b[39m\u001b[38;5;124m\"\u001b[39m\n\u001b[1;32m    101\u001b[0m         \u001b[38;5;124mf\u001b[39m\u001b[38;5;124m\"\u001b[39m\u001b[38;5;124m text:\u001b[39m\u001b[38;5;132;01m{\u001b[39;00m\u001b[38;5;28mbool\u001b[39m(text_len)\u001b[38;5;132;01m}\u001b[39;00m\u001b[38;5;124m, labels:\u001b[39m\u001b[38;5;132;01m{\u001b[39;00m\u001b[38;5;28mbool\u001b[39m(label_len)\u001b[38;5;132;01m}\u001b[39;00m\u001b[38;5;124m\"\u001b[39m\n\u001b[1;32m    102\u001b[0m     )\n\u001b[0;32m--> 104\u001b[0m     \u001b[38;5;28;01massert\u001b[39;00m text_len \u001b[38;5;241m==\u001b[39m label_len, (\n\u001b[1;32m    105\u001b[0m         \u001b[38;5;124mf\u001b[39m\u001b[38;5;124m\"\u001b[39m\u001b[38;5;124mlabels and text must be the same length, but got\u001b[39m\u001b[38;5;124m\"\u001b[39m\n\u001b[1;32m    106\u001b[0m         \u001b[38;5;124mf\u001b[39m\u001b[38;5;124m\"\u001b[39m\u001b[38;5;124m(labels, text) (\u001b[39m\u001b[38;5;132;01m{\u001b[39;00mlabel_len\u001b[38;5;132;01m}\u001b[39;00m\u001b[38;5;124m,\u001b[39m\u001b[38;5;132;01m{\u001b[39;00mtext_len\u001b[38;5;132;01m}\u001b[39;00m\u001b[38;5;124m)\u001b[39m\u001b[38;5;124m\"\u001b[39m\n\u001b[1;32m    107\u001b[0m     )\n\u001b[1;32m    109\u001b[0m \u001b[38;5;28;01mif\u001b[39;00m \u001b[38;5;28mself\u001b[39m\u001b[38;5;241m.\u001b[39mids:\n\u001b[1;32m    110\u001b[0m     \u001b[38;5;28;01massert\u001b[39;00m id_len \u001b[38;5;241m==\u001b[39m text_len, (\n\u001b[1;32m    111\u001b[0m         \u001b[38;5;124mf\u001b[39m\u001b[38;5;124m\"\u001b[39m\u001b[38;5;124mIds exists but are not the same length as text and labels. \u001b[39m\u001b[38;5;124m\"\u001b[39m\n\u001b[1;32m    112\u001b[0m         \u001b[38;5;124mf\u001b[39m\u001b[38;5;124m\"\u001b[39m\u001b[38;5;124m(ids, text) (\u001b[39m\u001b[38;5;132;01m{\u001b[39;00mid_len\u001b[38;5;132;01m}\u001b[39;00m\u001b[38;5;124m, \u001b[39m\u001b[38;5;132;01m{\u001b[39;00mtext_len\u001b[38;5;132;01m}\u001b[39;00m\u001b[38;5;124m)\u001b[39m\u001b[38;5;124m\"\u001b[39m\n\u001b[1;32m    113\u001b[0m     )\n",
      "\u001b[0;31mAssertionError\u001b[0m: labels and text must be the same length, but got(labels, text) (3,100)"
     ]
    }
   ],
   "source": [
    "# Labels and text inputs dont match in shape\n",
    "dataquality.log_input_data(text=dataset['text'], labels=dataset['label'][:3], split=\"train\")"
   ]
  },
  {
   "cell_type": "code",
   "execution_count": 37,
   "id": "84c5560a",
   "metadata": {
    "scrolled": true,
    "tags": []
   },
   "outputs": [
    {
     "name": "stderr",
     "output_type": "stream",
     "text": [
      "/Users/elliottchartock/Code/dataquality/.venv/lib/python3.9/site-packages/dataquality/loggers/model_logger/text_classification.py:103: UserWarning: Usage of probs is deprecated, use logits instead\n",
      "  warnings.warn(\"Usage of probs is deprecated, use logits instead\")\n"
     ]
    }
   ],
   "source": [
    "import numpy as np\n",
    "\n",
    "# Generate fake model outputs\n",
    "def log_fake_data(log_num: int = 0):\n",
    "    # Ensure unique IDs\n",
    "    # Because we're going to call this twice, we need the other dataset rows for the second call, so /2\n",
    "    num_rows = len(dataset) // 2 \n",
    "        \n",
    "    emb = np.random.rand(num_rows, 800)\n",
    "    prob = np.random.rand(num_rows, 20)\n",
    "    for split in ['test','train']:\n",
    "        epoch = 0\n",
    "        \n",
    "        r = range(num_rows*log_num, num_rows*(log_num+1))\n",
    "        ids = list(r)\n",
    "        dataquality.log_model_outputs(emb=emb, probs=prob, split=split, epoch=epoch, ids=ids)\n",
    "\n",
    "log_fake_data()"
   ]
  },
  {
   "cell_type": "code",
   "execution_count": 38,
   "id": "9ae89fb2",
   "metadata": {},
   "outputs": [
    {
     "name": "stdout",
     "output_type": "stream",
     "text": [
      "\u001b[01;34m.galileo/logs/75d12a9b-f01b-4b8a-bcd4-1e195871044f/8c691bc7-6a5a-4d45-a632-39f6176d6096\u001b[0m\n",
      "├── \u001b[00minput_data.arrow\u001b[0m\n",
      "├── \u001b[01;34mtest\u001b[0m\n",
      "│   └── \u001b[01;34m0\u001b[0m\n",
      "│       └── \u001b[00m5308933ec29c.hdf5\u001b[0m\n",
      "└── \u001b[01;34mtraining\u001b[0m\n",
      "    └── \u001b[01;34m0\u001b[0m\n",
      "        └── \u001b[00mf4421572867a.hdf5\u001b[0m\n",
      "\n",
      "4 directories, 3 files\n"
     ]
    }
   ],
   "source": [
    "!tree .galileo/logs/{dataquality.config.current_project_id}/{dataquality.config.current_run_id}"
   ]
  },
  {
   "cell_type": "markdown",
   "id": "3af65e13",
   "metadata": {},
   "source": [
    "### What happened?\n",
    "\n",
    "When you call `log_batch_input_data` you are logging the input data for this training job. This would typically be run once (per split).<br>\n",
    "\n",
    "Then, as you train your model in batches, each call to `log_model_outputs` takes the data in that batch, joins it to the input data, and stores it in 3 files, data, emb, and prob.<br>\n",
    "\n",
    "If we were to log another fake dataset to this, we'd see another file in each dir (under the epoch we set).\n",
    "\n",
    "The file names in each subdir will match so we can join them at the end"
   ]
  },
  {
   "cell_type": "code",
   "execution_count": 22,
   "id": "61e4875c",
   "metadata": {},
   "outputs": [],
   "source": [
    "log_fake_data(1)"
   ]
  },
  {
   "cell_type": "code",
   "execution_count": 23,
   "id": "0a55f02c",
   "metadata": {},
   "outputs": [
    {
     "name": "stdout",
     "output_type": "stream",
     "text": [
      "\u001b[01;34m.galileo/logs/31b50b7d-cc6e-4a96-b788-d65a33c3b98d/8a19240d-f3b1-4627-a7ce-b40d66d8d282\u001b[0m\n",
      "├── \u001b[00minput_data.arrow\u001b[0m\n",
      "├── \u001b[01;34mtest\u001b[0m\n",
      "│   └── \u001b[01;34m0\u001b[0m\n",
      "│       ├── \u001b[00m0fedc1565e19.hdf5\u001b[0m\n",
      "│       ├── \u001b[00m29b6ae8dc49f.hdf5\u001b[0m\n",
      "│       └── \u001b[00madafa6695c61.hdf5\u001b[0m\n",
      "└── \u001b[01;34mtraining\u001b[0m\n",
      "    └── \u001b[01;34m0\u001b[0m\n",
      "        ├── \u001b[00m0e2243df601c.hdf5\u001b[0m\n",
      "        ├── \u001b[00m6d82733d3209.hdf5\u001b[0m\n",
      "        └── \u001b[00mf5b882569725.hdf5\u001b[0m\n",
      "\n",
      "4 directories, 7 files\n"
     ]
    }
   ],
   "source": [
    "!tree .galileo/logs/{dataquality.config.current_project_id}/{dataquality.config.current_run_id}"
   ]
  },
  {
   "cell_type": "markdown",
   "id": "28a9d253",
   "metadata": {},
   "source": [
    "## Take a look at our logged model outputs\n",
    "\n",
    "Below is the model output data we've logged to test. You can see all of the values available across both logs<br>\n",
    "To see the training data, just change the variable to `training`"
   ]
  },
  {
   "cell_type": "code",
   "execution_count": 32,
   "id": "aaa8ae6e",
   "metadata": {},
   "outputs": [
    {
     "data": {
      "text/html": [
       "<table>\n",
       "<thead>\n",
       "<tr><th>#                             </th><th>data_schema_version  </th><th>emb                                                </th><th>epoch  </th><th>id  </th><th>pred  </th><th>prob                                               </th><th>split  </th></tr>\n",
       "</thead>\n",
       "<tbody>\n",
       "<tr><td><i style='opacity: 0.6'>0</i> </td><td>1                    </td><td>&#x27;array([5.23846625e-01, 7.89918140e-01, 2.174409...</td><td>0      </td><td>0   </td><td>19    </td><td>&#x27;array([0.95621426, 0.71426022, 0.48294212, 0.45...</td><td>b&#x27;test&#x27;</td></tr>\n",
       "<tr><td><i style='opacity: 0.6'>1</i> </td><td>1                    </td><td>&#x27;array([8.53332606e-01, 8.76108030e-01, 5.244852...</td><td>0      </td><td>1   </td><td>10    </td><td>&#x27;array([0.94595829, 0.65720165, 0.79658154, 0.70...</td><td>b&#x27;test&#x27;</td></tr>\n",
       "<tr><td><i style='opacity: 0.6'>2</i> </td><td>1                    </td><td>&#x27;array([8.59276619e-01, 6.38860589e-01, 8.153309...</td><td>0      </td><td>2   </td><td>19    </td><td>&#x27;array([0.07419869, 0.04007511, 0.6471444 , 0.19...</td><td>b&#x27;test&#x27;</td></tr>\n",
       "<tr><td><i style='opacity: 0.6'>3</i> </td><td>1                    </td><td>&#x27;array([0.14445366, 0.1430817 , 0.47307097, 0.48...</td><td>0      </td><td>3   </td><td>16    </td><td>&#x27;array([0.38904971, 0.24008567, 0.34234943, 0.52...</td><td>b&#x27;test&#x27;</td></tr>\n",
       "<tr><td><i style='opacity: 0.6'>4</i> </td><td>1                    </td><td>&#x27;array([0.7600776 , 0.80871368, 0.94390803, 0.24...</td><td>0      </td><td>4   </td><td>7     </td><td>&#x27;array([0.93735077, 0.28416006, 0.44473687, 0.36...</td><td>b&#x27;test&#x27;</td></tr>\n",
       "<tr><td>...                           </td><td>...                  </td><td>...                                                </td><td>...    </td><td>... </td><td>...   </td><td>...                                                </td><td>...    </td></tr>\n",
       "<tr><td><i style='opacity: 0.6'>45</i></td><td>1                    </td><td>&#x27;array([5.58167056e-01, 7.12511018e-02, 1.548502...</td><td>0      </td><td>45  </td><td>4     </td><td>&#x27;array([0.601908  , 0.27154912, 0.39183089, 0.58...</td><td>b&#x27;test&#x27;</td></tr>\n",
       "<tr><td><i style='opacity: 0.6'>46</i></td><td>1                    </td><td>&#x27;array([9.05469529e-01, 5.35451527e-01, 7.500568...</td><td>0      </td><td>46  </td><td>18    </td><td>&#x27;array([0.68571191, 0.45083744, 0.72689212, 0.47...</td><td>b&#x27;test&#x27;</td></tr>\n",
       "<tr><td><i style='opacity: 0.6'>47</i></td><td>1                    </td><td>&#x27;array([0.07432635, 0.77094519, 0.59218256, 0.73...</td><td>0      </td><td>47  </td><td>17    </td><td>&#x27;array([0.26075641, 0.20147869, 0.23803338, 0.61...</td><td>b&#x27;test&#x27;</td></tr>\n",
       "<tr><td><i style='opacity: 0.6'>48</i></td><td>1                    </td><td>&#x27;array([0.39524629, 0.18444408, 0.62649891, 0.82...</td><td>0      </td><td>48  </td><td>14    </td><td>&#x27;array([0.01919224, 0.32366534, 0.26955288, 0.53...</td><td>b&#x27;test&#x27;</td></tr>\n",
       "<tr><td><i style='opacity: 0.6'>49</i></td><td>1                    </td><td>&#x27;array([6.28149227e-01, 9.40645896e-01, 7.433298...</td><td>0      </td><td>49  </td><td>19    </td><td>&#x27;array([0.57847941, 0.03560757, 0.74735629, 0.40...</td><td>b&#x27;test&#x27;</td></tr>\n",
       "</tbody>\n",
       "</table>"
      ],
      "text/plain": [
       "#    data_schema_version    emb                                                  epoch    id    pred    prob                                                 split\n",
       "0    1                      'array([5.23846625e-01, 7.89918140e-01, 2.174409...  0        0     19      'array([0.95621426, 0.71426022, 0.48294212, 0.45...  b'test'\n",
       "1    1                      'array([8.53332606e-01, 8.76108030e-01, 5.244852...  0        1     10      'array([0.94595829, 0.65720165, 0.79658154, 0.70...  b'test'\n",
       "2    1                      'array([8.59276619e-01, 6.38860589e-01, 8.153309...  0        2     19      'array([0.07419869, 0.04007511, 0.6471444 , 0.19...  b'test'\n",
       "3    1                      'array([0.14445366, 0.1430817 , 0.47307097, 0.48...  0        3     16      'array([0.38904971, 0.24008567, 0.34234943, 0.52...  b'test'\n",
       "4    1                      'array([0.7600776 , 0.80871368, 0.94390803, 0.24...  0        4     7       'array([0.93735077, 0.28416006, 0.44473687, 0.36...  b'test'\n",
       "...  ...                    ...                                                  ...      ...   ...     ...                                                  ...\n",
       "45   1                      'array([5.58167056e-01, 7.12511018e-02, 1.548502...  0        45    4       'array([0.601908  , 0.27154912, 0.39183089, 0.58...  b'test'\n",
       "46   1                      'array([9.05469529e-01, 5.35451527e-01, 7.500568...  0        46    18      'array([0.68571191, 0.45083744, 0.72689212, 0.47...  b'test'\n",
       "47   1                      'array([0.07432635, 0.77094519, 0.59218256, 0.73...  0        47    17      'array([0.26075641, 0.20147869, 0.23803338, 0.61...  b'test'\n",
       "48   1                      'array([0.39524629, 0.18444408, 0.62649891, 0.82...  0        48    14      'array([0.01919224, 0.32366534, 0.26955288, 0.53...  b'test'\n",
       "49   1                      'array([6.28149227e-01, 9.40645896e-01, 7.433298...  0        49    19      'array([0.57847941, 0.03560757, 0.74735629, 0.40...  b'test'"
      ]
     },
     "execution_count": 32,
     "metadata": {},
     "output_type": "execute_result"
    }
   ],
   "source": [
    "import vaex\n",
    "\n",
    "split = \"test\"\n",
    "vaex.open(f'.galileo/logs/{dataquality.config.current_project_id}/{dataquality.config.current_run_id}/{split}/0/*.hdf5')\n"
   ]
  },
  {
   "cell_type": "markdown",
   "id": "48325087",
   "metadata": {},
   "source": [
    "## How do I see my results in the UI?\n",
    "\n",
    "Simply set your labels (`set_labels_for_run`) and call `finish()`\n",
    "\n",
    "Once called, the data will be joined together at a _per-epoch_ level, and added to minio, with one file for each `prob`, `emb`, and `data` per split/epoch. \n",
    "\n",
    "A job will be kicked off to process you data on the server, and after it's done you'll see your results in the UI\n",
    "\n",
    "#### Why do I need to set my labels?\n",
    "\n",
    "Since your model is simply outputting probabilities, we have no way to map the index of each prediction to the model output. Setting your labels enables us to map them so you can see the meaningful values in the UI.<br>\n",
    "\n",
    "If you have the UI running, you should see it at the URL returned.\n",
    "\n",
    "**Note:** Check out your local API logs to see the background job!"
   ]
  },
  {
   "cell_type": "code",
   "execution_count": 39,
   "id": "cbc218af",
   "metadata": {},
   "outputs": [
    {
     "name": "stdout",
     "output_type": "stream",
     "text": [
      "☁️ Uploading Data\n",
      "Combining batches for upload\n"
     ]
    },
    {
     "data": {
      "application/vnd.jupyter.widget-view+json": {
       "model_id": "ab796afc239e470dbe1f7ac728a631a2",
       "version_major": 2,
       "version_minor": 0
      },
      "text/plain": [
       "  0%|          | 0/1 [00:00<?, ?it/s]"
      ]
     },
     "metadata": {},
     "output_type": "display_data"
    },
    {
     "name": "stdout",
     "output_type": "stream",
     "text": [
      "[0, 0, 1, 1, 2, 2, 3, 3, 4, 4, 5, 5, 6, 6, 7, 7, 8, 8, 9, 9, 10, 10, 11, 11, 12, 12, 13, 13, 14, 14, 15, 15, 16, 16, 17, 17, 18, 18, 19, 19, 20, 20, 21, 21, 22, 22, 23, 23, 24, 24, 25, 25, 26, 26, 27, 27, 28, 28, 29, 29, 30, 30, 31, 31, 32, 32, 33, 33, 34, 34, 35, 35, 36, 36, 37, 37, 38, 38, 39, 39, 40, 40, 41, 41, 42, 42, 43, 43, 44, 44, 45, 45, 46, 46, 47, 47, 48, 48, 49, 49, 50, 50, 51, 51, 52, 52, 53, 53, 54, 54, 55, 55, 56, 56, 57, 57, 58, 58, 59, 59, 60, 60, 61, 61, 62, 62, 63, 63, 64, 64, 65, 65, 66, 66, 67, 67, 68, 68, 69, 69, 70, 70, 71, 71, 72, 72, 73, 73, 74, 74, 75, 75, 76, 76, 77, 77, 78, 78, 79, 79, 80, 80, 81, 81, 82, 82, 83, 83, 84, 84, 85, 85, 86, 86, 87, 87, 88, 88, 89, 89, 90, 90, 91, 91, 92, 92, 93, 93, 94, 94, 95, 95, 96, 96, 97, 97, 98, 98, 99, 99]\n",
      "\n",
      "[0, 1, 2, 3, 4, 5, 6, 7, 8, 9, 10, 11, 12, 13, 14, 15, 16, 17, 18, 19, 20, 21, 22, 23, 24, 25, 26, 27, 28, 29, 30, 31, 32, 33, 34, 35, 36, 37, 38, 39, 40, 41, 42, 43, 44, 45, 46, 47, 48, 49]\n"
     ]
    },
    {
     "data": {
      "application/vnd.jupyter.widget-view+json": {
       "model_id": "ee2f19c920a04fbabff07cc3898eff1d",
       "version_major": 2,
       "version_minor": 0
      },
      "text/plain": [
       "training:   0%|          | 0/3 [00:00<?, ?it/s]"
      ]
     },
     "metadata": {},
     "output_type": "display_data"
    },
    {
     "name": "stdout",
     "output_type": "stream",
     "text": [
      "Writing data for upload [########################################] 100.00% elapsed time  :     0.04s =  0.0m =  0.0h\n",
      "Writing data for upload [########################################] 100.00% elapsed time  :     0.07s =  0.0m =  0.0h\n",
      "Writing data for upload [########################################] 100.00% elapsed time  :     0.13s =  0.0m =  0.0h\n",
      " Combining batches for upload\n"
     ]
    },
    {
     "data": {
      "application/vnd.jupyter.widget-view+json": {
       "model_id": "a907c908242e47a48185aec329594fdb",
       "version_major": 2,
       "version_minor": 0
      },
      "text/plain": [
       "  0%|          | 0/1 [00:00<?, ?it/s]"
      ]
     },
     "metadata": {},
     "output_type": "display_data"
    },
    {
     "name": "stdout",
     "output_type": "stream",
     "text": [
      "[0, 0, 1, 1, 2, 2, 3, 3, 4, 4, 5, 5, 6, 6, 7, 7, 8, 8, 9, 9, 10, 10, 11, 11, 12, 12, 13, 13, 14, 14, 15, 15, 16, 16, 17, 17, 18, 18, 19, 19, 20, 20, 21, 21, 22, 22, 23, 23, 24, 24, 25, 25, 26, 26, 27, 27, 28, 28, 29, 29, 30, 30, 31, 31, 32, 32, 33, 33, 34, 34, 35, 35, 36, 36, 37, 37, 38, 38, 39, 39, 40, 40, 41, 41, 42, 42, 43, 43, 44, 44, 45, 45, 46, 46, 47, 47, 48, 48, 49, 49, 50, 50, 51, 51, 52, 52, 53, 53, 54, 54, 55, 55, 56, 56, 57, 57, 58, 58, 59, 59, 60, 60, 61, 61, 62, 62, 63, 63, 64, 64, 65, 65, 66, 66, 67, 67, 68, 68, 69, 69, 70, 70, 71, 71, 72, 72, 73, 73, 74, 74, 75, 75, 76, 76, 77, 77, 78, 78, 79, 79, 80, 80, 81, 81, 82, 82, 83, 83, 84, 84, 85, 85, 86, 86, 87, 87, 88, 88, 89, 89, 90, 90, 91, 91, 92, 92, 93, 93, 94, 94, 95, 95, 96, 96, 97, 97, 98, 98, 99, 99]\n",
      "\n",
      "[0, 1, 2, 3, 4, 5, 6, 7, 8, 9, 10, 11, 12, 13, 14, 15, 16, 17, 18, 19, 20, 21, 22, 23, 24, 25, 26, 27, 28, 29, 30, 31, 32, 33, 34, 35, 36, 37, 38, 39, 40, 41, 42, 43, 44, 45, 46, 47, 48, 49]\n"
     ]
    },
    {
     "data": {
      "application/vnd.jupyter.widget-view+json": {
       "model_id": "afe1e4d371754759bbb2a6936fef8856",
       "version_major": 2,
       "version_minor": 0
      },
      "text/plain": [
       "test:   0%|          | 0/3 [00:00<?, ?it/s]"
      ]
     },
     "metadata": {},
     "output_type": "display_data"
    },
    {
     "name": "stdout",
     "output_type": "stream",
     "text": [
      "Writing data for upload [########################################] 100.00% elapsed time  :     0.04s =  0.0m =  0.0h\n",
      "Writing data for upload [########################################] 100.00% elapsed time  :     0.08s =  0.0m =  0.0h\n",
      "Writing data for upload [########################################] 100.00% elapsed time  :     0.12s =  0.0m =  0.0h\n",
      " 🧹 Cleaning up\n",
      "Job default successfully submitted. Results will be available soon at http://127.0.0.1:3000/insights?projectId=75d12a9b-f01b-4b8a-bcd4-1e195871044f&runId=8c691bc7-6a5a-4d45-a632-39f6176d6096&split=training&taskType=0&activeDepHigh=1&activeDepLow=0\n"
     ]
    },
    {
     "data": {
      "text/plain": [
       "{'project_id': '75d12a9b-f01b-4b8a-bcd4-1e195871044f',\n",
       " 'run_id': '8c691bc7-6a5a-4d45-a632-39f6176d6096',\n",
       " 'job_name': 'default',\n",
       " 'labels': ['alt.atheism',\n",
       "  'comp.graphics',\n",
       "  'comp.os.ms-windows.misc',\n",
       "  'comp.sys.ibm.pc.hardware',\n",
       "  'comp.sys.mac.hardware',\n",
       "  'comp.windows.x',\n",
       "  'misc.forsale',\n",
       "  'rec.autos',\n",
       "  'rec.motorcycles',\n",
       "  'rec.sport.baseball',\n",
       "  'rec.sport.hockey',\n",
       "  'sci.crypt',\n",
       "  'sci.electronics',\n",
       "  'sci.med',\n",
       "  'sci.space',\n",
       "  'soc.religion.christian',\n",
       "  'talk.politics.guns',\n",
       "  'talk.politics.mideast',\n",
       "  'talk.politics.misc',\n",
       "  'talk.religion.misc'],\n",
       " 'tasks': None,\n",
       " 'message': 'Processing dataquality!',\n",
       " 'link': 'http://127.0.0.1:3000/insights?projectId=75d12a9b-f01b-4b8a-bcd4-1e195871044f&runId=8c691bc7-6a5a-4d45-a632-39f6176d6096&split=training&taskType=0&activeDepHigh=1&activeDepLow=0'}"
      ]
     },
     "execution_count": 39,
     "metadata": {},
     "output_type": "execute_result"
    }
   ],
   "source": [
    "dataquality.set_labels_for_run(newsgroups.target_names)\n",
    "dataquality.finish()"
   ]
  },
  {
   "cell_type": "markdown",
   "id": "9d433bde",
   "metadata": {},
   "source": [
    "## That should take ~10-20 seconds to complete (if you are running the server locally)\n",
    "\n",
    "### Now we can export our results to a CSV"
   ]
  },
  {
   "cell_type": "code",
   "execution_count": 40,
   "id": "61d27cd3",
   "metadata": {},
   "outputs": [
    {
     "name": "stdout",
     "output_type": "stream",
     "text": [
      "Your export has been written to training_data.csv\n"
     ]
    },
    {
     "data": {
      "text/html": [
       "<div>\n",
       "<style scoped>\n",
       "    .dataframe tbody tr th:only-of-type {\n",
       "        vertical-align: middle;\n",
       "    }\n",
       "\n",
       "    .dataframe tbody tr th {\n",
       "        vertical-align: top;\n",
       "    }\n",
       "\n",
       "    .dataframe thead th {\n",
       "        text-align: right;\n",
       "    }\n",
       "</style>\n",
       "<table border=\"1\" class=\"dataframe\">\n",
       "  <thead>\n",
       "    <tr style=\"text-align: right;\">\n",
       "      <th></th>\n",
       "      <th>id</th>\n",
       "      <th>text</th>\n",
       "      <th>gold</th>\n",
       "      <th>pred</th>\n",
       "      <th>data_error_potential</th>\n",
       "    </tr>\n",
       "  </thead>\n",
       "  <tbody>\n",
       "    <tr>\n",
       "      <th>0</th>\n",
       "      <td>0</td>\n",
       "      <td>I was wondering if anyone out there could enli...</td>\n",
       "      <td>rec.autos</td>\n",
       "      <td>talk.politics.mideast</td>\n",
       "      <td>0.717646</td>\n",
       "    </tr>\n",
       "    <tr>\n",
       "      <th>1</th>\n",
       "      <td>1</td>\n",
       "      <td>A fair number of brave souls who upgraded thei...</td>\n",
       "      <td>comp.sys.mac.hardware</td>\n",
       "      <td>talk.politics.misc</td>\n",
       "      <td>0.537593</td>\n",
       "    </tr>\n",
       "    <tr>\n",
       "      <th>2</th>\n",
       "      <td>2</td>\n",
       "      <td>well folks, my mac plus finally gave up the gh...</td>\n",
       "      <td>comp.sys.mac.hardware</td>\n",
       "      <td>talk.politics.guns</td>\n",
       "      <td>0.771403</td>\n",
       "    </tr>\n",
       "    <tr>\n",
       "      <th>3</th>\n",
       "      <td>3</td>\n",
       "      <td>\\nDo you have Weitek's address/phone number?  ...</td>\n",
       "      <td>comp.graphics</td>\n",
       "      <td>comp.sys.mac.hardware</td>\n",
       "      <td>0.867988</td>\n",
       "    </tr>\n",
       "    <tr>\n",
       "      <th>4</th>\n",
       "      <td>4</td>\n",
       "      <td>From article &lt;C5owCB.n3p@world.std.com&gt;, by to...</td>\n",
       "      <td>sci.space</td>\n",
       "      <td>rec.motorcycles</td>\n",
       "      <td>0.843240</td>\n",
       "    </tr>\n",
       "    <tr>\n",
       "      <th>5</th>\n",
       "      <td>5</td>\n",
       "      <td>\\n\\n\\n\\n\\nOf course.  The term must be rigidly...</td>\n",
       "      <td>talk.politics.guns</td>\n",
       "      <td>misc.forsale</td>\n",
       "      <td>0.681870</td>\n",
       "    </tr>\n",
       "    <tr>\n",
       "      <th>6</th>\n",
       "      <td>6</td>\n",
       "      <td>There were a few people who responded to my re...</td>\n",
       "      <td>sci.med</td>\n",
       "      <td>sci.crypt</td>\n",
       "      <td>0.538955</td>\n",
       "    </tr>\n",
       "    <tr>\n",
       "      <th>7</th>\n",
       "      <td>7</td>\n",
       "      <td>...</td>\n",
       "      <td>comp.sys.ibm.pc.hardware</td>\n",
       "      <td>sci.med</td>\n",
       "      <td>0.827074</td>\n",
       "    </tr>\n",
       "    <tr>\n",
       "      <th>8</th>\n",
       "      <td>8</td>\n",
       "      <td>I have win 3.0 and downloaded several icons an...</td>\n",
       "      <td>comp.os.ms-windows.misc</td>\n",
       "      <td>comp.sys.mac.hardware</td>\n",
       "      <td>0.544817</td>\n",
       "    </tr>\n",
       "    <tr>\n",
       "      <th>9</th>\n",
       "      <td>9</td>\n",
       "      <td>\\n\\n\\nI've had the board for over a year, and ...</td>\n",
       "      <td>comp.sys.mac.hardware</td>\n",
       "      <td>rec.sport.hockey</td>\n",
       "      <td>0.536035</td>\n",
       "    </tr>\n",
       "    <tr>\n",
       "      <th>10</th>\n",
       "      <td>10</td>\n",
       "      <td>I have a line on a Ducati 900GTS 1978 model wi...</td>\n",
       "      <td>rec.motorcycles</td>\n",
       "      <td>rec.autos</td>\n",
       "      <td>0.512744</td>\n",
       "    </tr>\n",
       "    <tr>\n",
       "      <th>11</th>\n",
       "      <td>11</td>\n",
       "      <td>\\nYep, that's pretty much it. I'm not a Jew bu...</td>\n",
       "      <td>talk.religion.misc</td>\n",
       "      <td>comp.sys.mac.hardware</td>\n",
       "      <td>0.823095</td>\n",
       "    </tr>\n",
       "    <tr>\n",
       "      <th>12</th>\n",
       "      <td>12</td>\n",
       "      <td>--\\n</td>\n",
       "      <td>comp.sys.mac.hardware</td>\n",
       "      <td>comp.sys.ibm.pc.hardware</td>\n",
       "      <td>0.722675</td>\n",
       "    </tr>\n",
       "    <tr>\n",
       "      <th>13</th>\n",
       "      <td>13</td>\n",
       "      <td>\\n   {Description of \"External Tank\" option fo...</td>\n",
       "      <td>sci.space</td>\n",
       "      <td>rec.autos</td>\n",
       "      <td>0.746256</td>\n",
       "    </tr>\n",
       "    <tr>\n",
       "      <th>14</th>\n",
       "      <td>14</td>\n",
       "      <td>Reduced Prices! \\nI have a list of things fors...</td>\n",
       "      <td>misc.forsale</td>\n",
       "      <td>rec.sport.hockey</td>\n",
       "      <td>0.732015</td>\n",
       "    </tr>\n",
       "    <tr>\n",
       "      <th>15</th>\n",
       "      <td>15</td>\n",
       "      <td>\\nDon't be so sure.  Look what happened to Jap...</td>\n",
       "      <td>alt.atheism</td>\n",
       "      <td>alt.atheism</td>\n",
       "      <td>0.497703</td>\n",
       "    </tr>\n",
       "    <tr>\n",
       "      <th>16</th>\n",
       "      <td>16</td>\n",
       "      <td>\\nI certainly do use it whenever I have to do ...</td>\n",
       "      <td>comp.graphics</td>\n",
       "      <td>rec.motorcycles</td>\n",
       "      <td>0.521232</td>\n",
       "    </tr>\n",
       "    <tr>\n",
       "      <th>17</th>\n",
       "      <td>17</td>\n",
       "      <td>I recently posted an article asking what kind ...</td>\n",
       "      <td>rec.autos</td>\n",
       "      <td>rec.autos</td>\n",
       "      <td>0.495912</td>\n",
       "    </tr>\n",
       "    <tr>\n",
       "      <th>18</th>\n",
       "      <td>18</td>\n",
       "      <td>I would like to be able to amplify a voltage s...</td>\n",
       "      <td>sci.electronics</td>\n",
       "      <td>sci.med</td>\n",
       "      <td>0.829113</td>\n",
       "    </tr>\n",
       "    <tr>\n",
       "      <th>19</th>\n",
       "      <td>19</td>\n",
       "      <td>QUESTION:\\n  What is the EXACT entry (paramete...</td>\n",
       "      <td>comp.windows.x</td>\n",
       "      <td>alt.atheism</td>\n",
       "      <td>0.702528</td>\n",
       "    </tr>\n",
       "    <tr>\n",
       "      <th>20</th>\n",
       "      <td>20</td>\n",
       "      <td>\\n[...]\\n\\nThese don't seem like \"little thing...</td>\n",
       "      <td>alt.atheism</td>\n",
       "      <td>sci.med</td>\n",
       "      <td>0.621828</td>\n",
       "    </tr>\n",
       "    <tr>\n",
       "      <th>21</th>\n",
       "      <td>21</td>\n",
       "      <td>\\nI think that Mike Foligno was the captain of...</td>\n",
       "      <td>rec.sport.hockey</td>\n",
       "      <td>rec.motorcycles</td>\n",
       "      <td>0.600833</td>\n",
       "    </tr>\n",
       "    <tr>\n",
       "      <th>22</th>\n",
       "      <td>22</td>\n",
       "      <td>\\n)&gt;&gt;   \"The Catalog of Personal Computing Too...</td>\n",
       "      <td>misc.forsale</td>\n",
       "      <td>talk.religion.misc</td>\n",
       "      <td>0.545623</td>\n",
       "    </tr>\n",
       "    <tr>\n",
       "      <th>23</th>\n",
       "      <td>23</td>\n",
       "      <td>\\n\\n\\n\\nThe control box of the Window itself (...</td>\n",
       "      <td>comp.os.ms-windows.misc</td>\n",
       "      <td>comp.graphics</td>\n",
       "      <td>0.871346</td>\n",
       "    </tr>\n",
       "    <tr>\n",
       "      <th>24</th>\n",
       "      <td>24</td>\n",
       "      <td>I don't know about the specific problem mentio...</td>\n",
       "      <td>comp.sys.mac.hardware</td>\n",
       "      <td>sci.crypt</td>\n",
       "      <td>0.817599</td>\n",
       "    </tr>\n",
       "    <tr>\n",
       "      <th>25</th>\n",
       "      <td>25</td>\n",
       "      <td>Hello,\\n     I am looking to add voice input c...</td>\n",
       "      <td>comp.graphics</td>\n",
       "      <td>talk.religion.misc</td>\n",
       "      <td>0.910445</td>\n",
       "    </tr>\n",
       "    <tr>\n",
       "      <th>26</th>\n",
       "      <td>26</td>\n",
       "      <td>\\n       Actually, fossil fuel plants run hott...</td>\n",
       "      <td>sci.electronics</td>\n",
       "      <td>comp.sys.ibm.pc.hardware</td>\n",
       "      <td>0.621021</td>\n",
       "    </tr>\n",
       "    <tr>\n",
       "      <th>27</th>\n",
       "      <td>27</td>\n",
       "      <td>Doug Roberts - Ken Hill for NL MVP!!\\n\\t      ...</td>\n",
       "      <td>rec.sport.baseball</td>\n",
       "      <td>comp.sys.mac.hardware</td>\n",
       "      <td>0.673411</td>\n",
       "    </tr>\n",
       "    <tr>\n",
       "      <th>28</th>\n",
       "      <td>28</td>\n",
       "      <td>\\nYes.\\n\\n(I am adamantly an environmentalist....</td>\n",
       "      <td>soc.religion.christian</td>\n",
       "      <td>soc.religion.christian</td>\n",
       "      <td>0.494099</td>\n",
       "    </tr>\n",
       "    <tr>\n",
       "      <th>29</th>\n",
       "      <td>29</td>\n",
       "      <td>\\nIt depends on your priorities.  A lot of peo...</td>\n",
       "      <td>rec.autos</td>\n",
       "      <td>comp.os.ms-windows.misc</td>\n",
       "      <td>0.623577</td>\n",
       "    </tr>\n",
       "    <tr>\n",
       "      <th>30</th>\n",
       "      <td>30</td>\n",
       "      <td>\\nThe front covers should be available from So...</td>\n",
       "      <td>misc.forsale</td>\n",
       "      <td>alt.atheism</td>\n",
       "      <td>0.746804</td>\n",
       "    </tr>\n",
       "    <tr>\n",
       "      <th>31</th>\n",
       "      <td>31</td>\n",
       "      <td>My 14-y-o son has the usual teenage spotty chi...</td>\n",
       "      <td>sci.med</td>\n",
       "      <td>talk.politics.guns</td>\n",
       "      <td>0.737061</td>\n",
       "    </tr>\n",
       "    <tr>\n",
       "      <th>32</th>\n",
       "      <td>32</td>\n",
       "      <td>Just as a not of possible interest on this su...</td>\n",
       "      <td>sci.electronics</td>\n",
       "      <td>talk.politics.misc</td>\n",
       "      <td>0.892562</td>\n",
       "    </tr>\n",
       "    <tr>\n",
       "      <th>33</th>\n",
       "      <td>33</td>\n",
       "      <td>\\nHow do you define war?  Do seiges and consta...</td>\n",
       "      <td>talk.politics.mideast</td>\n",
       "      <td>rec.motorcycles</td>\n",
       "      <td>0.772775</td>\n",
       "    </tr>\n",
       "    <tr>\n",
       "      <th>34</th>\n",
       "      <td>34</td>\n",
       "      <td>\\nOnce again, it appears that the one-eyed man...</td>\n",
       "      <td>talk.politics.misc</td>\n",
       "      <td>comp.sys.mac.hardware</td>\n",
       "      <td>0.679644</td>\n",
       "    </tr>\n",
       "    <tr>\n",
       "      <th>35</th>\n",
       "      <td>35</td>\n",
       "      <td>\\nFunny you should mention this; one time on H...</td>\n",
       "      <td>rec.sport.hockey</td>\n",
       "      <td>sci.space</td>\n",
       "      <td>0.919879</td>\n",
       "    </tr>\n",
       "    <tr>\n",
       "      <th>36</th>\n",
       "      <td>36</td>\n",
       "      <td>Oh boy, a little K-bike versus /2 scuffling? G...</td>\n",
       "      <td>rec.motorcycles</td>\n",
       "      <td>rec.motorcycles</td>\n",
       "      <td>0.478747</td>\n",
       "    </tr>\n",
       "    <tr>\n",
       "      <th>37</th>\n",
       "      <td>37</td>\n",
       "      <td>\\nI agree with this assessment.  Furthermore, ...</td>\n",
       "      <td>sci.crypt</td>\n",
       "      <td>comp.windows.x</td>\n",
       "      <td>0.720647</td>\n",
       "    </tr>\n",
       "    <tr>\n",
       "      <th>38</th>\n",
       "      <td>38</td>\n",
       "      <td>\\n\\tThe word is \"subrogation.\"  Seems to me, i...</td>\n",
       "      <td>rec.motorcycles</td>\n",
       "      <td>comp.windows.x</td>\n",
       "      <td>0.742895</td>\n",
       "    </tr>\n",
       "    <tr>\n",
       "      <th>39</th>\n",
       "      <td>39</td>\n",
       "      <td>/ iftccu:talk.politics.guns / vincent@cad.gate...</td>\n",
       "      <td>talk.politics.guns</td>\n",
       "      <td>misc.forsale</td>\n",
       "      <td>0.903320</td>\n",
       "    </tr>\n",
       "    <tr>\n",
       "      <th>40</th>\n",
       "      <td>40</td>\n",
       "      <td>\\n\\n\\n\\nTed, you're missing a vital point.  A...</td>\n",
       "      <td>rec.sport.baseball</td>\n",
       "      <td>sci.crypt</td>\n",
       "      <td>0.747446</td>\n",
       "    </tr>\n",
       "    <tr>\n",
       "      <th>41</th>\n",
       "      <td>41</td>\n",
       "      <td>Well I am using The Home Office. I bought it f...</td>\n",
       "      <td>comp.sys.mac.hardware</td>\n",
       "      <td>sci.electronics</td>\n",
       "      <td>0.982960</td>\n",
       "    </tr>\n",
       "    <tr>\n",
       "      <th>42</th>\n",
       "      <td>42</td>\n",
       "      <td>Western Digital 1-800-832-4778.....Sam</td>\n",
       "      <td>comp.sys.ibm.pc.hardware</td>\n",
       "      <td>rec.autos</td>\n",
       "      <td>0.505787</td>\n",
       "    </tr>\n",
       "    <tr>\n",
       "      <th>43</th>\n",
       "      <td>43</td>\n",
       "      <td>For the second straight game, California score...</td>\n",
       "      <td>rec.sport.baseball</td>\n",
       "      <td>rec.sport.hockey</td>\n",
       "      <td>0.883974</td>\n",
       "    </tr>\n",
       "    <tr>\n",
       "      <th>44</th>\n",
       "      <td>44</td>\n",
       "      <td>\\n: In any case, I think Viola would have made...</td>\n",
       "      <td>rec.sport.baseball</td>\n",
       "      <td>comp.windows.x</td>\n",
       "      <td>0.905562</td>\n",
       "    </tr>\n",
       "    <tr>\n",
       "      <th>45</th>\n",
       "      <td>45</td>\n",
       "      <td>Of course, if you want to check the honesty of...</td>\n",
       "      <td>comp.sys.mac.hardware</td>\n",
       "      <td>talk.politics.misc</td>\n",
       "      <td>0.636945</td>\n",
       "    </tr>\n",
       "    <tr>\n",
       "      <th>46</th>\n",
       "      <td>46</td>\n",
       "      <td>Is there a Wyse 60 Terminal Emulator or a comm...</td>\n",
       "      <td>comp.sys.mac.hardware</td>\n",
       "      <td>misc.forsale</td>\n",
       "      <td>0.644428</td>\n",
       "    </tr>\n",
       "    <tr>\n",
       "      <th>47</th>\n",
       "      <td>47</td>\n",
       "      <td>\\n\\n\\n\\nEasy Rider (harleys, drugs, rednecks, ...</td>\n",
       "      <td>rec.motorcycles</td>\n",
       "      <td>comp.os.ms-windows.misc</td>\n",
       "      <td>0.911661</td>\n",
       "    </tr>\n",
       "    <tr>\n",
       "      <th>48</th>\n",
       "      <td>48</td>\n",
       "      <td>The subject line says it all. I'm working on a...</td>\n",
       "      <td>sci.electronics</td>\n",
       "      <td>sci.crypt</td>\n",
       "      <td>0.545796</td>\n",
       "    </tr>\n",
       "    <tr>\n",
       "      <th>49</th>\n",
       "      <td>49</td>\n",
       "      <td>Pat sez;\\n\\nYeah, but a windscreen cut down mo...</td>\n",
       "      <td>sci.space</td>\n",
       "      <td>alt.atheism</td>\n",
       "      <td>0.571979</td>\n",
       "    </tr>\n",
       "  </tbody>\n",
       "</table>\n",
       "</div>"
      ],
      "text/plain": [
       "    id                                               text  \\\n",
       "0    0  I was wondering if anyone out there could enli...   \n",
       "1    1  A fair number of brave souls who upgraded thei...   \n",
       "2    2  well folks, my mac plus finally gave up the gh...   \n",
       "3    3  \\nDo you have Weitek's address/phone number?  ...   \n",
       "4    4  From article <C5owCB.n3p@world.std.com>, by to...   \n",
       "5    5  \\n\\n\\n\\n\\nOf course.  The term must be rigidly...   \n",
       "6    6  There were a few people who responded to my re...   \n",
       "7    7                                                ...   \n",
       "8    8  I have win 3.0 and downloaded several icons an...   \n",
       "9    9  \\n\\n\\nI've had the board for over a year, and ...   \n",
       "10  10  I have a line on a Ducati 900GTS 1978 model wi...   \n",
       "11  11  \\nYep, that's pretty much it. I'm not a Jew bu...   \n",
       "12  12                                               --\\n   \n",
       "13  13  \\n   {Description of \"External Tank\" option fo...   \n",
       "14  14  Reduced Prices! \\nI have a list of things fors...   \n",
       "15  15  \\nDon't be so sure.  Look what happened to Jap...   \n",
       "16  16  \\nI certainly do use it whenever I have to do ...   \n",
       "17  17  I recently posted an article asking what kind ...   \n",
       "18  18  I would like to be able to amplify a voltage s...   \n",
       "19  19  QUESTION:\\n  What is the EXACT entry (paramete...   \n",
       "20  20  \\n[...]\\n\\nThese don't seem like \"little thing...   \n",
       "21  21  \\nI think that Mike Foligno was the captain of...   \n",
       "22  22  \\n)>>   \"The Catalog of Personal Computing Too...   \n",
       "23  23  \\n\\n\\n\\nThe control box of the Window itself (...   \n",
       "24  24  I don't know about the specific problem mentio...   \n",
       "25  25  Hello,\\n     I am looking to add voice input c...   \n",
       "26  26  \\n       Actually, fossil fuel plants run hott...   \n",
       "27  27  Doug Roberts - Ken Hill for NL MVP!!\\n\\t      ...   \n",
       "28  28  \\nYes.\\n\\n(I am adamantly an environmentalist....   \n",
       "29  29  \\nIt depends on your priorities.  A lot of peo...   \n",
       "30  30  \\nThe front covers should be available from So...   \n",
       "31  31  My 14-y-o son has the usual teenage spotty chi...   \n",
       "32  32   Just as a not of possible interest on this su...   \n",
       "33  33  \\nHow do you define war?  Do seiges and consta...   \n",
       "34  34  \\nOnce again, it appears that the one-eyed man...   \n",
       "35  35  \\nFunny you should mention this; one time on H...   \n",
       "36  36  Oh boy, a little K-bike versus /2 scuffling? G...   \n",
       "37  37  \\nI agree with this assessment.  Furthermore, ...   \n",
       "38  38  \\n\\tThe word is \"subrogation.\"  Seems to me, i...   \n",
       "39  39  / iftccu:talk.politics.guns / vincent@cad.gate...   \n",
       "40  40   \\n\\n\\n\\nTed, you're missing a vital point.  A...   \n",
       "41  41  Well I am using The Home Office. I bought it f...   \n",
       "42  42             Western Digital 1-800-832-4778.....Sam   \n",
       "43  43  For the second straight game, California score...   \n",
       "44  44  \\n: In any case, I think Viola would have made...   \n",
       "45  45  Of course, if you want to check the honesty of...   \n",
       "46  46  Is there a Wyse 60 Terminal Emulator or a comm...   \n",
       "47  47  \\n\\n\\n\\nEasy Rider (harleys, drugs, rednecks, ...   \n",
       "48  48  The subject line says it all. I'm working on a...   \n",
       "49  49  Pat sez;\\n\\nYeah, but a windscreen cut down mo...   \n",
       "\n",
       "                        gold                      pred  data_error_potential  \n",
       "0                  rec.autos     talk.politics.mideast              0.717646  \n",
       "1      comp.sys.mac.hardware        talk.politics.misc              0.537593  \n",
       "2      comp.sys.mac.hardware        talk.politics.guns              0.771403  \n",
       "3              comp.graphics     comp.sys.mac.hardware              0.867988  \n",
       "4                  sci.space           rec.motorcycles              0.843240  \n",
       "5         talk.politics.guns              misc.forsale              0.681870  \n",
       "6                    sci.med                 sci.crypt              0.538955  \n",
       "7   comp.sys.ibm.pc.hardware                   sci.med              0.827074  \n",
       "8    comp.os.ms-windows.misc     comp.sys.mac.hardware              0.544817  \n",
       "9      comp.sys.mac.hardware          rec.sport.hockey              0.536035  \n",
       "10           rec.motorcycles                 rec.autos              0.512744  \n",
       "11        talk.religion.misc     comp.sys.mac.hardware              0.823095  \n",
       "12     comp.sys.mac.hardware  comp.sys.ibm.pc.hardware              0.722675  \n",
       "13                 sci.space                 rec.autos              0.746256  \n",
       "14              misc.forsale          rec.sport.hockey              0.732015  \n",
       "15               alt.atheism               alt.atheism              0.497703  \n",
       "16             comp.graphics           rec.motorcycles              0.521232  \n",
       "17                 rec.autos                 rec.autos              0.495912  \n",
       "18           sci.electronics                   sci.med              0.829113  \n",
       "19            comp.windows.x               alt.atheism              0.702528  \n",
       "20               alt.atheism                   sci.med              0.621828  \n",
       "21          rec.sport.hockey           rec.motorcycles              0.600833  \n",
       "22              misc.forsale        talk.religion.misc              0.545623  \n",
       "23   comp.os.ms-windows.misc             comp.graphics              0.871346  \n",
       "24     comp.sys.mac.hardware                 sci.crypt              0.817599  \n",
       "25             comp.graphics        talk.religion.misc              0.910445  \n",
       "26           sci.electronics  comp.sys.ibm.pc.hardware              0.621021  \n",
       "27        rec.sport.baseball     comp.sys.mac.hardware              0.673411  \n",
       "28    soc.religion.christian    soc.religion.christian              0.494099  \n",
       "29                 rec.autos   comp.os.ms-windows.misc              0.623577  \n",
       "30              misc.forsale               alt.atheism              0.746804  \n",
       "31                   sci.med        talk.politics.guns              0.737061  \n",
       "32           sci.electronics        talk.politics.misc              0.892562  \n",
       "33     talk.politics.mideast           rec.motorcycles              0.772775  \n",
       "34        talk.politics.misc     comp.sys.mac.hardware              0.679644  \n",
       "35          rec.sport.hockey                 sci.space              0.919879  \n",
       "36           rec.motorcycles           rec.motorcycles              0.478747  \n",
       "37                 sci.crypt            comp.windows.x              0.720647  \n",
       "38           rec.motorcycles            comp.windows.x              0.742895  \n",
       "39        talk.politics.guns              misc.forsale              0.903320  \n",
       "40        rec.sport.baseball                 sci.crypt              0.747446  \n",
       "41     comp.sys.mac.hardware           sci.electronics              0.982960  \n",
       "42  comp.sys.ibm.pc.hardware                 rec.autos              0.505787  \n",
       "43        rec.sport.baseball          rec.sport.hockey              0.883974  \n",
       "44        rec.sport.baseball            comp.windows.x              0.905562  \n",
       "45     comp.sys.mac.hardware        talk.politics.misc              0.636945  \n",
       "46     comp.sys.mac.hardware              misc.forsale              0.644428  \n",
       "47           rec.motorcycles   comp.os.ms-windows.misc              0.911661  \n",
       "48           sci.electronics                 sci.crypt              0.545796  \n",
       "49                 sci.space               alt.atheism              0.571979  "
      ]
     },
     "execution_count": 40,
     "metadata": {},
     "output_type": "execute_result"
    }
   ],
   "source": [
    "from dataquality.schemas.split import Split\n",
    "from dataquality.clients.api import ApiClient\n",
    "import pandas as pd\n",
    "\n",
    "api_client = ApiClient()\n",
    "pname, rname = api_client.get_project_run_name()\n",
    "api_client.export_run(pname, rname, Split.training, \"training_data.csv\")\n",
    "\n",
    "pd.read_csv(\"training_data.csv\")"
   ]
  },
  {
   "cell_type": "markdown",
   "id": "83f2fd90",
   "metadata": {},
   "source": [
    "### (Dev only) we can also read the data from minio"
   ]
  },
  {
   "cell_type": "code",
   "execution_count": null,
   "id": "7613ea4f",
   "metadata": {},
   "outputs": [],
   "source": [
    "from minio import Minio\n",
    "\n",
    "url = dataquality.config.minio_url\n",
    "client = Minio(url, 'minioadmin', 'minioadmin', secure=(':9000' not in url))\n",
    "p = dataquality.config.current_project_id\n",
    "r = dataquality.config.current_run_id\n",
    "client.fget_object('galileo-project-runs-results', f'{p}/{r}/training/data/data.hdf5', 'training_data.hdf5')\n",
    "client.fget_object('galileo-project-runs-results', f'{p}/{r}/test/data/data.hdf5', 'test_data.hdf5')\n",
    "\n",
    "display(vaex.open('training_data.hdf5'))\n",
    "\n",
    "display(vaex.open('test_data.hdf5'))"
   ]
  },
  {
   "cell_type": "code",
   "execution_count": null,
   "id": "d3a536bb",
   "metadata": {},
   "outputs": [],
   "source": []
  }
 ],
 "metadata": {
  "kernelspec": {
   "display_name": "Python 3 (ipykernel)",
   "language": "python",
   "name": "python3"
  },
  "language_info": {
   "codemirror_mode": {
    "name": "ipython",
    "version": 3
   },
   "file_extension": ".py",
   "mimetype": "text/x-python",
   "name": "python",
   "nbconvert_exporter": "python",
   "pygments_lexer": "ipython3",
   "version": "3.9.6"
  }
 },
 "nbformat": 4,
 "nbformat_minor": 5
}
