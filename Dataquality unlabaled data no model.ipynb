{
 "cells": [
  {
   "cell_type": "code",
   "execution_count": null,
   "id": "bc637cf4",
   "metadata": {},
   "outputs": [],
   "source": [
    "import dataquality as dq\n",
    "\n",
    "dq.set_console_url(\"console.erm.rungalileo.io\")\n",
    "dq.login()"
   ]
  },
  {
   "cell_type": "markdown",
   "id": "23986a97",
   "metadata": {},
   "source": [
    "## Create unlabeled dataframe\n",
    "\n",
    "I'm using conv_intent because I dont have unlabeled data, but you can use any df with a `text` column"
   ]
  },
  {
   "cell_type": "code",
   "execution_count": null,
   "id": "b386385a",
   "metadata": {
    "scrolled": true
   },
   "outputs": [],
   "source": [
    "from datasets import load_dataset\n",
    "from random import choices\n",
    "import pandas as pd \n",
    "\n",
    "\n",
    "text_samples = load_dataset(\"rungalileo/conv_intent\")[\"train\"][\"text\"]\n",
    "\n",
    "some_metadata = [\"a\", \"b\", \"c\", \"d\", \"e\", \"f\", \"g\"]\n",
    "\n",
    "unlb_df = pd.DataFrame(dict(\n",
    "    text=text_samples,\n",
    "    metadata_1=choices(some_metadata, k=len(text_samples)),\n",
    "    id=list(range(len(text_samples)))\n",
    "))\n",
    "unlb_df.head(5)"
   ]
  },
  {
   "cell_type": "markdown",
   "id": "177f70e9",
   "metadata": {},
   "source": [
    "## Create pretrained embeddings"
   ]
  },
  {
   "cell_type": "code",
   "execution_count": null,
   "id": "90164317",
   "metadata": {
    "scrolled": true
   },
   "outputs": [],
   "source": [
    "from sentence_transformers import SentenceTransformer\n",
    "import torch\n",
    "import numpy as np\n",
    "\n",
    "encoder = SentenceTransformer(\"all-MiniLM-L6-v2\")\n",
    "with torch.autocast(\"cuda\"):\n",
    "    embs = encoder.encode(unlb_df[\"text\"].tolist(), show_progress_bar=True).astype(np.float32)"
   ]
  },
  {
   "cell_type": "markdown",
   "id": "fc8e44b2",
   "metadata": {},
   "source": [
    "## Log data to Galileo"
   ]
  },
  {
   "cell_type": "code",
   "execution_count": null,
   "id": "bf6c0df8",
   "metadata": {
    "scrolled": true
   },
   "outputs": [],
   "source": [
    "dq.init(\"text_classification\", \"unlabeled_data\", \"conv_intent\")\n",
    "\n",
    "dq.set_split(\"inference\", \"inf_1\")\n",
    "\n",
    "# We need some set of labels, or we can make them up\n",
    "labels = [\"foo\", \"bar\"]\n",
    "dq.set_labels_for_run(labels)\n",
    "\n",
    "dq.log_dataset(unlb_df, meta=[\"metadata_1\"])\n",
    "dq.log_model_outputs(\n",
    "    embs=embs,\n",
    "    ids=unlb_df[\"id\"].tolist(),\n",
    "    logits=np.random.rand(len(embs), len(labels))\n",
    ")\n",
    "dq.finish(create_data_embs=False)"
   ]
  },
  {
   "cell_type": "code",
   "execution_count": null,
   "id": "fb96f215",
   "metadata": {},
   "outputs": [],
   "source": [
    "## Optionally download the data, which will include the cluster_id assigned\n",
    "\n",
    "df = dq.metrics.get_dataframe(\"unlabeled_data\", \"conv_intent\", \"inference\", inference_name=\"inf_1\")"
   ]
  },
  {
   "cell_type": "code",
   "execution_count": null,
   "id": "231c631d",
   "metadata": {},
   "outputs": [],
   "source": []
  }
 ],
 "metadata": {
  "kernelspec": {
   "display_name": "Python 3 (ipykernel)",
   "language": "python",
   "name": "python3"
  },
  "language_info": {
   "codemirror_mode": {
    "name": "ipython",
    "version": 3
   },
   "file_extension": ".py",
   "mimetype": "text/x-python",
   "name": "python",
   "nbconvert_exporter": "python",
   "pygments_lexer": "ipython3",
   "version": "3.9.6"
  }
 },
 "nbformat": 4,
 "nbformat_minor": 5
}
