{
 "cells": [
  {
   "cell_type": "code",
   "execution_count": 1,
   "id": "cd0de6a9",
   "metadata": {},
   "outputs": [
    {
     "data": {
      "text/plain": [
       "'v0.8.18'"
      ]
     },
     "execution_count": 1,
     "metadata": {},
     "output_type": "execute_result"
    }
   ],
   "source": [
    "import dataquality as dq\n",
    "\n",
    "dq.__version__"
   ]
  },
  {
   "cell_type": "code",
   "execution_count": 11,
   "id": "d6def9c0",
   "metadata": {
    "scrolled": true
   },
   "outputs": [
    {
     "data": {
      "application/vnd.jupyter.widget-view+json": {
       "model_id": "bad847e7fca848389a60560cfd5c362d",
       "version_major": 2,
       "version_minor": 0
      },
      "text/plain": [
       "HBox(children=(FileUpload(value={}, accept='.csv', description='Upload'), Button(description='Run Galileo 🔭', …"
      ]
     },
     "metadata": {},
     "output_type": "display_data"
    }
   ],
   "source": [
    "dq.auto_notebook()"
   ]
  },
  {
   "cell_type": "code",
   "execution_count": 4,
   "id": "5b40ff1c",
   "metadata": {},
   "outputs": [
    {
     "name": "stdout",
     "output_type": "stream",
     "text": [
      "ipykernel                     6.17.1\r\n",
      "ipython                       8.6.0\r\n",
      "ipython-genutils              0.2.0\r\n",
      "ipywidgets                    7.6.6\r\n",
      "scipy                         1.9.3\r\n"
     ]
    }
   ],
   "source": [
    "!pip list | grep ipy"
   ]
  },
  {
   "cell_type": "code",
   "execution_count": 12,
   "id": "a3c85299",
   "metadata": {},
   "outputs": [
    {
     "name": "stdout",
     "output_type": "stream",
     "text": [
      "jupyter==1.0.0\r\n",
      "jupyter-console==6.4.4\r\n",
      "jupyter-server==1.23.1\r\n",
      "jupyter_client==7.4.5\r\n",
      "jupyter_core==5.0.0\r\n",
      "jupyterlab-pygments==0.2.2\r\n",
      "jupyterlab-widgets==1.1.2\r\n"
     ]
    }
   ],
   "source": [
    "!pip freeze | grep jup"
   ]
  },
  {
   "cell_type": "code",
   "execution_count": 13,
   "id": "2736a3d7",
   "metadata": {},
   "outputs": [
    {
     "name": "stdout",
     "output_type": "stream",
     "text": [
      "Selected Jupyter core packages...\n",
      "IPython          : 8.6.0\n",
      "ipykernel        : 6.17.1\n",
      "ipywidgets       : 7.6.6\n",
      "jupyter_client   : 7.4.5\n",
      "jupyter_core     : 5.0.0\n",
      "jupyter_server   : 1.23.1\n",
      "jupyterlab       : not installed\n",
      "nbclient         : 0.7.0\n",
      "nbconvert        : 7.2.4\n",
      "nbformat         : 5.7.0\n",
      "notebook         : 6.5.2\n",
      "qtconsole        : 5.4.0\n",
      "traitlets        : 5.5.0\n"
     ]
    }
   ],
   "source": [
    "!jupyter --version"
   ]
  },
  {
   "cell_type": "code",
   "execution_count": null,
   "id": "0a23d75f",
   "metadata": {},
   "outputs": [],
   "source": []
  }
 ],
 "metadata": {
  "kernelspec": {
   "display_name": "Python 3 (ipykernel)",
   "language": "python",
   "name": "python3"
  },
  "language_info": {
   "codemirror_mode": {
    "name": "ipython",
    "version": 3
   },
   "file_extension": ".py",
   "mimetype": "text/x-python",
   "name": "python",
   "nbconvert_exporter": "python",
   "pygments_lexer": "ipython3",
   "version": "3.9.6"
  }
 },
 "nbformat": 4,
 "nbformat_minor": 5
}
