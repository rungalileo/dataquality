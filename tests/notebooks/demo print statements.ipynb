{
 "cells": [
  {
   "cell_type": "code",
   "execution_count": 1,
   "id": "3bf33d8d",
   "metadata": {},
   "outputs": [
    {
     "name": "stdout",
     "output_type": "stream",
     "text": [
      "LOCAL_RANK: 0 -CUDA_VISIBLE_DEVICES: [0]\n",
      "  | Name       | Type                                | Params\n",
      "-----------------------------------------------------------------\n",
      "0 | model      | DistilBertForSequenceClassification | 67.0 M \n",
      "1 | train_acc  | DistilBertForSequenceClassification | 0 \n",
      "2 | val_acc    | DistilBertForSequenceClassification | 0 \n",
      "3 | test_acc   | DistilBertForSequenceClassification | 0 \n",
      "67.0 M   Trainable params\n",
      "0        Non-trainable params\n",
      "67.0 M   Total params\n",
      "267.875  Total estimated model params size (MB)\n",
      "267.875  Total estimated model params size (MB)\n",
      "🔭 Galileo Console Link: https://console.rungalileo.io/project/a7f45ef5-80b9-48f6-b996-ab1aadcf8b1e/run/8831fa76-6c51-4c0e-b4e4-75f785743a57\n",
      "Validation sanity check: 0it [00:00, ?it/s]\n",
      "Training: -1it [00:00, ?it/s]\n",
      "Validating: 0it [00:00, ?it/s]\n",
      "Validating: 0it [00:00, ?it/s]\n"
     ]
    }
   ],
   "source": [
    "# dataquality.init(project=\"siri_intent_classification\")\n",
    "\n",
    "# from dataquality.core.integrations.lightning import DataQualityCallback\n",
    "\n",
    "# model = LightningDistilBERT()\n",
    "\n",
    "# trainer = p1.Trainer(\n",
    "#     max_epochs=2,\n",
    "#     num_sanity_val_steps=0,\n",
    "#     callbacks=[(DataQualityCallback())]\n",
    "# )\n",
    "\n",
    "# trainer.fit(data)\n",
    "\n",
    "\n",
    "print('LOCAL_RANK: 0 -CUDA_VISIBLE_DEVICES: [0]')\n",
    "print('  | Name       | Type                                | Params')\n",
    "print('-'*65)\n",
    "print('0 | model      | DistilBertForSequenceClassification | 67.0 M ')\n",
    "print('1 | train_acc  | DistilBertForSequenceClassification | 0 ')\n",
    "print('2 | val_acc    | DistilBertForSequenceClassification | 0 ')\n",
    "print('3 | test_acc   | DistilBertForSequenceClassification | 0 ')\n",
    "print('67.0 M   Trainable params')\n",
    "print('0        Non-trainable params')\n",
    "print('67.0 M   Total params')\n",
    "print('267.875  Total estimated model params size (MB)')\n",
    "print('267.875  Total estimated model params size (MB)')\n",
    "print('🔭 Galileo Console Link: https://console.rungalileo.io/project/a7f45ef5-80b9-48f6-b996-ab1aadcf8b1e/run/8831fa76-6c51-4c0e-b4e4-75f785743a57')\n",
    "print('Validation sanity check: 0it [00:00, ?it/s]')\n",
    "print('Training: -1it [00:00, ?it/s]')\n",
    "print('Validating: 0it [00:00, ?it/s]')\n",
    "print('Validating: 0it [00:00, ?it/s]')"
   ]
  },
  {
   "cell_type": "code",
   "execution_count": null,
   "id": "80de5f5d",
   "metadata": {},
   "outputs": [],
   "source": []
  }
 ],
 "metadata": {
  "kernelspec": {
   "display_name": "Python 3 (ipykernel)",
   "language": "python",
   "name": "python3"
  },
  "language_info": {
   "codemirror_mode": {
    "name": "ipython",
    "version": 3
   },
   "file_extension": ".py",
   "mimetype": "text/x-python",
   "name": "python",
   "nbconvert_exporter": "python",
   "pygments_lexer": "ipython3",
   "version": "3.9.6"
  }
 },
 "nbformat": 4,
 "nbformat_minor": 5
}
