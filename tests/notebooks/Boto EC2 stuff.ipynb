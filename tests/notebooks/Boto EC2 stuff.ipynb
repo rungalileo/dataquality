{
 "cells": [
  {
   "cell_type": "code",
   "execution_count": 1,
   "id": "f1a504e9",
   "metadata": {},
   "outputs": [
    {
     "name": "stdout",
     "output_type": "stream",
     "text": [
      "🔭 Logging you into Galileo\n",
      "\n",
      "🔐 How would you like to login? \n",
      "Enter one of the following: email\n",
      "email\n",
      "🤝 Saving preferred login method\n",
      "🚀 You're logged in to Galileo as anthony@rungalileo.io!\n"
     ]
    }
   ],
   "source": [
    "import dataquality\n",
    "dataquality.login()"
   ]
  },
  {
   "cell_type": "code",
   "execution_count": 11,
   "id": "2ed1aac2",
   "metadata": {},
   "outputs": [
    {
     "name": "stdout",
     "output_type": "stream",
     "text": [
      "✨ Initializing project ethical_scarlet_swift\n",
      "🏃‍♂️ Starting run precious_bronze_orangutan\n",
      "🛰 Created project, ethical_scarlet_swift, and new run, precious_bronze_orangutan.\n",
      "☁️ Uploading Data\n",
      "🧹 Cleaning up\n",
      "Job default successfully submitted. Results will be available soon at https://console.dev.rungalileo.io/projects/e955270e-3658-486f-a693-2225b379e0ca/runs/bffe430c-44ac-4093-82ea-9dabbb73ba23\n"
     ]
    },
    {
     "data": {
      "text/plain": [
       "{'project_id': 'e955270e-3658-486f-a693-2225b379e0ca',\n",
       " 'run_id': 'bffe430c-44ac-4093-82ea-9dabbb73ba23',\n",
       " 'proc_name': 'default',\n",
       " 'labels': ['alt.atheism',\n",
       "  'comp.graphics',\n",
       "  'comp.os.ms-windows.misc',\n",
       "  'comp.sys.ibm.pc.hardware',\n",
       "  'comp.sys.mac.hardware',\n",
       "  'comp.windows.x',\n",
       "  'misc.forsale',\n",
       "  'rec.autos',\n",
       "  'rec.motorcycles',\n",
       "  'rec.sport.baseball',\n",
       "  'rec.sport.hockey',\n",
       "  'sci.crypt',\n",
       "  'sci.electronics',\n",
       "  'sci.med',\n",
       "  'sci.space',\n",
       "  'soc.religion.christian',\n",
       "  'talk.politics.guns',\n",
       "  'talk.politics.mideast',\n",
       "  'talk.politics.misc',\n",
       "  'talk.religion.misc'],\n",
       " 'message': 'Processing dataquality!',\n",
       " 'link': 'https://console.dev.rungalileo.io/projects/e955270e-3658-486f-a693-2225b379e0ca/runs/bffe430c-44ac-4093-82ea-9dabbb73ba23'}"
      ]
     },
     "execution_count": 11,
     "metadata": {},
     "output_type": "execute_result"
    }
   ],
   "source": [
    "dataquality.init()\n",
    "\n",
    "import numpy as np\n",
    "from dataquality.core.integrations.config import GalileoModelConfig, GalileoDataConfig\n",
    "\n",
    "from sklearn.datasets import fetch_20newsgroups\n",
    "import pandas as pd\n",
    "\n",
    "newsgroups = fetch_20newsgroups(subset=\"train\", remove=('headers', 'footers', 'quotes'))\n",
    "\n",
    "dataset = pd.DataFrame()\n",
    "dataset[\"text\"] = newsgroups.data\n",
    "label_ind = newsgroups.target_names\n",
    "dataset[\"label\"] = [label_ind[i] for i in newsgroups.target]\n",
    "dataset = dataset[:100]\n",
    "\n",
    "data_conf_train = GalileoDataConfig(text=dataset['text'], labels=dataset['label'], split=\"train\")\n",
    "data_conf_test = GalileoDataConfig(text=dataset['text'], labels=dataset['label'], split=\"test\")\n",
    "\n",
    "dataquality.log_batch_input_data(data_conf_train)\n",
    "dataquality.log_batch_input_data(data_conf_test)\n",
    "\n",
    "\n",
    "# Generate fake model outputs\n",
    "def log_fake_data(log_num: int = 0):\n",
    "    # Ensure unique IDs\n",
    "    # Because we're going to call this twice, we need the other dataset rows for the second call, so /2\n",
    "    num_rows = len(dataset) // 2 \n",
    "        \n",
    "    emb = np.random.rand(num_rows, 800)\n",
    "    prob = np.random.rand(num_rows, 20)\n",
    "    for split in ['test','train']:\n",
    "        epoch = 0\n",
    "        \n",
    "        r = range(num_rows*log_num, num_rows*(log_num+1))\n",
    "        ids = list(r)\n",
    "        model_conf = GalileoModelConfig(emb=emb, probs=prob, split=split, epoch=epoch, ids=ids)\n",
    "        dataquality.log_model_outputs(model_conf)\n",
    "\n",
    "log_fake_data()\n",
    "log_fake_data(1)\n",
    "\n",
    "dataquality.set_labels_for_run(newsgroups.target_names)\n",
    "dataquality.finish()"
   ]
  },
  {
   "cell_type": "code",
   "execution_count": null,
   "id": "8efa266a",
   "metadata": {},
   "outputs": [],
   "source": []
  }
 ],
 "metadata": {
  "kernelspec": {
   "display_name": "Python 3 (ipykernel)",
   "language": "python",
   "name": "python3"
  },
  "language_info": {
   "codemirror_mode": {
    "name": "ipython",
    "version": 3
   },
   "file_extension": ".py",
   "mimetype": "text/x-python",
   "name": "python",
   "nbconvert_exporter": "python",
   "pygments_lexer": "ipython3",
   "version": "3.9.6"
  }
 },
 "nbformat": 4,
 "nbformat_minor": 5
}
