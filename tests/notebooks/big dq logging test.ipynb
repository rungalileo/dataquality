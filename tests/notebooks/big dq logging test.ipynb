{
 "cells": [
  {
   "cell_type": "code",
   "execution_count": 1,
   "id": "a0583535",
   "metadata": {},
   "outputs": [],
   "source": [
    "!pip install -q ../../../dataquality"
   ]
  },
  {
   "cell_type": "code",
   "execution_count": 1,
   "id": "5d647ca4",
   "metadata": {},
   "outputs": [],
   "source": [
    "import os\n",
    "\n",
    "os.environ['GALILEO_API_URL']=\"http://localhost:8088\"\n",
    "os.environ['GALILEO_MINIO_URL']=\"127.0.0.1:9000\"\n",
    "os.environ['GALILEO_MINIO_ACCESS_KEY']=\"minioadmin\"\n",
    "os.environ['GALILEO_MINIO_SECRET_KEY']=\"minioadmin\"\n",
    "os.environ[\"GALILEO_AUTH_METHOD\"]=\"email\"\n",
    "os.environ[\"GALILEO_USERNAME\"]=\"ci@rungalileo.io\"\n",
    "os.environ[\"GALILEO_PASSWORD\"]=\"CI_user_password!123\""
   ]
  },
  {
   "cell_type": "code",
   "execution_count": 2,
   "id": "a85999b2",
   "metadata": {},
   "outputs": [
    {
     "name": "stdout",
     "output_type": "stream",
     "text": [
      "aws s3 cp --recursive s3://galileo-ml-train/datasets/original/amazon_polarity .\n",
      "download: s3://galileo-ml-train/datasets/original/amazon_polarity/amazon_polarity_test.csv to ./amazon_polarity_test.csv\n",
      "download: s3://galileo-ml-train/datasets/original/amazon_polarity/amazon_polarity_train.csv to ./amazon_polarity_train.csv\n"
     ]
    },
    {
     "data": {
      "text/plain": [
       "0"
      ]
     },
     "execution_count": 2,
     "metadata": {},
     "output_type": "execute_result"
    }
   ],
   "source": [
    "from pathlib import Path\n",
    "\n",
    "DATASET = \"amazon_polarity\"\n",
    "TRAIN_DATASET_NAME = f\"{DATASET}_train.csv\"\n",
    "TEST_DATASET_NAME = f\"{DATASET}_test.csv\"\n",
    "DATASET_FOLDER_PATH = Path(\"galileo-ml-train\")/\"datasets\"/\"original\"/DATASET\n",
    "\n",
    "cmd = (\n",
    "    f\"aws s3 cp --recursive s3://{DATASET_FOLDER_PATH} .\"\n",
    ")\n",
    "print(cmd)\n",
    "os.system(cmd)"
   ]
  },
  {
   "cell_type": "code",
   "execution_count": 3,
   "id": "1b37409a",
   "metadata": {},
   "outputs": [],
   "source": [
    "import dataquality\n",
    "\n",
    "\n",
    "import pandas as pd\n",
    "\n",
    "train_dataset = pd.read_csv(DATASET + \"_train.csv\")\n",
    "test_dataset = pd.read_csv(DATASET + \"_test.csv\")"
   ]
  },
  {
   "cell_type": "code",
   "execution_count": 4,
   "id": "48dbee29",
   "metadata": {},
   "outputs": [
    {
     "data": {
      "text/plain": [
       "3600000"
      ]
     },
     "execution_count": 4,
     "metadata": {},
     "output_type": "execute_result"
    }
   ],
   "source": [
    "len(train_dataset)"
   ]
  },
  {
   "cell_type": "code",
   "execution_count": 5,
   "id": "f325b2dd",
   "metadata": {},
   "outputs": [
    {
     "name": "stdout",
     "output_type": "stream",
     "text": [
      "🔭 Logging you into Galileo\n",
      "\n",
      "👀 Found auth method email set via env, skipping prompt.\n",
      "🚀 You're logged in to Galileo as ci@rungalileo.io!\n",
      "💭 Project test_large_dataset was not found.\n",
      "✨ Initializing project test_large_dataset\n",
      "🏃‍♂️ Starting run amazon_polarity\n",
      "🛰 Created project, test_large_dataset, and new run, amazon_polarity.\n"
     ]
    }
   ],
   "source": [
    "dataquality.login()\n",
    "dataquality.init(\"text_classification\", project_name=\"test_large_dataset\", run_name=DATASET)\n"
   ]
  },
  {
   "cell_type": "code",
   "execution_count": 6,
   "id": "eb81ea9c",
   "metadata": {},
   "outputs": [
    {
     "name": "stdout",
     "output_type": "stream",
     "text": [
      "export(arrow) [########################################] 100.00% elapsed time  :     3.81s =  0.1m =  0.0h\n",
      "export(arrow) [########################################] 100.00% elapsed time  :     9.79s =  0.2m =  0.0h\n",
      " Took 21.876877784729004 seconds\n"
     ]
    }
   ],
   "source": [
    "import time\n",
    "\n",
    "t_start = time.time()\n",
    "\n",
    "dataquality.log_batch_input_data(\n",
    "    text=train_dataset[\"text\"],\n",
    "    labels=train_dataset[\"label\"],\n",
    "    ids=train_dataset[\"id\"],\n",
    "    split=\"train\"\n",
    ")\n",
    "\n",
    "dataquality.log_batch_input_data(\n",
    "    text=test_dataset[\"text\"],\n",
    "    labels=test_dataset[\"label\"],\n",
    "    ids=test_dataset[\"id\"],\n",
    "    split=\"test\"\n",
    ")\n",
    "dataquality.set_labels_for_run(train_dataset[\"label\"].unique())\n",
    "print(f\"Took {time.time() - t_start} seconds\")"
   ]
  },
  {
   "cell_type": "code",
   "execution_count": 7,
   "id": "f035fee6",
   "metadata": {
    "scrolled": true
   },
   "outputs": [
    {
     "name": "stdout",
     "output_type": "stream",
     "text": [
      "Epoch 0\n",
      "Training\n"
     ]
    },
    {
     "data": {
      "application/vnd.jupyter.widget-view+json": {
       "model_id": "16080a74a3fb4db5b0006ac1aca29ab2",
       "version_major": 2,
       "version_minor": 0
      },
      "text/plain": [
       "  0%|          | 0/112500 [00:00<?, ?it/s]"
      ]
     },
     "metadata": {},
     "output_type": "display_data"
    },
    {
     "name": "stdout",
     "output_type": "stream",
     "text": [
      "Testing\n"
     ]
    },
    {
     "data": {
      "application/vnd.jupyter.widget-view+json": {
       "model_id": "29fab5591b84491291fb0ffc8e768fe7",
       "version_major": 2,
       "version_minor": 0
      },
      "text/plain": [
       "  0%|          | 0/12500 [00:00<?, ?it/s]"
      ]
     },
     "metadata": {},
     "output_type": "display_data"
    },
    {
     "name": "stdout",
     "output_type": "stream",
     "text": [
      "Epoch 1\n",
      "Training\n"
     ]
    },
    {
     "data": {
      "application/vnd.jupyter.widget-view+json": {
       "model_id": "37ea6b201ccd4d8caf22fbb53b5207af",
       "version_major": 2,
       "version_minor": 0
      },
      "text/plain": [
       "  0%|          | 0/112500 [00:00<?, ?it/s]"
      ]
     },
     "metadata": {},
     "output_type": "display_data"
    },
    {
     "name": "stdout",
     "output_type": "stream",
     "text": [
      "Testing\n"
     ]
    },
    {
     "data": {
      "application/vnd.jupyter.widget-view+json": {
       "model_id": "ab33016b67bd498e91480b9620efb4df",
       "version_major": 2,
       "version_minor": 0
      },
      "text/plain": [
       "  0%|          | 0/12500 [00:00<?, ?it/s]"
      ]
     },
     "metadata": {},
     "output_type": "display_data"
    },
    {
     "name": "stdout",
     "output_type": "stream",
     "text": [
      "logging took 24641.742566108704 seconds\n",
      "☁️ Uploading Data\n"
     ]
    },
    {
     "data": {
      "application/vnd.jupyter.widget-view+json": {
       "model_id": "fa178dd09ca441dba188a616e3085658",
       "version_major": 2,
       "version_minor": 0
      },
      "text/plain": [
       "training:   0%|          | 0/3 [00:00<?, ?it/s]"
      ]
     },
     "metadata": {},
     "output_type": "display_data"
    },
    {
     "name": "stdout",
     "output_type": "stream",
     "text": [
      "export(hdf5) [########################################] 100.00% elapsed time  :   248.42s =  4.1m =  0.1h\n",
      "export(hdf5) [########################################] 100.00% elapsed time  :     2.66s =  0.0m =  0.0h\n",
      "export(hdf5) [########################################] 100.00% elapsed time  :    52.47s =  0.9m =  0.0h    \n",
      " "
     ]
    },
    {
     "data": {
      "application/vnd.jupyter.widget-view+json": {
       "model_id": "a712c80b210f4452b4b5f456997efa58",
       "version_major": 2,
       "version_minor": 0
      },
      "text/plain": [
       "training:   0%|          | 0/3 [00:00<?, ?it/s]"
      ]
     },
     "metadata": {},
     "output_type": "display_data"
    },
    {
     "name": "stdout",
     "output_type": "stream",
     "text": [
      "export(hdf5) [########################################] 100.00% elapsed time  :   297.14s =  5.0m =  0.1h\n",
      "export(hdf5) [########################################] 100.00% elapsed time  :     2.73s =  0.0m =  0.0h\n",
      "export(hdf5) [########################################] 100.00% elapsed time  :    53.99s =  0.9m =  0.0h  \n",
      " "
     ]
    },
    {
     "data": {
      "application/vnd.jupyter.widget-view+json": {
       "model_id": "14cd003db9d74547a1ee86a9f9b9c8d5",
       "version_major": 2,
       "version_minor": 0
      },
      "text/plain": [
       "test:   0%|          | 0/3 [00:00<?, ?it/s]"
      ]
     },
     "metadata": {},
     "output_type": "display_data"
    },
    {
     "name": "stdout",
     "output_type": "stream",
     "text": [
      "export(hdf5) [########################################] 100.00% elapsed time  :    14.19s =  0.2m =  0.0h\n",
      "export(hdf5) [########################################] 100.00% elapsed time  :     0.49s =  0.0m =  0.0h\n",
      "export(hdf5) [########################################] 100.00% elapsed time  :    42.64s =  0.7m =  0.0h  \n",
      " "
     ]
    },
    {
     "data": {
      "application/vnd.jupyter.widget-view+json": {
       "model_id": "0a177d1a544948fd9e72d56d1b2533c1",
       "version_major": 2,
       "version_minor": 0
      },
      "text/plain": [
       "test:   0%|          | 0/3 [00:00<?, ?it/s]"
      ]
     },
     "metadata": {},
     "output_type": "display_data"
    },
    {
     "name": "stdout",
     "output_type": "stream",
     "text": [
      "export(hdf5) [########################################] 100.00% elapsed time  :    15.48s =  0.3m =  0.0h\n",
      "export(hdf5) [########################################] 100.00% elapsed time  :     0.52s =  0.0m =  0.0h\n",
      "export(hdf5) [########################################] 100.00% elapsed time  :    41.98s =  0.7m =  0.0h  \n",
      " 🧹 Cleaning up\n",
      "Job default successfully submitted. Results will be available soon at http://host.docker.internal:3000/projects/446b17d6-bca3-4697-8fb1-d6e01ba1ba4e/runs/0bd9aa64-8109-4ae9-900d-2dcba612a746\n",
      "finish/upload took 2980.9980731010437 seconds\n"
     ]
    }
   ],
   "source": [
    "from tqdm.notebook import tqdm\n",
    "import time\n",
    "import numpy as np\n",
    "\n",
    "NUM_EPOCHS=2\n",
    "BATCH_SIZE=32\n",
    "EMB_DIM=768\n",
    "\n",
    "\n",
    "def generate_random_embeddings(batch_size: int, emb_dims: int) -> np.ndarray:\n",
    "    return np.random.rand(batch_size, emb_dims)\n",
    "\n",
    "\n",
    "def generate_random_probabilities(batch_size: int, num_classes: int) -> np.ndarray:\n",
    "    probs = np.random.rand(batch_size, num_classes)\n",
    "    return probs / probs.sum(axis=-1).reshape(-1, 1)  # Normalize to sum to 1\n",
    "\n",
    "\n",
    "\n",
    "t_start = time.time()\n",
    "num_classes = train_dataset[\"label\"].nunique()\n",
    "# Simulates model training loop\n",
    "for epoch_idx in range(NUM_EPOCHS):\n",
    "    print(f\"Epoch {epoch_idx}\")\n",
    "    # Train\n",
    "    print(\"Training\")\n",
    "    for i in tqdm(range(0, len(train_dataset), BATCH_SIZE)):\n",
    "        batch = train_dataset[i : i + BATCH_SIZE]\n",
    "\n",
    "        embedding = generate_random_embeddings(len(batch), EMB_DIM)\n",
    "        probs = generate_random_probabilities(len(batch), num_classes)\n",
    "\n",
    "        dataquality.log_model_outputs(\n",
    "            emb=embedding,\n",
    "            probs=probs,\n",
    "            split=\"train\",\n",
    "            epoch=epoch_idx,\n",
    "            ids=batch[\"id\"],\n",
    "        )\n",
    "    # Test\n",
    "    print(\"Testing\")\n",
    "    for i in tqdm(range(0, len(test_dataset), BATCH_SIZE)):\n",
    "        batch = test_dataset[i : i + BATCH_SIZE]\n",
    "\n",
    "        embedding = generate_random_embeddings(len(batch), EMB_DIM)\n",
    "        probs = generate_random_probabilities(len(batch), num_classes)\n",
    "\n",
    "        dataquality.log_model_outputs(\n",
    "            emb=embedding,\n",
    "            probs=probs,\n",
    "            split=\"test\",\n",
    "            epoch=epoch_idx,\n",
    "            ids=batch[\"id\"],\n",
    "        )\n",
    "time_spent = time.time() - t_start\n",
    "print(f\"logging took {time_spent} seconds\")\n",
    "\n",
    "t0 = time.time()\n",
    "dataquality.finish()\n",
    "t1 = time.time()\n",
    "\n",
    "print(f\"finish/upload took {t1-t0} seconds\")"
   ]
  },
  {
   "cell_type": "code",
   "execution_count": 10,
   "id": "b08bfadf",
   "metadata": {},
   "outputs": [
    {
     "data": {
      "text/plain": [
       "{'project_id': '446b17d6-bca3-4697-8fb1-d6e01ba1ba4e',\n",
       " 'run_id': '0bd9aa64-8109-4ae9-900d-2dcba612a746',\n",
       " 'proc_name': 'default',\n",
       " 'labels': ['positive', 'negative'],\n",
       " 'tasks': None,\n",
       " 'message': 'Processing dataquality!',\n",
       " 'link': 'http://host.docker.internal:3000/projects/446b17d6-bca3-4697-8fb1-d6e01ba1ba4e/runs/0bd9aa64-8109-4ae9-900d-2dcba612a746'}"
      ]
     },
     "execution_count": 10,
     "metadata": {},
     "output_type": "execute_result"
    }
   ],
   "source": [
    "import dataquality\n",
    "from dataquality.clients import api_client\n",
    "from dataquality.core._config import config\n",
    "from dataquality.schemas import ProcName, RequestType, Route\n",
    "from dataquality.utils.thread_pool import ThreadPoolManager\n",
    "from dataquality.utils.version import _version_check\n",
    "\n",
    "data_logger = dataquality.get_data_logger()\n",
    "body = dict(\n",
    "        project_id=str(config.current_project_id),\n",
    "        run_id=str(config.current_run_id),\n",
    "        proc_name=ProcName.default.value,\n",
    "        labels=data_logger.logger_config.labels,\n",
    "    )\n",
    "res = api_client.make_request(\n",
    "    RequestType.POST, url=f\"{config.api_url}/{Route.proc_pool}\", body=body\n",
    ")\n",
    "res"
   ]
  },
  {
   "cell_type": "code",
   "execution_count": null,
   "id": "3c698e90",
   "metadata": {},
   "outputs": [],
   "source": []
  }
 ],
 "metadata": {
  "kernelspec": {
   "display_name": "Python 3 (ipykernel)",
   "language": "python",
   "name": "python3"
  },
  "language_info": {
   "codemirror_mode": {
    "name": "ipython",
    "version": 3
   },
   "file_extension": ".py",
   "mimetype": "text/x-python",
   "name": "python",
   "nbconvert_exporter": "python",
   "pygments_lexer": "ipython3",
   "version": "3.9.6"
  }
 },
 "nbformat": 4,
 "nbformat_minor": 5
}
