{
 "cells": [
  {
   "cell_type": "markdown",
   "id": "3250b480",
   "metadata": {},
   "source": [
    "### Patch dataquality to log to a local store for testing"
   ]
  },
  {
   "cell_type": "code",
   "execution_count": null,
   "id": "a41b3d8c",
   "metadata": {},
   "outputs": [],
   "source": [
    "import os \n",
    "from uuid import uuid4\n",
    "os.environ['GALILEO_MINIO_ACCESS_KEY'] = \"test\"\n",
    "os.environ['GALILEO_MINIO_SECRET_KEY'] = \"test\"\n",
    "os.environ['GALILEO_MINIO_URL'] = \"test\"\n",
    "\n",
    "import dataquality\n",
    "from dataquality import config\n",
    "from dataquality.clients import object_store\n",
    "from dataquality.loggers.jsonl_logger import JsonlLogger\n",
    "\n",
    "proj = uuid4()\n",
    "run = uuid4()\n",
    "config.current_project_id = proj\n",
    "config.current_run_id = run\n",
    "\n",
    "LOCATION = (\n",
    "    f\"{JsonlLogger.LOG_FILE_DIR}/{config.current_project_id}\"\n",
    "    f\"/{config.current_run_id}\"\n",
    ")\n",
    "\n",
    "TEST_STORE_DIR = \"TEST_STORE\"\n",
    "TEST_PATH = f\"{LOCATION}/{TEST_STORE_DIR}\"\n",
    "\n",
    "\n",
    "def patch_object_upload(df, object_name: str) -> None:\n",
    "    \"\"\"\n",
    "    A patch for the object_store.create_project_run_object_from_df so we don't have to\n",
    "    talk to minio for testing\n",
    "    \"\"\"\n",
    "    # separate folder per split (test, train, val) and data type (emb, prob, data)\n",
    "    split, epoch, data_type, file_name = object_name.split(\"/\")[-4:]\n",
    "    export_path = f\"{TEST_PATH}/{split}/{data_type}\"\n",
    "    export_loc = f\"{export_path}/{file_name}\"\n",
    "\n",
    "    if not os.path.isdir(export_path):\n",
    "        os.makedirs(export_path)\n",
    "    df.export_arrow(export_loc)\n",
    "    \n",
    "object_store.create_project_run_object_from_df = patch_object_upload"
   ]
  },
  {
   "cell_type": "code",
   "execution_count": null,
   "id": "95a95b3a",
   "metadata": {},
   "outputs": [],
   "source": [
    "from dataquality.core.integrations.config import GalileoDataConfig, GalileoModelConfig\n",
    "from random import random\n",
    "\n",
    "\n",
    "num_records=4\n",
    "\n",
    "dataquality.log_batch_input_data(GalileoDataConfig(\n",
    "    text=[\"test\",\"test2\",\"test3\",\"test4\"],\n",
    "    labels=[\"false\",\"true\",\"false\",\"true\"],\n",
    "    ids=[1,2,3,4],\n",
    "    split=\"train\"\n",
    "))\n",
    "\n",
    "\n",
    "emb = [[random() for _ in range(20)] for _ in range(num_records)]\n",
    "probs = [[random() for _ in range(4)] for _ in range(num_records)]\n",
    "epoch = 0\n",
    "ids = list(range(num_records))\n",
    "\n",
    "model_config = GalileoModelConfig(\n",
    "    emb=emb, probs=probs, split=\"train\", epoch=epoch, ids=ids\n",
    ")\n",
    "dataquality.log_model_outputs(model_config)"
   ]
  },
  {
   "cell_type": "code",
   "execution_count": null,
   "id": "75a17d78",
   "metadata": {},
   "outputs": [],
   "source": [
    "!ls -lsa .galileo/logs/{proj}/{run}"
   ]
  },
  {
   "cell_type": "code",
   "execution_count": null,
   "id": "fab5ad8d",
   "metadata": {},
   "outputs": [],
   "source": [
    "dataquality.core.finish._upload()"
   ]
  },
  {
   "cell_type": "code",
   "execution_count": null,
   "id": "2969bcd3",
   "metadata": {},
   "outputs": [],
   "source": [
    "!tree .galileo/logs/{proj}/{run}"
   ]
  }
 ],
 "metadata": {
  "kernelspec": {
   "display_name": "Python 3 (ipykernel)",
   "language": "python",
   "name": "python3"
  },
  "language_info": {
   "codemirror_mode": {
    "name": "ipython",
    "version": 3
   },
   "file_extension": ".py",
   "mimetype": "text/x-python",
   "name": "python",
   "nbconvert_exporter": "python",
   "pygments_lexer": "ipython3",
   "version": "3.9.6"
  }
 },
 "nbformat": 4,
 "nbformat_minor": 5
}
