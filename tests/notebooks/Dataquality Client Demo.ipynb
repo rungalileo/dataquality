{
 "cells": [
  {
   "cell_type": "markdown",
   "id": "e7081078",
   "metadata": {},
   "source": [
    "# Welcome to the dataquality client demo\n",
    "\n",
    "### This will be a brief introduction to how the client works and a bit under the hood"
   ]
  },
  {
   "cell_type": "markdown",
   "id": "9716a0d8",
   "metadata": {},
   "source": [
    "## Installing\n",
    "\n",
    "You can currently install dataquality from pypi\n",
    "`pip install dataquality`\n",
    "\n",
    "But for development, you may want to install it from github. This will give you the latest changes in master\n",
    "\n",
    "`pip install git+https://www.github.com/rungalileo/dataquality.git`\n",
    "\n",
    "You can also clone the repo and install from a path. This is recommended for development\n",
    "\n",
    "`pip install /path/to/dataquality/directory`\n",
    "\n",
    "**(It's good to restart the kernel after an install)**"
   ]
  },
  {
   "cell_type": "code",
   "execution_count": 18,
   "id": "a5afe1dd",
   "metadata": {},
   "outputs": [
    {
     "name": "stdout",
     "output_type": "stream",
     "text": [
      "\u001b[33mWARNING: You are using pip version 21.3; however, version 21.3.1 is available.\r\n",
      "You should consider upgrading via the '/Users/benepstein/.pyenv/versions/3.9.6/Library/Frameworks/Python.framework/Versions/3.9/bin/python3.9 -m pip install --upgrade pip' command.\u001b[0m\r\n"
     ]
    }
   ],
   "source": [
    "!pip install -q /Users/benepstein/Documents/GitHub/dataquality"
   ]
  },
  {
   "cell_type": "code",
   "execution_count": 1,
   "id": "92f0b8bb",
   "metadata": {},
   "outputs": [],
   "source": [
    "!pip install -qqq git+https://www.github.com/rungalileo/dataquality.git"
   ]
  },
  {
   "cell_type": "markdown",
   "id": "03c50925",
   "metadata": {},
   "source": [
    "## Components\n",
    "\n",
    "The data quality client is currently very simple. It has just a few components:\n",
    "\n",
    "* logging - the inputs and outputs to your model\n",
    "* config - the urls, usernames, and passwords to interact with the server\n",
    "* init - how you start a new project/run\n",
    "* finish - how you end your run"
   ]
  },
  {
   "cell_type": "markdown",
   "id": "234111dd",
   "metadata": {},
   "source": [
    "## Getting started\n",
    "\n",
    "To get started, simply `import dataquality`<br>\n",
    "If your environment variables are set, your import will pass through. If not, you will be prompted for some url and config variables.<br>\n",
    "\n",
    "To bypass the prompt, set the following environment variables\n",
    "* `GALILEO_API_URL`\n",
    "* `GALILEO_MINIO_URL`\n",
    "* `GALILEO_MINIO_ACCESS_KEY`\n",
    "* `GALILEO_MINIO_SECRET_KEY`\n",
    "* `GALILEO_MINIO_REGION`\n",
    "\n",
    "If you have your server (api, minio, mysql) running locally for development, the following will work\n",
    "```\n",
    "import os\n",
    "\n",
    "os.environ['GALILEO_API_URL']=\"http://localhost:8000\"\n",
    "os.environ['GALILEO_MINIO_URL']=\"127.0.0.1:9000\"\n",
    "os.environ['GALILEO_MINIO_ACCESS_KEY']=\"minioadmin\"\n",
    "os.environ['GALILEO_MINIO_SECRET_KEY']=\"minioadmin\"\n",
    "os.environ['GALILEO_MINIO_REGION']=\"us-east-1\"\n",
    "```\n",
    "\n",
    "If you don't set these environment variables, the client will prompt you for the fields (assuming you're running from the newest code).\n",
    "\n",
    "### How do I get everything running locally??\n",
    "\n",
    "See our [CONTRIBUTING](https://github.com/rungalileo/api/blob/main/CONTRIBUTING.md) doc\n",
    "(When running the API, use the `./scripts/run-gunicorn.sh` - you don't need all of them)"
   ]
  },
  {
   "cell_type": "code",
   "execution_count": 2,
   "id": "9be42940",
   "metadata": {},
   "outputs": [],
   "source": [
    "import os\n",
    "\n",
    "os.environ['GALILEO_API_URL']=\"http://localhost:8088\"\n",
    "os.environ['GALILEO_MINIO_URL']=\"127.0.0.1:9000\"\n",
    "os.environ['GALILEO_MINIO_ACCESS_KEY']=\"minioadmin\"\n",
    "os.environ['GALILEO_MINIO_SECRET_KEY']=\"minioadmin\"\n",
    "os.environ['GALILEO_MINIO_REGION']=\"us-east-1\""
   ]
  },
  {
   "cell_type": "code",
   "execution_count": 3,
   "id": "df5b2ac2",
   "metadata": {},
   "outputs": [],
   "source": [
    "import dataquality"
   ]
  },
  {
   "cell_type": "markdown",
   "id": "c440db27",
   "metadata": {},
   "source": [
    "## Logging in\n",
    "\n",
    "Once you have dataquality imported, you can log into your server and start logging data<br>\n",
    "\n",
    "To log in, you can call `dataquality.login()` <br>\n",
    "This will prompt you for your auth method, email, and password. You can skip this prompt with the following environment variables:\n",
    "\n",
    "* `GALILEO_AUTH_METHOD`\n",
    "* `GALILEO_USERNAME`\n",
    "* `GALILEO_PASSWORD`\n",
    "\n",
    "### How do I create a user?\n",
    "\n",
    "If you are running everything locally, you can do the following\n",
    "\n",
    "```\n",
    "import requests\n",
    "\n",
    "data={\n",
    "  \"email\": \"me@rungalileo.io\",\n",
    "  \"first_name\": \"Me\",\n",
    "  \"last_name\": \"Me\",\n",
    "  \"username\": \"Galileo\",\n",
    "  \"auth_method\": \"email\",\n",
    "  \"password\": \"Th3secret_\"\n",
    "}\n",
    "\n",
    "r = requests.post('http://localhost:8088/users', json=data)\n",
    "r.json()\n",
    "```\n",
    "\n",
    "Then set your env vars\n",
    "```\n",
    "import os\n",
    "\n",
    "os.environ[\"GALILEO_AUTH_METHOD\"]=\"email\"\n",
    "os.environ[\"GALILEO_USERNAME\"]=\"{r.json()['email']}\"\n",
    "os.environ[\"GALILEO_PASSWORD\"]=\"{r.json()['password']}\"\n",
    "```\n",
    "\n",
    "If you don't set these environment variables, the client will prompt you for the fields (assuming you're running from the newest code).\n",
    "\n",
    "Now login\n",
    "\n",
    "```\n",
    "dataquality.login()\n",
    "```\n"
   ]
  },
  {
   "cell_type": "code",
   "execution_count": 1,
   "id": "29192d74",
   "metadata": {},
   "outputs": [],
   "source": [
    "import requests\n",
    "\n",
    "pwd = \"MyPassword!123\"\n",
    "\n",
    "data={\n",
    "  \"email\": \"me@rungalileo.io\",\n",
    "  \"first_name\": \"Me\",\n",
    "  \"last_name\": \"Me\",\n",
    "  \"username\": \"Galileo\",\n",
    "  \"auth_method\": \"email\",\n",
    "  \"password\": pwd\n",
    "}\n",
    "\n",
    "r = requests.post('http://localhost:8088/users', json=data)\n",
    "r.json()\n",
    "\n",
    "import os\n",
    "\n",
    "os.environ[\"GALILEO_AUTH_METHOD\"]=\"email\"\n",
    "os.environ[\"GALILEO_USERNAME\"]=f\"{r.json()['email']}\"\n",
    "os.environ[\"GALILEO_PASSWORD\"]=pwd"
   ]
  },
  {
   "cell_type": "code",
   "execution_count": 4,
   "id": "51b6cf04",
   "metadata": {},
   "outputs": [
    {
     "name": "stdout",
     "output_type": "stream",
     "text": [
      "🔭 Logging you into Galileo\n",
      "\n",
      "👀 Found auth method email set via env, skipping prompt.\n",
      "🚀 You're logged in to Galileo as me@rungalileo.io!\n"
     ]
    }
   ],
   "source": [
    "dataquality.login()"
   ]
  },
  {
   "cell_type": "markdown",
   "id": "c2d3224a",
   "metadata": {},
   "source": [
    "## Start my project/run\n",
    "\n",
    "Now you can start using the tool with `dataquality.init()`<br>\n",
    "\n",
    "You can optionally provide a project name for this run"
   ]
  },
  {
   "cell_type": "code",
   "execution_count": 5,
   "id": "a084759a",
   "metadata": {},
   "outputs": [],
   "source": [
    "dataquality.init?"
   ]
  },
  {
   "cell_type": "code",
   "execution_count": 10,
   "id": "803b260e",
   "metadata": {},
   "outputs": [
    {
     "name": "stdout",
     "output_type": "stream",
     "text": [
      "✨ Initializing project anxious_gold_rooster\n",
      "🏃‍♂️ Starting run safe_tan_puffin\n",
      "🛰 Created project, anxious_gold_rooster, and new run, safe_tan_puffin.\n"
     ]
    }
   ],
   "source": [
    "# Base case\n",
    "dataquality.init()"
   ]
  },
  {
   "cell_type": "code",
   "execution_count": 13,
   "id": "cf4bc01a",
   "metadata": {},
   "outputs": [
    {
     "name": "stdout",
     "output_type": "stream",
     "text": [
      "📡 Retrieved project, a_new_project, and starting a new run\n",
      "🏃‍♂️ Starting run neutral_tomato_wallaby\n",
      "🛰 Connected to project, a_new_project, and created run, neutral_tomato_wallaby.\n"
     ]
    }
   ],
   "source": [
    "# New project, unset run (new)\n",
    "dataquality.init(project_name=\"a_new_project\")"
   ]
  },
  {
   "cell_type": "code",
   "execution_count": 16,
   "id": "800a72dc",
   "metadata": {},
   "outputs": [
    {
     "name": "stdout",
     "output_type": "stream",
     "text": [
      "📡 Retrieved project, a_new_project, and starting a new run\n",
      "🏃‍♂️ Starting run uncertain_tan_halibut\n",
      "🛰 Connected to project, a_new_project, and created run, uncertain_tan_halibut.\n"
     ]
    }
   ],
   "source": [
    "# Existing project, unset run (new)\n",
    "dataquality.init(project_name=\"a_new_project\")"
   ]
  },
  {
   "cell_type": "code",
   "execution_count": 19,
   "id": "bbb2cb2c",
   "metadata": {},
   "outputs": [
    {
     "name": "stdout",
     "output_type": "stream",
     "text": [
      "📡 Retrieving existing run from project, a_new_project\n",
      "🛰 Connected to project, a_new_project, and run, a_new_run.\n"
     ]
    }
   ],
   "source": [
    "# Existing project, new run\n",
    "dataquality.init(project_name=\"a_new_project\", run_name=\"a_new_run\")"
   ]
  },
  {
   "cell_type": "code",
   "execution_count": 25,
   "id": "857160d2",
   "metadata": {},
   "outputs": [
    {
     "name": "stdout",
     "output_type": "stream",
     "text": [
      "📡 Retrieving existing run from project, a_new_project\n",
      "🛰 Connected to project, a_new_project, and run, a_new_run.\n"
     ]
    }
   ],
   "source": [
    "# Existing project, existing run\n",
    "dataquality.init(project_name=\"a_new_project\", run_name=\"a_new_run\")"
   ]
  },
  {
   "cell_type": "code",
   "execution_count": 27,
   "id": "70efebb6",
   "metadata": {},
   "outputs": [
    {
     "name": "stdout",
     "output_type": "stream",
     "text": [
      "📡 Retrieving existing run from project, a_new_project2\n",
      "🛰 Connected to project, a_new_project2, and run, a_new_run2.\n"
     ]
    }
   ],
   "source": [
    "# New project, new run\n",
    "dataquality.init(project_name=\"a_new_project2\", run_name=\"a_new_run2\")"
   ]
  },
  {
   "cell_type": "markdown",
   "id": "8cb849b7",
   "metadata": {},
   "source": [
    "## Log to my project/run\n",
    "\n",
    "Now that you've started your run, all you need to do is log data to it.<br>\n",
    "\n",
    "To make that easier, we've created the `GalileoModelConfig` and `GalileoDataConfig` classes that you can log with. They have smart validators that will tell you if something is wrong.<br>\n",
    "\n",
    "Your `GalileoDataConfig` takes your text, label, and (optional) id fields. If ids aren't provided, we will make them for you.<br>\n",
    "\n",
    "Your `GalileoModelConfig` takes your embedding, probability, and id fields."
   ]
  },
  {
   "cell_type": "code",
   "execution_count": 32,
   "id": "e97884aa",
   "metadata": {
    "scrolled": true
   },
   "outputs": [
    {
     "name": "stdout",
     "output_type": "stream",
     "text": [
      "Help on class GalileoDataConfig in module dataquality.core.integrations.config:\n",
      "\n",
      "class GalileoDataConfig(builtins.object)\n",
      " |  GalileoDataConfig(text: List[str] = None, labels: List[str] = None, ids: List[Union[int, str]] = None, split: dataquality.schemas.split.Split = None) -> None\n",
      " |  \n",
      " |  Class for storing training data metadata to be logged to Galileo. Separate\n",
      " |  GalileoDataConfigs will be created for training, validation, and testing data\n",
      " |  * text: The raw text inputs for model training. List[str]\n",
      " |  * labels: the ground truth labels aligned to each text field. List[Union[str,int]]\n",
      " |  * ids: Optional unique indexes for each record. If not provided, will default to\n",
      " |  the index of the record. Optional[List[Union[int,str]]]\n",
      " |  \n",
      " |  Methods defined here:\n",
      " |  \n",
      " |  __init__(self, text: List[str] = None, labels: List[str] = None, ids: List[Union[int, str]] = None, split: dataquality.schemas.split.Split = None) -> None\n",
      " |      Initialize self.  See help(type(self)) for accurate signature.\n",
      " |  \n",
      " |  __setattr__(self, key: Any, value: Any) -> None\n",
      " |      Implement setattr(self, name, value).\n",
      " |  \n",
      " |  is_valid(self) -> bool\n",
      " |      A function that returns if your GalileoDataConfig is valid or not\n",
      " |      :return: bool\n",
      " |  \n",
      " |  validate(self) -> None\n",
      " |      Validates that the current config is correct.\n",
      " |      * Text and Labels must both exist (unless split is 'inference' in which case\n",
      " |      labels must be None)\n",
      " |      * Text and Labels must be the same length\n",
      " |      * If ids exist, it must be the same length as text/labels\n",
      " |      :return: None\n",
      " |  \n",
      " |  ----------------------------------------------------------------------\n",
      " |  Static methods defined here:\n",
      " |  \n",
      " |  get_valid_attributes() -> List[str]\n",
      " |      Returns a list of valid attributes that GalileoModelConfig accepts\n",
      " |      :return: List[str]\n",
      " |  \n",
      " |  ----------------------------------------------------------------------\n",
      " |  Data descriptors defined here:\n",
      " |  \n",
      " |  __dict__\n",
      " |      dictionary for instance variables (if defined)\n",
      " |  \n",
      " |  __weakref__\n",
      " |      list of weak references to the object (if defined)\n",
      "\n"
     ]
    }
   ],
   "source": [
    "from dataquality.core.integrations.config import GalileoModelConfig, GalileoDataConfig\n",
    "\n",
    "help(GalileoDataConfig)"
   ]
  },
  {
   "cell_type": "code",
   "execution_count": 36,
   "id": "637595c3",
   "metadata": {
    "scrolled": true
   },
   "outputs": [
    {
     "name": "stdout",
     "output_type": "stream",
     "text": [
      "Help on class GalileoModelConfig in module dataquality.core.integrations.config:\n",
      "\n",
      "class GalileoModelConfig(builtins.object)\n",
      " |  GalileoModelConfig(emb: List[List[Union[int, float]]] = None, probs: List[List[float]] = None, ids: List[Union[int, str]] = None, split: Optional[str] = None, epoch: Optional[int] = None) -> None\n",
      " |  \n",
      " |  Class for storing model metadata to be logged to Galileo.\n",
      " |  * Embeddings: List[List[Union[int,float]]]\n",
      " |  * Probabilities from forward passes during model training/evaluation.\n",
      " |  List[List[float]]\n",
      " |  * ids: Indexes of each input field: List[Union[int,str]]\n",
      " |  \n",
      " |  Methods defined here:\n",
      " |  \n",
      " |  __init__(self, emb: List[List[Union[int, float]]] = None, probs: List[List[float]] = None, ids: List[Union[int, str]] = None, split: Optional[str] = None, epoch: Optional[int] = None) -> None\n",
      " |      Initialize self.  See help(type(self)) for accurate signature.\n",
      " |  \n",
      " |  __setattr__(self, key: Any, value: Any) -> None\n",
      " |      Implement setattr(self, name, value).\n",
      " |  \n",
      " |  is_valid(self) -> bool\n",
      " |      A function that returns if your GalileoModelConfig is valid or not\n",
      " |      :return: bool\n",
      " |  \n",
      " |  validate(self) -> None\n",
      " |      Validates that the current config is correct.\n",
      " |      * emb, probs, and ids must exist and be the same length\n",
      " |      :return:\n",
      " |  \n",
      " |  ----------------------------------------------------------------------\n",
      " |  Static methods defined here:\n",
      " |  \n",
      " |  get_valid_attributes() -> List[str]\n",
      " |      Returns a list of valid attributes that GalileoModelConfig accepts\n",
      " |      :return: List[str]\n",
      " |  \n",
      " |  ----------------------------------------------------------------------\n",
      " |  Data descriptors defined here:\n",
      " |  \n",
      " |  __dict__\n",
      " |      dictionary for instance variables (if defined)\n",
      " |  \n",
      " |  __weakref__\n",
      " |      list of weak references to the object (if defined)\n",
      "\n"
     ]
    }
   ],
   "source": [
    "help(GalileoModelConfig)"
   ]
  },
  {
   "cell_type": "markdown",
   "id": "d086f3dd",
   "metadata": {},
   "source": [
    "### Use them to log data\n",
    "\n",
    "We use the `log_batch_input_data` and `log_model_outputs` to log our metadata"
   ]
  },
  {
   "cell_type": "code",
   "execution_count": 91,
   "id": "1db00ed5",
   "metadata": {},
   "outputs": [
    {
     "name": "stdout",
     "output_type": "stream",
     "text": [
      "✨ Initializing project visual_blush_wallaby\n",
      "🏃‍♂️ Starting run innocent_emerald_caribou\n",
      "🛰 Created project, visual_blush_wallaby, and new run, innocent_emerald_caribou.\n"
     ]
    }
   ],
   "source": [
    "dataquality.init()"
   ]
  },
  {
   "cell_type": "code",
   "execution_count": 92,
   "id": "b2af2357",
   "metadata": {},
   "outputs": [],
   "source": [
    "from sklearn.datasets import fetch_20newsgroups\n",
    "import pandas as pd\n",
    "\n",
    "newsgroups = fetch_20newsgroups(subset=\"train\", remove=('headers', 'footers', 'quotes'))\n",
    "\n",
    "dataset = pd.DataFrame()\n",
    "dataset[\"text\"] = newsgroups.data\n",
    "label_ind = newsgroups.target_names\n",
    "dataset[\"label\"] = [label_ind[i] for i in newsgroups.target]\n",
    "dataset = dataset[:5]\n",
    "\n",
    "data_conf = GalileoDataConfig(text=dataset['text'], labels=dataset['label'], split=\"train\")\n",
    "\n",
    "dataquality.log_batch_input_data(data_conf)"
   ]
  },
  {
   "cell_type": "code",
   "execution_count": 93,
   "id": "ecc3949c",
   "metadata": {
    "scrolled": true
   },
   "outputs": [
    {
     "ename": "GalileoException",
     "evalue": "labels and text must be the same length, but got(labels, text) (3,5)",
     "output_type": "error",
     "traceback": [
      "\u001b[0;31m---------------------------------------------------------------------------\u001b[0m",
      "\u001b[0;31mAssertionError\u001b[0m                            Traceback (most recent call last)",
      "\u001b[0;32m~/.pyenv/versions/3.9.6/Library/Frameworks/Python.framework/Versions/3.9/lib/python3.9/site-packages/dataquality/core/log.py\u001b[0m in \u001b[0;36mlog_batch_input_data\u001b[0;34m(data)\u001b[0m\n\u001b[1;32m     59\u001b[0m     \u001b[0;32mtry\u001b[0m\u001b[0;34m:\u001b[0m\u001b[0;34m\u001b[0m\u001b[0;34m\u001b[0m\u001b[0m\n\u001b[0;32m---> 60\u001b[0;31m         \u001b[0mdata\u001b[0m\u001b[0;34m.\u001b[0m\u001b[0mvalidate\u001b[0m\u001b[0;34m(\u001b[0m\u001b[0;34m)\u001b[0m\u001b[0;34m\u001b[0m\u001b[0;34m\u001b[0m\u001b[0m\n\u001b[0m\u001b[1;32m     61\u001b[0m     \u001b[0;32mexcept\u001b[0m \u001b[0mAssertionError\u001b[0m \u001b[0;32mas\u001b[0m \u001b[0me\u001b[0m\u001b[0;34m:\u001b[0m\u001b[0;34m\u001b[0m\u001b[0;34m\u001b[0m\u001b[0m\n",
      "\u001b[0;32m~/.pyenv/versions/3.9.6/Library/Frameworks/Python.framework/Versions/3.9/lib/python3.9/site-packages/dataquality/core/integrations/config.py\u001b[0m in \u001b[0;36mvalidate\u001b[0;34m(self)\u001b[0m\n\u001b[1;32m    206\u001b[0m \u001b[0;34m\u001b[0m\u001b[0m\n\u001b[0;32m--> 207\u001b[0;31m             assert text_len == label_len, (\n\u001b[0m\u001b[1;32m    208\u001b[0m                 \u001b[0;34mf\"labels and text must be the same length, but got\"\u001b[0m\u001b[0;34m\u001b[0m\u001b[0;34m\u001b[0m\u001b[0m\n",
      "\u001b[0;31mAssertionError\u001b[0m: labels and text must be the same length, but got(labels, text) (3,5)",
      "\nDuring handling of the above exception, another exception occurred:\n",
      "\u001b[0;31mGalileoException\u001b[0m                          Traceback (most recent call last)",
      "\u001b[0;32m/var/folders/3d/d0dl2ykn6c18qg7kg_j7tplm0000gn/T/ipykernel_14057/2748804931.py\u001b[0m in \u001b[0;36m<module>\u001b[0;34m\u001b[0m\n\u001b[1;32m      4\u001b[0m \u001b[0mbad_data_conf\u001b[0m \u001b[0;34m=\u001b[0m \u001b[0mGalileoDataConfig\u001b[0m\u001b[0;34m(\u001b[0m\u001b[0mtext\u001b[0m\u001b[0;34m=\u001b[0m\u001b[0mdataset\u001b[0m\u001b[0;34m[\u001b[0m\u001b[0;34m'text'\u001b[0m\u001b[0;34m]\u001b[0m\u001b[0;34m,\u001b[0m \u001b[0mlabels\u001b[0m\u001b[0;34m=\u001b[0m\u001b[0mdataset\u001b[0m\u001b[0;34m[\u001b[0m\u001b[0;34m'label'\u001b[0m\u001b[0;34m]\u001b[0m\u001b[0;34m[\u001b[0m\u001b[0;34m:\u001b[0m\u001b[0;36m3\u001b[0m\u001b[0;34m]\u001b[0m\u001b[0;34m,\u001b[0m \u001b[0msplit\u001b[0m\u001b[0;34m=\u001b[0m\u001b[0;34m\"train\"\u001b[0m\u001b[0;34m)\u001b[0m\u001b[0;34m\u001b[0m\u001b[0;34m\u001b[0m\u001b[0m\n\u001b[1;32m      5\u001b[0m \u001b[0;34m\u001b[0m\u001b[0m\n\u001b[0;32m----> 6\u001b[0;31m \u001b[0mdataquality\u001b[0m\u001b[0;34m.\u001b[0m\u001b[0mlog_batch_input_data\u001b[0m\u001b[0;34m(\u001b[0m\u001b[0mbad_data_conf\u001b[0m\u001b[0;34m)\u001b[0m\u001b[0;34m\u001b[0m\u001b[0;34m\u001b[0m\u001b[0m\n\u001b[0m",
      "\u001b[0;32m~/.pyenv/versions/3.9.6/Library/Frameworks/Python.framework/Versions/3.9/lib/python3.9/site-packages/dataquality/core/log.py\u001b[0m in \u001b[0;36mlog_batch_input_data\u001b[0;34m(data)\u001b[0m\n\u001b[1;32m     60\u001b[0m         \u001b[0mdata\u001b[0m\u001b[0;34m.\u001b[0m\u001b[0mvalidate\u001b[0m\u001b[0;34m(\u001b[0m\u001b[0;34m)\u001b[0m\u001b[0;34m\u001b[0m\u001b[0;34m\u001b[0m\u001b[0m\n\u001b[1;32m     61\u001b[0m     \u001b[0;32mexcept\u001b[0m \u001b[0mAssertionError\u001b[0m \u001b[0;32mas\u001b[0m \u001b[0me\u001b[0m\u001b[0;34m:\u001b[0m\u001b[0;34m\u001b[0m\u001b[0;34m\u001b[0m\u001b[0m\n\u001b[0;32m---> 62\u001b[0;31m         \u001b[0;32mraise\u001b[0m \u001b[0mGalileoException\u001b[0m\u001b[0;34m(\u001b[0m\u001b[0me\u001b[0m\u001b[0;34m)\u001b[0m\u001b[0;34m\u001b[0m\u001b[0;34m\u001b[0m\u001b[0m\n\u001b[0m\u001b[1;32m     63\u001b[0m     \u001b[0;32mfor\u001b[0m \u001b[0midx\u001b[0m\u001b[0;34m,\u001b[0m \u001b[0mtext\u001b[0m\u001b[0;34m,\u001b[0m \u001b[0mlabel\u001b[0m \u001b[0;32min\u001b[0m \u001b[0mzip\u001b[0m\u001b[0;34m(\u001b[0m\u001b[0mdata\u001b[0m\u001b[0;34m.\u001b[0m\u001b[0mids\u001b[0m\u001b[0;34m,\u001b[0m \u001b[0mdata\u001b[0m\u001b[0;34m.\u001b[0m\u001b[0mtext\u001b[0m\u001b[0;34m,\u001b[0m \u001b[0mdata\u001b[0m\u001b[0;34m.\u001b[0m\u001b[0mlabels\u001b[0m\u001b[0;34m)\u001b[0m\u001b[0;34m:\u001b[0m\u001b[0;34m\u001b[0m\u001b[0;34m\u001b[0m\u001b[0m\n\u001b[1;32m     64\u001b[0m         log_input_data(\n",
      "\u001b[0;31mGalileoException\u001b[0m: labels and text must be the same length, but got(labels, text) (3,5)"
     ]
    }
   ],
   "source": [
    "## See what happens with an invalid data config\n",
    "\n",
    "# Labels and text inputs dont match in shape\n",
    "bad_data_conf = GalileoDataConfig(text=dataset['text'], labels=dataset['label'][:3], split=\"train\")\n",
    "\n",
    "dataquality.log_batch_input_data(bad_data_conf)"
   ]
  },
  {
   "cell_type": "code",
   "execution_count": 94,
   "id": "84c5560a",
   "metadata": {
    "scrolled": true
   },
   "outputs": [],
   "source": [
    "import numpy as np\n",
    "\n",
    "# Generate fake model outputs\n",
    "def log_fake_data():\n",
    "    emb = np.random.rand(len(dataset), 800)\n",
    "    prob = np.random.rand(len(dataset), 20)\n",
    "    split = \"train\"\n",
    "    epoch = 0\n",
    "\n",
    "    model_conf = GalileoModelConfig(emb=emb, probs=prob, split=split, epoch=epoch, ids=list(range(len(dataset))))\n",
    "    dataquality.log_model_outputs(model_conf)\n",
    "\n",
    "log_fake_data()"
   ]
  },
  {
   "cell_type": "code",
   "execution_count": 95,
   "id": "9ae89fb2",
   "metadata": {},
   "outputs": [
    {
     "name": "stdout",
     "output_type": "stream",
     "text": [
      "\u001b[01;34m.galileo/logs/1724d7cf-8c8e-4a1a-ae79-b971645a7446/e2677774-9190-446f-8689-e53841bef758\u001b[00m\r\n",
      "├── input_data.jsonl\r\n",
      "└── \u001b[01;34mtraining\u001b[00m\r\n",
      "    └── \u001b[01;34m0\u001b[00m\r\n",
      "        ├── \u001b[01;34mdata\u001b[00m\r\n",
      "        │   └── bd1a65d7c8ce.arrow\r\n",
      "        ├── \u001b[01;34memb\u001b[00m\r\n",
      "        │   └── bd1a65d7c8ce.arrow\r\n",
      "        └── \u001b[01;34mprob\u001b[00m\r\n",
      "            └── bd1a65d7c8ce.arrow\r\n",
      "\r\n",
      "5 directories, 4 files\r\n"
     ]
    }
   ],
   "source": [
    "!tree .galileo/logs/{dataquality.config.current_project_id}/{dataquality.config.current_run_id}"
   ]
  },
  {
   "cell_type": "markdown",
   "id": "3af65e13",
   "metadata": {},
   "source": [
    "### What happened?\n",
    "\n",
    "When you call `log_batch_input_data` you are logging the input data for this training job. This would typically be run once (per split).<br>\n",
    "\n",
    "Then, as you train your model in batches, each call to `log_model_outputs` takes the data in that batch, joins it to the input data, and stores it in 3 files, data, emb, and prob.<br>\n",
    "\n",
    "If we were to log another fake dataset to this, we'd see another file in each dir (under the epoch we set).\n",
    "\n",
    "The file names in each subdir will match so we can join them at the end"
   ]
  },
  {
   "cell_type": "code",
   "execution_count": 96,
   "id": "61e4875c",
   "metadata": {},
   "outputs": [],
   "source": [
    "log_fake_data()"
   ]
  },
  {
   "cell_type": "code",
   "execution_count": 97,
   "id": "0a55f02c",
   "metadata": {},
   "outputs": [
    {
     "name": "stdout",
     "output_type": "stream",
     "text": [
      "\u001b[01;34m.galileo/logs/1724d7cf-8c8e-4a1a-ae79-b971645a7446/e2677774-9190-446f-8689-e53841bef758\u001b[00m\r\n",
      "├── input_data.jsonl\r\n",
      "└── \u001b[01;34mtraining\u001b[00m\r\n",
      "    └── \u001b[01;34m0\u001b[00m\r\n",
      "        ├── \u001b[01;34mdata\u001b[00m\r\n",
      "        │   ├── bd1a65d7c8ce.arrow\r\n",
      "        │   └── c1c1fbb45da1.arrow\r\n",
      "        ├── \u001b[01;34memb\u001b[00m\r\n",
      "        │   ├── bd1a65d7c8ce.arrow\r\n",
      "        │   └── c1c1fbb45da1.arrow\r\n",
      "        └── \u001b[01;34mprob\u001b[00m\r\n",
      "            ├── bd1a65d7c8ce.arrow\r\n",
      "            └── c1c1fbb45da1.arrow\r\n",
      "\r\n",
      "5 directories, 7 files\r\n"
     ]
    }
   ],
   "source": [
    "!tree .galileo/logs/{dataquality.config.current_project_id}/{dataquality.config.current_run_id}"
   ]
  },
  {
   "cell_type": "markdown",
   "id": "48325087",
   "metadata": {},
   "source": [
    "## How do I see my results in the UI?\n",
    "\n",
    "Simply set your labels (`set_labels_for_run`) and call `finish()`\n",
    "\n",
    "Once called, the data will be joined together at a _per-epoch_ level, and added to minio, with one file for each `prob`, `emb`, and `data` per split/epoch. \n",
    "\n",
    "A job will be kicked off to process you data on the server, and after it's done you'll see your results inv the UI\n",
    "\n",
    "#### Why do I need to set my labels?\n",
    "\n",
    "Since your model is simply outputting probabilities, we have no way to map the index of each prediction to the model output. Setting your labels enables us to map them so you can see the meaningful values in the UI.<br>\n",
    "\n",
    "If you have the UI running, you should see it at the URL returned.\n",
    "\n",
    "**Note:** Check out your local API logs to see the background job!"
   ]
  },
  {
   "cell_type": "code",
   "execution_count": 98,
   "id": "cbc218af",
   "metadata": {},
   "outputs": [
    {
     "name": "stdout",
     "output_type": "stream",
     "text": [
      "☁️ Uploading Data\n",
      "🧹 Cleaning up\n",
      "Job default successfully submitted.\n"
     ]
    },
    {
     "data": {
      "text/plain": [
       "{'project_id': '1724d7cf-8c8e-4a1a-ae79-b971645a7446',\n",
       " 'run_id': 'e2677774-9190-446f-8689-e53841bef758',\n",
       " 'proc_name': 'default',\n",
       " 'labels': ['alt.atheism',\n",
       "  'comp.graphics',\n",
       "  'comp.os.ms-windows.misc',\n",
       "  'comp.sys.ibm.pc.hardware',\n",
       "  'comp.sys.mac.hardware',\n",
       "  'comp.windows.x',\n",
       "  'misc.forsale',\n",
       "  'rec.autos',\n",
       "  'rec.motorcycles',\n",
       "  'rec.sport.baseball',\n",
       "  'rec.sport.hockey',\n",
       "  'sci.crypt',\n",
       "  'sci.electronics',\n",
       "  'sci.med',\n",
       "  'sci.space',\n",
       "  'soc.religion.christian',\n",
       "  'talk.politics.guns',\n",
       "  'talk.politics.mideast',\n",
       "  'talk.politics.misc',\n",
       "  'talk.religion.misc'],\n",
       " 'message': 'Processing dataquality!',\n",
       " 'link': 'http://127.0.0.1:3000/projects/1724d7cf-8c8e-4a1a-ae79-b971645a7446/runs/e2677774-9190-446f-8689-e53841bef758'}"
      ]
     },
     "execution_count": 98,
     "metadata": {},
     "output_type": "execute_result"
    }
   ],
   "source": [
    "dataquality.set_labels_for_run(newsgroups.target_names)\n",
    "dataquality.finish()"
   ]
  },
  {
   "cell_type": "code",
   "execution_count": 100,
   "id": "b2131b4a",
   "metadata": {},
   "outputs": [
    {
     "data": {
      "text/plain": [
       "{'name': 'a_new_run2',\n",
       " 'project_id': '140fd905-1efd-4adf-b929-f962364f056d',\n",
       " 'id': 'b034c5de-1295-4800-8a44-7ecaf6d49638',\n",
       " 'created_at': '2021-11-15T19:23:40.513716',\n",
       " 'updated_at': '2021-11-15T19:23:40.513880'}"
      ]
     },
     "execution_count": 100,
     "metadata": {},
     "output_type": "execute_result"
    }
   ],
   "source": [
    "from dataquality.core.init import _Init\n",
    "\n",
    "client = _Init()\n",
    "client.get_project_run_by_name_for_user(\"a_new_project2\", \"a_new_run2\")\n"
   ]
  },
  {
   "cell_type": "code",
   "execution_count": null,
   "id": "a0cba10e",
   "metadata": {},
   "outputs": [],
   "source": []
  }
 ],
 "metadata": {
  "kernelspec": {
   "display_name": "Python 3 (ipykernel)",
   "language": "python",
   "name": "python3"
  },
  "language_info": {
   "codemirror_mode": {
    "name": "ipython",
    "version": 3
   },
   "file_extension": ".py",
   "mimetype": "text/x-python",
   "name": "python",
   "nbconvert_exporter": "python",
   "pygments_lexer": "ipython3",
   "version": "3.9.6"
  }
 },
 "nbformat": 4,
 "nbformat_minor": 5
}
