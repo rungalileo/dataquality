{
 "cells": [
  {
   "cell_type": "markdown",
   "id": "e7081078",
   "metadata": {},
   "source": [
    "# Welcome to the dataquality client demo\n",
    "\n",
    "### This will be a brief introduction to how the client works and a bit under the hood"
   ]
  },
  {
   "cell_type": "markdown",
   "id": "9716a0d8",
   "metadata": {},
   "source": [
    "## Installing\n",
    "\n",
    "You can currently install dataquality from pypi\n",
    "`pip install dataquality`\n",
    "\n",
    "But for development, you may want to install it from github. This will give you the latest changes in master\n",
    "\n",
    "`pip install git+https://www.github.com/rungalileo/dataquality.git`\n",
    "\n",
    "You can also clone the repo and install from a path. This is recommended for development\n",
    "\n",
    "`pip install /path/to/dataquality/directory`\n",
    "\n",
    "**(It's good to restart the kernel after an install)**"
   ]
  },
  {
   "cell_type": "code",
   "execution_count": null,
   "id": "a5afe1dd",
   "metadata": {},
   "outputs": [],
   "source": [
    "!pip install -q /path/to/dataquality"
   ]
  },
  {
   "cell_type": "code",
   "execution_count": 6,
   "id": "5b8e7ff1",
   "metadata": {},
   "outputs": [
    {
     "name": "stdout",
     "output_type": "stream",
     "text": [
      "Processing /Users/benepstein/Documents/GitHub/dataquality\n",
      "  Installing build dependencies ... \u001b[?25ldone\n",
      "\u001b[?25h  Getting requirements to build wheel ... \u001b[?25ldone\n",
      "\u001b[?25h  Installing backend dependencies ... \u001b[?25ldone\n",
      "\u001b[?25h  Preparing metadata (pyproject.toml) ... \u001b[?25ldone\n",
      "\u001b[?25hRequirement already satisfied: jsonlines==2.0.0 in /Users/benepstein/Documents/GitHub/dataquality/.venv/lib/python3.9/site-packages (from dataquality==0.0.4) (2.0.0)\n",
      "Requirement already satisfied: pandas>=0.20.0 in /Users/benepstein/Documents/GitHub/dataquality/.venv/lib/python3.9/site-packages (from dataquality==0.0.4) (1.3.4)\n",
      "Requirement already satisfied: resource==0.2.1 in /Users/benepstein/Documents/GitHub/dataquality/.venv/lib/python3.9/site-packages (from dataquality==0.0.4) (0.2.1)\n",
      "Requirement already satisfied: requests==2.26.0 in /Users/benepstein/Documents/GitHub/dataquality/.venv/lib/python3.9/site-packages (from dataquality==0.0.4) (2.26.0)\n",
      "Requirement already satisfied: minio==7.1.0 in /Users/benepstein/Documents/GitHub/dataquality/.venv/lib/python3.9/site-packages (from dataquality==0.0.4) (7.1.0)\n",
      "Requirement already satisfied: diskcache==5.2.1 in /Users/benepstein/Documents/GitHub/dataquality/.venv/lib/python3.9/site-packages (from dataquality==0.0.4) (5.2.1)\n",
      "Requirement already satisfied: types-requests==2.25.2 in /Users/benepstein/Documents/GitHub/dataquality/.venv/lib/python3.9/site-packages (from dataquality==0.0.4) (2.25.2)\n",
      "Requirement already satisfied: pyarrow==5.0.0 in /Users/benepstein/Documents/GitHub/dataquality/.venv/lib/python3.9/site-packages (from dataquality==0.0.4) (5.0.0)\n",
      "Requirement already satisfied: tqdm==4.62.3 in /Users/benepstein/Documents/GitHub/dataquality/.venv/lib/python3.9/site-packages (from dataquality==0.0.4) (4.62.3)\n",
      "Requirement already satisfied: gorilla==0.3.0 in /Users/benepstein/Documents/GitHub/dataquality/.venv/lib/python3.9/site-packages (from dataquality==0.0.4) (0.3.0)\n",
      "Requirement already satisfied: blake3==0.2.1 in /Users/benepstein/Documents/GitHub/dataquality/.venv/lib/python3.9/site-packages (from dataquality==0.0.4) (0.2.1)\n",
      "Requirement already satisfied: vaex-core==4.7.0.post1 in /Users/benepstein/Documents/GitHub/dataquality/.venv/lib/python3.9/site-packages (from dataquality==0.0.4) (4.7.0.post1)\n",
      "Requirement already satisfied: vaex-hdf5==0.11.1 in /Users/benepstein/Documents/GitHub/dataquality/.venv/lib/python3.9/site-packages (from dataquality==0.0.4) (0.11.1)\n",
      "Requirement already satisfied: pydantic==1.8.2 in /Users/benepstein/Documents/GitHub/dataquality/.venv/lib/python3.9/site-packages (from dataquality==0.0.4) (1.8.2)\n",
      "Requirement already satisfied: certifi in /Users/benepstein/Documents/GitHub/dataquality/.venv/lib/python3.9/site-packages (from minio==7.1.0->dataquality==0.0.4) (2021.10.8)\n",
      "Requirement already satisfied: urllib3 in /Users/benepstein/Documents/GitHub/dataquality/.venv/lib/python3.9/site-packages (from minio==7.1.0->dataquality==0.0.4) (1.26.7)\n",
      "Requirement already satisfied: numpy>=1.16.6 in /Users/benepstein/Documents/GitHub/dataquality/.venv/lib/python3.9/site-packages (from pyarrow==5.0.0->dataquality==0.0.4) (1.21.4)\n",
      "Requirement already satisfied: typing-extensions>=3.7.4.3 in /Users/benepstein/Documents/GitHub/dataquality/.venv/lib/python3.9/site-packages (from pydantic==1.8.2->dataquality==0.0.4) (4.0.1)\n",
      "Requirement already satisfied: charset-normalizer~=2.0.0 in /Users/benepstein/Documents/GitHub/dataquality/.venv/lib/python3.9/site-packages (from requests==2.26.0->dataquality==0.0.4) (2.0.9)\n",
      "Requirement already satisfied: idna<4,>=2.5 in /Users/benepstein/Documents/GitHub/dataquality/.venv/lib/python3.9/site-packages (from requests==2.26.0->dataquality==0.0.4) (3.3)\n",
      "Requirement already satisfied: JsonSir>=0.0.2 in /Users/benepstein/Documents/GitHub/dataquality/.venv/lib/python3.9/site-packages (from resource==0.2.1->dataquality==0.0.4) (0.0.2)\n",
      "Requirement already satisfied: python-easyconfig>=0.1.0 in /Users/benepstein/Documents/GitHub/dataquality/.venv/lib/python3.9/site-packages (from resource==0.2.1->dataquality==0.0.4) (0.1.7)\n",
      "Requirement already satisfied: JsonForm>=0.0.2 in /Users/benepstein/Documents/GitHub/dataquality/.venv/lib/python3.9/site-packages (from resource==0.2.1->dataquality==0.0.4) (0.0.2)\n",
      "Requirement already satisfied: rich in /Users/benepstein/Documents/GitHub/dataquality/.venv/lib/python3.9/site-packages (from vaex-core==4.7.0.post1->dataquality==0.0.4) (10.16.2)\n",
      "Requirement already satisfied: cloudpickle in /Users/benepstein/Documents/GitHub/dataquality/.venv/lib/python3.9/site-packages (from vaex-core==4.7.0.post1->dataquality==0.0.4) (2.0.0)\n",
      "Requirement already satisfied: six in /Users/benepstein/Documents/GitHub/dataquality/.venv/lib/python3.9/site-packages (from vaex-core==4.7.0.post1->dataquality==0.0.4) (1.16.0)\n",
      "Requirement already satisfied: frozendict in /Users/benepstein/Documents/GitHub/dataquality/.venv/lib/python3.9/site-packages (from vaex-core==4.7.0.post1->dataquality==0.0.4) (2.1.1)\n",
      "Requirement already satisfied: progressbar2 in /Users/benepstein/Documents/GitHub/dataquality/.venv/lib/python3.9/site-packages (from vaex-core==4.7.0.post1->dataquality==0.0.4) (3.55.0)\n",
      "Requirement already satisfied: dask in /Users/benepstein/Documents/GitHub/dataquality/.venv/lib/python3.9/site-packages (from vaex-core==4.7.0.post1->dataquality==0.0.4) (2021.11.2)\n",
      "Requirement already satisfied: aplus in /Users/benepstein/Documents/GitHub/dataquality/.venv/lib/python3.9/site-packages (from vaex-core==4.7.0.post1->dataquality==0.0.4) (0.11.0)\n",
      "Requirement already satisfied: tabulate>=0.8.3 in /Users/benepstein/Documents/GitHub/dataquality/.venv/lib/python3.9/site-packages (from vaex-core==4.7.0.post1->dataquality==0.0.4) (0.8.9)\n",
      "Requirement already satisfied: filelock in /Users/benepstein/Documents/GitHub/dataquality/.venv/lib/python3.9/site-packages (from vaex-core==4.7.0.post1->dataquality==0.0.4) (3.4.0)\n",
      "Requirement already satisfied: pyyaml in /Users/benepstein/Documents/GitHub/dataquality/.venv/lib/python3.9/site-packages (from vaex-core==4.7.0.post1->dataquality==0.0.4) (6.0)\n",
      "Requirement already satisfied: nest-asyncio>=1.3.3 in /Users/benepstein/Documents/GitHub/dataquality/.venv/lib/python3.9/site-packages (from vaex-core==4.7.0.post1->dataquality==0.0.4) (1.5.4)\n",
      "Requirement already satisfied: future>=0.15.2 in /Users/benepstein/Documents/GitHub/dataquality/.venv/lib/python3.9/site-packages (from vaex-core==4.7.0.post1->dataquality==0.0.4) (0.18.2)\n",
      "Requirement already satisfied: h5py>=2.9 in /Users/benepstein/Documents/GitHub/dataquality/.venv/lib/python3.9/site-packages (from vaex-hdf5==0.11.1->dataquality==0.0.4) (3.6.0)\n",
      "Requirement already satisfied: python-dateutil>=2.7.3 in /Users/benepstein/Documents/GitHub/dataquality/.venv/lib/python3.9/site-packages (from pandas>=0.20.0->dataquality==0.0.4) (2.8.2)\n",
      "Requirement already satisfied: pytz>=2017.3 in /Users/benepstein/Documents/GitHub/dataquality/.venv/lib/python3.9/site-packages (from pandas>=0.20.0->dataquality==0.0.4) (2021.3)\n",
      "Requirement already satisfied: jsonschema in /Users/benepstein/Documents/GitHub/dataquality/.venv/lib/python3.9/site-packages (from JsonForm>=0.0.2->resource==0.2.1->dataquality==0.0.4) (4.2.1)\n",
      "Requirement already satisfied: fsspec>=0.6.0 in /Users/benepstein/Documents/GitHub/dataquality/.venv/lib/python3.9/site-packages (from dask->vaex-core==4.7.0.post1->dataquality==0.0.4) (2021.11.1)\n",
      "Requirement already satisfied: packaging>=20.0 in /Users/benepstein/Documents/GitHub/dataquality/.venv/lib/python3.9/site-packages (from dask->vaex-core==4.7.0.post1->dataquality==0.0.4) (21.3)\n",
      "Requirement already satisfied: partd>=0.3.10 in /Users/benepstein/Documents/GitHub/dataquality/.venv/lib/python3.9/site-packages (from dask->vaex-core==4.7.0.post1->dataquality==0.0.4) (1.2.0)\n",
      "Requirement already satisfied: toolz>=0.8.2 in /Users/benepstein/Documents/GitHub/dataquality/.venv/lib/python3.9/site-packages (from dask->vaex-core==4.7.0.post1->dataquality==0.0.4) (0.11.2)\n",
      "Requirement already satisfied: python-utils>=2.3.0 in /Users/benepstein/Documents/GitHub/dataquality/.venv/lib/python3.9/site-packages (from progressbar2->vaex-core==4.7.0.post1->dataquality==0.0.4) (2.5.6)\n",
      "Requirement already satisfied: commonmark<0.10.0,>=0.9.0 in /Users/benepstein/Documents/GitHub/dataquality/.venv/lib/python3.9/site-packages (from rich->vaex-core==4.7.0.post1->dataquality==0.0.4) (0.9.1)\n",
      "Requirement already satisfied: pygments<3.0.0,>=2.6.0 in /Users/benepstein/Documents/GitHub/dataquality/.venv/lib/python3.9/site-packages (from rich->vaex-core==4.7.0.post1->dataquality==0.0.4) (2.10.0)\n",
      "Requirement already satisfied: colorama<0.5.0,>=0.4.0 in /Users/benepstein/Documents/GitHub/dataquality/.venv/lib/python3.9/site-packages (from rich->vaex-core==4.7.0.post1->dataquality==0.0.4) (0.4.4)\n"
     ]
    },
    {
     "name": "stdout",
     "output_type": "stream",
     "text": [
      "Requirement already satisfied: pyparsing!=3.0.5,>=2.0.2 in /Users/benepstein/Documents/GitHub/dataquality/.venv/lib/python3.9/site-packages (from packaging>=20.0->dask->vaex-core==4.7.0.post1->dataquality==0.0.4) (3.0.6)\n",
      "Requirement already satisfied: locket in /Users/benepstein/Documents/GitHub/dataquality/.venv/lib/python3.9/site-packages (from partd>=0.3.10->dask->vaex-core==4.7.0.post1->dataquality==0.0.4) (0.2.1)\n",
      "Requirement already satisfied: pyrsistent!=0.17.0,!=0.17.1,!=0.17.2,>=0.14.0 in /Users/benepstein/Documents/GitHub/dataquality/.venv/lib/python3.9/site-packages (from jsonschema->JsonForm>=0.0.2->resource==0.2.1->dataquality==0.0.4) (0.18.0)\n",
      "Requirement already satisfied: attrs>=17.4.0 in /Users/benepstein/Documents/GitHub/dataquality/.venv/lib/python3.9/site-packages (from jsonschema->JsonForm>=0.0.2->resource==0.2.1->dataquality==0.0.4) (21.2.0)\n",
      "Building wheels for collected packages: dataquality\n",
      "  Building wheel for dataquality (pyproject.toml) ... \u001b[?25ldone\n",
      "\u001b[?25h  Created wheel for dataquality: filename=dataquality-0.0.4-py3-none-any.whl size=48594 sha256=788568b60060000f779ee4a7a11f8aeb9b7cdd9fe6c5a1d38376d997c3772b0b\n",
      "  Stored in directory: /private/var/folders/3d/d0dl2ykn6c18qg7kg_j7tplm0000gn/T/pip-ephem-wheel-cache-bjdrmqd8/wheels/6d/01/5c/5a5e4c4f4d3ea2066d07fb7f93b690fdf5530f314a686cc929\n",
      "Successfully built dataquality\n",
      "Installing collected packages: dataquality\n",
      "  Attempting uninstall: dataquality\n",
      "    Found existing installation: dataquality 0.0.4\n",
      "    Uninstalling dataquality-0.0.4:\n",
      "      Successfully uninstalled dataquality-0.0.4\n",
      "Successfully installed dataquality-0.0.4\n"
     ]
    }
   ],
   "source": [
    "# If you have cloned the dataquality repo and are running this from the tests/notebooks folder, you can run this\n",
    "!pip install ../../../dataquality"
   ]
  },
  {
   "cell_type": "code",
   "execution_count": null,
   "id": "92f0b8bb",
   "metadata": {},
   "outputs": [],
   "source": [
    "!pip install -qqq git+https://www.github.com/rungalileo/dataquality.git"
   ]
  },
  {
   "cell_type": "markdown",
   "id": "03c50925",
   "metadata": {},
   "source": [
    "## Components\n",
    "\n",
    "The data quality client is currently very simple. It has just a few components:\n",
    "\n",
    "* logging - the inputs and outputs to your model\n",
    "* config - the urls, usernames, and passwords to interact with the server\n",
    "* init - how you start a new project/run\n",
    "* finish - how you end your run"
   ]
  },
  {
   "cell_type": "markdown",
   "id": "234111dd",
   "metadata": {},
   "source": [
    "## Getting started\n",
    "\n",
    "To get started, simply `import dataquality`<br>\n",
    "If your environment variables are set, your import will pass through. If not, you will be prompted for some url and config variables.<br>\n",
    "\n",
    "To bypass the prompt, set the following environment variables\n",
    "* `GALILEO_API_URL`\n",
    "* `GALILEO_MINIO_URL`\n",
    "* `GALILEO_MINIO_ACCESS_KEY`\n",
    "* `GALILEO_MINIO_SECRET_KEY`\n",
    "* `GALILEO_MINIO_REGION`\n",
    "\n",
    "If you have your server (api, minio, mysql) running locally for development, the following will work\n",
    "```\n",
    "import os\n",
    "\n",
    "os.environ['GALILEO_API_URL']=\"http://localhost:8000\"\n",
    "os.environ['GALILEO_MINIO_URL']=\"127.0.0.1:9000\"\n",
    "os.environ['GALILEO_MINIO_ACCESS_KEY']=\"minioadmin\"\n",
    "os.environ['GALILEO_MINIO_SECRET_KEY']=\"minioadmin\"\n",
    "```\n",
    "\n",
    "If you don't set these environment variables, the client will prompt you for the fields (assuming you're running from the newest code).\n",
    "\n",
    "### How do I get everything running locally??\n",
    "\n",
    "See our [CONTRIBUTING](https://github.com/rungalileo/api/blob/main/CONTRIBUTING.md) doc\n",
    "(When running the API, use the `./scripts/run-gunicorn.sh` - you don't need all of them)"
   ]
  },
  {
   "cell_type": "code",
   "execution_count": 1,
   "id": "9be42940",
   "metadata": {},
   "outputs": [],
   "source": [
    "import os\n",
    "\n",
    "os.environ['GALILEO_API_URL']=\"http://localhost:8088\"\n",
    "os.environ['GALILEO_MINIO_URL']=\"127.0.0.1:9000\"\n",
    "os.environ['GALILEO_MINIO_ACCESS_KEY']=\"minioadmin\"\n",
    "os.environ['GALILEO_MINIO_SECRET_KEY']=\"minioadmin\"\n",
    "!rm .galileo/config.json"
   ]
  },
  {
   "cell_type": "code",
   "execution_count": null,
   "id": "9197b7e9",
   "metadata": {},
   "outputs": [],
   "source": [
    "# For dev cluster, run this cell\n",
    "\n",
    "# import os\n",
    "# os.environ['GALILEO_API_URL']=\"https://api.dev.rungalileo.io\"\n",
    "# os.environ['GALILEO_MINIO_URL']=\"data.dev.rungalileo.io\"\n",
    "# os.environ['GALILEO_MINIO_ACCESS_KEY']=\"minioadmin\"\n",
    "# os.environ['GALILEO_MINIO_SECRET_KEY']=\"minioadmin\"\n",
    "!rm .galileo/config.json"
   ]
  },
  {
   "cell_type": "code",
   "execution_count": 2,
   "id": "df5b2ac2",
   "metadata": {},
   "outputs": [],
   "source": [
    "import dataquality"
   ]
  },
  {
   "cell_type": "markdown",
   "id": "c440db27",
   "metadata": {},
   "source": [
    "## Logging in\n",
    "\n",
    "Once you have dataquality imported, you can log into your server and start logging data<br>\n",
    "\n",
    "To log in, you can call `dataquality.login()` <br>\n",
    "This will prompt you for your auth method, email, and password. You can skip this prompt with the following environment variables:\n",
    "\n",
    "* `GALILEO_AUTH_METHOD`\n",
    "* `GALILEO_USERNAME`\n",
    "* `GALILEO_PASSWORD`\n",
    "\n",
    "### How do I create a user?\n",
    "\n",
    "If you are running everything locally, you can do the following\n",
    "\n",
    "```\n",
    "import requests\n",
    "\n",
    "data={\n",
    "  \"email\": \"me@rungalileo.io\",\n",
    "  \"first_name\": \"Me\",\n",
    "  \"last_name\": \"Me\",\n",
    "  \"username\": \"Galileo\",\n",
    "  \"auth_method\": \"email\",\n",
    "  \"password\": \"Th3secret_\"\n",
    "}\n",
    "\n",
    "r = requests.post('http://localhost:8088/users', json=data)\n",
    "r.json()\n",
    "```\n",
    "\n",
    "Then set your env vars\n",
    "```\n",
    "import os\n",
    "\n",
    "os.environ[\"GALILEO_AUTH_METHOD\"]=\"email\"\n",
    "os.environ[\"GALILEO_USERNAME\"]=\"{r.json()['email']}\"\n",
    "os.environ[\"GALILEO_PASSWORD\"]=\"{r.json()['password']}\"\n",
    "```\n",
    "\n",
    "If you don't set these environment variables, the client will prompt you for the fields (assuming you're running from the newest code).\n",
    "\n",
    "Now login\n",
    "\n",
    "```\n",
    "dataquality.login()\n",
    "```\n"
   ]
  },
  {
   "cell_type": "code",
   "execution_count": 7,
   "id": "29192d74",
   "metadata": {},
   "outputs": [],
   "source": [
    "import requests\n",
    "\n",
    "pwd = \"MyPassword!123\"\n",
    "\n",
    "data={\n",
    "  \"email\": \"me@rungalileo.io\",\n",
    "  \"first_name\": \"Me\",\n",
    "  \"last_name\": \"Me\",\n",
    "  \"username\": \"Galileo1\",\n",
    "  \"auth_method\": \"email\",\n",
    "  \"password\": pwd\n",
    "}\n",
    "\n",
    "r = requests.post(f'{dataquality.config.api_url}/users', json=data)\n",
    "r.json()\n",
    "\n",
    "import os\n",
    "\n",
    "os.environ[\"GALILEO_AUTH_METHOD\"]=\"email\"\n",
    "os.environ[\"GALILEO_USERNAME\"]=f\"{r.json()['email']}\"\n",
    "os.environ[\"GALILEO_PASSWORD\"]=pwd"
   ]
  },
  {
   "cell_type": "code",
   "execution_count": 9,
   "id": "51b6cf04",
   "metadata": {},
   "outputs": [
    {
     "name": "stdout",
     "output_type": "stream",
     "text": [
      "🔭 Logging you into Galileo\n",
      "\n",
      "👀 Found auth method email set via env, skipping prompt.\n",
      "🚀 You're logged in to Galileo as me@rungalileo.io!\n"
     ]
    }
   ],
   "source": [
    "dataquality.login()"
   ]
  },
  {
   "cell_type": "markdown",
   "id": "c2d3224a",
   "metadata": {},
   "source": [
    "## Start my project/run\n",
    "\n",
    "Now you can start using the tool with `dataquality.init()`<br>\n",
    "\n",
    "You **must** provide a `task_type` when calling `init`\n",
    "* A task type describes the kind of modeling you are doing (text classification, multi-label, NER etc).\n",
    "* Currently the only available task is \"text_classification\"\n",
    "\n",
    "You can optionally provide a project name for this run."
   ]
  },
  {
   "cell_type": "code",
   "execution_count": null,
   "id": "a084759a",
   "metadata": {},
   "outputs": [],
   "source": [
    "dataquality.init?"
   ]
  },
  {
   "cell_type": "code",
   "execution_count": 10,
   "id": "803b260e",
   "metadata": {},
   "outputs": [
    {
     "name": "stdout",
     "output_type": "stream",
     "text": [
      "✨ Initializing project shallow_aquamarine_sailfish\n",
      "🏃‍♂️ Starting run retired_silver_dolphin\n",
      "🛰 Created project, shallow_aquamarine_sailfish, and new run, retired_silver_dolphin.\n"
     ]
    }
   ],
   "source": [
    "task = \"text_classification\"\n",
    "# Base case\n",
    "dataquality.init(task)"
   ]
  },
  {
   "cell_type": "code",
   "execution_count": 4,
   "id": "cf4bc01a",
   "metadata": {},
   "outputs": [
    {
     "name": "stdout",
     "output_type": "stream",
     "text": [
      "📡 Retrieved project, a_new_project, and starting a new run\n",
      "🏃‍♂️ Starting run strange_sapphire_locust\n",
      "🛰 Connected to project, a_new_project, and created run, strange_sapphire_locust.\n"
     ]
    }
   ],
   "source": [
    "# New project, unset run (new)\n",
    "dataquality.init(task_type=task, project_name=\"a_new_project\")"
   ]
  },
  {
   "cell_type": "code",
   "execution_count": 5,
   "id": "800a72dc",
   "metadata": {},
   "outputs": [
    {
     "name": "stdout",
     "output_type": "stream",
     "text": [
      "📡 Retrieved project, a_new_project, and starting a new run\n",
      "🏃‍♂️ Starting run olympic_ivory_bat\n",
      "🛰 Connected to project, a_new_project, and created run, olympic_ivory_bat.\n"
     ]
    }
   ],
   "source": [
    "# Existing project, unset run (new)\n",
    "dataquality.init(task_type=task, project_name=\"a_new_project\")"
   ]
  },
  {
   "cell_type": "code",
   "execution_count": 6,
   "id": "bbb2cb2c",
   "metadata": {},
   "outputs": [
    {
     "name": "stdout",
     "output_type": "stream",
     "text": [
      "📡 Retrieving run from existing project, a_new_project\n",
      "🛰 Connected to project, a_new_project, and run, a_new_run.\n"
     ]
    },
    {
     "name": "stderr",
     "output_type": "stream",
     "text": [
      "/Users/benepstein/Documents/GitHub/dataquality/.venv/lib/python3.9/site-packages/dataquality/core/init.py:121: UserWarning: Project run a_new_project/a_new_run already exists. Logging and calling finish will overwrite all data in the server\n",
      "  warnings.warn(\n"
     ]
    }
   ],
   "source": [
    "# Existing project, new run\n",
    "dataquality.init(task_type=task, project_name=\"a_new_project\", run_name=\"a_new_run\")"
   ]
  },
  {
   "cell_type": "code",
   "execution_count": 7,
   "id": "857160d2",
   "metadata": {},
   "outputs": [
    {
     "name": "stdout",
     "output_type": "stream",
     "text": [
      "📡 Retrieving run from existing project, a_new_project\n",
      "🛰 Connected to project, a_new_project, and run, a_new_run.\n"
     ]
    }
   ],
   "source": [
    "# Existing project, existing run\n",
    "dataquality.init(task_type=task, project_name=\"a_new_project\", run_name=\"a_new_run\")"
   ]
  },
  {
   "cell_type": "code",
   "execution_count": 8,
   "id": "70efebb6",
   "metadata": {},
   "outputs": [
    {
     "name": "stdout",
     "output_type": "stream",
     "text": [
      "💭 Project a_new_project2 was not found.\n",
      "✨ Initializing project a_new_project2\n",
      "🏃‍♂️ Starting run a_new_run2\n",
      "🛰 Created project, a_new_project2, and new run, a_new_run2.\n"
     ]
    }
   ],
   "source": [
    "# New project, new run\n",
    "dataquality.init(task_type=task, project_name=\"a_new_project2\", run_name=\"a_new_run2\")"
   ]
  },
  {
   "cell_type": "markdown",
   "id": "8cb849b7",
   "metadata": {},
   "source": [
    "## Log to my project/run\n",
    "\n",
    "Now that you've started your run, all you need to do is log data to it.<br>\n",
    "\n",
    "All you need to do is call the `dataquality.log_data_input` and `dataquality.log_model_outputs` functions.\n",
    "\n",
    "`dataquality.log_data_input` knows which task you are logging for, and accepts the proper arguments.\n",
    "For \"text_classification\" it is expecting\n",
    "* text - list of strings indicating the text input\n",
    "* label - list of strings indicating the labels\n",
    "* split - string indicating the data split (training, validation, test)\n",
    "* id (optional) - list of ints indicating the id of each row. If not provided, IDs will be added automatically\n",
    "  * NOTE: This ID must match the output ID in log_model_outputs in order to join them for analysis\n",
    "\n",
    "`dataquality.log_model_outputs` also knows which task you are logging for.\n",
    "For \"text_classification\" it is expecting\n",
    "* emb - list of lists of embedding values for a given text input\n",
    "* probs - list of list of probabilities of the confidence per class\n",
    "* split - string indicating the data split (training, validation, test)\n",
    "* epoch - int indicating the training/test/validation epoch for the input\n",
    "* ids - list of ints indicating the matching id to the input row\n",
    "  * NOTE: This ID must match the output ID in log_model_outputs in order to join them for analysis\n"
   ]
  },
  {
   "cell_type": "markdown",
   "id": "d086f3dd",
   "metadata": {},
   "source": [
    "### log some data\n",
    "\n",
    "We use the `log_input_data` and `log_model_outputs` to log our metadata"
   ]
  },
  {
   "cell_type": "code",
   "execution_count": 18,
   "id": "1db00ed5",
   "metadata": {},
   "outputs": [
    {
     "name": "stdout",
     "output_type": "stream",
     "text": [
      "✨ Initializing project just_beige_scallop\n",
      "🏃‍♂️ Starting run clinical_plum_gerbil\n",
      "🛰 Created project, just_beige_scallop, and new run, clinical_plum_gerbil.\n"
     ]
    }
   ],
   "source": [
    "dataquality.init(task)"
   ]
  },
  {
   "cell_type": "code",
   "execution_count": 19,
   "id": "b2af2357",
   "metadata": {},
   "outputs": [
    {
     "name": "stdout",
     "output_type": "stream",
     "text": [
      "export(arrow) [########################################] 100.00% elapsed time  :     0.00s =  0.0m =  0.0h\n",
      "export(arrow) [########################################] 100.00% elapsed time  :     0.00s =  0.0m =  0.0h\n",
      " "
     ]
    }
   ],
   "source": [
    "from sklearn.datasets import fetch_20newsgroups\n",
    "import pandas as pd\n",
    "\n",
    "newsgroups = fetch_20newsgroups(subset=\"train\", remove=('headers', 'footers', 'quotes'))\n",
    "\n",
    "dataset = pd.DataFrame()\n",
    "dataset[\"text\"] = newsgroups.data\n",
    "label_ind = newsgroups.target_names\n",
    "dataset[\"label\"] = [label_ind[i] for i in newsgroups.target]\n",
    "dataset = dataset[:100]\n",
    "\n",
    "dataquality.log_input_data(text=dataset['text'], labels=dataset['label'], split=\"train\")\n",
    "dataquality.log_input_data(text=dataset['text'], labels=dataset['label'], split=\"test\")"
   ]
  },
  {
   "cell_type": "markdown",
   "id": "6194d70e",
   "metadata": {},
   "source": [
    "## We validate data before logging\n",
    "\n",
    "#### See what happens with an invalid model config"
   ]
  },
  {
   "cell_type": "code",
   "execution_count": 11,
   "id": "ecc3949c",
   "metadata": {
    "scrolled": true
   },
   "outputs": [
    {
     "ename": "AssertionError",
     "evalue": "labels and text must be the same length, but got(labels, text) (3,100)",
     "output_type": "error",
     "traceback": [
      "\u001b[0;31m---------------------------------------------------------------------------\u001b[0m",
      "\u001b[0;31mAssertionError\u001b[0m                            Traceback (most recent call last)",
      "\u001b[0;32m/var/folders/3d/d0dl2ykn6c18qg7kg_j7tplm0000gn/T/ipykernel_61497/964769889.py\u001b[0m in \u001b[0;36m<module>\u001b[0;34m\u001b[0m\n\u001b[1;32m      1\u001b[0m \u001b[0;31m# Labels and text inputs dont match in shape\u001b[0m\u001b[0;34m\u001b[0m\u001b[0;34m\u001b[0m\u001b[0;34m\u001b[0m\u001b[0m\n\u001b[0;32m----> 2\u001b[0;31m \u001b[0mdataquality\u001b[0m\u001b[0;34m.\u001b[0m\u001b[0mlog_input_data\u001b[0m\u001b[0;34m(\u001b[0m\u001b[0mtext\u001b[0m\u001b[0;34m=\u001b[0m\u001b[0mdataset\u001b[0m\u001b[0;34m[\u001b[0m\u001b[0;34m'text'\u001b[0m\u001b[0;34m]\u001b[0m\u001b[0;34m,\u001b[0m \u001b[0mlabels\u001b[0m\u001b[0;34m=\u001b[0m\u001b[0mdataset\u001b[0m\u001b[0;34m[\u001b[0m\u001b[0;34m'label'\u001b[0m\u001b[0;34m]\u001b[0m\u001b[0;34m[\u001b[0m\u001b[0;34m:\u001b[0m\u001b[0;36m3\u001b[0m\u001b[0;34m]\u001b[0m\u001b[0;34m,\u001b[0m \u001b[0msplit\u001b[0m\u001b[0;34m=\u001b[0m\u001b[0;34m\"train\"\u001b[0m\u001b[0;34m)\u001b[0m\u001b[0;34m\u001b[0m\u001b[0;34m\u001b[0m\u001b[0m\n\u001b[0m",
      "\u001b[0;32m~/Documents/GitHub/dataquality/.venv/lib/python3.9/site-packages/dataquality/core/log.py\u001b[0m in \u001b[0;36mlog_input_data\u001b[0;34m(**kwargs)\u001b[0m\n\u001b[1;32m     17\u001b[0m     \u001b[0;32massert\u001b[0m \u001b[0mconfig\u001b[0m\u001b[0;34m.\u001b[0m\u001b[0mtask_type\u001b[0m\u001b[0;34m,\u001b[0m \u001b[0;34m\"You must call dataquality.init before logging data\"\u001b[0m\u001b[0;34m\u001b[0m\u001b[0;34m\u001b[0m\u001b[0m\n\u001b[1;32m     18\u001b[0m     \u001b[0mdata_logger\u001b[0m \u001b[0;34m=\u001b[0m \u001b[0mget_data_logger\u001b[0m\u001b[0;34m(\u001b[0m\u001b[0;34m)\u001b[0m\u001b[0;34m(\u001b[0m\u001b[0;34m**\u001b[0m\u001b[0mkwargs\u001b[0m\u001b[0;34m)\u001b[0m\u001b[0;34m\u001b[0m\u001b[0;34m\u001b[0m\u001b[0m\n\u001b[0;32m---> 19\u001b[0;31m     \u001b[0mdata_logger\u001b[0m\u001b[0;34m.\u001b[0m\u001b[0mlog\u001b[0m\u001b[0;34m(\u001b[0m\u001b[0;34m)\u001b[0m\u001b[0;34m\u001b[0m\u001b[0;34m\u001b[0m\u001b[0m\n\u001b[0m\u001b[1;32m     20\u001b[0m \u001b[0;34m\u001b[0m\u001b[0m\n\u001b[1;32m     21\u001b[0m \u001b[0;34m\u001b[0m\u001b[0m\n",
      "\u001b[0;32m~/Documents/GitHub/dataquality/.venv/lib/python3.9/site-packages/dataquality/loggers/data_logger/text_classification.py\u001b[0m in \u001b[0;36mlog\u001b[0;34m(self)\u001b[0m\n\u001b[1;32m    128\u001b[0m \u001b[0;34m\u001b[0m\u001b[0m\n\u001b[1;32m    129\u001b[0m     \u001b[0;32mdef\u001b[0m \u001b[0mlog\u001b[0m\u001b[0;34m(\u001b[0m\u001b[0mself\u001b[0m\u001b[0;34m)\u001b[0m \u001b[0;34m->\u001b[0m \u001b[0;32mNone\u001b[0m\u001b[0;34m:\u001b[0m\u001b[0;34m\u001b[0m\u001b[0;34m\u001b[0m\u001b[0m\n\u001b[0;32m--> 130\u001b[0;31m         \u001b[0mself\u001b[0m\u001b[0;34m.\u001b[0m\u001b[0mvalidate\u001b[0m\u001b[0;34m(\u001b[0m\u001b[0;34m)\u001b[0m\u001b[0;34m\u001b[0m\u001b[0;34m\u001b[0m\u001b[0m\n\u001b[0m\u001b[1;32m    131\u001b[0m         write_input_dir = (\n\u001b[1;32m    132\u001b[0m             \u001b[0;34mf\"{BaseGalileoLogger.LOG_FILE_DIR}/{config.current_project_id}/\"\u001b[0m\u001b[0;34m\u001b[0m\u001b[0;34m\u001b[0m\u001b[0m\n",
      "\u001b[0;32m~/Documents/GitHub/dataquality/.venv/lib/python3.9/site-packages/dataquality/loggers/data_logger/text_classification.py\u001b[0m in \u001b[0;36mvalidate\u001b[0;34m(self)\u001b[0m\n\u001b[1;32m    112\u001b[0m             )\n\u001b[1;32m    113\u001b[0m \u001b[0;34m\u001b[0m\u001b[0m\n\u001b[0;32m--> 114\u001b[0;31m             assert text_len == label_len, (\n\u001b[0m\u001b[1;32m    115\u001b[0m                 \u001b[0;34mf\"labels and text must be the same length, but got\"\u001b[0m\u001b[0;34m\u001b[0m\u001b[0;34m\u001b[0m\u001b[0m\n\u001b[1;32m    116\u001b[0m                 \u001b[0;34mf\"(labels, text) ({label_len},{text_len})\"\u001b[0m\u001b[0;34m\u001b[0m\u001b[0;34m\u001b[0m\u001b[0m\n",
      "\u001b[0;31mAssertionError\u001b[0m: labels and text must be the same length, but got(labels, text) (3,100)"
     ]
    }
   ],
   "source": [
    "# Labels and text inputs dont match in shape\n",
    "dataquality.log_input_data(text=dataset['text'], labels=dataset['label'][:3], split=\"train\")"
   ]
  },
  {
   "cell_type": "code",
   "execution_count": 20,
   "id": "84c5560a",
   "metadata": {
    "scrolled": true
   },
   "outputs": [],
   "source": [
    "import numpy as np\n",
    "\n",
    "# Generate fake model outputs\n",
    "def log_fake_data(log_num: int = 0):\n",
    "    # Ensure unique IDs\n",
    "    # Because we're going to call this twice, we need the other dataset rows for the second call, so /2\n",
    "    num_rows = len(dataset) // 2 \n",
    "        \n",
    "    emb = np.random.rand(num_rows, 800)\n",
    "    prob = np.random.rand(num_rows, 20)\n",
    "    for split in ['test','train']:\n",
    "        epoch = 0\n",
    "        \n",
    "        r = range(num_rows*log_num, num_rows*(log_num+1))\n",
    "        ids = list(r)\n",
    "        dataquality.log_model_outputs(emb=emb, probs=prob, split=split, epoch=epoch, ids=ids)\n",
    "\n",
    "log_fake_data()"
   ]
  },
  {
   "cell_type": "code",
   "execution_count": 21,
   "id": "9ae89fb2",
   "metadata": {},
   "outputs": [
    {
     "name": "stdout",
     "output_type": "stream",
     "text": [
      "\u001b[01;34m.galileo/logs/b0ff7b5a-fb09-4cb2-8dc9-05542c10e05b/038639fc-d2ad-498a-a34e-54de3c4dbb07\u001b[00m\r\n",
      "├── input_data.arrow\r\n",
      "├── \u001b[01;34mtest\u001b[00m\r\n",
      "│   └── \u001b[01;34m0\u001b[00m\r\n",
      "│       └── 3bff4cc4b01d.hdf5\r\n",
      "└── \u001b[01;34mtraining\u001b[00m\r\n",
      "    └── \u001b[01;34m0\u001b[00m\r\n",
      "        └── fee06682f1f1.hdf5\r\n",
      "\r\n",
      "4 directories, 3 files\r\n"
     ]
    }
   ],
   "source": [
    "!tree .galileo/logs/{dataquality.config.current_project_id}/{dataquality.config.current_run_id}"
   ]
  },
  {
   "cell_type": "markdown",
   "id": "3af65e13",
   "metadata": {},
   "source": [
    "### What happened?\n",
    "\n",
    "When you call `log_batch_input_data` you are logging the input data for this training job. This would typically be run once (per split).<br>\n",
    "\n",
    "Then, as you train your model in batches, each call to `log_model_outputs` takes the data in that batch, joins it to the input data, and stores it in 3 files, data, emb, and prob.<br>\n",
    "\n",
    "If we were to log another fake dataset to this, we'd see another file in each dir (under the epoch we set).\n",
    "\n",
    "The file names in each subdir will match so we can join them at the end"
   ]
  },
  {
   "cell_type": "code",
   "execution_count": 22,
   "id": "61e4875c",
   "metadata": {},
   "outputs": [],
   "source": [
    "log_fake_data(1)"
   ]
  },
  {
   "cell_type": "code",
   "execution_count": 23,
   "id": "0a55f02c",
   "metadata": {},
   "outputs": [
    {
     "name": "stdout",
     "output_type": "stream",
     "text": [
      "\u001b[01;34m.galileo/logs/b0ff7b5a-fb09-4cb2-8dc9-05542c10e05b/038639fc-d2ad-498a-a34e-54de3c4dbb07\u001b[00m\r\n",
      "├── input_data.arrow\r\n",
      "├── \u001b[01;34mtest\u001b[00m\r\n",
      "│   └── \u001b[01;34m0\u001b[00m\r\n",
      "│       ├── 0505c61d45e0.hdf5\r\n",
      "│       └── 3bff4cc4b01d.hdf5\r\n",
      "└── \u001b[01;34mtraining\u001b[00m\r\n",
      "    └── \u001b[01;34m0\u001b[00m\r\n",
      "        ├── 5d8541cb5836.hdf5\r\n",
      "        └── fee06682f1f1.hdf5\r\n",
      "\r\n",
      "4 directories, 5 files\r\n"
     ]
    }
   ],
   "source": [
    "!tree .galileo/logs/{dataquality.config.current_project_id}/{dataquality.config.current_run_id}"
   ]
  },
  {
   "cell_type": "markdown",
   "id": "28a9d253",
   "metadata": {},
   "source": [
    "## Take a look at our logged model outputs\n",
    "\n",
    "Below is the model output data we've logged to test. You can see all of the values available across both logs<br>\n",
    "To see the training data, just change the variable to `training`"
   ]
  },
  {
   "cell_type": "code",
   "execution_count": 24,
   "id": "aaa8ae6e",
   "metadata": {},
   "outputs": [
    {
     "data": {
      "text/html": [
       "<table>\n",
       "<thead>\n",
       "<tr><th>#                             </th><th>id  </th><th>epoch  </th><th>split  </th><th>emb                                                </th><th>prob                                               </th><th>pred  </th><th>data_schema_version  </th></tr>\n",
       "</thead>\n",
       "<tbody>\n",
       "<tr><td><i style='opacity: 0.6'>0</i> </td><td>50  </td><td>0      </td><td>test   </td><td>&#x27;array([7.81780961e-01, 4.23221817e-01, 5.679266...</td><td>&#x27;array([0.25665689, 0.74681296, 0.58567357, 0.29...</td><td>16    </td><td>1                    </td></tr>\n",
       "<tr><td><i style='opacity: 0.6'>1</i> </td><td>51  </td><td>0      </td><td>test   </td><td>&#x27;array([0.74282788, 0.0697037 , 0.70588388, 0.42...</td><td>&#x27;array([0.29112115, 0.84031507, 0.05922634, 0.49...</td><td>1     </td><td>1                    </td></tr>\n",
       "<tr><td><i style='opacity: 0.6'>2</i> </td><td>52  </td><td>0      </td><td>test   </td><td>&#x27;array([0.52490394, 0.44603427, 0.11126275, 0.76...</td><td>&#x27;array([0.09134986, 0.99827672, 0.71067921, 0.14...</td><td>1     </td><td>1                    </td></tr>\n",
       "<tr><td><i style='opacity: 0.6'>3</i> </td><td>53  </td><td>0      </td><td>test   </td><td>&#x27;array([8.81728988e-01, 7.58652927e-01, 1.065074...</td><td>&#x27;array([0.32182321, 0.80060134, 0.40267719, 0.27...</td><td>17    </td><td>1                    </td></tr>\n",
       "<tr><td><i style='opacity: 0.6'>4</i> </td><td>54  </td><td>0      </td><td>test   </td><td>&#x27;array([0.59171398, 0.95735806, 0.06825045, 0.09...</td><td>&#x27;array([0.48810191, 0.62990156, 0.20230503, 0.57...</td><td>19    </td><td>1                    </td></tr>\n",
       "<tr><td>...                           </td><td>... </td><td>...    </td><td>...    </td><td>...                                                </td><td>...                                                </td><td>...   </td><td>...                  </td></tr>\n",
       "<tr><td><i style='opacity: 0.6'>95</i></td><td>45  </td><td>0      </td><td>test   </td><td>&#x27;array([7.86610175e-01, 9.57990255e-01, 1.953924...</td><td>&#x27;array([0.61353825, 0.41159917, 0.11739276, 0.86...</td><td>7     </td><td>1                    </td></tr>\n",
       "<tr><td><i style='opacity: 0.6'>96</i></td><td>46  </td><td>0      </td><td>test   </td><td>&#x27;array([0.92117707, 0.72841896, 0.72389721, 0.47...</td><td>&#x27;array([0.53939169, 0.53173078, 0.02529276, 0.33...</td><td>5     </td><td>1                    </td></tr>\n",
       "<tr><td><i style='opacity: 0.6'>97</i></td><td>47  </td><td>0      </td><td>test   </td><td>&#x27;array([8.47431601e-01, 9.16523767e-03, 5.429822...</td><td>&#x27;array([0.69445993, 0.24304976, 0.63699774, 0.65...</td><td>10    </td><td>1                    </td></tr>\n",
       "<tr><td><i style='opacity: 0.6'>98</i></td><td>48  </td><td>0      </td><td>test   </td><td>&#x27;array([5.01069267e-02, 4.23538886e-01, 6.637389...</td><td>&#x27;array([0.06512617, 0.42445504, 0.40538823, 0.23...</td><td>19    </td><td>1                    </td></tr>\n",
       "<tr><td><i style='opacity: 0.6'>99</i></td><td>49  </td><td>0      </td><td>test   </td><td>&#x27;array([2.00013810e-01, 8.75695293e-01, 2.013078...</td><td>&#x27;array([0.55474831, 0.46872246, 0.46132688, 0.61...</td><td>15    </td><td>1                    </td></tr>\n",
       "</tbody>\n",
       "</table>"
      ],
      "text/plain": [
       "#    id    epoch    split    emb                                                  prob                                                 pred    data_schema_version\n",
       "0    50    0        test     'array([7.81780961e-01, 4.23221817e-01, 5.679266...  'array([0.25665689, 0.74681296, 0.58567357, 0.29...  16      1\n",
       "1    51    0        test     'array([0.74282788, 0.0697037 , 0.70588388, 0.42...  'array([0.29112115, 0.84031507, 0.05922634, 0.49...  1       1\n",
       "2    52    0        test     'array([0.52490394, 0.44603427, 0.11126275, 0.76...  'array([0.09134986, 0.99827672, 0.71067921, 0.14...  1       1\n",
       "3    53    0        test     'array([8.81728988e-01, 7.58652927e-01, 1.065074...  'array([0.32182321, 0.80060134, 0.40267719, 0.27...  17      1\n",
       "4    54    0        test     'array([0.59171398, 0.95735806, 0.06825045, 0.09...  'array([0.48810191, 0.62990156, 0.20230503, 0.57...  19      1\n",
       "...  ...   ...      ...      ...                                                  ...                                                  ...     ...\n",
       "95   45    0        test     'array([7.86610175e-01, 9.57990255e-01, 1.953924...  'array([0.61353825, 0.41159917, 0.11739276, 0.86...  7       1\n",
       "96   46    0        test     'array([0.92117707, 0.72841896, 0.72389721, 0.47...  'array([0.53939169, 0.53173078, 0.02529276, 0.33...  5       1\n",
       "97   47    0        test     'array([8.47431601e-01, 9.16523767e-03, 5.429822...  'array([0.69445993, 0.24304976, 0.63699774, 0.65...  10      1\n",
       "98   48    0        test     'array([5.01069267e-02, 4.23538886e-01, 6.637389...  'array([0.06512617, 0.42445504, 0.40538823, 0.23...  19      1\n",
       "99   49    0        test     'array([2.00013810e-01, 8.75695293e-01, 2.013078...  'array([0.55474831, 0.46872246, 0.46132688, 0.61...  15      1"
      ]
     },
     "execution_count": 24,
     "metadata": {},
     "output_type": "execute_result"
    }
   ],
   "source": [
    "import vaex\n",
    "\n",
    "split = \"test\"\n",
    "vaex.open(f'.galileo/logs/{dataquality.config.current_project_id}/{dataquality.config.current_run_id}/{split}/0/*.hdf5')\n"
   ]
  },
  {
   "cell_type": "markdown",
   "id": "48325087",
   "metadata": {},
   "source": [
    "## How do I see my results in the UI?\n",
    "\n",
    "Simply set your labels (`set_labels_for_run`) and call `finish()`\n",
    "\n",
    "Once called, the data will be joined together at a _per-epoch_ level, and added to minio, with one file for each `prob`, `emb`, and `data` per split/epoch. \n",
    "\n",
    "A job will be kicked off to process you data on the server, and after it's done you'll see your results inv the UI\n",
    "\n",
    "#### Why do I need to set my labels?\n",
    "\n",
    "Since your model is simply outputting probabilities, we have no way to map the index of each prediction to the model output. Setting your labels enables us to map them so you can see the meaningful values in the UI.<br>\n",
    "\n",
    "If you have the UI running, you should see it at the URL returned.\n",
    "\n",
    "**Note:** Check out your local API logs to see the background job!"
   ]
  },
  {
   "cell_type": "code",
   "execution_count": 25,
   "id": "cbc218af",
   "metadata": {},
   "outputs": [
    {
     "name": "stdout",
     "output_type": "stream",
     "text": [
      "☁️ Uploading Data\n"
     ]
    },
    {
     "data": {
      "application/vnd.jupyter.widget-view+json": {
       "model_id": "fb0e7d0f13cb404f8736c55f7fc52f21",
       "version_major": 2,
       "version_minor": 0
      },
      "text/plain": [
       "training:   0%|          | 0/3 [00:00<?, ?it/s]"
      ]
     },
     "metadata": {},
     "output_type": "display_data"
    },
    {
     "name": "stdout",
     "output_type": "stream",
     "text": [
      "export(hdf5) [########################################] 100.00% elapsed time  :     0.04s =  0.0m =  0.0h\n",
      "export(hdf5) [########################################] 100.00% elapsed time  :     0.07s =  0.0m =  0.0h\n",
      "export(hdf5) [########################################] 100.00% elapsed time  :     0.11s =  0.0m =  0.0h\n",
      " "
     ]
    },
    {
     "data": {
      "application/vnd.jupyter.widget-view+json": {
       "model_id": "bdb011954d534bb38b06d55a579c7212",
       "version_major": 2,
       "version_minor": 0
      },
      "text/plain": [
       "test:   0%|          | 0/3 [00:00<?, ?it/s]"
      ]
     },
     "metadata": {},
     "output_type": "display_data"
    },
    {
     "name": "stdout",
     "output_type": "stream",
     "text": [
      "export(hdf5) [########################################] 100.00% elapsed time  :     0.04s =  0.0m =  0.0h\n",
      "export(hdf5) [########################################] 100.00% elapsed time  :     0.07s =  0.0m =  0.0h\n",
      "export(hdf5) [########################################] 100.00% elapsed time  :     0.11s =  0.0m =  0.0h\n",
      " 🧹 Cleaning up\n",
      "Job default successfully submitted. Results will be available soon at http://127.0.0.1:3000/projects/b0ff7b5a-fb09-4cb2-8dc9-05542c10e05b/runs/038639fc-d2ad-498a-a34e-54de3c4dbb07\n"
     ]
    },
    {
     "data": {
      "text/plain": [
       "{'project_id': 'b0ff7b5a-fb09-4cb2-8dc9-05542c10e05b',\n",
       " 'run_id': '038639fc-d2ad-498a-a34e-54de3c4dbb07',\n",
       " 'proc_name': 'default',\n",
       " 'labels': ['alt.atheism',\n",
       "  'comp.graphics',\n",
       "  'comp.os.ms-windows.misc',\n",
       "  'comp.sys.ibm.pc.hardware',\n",
       "  'comp.sys.mac.hardware',\n",
       "  'comp.windows.x',\n",
       "  'misc.forsale',\n",
       "  'rec.autos',\n",
       "  'rec.motorcycles',\n",
       "  'rec.sport.baseball',\n",
       "  'rec.sport.hockey',\n",
       "  'sci.crypt',\n",
       "  'sci.electronics',\n",
       "  'sci.med',\n",
       "  'sci.space',\n",
       "  'soc.religion.christian',\n",
       "  'talk.politics.guns',\n",
       "  'talk.politics.mideast',\n",
       "  'talk.politics.misc',\n",
       "  'talk.religion.misc'],\n",
       " 'tasks': None,\n",
       " 'message': 'Processing dataquality!',\n",
       " 'link': 'http://127.0.0.1:3000/projects/b0ff7b5a-fb09-4cb2-8dc9-05542c10e05b/runs/038639fc-d2ad-498a-a34e-54de3c4dbb07'}"
      ]
     },
     "execution_count": 25,
     "metadata": {},
     "output_type": "execute_result"
    }
   ],
   "source": [
    "dataquality.set_labels_for_run(newsgroups.target_names)\n",
    "dataquality.finish()"
   ]
  },
  {
   "cell_type": "markdown",
   "id": "9d433bde",
   "metadata": {},
   "source": [
    "## That should take ~10-20 seconds to complete (if you are running the server locally)\n",
    "\n",
    "### Now we can also read the data from minio"
   ]
  },
  {
   "cell_type": "code",
   "execution_count": 26,
   "id": "7613ea4f",
   "metadata": {},
   "outputs": [
    {
     "data": {
      "text/html": [
       "<table>\n",
       "<thead>\n",
       "<tr><th>#                             </th><th>epoch  </th><th>pred  </th><th>id  </th><th>text                                                 </th><th>split   </th><th>data_schema_version  </th><th>data_error_potential  </th><th>gold  </th><th>emb_pca                                            </th><th>xy                                            </th><th>galileo_text_length  </th><th>galileo_language_id  </th><th>galileo_pii  </th><th>galileo_malformed_data  </th></tr>\n",
       "</thead>\n",
       "<tbody>\n",
       "<tr><td><i style='opacity: 0.6'>0</i> </td><td>0      </td><td>6     </td><td>0   </td><td>&#x27;I was wondering if anyone out there could enlig...  </td><td>training</td><td>1                    </td><td>0.5630325204316611    </td><td>7     </td><td>&#x27;array([-1.60789669e+00,  7.84201276e-01, -8.418...</td><td>array([-5.9552817,  4.489755 ], dtype=float32)</td><td>475                  </td><td>en                   </td><td>None         </td><td>Well Formed             </td></tr>\n",
       "<tr><td><i style='opacity: 0.6'>1</i> </td><td>0      </td><td>18    </td><td>1   </td><td>&#x27;A fair number of brave souls who upgraded their...  </td><td>training</td><td>1                    </td><td>0.733762515045353     </td><td>4     </td><td>&#x27;array([-4.69114105e-01, -4.81318059e-01,  6.909...</td><td>array([-3.8453536,  3.2029743], dtype=float32)</td><td>530                  </td><td>en                   </td><td>None         </td><td>Well Formed             </td></tr>\n",
       "<tr><td><i style='opacity: 0.6'>2</i> </td><td>0      </td><td>16    </td><td>2   </td><td>&#x27;well folks, my mac plus finally gave up the gho...  </td><td>training</td><td>1                    </td><td>0.5790402646066584    </td><td>4     </td><td>&#x27;array([-3.17718330e-01,  1.29768016e+00,  1.273...</td><td>array([-4.4039063,  4.854735 ], dtype=float32)</td><td>1659                 </td><td>en                   </td><td>email        </td><td>Well Formed             </td></tr>\n",
       "<tr><td><i style='opacity: 0.6'>3</i> </td><td>0      </td><td>9     </td><td>3   </td><td>&quot;\\nDo you have Weitek&#x27;s address/phone number?  I&#x27;... </td><td>training</td><td>1                    </td><td>0.6572137422565507    </td><td>1     </td><td>&#x27;array([ 9.41291715e-01,  2.19386460e+00, -3.339...</td><td>array([-7.556582,  3.030379], dtype=float32)  </td><td>95                   </td><td>en                   </td><td>None         </td><td>Well Formed             </td></tr>\n",
       "<tr><td><i style='opacity: 0.6'>4</i> </td><td>0      </td><td>9     </td><td>4   </td><td>&#x27;From article &lt;C5owCB.n3p@world.std.com&gt;, by tom...  </td><td>training</td><td>1                    </td><td>0.7974292186134081    </td><td>14    </td><td>&#x27;array([ 3.90338895e-01, -3.89708675e-01, -2.981...</td><td>array([-5.551905 ,  4.2039523], dtype=float32)</td><td>448                  </td><td>en                   </td><td>email        </td><td>Well Formed             </td></tr>\n",
       "<tr><td>...                           </td><td>...    </td><td>...   </td><td>... </td><td>...                                                  </td><td>...     </td><td>...                  </td><td>...                   </td><td>...   </td><td>...                                                </td><td>...                                           </td><td>...                  </td><td>...                  </td><td>...          </td><td>...                     </td></tr>\n",
       "<tr><td><i style='opacity: 0.6'>95</i></td><td>0      </td><td>8     </td><td>95  </td><td>&#x27;\\nOn the back might be tricky, but here in Bould... </td><td>training</td><td>1                    </td><td>0.48018147020515034   </td><td>8     </td><td>&#x27;array([-3.59754923e-01, -1.15906567e+00,  1.095...</td><td>array([-6.1999326,  3.9643443], dtype=float32)</td><td>199                  </td><td>en                   </td><td>None         </td><td>Well Formed             </td></tr>\n",
       "<tr><td><i style='opacity: 0.6'>96</i></td><td>0      </td><td>5     </td><td>96  </td><td>&#x27;Here is a press release from the Reserve Office...  </td><td>training</td><td>1                    </td><td>0.7944635222854108    </td><td>18    </td><td>&#x27;array([-6.24780239e-01, -1.24853640e+00, -1.057...</td><td>array([-6.4813957,  3.8455062], dtype=float32)</td><td>2777                 </td><td>en                   </td><td>phone        </td><td>Well Formed             </td></tr>\n",
       "<tr><td><i style='opacity: 0.6'>97</i></td><td>0      </td><td>18    </td><td>97  </td><td>&quot;..deleted...\\n\\nIn plain Motify using a dialog &#x27;i...</td><td>training</td><td>1                    </td><td>0.9907870251327324    </td><td>5     </td><td>&#x27;array([ 1.16839637e+00,  3.62197069e-01,  1.667...</td><td>array([-4.8365474,  3.865284 ], dtype=float32)</td><td>476                  </td><td>en                   </td><td>None         </td><td>Well Formed             </td></tr>\n",
       "<tr><td><i style='opacity: 0.6'>98</i></td><td>0      </td><td>6     </td><td>98  </td><td>&#x27;: Are you saying that their was a physical Adam...  </td><td>training</td><td>1                    </td><td>0.6502322470646098    </td><td>0     </td><td>&#x27;array([ 1.29698200e+00, -7.88884550e-01,  8.164...</td><td>array([-2.6808245,  4.097144 ], dtype=float32)</td><td>375                  </td><td>en                   </td><td>None         </td><td>Well Formed             </td></tr>\n",
       "<tr><td><i style='opacity: 0.6'>99</i></td><td>0      </td><td>3     </td><td>99  </td><td>&#x27;: Currently, I use a shareware program called G...  </td><td>training</td><td>1                    </td><td>0.8825717871814087    </td><td>1     </td><td>&#x27;array([-1.86768833e-02, -2.80877236e-01, -1.748...</td><td>array([-6.940063,  4.883415], dtype=float32)  </td><td>478                  </td><td>en                   </td><td>None         </td><td>Well Formed             </td></tr>\n",
       "</tbody>\n",
       "</table>"
      ],
      "text/plain": [
       "#    epoch    pred    id    text                                                   split     data_schema_version    data_error_potential    gold    emb_pca                                              xy                                              galileo_text_length    galileo_language_id    galileo_pii    galileo_malformed_data\n",
       "0    0        6       0     'I was wondering if anyone out there could enlig...    training  1                      0.5630325204316611      7       'array([-1.60789669e+00,  7.84201276e-01, -8.418...  array([-5.9552817,  4.489755 ], dtype=float32)  475                    en                     None           Well Formed\n",
       "1    0        18      1     'A fair number of brave souls who upgraded their...    training  1                      0.733762515045353       4       'array([-4.69114105e-01, -4.81318059e-01,  6.909...  array([-3.8453536,  3.2029743], dtype=float32)  530                    en                     None           Well Formed\n",
       "2    0        16      2     'well folks, my mac plus finally gave up the gho...    training  1                      0.5790402646066584      4       'array([-3.17718330e-01,  1.29768016e+00,  1.273...  array([-4.4039063,  4.854735 ], dtype=float32)  1659                   en                     email          Well Formed\n",
       "3    0        9       3     \"\\nDo you have Weitek's address/phone number?  I'...   training  1                      0.6572137422565507      1       'array([ 9.41291715e-01,  2.19386460e+00, -3.339...  array([-7.556582,  3.030379], dtype=float32)    95                     en                     None           Well Formed\n",
       "4    0        9       4     'From article <C5owCB.n3p@world.std.com>, by tom...    training  1                      0.7974292186134081      14      'array([ 3.90338895e-01, -3.89708675e-01, -2.981...  array([-5.551905 ,  4.2039523], dtype=float32)  448                    en                     email          Well Formed\n",
       "...  ...      ...     ...   ...                                                    ...       ...                    ...                     ...     ...                                                  ...                                             ...                    ...                    ...            ...\n",
       "95   0        8       95    '\\nOn the back might be tricky, but here in Bould...   training  1                      0.48018147020515034     8       'array([-3.59754923e-01, -1.15906567e+00,  1.095...  array([-6.1999326,  3.9643443], dtype=float32)  199                    en                     None           Well Formed\n",
       "96   0        5       96    'Here is a press release from the Reserve Office...    training  1                      0.7944635222854108      18      'array([-6.24780239e-01, -1.24853640e+00, -1.057...  array([-6.4813957,  3.8455062], dtype=float32)  2777                   en                     phone          Well Formed\n",
       "97   0        18      97    \"..deleted...\\n\\nIn plain Motify using a dialog 'i...  training  1                      0.9907870251327324      5       'array([ 1.16839637e+00,  3.62197069e-01,  1.667...  array([-4.8365474,  3.865284 ], dtype=float32)  476                    en                     None           Well Formed\n",
       "98   0        6       98    ': Are you saying that their was a physical Adam...    training  1                      0.6502322470646098      0       'array([ 1.29698200e+00, -7.88884550e-01,  8.164...  array([-2.6808245,  4.097144 ], dtype=float32)  375                    en                     None           Well Formed\n",
       "99   0        3       99    ': Currently, I use a shareware program called G...    training  1                      0.8825717871814087      1       'array([-1.86768833e-02, -2.80877236e-01, -1.748...  array([-6.940063,  4.883415], dtype=float32)    478                    en                     None           Well Formed"
      ]
     },
     "metadata": {},
     "output_type": "display_data"
    },
    {
     "data": {
      "text/html": [
       "<table>\n",
       "<thead>\n",
       "<tr><th>#                             </th><th>epoch  </th><th>pred  </th><th>id  </th><th>text                                                 </th><th>split  </th><th>data_schema_version  </th><th>data_error_potential  </th><th>gold  </th><th>emb_pca                                            </th><th>xy                                            </th><th>galileo_text_length  </th><th>galileo_language_id  </th><th>galileo_pii  </th><th>galileo_malformed_data  </th></tr>\n",
       "</thead>\n",
       "<tbody>\n",
       "<tr><td><i style='opacity: 0.6'>0</i> </td><td>0      </td><td>6     </td><td>0   </td><td>&#x27;I was wondering if anyone out there could enlig...  </td><td>test   </td><td>1                    </td><td>0.5630325204316611    </td><td>7     </td><td>&#x27;array([-1.60789669e+00,  7.84201276e-01, -8.418...</td><td>array([-5.9552817,  4.489755 ], dtype=float32)</td><td>475                  </td><td>en                   </td><td>None         </td><td>Well Formed             </td></tr>\n",
       "<tr><td><i style='opacity: 0.6'>1</i> </td><td>0      </td><td>18    </td><td>1   </td><td>&#x27;A fair number of brave souls who upgraded their...  </td><td>test   </td><td>1                    </td><td>0.733762515045353     </td><td>4     </td><td>&#x27;array([-4.69114105e-01, -4.81318059e-01,  6.909...</td><td>array([-3.8453536,  3.2029743], dtype=float32)</td><td>530                  </td><td>en                   </td><td>None         </td><td>Well Formed             </td></tr>\n",
       "<tr><td><i style='opacity: 0.6'>2</i> </td><td>0      </td><td>16    </td><td>2   </td><td>&#x27;well folks, my mac plus finally gave up the gho...  </td><td>test   </td><td>1                    </td><td>0.5790402646066584    </td><td>4     </td><td>&#x27;array([-3.17718330e-01,  1.29768016e+00,  1.273...</td><td>array([-4.4039063,  4.854735 ], dtype=float32)</td><td>1659                 </td><td>en                   </td><td>email        </td><td>Well Formed             </td></tr>\n",
       "<tr><td><i style='opacity: 0.6'>3</i> </td><td>0      </td><td>9     </td><td>3   </td><td>&quot;\\nDo you have Weitek&#x27;s address/phone number?  I&#x27;... </td><td>test   </td><td>1                    </td><td>0.6572137422565507    </td><td>1     </td><td>&#x27;array([ 9.41291715e-01,  2.19386460e+00, -3.339...</td><td>array([-7.556582,  3.030379], dtype=float32)  </td><td>95                   </td><td>en                   </td><td>None         </td><td>Well Formed             </td></tr>\n",
       "<tr><td><i style='opacity: 0.6'>4</i> </td><td>0      </td><td>9     </td><td>4   </td><td>&#x27;From article &lt;C5owCB.n3p@world.std.com&gt;, by tom...  </td><td>test   </td><td>1                    </td><td>0.7974292186134081    </td><td>14    </td><td>&#x27;array([ 3.90338895e-01, -3.89708675e-01, -2.981...</td><td>array([-5.551905 ,  4.2039523], dtype=float32)</td><td>448                  </td><td>en                   </td><td>email        </td><td>Well Formed             </td></tr>\n",
       "<tr><td>...                           </td><td>...    </td><td>...   </td><td>... </td><td>...                                                  </td><td>...    </td><td>...                  </td><td>...                   </td><td>...   </td><td>...                                                </td><td>...                                           </td><td>...                  </td><td>...                  </td><td>...          </td><td>...                     </td></tr>\n",
       "<tr><td><i style='opacity: 0.6'>95</i></td><td>0      </td><td>8     </td><td>95  </td><td>&#x27;\\nOn the back might be tricky, but here in Bould... </td><td>test   </td><td>1                    </td><td>0.48018147020515034   </td><td>8     </td><td>&#x27;array([-3.59754923e-01, -1.15906567e+00,  1.095...</td><td>array([-6.1999326,  3.9643443], dtype=float32)</td><td>199                  </td><td>en                   </td><td>None         </td><td>Well Formed             </td></tr>\n",
       "<tr><td><i style='opacity: 0.6'>96</i></td><td>0      </td><td>5     </td><td>96  </td><td>&#x27;Here is a press release from the Reserve Office...  </td><td>test   </td><td>1                    </td><td>0.7944635222854108    </td><td>18    </td><td>&#x27;array([-6.24780239e-01, -1.24853640e+00, -1.057...</td><td>array([-6.4813957,  3.8455062], dtype=float32)</td><td>2777                 </td><td>en                   </td><td>phone        </td><td>Well Formed             </td></tr>\n",
       "<tr><td><i style='opacity: 0.6'>97</i></td><td>0      </td><td>18    </td><td>97  </td><td>&quot;..deleted...\\n\\nIn plain Motify using a dialog &#x27;i...</td><td>test   </td><td>1                    </td><td>0.9907870251327324    </td><td>5     </td><td>&#x27;array([ 1.16839637e+00,  3.62197069e-01,  1.667...</td><td>array([-4.8365474,  3.865284 ], dtype=float32)</td><td>476                  </td><td>en                   </td><td>None         </td><td>Well Formed             </td></tr>\n",
       "<tr><td><i style='opacity: 0.6'>98</i></td><td>0      </td><td>6     </td><td>98  </td><td>&#x27;: Are you saying that their was a physical Adam...  </td><td>test   </td><td>1                    </td><td>0.6502322470646098    </td><td>0     </td><td>&#x27;array([ 1.29698200e+00, -7.88884550e-01,  8.164...</td><td>array([-2.6808245,  4.097144 ], dtype=float32)</td><td>375                  </td><td>en                   </td><td>None         </td><td>Well Formed             </td></tr>\n",
       "<tr><td><i style='opacity: 0.6'>99</i></td><td>0      </td><td>3     </td><td>99  </td><td>&#x27;: Currently, I use a shareware program called G...  </td><td>test   </td><td>1                    </td><td>0.8825717871814087    </td><td>1     </td><td>&#x27;array([-1.86768833e-02, -2.80877236e-01, -1.748...</td><td>array([-6.940063,  4.883415], dtype=float32)  </td><td>478                  </td><td>en                   </td><td>None         </td><td>Well Formed             </td></tr>\n",
       "</tbody>\n",
       "</table>"
      ],
      "text/plain": [
       "#    epoch    pred    id    text                                                   split    data_schema_version    data_error_potential    gold    emb_pca                                              xy                                              galileo_text_length    galileo_language_id    galileo_pii    galileo_malformed_data\n",
       "0    0        6       0     'I was wondering if anyone out there could enlig...    test     1                      0.5630325204316611      7       'array([-1.60789669e+00,  7.84201276e-01, -8.418...  array([-5.9552817,  4.489755 ], dtype=float32)  475                    en                     None           Well Formed\n",
       "1    0        18      1     'A fair number of brave souls who upgraded their...    test     1                      0.733762515045353       4       'array([-4.69114105e-01, -4.81318059e-01,  6.909...  array([-3.8453536,  3.2029743], dtype=float32)  530                    en                     None           Well Formed\n",
       "2    0        16      2     'well folks, my mac plus finally gave up the gho...    test     1                      0.5790402646066584      4       'array([-3.17718330e-01,  1.29768016e+00,  1.273...  array([-4.4039063,  4.854735 ], dtype=float32)  1659                   en                     email          Well Formed\n",
       "3    0        9       3     \"\\nDo you have Weitek's address/phone number?  I'...   test     1                      0.6572137422565507      1       'array([ 9.41291715e-01,  2.19386460e+00, -3.339...  array([-7.556582,  3.030379], dtype=float32)    95                     en                     None           Well Formed\n",
       "4    0        9       4     'From article <C5owCB.n3p@world.std.com>, by tom...    test     1                      0.7974292186134081      14      'array([ 3.90338895e-01, -3.89708675e-01, -2.981...  array([-5.551905 ,  4.2039523], dtype=float32)  448                    en                     email          Well Formed\n",
       "...  ...      ...     ...   ...                                                    ...      ...                    ...                     ...     ...                                                  ...                                             ...                    ...                    ...            ...\n",
       "95   0        8       95    '\\nOn the back might be tricky, but here in Bould...   test     1                      0.48018147020515034     8       'array([-3.59754923e-01, -1.15906567e+00,  1.095...  array([-6.1999326,  3.9643443], dtype=float32)  199                    en                     None           Well Formed\n",
       "96   0        5       96    'Here is a press release from the Reserve Office...    test     1                      0.7944635222854108      18      'array([-6.24780239e-01, -1.24853640e+00, -1.057...  array([-6.4813957,  3.8455062], dtype=float32)  2777                   en                     phone          Well Formed\n",
       "97   0        18      97    \"..deleted...\\n\\nIn plain Motify using a dialog 'i...  test     1                      0.9907870251327324      5       'array([ 1.16839637e+00,  3.62197069e-01,  1.667...  array([-4.8365474,  3.865284 ], dtype=float32)  476                    en                     None           Well Formed\n",
       "98   0        6       98    ': Are you saying that their was a physical Adam...    test     1                      0.6502322470646098      0       'array([ 1.29698200e+00, -7.88884550e-01,  8.164...  array([-2.6808245,  4.097144 ], dtype=float32)  375                    en                     None           Well Formed\n",
       "99   0        3       99    ': Currently, I use a shareware program called G...    test     1                      0.8825717871814087      1       'array([-1.86768833e-02, -2.80877236e-01, -1.748...  array([-6.940063,  4.883415], dtype=float32)    478                    en                     None           Well Formed"
      ]
     },
     "metadata": {},
     "output_type": "display_data"
    }
   ],
   "source": [
    "from minio import Minio\n",
    "\n",
    "url = dataquality.config.minio_url\n",
    "client = Minio(url, 'minioadmin', 'minioadmin', secure=(':9000' not in url))\n",
    "p = dataquality.config.current_project_id\n",
    "r = dataquality.config.current_run_id\n",
    "client.fget_object('galileo-project-runs-results', f'{p}/{r}/training/data/data.hdf5', 'training_data.hdf5')\n",
    "client.fget_object('galileo-project-runs-results', f'{p}/{r}/test/data/data.hdf5', 'test_data.hdf5')\n",
    "\n",
    "display(vaex.open('training_data.hdf5'))\n",
    "\n",
    "display(vaex.open('test_data.hdf5'))"
   ]
  },
  {
   "cell_type": "code",
   "execution_count": 27,
   "id": "6182f690",
   "metadata": {},
   "outputs": [],
   "source": [
    "from dataquality.utils import tqdm"
   ]
  },
  {
   "cell_type": "code",
   "execution_count": 2,
   "id": "fd9b55f1",
   "metadata": {},
   "outputs": [
    {
     "name": "stdout",
     "output_type": "stream",
     "text": [
      "Processing /Users/benepstein/Documents/GitHub/dataquality\n",
      "  Installing build dependencies ... \u001b[?25ldone\n",
      "\u001b[?25h  Getting requirements to build wheel ... \u001b[?25ldone\n",
      "\u001b[?25h  Installing backend dependencies ... \u001b[?25ldone\n",
      "\u001b[?25h  Preparing metadata (pyproject.toml) ... \u001b[?25ldone\n",
      "\u001b[?25hRequirement already satisfied: tqdm==4.62.3 in /Users/benepstein/Documents/GitHub/dataquality/.venv/lib/python3.9/site-packages (from dataquality==0.0.4) (4.62.3)\n",
      "Requirement already satisfied: pyarrow==5.0.0 in /Users/benepstein/Documents/GitHub/dataquality/.venv/lib/python3.9/site-packages (from dataquality==0.0.4) (5.0.0)\n",
      "Requirement already satisfied: types-requests==2.25.2 in /Users/benepstein/Documents/GitHub/dataquality/.venv/lib/python3.9/site-packages (from dataquality==0.0.4) (2.25.2)\n",
      "Requirement already satisfied: resource==0.2.1 in /Users/benepstein/Documents/GitHub/dataquality/.venv/lib/python3.9/site-packages (from dataquality==0.0.4) (0.2.1)\n",
      "Requirement already satisfied: vaex-hdf5==0.11.1 in /Users/benepstein/Documents/GitHub/dataquality/.venv/lib/python3.9/site-packages (from dataquality==0.0.4) (0.11.1)\n",
      "Requirement already satisfied: pandas>=0.20.0 in /Users/benepstein/Documents/GitHub/dataquality/.venv/lib/python3.9/site-packages (from dataquality==0.0.4) (1.3.4)\n",
      "Requirement already satisfied: requests==2.26.0 in /Users/benepstein/Documents/GitHub/dataquality/.venv/lib/python3.9/site-packages (from dataquality==0.0.4) (2.26.0)\n",
      "Requirement already satisfied: gorilla==0.3.0 in /Users/benepstein/Documents/GitHub/dataquality/.venv/lib/python3.9/site-packages (from dataquality==0.0.4) (0.3.0)\n",
      "Requirement already satisfied: vaex-core==4.7.0.post1 in /Users/benepstein/Documents/GitHub/dataquality/.venv/lib/python3.9/site-packages (from dataquality==0.0.4) (4.7.0.post1)\n",
      "Requirement already satisfied: minio==7.1.0 in /Users/benepstein/Documents/GitHub/dataquality/.venv/lib/python3.9/site-packages (from dataquality==0.0.4) (7.1.0)\n",
      "Requirement already satisfied: pydantic==1.8.2 in /Users/benepstein/Documents/GitHub/dataquality/.venv/lib/python3.9/site-packages (from dataquality==0.0.4) (1.8.2)\n",
      "Requirement already satisfied: jsonlines==2.0.0 in /Users/benepstein/Documents/GitHub/dataquality/.venv/lib/python3.9/site-packages (from dataquality==0.0.4) (2.0.0)\n",
      "Requirement already satisfied: diskcache==5.2.1 in /Users/benepstein/Documents/GitHub/dataquality/.venv/lib/python3.9/site-packages (from dataquality==0.0.4) (5.2.1)\n",
      "Requirement already satisfied: urllib3 in /Users/benepstein/Documents/GitHub/dataquality/.venv/lib/python3.9/site-packages (from minio==7.1.0->dataquality==0.0.4) (1.26.7)\n",
      "Requirement already satisfied: certifi in /Users/benepstein/Documents/GitHub/dataquality/.venv/lib/python3.9/site-packages (from minio==7.1.0->dataquality==0.0.4) (2021.10.8)\n",
      "Requirement already satisfied: numpy>=1.16.6 in /Users/benepstein/Documents/GitHub/dataquality/.venv/lib/python3.9/site-packages (from pyarrow==5.0.0->dataquality==0.0.4) (1.21.4)\n",
      "Requirement already satisfied: typing-extensions>=3.7.4.3 in /Users/benepstein/Documents/GitHub/dataquality/.venv/lib/python3.9/site-packages (from pydantic==1.8.2->dataquality==0.0.4) (4.0.1)\n",
      "Requirement already satisfied: idna<4,>=2.5 in /Users/benepstein/Documents/GitHub/dataquality/.venv/lib/python3.9/site-packages (from requests==2.26.0->dataquality==0.0.4) (3.3)\n",
      "Requirement already satisfied: charset-normalizer~=2.0.0 in /Users/benepstein/Documents/GitHub/dataquality/.venv/lib/python3.9/site-packages (from requests==2.26.0->dataquality==0.0.4) (2.0.9)\n",
      "Requirement already satisfied: python-easyconfig>=0.1.0 in /Users/benepstein/Documents/GitHub/dataquality/.venv/lib/python3.9/site-packages (from resource==0.2.1->dataquality==0.0.4) (0.1.7)\n",
      "Requirement already satisfied: JsonSir>=0.0.2 in /Users/benepstein/Documents/GitHub/dataquality/.venv/lib/python3.9/site-packages (from resource==0.2.1->dataquality==0.0.4) (0.0.2)\n",
      "Requirement already satisfied: JsonForm>=0.0.2 in /Users/benepstein/Documents/GitHub/dataquality/.venv/lib/python3.9/site-packages (from resource==0.2.1->dataquality==0.0.4) (0.0.2)\n",
      "Requirement already satisfied: tabulate>=0.8.3 in /Users/benepstein/Documents/GitHub/dataquality/.venv/lib/python3.9/site-packages (from vaex-core==4.7.0.post1->dataquality==0.0.4) (0.8.9)\n",
      "Requirement already satisfied: aplus in /Users/benepstein/Documents/GitHub/dataquality/.venv/lib/python3.9/site-packages (from vaex-core==4.7.0.post1->dataquality==0.0.4) (0.11.0)\n",
      "Requirement already satisfied: nest-asyncio>=1.3.3 in /Users/benepstein/Documents/GitHub/dataquality/.venv/lib/python3.9/site-packages (from vaex-core==4.7.0.post1->dataquality==0.0.4) (1.5.4)\n",
      "Requirement already satisfied: progressbar2 in /Users/benepstein/Documents/GitHub/dataquality/.venv/lib/python3.9/site-packages (from vaex-core==4.7.0.post1->dataquality==0.0.4) (3.55.0)\n",
      "Requirement already satisfied: cloudpickle in /Users/benepstein/Documents/GitHub/dataquality/.venv/lib/python3.9/site-packages (from vaex-core==4.7.0.post1->dataquality==0.0.4) (2.0.0)\n",
      "Requirement already satisfied: future>=0.15.2 in /Users/benepstein/Documents/GitHub/dataquality/.venv/lib/python3.9/site-packages (from vaex-core==4.7.0.post1->dataquality==0.0.4) (0.18.2)\n",
      "Requirement already satisfied: frozendict in /Users/benepstein/Documents/GitHub/dataquality/.venv/lib/python3.9/site-packages (from vaex-core==4.7.0.post1->dataquality==0.0.4) (2.1.1)\n",
      "Requirement already satisfied: pyyaml in /Users/benepstein/Documents/GitHub/dataquality/.venv/lib/python3.9/site-packages (from vaex-core==4.7.0.post1->dataquality==0.0.4) (6.0)\n",
      "Requirement already satisfied: dask in /Users/benepstein/Documents/GitHub/dataquality/.venv/lib/python3.9/site-packages (from vaex-core==4.7.0.post1->dataquality==0.0.4) (2021.11.2)\n",
      "Requirement already satisfied: blake3 in /Users/benepstein/Documents/GitHub/dataquality/.venv/lib/python3.9/site-packages (from vaex-core==4.7.0.post1->dataquality==0.0.4) (0.2.1)\n",
      "Requirement already satisfied: filelock in /Users/benepstein/Documents/GitHub/dataquality/.venv/lib/python3.9/site-packages (from vaex-core==4.7.0.post1->dataquality==0.0.4) (3.4.0)\n",
      "Requirement already satisfied: six in /Users/benepstein/Documents/GitHub/dataquality/.venv/lib/python3.9/site-packages (from vaex-core==4.7.0.post1->dataquality==0.0.4) (1.16.0)\n",
      "Requirement already satisfied: rich in /Users/benepstein/Documents/GitHub/dataquality/.venv/lib/python3.9/site-packages (from vaex-core==4.7.0.post1->dataquality==0.0.4) (10.16.2)\n",
      "Requirement already satisfied: h5py>=2.9 in /Users/benepstein/Documents/GitHub/dataquality/.venv/lib/python3.9/site-packages (from vaex-hdf5==0.11.1->dataquality==0.0.4) (3.6.0)\n",
      "Requirement already satisfied: pytz>=2017.3 in /Users/benepstein/Documents/GitHub/dataquality/.venv/lib/python3.9/site-packages (from pandas>=0.20.0->dataquality==0.0.4) (2021.3)\n",
      "Requirement already satisfied: python-dateutil>=2.7.3 in /Users/benepstein/Documents/GitHub/dataquality/.venv/lib/python3.9/site-packages (from pandas>=0.20.0->dataquality==0.0.4) (2.8.2)\n",
      "Requirement already satisfied: jsonschema in /Users/benepstein/Documents/GitHub/dataquality/.venv/lib/python3.9/site-packages (from JsonForm>=0.0.2->resource==0.2.1->dataquality==0.0.4) (4.2.1)\n",
      "Requirement already satisfied: partd>=0.3.10 in /Users/benepstein/Documents/GitHub/dataquality/.venv/lib/python3.9/site-packages (from dask->vaex-core==4.7.0.post1->dataquality==0.0.4) (1.2.0)\n",
      "Requirement already satisfied: fsspec>=0.6.0 in /Users/benepstein/Documents/GitHub/dataquality/.venv/lib/python3.9/site-packages (from dask->vaex-core==4.7.0.post1->dataquality==0.0.4) (2021.11.1)\n",
      "Requirement already satisfied: packaging>=20.0 in /Users/benepstein/Documents/GitHub/dataquality/.venv/lib/python3.9/site-packages (from dask->vaex-core==4.7.0.post1->dataquality==0.0.4) (21.3)\n",
      "Requirement already satisfied: toolz>=0.8.2 in /Users/benepstein/Documents/GitHub/dataquality/.venv/lib/python3.9/site-packages (from dask->vaex-core==4.7.0.post1->dataquality==0.0.4) (0.11.2)\n",
      "Requirement already satisfied: python-utils>=2.3.0 in /Users/benepstein/Documents/GitHub/dataquality/.venv/lib/python3.9/site-packages (from progressbar2->vaex-core==4.7.0.post1->dataquality==0.0.4) (2.5.6)\n",
      "Requirement already satisfied: commonmark<0.10.0,>=0.9.0 in /Users/benepstein/Documents/GitHub/dataquality/.venv/lib/python3.9/site-packages (from rich->vaex-core==4.7.0.post1->dataquality==0.0.4) (0.9.1)\n",
      "Requirement already satisfied: pygments<3.0.0,>=2.6.0 in /Users/benepstein/Documents/GitHub/dataquality/.venv/lib/python3.9/site-packages (from rich->vaex-core==4.7.0.post1->dataquality==0.0.4) (2.10.0)\n",
      "Requirement already satisfied: colorama<0.5.0,>=0.4.0 in /Users/benepstein/Documents/GitHub/dataquality/.venv/lib/python3.9/site-packages (from rich->vaex-core==4.7.0.post1->dataquality==0.0.4) (0.4.4)\n"
     ]
    },
    {
     "name": "stdout",
     "output_type": "stream",
     "text": [
      "Requirement already satisfied: pyparsing!=3.0.5,>=2.0.2 in /Users/benepstein/Documents/GitHub/dataquality/.venv/lib/python3.9/site-packages (from packaging>=20.0->dask->vaex-core==4.7.0.post1->dataquality==0.0.4) (3.0.6)\n",
      "Requirement already satisfied: locket in /Users/benepstein/Documents/GitHub/dataquality/.venv/lib/python3.9/site-packages (from partd>=0.3.10->dask->vaex-core==4.7.0.post1->dataquality==0.0.4) (0.2.1)\n",
      "Requirement already satisfied: attrs>=17.4.0 in /Users/benepstein/Documents/GitHub/dataquality/.venv/lib/python3.9/site-packages (from jsonschema->JsonForm>=0.0.2->resource==0.2.1->dataquality==0.0.4) (21.2.0)\n",
      "Requirement already satisfied: pyrsistent!=0.17.0,!=0.17.1,!=0.17.2,>=0.14.0 in /Users/benepstein/Documents/GitHub/dataquality/.venv/lib/python3.9/site-packages (from jsonschema->JsonForm>=0.0.2->resource==0.2.1->dataquality==0.0.4) (0.18.0)\n",
      "Building wheels for collected packages: dataquality\n",
      "  Building wheel for dataquality (pyproject.toml) ... \u001b[?25ldone\n",
      "\u001b[?25h  Created wheel for dataquality: filename=dataquality-0.0.4-py3-none-any.whl size=48536 sha256=2b1d2026ea937a1d3aa9e424dc1203bd35c940ddc87c00fabe80a030779aa498\n",
      "  Stored in directory: /private/var/folders/3d/d0dl2ykn6c18qg7kg_j7tplm0000gn/T/pip-ephem-wheel-cache-7mluzeuy/wheels/6d/01/5c/5a5e4c4f4d3ea2066d07fb7f93b690fdf5530f314a686cc929\n",
      "Successfully built dataquality\n",
      "Installing collected packages: dataquality\n",
      "  Attempting uninstall: dataquality\n",
      "    Found existing installation: dataquality 0.0.4\n",
      "    Uninstalling dataquality-0.0.4:\n",
      "      Successfully uninstalled dataquality-0.0.4\n",
      "Successfully installed dataquality-0.0.4\n"
     ]
    }
   ],
   "source": [
    "!pip install ../../../dataquality"
   ]
  },
  {
   "cell_type": "markdown",
   "id": "7090afeb",
   "metadata": {},
   "source": [
    "## Bad run (no data to process)"
   ]
  },
  {
   "cell_type": "code",
   "execution_count": 1,
   "id": "c478724b",
   "metadata": {},
   "outputs": [
    {
     "name": "stdout",
     "output_type": "stream",
     "text": [
      "🔭 Logging you into Galileo\n",
      "\n",
      "👀 Found auth method email set via env, skipping prompt.\n",
      "🚀 You're logged in to Galileo as me@rungalileo.io!\n"
     ]
    },
    {
     "ename": "GalileoException",
     "evalue": "It seems no data is available for run a_new_project2/a_new_run2",
     "output_type": "error",
     "traceback": [
      "\u001b[0;31m---------------------------------------------------------------------------\u001b[0m",
      "\u001b[0;31mGalileoException\u001b[0m                          Traceback (most recent call last)",
      "\u001b[0;32m/var/folders/3d/d0dl2ykn6c18qg7kg_j7tplm0000gn/T/ipykernel_64140/2565723692.py\u001b[0m in \u001b[0;36m<module>\u001b[0;34m\u001b[0m\n\u001b[1;32m      9\u001b[0m \u001b[0;34m\u001b[0m\u001b[0m\n\u001b[1;32m     10\u001b[0m \u001b[0;34m\u001b[0m\u001b[0m\n\u001b[0;32m---> 11\u001b[0;31m \u001b[0mapi_client\u001b[0m\u001b[0;34m.\u001b[0m\u001b[0mreprocess_run\u001b[0m\u001b[0;34m(\u001b[0m\u001b[0mp\u001b[0m\u001b[0;34m,\u001b[0m \u001b[0mr\u001b[0m\u001b[0;34m)\u001b[0m\u001b[0;34m\u001b[0m\u001b[0;34m\u001b[0m\u001b[0m\n\u001b[0m",
      "\u001b[0;32m~/Documents/GitHub/dataquality/.venv/lib/python3.9/site-packages/dataquality/clients/api.py\u001b[0m in \u001b[0;36mreprocess_run\u001b[0;34m(self, project_name, run_name)\u001b[0m\n\u001b[1;32m    284\u001b[0m                         \u001b[0;34mf\"{project_name}/{run_name}\"\u001b[0m\u001b[0;34m\u001b[0m\u001b[0;34m\u001b[0m\u001b[0m\n\u001b[1;32m    285\u001b[0m                     )\n\u001b[0;32m--> 286\u001b[0;31m                 \u001b[0;32mraise\u001b[0m \u001b[0me\u001b[0m \u001b[0;32mfrom\u001b[0m \u001b[0;32mNone\u001b[0m\u001b[0;34m\u001b[0m\u001b[0;34m\u001b[0m\u001b[0m\n\u001b[0m\u001b[1;32m    287\u001b[0m \u001b[0;34m\u001b[0m\u001b[0m\n\u001b[1;32m    288\u001b[0m         body = dict(\n",
      "\u001b[0;31mGalileoException\u001b[0m: It seems no data is available for run a_new_project2/a_new_run2"
     ]
    }
   ],
   "source": [
    "import dataquality\n",
    "from dataquality.clients import api_client \n",
    "dataquality.login()\n",
    "dataquality.config\n",
    "\n",
    "\n",
    "p, r = api_client.get_projects()[2][\"name\"], api_client.get_projects()[2][\"runs\"][0][\"name\"]\n",
    "p, r\n",
    "\n",
    "\n",
    "api_client.reprocess_run(p, r)"
   ]
  },
  {
   "cell_type": "markdown",
   "id": "beac6df2",
   "metadata": {},
   "source": [
    "## Good run (default currently initialized)"
   ]
  },
  {
   "cell_type": "code",
   "execution_count": 6,
   "id": "f0afa65e",
   "metadata": {},
   "outputs": [
    {
     "name": "stdout",
     "output_type": "stream",
     "text": [
      "Job default successfully resubmitted. New results will be available soon at http://127.0.0.1:3000/projects/b0ff7b5a-fb09-4cb2-8dc9-05542c10e05b/runs/038639fc-d2ad-498a-a34e-54de3c4dbb07\n"
     ]
    },
    {
     "data": {
      "text/plain": [
       "{'project_id': 'b0ff7b5a-fb09-4cb2-8dc9-05542c10e05b',\n",
       " 'run_id': '038639fc-d2ad-498a-a34e-54de3c4dbb07',\n",
       " 'proc_name': 'default',\n",
       " 'labels': ['alt.atheism',\n",
       "  'comp.graphics',\n",
       "  'comp.os.ms-windows.misc',\n",
       "  'comp.sys.ibm.pc.hardware',\n",
       "  'comp.sys.mac.hardware',\n",
       "  'comp.windows.x',\n",
       "  'misc.forsale',\n",
       "  'rec.autos',\n",
       "  'rec.motorcycles',\n",
       "  'rec.sport.baseball',\n",
       "  'rec.sport.hockey',\n",
       "  'sci.crypt',\n",
       "  'sci.electronics',\n",
       "  'sci.med',\n",
       "  'sci.space',\n",
       "  'soc.religion.christian',\n",
       "  'talk.politics.guns',\n",
       "  'talk.politics.mideast',\n",
       "  'talk.politics.misc',\n",
       "  'talk.religion.misc'],\n",
       " 'tasks': None,\n",
       " 'message': 'Processing dataquality!',\n",
       " 'link': 'http://127.0.0.1:3000/projects/b0ff7b5a-fb09-4cb2-8dc9-05542c10e05b/runs/038639fc-d2ad-498a-a34e-54de3c4dbb07'}"
      ]
     },
     "execution_count": 6,
     "metadata": {},
     "output_type": "execute_result"
    }
   ],
   "source": [
    "api_client.reprocess_run()"
   ]
  },
  {
   "cell_type": "markdown",
   "id": "54589a4e",
   "metadata": {},
   "source": [
    "## Good run (manually provided)"
   ]
  },
  {
   "cell_type": "code",
   "execution_count": 5,
   "id": "4ac4cae3",
   "metadata": {},
   "outputs": [
    {
     "name": "stdout",
     "output_type": "stream",
     "text": [
      "b0ff7b5a-fb09-4cb2-8dc9-05542c10e05b 038639fc-d2ad-498a-a34e-54de3c4dbb07\n",
      "just_beige_scallop clinical_plum_gerbil\n",
      "Job default successfully resubmitted. New results will be available soon at http://127.0.0.1:3000/projects/b0ff7b5a-fb09-4cb2-8dc9-05542c10e05b/runs/038639fc-d2ad-498a-a34e-54de3c4dbb07\n"
     ]
    },
    {
     "data": {
      "text/plain": [
       "{'project_id': 'b0ff7b5a-fb09-4cb2-8dc9-05542c10e05b',\n",
       " 'run_id': '038639fc-d2ad-498a-a34e-54de3c4dbb07',\n",
       " 'proc_name': 'default',\n",
       " 'labels': ['alt.atheism',\n",
       "  'comp.graphics',\n",
       "  'comp.os.ms-windows.misc',\n",
       "  'comp.sys.ibm.pc.hardware',\n",
       "  'comp.sys.mac.hardware',\n",
       "  'comp.windows.x',\n",
       "  'misc.forsale',\n",
       "  'rec.autos',\n",
       "  'rec.motorcycles',\n",
       "  'rec.sport.baseball',\n",
       "  'rec.sport.hockey',\n",
       "  'sci.crypt',\n",
       "  'sci.electronics',\n",
       "  'sci.med',\n",
       "  'sci.space',\n",
       "  'soc.religion.christian',\n",
       "  'talk.politics.guns',\n",
       "  'talk.politics.mideast',\n",
       "  'talk.politics.misc',\n",
       "  'talk.religion.misc'],\n",
       " 'tasks': None,\n",
       " 'message': 'Processing dataquality!',\n",
       " 'link': 'http://127.0.0.1:3000/projects/b0ff7b5a-fb09-4cb2-8dc9-05542c10e05b/runs/038639fc-d2ad-498a-a34e-54de3c4dbb07'}"
      ]
     },
     "execution_count": 5,
     "metadata": {},
     "output_type": "execute_result"
    }
   ],
   "source": [
    "from dataquality import config\n",
    "p, r = config.current_project_id, config.current_run_id\n",
    "print(p, r)\n",
    "pn = api_client.get_project(p)[\"name\"]\n",
    "rn = api_client.get_project_run(p, r)[\"name\"]\n",
    "\n",
    "print(pn, rn)\n",
    "\n",
    "api_client.reprocess_run(pn, rn)"
   ]
  },
  {
   "cell_type": "code",
   "execution_count": 20,
   "id": "016ddc6e",
   "metadata": {},
   "outputs": [
    {
     "data": {
      "text/plain": [
       "(array([0.93977603, 0.47317141, 0.66128151, 0.1081444 , 0.23966007,\n",
       "        0.34280039, 0.84580327, 0.32180892, 0.78400448, 0.86464419]),\n",
       " array([10000,     1,     4,     1,     0,     3,     4,     3,     2,\n",
       "            4]))"
      ]
     },
     "execution_count": 20,
     "metadata": {},
     "output_type": "execute_result"
    }
   ],
   "source": [
    "import numpy as np\n",
    "\n",
    "x = np.random.rand(10)\n",
    "y = np.random.randint(5, size=10)\n",
    "y[0] = 10000\n",
    "x, y"
   ]
  },
  {
   "cell_type": "code",
   "execution_count": 22,
   "id": "4241f9ae",
   "metadata": {},
   "outputs": [
    {
     "data": {
      "text/plain": [
       "0.9390730758423024"
      ]
     },
     "execution_count": 22,
     "metadata": {},
     "output_type": "execute_result"
    }
   ],
   "source": [
    "np.average(x, weights=y)"
   ]
  },
  {
   "cell_type": "code",
   "execution_count": 23,
   "id": "2938bc60",
   "metadata": {},
   "outputs": [
    {
     "data": {
      "text/plain": [
       "0.55810946777751"
      ]
     },
     "execution_count": 23,
     "metadata": {},
     "output_type": "execute_result"
    }
   ],
   "source": [
    "x.mean()"
   ]
  },
  {
   "cell_type": "code",
   "execution_count": 2,
   "id": "b7602743",
   "metadata": {},
   "outputs": [],
   "source": [
    "from sklearn.metrics import precision_recall_fscore_support\n",
    "import numpy as np\n",
    "\n",
    "for _ in range(1000):\n",
    "    ypred = np.random.randint(5, size=10_000)\n",
    "    ygold = np.random.randint(5, size=10_000)\n",
    "\n",
    "    prec, rec, f1, _ = precision_recall_fscore_support(ypred, ygold, average=\"micro\")\n",
    "    assert np.allclose(prec, rec, f1)"
   ]
  },
  {
   "cell_type": "code",
   "execution_count": 229,
   "id": "89eab735",
   "metadata": {},
   "outputs": [],
   "source": [
    "import json\n",
    "from typing import *\n",
    "import pandas as pd\n",
    "import vaex\n",
    "from collections import defaultdict\n",
    "from random import random\n",
    "\n",
    "\n",
    "__data_schema_version__ = 1\n",
    "class Logger:\n",
    "    def __init__(\n",
    "        self,\n",
    "        text: List[str] = None,\n",
    "        text_tokenized: List[List[List[str]]] = None,\n",
    "        gold_spans: List[List[Dict]] = None,\n",
    "        ids: List[int] = None,\n",
    "        split: str = None,\n",
    "        meta: Optional[Dict[str, List[Union[str, float, int]]]] = None,\n",
    "    ) -> None:\n",
    "        self.text = text if text is not None else []\n",
    "        self.text_tokenized = text_tokenized if text_tokenized is not None else []\n",
    "        self.gold_spans = gold_spans if gold_spans is not None else []\n",
    "        self.ids = ids if ids is not None else []\n",
    "        self.split = split\n",
    "        self.meta = meta or {}\n",
    "        \n",
    "    def _get_input_dict(self) -> Dict[str, Any]:\n",
    "        return dict(\n",
    "            id=self.ids,\n",
    "            text=self.text,\n",
    "            text_tokenized=json.dumps(self.text_tokenized),\n",
    "            split=self.split,\n",
    "            data_schema_version=__data_schema_version__,\n",
    "            gold_spans=json.dumps(self.gold_spans) if self.split != \"inference\" else None,\n",
    "            **self.meta,\n",
    "        )\n",
    "    \n",
    "    \n",
    "class ModelLogger:\n",
    "    def __init__(\n",
    "        self,\n",
    "        gold_emb: List[List[np.ndarray]] = None,\n",
    "        pred_emb: List[List[np.ndarray]] = None,\n",
    "        pred_spans: List[List[List[np.ndarray]]] = None,\n",
    "        probs: Union[List, np.ndarray] = None,\n",
    "        ids: Union[List, np.ndarray] = None,\n",
    "        split: Optional[str] = None,\n",
    "        epoch: Optional[int] = None,\n",
    "    ) -> None:\n",
    "        super().__init__()\n",
    "        # Need to compare to None because they may be np arrays which cannot be\n",
    "        # evaluated with bool directly\n",
    "        self.gold_emb = gold_emb if gold_emb is not None else []\n",
    "        self.pred_emb = pred_emb if pred_emb is not None else []\n",
    "        self.pred_spans = pred_spans if pred_spans is not None else []\n",
    "        self.probs = probs if probs is not None else []\n",
    "        self.ids = ids if ids is not None else []\n",
    "        self.split = split\n",
    "        self.epoch = epoch\n",
    "        self.dep_scores = []\n",
    "        for i in self.probs:\n",
    "            self.dep_scores.append([random() for _ in range(len(i))])\n",
    "        \n",
    "        \n",
    "    def _get_data_dict(self) -> Dict[str, Any]:\n",
    "        data = defaultdict(list)\n",
    "        for record_id, span_deps, gold_emb, pred_emb, pred_span in zip(\n",
    "            self.ids, self.dep_scores, self.gold_emb, self.pred_emb, self.pred_spans\n",
    "        ):\n",
    "            record = {\n",
    "                \"id\": record_id,\n",
    "                \"epoch\": self.epoch,\n",
    "                \"split\": self.split,\n",
    "                \"pred_span\": json.dumps(pred_span),\n",
    "                \"num_pred_spans\": len(pred_span),\n",
    "                \"num_gold_spans\": len(gold_emb),\n",
    "                \"data_schema_version\": __data_schema_version__,\n",
    "            }\n",
    "            for i, gold_span_emb in enumerate(gold_emb):\n",
    "                record[f\"gold_emb_{i}\"] = gold_span_emb\n",
    "            for i, pred_span_emb in enumerate(pred_emb):\n",
    "                record[f\"pred_emb_{i}\"] = pred_span_emb\n",
    "            for i, span_dep in enumerate(span_deps):\n",
    "                record[f\"dep_{i}\"] = span_dep\n",
    "\n",
    "            # Pad the embeddings and deps for missing values\n",
    "            # We enable up to 5 spans, so for samples with less, we need to add values\n",
    "            # those vaex df columns. We add np.zeros for embs and -1 for dep scores\n",
    "            rng = range(record[\"num_pred_spans\"], 5)\n",
    "            for i in rng:\n",
    "                record[f\"pred_emb_{i}\"] = np.zeros(768)\n",
    "                record[f\"dep_{i}\"] = -1\n",
    "            \n",
    "            rng = range(record[\"num_gold_spans\"], 5)\n",
    "            for i in rng:\n",
    "                record[f\"gold_emb_{i}\"] = np.zeros(768)\n",
    "\n",
    "            for k in record.keys():\n",
    "                data[k].append(record[k])\n",
    "        return data\n",
    "    \n",
    "    def validate(self):\n",
    "        avg_gold_emb: List[List[np.ndarray]] = []\n",
    "        avg_pred_emb: List[List[np.ndarray]] = []\n",
    "        for gold_sample, pred_sample in zip(self.gold_emb, self.pred_emb):\n",
    "            avg_gold_emb.append(\n",
    "                [np.mean(gold_span, axis=0) for gold_span in gold_sample]\n",
    "            )\n",
    "            avg_pred_emb.append(\n",
    "                [np.mean(pred_span, axis=0) for pred_span in pred_sample]\n",
    "            )\n",
    "        self.gold_emb = avg_gold_emb\n",
    "        self.pred_emb = avg_pred_emb\n",
    "    \n",
    "\n"
   ]
  },
  {
   "cell_type": "code",
   "execution_count": 230,
   "id": "cfc28788",
   "metadata": {},
   "outputs": [],
   "source": [
    "text_inputs: List[str] = [\n",
    "    \"The president is Joe Biden\",\n",
    "    \"Joe Biden addressed the United States on Monday\"\n",
    "]\n",
    "text_tokenized: List[List[List[str]]] = [\n",
    "    [\n",
    "       # span indexes\n",
    "       # 0        1       2            3       4        5     6          7\n",
    "        [\"the\"], [\"pres\", \"##ident\"], [\"is\"], [\"joe\"], [\"bi\", \"##den\"], [\".\"]\n",
    "    ],\n",
    "    [\n",
    "       # 0        1     2          3          4         5\n",
    "        [\"joe\"], [\"bi\", \"##den\"], [\"address\", \"##ed\"], [\"the\"],\n",
    "       # 6        7        8        9        10      11          12\n",
    "        [\"unite\", \"##d\"], [\"state\", \"##s\"], [\"on\"], [\"monday\"], [\".\"]\n",
    "    ]\n",
    "]\n",
    "gold_spans: List[List[dict]] = [\n",
    "    [\n",
    "        {\"start\":4, \"end\":7, \"label\":\"person\"}  # [joe], [bi, ##den]\n",
    "    ],\n",
    "    [\n",
    "        {\"start\":0, \"end\":3, \"label\":\"person\"},    # [joe], [bi, ##den]\n",
    "        {\"start\":6, \"end\":10, \"label\":\"location\"}  # [unite, ##d], [state, ##s]\n",
    "    ]\n",
    "]\n",
    "ids: List[int] = [0, 1]\n",
    "split = \"training\"\n",
    "\n",
    "logger = Logger(text_inputs, text_tokenized, gold_spans, ids, split)"
   ]
  },
  {
   "cell_type": "code",
   "execution_count": 231,
   "id": "e325b81a",
   "metadata": {},
   "outputs": [
    {
     "ename": "TypeError",
     "evalue": "export() got an unexpected keyword argument 'reduce_large'",
     "output_type": "error",
     "traceback": [
      "\u001b[0;31m---------------------------------------------------------------------------\u001b[0m",
      "\u001b[0;31mTypeError\u001b[0m                                 Traceback (most recent call last)",
      "\u001b[0;32m/var/folders/3d/d0dl2ykn6c18qg7kg_j7tplm0000gn/T/ipykernel_6409/3965585070.py\u001b[0m in \u001b[0;36m<module>\u001b[0;34m\u001b[0m\n\u001b[1;32m      1\u001b[0m \u001b[0mdf\u001b[0m \u001b[0;34m=\u001b[0m \u001b[0mvaex\u001b[0m\u001b[0;34m.\u001b[0m\u001b[0mfrom_pandas\u001b[0m\u001b[0;34m(\u001b[0m\u001b[0mpd\u001b[0m\u001b[0;34m.\u001b[0m\u001b[0mDataFrame\u001b[0m\u001b[0;34m(\u001b[0m\u001b[0mlogger\u001b[0m\u001b[0;34m.\u001b[0m\u001b[0m_get_input_dict\u001b[0m\u001b[0;34m(\u001b[0m\u001b[0;34m)\u001b[0m\u001b[0;34m)\u001b[0m\u001b[0;34m)\u001b[0m\u001b[0;34m\u001b[0m\u001b[0;34m\u001b[0m\u001b[0m\n\u001b[0;32m----> 2\u001b[0;31m \u001b[0mdf\u001b[0m\u001b[0;34m.\u001b[0m\u001b[0mexport\u001b[0m\u001b[0;34m(\u001b[0m\u001b[0;34m\"input_data.arrow\"\u001b[0m\u001b[0;34m,\u001b[0m \u001b[0mreduce_large\u001b[0m\u001b[0;34m=\u001b[0m\u001b[0;32mTrue\u001b[0m\u001b[0;34m)\u001b[0m\u001b[0;34m\u001b[0m\u001b[0;34m\u001b[0m\u001b[0m\n\u001b[0m\u001b[1;32m      3\u001b[0m \u001b[0mdf\u001b[0m\u001b[0;34m[\u001b[0m\u001b[0;34m\"text_tokenized\"\u001b[0m\u001b[0;34m]\u001b[0m\u001b[0;34m.\u001b[0m\u001b[0mvalues\u001b[0m\u001b[0;34m[\u001b[0m\u001b[0;36m0\u001b[0m\u001b[0;34m]\u001b[0m\u001b[0;34m\u001b[0m\u001b[0;34m\u001b[0m\u001b[0m\n",
      "\u001b[0;31mTypeError\u001b[0m: export() got an unexpected keyword argument 'reduce_large'"
     ]
    }
   ],
   "source": [
    "df = vaex.from_pandas(pd.DataFrame(logger._get_input_dict()))\n",
    "df.export(\"input_data.arrow\", reduce_large=True)\n",
    "df[\"text_tokenized\"].values[0]"
   ]
  },
  {
   "cell_type": "code",
   "execution_count": 232,
   "id": "70851620",
   "metadata": {},
   "outputs": [
    {
     "data": {
      "text/html": [
       "<table>\n",
       "<thead>\n",
       "<tr><th>#                            </th><th style=\"text-align: right;\">  id</th><th style=\"text-align: right;\">  epoch</th><th>split   </th><th>pred_span                                          </th><th style=\"text-align: right;\">  num_pred_spans</th><th style=\"text-align: right;\">  num_gold_spans</th><th style=\"text-align: right;\">  data_schema_version</th><th>gold_emb_0                                         </th><th>pred_emb_0                                         </th><th style=\"text-align: right;\">   dep_0</th><th>pred_emb_1                                         </th><th style=\"text-align: right;\">    dep_1</th><th>pred_emb_2                                         </th><th style=\"text-align: right;\">  dep_2</th><th>pred_emb_3                                         </th><th style=\"text-align: right;\">  dep_3</th><th>pred_emb_4                                         </th><th style=\"text-align: right;\">  dep_4</th><th>gold_emb_1                                         </th><th>gold_emb_2                                         </th><th>gold_emb_3                                         </th><th>gold_emb_4                                         </th></tr>\n",
       "</thead>\n",
       "<tbody>\n",
       "<tr><td><i style='opacity: 0.6'>0</i></td><td style=\"text-align: right;\">   0</td><td style=\"text-align: right;\">      0</td><td>training</td><td>[{&quot;start&quot;: 4, &quot;end&quot;: 7, &quot;label&quot;: &quot;person&quot;}]        </td><td style=\"text-align: right;\">               1</td><td style=\"text-align: right;\">               1</td><td style=\"text-align: right;\">                    1</td><td>&#x27;array([0.88952657, 0.60228823, 0.71759194, 0.20...</td><td>&#x27;array([0.45615093, 0.54049334, 0.73304172, 0.33...</td><td style=\"text-align: right;\">0.156726</td><td>&#x27;array([0., 0., 0., 0., 0., 0., 0., 0., 0., 0., ...</td><td style=\"text-align: right;\">-1       </td><td>&#x27;array([0., 0., 0., 0., 0., 0., 0., 0., 0., 0., ...</td><td style=\"text-align: right;\">     -1</td><td>&#x27;array([0., 0., 0., 0., 0., 0., 0., 0., 0., 0., ...</td><td style=\"text-align: right;\">     -1</td><td>&#x27;array([0., 0., 0., 0., 0., 0., 0., 0., 0., 0., ...</td><td style=\"text-align: right;\">     -1</td><td>&#x27;array([0., 0., 0., 0., 0., 0., 0., 0., 0., 0., ...</td><td>&#x27;array([0., 0., 0., 0., 0., 0., 0., 0., 0., 0., ...</td><td>&#x27;array([0., 0., 0., 0., 0., 0., 0., 0., 0., 0., ...</td><td>&#x27;array([0., 0., 0., 0., 0., 0., 0., 0., 0., 0., ...</td></tr>\n",
       "<tr><td><i style='opacity: 0.6'>1</i></td><td style=\"text-align: right;\">   1</td><td style=\"text-align: right;\">      0</td><td>training</td><td>&#x27;[{&quot;start&quot;: 0, &quot;end&quot;: 3, &quot;label&quot;: &quot;person&quot;}, {&quot;s...</td><td style=\"text-align: right;\">               2</td><td style=\"text-align: right;\">               2</td><td style=\"text-align: right;\">                    1</td><td>&#x27;array([0.38557429, 0.41706254, 0.6371061 , 0.38...</td><td>&#x27;array([0.43439484, 0.38752056, 0.35483564, 0.52...</td><td style=\"text-align: right;\">0.614494</td><td>&#x27;array([9.04401978e-02, 2.41261098e-01, 6.729725...</td><td style=\"text-align: right;\"> 0.213313</td><td>&#x27;array([0., 0., 0., 0., 0., 0., 0., 0., 0., 0., ...</td><td style=\"text-align: right;\">     -1</td><td>&#x27;array([0., 0., 0., 0., 0., 0., 0., 0., 0., 0., ...</td><td style=\"text-align: right;\">     -1</td><td>&#x27;array([0., 0., 0., 0., 0., 0., 0., 0., 0., 0., ...</td><td style=\"text-align: right;\">     -1</td><td>&#x27;array([0.43243748, 0.29057348, 0.50017519, 0.72...</td><td>&#x27;array([0., 0., 0., 0., 0., 0., 0., 0., 0., 0., ...</td><td>&#x27;array([0., 0., 0., 0., 0., 0., 0., 0., 0., 0., ...</td><td>&#x27;array([0., 0., 0., 0., 0., 0., 0., 0., 0., 0., ...</td></tr>\n",
       "</tbody>\n",
       "</table>"
      ],
      "text/plain": [
       "  #    id    epoch  split     pred_span                                              num_pred_spans    num_gold_spans    data_schema_version  gold_emb_0                                           pred_emb_0                                              dep_0  pred_emb_1                                               dep_1  pred_emb_2                                             dep_2  pred_emb_3                                             dep_3  pred_emb_4                                             dep_4  gold_emb_1                                           gold_emb_2                                           gold_emb_3                                           gold_emb_4\n",
       "  0     0        0  training  [{\"start\": 4, \"end\": 7, \"label\": \"person\"}]                         1                 1                      1  'array([0.88952657, 0.60228823, 0.71759194, 0.20...  'array([0.45615093, 0.54049334, 0.73304172, 0.33...  0.156726  'array([0., 0., 0., 0., 0., 0., 0., 0., 0., 0., ...  -1         'array([0., 0., 0., 0., 0., 0., 0., 0., 0., 0., ...       -1  'array([0., 0., 0., 0., 0., 0., 0., 0., 0., 0., ...       -1  'array([0., 0., 0., 0., 0., 0., 0., 0., 0., 0., ...       -1  'array([0., 0., 0., 0., 0., 0., 0., 0., 0., 0., ...  'array([0., 0., 0., 0., 0., 0., 0., 0., 0., 0., ...  'array([0., 0., 0., 0., 0., 0., 0., 0., 0., 0., ...  'array([0., 0., 0., 0., 0., 0., 0., 0., 0., 0., ...\n",
       "  1     1        0  training  '[{\"start\": 0, \"end\": 3, \"label\": \"person\"}, {\"s...                 2                 2                      1  'array([0.38557429, 0.41706254, 0.6371061 , 0.38...  'array([0.43439484, 0.38752056, 0.35483564, 0.52...  0.614494  'array([9.04401978e-02, 2.41261098e-01, 6.729725...   0.213313  'array([0., 0., 0., 0., 0., 0., 0., 0., 0., 0., ...       -1  'array([0., 0., 0., 0., 0., 0., 0., 0., 0., 0., ...       -1  'array([0., 0., 0., 0., 0., 0., 0., 0., 0., 0., ...       -1  'array([0.43243748, 0.29057348, 0.50017519, 0.72...  'array([0., 0., 0., 0., 0., 0., 0., 0., 0., 0., ...  'array([0., 0., 0., 0., 0., 0., 0., 0., 0., 0., ...  'array([0., 0., 0., 0., 0., 0., 0., 0., 0., 0., ..."
      ]
     },
     "execution_count": 232,
     "metadata": {},
     "output_type": "execute_result"
    }
   ],
   "source": [
    "probs = [\n",
    "    [\n",
    "        [np.random.rand(10), np.random.rand(10), np.random.rand(10)]\n",
    "    ],\n",
    "    [\n",
    "        [np.random.rand(10), np.random.rand(10)],\n",
    "        [np.random.rand(10)]\n",
    "    ]\n",
    "]\n",
    "\n",
    "pred_spans = [\n",
    "    [\n",
    "        {\"start\":4, \"end\":7, \"label\":\"person\"}  # [joe], [bi, ##den]\n",
    "    ],\n",
    "    [\n",
    "        {\"start\":0, \"end\":3, \"label\":\"person\"},    # [joe], [bi, ##den]\n",
    "        {\"start\":11, \"end\":12, \"label\":\"person\"}  # [monday] (bad prediction)\n",
    "    ]\n",
    "]\n",
    "\n",
    "\n",
    "pred_emb = [\n",
    "    [\n",
    "        [np.random.rand(768), np.random.rand(768), np.random.rand(768)]  # Correct span\n",
    "    ],\n",
    "    [\n",
    "        [np.random.rand(768), np.random.rand(768)],  # Correct span\n",
    "        [np.random.rand(768)]  # Incorrect span, but the prediction\n",
    "    ]\n",
    "]\n",
    "\n",
    "\n",
    "gold_emb = [\n",
    "    [\n",
    "        [np.random.rand(768), np.random.rand(768), np.random.rand(768)]  # True span\n",
    "    ],\n",
    "    [\n",
    "        [np.random.rand(768), np.random.rand(768), np.random.rand(768)],                      # True span\n",
    "        [np.random.rand(768), np.random.rand(768), np.random.rand(768), np.random.rand(768)]  # True span\n",
    "    ]\n",
    "]\n",
    "\n",
    "ids = [0, 1]\n",
    "epoch = 0\n",
    "split = \"training\"\n",
    "\n",
    "\n",
    "mlogger = ModelLogger(\n",
    "    gold_emb, pred_emb, pred_spans, probs, ids, split, epoch\n",
    ")\n",
    "mlogger.validate()\n",
    "data = mlogger._get_data_dict()\n",
    "model_output = vaex.from_dict(data)\n",
    "model_output.export('model_output.hdf5')\n",
    "model_output"
   ]
  },
  {
   "cell_type": "code",
   "execution_count": 228,
   "id": "f2c95120",
   "metadata": {},
   "outputs": [
    {
     "data": {
      "text/plain": [
       "id                      int64\n",
       "text                   string\n",
       "text_tokenized         object\n",
       "split                  string\n",
       "data_schema_version     int64\n",
       "gold_spans             object\n",
       "dtype: object"
      ]
     },
     "execution_count": 228,
     "metadata": {},
     "output_type": "execute_result"
    }
   ],
   "source": [
    "df.dtypes"
   ]
  },
  {
   "cell_type": "code",
   "execution_count": 185,
   "id": "c7b560c4",
   "metadata": {},
   "outputs": [],
   "source": [
    "# len(mlogger.gold_emb[1])\n",
    "x = [np.random.rand(10), np.array([10])]\n",
    "y = [np.array([])]\n",
    "np.isnan(np.mean(y))\n",
    "\n",
    "\n",
    "\n",
    "gold_emb = [\n",
    "    [\n",
    "        [np.random.rand(768), np.random.rand(768), np.random.rand(768)]  # True span\n",
    "    ],\n",
    "    [\n",
    "        [np.random.rand(768), np.random.rand(768), np.random.rand(768)],                      # True span\n",
    "        [np.random.rand(768), np.random.rand(768), np.random.rand(768), np.random.rand(768)]  # True span\n",
    "    ],\n",
    "    [np.array([])]\n",
    "]\n",
    "\n",
    "avg_gold_emb = []\n",
    "for gold_spans in gold_emb:\n",
    "    avg_gold_emb.append([np.mean(gold_span, axis=0) for gold_span in gold_spans])\n"
   ]
  },
  {
   "cell_type": "code",
   "execution_count": 200,
   "id": "37dee5d9",
   "metadata": {},
   "outputs": [
    {
     "data": {
      "text/plain": [
       "False"
      ]
     },
     "execution_count": 200,
     "metadata": {},
     "output_type": "execute_result"
    }
   ],
   "source": [
    "np.isnan(avg_gold_emb[0][0]).all()"
   ]
  },
  {
   "cell_type": "code",
   "execution_count": 203,
   "id": "b16297a3",
   "metadata": {},
   "outputs": [
    {
     "data": {
      "text/plain": [
       "True"
      ]
     },
     "execution_count": 203,
     "metadata": {},
     "output_type": "execute_result"
    }
   ],
   "source": [
    "np.isnan(np.nan).all()"
   ]
  },
  {
   "cell_type": "code",
   "execution_count": 207,
   "id": "27198c9b",
   "metadata": {},
   "outputs": [
    {
     "data": {
      "text/plain": [
       "768"
      ]
     },
     "execution_count": 207,
     "metadata": {},
     "output_type": "execute_result"
    }
   ],
   "source": [
    "len(avg_gold_emb[2])\n",
    "\n",
    "next(filter(lambda emb: not np.isnan(emb[0]).all(), avg_gold_emb))[0].shape[0]"
   ]
  },
  {
   "cell_type": "code",
   "execution_count": 173,
   "id": "97f5eb1d",
   "metadata": {
    "scrolled": true
   },
   "outputs": [
    {
     "name": "stdout",
     "output_type": "stream",
     "text": [
      "set()\n"
     ]
    },
    {
     "ename": "ValueError",
     "evalue": "Unequal shapes are not supported yet, please open an issue on https://github.com/vaexio/vaex/issues",
     "output_type": "error",
     "traceback": [
      "\u001b[0;31m---------------------------------------------------------------------------\u001b[0m",
      "\u001b[0;31mValueError\u001b[0m                                Traceback (most recent call last)",
      "\u001b[0;32m/var/folders/3d/d0dl2ykn6c18qg7kg_j7tplm0000gn/T/ipykernel_6409/2663045017.py\u001b[0m in \u001b[0;36m<module>\u001b[0;34m\u001b[0m\n\u001b[1;32m      9\u001b[0m \u001b[0;34m\u001b[0m\u001b[0m\n\u001b[1;32m     10\u001b[0m \u001b[0;34m\u001b[0m\u001b[0m\n\u001b[0;32m---> 11\u001b[0;31m \u001b[0mvaex\u001b[0m\u001b[0;34m.\u001b[0m\u001b[0mconcat\u001b[0m\u001b[0;34m(\u001b[0m\u001b[0;34m[\u001b[0m\u001b[0mdf1\u001b[0m\u001b[0;34m,\u001b[0m\u001b[0mdf2\u001b[0m\u001b[0;34m]\u001b[0m\u001b[0;34m)\u001b[0m\u001b[0;34m[\u001b[0m\u001b[0;34m:\u001b[0m\u001b[0;36m1\u001b[0m\u001b[0;34m]\u001b[0m\u001b[0;34m.\u001b[0m\u001b[0memb_1\u001b[0m\u001b[0;34m.\u001b[0m\u001b[0mvalues\u001b[0m\u001b[0;34m\u001b[0m\u001b[0;34m\u001b[0m\u001b[0m\n\u001b[0m",
      "\u001b[0;32m~/Documents/GitHub/dataquality/.venv/lib/python3.9/site-packages/vaex/__init__.py\u001b[0m in \u001b[0;36mconcat\u001b[0;34m(dfs, resolver)\u001b[0m\n\u001b[1;32m    804\u001b[0m     '''\n\u001b[1;32m    805\u001b[0m     \u001b[0mdf\u001b[0m\u001b[0;34m,\u001b[0m \u001b[0;34m*\u001b[0m\u001b[0mtail\u001b[0m \u001b[0;34m=\u001b[0m \u001b[0mdfs\u001b[0m\u001b[0;34m\u001b[0m\u001b[0;34m\u001b[0m\u001b[0m\n\u001b[0;32m--> 806\u001b[0;31m     \u001b[0;32mreturn\u001b[0m \u001b[0mdf\u001b[0m\u001b[0;34m.\u001b[0m\u001b[0mconcat\u001b[0m\u001b[0;34m(\u001b[0m\u001b[0;34m*\u001b[0m\u001b[0mtail\u001b[0m\u001b[0;34m,\u001b[0m \u001b[0mresolver\u001b[0m\u001b[0;34m=\u001b[0m\u001b[0mresolver\u001b[0m\u001b[0;34m)\u001b[0m\u001b[0;34m\u001b[0m\u001b[0;34m\u001b[0m\u001b[0m\n\u001b[0m\u001b[1;32m    807\u001b[0m \u001b[0;34m\u001b[0m\u001b[0m\n\u001b[1;32m    808\u001b[0m \u001b[0;32mdef\u001b[0m \u001b[0mvrange\u001b[0m\u001b[0;34m(\u001b[0m\u001b[0mstart\u001b[0m\u001b[0;34m,\u001b[0m \u001b[0mstop\u001b[0m\u001b[0;34m,\u001b[0m \u001b[0mstep\u001b[0m\u001b[0;34m=\u001b[0m\u001b[0;36m1\u001b[0m\u001b[0;34m,\u001b[0m \u001b[0mdtype\u001b[0m\u001b[0;34m=\u001b[0m\u001b[0;34m'f8'\u001b[0m\u001b[0;34m)\u001b[0m\u001b[0;34m:\u001b[0m\u001b[0;34m\u001b[0m\u001b[0;34m\u001b[0m\u001b[0m\n",
      "\u001b[0;32m~/Documents/GitHub/dataquality/.venv/lib/python3.9/site-packages/vaex/dataframe.py\u001b[0m in \u001b[0;36mconcat\u001b[0;34m(self, resolver, *others)\u001b[0m\n\u001b[1;32m   6091\u001b[0m         \u001b[0mfirst\u001b[0m\u001b[0;34m,\u001b[0m \u001b[0;34m*\u001b[0m\u001b[0mtail\u001b[0m \u001b[0;34m=\u001b[0m \u001b[0mdfs\u001b[0m\u001b[0;34m\u001b[0m\u001b[0;34m\u001b[0m\u001b[0m\n\u001b[1;32m   6092\u001b[0m         \u001b[0;31m# concatenate all datasets\u001b[0m\u001b[0;34m\u001b[0m\u001b[0;34m\u001b[0m\u001b[0;34m\u001b[0m\u001b[0m\n\u001b[0;32m-> 6093\u001b[0;31m         \u001b[0mdataset\u001b[0m \u001b[0;34m=\u001b[0m \u001b[0mfirst\u001b[0m\u001b[0;34m.\u001b[0m\u001b[0mdataset\u001b[0m\u001b[0;34m.\u001b[0m\u001b[0mconcat\u001b[0m\u001b[0;34m(\u001b[0m\u001b[0;34m*\u001b[0m\u001b[0;34m[\u001b[0m\u001b[0mdf\u001b[0m\u001b[0;34m.\u001b[0m\u001b[0mdataset\u001b[0m \u001b[0;32mfor\u001b[0m \u001b[0mdf\u001b[0m \u001b[0;32min\u001b[0m \u001b[0mtail\u001b[0m\u001b[0;34m]\u001b[0m\u001b[0;34m,\u001b[0m \u001b[0mresolver\u001b[0m\u001b[0;34m=\u001b[0m\u001b[0mresolver\u001b[0m\u001b[0;34m)\u001b[0m\u001b[0;34m\u001b[0m\u001b[0;34m\u001b[0m\u001b[0m\n\u001b[0m\u001b[1;32m   6094\u001b[0m         \u001b[0mdf_concat\u001b[0m \u001b[0;34m=\u001b[0m \u001b[0mvaex\u001b[0m\u001b[0;34m.\u001b[0m\u001b[0mdataframe\u001b[0m\u001b[0;34m.\u001b[0m\u001b[0mDataFrameLocal\u001b[0m\u001b[0;34m(\u001b[0m\u001b[0mdataset\u001b[0m\u001b[0;34m)\u001b[0m\u001b[0;34m\u001b[0m\u001b[0;34m\u001b[0m\u001b[0m\n\u001b[1;32m   6095\u001b[0m \u001b[0;34m\u001b[0m\u001b[0m\n",
      "\u001b[0;32m~/Documents/GitHub/dataquality/.venv/lib/python3.9/site-packages/vaex/dataset.py\u001b[0m in \u001b[0;36mconcat\u001b[0;34m(self, resolver, *others)\u001b[0m\n\u001b[1;32m    435\u001b[0m             \u001b[0;32melse\u001b[0m\u001b[0;34m:\u001b[0m\u001b[0;34m\u001b[0m\u001b[0;34m\u001b[0m\u001b[0m\n\u001b[1;32m    436\u001b[0m                 \u001b[0mdatasets\u001b[0m\u001b[0;34m.\u001b[0m\u001b[0mextend\u001b[0m\u001b[0;34m(\u001b[0m\u001b[0;34m[\u001b[0m\u001b[0mother\u001b[0m\u001b[0;34m]\u001b[0m\u001b[0;34m)\u001b[0m\u001b[0;34m\u001b[0m\u001b[0;34m\u001b[0m\u001b[0m\n\u001b[0;32m--> 437\u001b[0;31m         \u001b[0;32mreturn\u001b[0m \u001b[0mDatasetConcatenated\u001b[0m\u001b[0;34m(\u001b[0m\u001b[0mdatasets\u001b[0m\u001b[0;34m,\u001b[0m \u001b[0mresolver\u001b[0m\u001b[0;34m=\u001b[0m\u001b[0mresolver\u001b[0m\u001b[0;34m)\u001b[0m\u001b[0;34m\u001b[0m\u001b[0;34m\u001b[0m\u001b[0m\n\u001b[0m\u001b[1;32m    438\u001b[0m \u001b[0;34m\u001b[0m\u001b[0m\n\u001b[1;32m    439\u001b[0m     \u001b[0;32mdef\u001b[0m \u001b[0mtake\u001b[0m\u001b[0;34m(\u001b[0m\u001b[0mself\u001b[0m\u001b[0;34m,\u001b[0m \u001b[0mindices\u001b[0m\u001b[0;34m,\u001b[0m \u001b[0mmasked\u001b[0m\u001b[0;34m=\u001b[0m\u001b[0;32mFalse\u001b[0m\u001b[0;34m)\u001b[0m\u001b[0;34m:\u001b[0m\u001b[0;34m\u001b[0m\u001b[0;34m\u001b[0m\u001b[0m\n",
      "\u001b[0;32m~/Documents/GitHub/dataquality/.venv/lib/python3.9/site-packages/vaex/dataset.py\u001b[0m in \u001b[0;36m__init__\u001b[0;34m(self, datasets, resolver)\u001b[0m\n\u001b[1;32m    723\u001b[0m \u001b[0;34m\u001b[0m\u001b[0m\n\u001b[1;32m    724\u001b[0m             \u001b[0;32mfor\u001b[0m \u001b[0mname\u001b[0m \u001b[0;32min\u001b[0m \u001b[0mshape_list_map\u001b[0m\u001b[0;34m:\u001b[0m\u001b[0;34m\u001b[0m\u001b[0;34m\u001b[0m\u001b[0m\n\u001b[0;32m--> 725\u001b[0;31m                 \u001b[0mself\u001b[0m\u001b[0;34m.\u001b[0m\u001b[0m_schema\u001b[0m\u001b[0;34m[\u001b[0m\u001b[0mname\u001b[0m\u001b[0;34m]\u001b[0m\u001b[0;34m,\u001b[0m \u001b[0mself\u001b[0m\u001b[0;34m.\u001b[0m\u001b[0m_shapes\u001b[0m\u001b[0;34m[\u001b[0m\u001b[0mname\u001b[0m\u001b[0;34m]\u001b[0m \u001b[0;34m=\u001b[0m \u001b[0mresolver_flexible\u001b[0m\u001b[0;34m.\u001b[0m\u001b[0mresolve\u001b[0m\u001b[0;34m(\u001b[0m\u001b[0mschema_list_map\u001b[0m\u001b[0;34m[\u001b[0m\u001b[0mname\u001b[0m\u001b[0;34m]\u001b[0m\u001b[0;34m,\u001b[0m \u001b[0mshape_list_map\u001b[0m\u001b[0;34m[\u001b[0m\u001b[0mname\u001b[0m\u001b[0;34m]\u001b[0m\u001b[0;34m)\u001b[0m\u001b[0;34m\u001b[0m\u001b[0;34m\u001b[0m\u001b[0m\n\u001b[0m\u001b[1;32m    726\u001b[0m         \u001b[0;32melse\u001b[0m\u001b[0;34m:\u001b[0m\u001b[0;34m\u001b[0m\u001b[0;34m\u001b[0m\u001b[0m\n\u001b[1;32m    727\u001b[0m             \u001b[0;32mraise\u001b[0m \u001b[0mValueError\u001b[0m\u001b[0;34m(\u001b[0m\u001b[0;34mf'Invalid resolver {resolver}, choose between \"strict\" or \"flexible\"'\u001b[0m\u001b[0;34m)\u001b[0m\u001b[0;34m\u001b[0m\u001b[0;34m\u001b[0m\u001b[0m\n",
      "\u001b[0;32m~/Documents/GitHub/dataquality/.venv/lib/python3.9/site-packages/vaex/schema.py\u001b[0m in \u001b[0;36mresolve\u001b[0;34m(cls, types, shapes)\u001b[0m\n\u001b[1;32m     19\u001b[0m         \u001b[0mshapes\u001b[0m \u001b[0;34m=\u001b[0m \u001b[0;34m[\u001b[0m\u001b[0mk\u001b[0m \u001b[0;32mfor\u001b[0m \u001b[0mk\u001b[0m \u001b[0;32min\u001b[0m \u001b[0mshapes\u001b[0m \u001b[0;32mif\u001b[0m \u001b[0mk\u001b[0m \u001b[0;32mis\u001b[0m \u001b[0;32mnot\u001b[0m \u001b[0;32mNone\u001b[0m\u001b[0;34m]\u001b[0m  \u001b[0;31m# take out None\u001b[0m\u001b[0;34m\u001b[0m\u001b[0;34m\u001b[0m\u001b[0m\n\u001b[1;32m     20\u001b[0m         \u001b[0;32mif\u001b[0m \u001b[0mshapes\u001b[0m \u001b[0;32mand\u001b[0m \u001b[0many\u001b[0m\u001b[0;34m(\u001b[0m\u001b[0mshape\u001b[0m \u001b[0;34m!=\u001b[0m \u001b[0mshapes\u001b[0m\u001b[0;34m[\u001b[0m\u001b[0;36m0\u001b[0m\u001b[0;34m]\u001b[0m \u001b[0;32mfor\u001b[0m \u001b[0mshape\u001b[0m \u001b[0;32min\u001b[0m \u001b[0mshapes\u001b[0m\u001b[0;34m)\u001b[0m\u001b[0;34m:\u001b[0m\u001b[0;34m\u001b[0m\u001b[0;34m\u001b[0m\u001b[0m\n\u001b[0;32m---> 21\u001b[0;31m             \u001b[0;32mraise\u001b[0m \u001b[0mValueError\u001b[0m\u001b[0;34m(\u001b[0m\u001b[0;34mf'Unequal shapes are not supported yet, please open an issue on https://github.com/vaexio/vaex/issues'\u001b[0m\u001b[0;34m)\u001b[0m\u001b[0;34m\u001b[0m\u001b[0;34m\u001b[0m\u001b[0m\n\u001b[0m\u001b[1;32m     22\u001b[0m         \u001b[0;32mreturn\u001b[0m \u001b[0mdata_type\u001b[0m\u001b[0;34m,\u001b[0m \u001b[0mshapes\u001b[0m\u001b[0;34m[\u001b[0m\u001b[0;36m0\u001b[0m\u001b[0;34m]\u001b[0m\u001b[0;34m\u001b[0m\u001b[0;34m\u001b[0m\u001b[0m\n\u001b[1;32m     23\u001b[0m \u001b[0;34m\u001b[0m\u001b[0m\n",
      "\u001b[0;31mValueError\u001b[0m: Unequal shapes are not supported yet, please open an issue on https://github.com/vaexio/vaex/issues"
     ]
    }
   ],
   "source": [
    "df1 = vaex.from_dict({\"id\": list(range(0,10)), \"emb_1\": np.random.rand(10, 5), \"emb_2\": np.random.rand(10, 6)})\n",
    "df2 = vaex.from_dict({\"id\": list(range(10,20)), \"emb_1\": np.random.rand(10, 5), \"emb_2\": np.random.rand(10, 5)})\n",
    "\n",
    "\n",
    "missing_cols = set(df2.get_column_names()) - set(df1.get_column_names())\n",
    "print(missing_cols)\n",
    "for col in missing_cols:\n",
    "    df1[col] = np.zeros(shape=(10,5))\n",
    "\n",
    "\n",
    "vaex.concat([df1,df2])[:1].emb_1.values"
   ]
  },
  {
   "cell_type": "code",
   "execution_count": 182,
   "id": "213d1443",
   "metadata": {},
   "outputs": [
    {
     "data": {
      "text/plain": [
       "array([0., 0., 0., 0., 0.])"
      ]
     },
     "execution_count": 182,
     "metadata": {},
     "output_type": "execute_result"
    }
   ],
   "source": [
    "np.zeros(5)"
   ]
  },
  {
   "cell_type": "code",
   "execution_count": 175,
   "id": "4479383b",
   "metadata": {},
   "outputs": [
    {
     "data": {
      "text/plain": [
       "'cannot have more than test but had{}'"
      ]
     },
     "execution_count": 175,
     "metadata": {},
     "output_type": "execute_result"
    }
   ],
   "source": [
    "test = \"test\"\n",
    "err = (\n",
    "    f\"cannot have more than {test} but had\"\n",
    "    \"{}\"\n",
    ")\n",
    "\n",
    "err.format(100)\n",
    "err"
   ]
  },
  {
   "cell_type": "code",
   "execution_count": 56,
   "id": "1a8b68e5",
   "metadata": {},
   "outputs": [
    {
     "name": "stdout",
     "output_type": "stream",
     "text": [
      "input: 1234-6973_001_021221_1099Composite.pdf output: HerreidTim_Betty_XXXX-6973_001_021221_1099Composite.pdf\n"
     ]
    }
   ],
   "source": [
    "import os\n",
    "\n",
    "account_clients = {\"1234-6973\": \"Betty\"}\n",
    "CPA_clients = {\"HerreidTim\": [\"1234-6973\", \"1454-5933\"]}\n",
    "\n",
    "file_loc = \".\"\n",
    "must_be_pdf = True\n",
    "all_files = [file for file in os.listdir(file_loc) if os.path.isfile(file)]\n",
    "\n",
    "all_files = [\"1234-6973_001_021221_1099Composite.pdf\"]\n",
    "\n",
    "if must_be_pdf:\n",
    "    all_files = [file for file in all_files if file.endswith(\"pdf\")]\n",
    "    \n",
    "# Structure is 1234-5678_rest_of_name.pdf\n",
    "# First 8 digits are account #, first 4 must be redacted\n",
    "cleaned_files = []\n",
    "for file in all_files:\n",
    "    acct_number, *rest_of_file = file.split(\"_\")\n",
    "    rest_of_file = \"_\".join(rest_of_file)\n",
    "    redacted_acct_number = \"X\"*4 + acct_number[4:]\n",
    "    client = account_clients[acct_number]\n",
    "    CPA = [n for n, v in CPA_clients.items() if acct_number in v][0] # should only be 1\n",
    "    cleaned_files.append(f\"{CPA}_{client}_{redacted_acct_number}_{rest_of_file}\")  \n",
    "\n",
    "print('input:', all_files[0], 'output:', cleaned_files[0])"
   ]
  },
  {
   "cell_type": "code",
   "execution_count": null,
   "id": "25cd722a",
   "metadata": {},
   "outputs": [],
   "source": []
  }
 ],
 "metadata": {
  "kernelspec": {
   "display_name": "Python 3 (ipykernel)",
   "language": "python",
   "name": "python3"
  },
  "language_info": {
   "codemirror_mode": {
    "name": "ipython",
    "version": 3
   },
   "file_extension": ".py",
   "mimetype": "text/x-python",
   "name": "python",
   "nbconvert_exporter": "python",
   "pygments_lexer": "ipython3",
   "version": "3.9.6"
  }
 },
 "nbformat": 4,
 "nbformat_minor": 5
}
