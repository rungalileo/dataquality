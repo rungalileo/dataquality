{
 "cells": [
  {
   "cell_type": "code",
   "execution_count": 1,
   "id": "c49761dc-6330-4fca-af6b-1843441947c7",
   "metadata": {},
   "outputs": [],
   "source": [
    "import os\n",
    "os.environ['GALILEO_CONSOLE_URL']=\"http://localhost:8088\""
   ]
  },
  {
   "cell_type": "code",
   "execution_count": 2,
   "id": "ef6f76d6-1f13-407c-bad6-28d9e44bd69d",
   "metadata": {},
   "outputs": [],
   "source": [
    "# If you have cloned the dataquality repo and are running this from the docs folder, you can run this\n",
    "#!pip install -q ../../../../dataquality\n",
    "import dataquality"
   ]
  },
  {
   "cell_type": "code",
   "execution_count": 3,
   "id": "7ce730dc-a8ab-4d32-a07b-659861554ccf",
   "metadata": {},
   "outputs": [],
   "source": [
    "import requests\n",
    "\n",
    "pwd = \"MyPassword!123\"\n",
    "\n",
    "data={\n",
    "  \"email\": \"me@rungalileo.io\",\n",
    "  \"first_name\": \"Me\",\n",
    "  \"last_name\": \"Me\",\n",
    "  \"username\": \"Galileo\",\n",
    "  \"auth_method\": \"email\",\n",
    "  \"password\": pwd\n",
    "}\n",
    "\n",
    "r = requests.post(f'{dataquality.config.api_url}/users/admin', json=data)\n",
    "\n",
    "import os\n",
    "os.environ[\"GALILEO_USERNAME\"]=\"me@rungalileo.io\"\n",
    "os.environ[\"GALILEO_PASSWORD\"]=pwd"
   ]
  },
  {
   "cell_type": "code",
   "execution_count": 4,
   "id": "f6b2602e-afd9-4198-a65b-bbd1ff9f5b65",
   "metadata": {},
   "outputs": [],
   "source": [
    "from sklearn.datasets import fetch_20newsgroups\n",
    "import numpy as np\n",
    "import pandas as pd\n",
    "\n",
    "def create_dataset():\n",
    "    newsgroups = fetch_20newsgroups(subset=\"train\", remove=('headers', 'footers', 'quotes'))\n",
    "    dataset = pd.DataFrame()\n",
    "    dataset[\"text\"] = newsgroups.data\n",
    "    label_ind = newsgroups.target_names\n",
    "    dataset[\"label\"] = [label_ind[i] for i in newsgroups.target]\n",
    "    return dataset, label_ind\n",
    "\n",
    "def fetch_dataset(dataset, split, inference_name = None):\n",
    "    if split == \"training\":\n",
    "        return dataset[:100]\n",
    "    if split == \"test\":\n",
    "        return dataset[100:200]\n",
    "\n",
    "    if split == \"inference\":\n",
    "        if inference_name == \"cool\":\n",
    "            return dataset[200:300]\n",
    "        if inference_name == \"awesome\":\n",
    "            return dataset[300:400]\n",
    "\n",
    "    raise ValueError(\"Uh oh something happened\")\n",
    "\n",
    "# Generate fake model outputs\n",
    "def log_fake_data(dataset_len, log_num: int = 0):\n",
    "    num_rows = dataset_len // (log_num + 1)\n",
    "\n",
    "    emb = np.random.rand(num_rows, 800)\n",
    "    prob = np.random.rand(num_rows, 20)\n",
    "    for split in ['test','training']:\n",
    "        epoch = 0\n",
    "        \n",
    "        r = range(num_rows*log_num, num_rows*(log_num+1))\n",
    "        ids = list(r)\n",
    "        dataquality.log_model_outputs(emb=emb, probs=prob, split=split, epoch=epoch, ids=ids)"
   ]
  },
  {
   "cell_type": "code",
   "execution_count": 5,
   "id": "f684015b-50dc-4c34-814f-88cd2dea60c4",
   "metadata": {},
   "outputs": [
    {
     "data": {
      "text/plain": [
       "TextClassificationLoggerConfig(labels=None, tasks=None, observed_num_labels=0, tagging_schema=None, last_epoch=0, cur_epoch=None, cur_split=None, cur_inference_name=None, training_logged=False, validation_logged=False, test_logged=False, inference_logged=False)"
      ]
     },
     "execution_count": 5,
     "metadata": {},
     "output_type": "execute_result"
    }
   ],
   "source": [
    "dataquality.get_model_logger().logger_config"
   ]
  },
  {
   "cell_type": "markdown",
   "id": "b7b8c6fd-419d-4444-b5f6-4b4ec2515b88",
   "metadata": {
    "tags": []
   },
   "source": [
    "## First we run a train / test run"
   ]
  },
  {
   "cell_type": "code",
   "execution_count": 6,
   "id": "8d385523-fb0d-48ce-9c5a-91bd462cab88",
   "metadata": {},
   "outputs": [
    {
     "name": "stdout",
     "output_type": "stream",
     "text": [
      "📡 Retrieving run from existing project, gonzaga\n",
      "🛰 Connected to project, gonzaga, and run, duke.\n"
     ]
    },
    {
     "name": "stderr",
     "output_type": "stream",
     "text": [
      "/Users/elliottchartock/Code/dataquality/.venv/lib/python3.9/site-packages/dataquality/core/init.py:145: UserWarning: Run: gonzaga/duke already exists! The existing run will get overwritten on call to finish()!\n",
      "  warnings.warn(\n"
     ]
    },
    {
     "name": "stdout",
     "output_type": "stream",
     "text": [
      "Exporting input data [########################################] 100.00% elapsed time  :     0.01s =  0.0m =  0.0h\n",
      "Appending input data [########################################] 100.00% elapsed time  :     0.01s =  0.0m =  0.0h\n",
      " "
     ]
    },
    {
     "name": "stderr",
     "output_type": "stream",
     "text": [
      "/Users/elliottchartock/Code/dataquality/.venv/lib/python3.9/site-packages/dataquality/loggers/model_logger/text_classification.py:105: UserWarning: Usage of probs is deprecated, use logits instead\n",
      "  warnings.warn(\"Usage of probs is deprecated, use logits instead\")\n"
     ]
    },
    {
     "name": "stdout",
     "output_type": "stream",
     "text": [
      "☁️ Uploading Data\n",
      "Combining batches for upload\n"
     ]
    },
    {
     "data": {
      "application/vnd.jupyter.widget-view+json": {
       "model_id": "434c73aadcc949958a5b42018f502cd8",
       "version_major": 2,
       "version_minor": 0
      },
      "text/plain": [
       "  0%|          | 0/1 [00:00<?, ?it/s]"
      ]
     },
     "metadata": {},
     "output_type": "display_data"
    },
    {
     "data": {
      "application/vnd.jupyter.widget-view+json": {
       "model_id": "094ba2cf9d4b416ca7904a5eba3ac3e0",
       "version_major": 2,
       "version_minor": 0
      },
      "text/plain": [
       "training:   0%|          | 0/3 [00:00<?, ?it/s]"
      ]
     },
     "metadata": {},
     "output_type": "display_data"
    },
    {
     "name": "stdout",
     "output_type": "stream",
     "text": [
      "Writing data for upload [########################################] 100.00% elapsed time  :     0.05s =  0.0m =  0.0h\n",
      "Writing data for upload [########################################] 100.00% elapsed time  :     0.11s =  0.0m =  0.0h\n",
      "Writing data for upload [########################################] 100.00% elapsed time  :     0.19s =  0.0m =  0.0h\n",
      " Combining batches for upload\n"
     ]
    },
    {
     "data": {
      "application/vnd.jupyter.widget-view+json": {
       "model_id": "ad35cc5c2f2048ce86b80870bb28053f",
       "version_major": 2,
       "version_minor": 0
      },
      "text/plain": [
       "  0%|          | 0/1 [00:00<?, ?it/s]"
      ]
     },
     "metadata": {},
     "output_type": "display_data"
    },
    {
     "data": {
      "application/vnd.jupyter.widget-view+json": {
       "model_id": "8eed3a7bcc354de4accb36fa4e6e4a67",
       "version_major": 2,
       "version_minor": 0
      },
      "text/plain": [
       "test:   0%|          | 0/3 [00:00<?, ?it/s]"
      ]
     },
     "metadata": {},
     "output_type": "display_data"
    },
    {
     "name": "stdout",
     "output_type": "stream",
     "text": [
      "Writing data for upload [########################################] 100.00% elapsed time  :     0.05s =  0.0m =  0.0h\n",
      "Writing data for upload [########################################] 100.00% elapsed time  :     0.10s =  0.0m =  0.0h\n",
      "Writing data for upload [########################################] 100.00% elapsed time  :     0.19s =  0.0m =  0.0h\n",
      " 🧹 Cleaning up\n",
      "Job default successfully submitted. Results will be available soon at http://127.0.0.1:3000/insights?projectId=18bca69e-ba3e-4b3f-b504-820124538a35&runId=39fa57ff-9c14-4af7-bb35-21efed1cb1a3&split=training&taskType=0&activeDepHigh=1&activeDepLow=0\n"
     ]
    },
    {
     "data": {
      "text/plain": [
       "{'project_id': '18bca69e-ba3e-4b3f-b504-820124538a35',\n",
       " 'run_id': '39fa57ff-9c14-4af7-bb35-21efed1cb1a3',\n",
       " 'job_name': 'default',\n",
       " 'labels': ['alt.atheism',\n",
       "  'comp.graphics',\n",
       "  'comp.os.ms-windows.misc',\n",
       "  'comp.sys.ibm.pc.hardware',\n",
       "  'comp.sys.mac.hardware',\n",
       "  'comp.windows.x',\n",
       "  'misc.forsale',\n",
       "  'rec.autos',\n",
       "  'rec.motorcycles',\n",
       "  'rec.sport.baseball',\n",
       "  'rec.sport.hockey',\n",
       "  'sci.crypt',\n",
       "  'sci.electronics',\n",
       "  'sci.med',\n",
       "  'sci.space',\n",
       "  'soc.religion.christian',\n",
       "  'talk.politics.guns',\n",
       "  'talk.politics.mideast',\n",
       "  'talk.politics.misc',\n",
       "  'talk.religion.misc'],\n",
       " 'tasks': None,\n",
       " 'message': 'Processing dataquality!',\n",
       " 'link': 'http://127.0.0.1:3000/insights?projectId=18bca69e-ba3e-4b3f-b504-820124538a35&runId=39fa57ff-9c14-4af7-bb35-21efed1cb1a3&split=training&taskType=0&activeDepHigh=1&activeDepLow=0'}"
      ]
     },
     "execution_count": 6,
     "metadata": {},
     "output_type": "execute_result"
    }
   ],
   "source": [
    "dataquality.init(task_type=\"text_classification\", project_name=\"gonzaga\", run_name=\"duke\")\n",
    "base_dataset, labels = create_dataset()\n",
    "train_dataset = fetch_dataset(base_dataset, \"training\")\n",
    "dataquality.log_input_data(text=train_dataset['text'], labels=train_dataset['label'], split=\"training\")\n",
    "test_dataset = fetch_dataset(base_dataset, \"test\")\n",
    "dataquality.log_input_data(text=test_dataset['text'], labels=test_dataset['label'], split=\"test\")\n",
    "\n",
    "log_fake_data(len(train_dataset), 1)\n",
    "dataquality.set_labels_for_run(labels)\n",
    "dataquality.finish()"
   ]
  },
  {
   "cell_type": "code",
   "execution_count": null,
   "id": "53f21452-bab3-4336-bfbf-a9e5e133d03a",
   "metadata": {},
   "outputs": [],
   "source": []
  },
  {
   "cell_type": "markdown",
   "id": "04ed792b-a786-4760-b740-9a83d7d9f400",
   "metadata": {
    "tags": []
   },
   "source": [
    "## Now we run an inference run and see that it is appended"
   ]
  },
  {
   "cell_type": "code",
   "execution_count": 8,
   "id": "5af3a375-5fde-45ec-addf-657e504919c1",
   "metadata": {},
   "outputs": [
    {
     "name": "stdout",
     "output_type": "stream",
     "text": [
      "📡 Retrieving run from existing project, gonzaga\n",
      "🛰 Connected to project, gonzaga, and run, duke.\n"
     ]
    },
    {
     "name": "stderr",
     "output_type": "stream",
     "text": [
      "/Users/elliottchartock/Code/dataquality/.venv/lib/python3.9/site-packages/dataquality/core/init.py:145: UserWarning: Run: gonzaga/duke already exists! The existing run will get overwritten on call to finish()!\n",
      "  warnings.warn(\n"
     ]
    }
   ],
   "source": [
    "dataquality.init(task_type=\"text_classification\", project_name=\"gonzaga\", run_name=\"duke\")"
   ]
  },
  {
   "cell_type": "code",
   "execution_count": 9,
   "id": "cd45d726-0cce-4eae-97f1-e5d39d8ea73b",
   "metadata": {},
   "outputs": [],
   "source": [
    "split = \"inference\"\n",
    "INFERENCE_SPLITS = [\"cool\", \"awesome\"]"
   ]
  },
  {
   "cell_type": "code",
   "execution_count": 10,
   "id": "2eed82d0-17d1-4909-8cd6-40b10cdc09b5",
   "metadata": {},
   "outputs": [],
   "source": [
    "base_dataset, labels = create_dataset()"
   ]
  },
  {
   "cell_type": "code",
   "execution_count": 11,
   "id": "8b4c6ef5-1bd2-45f6-86d6-3a6f6243e09a",
   "metadata": {},
   "outputs": [
    {
     "data": {
      "text/plain": [
       "(                                                text                  label\n",
       " 0  I was wondering if anyone out there could enli...              rec.autos\n",
       " 1  A fair number of brave souls who upgraded thei...  comp.sys.mac.hardware\n",
       " 2  well folks, my mac plus finally gave up the gh...  comp.sys.mac.hardware\n",
       " 3  \\nDo you have Weitek's address/phone number?  ...          comp.graphics\n",
       " 4  From article <C5owCB.n3p@world.std.com>, by to...              sci.space,\n",
       " 11314)"
      ]
     },
     "execution_count": 11,
     "metadata": {},
     "output_type": "execute_result"
    }
   ],
   "source": [
    "base_dataset.head(), len(base_dataset)"
   ]
  },
  {
   "cell_type": "code",
   "execution_count": 12,
   "id": "272b1e8f-6c29-47e2-bbbb-42c64bce94a6",
   "metadata": {},
   "outputs": [],
   "source": [
    "cool_dataset = fetch_dataset(base_dataset, split, \"cool\")\n",
    "awesome_dataset = fetch_dataset(base_dataset, split, \"awesome\")\n",
    "datasets = {\n",
    "    \"cool\": cool_dataset,\n",
    "    \"awesome\": awesome_dataset\n",
    "}"
   ]
  },
  {
   "cell_type": "code",
   "execution_count": 14,
   "id": "708c8ddc-c4a2-4fc2-8927-8711162f7ac6",
   "metadata": {},
   "outputs": [
    {
     "data": {
      "text/html": [
       "<div>\n",
       "<style scoped>\n",
       "    .dataframe tbody tr th:only-of-type {\n",
       "        vertical-align: middle;\n",
       "    }\n",
       "\n",
       "    .dataframe tbody tr th {\n",
       "        vertical-align: top;\n",
       "    }\n",
       "\n",
       "    .dataframe thead th {\n",
       "        text-align: right;\n",
       "    }\n",
       "</style>\n",
       "<table border=\"1\" class=\"dataframe\">\n",
       "  <thead>\n",
       "    <tr style=\"text-align: right;\">\n",
       "      <th></th>\n",
       "      <th>text</th>\n",
       "      <th>label</th>\n",
       "    </tr>\n",
       "  </thead>\n",
       "  <tbody>\n",
       "    <tr>\n",
       "      <th>300</th>\n",
       "      <td>\\nI was at a Cincinnati Cyclones game a year a...</td>\n",
       "      <td>rec.sport.hockey</td>\n",
       "    </tr>\n",
       "    <tr>\n",
       "      <th>301</th>\n",
       "      <td></td>\n",
       "      <td>sci.crypt</td>\n",
       "    </tr>\n",
       "    <tr>\n",
       "      <th>302</th>\n",
       "      <td>Is it possible to do a \"wheelie\" on a motorcyc...</td>\n",
       "      <td>rec.motorcycles</td>\n",
       "    </tr>\n",
       "    <tr>\n",
       "      <th>303</th>\n",
       "      <td>Hello src readers,\\n\\nAgain the misconception ...</td>\n",
       "      <td>soc.religion.christian</td>\n",
       "    </tr>\n",
       "    <tr>\n",
       "      <th>304</th>\n",
       "      <td>\\nThere are ALWAYS scalpers with tickets outsi...</td>\n",
       "      <td>rec.sport.hockey</td>\n",
       "    </tr>\n",
       "  </tbody>\n",
       "</table>\n",
       "</div>"
      ],
      "text/plain": [
       "                                                  text                   label\n",
       "300  \\nI was at a Cincinnati Cyclones game a year a...        rec.sport.hockey\n",
       "301                                                                  sci.crypt\n",
       "302  Is it possible to do a \"wheelie\" on a motorcyc...         rec.motorcycles\n",
       "303  Hello src readers,\\n\\nAgain the misconception ...  soc.religion.christian\n",
       "304  \\nThere are ALWAYS scalpers with tickets outsi...        rec.sport.hockey"
      ]
     },
     "execution_count": 14,
     "metadata": {},
     "output_type": "execute_result"
    }
   ],
   "source": [
    "awesome_dataset.head()"
   ]
  },
  {
   "cell_type": "code",
   "execution_count": 15,
   "id": "4a7a2aea-ed58-46b0-ab57-2318c4ccdab0",
   "metadata": {},
   "outputs": [
    {
     "name": "stdout",
     "output_type": "stream",
     "text": [
      "Exporting input data [########################################] 100.00% elapsed time  :     0.00s =  0.0m =  0.0h\n",
      "Appending input data [########################################] 100.00% elapsed time  :     0.01s =  0.0m =  0.0h\n",
      " "
     ]
    }
   ],
   "source": [
    "i = 0\n",
    "for inference_name in INFERENCE_SPLITS:\n",
    "    ids = list(range(i * 100, i * 100 + 100))\n",
    "    # Inference doesn't expect labels, but does need an inference name\n",
    "    dataquality.log_input_data(\n",
    "        text=datasets[inference_name][\"text\"],\n",
    "        split=split,\n",
    "        inference_name=inference_name,\n",
    "        ids=ids\n",
    "    )\n",
    "    i += 1"
   ]
  },
  {
   "cell_type": "code",
   "execution_count": 16,
   "id": "8fbd0769-5ff6-4789-8779-3e943ef884f4",
   "metadata": {},
   "outputs": [],
   "source": [
    "import numpy as np\n",
    "\n",
    "def get_model_outputs(data, split, inference_name, i):\n",
    "    num_rows = len(data)\n",
    "    logits = np.random.rand(num_rows, 20) # fake logits\n",
    "    emb = np.random.rand(num_rows, 768) # fake embeddings\n",
    "    ids = list(range(i * 100, i * 100 + 100))\n",
    "\n",
    "    return (emb, logits, ids)"
   ]
  },
  {
   "cell_type": "code",
   "execution_count": 19,
   "id": "a2cb0bbf-8d46-4417-9998-b25aeb634735",
   "metadata": {},
   "outputs": [],
   "source": [
    "i = 0\n",
    "for inference_name in INFERENCE_SPLITS:\n",
    "    # Set split takes in an optional inference name\n",
    "    dataquality.set_split(split, inference_name=inference_name)\n",
    "\n",
    "    emb, logits, ids = get_model_outputs(cool_dataset, split, inference_name, i)\n",
    "    dataquality.log_model_outputs(emb=emb, logits=logits, ids=ids, split=\"inference\")\n",
    "    i += 1"
   ]
  },
  {
   "cell_type": "code",
   "execution_count": 20,
   "id": "6d764d8b-409e-4273-909a-653695ca5239",
   "metadata": {},
   "outputs": [
    {
     "name": "stdout",
     "output_type": "stream",
     "text": [
      "\u001b[01;34m.galileo/logs/18bca69e-ba3e-4b3f-b504-820124538a35/39fa57ff-9c14-4af7-bb35-21efed1cb1a3\u001b[0m\n",
      "├── \u001b[01;34minference\u001b[0m\n",
      "│   ├── \u001b[01;34mawesome\u001b[0m\n",
      "│   │   └── \u001b[00m03a4d3c6231e.hdf5\u001b[0m\n",
      "│   └── \u001b[01;34mcool\u001b[0m\n",
      "│       └── \u001b[00m1fcd01fb7326.hdf5\u001b[0m\n",
      "└── \u001b[00minput_data.arrow\u001b[0m\n",
      "\n",
      "3 directories, 3 files\n"
     ]
    }
   ],
   "source": [
    "!tree .galileo/logs/{dataquality.config.current_project_id}/{dataquality.config.current_run_id}"
   ]
  },
  {
   "cell_type": "code",
   "execution_count": 21,
   "id": "751a88aa-ed04-434f-a2d1-e6a09922baeb",
   "metadata": {
    "tags": []
   },
   "outputs": [
    {
     "name": "stdout",
     "output_type": "stream",
     "text": [
      "☁️ Uploading Data\n",
      "Combining batches for upload\n"
     ]
    },
    {
     "data": {
      "application/vnd.jupyter.widget-view+json": {
       "model_id": "702554de20624c7f82837985ca81d3bc",
       "version_major": 2,
       "version_minor": 0
      },
      "text/plain": [
       "  0%|          | 0/1 [00:00<?, ?it/s]"
      ]
     },
     "metadata": {},
     "output_type": "display_data"
    },
    {
     "data": {
      "application/vnd.jupyter.widget-view+json": {
       "model_id": "2caf56c0e3294eb7904a0046784b9039",
       "version_major": 2,
       "version_minor": 0
      },
      "text/plain": [
       "inference:   0%|          | 0/3 [00:00<?, ?it/s]"
      ]
     },
     "metadata": {},
     "output_type": "display_data"
    },
    {
     "name": "stdout",
     "output_type": "stream",
     "text": [
      "Writing data for upload [########################################] 100.00% elapsed time  :     0.05s =  0.0m =  0.0h\n",
      "Writing data for upload [########################################] 100.00% elapsed time  :     0.05s =  0.0m =  0.0h\n",
      "Writing data for upload [########################################] 100.00% elapsed time  :     0.26s =  0.0m =  0.0h\n",
      " Combining batches for upload\n"
     ]
    },
    {
     "data": {
      "application/vnd.jupyter.widget-view+json": {
       "model_id": "63b937da79784b57b75ca296e3ef685a",
       "version_major": 2,
       "version_minor": 0
      },
      "text/plain": [
       "  0%|          | 0/1 [00:00<?, ?it/s]"
      ]
     },
     "metadata": {},
     "output_type": "display_data"
    },
    {
     "data": {
      "application/vnd.jupyter.widget-view+json": {
       "model_id": "9df0e51d00234b4a85933fc9c9e08087",
       "version_major": 2,
       "version_minor": 0
      },
      "text/plain": [
       "inference:   0%|          | 0/3 [00:00<?, ?it/s]"
      ]
     },
     "metadata": {},
     "output_type": "display_data"
    },
    {
     "name": "stdout",
     "output_type": "stream",
     "text": [
      "Writing data for upload [########################################] 100.00% elapsed time  :     0.05s =  0.0m =  0.0h\n",
      "Writing data for upload [########################################] 100.00% elapsed time  :     0.06s =  0.0m =  0.0h\n",
      "Writing data for upload [########################################] 100.00% elapsed time  :     0.26s =  0.0m =  0.0h\n",
      " 🧹 Cleaning up\n",
      "Job default successfully submitted. Results will be available soon at http://127.0.0.1:3000/insights?projectId=18bca69e-ba3e-4b3f-b504-820124538a35&runId=39fa57ff-9c14-4af7-bb35-21efed1cb1a3&split=training&taskType=0&activeDepHigh=1&activeDepLow=0\n"
     ]
    },
    {
     "data": {
      "text/plain": [
       "{'project_id': '18bca69e-ba3e-4b3f-b504-820124538a35',\n",
       " 'run_id': '39fa57ff-9c14-4af7-bb35-21efed1cb1a3',\n",
       " 'job_name': 'default',\n",
       " 'labels': ['alt.atheism',\n",
       "  'comp.graphics',\n",
       "  'comp.os.ms-windows.misc',\n",
       "  'comp.sys.ibm.pc.hardware',\n",
       "  'comp.sys.mac.hardware',\n",
       "  'comp.windows.x',\n",
       "  'misc.forsale',\n",
       "  'rec.autos',\n",
       "  'rec.motorcycles',\n",
       "  'rec.sport.baseball',\n",
       "  'rec.sport.hockey',\n",
       "  'sci.crypt',\n",
       "  'sci.electronics',\n",
       "  'sci.med',\n",
       "  'sci.space',\n",
       "  'soc.religion.christian',\n",
       "  'talk.politics.guns',\n",
       "  'talk.politics.mideast',\n",
       "  'talk.politics.misc',\n",
       "  'talk.religion.misc'],\n",
       " 'tasks': None,\n",
       " 'message': 'Processing dataquality!',\n",
       " 'link': 'http://127.0.0.1:3000/insights?projectId=18bca69e-ba3e-4b3f-b504-820124538a35&runId=39fa57ff-9c14-4af7-bb35-21efed1cb1a3&split=training&taskType=0&activeDepHigh=1&activeDepLow=0'}"
      ]
     },
     "execution_count": 21,
     "metadata": {},
     "output_type": "execute_result"
    }
   ],
   "source": [
    "# Finish will kickoff job with name \"inference\"\n",
    "dataquality.set_labels_for_run(labels)\n",
    "dataquality.finish()\n"
   ]
  },
  {
   "cell_type": "code",
   "execution_count": null,
   "id": "b58fd8aa-02b1-4b32-989b-328ae070ae7f",
   "metadata": {},
   "outputs": [],
   "source": []
  },
  {
   "cell_type": "markdown",
   "id": "745037d7-ce0e-4ef1-b3d9-3bb4b3b50945",
   "metadata": {
    "tags": []
   },
   "source": [
    "## Now we log another training run to test that inference data is wiped"
   ]
  },
  {
   "cell_type": "code",
   "execution_count": 22,
   "id": "40bd52b8-fe18-4ed5-bf30-816dc6655ec5",
   "metadata": {},
   "outputs": [
    {
     "name": "stdout",
     "output_type": "stream",
     "text": [
      "📡 Retrieving run from existing project, gonzaga\n",
      "🛰 Connected to project, gonzaga, and run, duke.\n"
     ]
    },
    {
     "name": "stderr",
     "output_type": "stream",
     "text": [
      "/Users/elliottchartock/Code/dataquality/.venv/lib/python3.9/site-packages/dataquality/core/init.py:145: UserWarning: Run: gonzaga/duke already exists! The existing run will get overwritten on call to finish()!\n",
      "  warnings.warn(\n"
     ]
    },
    {
     "name": "stdout",
     "output_type": "stream",
     "text": [
      "Exporting input data [########################################] 100.00% elapsed time  :     0.00s =  0.0m =  0.0h\n",
      "Appending input data [########################################] 100.00% elapsed time  :     0.01s =  0.0m =  0.0h\n",
      " "
     ]
    },
    {
     "name": "stderr",
     "output_type": "stream",
     "text": [
      "/Users/elliottchartock/Code/dataquality/.venv/lib/python3.9/site-packages/dataquality/loggers/model_logger/text_classification.py:105: UserWarning: Usage of probs is deprecated, use logits instead\n",
      "  warnings.warn(\"Usage of probs is deprecated, use logits instead\")\n"
     ]
    },
    {
     "name": "stdout",
     "output_type": "stream",
     "text": [
      "☁️ Uploading Data\n",
      "Combining batches for upload\n"
     ]
    },
    {
     "data": {
      "application/vnd.jupyter.widget-view+json": {
       "model_id": "a2d0ac3cf7244380b2250bb11c3f103c",
       "version_major": 2,
       "version_minor": 0
      },
      "text/plain": [
       "  0%|          | 0/1 [00:00<?, ?it/s]"
      ]
     },
     "metadata": {},
     "output_type": "display_data"
    },
    {
     "data": {
      "application/vnd.jupyter.widget-view+json": {
       "model_id": "0b518d980f2d4bca9065f96f4b8630b2",
       "version_major": 2,
       "version_minor": 0
      },
      "text/plain": [
       "training:   0%|          | 0/3 [00:00<?, ?it/s]"
      ]
     },
     "metadata": {},
     "output_type": "display_data"
    },
    {
     "name": "stdout",
     "output_type": "stream",
     "text": [
      "Writing data for upload [########################################] 100.00% elapsed time  :     0.04s =  0.0m =  0.0h\n",
      "Writing data for upload [########################################] 100.00% elapsed time  :     0.10s =  0.0m =  0.0h\n",
      "Writing data for upload [########################################] 100.00% elapsed time  :     0.24s =  0.0m =  0.0h\n",
      " Combining batches for upload\n"
     ]
    },
    {
     "data": {
      "application/vnd.jupyter.widget-view+json": {
       "model_id": "39abca8fb1e542eab237744573739d95",
       "version_major": 2,
       "version_minor": 0
      },
      "text/plain": [
       "  0%|          | 0/1 [00:00<?, ?it/s]"
      ]
     },
     "metadata": {},
     "output_type": "display_data"
    },
    {
     "data": {
      "application/vnd.jupyter.widget-view+json": {
       "model_id": "7792828b22d6412e962dba842fc83563",
       "version_major": 2,
       "version_minor": 0
      },
      "text/plain": [
       "test:   0%|          | 0/3 [00:00<?, ?it/s]"
      ]
     },
     "metadata": {},
     "output_type": "display_data"
    },
    {
     "name": "stdout",
     "output_type": "stream",
     "text": [
      "Writing data for upload [########################################] 100.00% elapsed time  :     0.05s =  0.0m =  0.0h\n",
      "Writing data for upload [########################################] 100.00% elapsed time  :     0.12s =  0.0m =  0.0h\n",
      "Writing data for upload [########################################] 100.00% elapsed time  :     0.20s =  0.0m =  0.0h\n",
      " 🧹 Cleaning up\n",
      "Job default successfully submitted. Results will be available soon at http://127.0.0.1:3000/insights?projectId=18bca69e-ba3e-4b3f-b504-820124538a35&runId=39fa57ff-9c14-4af7-bb35-21efed1cb1a3&split=training&taskType=0&activeDepHigh=1&activeDepLow=0\n"
     ]
    },
    {
     "data": {
      "text/plain": [
       "{'project_id': '18bca69e-ba3e-4b3f-b504-820124538a35',\n",
       " 'run_id': '39fa57ff-9c14-4af7-bb35-21efed1cb1a3',\n",
       " 'job_name': 'default',\n",
       " 'labels': ['alt.atheism',\n",
       "  'comp.graphics',\n",
       "  'comp.os.ms-windows.misc',\n",
       "  'comp.sys.ibm.pc.hardware',\n",
       "  'comp.sys.mac.hardware',\n",
       "  'comp.windows.x',\n",
       "  'misc.forsale',\n",
       "  'rec.autos',\n",
       "  'rec.motorcycles',\n",
       "  'rec.sport.baseball',\n",
       "  'rec.sport.hockey',\n",
       "  'sci.crypt',\n",
       "  'sci.electronics',\n",
       "  'sci.med',\n",
       "  'sci.space',\n",
       "  'soc.religion.christian',\n",
       "  'talk.politics.guns',\n",
       "  'talk.politics.mideast',\n",
       "  'talk.politics.misc',\n",
       "  'talk.religion.misc'],\n",
       " 'tasks': None,\n",
       " 'message': 'Processing dataquality!',\n",
       " 'link': 'http://127.0.0.1:3000/insights?projectId=18bca69e-ba3e-4b3f-b504-820124538a35&runId=39fa57ff-9c14-4af7-bb35-21efed1cb1a3&split=training&taskType=0&activeDepHigh=1&activeDepLow=0'}"
      ]
     },
     "execution_count": 22,
     "metadata": {},
     "output_type": "execute_result"
    }
   ],
   "source": [
    "dataquality.init(task_type=\"text_classification\", project_name=\"gonzaga\", run_name=\"duke\")\n",
    "base_dataset, labels = create_dataset()\n",
    "train_dataset = fetch_dataset(base_dataset, \"training\")\n",
    "dataquality.log_input_data(text=train_dataset['text'], labels=train_dataset['label'], split=\"training\")\n",
    "test_dataset = fetch_dataset(base_dataset, \"test\")\n",
    "dataquality.log_input_data(text=test_dataset['text'], labels=test_dataset['label'], split=\"test\")\n",
    "\n",
    "log_fake_data(len(train_dataset), 1)\n",
    "dataquality.set_labels_for_run(labels)\n",
    "dataquality.finish()"
   ]
  },
  {
   "cell_type": "code",
   "execution_count": null,
   "id": "a316a5ae-f865-45f4-b413-90c77e81a4f8",
   "metadata": {},
   "outputs": [],
   "source": []
  }
 ],
 "metadata": {
  "kernelspec": {
   "display_name": "Python 3 (ipykernel)",
   "language": "python",
   "name": "python3"
  },
  "language_info": {
   "codemirror_mode": {
    "name": "ipython",
    "version": 3
   },
   "file_extension": ".py",
   "mimetype": "text/x-python",
   "name": "python",
   "nbconvert_exporter": "python",
   "pygments_lexer": "ipython3",
   "version": "3.9.6"
  }
 },
 "nbformat": 4,
 "nbformat_minor": 5
}
